{
  "cells": [
    {
      "cell_type": "markdown",
      "id": "eca71ec5",
      "metadata": {
        "deletable": false,
        "editable": false,
        "id": "eca71ec5"
      },
      "source": [
        "# Исследование надежности заемщиков\n"
      ]
    },
    {
      "cell_type": "markdown",
      "id": "a0e7754c",
      "metadata": {
        "deletable": false,
        "editable": false,
        "id": "a0e7754c"
      },
      "source": [
        "**Цель исследования**\n",
        "\n",
        "\n",
        "Нужно разобраться, как разные характеристика клиента влияют на факт погашения кредита в срок.\n",
        "Результаты исследования будут учтены при построении модели кредитного скоринга — специальной системы, которая оценивает способность потенциального заёмщика вернуть кредит банку.\n",
        "\n",
        "\n",
        "\n",
        "**Заказчик**\n",
        "\n",
        "\n",
        "Кредитный отдел банка.\n",
        "\n",
        "\n",
        "\n",
        "**Вопросы, на которые необходимо ответить:**\n",
        "\n",
        "Есть ли зависимость между количеством детей и возвратом кредита в срок?\n",
        "Есть ли зависимость между семейным положением и возвратом кредита в срок?\n",
        "Есть ли зависимость между уровнем дохода и возвратом кредита в срок?\n",
        "Как разные цели кредита влияют на его возврат в срок?\n",
        "Ход исследования\n",
        "\n",
        "Входные данные от банка — статистика о платёжеспособности клиентов\n",
        "\n",
        "О качестве данных ничего не известно. Поэтому перед проверкой гипотез понадобится обзор данных.\n",
        "\n",
        "Мы проверим данные на ошибки и оценим их влияние на исследование. Затем, на этапе предобработки поищем возможность исправить самые критичные ошибки.\n",
        "\n",
        "\n",
        "\n",
        "**Таким образом, исследование пройдёт в три этапа:**\n",
        "\n",
        "\n",
        "Обзор данных.\n",
        "Предобработка данных.\n",
        "Ответы на вопросы.\n"
      ]
    },
    {
      "cell_type": "markdown",
      "id": "fe797348",
      "metadata": {
        "deletable": false,
        "editable": false,
        "id": "fe797348"
      },
      "source": [
        "## Откройте таблицу и изучите общую информацию о данных"
      ]
    },
    {
      "cell_type": "markdown",
      "id": "5e6763e7",
      "metadata": {
        "deletable": false,
        "editable": false,
        "id": "5e6763e7"
      },
      "source": [
        "**Задание 1. Импортируйте библиотеку pandas. Считайте данные из csv-файла в датафрейм и сохраните в переменную `data`. Путь к файлу:**\n",
        "\n",
        "`/datasets/data.csv`"
      ]
    },
    {
      "cell_type": "code",
      "execution_count": null,
      "id": "7ffe2233",
      "metadata": {
        "deletable": false,
        "id": "7ffe2233"
      },
      "outputs": [],
      "source": [
        "import pandas as pd\n",
        "\n",
        "try:\n",
        "    data = pd.read_csv('/datasets/data.csv')\n",
        "except:\n",
        "    data = pd.read_csv('data.csv')"
      ]
    },
    {
      "cell_type": "markdown",
      "id": "2edeec1b",
      "metadata": {
        "deletable": false,
        "editable": false,
        "id": "2edeec1b"
      },
      "source": [
        "**Выводим на просмотр первые 20 строк таблицы**"
      ]
    },
    {
      "cell_type": "code",
      "execution_count": null,
      "id": "2f79d842",
      "metadata": {
        "deletable": false,
        "id": "2f79d842",
        "outputId": "1a8f3ef2-d323-4ec2-ddf7-89670b5944c4"
      },
      "outputs": [
        {
          "data": {
            "text/html": [
              "<div>\n",
              "<style scoped>\n",
              "    .dataframe tbody tr th:only-of-type {\n",
              "        vertical-align: middle;\n",
              "    }\n",
              "\n",
              "    .dataframe tbody tr th {\n",
              "        vertical-align: top;\n",
              "    }\n",
              "\n",
              "    .dataframe thead th {\n",
              "        text-align: right;\n",
              "    }\n",
              "</style>\n",
              "<table border=\"1\" class=\"dataframe\">\n",
              "  <thead>\n",
              "    <tr style=\"text-align: right;\">\n",
              "      <th></th>\n",
              "      <th>children</th>\n",
              "      <th>days_employed</th>\n",
              "      <th>dob_years</th>\n",
              "      <th>education</th>\n",
              "      <th>education_id</th>\n",
              "      <th>family_status</th>\n",
              "      <th>family_status_id</th>\n",
              "      <th>gender</th>\n",
              "      <th>income_type</th>\n",
              "      <th>debt</th>\n",
              "      <th>total_income</th>\n",
              "      <th>purpose</th>\n",
              "    </tr>\n",
              "  </thead>\n",
              "  <tbody>\n",
              "    <tr>\n",
              "      <th>0</th>\n",
              "      <td>1</td>\n",
              "      <td>-8437.673028</td>\n",
              "      <td>42</td>\n",
              "      <td>высшее</td>\n",
              "      <td>0</td>\n",
              "      <td>женат / замужем</td>\n",
              "      <td>0</td>\n",
              "      <td>F</td>\n",
              "      <td>сотрудник</td>\n",
              "      <td>0</td>\n",
              "      <td>253875.639453</td>\n",
              "      <td>покупка жилья</td>\n",
              "    </tr>\n",
              "    <tr>\n",
              "      <th>1</th>\n",
              "      <td>1</td>\n",
              "      <td>-4024.803754</td>\n",
              "      <td>36</td>\n",
              "      <td>среднее</td>\n",
              "      <td>1</td>\n",
              "      <td>женат / замужем</td>\n",
              "      <td>0</td>\n",
              "      <td>F</td>\n",
              "      <td>сотрудник</td>\n",
              "      <td>0</td>\n",
              "      <td>112080.014102</td>\n",
              "      <td>приобретение автомобиля</td>\n",
              "    </tr>\n",
              "    <tr>\n",
              "      <th>2</th>\n",
              "      <td>0</td>\n",
              "      <td>-5623.422610</td>\n",
              "      <td>33</td>\n",
              "      <td>Среднее</td>\n",
              "      <td>1</td>\n",
              "      <td>женат / замужем</td>\n",
              "      <td>0</td>\n",
              "      <td>M</td>\n",
              "      <td>сотрудник</td>\n",
              "      <td>0</td>\n",
              "      <td>145885.952297</td>\n",
              "      <td>покупка жилья</td>\n",
              "    </tr>\n",
              "    <tr>\n",
              "      <th>3</th>\n",
              "      <td>3</td>\n",
              "      <td>-4124.747207</td>\n",
              "      <td>32</td>\n",
              "      <td>среднее</td>\n",
              "      <td>1</td>\n",
              "      <td>женат / замужем</td>\n",
              "      <td>0</td>\n",
              "      <td>M</td>\n",
              "      <td>сотрудник</td>\n",
              "      <td>0</td>\n",
              "      <td>267628.550329</td>\n",
              "      <td>дополнительное образование</td>\n",
              "    </tr>\n",
              "    <tr>\n",
              "      <th>4</th>\n",
              "      <td>0</td>\n",
              "      <td>340266.072047</td>\n",
              "      <td>53</td>\n",
              "      <td>среднее</td>\n",
              "      <td>1</td>\n",
              "      <td>гражданский брак</td>\n",
              "      <td>1</td>\n",
              "      <td>F</td>\n",
              "      <td>пенсионер</td>\n",
              "      <td>0</td>\n",
              "      <td>158616.077870</td>\n",
              "      <td>сыграть свадьбу</td>\n",
              "    </tr>\n",
              "    <tr>\n",
              "      <th>5</th>\n",
              "      <td>0</td>\n",
              "      <td>-926.185831</td>\n",
              "      <td>27</td>\n",
              "      <td>высшее</td>\n",
              "      <td>0</td>\n",
              "      <td>гражданский брак</td>\n",
              "      <td>1</td>\n",
              "      <td>M</td>\n",
              "      <td>компаньон</td>\n",
              "      <td>0</td>\n",
              "      <td>255763.565419</td>\n",
              "      <td>покупка жилья</td>\n",
              "    </tr>\n",
              "    <tr>\n",
              "      <th>6</th>\n",
              "      <td>0</td>\n",
              "      <td>-2879.202052</td>\n",
              "      <td>43</td>\n",
              "      <td>высшее</td>\n",
              "      <td>0</td>\n",
              "      <td>женат / замужем</td>\n",
              "      <td>0</td>\n",
              "      <td>F</td>\n",
              "      <td>компаньон</td>\n",
              "      <td>0</td>\n",
              "      <td>240525.971920</td>\n",
              "      <td>операции с жильем</td>\n",
              "    </tr>\n",
              "    <tr>\n",
              "      <th>7</th>\n",
              "      <td>0</td>\n",
              "      <td>-152.779569</td>\n",
              "      <td>50</td>\n",
              "      <td>СРЕДНЕЕ</td>\n",
              "      <td>1</td>\n",
              "      <td>женат / замужем</td>\n",
              "      <td>0</td>\n",
              "      <td>M</td>\n",
              "      <td>сотрудник</td>\n",
              "      <td>0</td>\n",
              "      <td>135823.934197</td>\n",
              "      <td>образование</td>\n",
              "    </tr>\n",
              "    <tr>\n",
              "      <th>8</th>\n",
              "      <td>2</td>\n",
              "      <td>-6929.865299</td>\n",
              "      <td>35</td>\n",
              "      <td>ВЫСШЕЕ</td>\n",
              "      <td>0</td>\n",
              "      <td>гражданский брак</td>\n",
              "      <td>1</td>\n",
              "      <td>F</td>\n",
              "      <td>сотрудник</td>\n",
              "      <td>0</td>\n",
              "      <td>95856.832424</td>\n",
              "      <td>на проведение свадьбы</td>\n",
              "    </tr>\n",
              "    <tr>\n",
              "      <th>9</th>\n",
              "      <td>0</td>\n",
              "      <td>-2188.756445</td>\n",
              "      <td>41</td>\n",
              "      <td>среднее</td>\n",
              "      <td>1</td>\n",
              "      <td>женат / замужем</td>\n",
              "      <td>0</td>\n",
              "      <td>M</td>\n",
              "      <td>сотрудник</td>\n",
              "      <td>0</td>\n",
              "      <td>144425.938277</td>\n",
              "      <td>покупка жилья для семьи</td>\n",
              "    </tr>\n",
              "    <tr>\n",
              "      <th>10</th>\n",
              "      <td>2</td>\n",
              "      <td>-4171.483647</td>\n",
              "      <td>36</td>\n",
              "      <td>высшее</td>\n",
              "      <td>0</td>\n",
              "      <td>женат / замужем</td>\n",
              "      <td>0</td>\n",
              "      <td>M</td>\n",
              "      <td>компаньон</td>\n",
              "      <td>0</td>\n",
              "      <td>113943.491460</td>\n",
              "      <td>покупка недвижимости</td>\n",
              "    </tr>\n",
              "    <tr>\n",
              "      <th>11</th>\n",
              "      <td>0</td>\n",
              "      <td>-792.701887</td>\n",
              "      <td>40</td>\n",
              "      <td>среднее</td>\n",
              "      <td>1</td>\n",
              "      <td>женат / замужем</td>\n",
              "      <td>0</td>\n",
              "      <td>F</td>\n",
              "      <td>сотрудник</td>\n",
              "      <td>0</td>\n",
              "      <td>77069.234271</td>\n",
              "      <td>покупка коммерческой недвижимости</td>\n",
              "    </tr>\n",
              "    <tr>\n",
              "      <th>12</th>\n",
              "      <td>0</td>\n",
              "      <td>NaN</td>\n",
              "      <td>65</td>\n",
              "      <td>среднее</td>\n",
              "      <td>1</td>\n",
              "      <td>гражданский брак</td>\n",
              "      <td>1</td>\n",
              "      <td>M</td>\n",
              "      <td>пенсионер</td>\n",
              "      <td>0</td>\n",
              "      <td>NaN</td>\n",
              "      <td>сыграть свадьбу</td>\n",
              "    </tr>\n",
              "    <tr>\n",
              "      <th>13</th>\n",
              "      <td>0</td>\n",
              "      <td>-1846.641941</td>\n",
              "      <td>54</td>\n",
              "      <td>неоконченное высшее</td>\n",
              "      <td>2</td>\n",
              "      <td>женат / замужем</td>\n",
              "      <td>0</td>\n",
              "      <td>F</td>\n",
              "      <td>сотрудник</td>\n",
              "      <td>0</td>\n",
              "      <td>130458.228857</td>\n",
              "      <td>приобретение автомобиля</td>\n",
              "    </tr>\n",
              "    <tr>\n",
              "      <th>14</th>\n",
              "      <td>0</td>\n",
              "      <td>-1844.956182</td>\n",
              "      <td>56</td>\n",
              "      <td>высшее</td>\n",
              "      <td>0</td>\n",
              "      <td>гражданский брак</td>\n",
              "      <td>1</td>\n",
              "      <td>F</td>\n",
              "      <td>компаньон</td>\n",
              "      <td>1</td>\n",
              "      <td>165127.911772</td>\n",
              "      <td>покупка жилой недвижимости</td>\n",
              "    </tr>\n",
              "    <tr>\n",
              "      <th>15</th>\n",
              "      <td>1</td>\n",
              "      <td>-972.364419</td>\n",
              "      <td>26</td>\n",
              "      <td>среднее</td>\n",
              "      <td>1</td>\n",
              "      <td>женат / замужем</td>\n",
              "      <td>0</td>\n",
              "      <td>F</td>\n",
              "      <td>сотрудник</td>\n",
              "      <td>0</td>\n",
              "      <td>116820.904450</td>\n",
              "      <td>строительство собственной недвижимости</td>\n",
              "    </tr>\n",
              "    <tr>\n",
              "      <th>16</th>\n",
              "      <td>0</td>\n",
              "      <td>-1719.934226</td>\n",
              "      <td>35</td>\n",
              "      <td>среднее</td>\n",
              "      <td>1</td>\n",
              "      <td>женат / замужем</td>\n",
              "      <td>0</td>\n",
              "      <td>F</td>\n",
              "      <td>сотрудник</td>\n",
              "      <td>0</td>\n",
              "      <td>289202.704229</td>\n",
              "      <td>недвижимость</td>\n",
              "    </tr>\n",
              "    <tr>\n",
              "      <th>17</th>\n",
              "      <td>0</td>\n",
              "      <td>-2369.999720</td>\n",
              "      <td>33</td>\n",
              "      <td>высшее</td>\n",
              "      <td>0</td>\n",
              "      <td>гражданский брак</td>\n",
              "      <td>1</td>\n",
              "      <td>M</td>\n",
              "      <td>сотрудник</td>\n",
              "      <td>0</td>\n",
              "      <td>90410.586745</td>\n",
              "      <td>строительство недвижимости</td>\n",
              "    </tr>\n",
              "    <tr>\n",
              "      <th>18</th>\n",
              "      <td>0</td>\n",
              "      <td>400281.136913</td>\n",
              "      <td>53</td>\n",
              "      <td>среднее</td>\n",
              "      <td>1</td>\n",
              "      <td>вдовец / вдова</td>\n",
              "      <td>2</td>\n",
              "      <td>F</td>\n",
              "      <td>пенсионер</td>\n",
              "      <td>0</td>\n",
              "      <td>56823.777243</td>\n",
              "      <td>на покупку подержанного автомобиля</td>\n",
              "    </tr>\n",
              "    <tr>\n",
              "      <th>19</th>\n",
              "      <td>0</td>\n",
              "      <td>-10038.818549</td>\n",
              "      <td>48</td>\n",
              "      <td>СРЕДНЕЕ</td>\n",
              "      <td>1</td>\n",
              "      <td>в разводе</td>\n",
              "      <td>3</td>\n",
              "      <td>F</td>\n",
              "      <td>сотрудник</td>\n",
              "      <td>0</td>\n",
              "      <td>242831.107982</td>\n",
              "      <td>на покупку своего автомобиля</td>\n",
              "    </tr>\n",
              "  </tbody>\n",
              "</table>\n",
              "</div>"
            ],
            "text/plain": [
              "    children  days_employed  dob_years            education  education_id  \\\n",
              "0          1   -8437.673028         42               высшее             0   \n",
              "1          1   -4024.803754         36              среднее             1   \n",
              "2          0   -5623.422610         33              Среднее             1   \n",
              "3          3   -4124.747207         32              среднее             1   \n",
              "4          0  340266.072047         53              среднее             1   \n",
              "5          0    -926.185831         27               высшее             0   \n",
              "6          0   -2879.202052         43               высшее             0   \n",
              "7          0    -152.779569         50              СРЕДНЕЕ             1   \n",
              "8          2   -6929.865299         35               ВЫСШЕЕ             0   \n",
              "9          0   -2188.756445         41              среднее             1   \n",
              "10         2   -4171.483647         36               высшее             0   \n",
              "11         0    -792.701887         40              среднее             1   \n",
              "12         0            NaN         65              среднее             1   \n",
              "13         0   -1846.641941         54  неоконченное высшее             2   \n",
              "14         0   -1844.956182         56               высшее             0   \n",
              "15         1    -972.364419         26              среднее             1   \n",
              "16         0   -1719.934226         35              среднее             1   \n",
              "17         0   -2369.999720         33               высшее             0   \n",
              "18         0  400281.136913         53              среднее             1   \n",
              "19         0  -10038.818549         48              СРЕДНЕЕ             1   \n",
              "\n",
              "       family_status  family_status_id gender income_type  debt  \\\n",
              "0    женат / замужем                 0      F   сотрудник     0   \n",
              "1    женат / замужем                 0      F   сотрудник     0   \n",
              "2    женат / замужем                 0      M   сотрудник     0   \n",
              "3    женат / замужем                 0      M   сотрудник     0   \n",
              "4   гражданский брак                 1      F   пенсионер     0   \n",
              "5   гражданский брак                 1      M   компаньон     0   \n",
              "6    женат / замужем                 0      F   компаньон     0   \n",
              "7    женат / замужем                 0      M   сотрудник     0   \n",
              "8   гражданский брак                 1      F   сотрудник     0   \n",
              "9    женат / замужем                 0      M   сотрудник     0   \n",
              "10   женат / замужем                 0      M   компаньон     0   \n",
              "11   женат / замужем                 0      F   сотрудник     0   \n",
              "12  гражданский брак                 1      M   пенсионер     0   \n",
              "13   женат / замужем                 0      F   сотрудник     0   \n",
              "14  гражданский брак                 1      F   компаньон     1   \n",
              "15   женат / замужем                 0      F   сотрудник     0   \n",
              "16   женат / замужем                 0      F   сотрудник     0   \n",
              "17  гражданский брак                 1      M   сотрудник     0   \n",
              "18    вдовец / вдова                 2      F   пенсионер     0   \n",
              "19         в разводе                 3      F   сотрудник     0   \n",
              "\n",
              "     total_income                                 purpose  \n",
              "0   253875.639453                           покупка жилья  \n",
              "1   112080.014102                 приобретение автомобиля  \n",
              "2   145885.952297                           покупка жилья  \n",
              "3   267628.550329              дополнительное образование  \n",
              "4   158616.077870                         сыграть свадьбу  \n",
              "5   255763.565419                           покупка жилья  \n",
              "6   240525.971920                       операции с жильем  \n",
              "7   135823.934197                             образование  \n",
              "8    95856.832424                   на проведение свадьбы  \n",
              "9   144425.938277                 покупка жилья для семьи  \n",
              "10  113943.491460                    покупка недвижимости  \n",
              "11   77069.234271       покупка коммерческой недвижимости  \n",
              "12            NaN                         сыграть свадьбу  \n",
              "13  130458.228857                 приобретение автомобиля  \n",
              "14  165127.911772              покупка жилой недвижимости  \n",
              "15  116820.904450  строительство собственной недвижимости  \n",
              "16  289202.704229                            недвижимость  \n",
              "17   90410.586745              строительство недвижимости  \n",
              "18   56823.777243      на покупку подержанного автомобиля  \n",
              "19  242831.107982            на покупку своего автомобиля  "
            ]
          },
          "execution_count": 2,
          "metadata": {},
          "output_type": "execute_result"
        }
      ],
      "source": [
        "data.head(20)"
      ]
    },
    {
      "cell_type": "markdown",
      "id": "4a3f97aa",
      "metadata": {
        "deletable": false,
        "editable": false,
        "id": "4a3f97aa"
      },
      "source": [
        "Выведем основную информацию о датафрейме"
      ]
    },
    {
      "cell_type": "code",
      "execution_count": null,
      "id": "a1263308",
      "metadata": {
        "deletable": false,
        "id": "a1263308",
        "outputId": "15376089-8dad-46c9-b520-c05248d43158"
      },
      "outputs": [
        {
          "name": "stdout",
          "output_type": "stream",
          "text": [
            "<class 'pandas.core.frame.DataFrame'>\n",
            "RangeIndex: 21525 entries, 0 to 21524\n",
            "Data columns (total 12 columns):\n",
            " #   Column            Non-Null Count  Dtype  \n",
            "---  ------            --------------  -----  \n",
            " 0   children          21525 non-null  int64  \n",
            " 1   days_employed     19351 non-null  float64\n",
            " 2   dob_years         21525 non-null  int64  \n",
            " 3   education         21525 non-null  object \n",
            " 4   education_id      21525 non-null  int64  \n",
            " 5   family_status     21525 non-null  object \n",
            " 6   family_status_id  21525 non-null  int64  \n",
            " 7   gender            21525 non-null  object \n",
            " 8   income_type       21525 non-null  object \n",
            " 9   debt              21525 non-null  int64  \n",
            " 10  total_income      19351 non-null  float64\n",
            " 11  purpose           21525 non-null  object \n",
            "dtypes: float64(2), int64(5), object(5)\n",
            "memory usage: 2.0+ MB\n"
          ]
        }
      ],
      "source": [
        "data.info()"
      ]
    },
    {
      "cell_type": "markdown",
      "source": [
        "**Вывод:** Встречаются пропуски в данных, возможно есть дубликаты и потребуется изменить в некоторых столбцах типы данных."
      ],
      "metadata": {
        "id": "x5ve7-pTwU6V"
      },
      "id": "x5ve7-pTwU6V"
    },
    {
      "cell_type": "markdown",
      "id": "f360a385",
      "metadata": {
        "deletable": false,
        "editable": false,
        "id": "f360a385"
      },
      "source": [
        "## Шаг 2. Предобработка данных"
      ]
    },
    {
      "cell_type": "markdown",
      "source": [
        "Удалим дубликаты, исключим пропуски, приведем данные в столбцах к единому стилю, оптимизируем данные в таблице путем категоризации."
      ],
      "metadata": {
        "id": "BEi1fjtrwgQ-"
      },
      "id": "BEi1fjtrwgQ-"
    },
    {
      "cell_type": "markdown",
      "id": "5e1126ca",
      "metadata": {
        "deletable": false,
        "editable": false,
        "id": "5e1126ca"
      },
      "source": [
        "### Удаление пропусков"
      ]
    },
    {
      "cell_type": "markdown",
      "id": "0ca9e4cc",
      "metadata": {
        "deletable": false,
        "editable": false,
        "id": "0ca9e4cc"
      },
      "source": [
        "**Выведем количество пропущенных значений для каждого столбца**"
      ]
    },
    {
      "cell_type": "code",
      "execution_count": null,
      "id": "db251e94",
      "metadata": {
        "deletable": false,
        "id": "db251e94",
        "outputId": "81f4d817-781c-465c-ed15-91ce4446810d"
      },
      "outputs": [
        {
          "data": {
            "text/plain": [
              "children               0\n",
              "days_employed       2174\n",
              "dob_years              0\n",
              "education              0\n",
              "education_id           0\n",
              "family_status          0\n",
              "family_status_id       0\n",
              "gender                 0\n",
              "income_type            0\n",
              "debt                   0\n",
              "total_income        2174\n",
              "purpose                0\n",
              "dtype: int64"
            ]
          },
          "execution_count": 4,
          "metadata": {},
          "output_type": "execute_result"
        }
      ],
      "source": [
        "data.isna().sum()"
      ]
    },
    {
      "cell_type": "markdown",
      "id": "95e0acd2",
      "metadata": {
        "deletable": false,
        "editable": false,
        "id": "95e0acd2"
      },
      "source": [
        "**Вывод:** В двух столбцах есть пропущенные значения. Один из них — `days_employed` и другой столбец с пропущенными значениями — `total_income` он хранит данные о доходах. На сумму дохода сильнее всего влияет тип занятости, поэтому заполнить пропуски в этом столбце нужно медианным значением по каждому типу из столбца `income_type`. "
      ]
    },
    {
      "cell_type": "code",
      "execution_count": null,
      "id": "e5329084",
      "metadata": {
        "deletable": false,
        "id": "e5329084"
      },
      "outputs": [],
      "source": [
        "for t in data['income_type'].unique():\n",
        "    data.loc[(data['income_type'] == t) & (data['total_income'].isna()), 'total_income'] = \\\n",
        "    data.loc[(data['income_type'] == t), 'total_income'].median()"
      ]
    },
    {
      "cell_type": "markdown",
      "id": "4cf3e021",
      "metadata": {
        "deletable": false,
        "editable": false,
        "id": "4cf3e021"
      },
      "source": [
        "### Обработка аномальных значений"
      ]
    },
    {
      "cell_type": "markdown",
      "id": "7f22022f",
      "metadata": {
        "deletable": false,
        "editable": false,
        "id": "7f22022f"
      },
      "source": [
        "В данных могут встречаться артефакты (аномалии) — значения, которые не отражают действительность и появились по какойто ошибке. таким артефактом будет отрицательное количество дней трудового стажа в столбце `days_employed`. "
      ]
    },
    {
      "cell_type": "markdown",
      "source": [
        "**Заменим все отрицательные значения в столбце с количеством трудового стажа**"
      ],
      "metadata": {
        "id": "IpLNxo-LxGjI"
      },
      "id": "IpLNxo-LxGjI"
    },
    {
      "cell_type": "code",
      "execution_count": null,
      "id": "1cad29f2",
      "metadata": {
        "deletable": false,
        "id": "1cad29f2"
      },
      "outputs": [],
      "source": [
        "data['days_employed'] = data['days_employed'].abs()"
      ]
    },
    {
      "cell_type": "markdown",
      "id": "ea4b77f4",
      "metadata": {
        "deletable": false,
        "editable": false,
        "id": "ea4b77f4"
      },
      "source": [
        "Для каждого типа занятости выведем медианное значение трудового стажа `days_employed` в днях."
      ]
    },
    {
      "cell_type": "code",
      "execution_count": null,
      "id": "cc9aeb6a",
      "metadata": {
        "deletable": false,
        "id": "cc9aeb6a",
        "outputId": "801ef80e-522b-4668-f34e-565af7432bcf"
      },
      "outputs": [
        {
          "data": {
            "text/plain": [
              "income_type\n",
              "безработный        366413.652744\n",
              "в декрете            3296.759962\n",
              "госслужащий          2689.368353\n",
              "компаньон            1547.382223\n",
              "пенсионер          365213.306266\n",
              "предприниматель       520.848083\n",
              "сотрудник            1574.202821\n",
              "студент               578.751554\n",
              "Name: days_employed, dtype: float64"
            ]
          },
          "execution_count": 7,
          "metadata": {},
          "output_type": "execute_result"
        }
      ],
      "source": [
        "data.groupby('income_type')['days_employed'].agg('median')"
      ]
    },
    {
      "cell_type": "markdown",
      "id": "a8e15f5d",
      "metadata": {
        "deletable": false,
        "editable": false,
        "id": "a8e15f5d"
      },
      "source": [
        "У двух типов (безработные и пенсионеры) получатся аномально большие значения. Исправить такие значения сложно, поэтому оставьте их как есть. Тем более этот столбец не понадобится нам для исследования."
      ]
    },
    {
      "cell_type": "markdown",
      "id": "c87a5a1b",
      "metadata": {
        "deletable": false,
        "editable": false,
        "id": "c87a5a1b"
      },
      "source": [
        "Выведем перечень уникальных значений столбца `children`."
      ]
    },
    {
      "cell_type": "code",
      "execution_count": null,
      "id": "51874f08",
      "metadata": {
        "deletable": false,
        "id": "51874f08",
        "outputId": "6975b15c-7f95-4697-d16d-a0c79b657b03"
      },
      "outputs": [
        {
          "data": {
            "text/plain": [
              "array([ 1,  0,  3,  2, -1,  4, 20,  5])"
            ]
          },
          "execution_count": 8,
          "metadata": {},
          "output_type": "execute_result"
        }
      ],
      "source": [
        "data['children'].unique()"
      ]
    },
    {
      "cell_type": "markdown",
      "id": "70d415f3",
      "metadata": {
        "deletable": false,
        "editable": false,
        "id": "70d415f3"
      },
      "source": [
        "**В столбце `children` есть два аномальных значения. Удалим строки, в которых встречаются такие аномальные значения из датафрейма.**"
      ]
    },
    {
      "cell_type": "code",
      "execution_count": null,
      "id": "7c5cab5c",
      "metadata": {
        "deletable": false,
        "id": "7c5cab5c"
      },
      "outputs": [],
      "source": [
        "data = data[(data['children'] != -1) & (data['children'] != 20)]"
      ]
    },
    {
      "cell_type": "markdown",
      "id": "36ffa9f8",
      "metadata": {
        "deletable": false,
        "editable": false,
        "id": "36ffa9f8"
      },
      "source": [
        "**вывем перечень уникальных значений столбца `children`, чтобы убедиться, что артефакты удалены**"
      ]
    },
    {
      "cell_type": "code",
      "execution_count": null,
      "id": "fc4fb2d1",
      "metadata": {
        "deletable": false,
        "id": "fc4fb2d1",
        "outputId": "b2097101-d49d-44d9-901b-32a65c9463d1"
      },
      "outputs": [
        {
          "data": {
            "text/plain": [
              "array([1, 0, 3, 2, 4, 5])"
            ]
          },
          "execution_count": 10,
          "metadata": {},
          "output_type": "execute_result"
        }
      ],
      "source": [
        "data['children'].unique()"
      ]
    },
    {
      "cell_type": "markdown",
      "id": "311d41b5",
      "metadata": {
        "deletable": false,
        "editable": false,
        "id": "311d41b5"
      },
      "source": [
        "**Заполним пропуски в столбце `days_employed` медианными значениями для каждого типа занятости `income_type`.**"
      ]
    },
    {
      "cell_type": "code",
      "execution_count": null,
      "id": "35eaf4d6",
      "metadata": {
        "deletable": false,
        "id": "35eaf4d6"
      },
      "outputs": [],
      "source": [
        "for t in data['income_type'].unique():\n",
        "    data.loc[(data['income_type'] == t) & (data['days_employed'].isna()), 'days_employed'] = \\\n",
        "    data.loc[(data['income_type'] == t), 'days_employed'].median()"
      ]
    },
    {
      "cell_type": "markdown",
      "id": "b2b61d5d",
      "metadata": {
        "deletable": false,
        "editable": false,
        "id": "b2b61d5d"
      },
      "source": [
        "**Проверим удалены ли все пропуски**"
      ]
    },
    {
      "cell_type": "code",
      "execution_count": null,
      "id": "95baa8ea",
      "metadata": {
        "deletable": false,
        "id": "95baa8ea",
        "outputId": "8da1e4e1-358e-4e87-98c9-f261bce0a7b2"
      },
      "outputs": [
        {
          "data": {
            "text/plain": [
              "children            0\n",
              "days_employed       0\n",
              "dob_years           0\n",
              "education           0\n",
              "education_id        0\n",
              "family_status       0\n",
              "family_status_id    0\n",
              "gender              0\n",
              "income_type         0\n",
              "debt                0\n",
              "total_income        0\n",
              "purpose             0\n",
              "dtype: int64"
            ]
          },
          "execution_count": 12,
          "metadata": {},
          "output_type": "execute_result"
        }
      ],
      "source": [
        "data.isna().sum()"
      ]
    },
    {
      "cell_type": "markdown",
      "id": "f0f8c5ca",
      "metadata": {
        "deletable": false,
        "editable": false,
        "id": "f0f8c5ca"
      },
      "source": [
        "### Измененим типы данных"
      ]
    },
    {
      "cell_type": "markdown",
      "id": "8b54893c",
      "metadata": {
        "deletable": false,
        "editable": false,
        "id": "8b54893c"
      },
      "source": [
        "**Заменим вещественный тип данных в столбце `total_income` на целочисленный с помощью метода `astype()`.**"
      ]
    },
    {
      "cell_type": "code",
      "execution_count": null,
      "id": "659d42d9",
      "metadata": {
        "deletable": false,
        "id": "659d42d9"
      },
      "outputs": [],
      "source": [
        "data['total_income'] = data['total_income'].astype(int)"
      ]
    },
    {
      "cell_type": "markdown",
      "id": "ceb2e44d",
      "metadata": {
        "deletable": false,
        "editable": false,
        "id": "ceb2e44d"
      },
      "source": [
        "### Обработка дубликатов"
      ]
    },
    {
      "cell_type": "markdown",
      "id": "05505ffe",
      "metadata": {
        "deletable": false,
        "editable": false,
        "id": "05505ffe"
      },
      "source": [
        "**Обработим неявные дубликаты в столбце `education`.**"
      ]
    },
    {
      "cell_type": "code",
      "execution_count": null,
      "id": "5683abb5",
      "metadata": {
        "deletable": false,
        "id": "5683abb5"
      },
      "outputs": [],
      "source": [
        "data['education'] = data['education'].str.lower()"
      ]
    },
    {
      "cell_type": "markdown",
      "id": "24b57690",
      "metadata": {
        "deletable": false,
        "editable": false,
        "id": "24b57690"
      },
      "source": [
        "** Выведем на экран количество строк-дубликатов в данных. Если такие строки присутствуют, удалите их.**"
      ]
    },
    {
      "cell_type": "code",
      "execution_count": null,
      "id": "fdfcbaed",
      "metadata": {
        "deletable": false,
        "id": "fdfcbaed",
        "outputId": "9684deba-1934-42d1-99e1-cda61740f822"
      },
      "outputs": [
        {
          "data": {
            "text/plain": [
              "71"
            ]
          },
          "execution_count": 15,
          "metadata": {},
          "output_type": "execute_result"
        }
      ],
      "source": [
        "data.duplicated().sum()"
      ]
    },
    {
      "cell_type": "code",
      "execution_count": null,
      "id": "a2bf8ac7",
      "metadata": {
        "deletable": false,
        "id": "a2bf8ac7"
      },
      "outputs": [],
      "source": [
        "data = data.drop_duplicates()"
      ]
    },
    {
      "cell_type": "markdown",
      "id": "5ad3ca74",
      "metadata": {
        "deletable": false,
        "editable": false,
        "id": "5ad3ca74"
      },
      "source": [
        "### Категоризация данных"
      ]
    },
    {
      "cell_type": "markdown",
      "id": "4e223f22",
      "metadata": {
        "deletable": false,
        "editable": false,
        "id": "4e223f22"
      },
      "source": [
        "**создадим столбец `total_income_category` с категориями:**\n",
        "\n",
        "- 0–30000 — `'E'`;\n",
        "- 30001–50000 — `'D'`;\n",
        "- 50001–200000 — `'C'`;\n",
        "- 200001–1000000 — `'B'`;\n",
        "- 1000001 и выше — `'A'`.\n"
      ]
    },
    {
      "cell_type": "code",
      "execution_count": null,
      "id": "57618a94",
      "metadata": {
        "deletable": false,
        "id": "57618a94"
      },
      "outputs": [],
      "source": [
        "def categorize_income(income):\n",
        "    try:\n",
        "        if 0 <= income <= 30000:\n",
        "            return 'E'\n",
        "        elif 30001 <= income <= 50000:\n",
        "            return 'D'\n",
        "        elif 50001 <= income <= 200000:\n",
        "            return 'C'\n",
        "        elif 200001 <= income <= 1000000:\n",
        "            return 'B'\n",
        "        elif income >= 1000001:\n",
        "            return 'A'\n",
        "    except:\n",
        "        pass"
      ]
    },
    {
      "cell_type": "code",
      "execution_count": null,
      "id": "27b415a1",
      "metadata": {
        "deletable": false,
        "id": "27b415a1"
      },
      "outputs": [],
      "source": [
        "data['total_income_category'] = data['total_income'].apply(categorize_income)"
      ]
    },
    {
      "cell_type": "markdown",
      "id": "834719aa",
      "metadata": {
        "deletable": false,
        "editable": false,
        "id": "834719aa"
      },
      "source": [
        "**Выведем на экран перечень уникальных целей взятия кредита**"
      ]
    },
    {
      "cell_type": "code",
      "execution_count": null,
      "id": "57daa3c8",
      "metadata": {
        "deletable": false,
        "id": "57daa3c8",
        "outputId": "673c12d9-7d7e-4ae0-9812-c622c89dd244"
      },
      "outputs": [
        {
          "data": {
            "text/plain": [
              "array(['покупка жилья', 'приобретение автомобиля',\n",
              "       'дополнительное образование', 'сыграть свадьбу',\n",
              "       'операции с жильем', 'образование', 'на проведение свадьбы',\n",
              "       'покупка жилья для семьи', 'покупка недвижимости',\n",
              "       'покупка коммерческой недвижимости', 'покупка жилой недвижимости',\n",
              "       'строительство собственной недвижимости', 'недвижимость',\n",
              "       'строительство недвижимости', 'на покупку подержанного автомобиля',\n",
              "       'на покупку своего автомобиля',\n",
              "       'операции с коммерческой недвижимостью',\n",
              "       'строительство жилой недвижимости', 'жилье',\n",
              "       'операции со своей недвижимостью', 'автомобили',\n",
              "       'заняться образованием', 'сделка с подержанным автомобилем',\n",
              "       'получение образования', 'автомобиль', 'свадьба',\n",
              "       'получение дополнительного образования', 'покупка своего жилья',\n",
              "       'операции с недвижимостью', 'получение высшего образования',\n",
              "       'свой автомобиль', 'сделка с автомобилем',\n",
              "       'профильное образование', 'высшее образование',\n",
              "       'покупка жилья для сдачи', 'на покупку автомобиля', 'ремонт жилью',\n",
              "       'заняться высшим образованием'], dtype=object)"
            ]
          },
          "execution_count": 19,
          "metadata": {},
          "output_type": "execute_result"
        }
      ],
      "source": [
        "data['purpose'].unique()"
      ]
    },
    {
      "cell_type": "markdown",
      "id": "401d980a",
      "metadata": {
        "deletable": false,
        "editable": false,
        "id": "401d980a"
      },
      "source": [
        "**Создадим функцию, которая на основании данных из столбца `purpose` сформирует новый столбец `purpose_category`, в который войдут следующие категории:**\n",
        "\n",
        "- `'операции с автомобилем'`,\n",
        "- `'операции с недвижимостью'`,\n",
        "- `'проведение свадьбы'`,\n",
        "- `'получение образования'`.\n",
        "\n",
        "**Используя собственную функцию с именем `categorize_purpose()` и метод `apply()`. Изучите данные в столбце `purpose` и определим, какие подстроки помогут вам определить категорию.**"
      ]
    },
    {
      "cell_type": "code",
      "execution_count": null,
      "id": "2c29938d",
      "metadata": {
        "deletable": false,
        "id": "2c29938d"
      },
      "outputs": [],
      "source": [
        "def categorize_purpose(row):\n",
        "    try:\n",
        "        if 'автом' in row:\n",
        "            return 'операции с автомобилем'\n",
        "        elif 'жил' in row or 'недвиж' in row:\n",
        "            return 'операции с недвижимостью'\n",
        "        elif 'свад' in row:\n",
        "            return 'проведение свадьбы'\n",
        "        elif 'образов' in row:\n",
        "            return 'получение образования'\n",
        "    except:\n",
        "        return 'нет категории'"
      ]
    },
    {
      "cell_type": "code",
      "execution_count": null,
      "id": "b21db43b",
      "metadata": {
        "deletable": false,
        "id": "b21db43b"
      },
      "outputs": [],
      "source": [
        "data['purpose_category'] = data['purpose'].apply(categorize_purpose)"
      ]
    },
    {
      "cell_type": "markdown",
      "id": "4a57d729",
      "metadata": {
        "deletable": false,
        "editable": false,
        "id": "4a57d729"
      },
      "source": [
        "## Шаг 3. Исследуем данные и ответьте на вопросы"
      ]
    },
    {
      "cell_type": "markdown",
      "id": "df7ea195",
      "metadata": {
        "deletable": false,
        "editable": false,
        "id": "df7ea195"
      },
      "source": [
        "### Есть ли зависимость между количеством детей и возвратом кредита в срок?"
      ]
    },
    {
      "cell_type": "code",
      "execution_count": null,
      "id": "b492cdb7",
      "metadata": {
        "deletable": false,
        "id": "b492cdb7",
        "scrolled": true,
        "outputId": "cd631404-d474-4133-f06c-c153b4b5fa4d"
      },
      "outputs": [
        {
          "data": {
            "text/html": [
              "<div>\n",
              "<style scoped>\n",
              "    .dataframe tbody tr th:only-of-type {\n",
              "        vertical-align: middle;\n",
              "    }\n",
              "\n",
              "    .dataframe tbody tr th {\n",
              "        vertical-align: top;\n",
              "    }\n",
              "\n",
              "    .dataframe thead th {\n",
              "        text-align: right;\n",
              "    }\n",
              "</style>\n",
              "<table border=\"1\" class=\"dataframe\">\n",
              "  <thead>\n",
              "    <tr style=\"text-align: right;\">\n",
              "      <th></th>\n",
              "      <th>mean</th>\n",
              "      <th>count</th>\n",
              "    </tr>\n",
              "    <tr>\n",
              "      <th>children</th>\n",
              "      <th></th>\n",
              "      <th></th>\n",
              "    </tr>\n",
              "  </thead>\n",
              "  <tbody>\n",
              "    <tr>\n",
              "      <th>0</th>\n",
              "      <td>0.075438</td>\n",
              "      <td>14091</td>\n",
              "    </tr>\n",
              "    <tr>\n",
              "      <th>1</th>\n",
              "      <td>0.092346</td>\n",
              "      <td>4808</td>\n",
              "    </tr>\n",
              "    <tr>\n",
              "      <th>2</th>\n",
              "      <td>0.094542</td>\n",
              "      <td>2052</td>\n",
              "    </tr>\n",
              "    <tr>\n",
              "      <th>3</th>\n",
              "      <td>0.081818</td>\n",
              "      <td>330</td>\n",
              "    </tr>\n",
              "    <tr>\n",
              "      <th>4</th>\n",
              "      <td>0.097561</td>\n",
              "      <td>41</td>\n",
              "    </tr>\n",
              "    <tr>\n",
              "      <th>5</th>\n",
              "      <td>0.000000</td>\n",
              "      <td>9</td>\n",
              "    </tr>\n",
              "  </tbody>\n",
              "</table>\n",
              "</div>"
            ],
            "text/plain": [
              "              mean  count\n",
              "children                 \n",
              "0         0.075438  14091\n",
              "1         0.092346   4808\n",
              "2         0.094542   2052\n",
              "3         0.081818    330\n",
              "4         0.097561     41\n",
              "5         0.000000      9"
            ]
          },
          "metadata": {},
          "output_type": "display_data"
        }
      ],
      "source": [
        "children_debt = data.groupby('children')['debt'].agg({'count', 'mean'})\n",
        "#(data.groupby('children')['debt'].agg({'count', 'mean'}))\n",
        "display (children_debt)"
      ]
    },
    {
      "cell_type": "markdown",
      "id": "9800355d",
      "metadata": {
        "deletable": false,
        "id": "9800355d"
      },
      "source": [
        "**Вывод:** Данные не однозначные, но по ним видно, что у кого нет детей меньше просрочек. А вот у людей с детьми от 1 до 4, больше всего просрочек, скорее всего это связано с финансовой нагрузкой. Нет просрочек у тех, у кого 5 детей, таких единицы."
      ]
    },
    {
      "cell_type": "markdown",
      "id": "2ae1b8a9",
      "metadata": {
        "deletable": false,
        "editable": false,
        "id": "2ae1b8a9"
      },
      "source": [
        "### Есть ли зависимость между семейным положением и возвратом кредита в срок?"
      ]
    },
    {
      "cell_type": "code",
      "execution_count": null,
      "id": "95585731",
      "metadata": {
        "deletable": false,
        "id": "95585731",
        "outputId": "04915ede-0282-4c59-faea-c88f291642bf"
      },
      "outputs": [
        {
          "data": {
            "text/html": [
              "<div>\n",
              "<style scoped>\n",
              "    .dataframe tbody tr th:only-of-type {\n",
              "        vertical-align: middle;\n",
              "    }\n",
              "\n",
              "    .dataframe tbody tr th {\n",
              "        vertical-align: top;\n",
              "    }\n",
              "\n",
              "    .dataframe thead th {\n",
              "        text-align: right;\n",
              "    }\n",
              "</style>\n",
              "<table border=\"1\" class=\"dataframe\">\n",
              "  <thead>\n",
              "    <tr style=\"text-align: right;\">\n",
              "      <th></th>\n",
              "      <th>mean</th>\n",
              "      <th>count</th>\n",
              "    </tr>\n",
              "    <tr>\n",
              "      <th>family_status</th>\n",
              "      <th></th>\n",
              "      <th></th>\n",
              "    </tr>\n",
              "  </thead>\n",
              "  <tbody>\n",
              "    <tr>\n",
              "      <th>вдовец / вдова</th>\n",
              "      <td>0.066246</td>\n",
              "      <td>951</td>\n",
              "    </tr>\n",
              "    <tr>\n",
              "      <th>в разводе</th>\n",
              "      <td>0.070648</td>\n",
              "      <td>1189</td>\n",
              "    </tr>\n",
              "    <tr>\n",
              "      <th>женат / замужем</th>\n",
              "      <td>0.075606</td>\n",
              "      <td>12261</td>\n",
              "    </tr>\n",
              "    <tr>\n",
              "      <th>гражданский брак</th>\n",
              "      <td>0.093130</td>\n",
              "      <td>4134</td>\n",
              "    </tr>\n",
              "    <tr>\n",
              "      <th>Не женат / не замужем</th>\n",
              "      <td>0.097639</td>\n",
              "      <td>2796</td>\n",
              "    </tr>\n",
              "  </tbody>\n",
              "</table>\n",
              "</div>"
            ],
            "text/plain": [
              "                           mean  count\n",
              "family_status                         \n",
              "вдовец / вдова         0.066246    951\n",
              "в разводе              0.070648   1189\n",
              "женат / замужем        0.075606  12261\n",
              "гражданский брак       0.093130   4134\n",
              "Не женат / не замужем  0.097639   2796"
            ]
          },
          "metadata": {},
          "output_type": "display_data"
        }
      ],
      "source": [
        "family_status_debt = (data.groupby('family_status')['debt'].agg({'count', 'mean'})) # \n",
        "display (family_status_debt.sort_values(by='mean'))\n",
        "#Ваш код будет здесь. Вы можете создавать новые ячейки."
      ]
    },
    {
      "cell_type": "markdown",
      "id": "4a557827",
      "metadata": {
        "deletable": false,
        "id": "4a557827"
      },
      "source": [
        "**Вывод:** Да, зависимость есть. Те, кто не в браке чаще всего нарушают срок уплаты кредита. Но вот те, кто овдовели или развелись, более надежные клиенты банка чем кто в браке."
      ]
    },
    {
      "cell_type": "markdown",
      "id": "1eb1b7ad",
      "metadata": {
        "deletable": false,
        "editable": false,
        "id": "1eb1b7ad"
      },
      "source": [
        "### Есть ли зависимость между уровнем дохода и возвратом кредита в срок?"
      ]
    },
    {
      "cell_type": "code",
      "execution_count": null,
      "id": "f1e0eb7f",
      "metadata": {
        "deletable": false,
        "id": "f1e0eb7f",
        "outputId": "7cb24d53-0cc7-4255-b50a-c6b0e17d2fe0"
      },
      "outputs": [
        {
          "data": {
            "text/html": [
              "<div>\n",
              "<style scoped>\n",
              "    .dataframe tbody tr th:only-of-type {\n",
              "        vertical-align: middle;\n",
              "    }\n",
              "\n",
              "    .dataframe tbody tr th {\n",
              "        vertical-align: top;\n",
              "    }\n",
              "\n",
              "    .dataframe thead th {\n",
              "        text-align: right;\n",
              "    }\n",
              "</style>\n",
              "<table border=\"1\" class=\"dataframe\">\n",
              "  <thead>\n",
              "    <tr style=\"text-align: right;\">\n",
              "      <th></th>\n",
              "      <th>mean</th>\n",
              "      <th>count</th>\n",
              "    </tr>\n",
              "    <tr>\n",
              "      <th>total_income_category</th>\n",
              "      <th></th>\n",
              "      <th></th>\n",
              "    </tr>\n",
              "  </thead>\n",
              "  <tbody>\n",
              "    <tr>\n",
              "      <th>E</th>\n",
              "      <td>0.090909</td>\n",
              "      <td>22</td>\n",
              "    </tr>\n",
              "    <tr>\n",
              "      <th>C</th>\n",
              "      <td>0.084982</td>\n",
              "      <td>15921</td>\n",
              "    </tr>\n",
              "    <tr>\n",
              "      <th>A</th>\n",
              "      <td>0.080000</td>\n",
              "      <td>25</td>\n",
              "    </tr>\n",
              "    <tr>\n",
              "      <th>B</th>\n",
              "      <td>0.070602</td>\n",
              "      <td>5014</td>\n",
              "    </tr>\n",
              "    <tr>\n",
              "      <th>D</th>\n",
              "      <td>0.060172</td>\n",
              "      <td>349</td>\n",
              "    </tr>\n",
              "  </tbody>\n",
              "</table>\n",
              "</div>"
            ],
            "text/plain": [
              "                           mean  count\n",
              "total_income_category                 \n",
              "E                      0.090909     22\n",
              "C                      0.084982  15921\n",
              "A                      0.080000     25\n",
              "B                      0.070602   5014\n",
              "D                      0.060172    349"
            ]
          },
          "metadata": {},
          "output_type": "display_data"
        }
      ],
      "source": [
        "#display (data.head(20))\n",
        "total_income_debt = (data.groupby('total_income_category')['debt'].agg({'count', 'mean'})) # \n",
        "display (total_income_debt.sort_values(by='mean', ascending=False))\n",
        "\n",
        "# Ваш код будет здесь. Вы можете создавать новые ячейки."
      ]
    },
    {
      "cell_type": "markdown",
      "id": "929ac42e",
      "metadata": {
        "deletable": false,
        "id": "929ac42e"
      },
      "source": [
        "**Вывод:** Зависимость от уровня дохода нет. Но мы видим, что больше всего клиентов у банка со средним заработком. Самые надежные клиенты, - это люди с заработком ниже среднего. Больше всего должников в группе с низким уровнем заработка."
      ]
    },
    {
      "cell_type": "markdown",
      "id": "58bc962e",
      "metadata": {
        "deletable": false,
        "editable": false,
        "id": "58bc962e"
      },
      "source": [
        "### Как разные цели кредита влияют на его возврат в срок?"
      ]
    },
    {
      "cell_type": "code",
      "execution_count": null,
      "id": "b1ea177a",
      "metadata": {
        "deletable": false,
        "id": "b1ea177a",
        "outputId": "2c2b4a7d-7ec5-495c-8ca0-4f36dc7f474d"
      },
      "outputs": [
        {
          "data": {
            "text/html": [
              "<div>\n",
              "<style scoped>\n",
              "    .dataframe tbody tr th:only-of-type {\n",
              "        vertical-align: middle;\n",
              "    }\n",
              "\n",
              "    .dataframe tbody tr th {\n",
              "        vertical-align: top;\n",
              "    }\n",
              "\n",
              "    .dataframe thead th {\n",
              "        text-align: right;\n",
              "    }\n",
              "</style>\n",
              "<table border=\"1\" class=\"dataframe\">\n",
              "  <thead>\n",
              "    <tr style=\"text-align: right;\">\n",
              "      <th></th>\n",
              "      <th>mean</th>\n",
              "      <th>count</th>\n",
              "    </tr>\n",
              "    <tr>\n",
              "      <th>purpose_category</th>\n",
              "      <th></th>\n",
              "      <th></th>\n",
              "    </tr>\n",
              "  </thead>\n",
              "  <tbody>\n",
              "    <tr>\n",
              "      <th>операции с автомобилем</th>\n",
              "      <td>0.093480</td>\n",
              "      <td>4279</td>\n",
              "    </tr>\n",
              "    <tr>\n",
              "      <th>получение образования</th>\n",
              "      <td>0.092528</td>\n",
              "      <td>3988</td>\n",
              "    </tr>\n",
              "    <tr>\n",
              "      <th>проведение свадьбы</th>\n",
              "      <td>0.079118</td>\n",
              "      <td>2313</td>\n",
              "    </tr>\n",
              "    <tr>\n",
              "      <th>операции с недвижимостью</th>\n",
              "      <td>0.072551</td>\n",
              "      <td>10751</td>\n",
              "    </tr>\n",
              "  </tbody>\n",
              "</table>\n",
              "</div>"
            ],
            "text/plain": [
              "                              mean  count\n",
              "purpose_category                         \n",
              "операции с автомобилем    0.093480   4279\n",
              "получение образования     0.092528   3988\n",
              "проведение свадьбы        0.079118   2313\n",
              "операции с недвижимостью  0.072551  10751"
            ]
          },
          "metadata": {},
          "output_type": "display_data"
        }
      ],
      "source": [
        "#display (data)\n",
        "purpose_debt = (data.groupby('purpose_category')['debt'].agg({'count', 'mean'})) # \n",
        "display (purpose_debt.sort_values(by='mean', ascending=False))\n",
        "# Ваш код будет здесь. Вы можете создавать новые ячейки."
      ]
    },
    {
      "cell_type": "markdown",
      "id": "dbef0b36",
      "metadata": {
        "deletable": false,
        "id": "dbef0b36"
      },
      "source": [
        "**Вывод:** Зависимость есть от цели кредит. Так мы видимо люди, взявшие кредит на операцию с недвижимостью меньше всего, задерживают выплаты. А вот кто взял кредит на автомобиль или образование чаще всего нарушают сроки."
      ]
    },
    {
      "cell_type": "markdown",
      "id": "b9f3e6c0",
      "metadata": {
        "deletable": false,
        "editable": false,
        "id": "b9f3e6c0"
      },
      "source": [
        "### Приведем возможные причины появления пропусков в исходных данных."
      ]
    },
    {
      "cell_type": "markdown",
      "id": "0c54c8d0",
      "metadata": {
        "deletable": false,
        "id": "0c54c8d0"
      },
      "source": [
        "**Ответ:** Причина скорее всего в человеческом факторе, заемщики не указал сумму дохода или оператор не в нес в программу."
      ]
    },
    {
      "cell_type": "markdown",
      "id": "ace9c49f",
      "metadata": {
        "deletable": false,
        "editable": false,
        "id": "ace9c49f"
      },
      "source": [
        "### Объясним, почему заполнить пропуски медианным значением — лучшее решение для количественных переменных."
      ]
    },
    {
      "cell_type": "markdown",
      "id": "da6632aa",
      "metadata": {
        "deletable": false,
        "id": "da6632aa"
      },
      "source": [
        "**Ответ:** Для исследования нам не нужны конкретные данные о зарплате каждого заемщики. Нам потребуется средняя заработная плата для каждой категории людей. За среднюю зарплату в группе мы возьмем медианное значение, для того что бы исключить все не характерные для этой группы данные (искаженные значения)."
      ]
    },
    {
      "cell_type": "markdown",
      "id": "399a06c6",
      "metadata": {
        "deletable": false,
        "editable": false,
        "id": "399a06c6"
      },
      "source": [
        "## Итоговый вывод:"
      ]
    },
    {
      "cell_type": "markdown",
      "id": "c8b6542f",
      "metadata": {
        "deletable": false,
        "id": "c8b6542f"
      },
      "source": [
        "Из исследования мы видим, что семейное положение и цель кредита влияют на надежность клиента. При этом количество детей и средняя заработная плата влияет гораздо меньше. Самый надежный клиент для банка — это вдовец или вдова, взявший(ая) кредит для операции с недвижимостью."
      ]
    }
  ],
  "metadata": {
    "ExecuteTimeLog": [
      {
        "duration": 549,
        "start_time": "2022-08-30T04:19:21.219Z"
      },
      {
        "duration": 26,
        "start_time": "2022-08-30T04:19:21.770Z"
      },
      {
        "duration": 23,
        "start_time": "2022-08-30T04:19:21.798Z"
      },
      {
        "duration": 20,
        "start_time": "2022-08-30T04:19:21.824Z"
      },
      {
        "duration": 60,
        "start_time": "2022-08-30T04:19:21.846Z"
      },
      {
        "duration": 4,
        "start_time": "2022-08-30T04:19:21.908Z"
      },
      {
        "duration": 16,
        "start_time": "2022-08-30T04:19:21.915Z"
      },
      {
        "duration": 11,
        "start_time": "2022-08-30T04:19:21.932Z"
      },
      {
        "duration": 9,
        "start_time": "2022-08-30T04:19:21.945Z"
      },
      {
        "duration": 24,
        "start_time": "2022-08-30T04:19:21.959Z"
      },
      {
        "duration": 61,
        "start_time": "2022-08-30T04:19:21.985Z"
      },
      {
        "duration": 13,
        "start_time": "2022-08-30T04:19:22.048Z"
      },
      {
        "duration": 8,
        "start_time": "2022-08-30T04:19:22.063Z"
      },
      {
        "duration": 40,
        "start_time": "2022-08-30T04:19:22.073Z"
      },
      {
        "duration": 25,
        "start_time": "2022-08-30T04:19:22.115Z"
      },
      {
        "duration": 18,
        "start_time": "2022-08-30T04:19:22.141Z"
      },
      {
        "duration": 4,
        "start_time": "2022-08-30T04:19:22.160Z"
      },
      {
        "duration": 16,
        "start_time": "2022-08-30T04:19:22.165Z"
      },
      {
        "duration": 9,
        "start_time": "2022-08-30T04:19:22.183Z"
      },
      {
        "duration": 8,
        "start_time": "2022-08-30T04:19:22.193Z"
      },
      {
        "duration": 15,
        "start_time": "2022-08-30T04:19:22.203Z"
      },
      {
        "duration": 4,
        "start_time": "2022-08-30T04:19:22.219Z"
      },
      {
        "duration": 7,
        "start_time": "2022-08-30T04:19:22.225Z"
      },
      {
        "duration": 6,
        "start_time": "2022-08-30T04:19:22.233Z"
      },
      {
        "duration": 5,
        "start_time": "2022-08-30T04:19:22.240Z"
      },
      {
        "duration": 68,
        "start_time": "2022-08-30T04:19:56.512Z"
      },
      {
        "duration": 7,
        "start_time": "2022-08-30T04:20:03.176Z"
      },
      {
        "duration": 21,
        "start_time": "2022-08-30T04:20:09.096Z"
      },
      {
        "duration": 5,
        "start_time": "2022-08-30T04:22:46.695Z"
      },
      {
        "duration": 4,
        "start_time": "2022-08-30T04:22:59.414Z"
      },
      {
        "duration": 464,
        "start_time": "2022-08-30T04:23:39.043Z"
      },
      {
        "duration": 23,
        "start_time": "2022-08-30T04:23:39.509Z"
      },
      {
        "duration": 17,
        "start_time": "2022-08-30T04:23:39.534Z"
      },
      {
        "duration": 10,
        "start_time": "2022-08-30T04:23:39.554Z"
      },
      {
        "duration": 60,
        "start_time": "2022-08-30T04:23:39.565Z"
      },
      {
        "duration": 4,
        "start_time": "2022-08-30T04:23:39.626Z"
      },
      {
        "duration": 9,
        "start_time": "2022-08-30T04:23:39.632Z"
      },
      {
        "duration": 4,
        "start_time": "2022-08-30T04:23:39.643Z"
      },
      {
        "duration": 10,
        "start_time": "2022-08-30T04:23:39.649Z"
      },
      {
        "duration": 4,
        "start_time": "2022-08-30T04:23:39.661Z"
      },
      {
        "duration": 35,
        "start_time": "2022-08-30T04:23:39.692Z"
      },
      {
        "duration": 11,
        "start_time": "2022-08-30T04:23:39.728Z"
      },
      {
        "duration": 3,
        "start_time": "2022-08-30T04:23:39.741Z"
      },
      {
        "duration": 13,
        "start_time": "2022-08-30T04:23:39.746Z"
      },
      {
        "duration": 49,
        "start_time": "2022-08-30T04:23:39.761Z"
      },
      {
        "duration": 18,
        "start_time": "2022-08-30T04:23:39.812Z"
      },
      {
        "duration": 4,
        "start_time": "2022-08-30T04:23:39.831Z"
      },
      {
        "duration": 12,
        "start_time": "2022-08-30T04:23:39.837Z"
      },
      {
        "duration": 6,
        "start_time": "2022-08-30T04:23:39.850Z"
      },
      {
        "duration": 4,
        "start_time": "2022-08-30T04:23:39.857Z"
      },
      {
        "duration": 9,
        "start_time": "2022-08-30T04:23:39.891Z"
      },
      {
        "duration": 6,
        "start_time": "2022-08-30T04:23:39.902Z"
      },
      {
        "duration": 7,
        "start_time": "2022-08-30T04:23:39.910Z"
      },
      {
        "duration": 4,
        "start_time": "2022-08-30T04:23:39.919Z"
      },
      {
        "duration": 5,
        "start_time": "2022-08-30T04:23:39.924Z"
      },
      {
        "duration": 6,
        "start_time": "2022-08-30T04:24:11.958Z"
      },
      {
        "duration": 4,
        "start_time": "2022-08-30T04:24:18.518Z"
      },
      {
        "duration": 5,
        "start_time": "2022-08-30T04:24:24.118Z"
      },
      {
        "duration": 14,
        "start_time": "2022-08-30T04:25:49.365Z"
      },
      {
        "duration": 4,
        "start_time": "2022-08-30T04:26:14.429Z"
      },
      {
        "duration": 4,
        "start_time": "2022-08-30T04:27:04.101Z"
      },
      {
        "duration": 3,
        "start_time": "2022-08-30T04:27:10.933Z"
      },
      {
        "duration": 4,
        "start_time": "2022-08-30T04:27:20.269Z"
      },
      {
        "duration": 3,
        "start_time": "2022-08-30T04:27:26.557Z"
      },
      {
        "duration": 3,
        "start_time": "2022-08-30T04:27:37.229Z"
      },
      {
        "duration": 78,
        "start_time": "2022-08-30T04:28:02.636Z"
      },
      {
        "duration": 15,
        "start_time": "2022-08-30T04:28:04.837Z"
      },
      {
        "duration": 512,
        "start_time": "2022-08-30T04:28:08.474Z"
      },
      {
        "duration": 26,
        "start_time": "2022-08-30T04:28:08.988Z"
      },
      {
        "duration": 18,
        "start_time": "2022-08-30T04:28:09.016Z"
      },
      {
        "duration": 11,
        "start_time": "2022-08-30T04:28:09.037Z"
      },
      {
        "duration": 62,
        "start_time": "2022-08-30T04:28:09.050Z"
      },
      {
        "duration": 4,
        "start_time": "2022-08-30T04:28:09.114Z"
      },
      {
        "duration": 20,
        "start_time": "2022-08-30T04:28:09.120Z"
      },
      {
        "duration": 5,
        "start_time": "2022-08-30T04:28:09.142Z"
      },
      {
        "duration": 10,
        "start_time": "2022-08-30T04:28:09.149Z"
      },
      {
        "duration": 4,
        "start_time": "2022-08-30T04:28:09.163Z"
      },
      {
        "duration": 55,
        "start_time": "2022-08-30T04:28:09.169Z"
      },
      {
        "duration": 9,
        "start_time": "2022-08-30T04:28:09.226Z"
      },
      {
        "duration": 5,
        "start_time": "2022-08-30T04:28:09.237Z"
      },
      {
        "duration": 12,
        "start_time": "2022-08-30T04:28:09.244Z"
      },
      {
        "duration": 38,
        "start_time": "2022-08-30T04:28:09.258Z"
      },
      {
        "duration": 18,
        "start_time": "2022-08-30T04:28:09.297Z"
      },
      {
        "duration": 4,
        "start_time": "2022-08-30T04:28:09.316Z"
      },
      {
        "duration": 13,
        "start_time": "2022-08-30T04:28:09.321Z"
      },
      {
        "duration": 7,
        "start_time": "2022-08-30T04:28:09.336Z"
      },
      {
        "duration": 10,
        "start_time": "2022-08-30T04:28:09.344Z"
      },
      {
        "duration": 15,
        "start_time": "2022-08-30T04:28:09.355Z"
      },
      {
        "duration": 3,
        "start_time": "2022-08-30T04:28:09.392Z"
      },
      {
        "duration": 5,
        "start_time": "2022-08-30T04:28:09.397Z"
      },
      {
        "duration": 5,
        "start_time": "2022-08-30T04:28:09.403Z"
      },
      {
        "duration": 10,
        "start_time": "2022-08-30T04:28:09.410Z"
      },
      {
        "duration": 4,
        "start_time": "2022-08-30T04:30:57.259Z"
      },
      {
        "duration": 6,
        "start_time": "2022-08-30T04:32:26.330Z"
      },
      {
        "duration": 5,
        "start_time": "2022-08-30T04:32:36.713Z"
      },
      {
        "duration": 5,
        "start_time": "2022-08-30T04:32:54.689Z"
      },
      {
        "duration": 74,
        "start_time": "2022-08-30T04:33:18.866Z"
      },
      {
        "duration": 10,
        "start_time": "2022-08-30T04:33:23.409Z"
      },
      {
        "duration": 6,
        "start_time": "2022-08-30T04:37:21.888Z"
      },
      {
        "duration": 1271,
        "start_time": "2022-08-30T04:38:44.256Z"
      },
      {
        "duration": 1200,
        "start_time": "2022-08-30T04:39:01.799Z"
      },
      {
        "duration": 5,
        "start_time": "2022-08-30T04:39:10.894Z"
      },
      {
        "duration": 9,
        "start_time": "2022-08-30T04:39:19.558Z"
      },
      {
        "duration": 4,
        "start_time": "2022-08-30T04:39:23.734Z"
      },
      {
        "duration": 4,
        "start_time": "2022-08-30T04:47:34.434Z"
      },
      {
        "duration": 4,
        "start_time": "2022-08-30T04:47:53.801Z"
      },
      {
        "duration": 5,
        "start_time": "2022-08-30T04:48:00.242Z"
      },
      {
        "duration": 4,
        "start_time": "2022-08-30T04:49:14.825Z"
      },
      {
        "duration": 4,
        "start_time": "2022-08-30T04:59:08.340Z"
      },
      {
        "duration": 4,
        "start_time": "2022-08-30T04:59:13.060Z"
      },
      {
        "duration": 21,
        "start_time": "2022-08-30T04:59:36.548Z"
      },
      {
        "duration": 18,
        "start_time": "2022-08-30T05:08:03.776Z"
      },
      {
        "duration": 3,
        "start_time": "2022-08-30T05:08:50.288Z"
      },
      {
        "duration": 3,
        "start_time": "2022-08-30T05:09:08.975Z"
      },
      {
        "duration": 4,
        "start_time": "2022-08-30T05:10:52.678Z"
      },
      {
        "duration": 8,
        "start_time": "2022-08-30T05:15:31.731Z"
      },
      {
        "duration": 9,
        "start_time": "2022-08-30T05:15:38.780Z"
      },
      {
        "duration": 9,
        "start_time": "2022-08-30T05:16:17.123Z"
      },
      {
        "duration": 10,
        "start_time": "2022-08-30T05:16:32.803Z"
      },
      {
        "duration": 17,
        "start_time": "2022-08-30T05:17:57.849Z"
      },
      {
        "duration": 7,
        "start_time": "2022-08-30T05:18:22.211Z"
      },
      {
        "duration": 43,
        "start_time": "2022-08-30T11:28:47.872Z"
      },
      {
        "duration": 683,
        "start_time": "2022-08-30T11:29:04.109Z"
      },
      {
        "duration": 22,
        "start_time": "2022-08-30T11:29:04.794Z"
      },
      {
        "duration": 14,
        "start_time": "2022-08-30T11:29:04.818Z"
      },
      {
        "duration": 8,
        "start_time": "2022-08-30T11:29:04.834Z"
      },
      {
        "duration": 32,
        "start_time": "2022-08-30T11:29:04.843Z"
      },
      {
        "duration": 25,
        "start_time": "2022-08-30T11:29:04.876Z"
      },
      {
        "duration": 11,
        "start_time": "2022-08-30T11:29:04.903Z"
      },
      {
        "duration": 8,
        "start_time": "2022-08-30T11:29:04.916Z"
      },
      {
        "duration": 15,
        "start_time": "2022-08-30T11:29:04.925Z"
      },
      {
        "duration": 4,
        "start_time": "2022-08-30T11:29:04.944Z"
      },
      {
        "duration": 33,
        "start_time": "2022-08-30T11:29:04.950Z"
      },
      {
        "duration": 21,
        "start_time": "2022-08-30T11:29:04.985Z"
      },
      {
        "duration": 5,
        "start_time": "2022-08-30T11:29:05.008Z"
      },
      {
        "duration": 18,
        "start_time": "2022-08-30T11:29:05.014Z"
      },
      {
        "duration": 47,
        "start_time": "2022-08-30T11:29:05.034Z"
      },
      {
        "duration": 18,
        "start_time": "2022-08-30T11:29:05.083Z"
      },
      {
        "duration": 3,
        "start_time": "2022-08-30T11:29:05.102Z"
      },
      {
        "duration": 13,
        "start_time": "2022-08-30T11:29:05.106Z"
      },
      {
        "duration": 16,
        "start_time": "2022-08-30T11:29:05.121Z"
      },
      {
        "duration": 9,
        "start_time": "2022-08-30T11:29:05.139Z"
      },
      {
        "duration": 12,
        "start_time": "2022-08-30T11:29:05.150Z"
      },
      {
        "duration": 18,
        "start_time": "2022-08-30T11:29:05.163Z"
      },
      {
        "duration": 4,
        "start_time": "2022-08-30T11:29:05.182Z"
      },
      {
        "duration": 5,
        "start_time": "2022-08-30T11:29:05.188Z"
      },
      {
        "duration": 10,
        "start_time": "2022-08-30T11:29:05.195Z"
      },
      {
        "duration": 7,
        "start_time": "2022-08-30T11:55:03.499Z"
      },
      {
        "duration": 484,
        "start_time": "2022-08-30T13:00:27.303Z"
      },
      {
        "duration": 21,
        "start_time": "2022-08-30T13:00:27.789Z"
      },
      {
        "duration": 18,
        "start_time": "2022-08-30T13:00:27.811Z"
      },
      {
        "duration": 9,
        "start_time": "2022-08-30T13:00:27.831Z"
      },
      {
        "duration": 41,
        "start_time": "2022-08-30T13:00:27.841Z"
      },
      {
        "duration": 4,
        "start_time": "2022-08-30T13:00:27.883Z"
      },
      {
        "duration": 25,
        "start_time": "2022-08-30T13:00:27.888Z"
      },
      {
        "duration": 5,
        "start_time": "2022-08-30T13:00:27.915Z"
      },
      {
        "duration": 12,
        "start_time": "2022-08-30T13:00:27.921Z"
      },
      {
        "duration": 5,
        "start_time": "2022-08-30T13:00:27.936Z"
      },
      {
        "duration": 32,
        "start_time": "2022-08-30T13:00:27.943Z"
      },
      {
        "duration": 24,
        "start_time": "2022-08-30T13:00:27.977Z"
      },
      {
        "duration": 5,
        "start_time": "2022-08-30T13:00:28.003Z"
      },
      {
        "duration": 14,
        "start_time": "2022-08-30T13:00:28.010Z"
      },
      {
        "duration": 23,
        "start_time": "2022-08-30T13:00:28.026Z"
      },
      {
        "duration": 17,
        "start_time": "2022-08-30T13:00:28.050Z"
      },
      {
        "duration": 4,
        "start_time": "2022-08-30T13:00:28.068Z"
      },
      {
        "duration": 11,
        "start_time": "2022-08-30T13:00:28.099Z"
      },
      {
        "duration": 13,
        "start_time": "2022-08-30T13:00:28.112Z"
      },
      {
        "duration": 8,
        "start_time": "2022-08-30T13:00:28.127Z"
      },
      {
        "duration": 16,
        "start_time": "2022-08-30T13:00:28.137Z"
      },
      {
        "duration": 14,
        "start_time": "2022-08-30T13:00:28.155Z"
      },
      {
        "duration": 14,
        "start_time": "2022-08-30T13:00:28.171Z"
      },
      {
        "duration": 6,
        "start_time": "2022-08-30T13:00:28.186Z"
      },
      {
        "duration": 7,
        "start_time": "2022-08-30T13:00:28.193Z"
      },
      {
        "duration": 68,
        "start_time": "2022-08-30T13:09:24.036Z"
      },
      {
        "duration": 14,
        "start_time": "2022-08-30T13:09:36.046Z"
      },
      {
        "duration": 11,
        "start_time": "2022-08-30T13:09:42.450Z"
      },
      {
        "duration": 11,
        "start_time": "2022-08-30T13:09:59.853Z"
      },
      {
        "duration": 11,
        "start_time": "2022-08-30T13:10:09.102Z"
      },
      {
        "duration": 15,
        "start_time": "2022-08-30T13:12:17.951Z"
      },
      {
        "duration": 12,
        "start_time": "2022-08-30T13:12:34.638Z"
      },
      {
        "duration": 7,
        "start_time": "2022-08-30T13:12:47.455Z"
      },
      {
        "duration": 11,
        "start_time": "2022-08-30T13:13:05.138Z"
      },
      {
        "duration": 7,
        "start_time": "2022-08-30T13:13:25.209Z"
      },
      {
        "duration": 7,
        "start_time": "2022-08-30T13:13:50.833Z"
      },
      {
        "duration": 92,
        "start_time": "2022-08-30T13:14:06.598Z"
      },
      {
        "duration": 70,
        "start_time": "2022-08-30T13:15:20.313Z"
      },
      {
        "duration": 51,
        "start_time": "2022-08-30T13:15:39.738Z"
      },
      {
        "duration": 72,
        "start_time": "2022-08-30T13:15:55.539Z"
      },
      {
        "duration": 57,
        "start_time": "2022-08-30T13:16:03.682Z"
      },
      {
        "duration": 117,
        "start_time": "2022-08-30T13:16:11.238Z"
      },
      {
        "duration": 50,
        "start_time": "2022-08-30T13:16:17.380Z"
      },
      {
        "duration": 50,
        "start_time": "2022-08-30T13:16:21.333Z"
      },
      {
        "duration": 77,
        "start_time": "2022-08-30T13:16:24.937Z"
      },
      {
        "duration": 54,
        "start_time": "2022-08-30T13:16:29.838Z"
      },
      {
        "duration": 126,
        "start_time": "2022-08-30T13:16:33.635Z"
      },
      {
        "duration": 51,
        "start_time": "2022-08-30T13:16:40.172Z"
      },
      {
        "duration": 489,
        "start_time": "2022-08-30T13:16:46.591Z"
      },
      {
        "duration": 22,
        "start_time": "2022-08-30T13:16:47.082Z"
      },
      {
        "duration": 14,
        "start_time": "2022-08-30T13:16:47.106Z"
      },
      {
        "duration": 10,
        "start_time": "2022-08-30T13:16:47.123Z"
      },
      {
        "duration": 34,
        "start_time": "2022-08-30T13:16:47.135Z"
      },
      {
        "duration": 3,
        "start_time": "2022-08-30T13:16:47.171Z"
      },
      {
        "duration": 30,
        "start_time": "2022-08-30T13:16:47.175Z"
      },
      {
        "duration": 5,
        "start_time": "2022-08-30T13:16:47.207Z"
      },
      {
        "duration": 13,
        "start_time": "2022-08-30T13:16:47.213Z"
      },
      {
        "duration": 9,
        "start_time": "2022-08-30T13:16:47.230Z"
      },
      {
        "duration": 53,
        "start_time": "2022-08-30T13:16:47.240Z"
      },
      {
        "duration": 11,
        "start_time": "2022-08-30T13:16:47.295Z"
      },
      {
        "duration": 4,
        "start_time": "2022-08-30T13:16:47.308Z"
      },
      {
        "duration": 20,
        "start_time": "2022-08-30T13:16:47.313Z"
      },
      {
        "duration": 23,
        "start_time": "2022-08-30T13:16:47.335Z"
      },
      {
        "duration": 47,
        "start_time": "2022-08-30T13:16:47.360Z"
      },
      {
        "duration": 7,
        "start_time": "2022-08-30T13:16:47.409Z"
      },
      {
        "duration": 16,
        "start_time": "2022-08-30T13:16:47.418Z"
      },
      {
        "duration": 8,
        "start_time": "2022-08-30T13:16:47.436Z"
      },
      {
        "duration": 7,
        "start_time": "2022-08-30T13:16:47.445Z"
      },
      {
        "duration": 15,
        "start_time": "2022-08-30T13:16:47.453Z"
      },
      {
        "duration": 41,
        "start_time": "2022-08-30T13:16:47.470Z"
      },
      {
        "duration": 0,
        "start_time": "2022-08-30T13:16:47.513Z"
      },
      {
        "duration": 0,
        "start_time": "2022-08-30T13:16:47.514Z"
      },
      {
        "duration": 0,
        "start_time": "2022-08-30T13:16:47.516Z"
      },
      {
        "duration": 8,
        "start_time": "2022-08-30T13:17:25.642Z"
      },
      {
        "duration": 13,
        "start_time": "2022-08-30T13:17:51.527Z"
      },
      {
        "duration": 108,
        "start_time": "2022-08-30T13:18:19.155Z"
      },
      {
        "duration": 91,
        "start_time": "2022-08-30T13:18:31.206Z"
      },
      {
        "duration": 10,
        "start_time": "2022-08-30T13:18:40.818Z"
      },
      {
        "duration": 12,
        "start_time": "2022-08-30T13:18:56.770Z"
      },
      {
        "duration": 10,
        "start_time": "2022-08-30T13:19:01.289Z"
      },
      {
        "duration": 420,
        "start_time": "2022-08-30T13:19:05.031Z"
      },
      {
        "duration": 21,
        "start_time": "2022-08-30T13:19:05.452Z"
      },
      {
        "duration": 18,
        "start_time": "2022-08-30T13:19:05.474Z"
      },
      {
        "duration": 9,
        "start_time": "2022-08-30T13:19:05.494Z"
      },
      {
        "duration": 32,
        "start_time": "2022-08-30T13:19:05.504Z"
      },
      {
        "duration": 3,
        "start_time": "2022-08-30T13:19:05.537Z"
      },
      {
        "duration": 17,
        "start_time": "2022-08-30T13:19:05.542Z"
      },
      {
        "duration": 13,
        "start_time": "2022-08-30T13:19:05.560Z"
      },
      {
        "duration": 26,
        "start_time": "2022-08-30T13:19:05.574Z"
      },
      {
        "duration": 23,
        "start_time": "2022-08-30T13:19:05.603Z"
      },
      {
        "duration": 47,
        "start_time": "2022-08-30T13:19:05.627Z"
      },
      {
        "duration": 10,
        "start_time": "2022-08-30T13:19:05.676Z"
      },
      {
        "duration": 15,
        "start_time": "2022-08-30T13:19:05.687Z"
      },
      {
        "duration": 14,
        "start_time": "2022-08-30T13:19:05.704Z"
      },
      {
        "duration": 26,
        "start_time": "2022-08-30T13:19:05.719Z"
      },
      {
        "duration": 18,
        "start_time": "2022-08-30T13:19:05.747Z"
      },
      {
        "duration": 4,
        "start_time": "2022-08-30T13:19:05.766Z"
      },
      {
        "duration": 28,
        "start_time": "2022-08-30T13:19:05.772Z"
      },
      {
        "duration": 13,
        "start_time": "2022-08-30T13:19:05.803Z"
      },
      {
        "duration": 9,
        "start_time": "2022-08-30T13:19:05.818Z"
      },
      {
        "duration": 34,
        "start_time": "2022-08-30T13:19:05.829Z"
      },
      {
        "duration": 22,
        "start_time": "2022-08-30T13:19:05.865Z"
      },
      {
        "duration": 2,
        "start_time": "2022-08-30T13:19:05.889Z"
      },
      {
        "duration": 12,
        "start_time": "2022-08-30T13:19:05.893Z"
      },
      {
        "duration": 6,
        "start_time": "2022-08-30T13:19:05.906Z"
      },
      {
        "duration": 16,
        "start_time": "2022-08-30T13:20:19.370Z"
      },
      {
        "duration": 4,
        "start_time": "2022-08-30T13:21:13.702Z"
      },
      {
        "duration": 11,
        "start_time": "2022-08-30T13:21:41.542Z"
      },
      {
        "duration": 8,
        "start_time": "2022-08-30T13:24:34.058Z"
      },
      {
        "duration": 59,
        "start_time": "2022-08-30T13:26:33.987Z"
      },
      {
        "duration": 12,
        "start_time": "2022-08-30T13:26:38.793Z"
      },
      {
        "duration": 20,
        "start_time": "2022-08-30T13:45:21.482Z"
      },
      {
        "duration": 25,
        "start_time": "2022-08-30T13:50:25.514Z"
      },
      {
        "duration": 12,
        "start_time": "2022-08-30T13:50:30.260Z"
      },
      {
        "duration": 12,
        "start_time": "2022-08-30T13:50:44.442Z"
      },
      {
        "duration": 13,
        "start_time": "2022-08-30T13:52:14.897Z"
      },
      {
        "duration": 12,
        "start_time": "2022-08-30T13:52:33.633Z"
      },
      {
        "duration": 20,
        "start_time": "2022-08-30T16:37:22.655Z"
      },
      {
        "duration": 13,
        "start_time": "2022-08-30T16:38:00.659Z"
      },
      {
        "duration": 12,
        "start_time": "2022-08-30T16:40:24.781Z"
      },
      {
        "duration": 14,
        "start_time": "2022-08-30T16:40:51.482Z"
      },
      {
        "duration": 57,
        "start_time": "2022-08-30T16:47:43.824Z"
      },
      {
        "duration": 52,
        "start_time": "2022-08-30T16:47:50.836Z"
      },
      {
        "duration": 73,
        "start_time": "2022-08-30T16:48:01.976Z"
      },
      {
        "duration": 463,
        "start_time": "2022-08-30T16:48:05.992Z"
      },
      {
        "duration": 24,
        "start_time": "2022-08-30T16:48:06.456Z"
      },
      {
        "duration": 25,
        "start_time": "2022-08-30T16:48:06.481Z"
      },
      {
        "duration": 16,
        "start_time": "2022-08-30T16:48:06.508Z"
      },
      {
        "duration": 36,
        "start_time": "2022-08-30T16:48:06.525Z"
      },
      {
        "duration": 3,
        "start_time": "2022-08-30T16:48:06.562Z"
      },
      {
        "duration": 28,
        "start_time": "2022-08-30T16:48:06.566Z"
      },
      {
        "duration": 8,
        "start_time": "2022-08-30T16:48:06.596Z"
      },
      {
        "duration": 20,
        "start_time": "2022-08-30T16:48:06.606Z"
      },
      {
        "duration": 11,
        "start_time": "2022-08-30T16:48:06.629Z"
      },
      {
        "duration": 38,
        "start_time": "2022-08-30T16:48:06.642Z"
      },
      {
        "duration": 8,
        "start_time": "2022-08-30T16:48:06.682Z"
      },
      {
        "duration": 11,
        "start_time": "2022-08-30T16:48:06.692Z"
      },
      {
        "duration": 29,
        "start_time": "2022-08-30T16:48:06.705Z"
      },
      {
        "duration": 35,
        "start_time": "2022-08-30T16:48:06.735Z"
      },
      {
        "duration": 15,
        "start_time": "2022-08-30T16:48:06.772Z"
      },
      {
        "duration": 7,
        "start_time": "2022-08-30T16:48:06.789Z"
      },
      {
        "duration": 41,
        "start_time": "2022-08-30T16:48:06.797Z"
      },
      {
        "duration": 19,
        "start_time": "2022-08-30T16:48:06.839Z"
      },
      {
        "duration": 23,
        "start_time": "2022-08-30T16:48:06.860Z"
      },
      {
        "duration": 15,
        "start_time": "2022-08-30T16:48:06.884Z"
      },
      {
        "duration": 75,
        "start_time": "2022-08-30T16:48:06.900Z"
      },
      {
        "duration": 0,
        "start_time": "2022-08-30T16:48:06.977Z"
      },
      {
        "duration": 0,
        "start_time": "2022-08-30T16:48:06.978Z"
      },
      {
        "duration": 0,
        "start_time": "2022-08-30T16:48:06.980Z"
      },
      {
        "duration": 896,
        "start_time": "2022-08-30T16:48:26.359Z"
      },
      {
        "duration": 126,
        "start_time": "2022-08-30T16:49:16.914Z"
      },
      {
        "duration": 920,
        "start_time": "2022-08-30T16:49:49.968Z"
      },
      {
        "duration": 824,
        "start_time": "2022-08-30T16:50:33.356Z"
      },
      {
        "duration": 1017,
        "start_time": "2022-08-30T16:51:29.667Z"
      },
      {
        "duration": 890,
        "start_time": "2022-08-30T16:51:43.239Z"
      },
      {
        "duration": 10,
        "start_time": "2022-08-30T16:51:50.119Z"
      },
      {
        "duration": 775,
        "start_time": "2022-08-30T16:52:29.250Z"
      },
      {
        "duration": 503,
        "start_time": "2022-08-30T16:52:36.673Z"
      },
      {
        "duration": 24,
        "start_time": "2022-08-30T16:52:37.181Z"
      },
      {
        "duration": 60,
        "start_time": "2022-08-30T16:52:37.207Z"
      },
      {
        "duration": 24,
        "start_time": "2022-08-30T16:52:37.269Z"
      },
      {
        "duration": 41,
        "start_time": "2022-08-30T16:52:37.295Z"
      },
      {
        "duration": 4,
        "start_time": "2022-08-30T16:52:37.338Z"
      },
      {
        "duration": 18,
        "start_time": "2022-08-30T16:52:37.343Z"
      },
      {
        "duration": 9,
        "start_time": "2022-08-30T16:52:37.362Z"
      },
      {
        "duration": 21,
        "start_time": "2022-08-30T16:52:37.374Z"
      },
      {
        "duration": 19,
        "start_time": "2022-08-30T16:52:37.397Z"
      },
      {
        "duration": 49,
        "start_time": "2022-08-30T16:52:37.418Z"
      },
      {
        "duration": 11,
        "start_time": "2022-08-30T16:52:37.468Z"
      },
      {
        "duration": 18,
        "start_time": "2022-08-30T16:52:37.481Z"
      },
      {
        "duration": 29,
        "start_time": "2022-08-30T16:52:37.501Z"
      },
      {
        "duration": 26,
        "start_time": "2022-08-30T16:52:37.531Z"
      },
      {
        "duration": 28,
        "start_time": "2022-08-30T16:52:37.560Z"
      },
      {
        "duration": 5,
        "start_time": "2022-08-30T16:52:37.590Z"
      },
      {
        "duration": 98,
        "start_time": "2022-08-30T16:52:37.600Z"
      },
      {
        "duration": 214,
        "start_time": "2022-08-30T16:52:37.700Z"
      },
      {
        "duration": 101,
        "start_time": "2022-08-30T16:52:37.917Z"
      },
      {
        "duration": 56,
        "start_time": "2022-08-30T16:52:38.020Z"
      },
      {
        "duration": 2410,
        "start_time": "2022-08-30T16:52:38.078Z"
      },
      {
        "duration": 0,
        "start_time": "2022-08-30T16:52:40.490Z"
      },
      {
        "duration": 0,
        "start_time": "2022-08-30T16:52:40.491Z"
      },
      {
        "duration": 0,
        "start_time": "2022-08-30T16:52:40.492Z"
      },
      {
        "duration": 1013,
        "start_time": "2022-08-30T17:04:27.101Z"
      },
      {
        "duration": 2011,
        "start_time": "2022-08-30T17:05:03.207Z"
      },
      {
        "duration": 2952,
        "start_time": "2022-08-30T17:05:10.394Z"
      },
      {
        "duration": 8,
        "start_time": "2022-08-30T17:05:16.593Z"
      },
      {
        "duration": 1395,
        "start_time": "2022-08-30T17:07:35.035Z"
      },
      {
        "duration": 1274,
        "start_time": "2022-08-30T17:07:41.302Z"
      },
      {
        "duration": 10,
        "start_time": "2022-08-30T17:08:10.673Z"
      },
      {
        "duration": 10,
        "start_time": "2022-08-30T17:08:21.155Z"
      },
      {
        "duration": 871,
        "start_time": "2022-08-30T17:08:39.148Z"
      },
      {
        "duration": 907,
        "start_time": "2022-08-30T17:08:54.437Z"
      },
      {
        "duration": 58,
        "start_time": "2022-08-30T17:09:08.696Z"
      },
      {
        "duration": 9,
        "start_time": "2022-08-30T17:09:51.092Z"
      },
      {
        "duration": 13,
        "start_time": "2022-08-30T17:10:10.094Z"
      },
      {
        "duration": 12,
        "start_time": "2022-08-30T17:10:18.156Z"
      },
      {
        "duration": 10,
        "start_time": "2022-08-30T17:10:33.166Z"
      },
      {
        "duration": 15,
        "start_time": "2022-08-30T17:10:53.301Z"
      },
      {
        "duration": 16,
        "start_time": "2022-08-30T17:11:09.517Z"
      },
      {
        "duration": 12,
        "start_time": "2022-08-30T17:11:24.331Z"
      },
      {
        "duration": 477,
        "start_time": "2022-08-30T17:11:42.472Z"
      },
      {
        "duration": 20,
        "start_time": "2022-08-30T17:11:42.951Z"
      },
      {
        "duration": 21,
        "start_time": "2022-08-30T17:11:42.973Z"
      },
      {
        "duration": 9,
        "start_time": "2022-08-30T17:11:43.001Z"
      },
      {
        "duration": 41,
        "start_time": "2022-08-30T17:11:43.012Z"
      },
      {
        "duration": 3,
        "start_time": "2022-08-30T17:11:43.055Z"
      },
      {
        "duration": 11,
        "start_time": "2022-08-30T17:11:43.059Z"
      },
      {
        "duration": 6,
        "start_time": "2022-08-30T17:11:43.072Z"
      },
      {
        "duration": 21,
        "start_time": "2022-08-30T17:11:43.079Z"
      },
      {
        "duration": 9,
        "start_time": "2022-08-30T17:11:43.103Z"
      },
      {
        "duration": 32,
        "start_time": "2022-08-30T17:11:43.113Z"
      },
      {
        "duration": 9,
        "start_time": "2022-08-30T17:11:43.146Z"
      },
      {
        "duration": 9,
        "start_time": "2022-08-30T17:11:43.156Z"
      },
      {
        "duration": 12,
        "start_time": "2022-08-30T17:11:43.166Z"
      },
      {
        "duration": 32,
        "start_time": "2022-08-30T17:11:43.179Z"
      },
      {
        "duration": 18,
        "start_time": "2022-08-30T17:11:43.212Z"
      },
      {
        "duration": 3,
        "start_time": "2022-08-30T17:11:43.231Z"
      },
      {
        "duration": 16,
        "start_time": "2022-08-30T17:11:43.236Z"
      },
      {
        "duration": 8,
        "start_time": "2022-08-30T17:11:43.254Z"
      },
      {
        "duration": 3,
        "start_time": "2022-08-30T17:11:43.264Z"
      },
      {
        "duration": 32,
        "start_time": "2022-08-30T17:11:43.268Z"
      },
      {
        "duration": 740,
        "start_time": "2022-08-30T17:11:43.301Z"
      },
      {
        "duration": 11,
        "start_time": "2022-08-30T17:11:44.043Z"
      },
      {
        "duration": 12,
        "start_time": "2022-08-30T17:11:44.055Z"
      },
      {
        "duration": 15,
        "start_time": "2022-08-30T17:11:44.069Z"
      },
      {
        "duration": 93,
        "start_time": "2022-08-30T17:18:50.360Z"
      },
      {
        "duration": 15,
        "start_time": "2022-08-30T17:19:13.067Z"
      },
      {
        "duration": 17,
        "start_time": "2022-08-30T17:19:24.449Z"
      },
      {
        "duration": 17,
        "start_time": "2022-08-30T17:19:34.624Z"
      },
      {
        "duration": 13,
        "start_time": "2022-08-30T17:23:18.307Z"
      },
      {
        "duration": 433,
        "start_time": "2022-08-30T19:54:57.547Z"
      },
      {
        "duration": 19,
        "start_time": "2022-08-30T19:54:57.982Z"
      },
      {
        "duration": 12,
        "start_time": "2022-08-30T19:54:58.003Z"
      },
      {
        "duration": 14,
        "start_time": "2022-08-30T19:54:58.017Z"
      },
      {
        "duration": 31,
        "start_time": "2022-08-30T19:54:58.033Z"
      },
      {
        "duration": 4,
        "start_time": "2022-08-30T19:54:58.065Z"
      },
      {
        "duration": 9,
        "start_time": "2022-08-30T19:54:58.070Z"
      },
      {
        "duration": 5,
        "start_time": "2022-08-30T19:54:58.080Z"
      },
      {
        "duration": 12,
        "start_time": "2022-08-30T19:54:58.086Z"
      },
      {
        "duration": 4,
        "start_time": "2022-08-30T19:54:58.101Z"
      },
      {
        "duration": 29,
        "start_time": "2022-08-30T19:54:58.131Z"
      },
      {
        "duration": 9,
        "start_time": "2022-08-30T19:54:58.161Z"
      },
      {
        "duration": 4,
        "start_time": "2022-08-30T19:54:58.171Z"
      },
      {
        "duration": 15,
        "start_time": "2022-08-30T19:54:58.176Z"
      },
      {
        "duration": 40,
        "start_time": "2022-08-30T19:54:58.192Z"
      },
      {
        "duration": 16,
        "start_time": "2022-08-30T19:54:58.233Z"
      },
      {
        "duration": 3,
        "start_time": "2022-08-30T19:54:58.250Z"
      },
      {
        "duration": 9,
        "start_time": "2022-08-30T19:54:58.255Z"
      },
      {
        "duration": 5,
        "start_time": "2022-08-30T19:54:58.266Z"
      },
      {
        "duration": 3,
        "start_time": "2022-08-30T19:54:58.272Z"
      },
      {
        "duration": 11,
        "start_time": "2022-08-30T19:54:58.276Z"
      },
      {
        "duration": 9,
        "start_time": "2022-08-30T19:54:58.288Z"
      },
      {
        "duration": 36,
        "start_time": "2022-08-30T19:54:58.298Z"
      },
      {
        "duration": 9,
        "start_time": "2022-08-30T19:54:58.335Z"
      },
      {
        "duration": 10,
        "start_time": "2022-08-30T19:54:58.345Z"
      },
      {
        "duration": 85,
        "start_time": "2022-08-31T03:47:45.241Z"
      },
      {
        "duration": 15,
        "start_time": "2022-08-31T03:47:45.328Z"
      },
      {
        "duration": 15,
        "start_time": "2022-08-31T03:47:45.347Z"
      },
      {
        "duration": 33,
        "start_time": "2022-08-31T03:47:45.364Z"
      },
      {
        "duration": 39,
        "start_time": "2022-08-31T03:47:45.399Z"
      },
      {
        "duration": 4,
        "start_time": "2022-08-31T03:47:45.439Z"
      },
      {
        "duration": 13,
        "start_time": "2022-08-31T03:47:45.445Z"
      },
      {
        "duration": 9,
        "start_time": "2022-08-31T03:47:45.459Z"
      },
      {
        "duration": 27,
        "start_time": "2022-08-31T03:47:45.470Z"
      },
      {
        "duration": 5,
        "start_time": "2022-08-31T03:47:45.498Z"
      },
      {
        "duration": 41,
        "start_time": "2022-08-31T03:47:45.504Z"
      },
      {
        "duration": 10,
        "start_time": "2022-08-31T03:47:45.548Z"
      },
      {
        "duration": 6,
        "start_time": "2022-08-31T03:47:45.560Z"
      },
      {
        "duration": 33,
        "start_time": "2022-08-31T03:47:45.568Z"
      },
      {
        "duration": 25,
        "start_time": "2022-08-31T03:47:45.603Z"
      },
      {
        "duration": 19,
        "start_time": "2022-08-31T03:47:45.630Z"
      },
      {
        "duration": 4,
        "start_time": "2022-08-31T03:47:45.651Z"
      },
      {
        "duration": 16,
        "start_time": "2022-08-31T03:47:45.656Z"
      },
      {
        "duration": 19,
        "start_time": "2022-08-31T03:47:45.674Z"
      },
      {
        "duration": 3,
        "start_time": "2022-08-31T03:47:45.695Z"
      },
      {
        "duration": 11,
        "start_time": "2022-08-31T03:47:45.700Z"
      },
      {
        "duration": 9,
        "start_time": "2022-08-31T03:47:45.713Z"
      },
      {
        "duration": 16,
        "start_time": "2022-08-31T03:47:45.724Z"
      },
      {
        "duration": 12,
        "start_time": "2022-08-31T03:47:45.741Z"
      },
      {
        "duration": 46,
        "start_time": "2022-08-31T03:47:45.755Z"
      },
      {
        "duration": 497,
        "start_time": "2022-08-31T04:09:11.100Z"
      },
      {
        "duration": 24,
        "start_time": "2022-08-31T04:09:11.599Z"
      },
      {
        "duration": 16,
        "start_time": "2022-08-31T04:09:11.627Z"
      },
      {
        "duration": 10,
        "start_time": "2022-08-31T04:09:11.645Z"
      },
      {
        "duration": 63,
        "start_time": "2022-08-31T04:09:11.656Z"
      },
      {
        "duration": 4,
        "start_time": "2022-08-31T04:09:11.721Z"
      },
      {
        "duration": 12,
        "start_time": "2022-08-31T04:09:11.726Z"
      },
      {
        "duration": 4,
        "start_time": "2022-08-31T04:09:11.740Z"
      },
      {
        "duration": 11,
        "start_time": "2022-08-31T04:09:11.746Z"
      },
      {
        "duration": 5,
        "start_time": "2022-08-31T04:09:11.759Z"
      },
      {
        "duration": 75,
        "start_time": "2022-08-31T04:09:11.766Z"
      },
      {
        "duration": 13,
        "start_time": "2022-08-31T04:09:11.844Z"
      },
      {
        "duration": 7,
        "start_time": "2022-08-31T04:09:11.860Z"
      },
      {
        "duration": 29,
        "start_time": "2022-08-31T04:09:11.869Z"
      },
      {
        "duration": 35,
        "start_time": "2022-08-31T04:09:11.900Z"
      },
      {
        "duration": 24,
        "start_time": "2022-08-31T04:09:11.938Z"
      },
      {
        "duration": 5,
        "start_time": "2022-08-31T04:09:11.964Z"
      },
      {
        "duration": 11,
        "start_time": "2022-08-31T04:09:11.994Z"
      },
      {
        "duration": 10,
        "start_time": "2022-08-31T04:09:12.006Z"
      },
      {
        "duration": 4,
        "start_time": "2022-08-31T04:09:12.018Z"
      },
      {
        "duration": 13,
        "start_time": "2022-08-31T04:09:12.023Z"
      },
      {
        "duration": 15,
        "start_time": "2022-08-31T04:09:12.038Z"
      },
      {
        "duration": 16,
        "start_time": "2022-08-31T04:09:12.055Z"
      },
      {
        "duration": 13,
        "start_time": "2022-08-31T04:09:12.091Z"
      },
      {
        "duration": 13,
        "start_time": "2022-08-31T04:09:12.106Z"
      },
      {
        "duration": 464,
        "start_time": "2022-08-31T17:58:20.588Z"
      },
      {
        "duration": 20,
        "start_time": "2022-08-31T17:58:21.054Z"
      },
      {
        "duration": 14,
        "start_time": "2022-08-31T17:58:21.075Z"
      },
      {
        "duration": 25,
        "start_time": "2022-08-31T17:58:21.090Z"
      },
      {
        "duration": 32,
        "start_time": "2022-08-31T17:58:21.119Z"
      },
      {
        "duration": 3,
        "start_time": "2022-08-31T17:58:21.153Z"
      },
      {
        "duration": 10,
        "start_time": "2022-08-31T17:58:21.157Z"
      },
      {
        "duration": 7,
        "start_time": "2022-08-31T17:58:21.169Z"
      },
      {
        "duration": 8,
        "start_time": "2022-08-31T17:58:21.177Z"
      },
      {
        "duration": 3,
        "start_time": "2022-08-31T17:58:21.186Z"
      },
      {
        "duration": 46,
        "start_time": "2022-08-31T17:58:21.191Z"
      },
      {
        "duration": 8,
        "start_time": "2022-08-31T17:58:21.238Z"
      },
      {
        "duration": 8,
        "start_time": "2022-08-31T17:58:21.248Z"
      },
      {
        "duration": 11,
        "start_time": "2022-08-31T17:58:21.258Z"
      },
      {
        "duration": 20,
        "start_time": "2022-08-31T17:58:21.271Z"
      },
      {
        "duration": 32,
        "start_time": "2022-08-31T17:58:21.292Z"
      },
      {
        "duration": 3,
        "start_time": "2022-08-31T17:58:21.325Z"
      },
      {
        "duration": 12,
        "start_time": "2022-08-31T17:58:21.329Z"
      },
      {
        "duration": 6,
        "start_time": "2022-08-31T17:58:21.342Z"
      },
      {
        "duration": 17,
        "start_time": "2022-08-31T17:58:21.350Z"
      },
      {
        "duration": 14,
        "start_time": "2022-08-31T17:58:21.368Z"
      },
      {
        "duration": 21,
        "start_time": "2022-08-31T17:58:21.383Z"
      },
      {
        "duration": 13,
        "start_time": "2022-08-31T17:58:21.412Z"
      },
      {
        "duration": 10,
        "start_time": "2022-08-31T17:58:21.427Z"
      },
      {
        "duration": 12,
        "start_time": "2022-08-31T17:58:21.439Z"
      }
    ],
    "colab": {
      "provenance": []
    },
    "kernelspec": {
      "display_name": "Python 3 (ipykernel)",
      "language": "python",
      "name": "python3"
    },
    "language_info": {
      "codemirror_mode": {
        "name": "ipython",
        "version": 3
      },
      "file_extension": ".py",
      "mimetype": "text/x-python",
      "name": "python",
      "nbconvert_exporter": "python",
      "pygments_lexer": "ipython3",
      "version": "3.9.5"
    },
    "toc": {
      "base_numbering": 1,
      "nav_menu": {},
      "number_sections": true,
      "sideBar": true,
      "skip_h1_title": true,
      "title_cell": "Table of Contents",
      "title_sidebar": "Contents",
      "toc_cell": false,
      "toc_position": {},
      "toc_section_display": true,
      "toc_window_display": false
    }
  },
  "nbformat": 4,
  "nbformat_minor": 5
}