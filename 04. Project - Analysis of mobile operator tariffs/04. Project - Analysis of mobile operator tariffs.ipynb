{
 "cells": [
  {
   "cell_type": "markdown",
   "metadata": {},
   "source": [
    "# Проект: Определение выгодного тарифа для телеком компании\n",
    "\n",
    "**Задача проекта:**\n",
    "\n",
    "На основе данных клиентов оператора сотовой связи проанализировать поведение клиентов и поиск оптимального тарифа\n",
    "\n",
    "**Описание проекта:**\n",
    "\n",
    "Проведен предварительный анализ использования тарифов на выборке клиентов,\n",
    "проанализировано поведение клиентов при использовании услуг оператора и\n",
    "рекомендованы оптимальные наборы услуг для пользователей. Проведена предобработка\n",
    "данных, их анализ. Проверены гипотезы о различии выручки абонентов разных тарифов и\n",
    "различии выручки абонентов из Москвы и других регионов.\n",
    "\n",
    "**Описание тарифов**\n",
    "\n",
    "**Тариф «Смарт»**\n",
    "\n",
    "Ежемесячная плата: 550 рублей\n",
    "Включено 500 минут разговора, 50 сообщений и 15 Гб интернет-трафика\n",
    "Стоимость услуг сверх тарифного пакета:\n",
    "минута разговора: 3 рубля\n",
    "сообщение: 3 рубля\n",
    "1 Гб интернет-трафика: 200 рублей\n",
    "\n",
    "**Тариф «Ультра»**\n",
    "\n",
    "Ежемесячная плата: 1950 рублей\n",
    "Включено 3000 минут разговора, 1000 сообщений и 30 Гб интернет-трафика\n",
    "Стоимость услуг сверх тарифного пакета:\n",
    "минута разговора: 1 рубль\n",
    "сообщение: 1 рубль\n",
    "1 Гб интернет-трафика: 150 рублей"
   ]
  },
  {
   "cell_type": "markdown",
   "metadata": {},
   "source": [
    "## План работы:\n",
    "\n",
    "    1. Изучим информацию о данных\n",
    "    2. Подготовим данные к анализу\n",
    "    3. Исследовательский анализ данных\n",
    "    4. Проверка гипотиз"
   ]
  },
  {
   "cell_type": "markdown",
   "metadata": {},
   "source": [
    "## Обзор данных"
   ]
  },
  {
   "cell_type": "markdown",
   "metadata": {},
   "source": [
    "### Импорт необходимых библиотек"
   ]
  },
  {
   "cell_type": "code",
   "execution_count": 55,
   "metadata": {},
   "outputs": [],
   "source": [
    "import pandas as pd\n",
    "import matplotlib.pyplot as plt \n",
    "import numpy as np\n",
    "import seaborn as sns\n",
    "import matplotlib.pyplot as plt\n",
    "from scipy import stats as st"
   ]
  },
  {
   "cell_type": "markdown",
   "metadata": {},
   "source": [
    "### Чтение файла с данными и сохранение"
   ]
  },
  {
   "cell_type": "code",
   "execution_count": 2,
   "metadata": {},
   "outputs": [],
   "source": [
    "try:\n",
    "    calls = pd.read_csv('datasets/calls.csv')\n",
    "    messages = pd.read_csv('datasets/messages.csv')\n",
    "    internet = pd.read_csv('datasets/internet.csv')\n",
    "    tariffs = pd.read_csv('datasets/tariffs.csv')\n",
    "    users = pd.read_csv('datasets/users.csv')\n",
    "\n",
    "except:\n",
    "    calls = pd.read_csv('calls.csv')\n",
    "    messages = pd.read_csv('messages.csv')\n",
    "    internet = pd.read_csv('internet.csv')\n",
    "    tariffs = pd.read_csv('tariffs.csv')\n",
    "    users = pd.read_csv('users.csv')"
   ]
  },
  {
   "cell_type": "markdown",
   "metadata": {},
   "source": [
    "### Обзор датафрейма \"calls\""
   ]
  },
  {
   "cell_type": "code",
   "execution_count": 3,
   "metadata": {},
   "outputs": [
    {
     "name": "stdout",
     "output_type": "stream",
     "text": [
      "<class 'pandas.core.frame.DataFrame'>\n",
      "RangeIndex: 202607 entries, 0 to 202606\n",
      "Data columns (total 4 columns):\n",
      " #   Column     Non-Null Count   Dtype  \n",
      "---  ------     --------------   -----  \n",
      " 0   id         202607 non-null  object \n",
      " 1   call_date  202607 non-null  object \n",
      " 2   duration   202607 non-null  float64\n",
      " 3   user_id    202607 non-null  int64  \n",
      "dtypes: float64(1), int64(1), object(2)\n",
      "memory usage: 6.2+ MB\n"
     ]
    },
    {
     "data": {
      "text/html": [
       "<div>\n",
       "<style scoped>\n",
       "    .dataframe tbody tr th:only-of-type {\n",
       "        vertical-align: middle;\n",
       "    }\n",
       "\n",
       "    .dataframe tbody tr th {\n",
       "        vertical-align: top;\n",
       "    }\n",
       "\n",
       "    .dataframe thead th {\n",
       "        text-align: right;\n",
       "    }\n",
       "</style>\n",
       "<table border=\"1\" class=\"dataframe\">\n",
       "  <thead>\n",
       "    <tr style=\"text-align: right;\">\n",
       "      <th></th>\n",
       "      <th>id</th>\n",
       "      <th>call_date</th>\n",
       "      <th>duration</th>\n",
       "      <th>user_id</th>\n",
       "    </tr>\n",
       "  </thead>\n",
       "  <tbody>\n",
       "    <tr>\n",
       "      <th>0</th>\n",
       "      <td>1000_0</td>\n",
       "      <td>2018-07-25</td>\n",
       "      <td>0.00</td>\n",
       "      <td>1000</td>\n",
       "    </tr>\n",
       "    <tr>\n",
       "      <th>1</th>\n",
       "      <td>1000_1</td>\n",
       "      <td>2018-08-17</td>\n",
       "      <td>0.00</td>\n",
       "      <td>1000</td>\n",
       "    </tr>\n",
       "    <tr>\n",
       "      <th>2</th>\n",
       "      <td>1000_2</td>\n",
       "      <td>2018-06-11</td>\n",
       "      <td>2.85</td>\n",
       "      <td>1000</td>\n",
       "    </tr>\n",
       "    <tr>\n",
       "      <th>3</th>\n",
       "      <td>1000_3</td>\n",
       "      <td>2018-09-21</td>\n",
       "      <td>13.80</td>\n",
       "      <td>1000</td>\n",
       "    </tr>\n",
       "    <tr>\n",
       "      <th>4</th>\n",
       "      <td>1000_4</td>\n",
       "      <td>2018-12-15</td>\n",
       "      <td>5.18</td>\n",
       "      <td>1000</td>\n",
       "    </tr>\n",
       "  </tbody>\n",
       "</table>\n",
       "</div>"
      ],
      "text/plain": [
       "       id   call_date  duration  user_id\n",
       "0  1000_0  2018-07-25      0.00     1000\n",
       "1  1000_1  2018-08-17      0.00     1000\n",
       "2  1000_2  2018-06-11      2.85     1000\n",
       "3  1000_3  2018-09-21     13.80     1000\n",
       "4  1000_4  2018-12-15      5.18     1000"
      ]
     },
     "metadata": {},
     "output_type": "display_data"
    }
   ],
   "source": [
    "calls.info()\n",
    "display(calls.head(5))"
   ]
  },
  {
   "cell_type": "markdown",
   "metadata": {},
   "source": [
    "### Обзор датафрейма \"messages\""
   ]
  },
  {
   "cell_type": "code",
   "execution_count": 4,
   "metadata": {},
   "outputs": [
    {
     "name": "stdout",
     "output_type": "stream",
     "text": [
      "<class 'pandas.core.frame.DataFrame'>\n",
      "RangeIndex: 123036 entries, 0 to 123035\n",
      "Data columns (total 3 columns):\n",
      " #   Column        Non-Null Count   Dtype \n",
      "---  ------        --------------   ----- \n",
      " 0   id            123036 non-null  object\n",
      " 1   message_date  123036 non-null  object\n",
      " 2   user_id       123036 non-null  int64 \n",
      "dtypes: int64(1), object(2)\n",
      "memory usage: 2.8+ MB\n"
     ]
    },
    {
     "data": {
      "text/html": [
       "<div>\n",
       "<style scoped>\n",
       "    .dataframe tbody tr th:only-of-type {\n",
       "        vertical-align: middle;\n",
       "    }\n",
       "\n",
       "    .dataframe tbody tr th {\n",
       "        vertical-align: top;\n",
       "    }\n",
       "\n",
       "    .dataframe thead th {\n",
       "        text-align: right;\n",
       "    }\n",
       "</style>\n",
       "<table border=\"1\" class=\"dataframe\">\n",
       "  <thead>\n",
       "    <tr style=\"text-align: right;\">\n",
       "      <th></th>\n",
       "      <th>id</th>\n",
       "      <th>message_date</th>\n",
       "      <th>user_id</th>\n",
       "    </tr>\n",
       "  </thead>\n",
       "  <tbody>\n",
       "    <tr>\n",
       "      <th>0</th>\n",
       "      <td>1000_0</td>\n",
       "      <td>2018-06-27</td>\n",
       "      <td>1000</td>\n",
       "    </tr>\n",
       "    <tr>\n",
       "      <th>1</th>\n",
       "      <td>1000_1</td>\n",
       "      <td>2018-10-08</td>\n",
       "      <td>1000</td>\n",
       "    </tr>\n",
       "    <tr>\n",
       "      <th>2</th>\n",
       "      <td>1000_2</td>\n",
       "      <td>2018-08-04</td>\n",
       "      <td>1000</td>\n",
       "    </tr>\n",
       "    <tr>\n",
       "      <th>3</th>\n",
       "      <td>1000_3</td>\n",
       "      <td>2018-06-16</td>\n",
       "      <td>1000</td>\n",
       "    </tr>\n",
       "    <tr>\n",
       "      <th>4</th>\n",
       "      <td>1000_4</td>\n",
       "      <td>2018-12-05</td>\n",
       "      <td>1000</td>\n",
       "    </tr>\n",
       "  </tbody>\n",
       "</table>\n",
       "</div>"
      ],
      "text/plain": [
       "       id message_date  user_id\n",
       "0  1000_0   2018-06-27     1000\n",
       "1  1000_1   2018-10-08     1000\n",
       "2  1000_2   2018-08-04     1000\n",
       "3  1000_3   2018-06-16     1000\n",
       "4  1000_4   2018-12-05     1000"
      ]
     },
     "metadata": {},
     "output_type": "display_data"
    }
   ],
   "source": [
    "messages.info()\n",
    "display(messages.head(5))"
   ]
  },
  {
   "cell_type": "markdown",
   "metadata": {},
   "source": [
    "### Обзор датафрейма \"internet\""
   ]
  },
  {
   "cell_type": "code",
   "execution_count": 5,
   "metadata": {},
   "outputs": [
    {
     "name": "stdout",
     "output_type": "stream",
     "text": [
      "<class 'pandas.core.frame.DataFrame'>\n",
      "RangeIndex: 149396 entries, 0 to 149395\n",
      "Data columns (total 5 columns):\n",
      " #   Column        Non-Null Count   Dtype  \n",
      "---  ------        --------------   -----  \n",
      " 0   Unnamed: 0    149396 non-null  int64  \n",
      " 1   id            149396 non-null  object \n",
      " 2   mb_used       149396 non-null  float64\n",
      " 3   session_date  149396 non-null  object \n",
      " 4   user_id       149396 non-null  int64  \n",
      "dtypes: float64(1), int64(2), object(2)\n",
      "memory usage: 5.7+ MB\n"
     ]
    },
    {
     "data": {
      "text/html": [
       "<div>\n",
       "<style scoped>\n",
       "    .dataframe tbody tr th:only-of-type {\n",
       "        vertical-align: middle;\n",
       "    }\n",
       "\n",
       "    .dataframe tbody tr th {\n",
       "        vertical-align: top;\n",
       "    }\n",
       "\n",
       "    .dataframe thead th {\n",
       "        text-align: right;\n",
       "    }\n",
       "</style>\n",
       "<table border=\"1\" class=\"dataframe\">\n",
       "  <thead>\n",
       "    <tr style=\"text-align: right;\">\n",
       "      <th></th>\n",
       "      <th>Unnamed: 0</th>\n",
       "      <th>id</th>\n",
       "      <th>mb_used</th>\n",
       "      <th>session_date</th>\n",
       "      <th>user_id</th>\n",
       "    </tr>\n",
       "  </thead>\n",
       "  <tbody>\n",
       "    <tr>\n",
       "      <th>0</th>\n",
       "      <td>0</td>\n",
       "      <td>1000_0</td>\n",
       "      <td>112.95</td>\n",
       "      <td>2018-11-25</td>\n",
       "      <td>1000</td>\n",
       "    </tr>\n",
       "    <tr>\n",
       "      <th>1</th>\n",
       "      <td>1</td>\n",
       "      <td>1000_1</td>\n",
       "      <td>1052.81</td>\n",
       "      <td>2018-09-07</td>\n",
       "      <td>1000</td>\n",
       "    </tr>\n",
       "    <tr>\n",
       "      <th>2</th>\n",
       "      <td>2</td>\n",
       "      <td>1000_2</td>\n",
       "      <td>1197.26</td>\n",
       "      <td>2018-06-25</td>\n",
       "      <td>1000</td>\n",
       "    </tr>\n",
       "    <tr>\n",
       "      <th>3</th>\n",
       "      <td>3</td>\n",
       "      <td>1000_3</td>\n",
       "      <td>550.27</td>\n",
       "      <td>2018-08-22</td>\n",
       "      <td>1000</td>\n",
       "    </tr>\n",
       "    <tr>\n",
       "      <th>4</th>\n",
       "      <td>4</td>\n",
       "      <td>1000_4</td>\n",
       "      <td>302.56</td>\n",
       "      <td>2018-09-24</td>\n",
       "      <td>1000</td>\n",
       "    </tr>\n",
       "  </tbody>\n",
       "</table>\n",
       "</div>"
      ],
      "text/plain": [
       "   Unnamed: 0      id  mb_used session_date  user_id\n",
       "0           0  1000_0   112.95   2018-11-25     1000\n",
       "1           1  1000_1  1052.81   2018-09-07     1000\n",
       "2           2  1000_2  1197.26   2018-06-25     1000\n",
       "3           3  1000_3   550.27   2018-08-22     1000\n",
       "4           4  1000_4   302.56   2018-09-24     1000"
      ]
     },
     "metadata": {},
     "output_type": "display_data"
    }
   ],
   "source": [
    "internet.info()\n",
    "display(internet.head(5))"
   ]
  },
  {
   "cell_type": "markdown",
   "metadata": {},
   "source": [
    "### Обзор датафрейма \"tariffs\""
   ]
  },
  {
   "cell_type": "code",
   "execution_count": 6,
   "metadata": {},
   "outputs": [
    {
     "name": "stdout",
     "output_type": "stream",
     "text": [
      "<class 'pandas.core.frame.DataFrame'>\n",
      "RangeIndex: 2 entries, 0 to 1\n",
      "Data columns (total 8 columns):\n",
      " #   Column                 Non-Null Count  Dtype \n",
      "---  ------                 --------------  ----- \n",
      " 0   messages_included      2 non-null      int64 \n",
      " 1   mb_per_month_included  2 non-null      int64 \n",
      " 2   minutes_included       2 non-null      int64 \n",
      " 3   rub_monthly_fee        2 non-null      int64 \n",
      " 4   rub_per_gb             2 non-null      int64 \n",
      " 5   rub_per_message        2 non-null      int64 \n",
      " 6   rub_per_minute         2 non-null      int64 \n",
      " 7   tariff_name            2 non-null      object\n",
      "dtypes: int64(7), object(1)\n",
      "memory usage: 256.0+ bytes\n"
     ]
    },
    {
     "data": {
      "text/html": [
       "<div>\n",
       "<style scoped>\n",
       "    .dataframe tbody tr th:only-of-type {\n",
       "        vertical-align: middle;\n",
       "    }\n",
       "\n",
       "    .dataframe tbody tr th {\n",
       "        vertical-align: top;\n",
       "    }\n",
       "\n",
       "    .dataframe thead th {\n",
       "        text-align: right;\n",
       "    }\n",
       "</style>\n",
       "<table border=\"1\" class=\"dataframe\">\n",
       "  <thead>\n",
       "    <tr style=\"text-align: right;\">\n",
       "      <th></th>\n",
       "      <th>messages_included</th>\n",
       "      <th>mb_per_month_included</th>\n",
       "      <th>minutes_included</th>\n",
       "      <th>rub_monthly_fee</th>\n",
       "      <th>rub_per_gb</th>\n",
       "      <th>rub_per_message</th>\n",
       "      <th>rub_per_minute</th>\n",
       "      <th>tariff_name</th>\n",
       "    </tr>\n",
       "  </thead>\n",
       "  <tbody>\n",
       "    <tr>\n",
       "      <th>0</th>\n",
       "      <td>50</td>\n",
       "      <td>15360</td>\n",
       "      <td>500</td>\n",
       "      <td>550</td>\n",
       "      <td>200</td>\n",
       "      <td>3</td>\n",
       "      <td>3</td>\n",
       "      <td>smart</td>\n",
       "    </tr>\n",
       "    <tr>\n",
       "      <th>1</th>\n",
       "      <td>1000</td>\n",
       "      <td>30720</td>\n",
       "      <td>3000</td>\n",
       "      <td>1950</td>\n",
       "      <td>150</td>\n",
       "      <td>1</td>\n",
       "      <td>1</td>\n",
       "      <td>ultra</td>\n",
       "    </tr>\n",
       "  </tbody>\n",
       "</table>\n",
       "</div>"
      ],
      "text/plain": [
       "   messages_included  mb_per_month_included  minutes_included  \\\n",
       "0                 50                  15360               500   \n",
       "1               1000                  30720              3000   \n",
       "\n",
       "   rub_monthly_fee  rub_per_gb  rub_per_message  rub_per_minute tariff_name  \n",
       "0              550         200                3               3       smart  \n",
       "1             1950         150                1               1       ultra  "
      ]
     },
     "metadata": {},
     "output_type": "display_data"
    }
   ],
   "source": [
    "tariffs.info()\n",
    "display(tariffs)"
   ]
  },
  {
   "cell_type": "code",
   "execution_count": 7,
   "metadata": {},
   "outputs": [],
   "source": [
    "### Обзор датафрейма \"users\""
   ]
  },
  {
   "cell_type": "code",
   "execution_count": 8,
   "metadata": {},
   "outputs": [
    {
     "name": "stdout",
     "output_type": "stream",
     "text": [
      "<class 'pandas.core.frame.DataFrame'>\n",
      "RangeIndex: 500 entries, 0 to 499\n",
      "Data columns (total 8 columns):\n",
      " #   Column      Non-Null Count  Dtype \n",
      "---  ------      --------------  ----- \n",
      " 0   user_id     500 non-null    int64 \n",
      " 1   age         500 non-null    int64 \n",
      " 2   churn_date  38 non-null     object\n",
      " 3   city        500 non-null    object\n",
      " 4   first_name  500 non-null    object\n",
      " 5   last_name   500 non-null    object\n",
      " 6   reg_date    500 non-null    object\n",
      " 7   tariff      500 non-null    object\n",
      "dtypes: int64(2), object(6)\n",
      "memory usage: 31.4+ KB\n"
     ]
    },
    {
     "data": {
      "text/html": [
       "<div>\n",
       "<style scoped>\n",
       "    .dataframe tbody tr th:only-of-type {\n",
       "        vertical-align: middle;\n",
       "    }\n",
       "\n",
       "    .dataframe tbody tr th {\n",
       "        vertical-align: top;\n",
       "    }\n",
       "\n",
       "    .dataframe thead th {\n",
       "        text-align: right;\n",
       "    }\n",
       "</style>\n",
       "<table border=\"1\" class=\"dataframe\">\n",
       "  <thead>\n",
       "    <tr style=\"text-align: right;\">\n",
       "      <th></th>\n",
       "      <th>user_id</th>\n",
       "      <th>age</th>\n",
       "      <th>churn_date</th>\n",
       "      <th>city</th>\n",
       "      <th>first_name</th>\n",
       "      <th>last_name</th>\n",
       "      <th>reg_date</th>\n",
       "      <th>tariff</th>\n",
       "    </tr>\n",
       "  </thead>\n",
       "  <tbody>\n",
       "    <tr>\n",
       "      <th>0</th>\n",
       "      <td>1000</td>\n",
       "      <td>52</td>\n",
       "      <td>NaN</td>\n",
       "      <td>Краснодар</td>\n",
       "      <td>Рафаил</td>\n",
       "      <td>Верещагин</td>\n",
       "      <td>2018-05-25</td>\n",
       "      <td>ultra</td>\n",
       "    </tr>\n",
       "    <tr>\n",
       "      <th>1</th>\n",
       "      <td>1001</td>\n",
       "      <td>41</td>\n",
       "      <td>NaN</td>\n",
       "      <td>Москва</td>\n",
       "      <td>Иван</td>\n",
       "      <td>Ежов</td>\n",
       "      <td>2018-11-01</td>\n",
       "      <td>smart</td>\n",
       "    </tr>\n",
       "    <tr>\n",
       "      <th>2</th>\n",
       "      <td>1002</td>\n",
       "      <td>59</td>\n",
       "      <td>NaN</td>\n",
       "      <td>Стерлитамак</td>\n",
       "      <td>Евгений</td>\n",
       "      <td>Абрамович</td>\n",
       "      <td>2018-06-17</td>\n",
       "      <td>smart</td>\n",
       "    </tr>\n",
       "    <tr>\n",
       "      <th>3</th>\n",
       "      <td>1003</td>\n",
       "      <td>23</td>\n",
       "      <td>NaN</td>\n",
       "      <td>Москва</td>\n",
       "      <td>Белла</td>\n",
       "      <td>Белякова</td>\n",
       "      <td>2018-08-17</td>\n",
       "      <td>ultra</td>\n",
       "    </tr>\n",
       "    <tr>\n",
       "      <th>4</th>\n",
       "      <td>1004</td>\n",
       "      <td>68</td>\n",
       "      <td>NaN</td>\n",
       "      <td>Новокузнецк</td>\n",
       "      <td>Татьяна</td>\n",
       "      <td>Авдеенко</td>\n",
       "      <td>2018-05-14</td>\n",
       "      <td>ultra</td>\n",
       "    </tr>\n",
       "  </tbody>\n",
       "</table>\n",
       "</div>"
      ],
      "text/plain": [
       "   user_id  age churn_date         city first_name  last_name    reg_date  \\\n",
       "0     1000   52        NaN    Краснодар     Рафаил  Верещагин  2018-05-25   \n",
       "1     1001   41        NaN       Москва       Иван       Ежов  2018-11-01   \n",
       "2     1002   59        NaN  Стерлитамак    Евгений  Абрамович  2018-06-17   \n",
       "3     1003   23        NaN       Москва      Белла   Белякова  2018-08-17   \n",
       "4     1004   68        NaN  Новокузнецк    Татьяна   Авдеенко  2018-05-14   \n",
       "\n",
       "  tariff  \n",
       "0  ultra  \n",
       "1  smart  \n",
       "2  smart  \n",
       "3  ultra  \n",
       "4  ultra  "
      ]
     },
     "metadata": {},
     "output_type": "display_data"
    }
   ],
   "source": [
    "users.info()\n",
    "display(users.head(5))"
   ]
  },
  {
   "cell_type": "markdown",
   "metadata": {},
   "source": [
    "**Вывод:** После ознакомления данных, требуется корректировка типов столбцов, проверка на дубликаты. В данных отсутствуют пропуски."
   ]
  },
  {
   "cell_type": "markdown",
   "metadata": {},
   "source": [
    "## Предобработка данных"
   ]
  },
  {
   "cell_type": "markdown",
   "metadata": {},
   "source": [
    "### Приведем столбцы:\n",
    "- `reg_date` из таблицы `users`\n",
    "- `churn_date` из таблицы `users`\n",
    "- `call_date` из таблицы `calls`\n",
    "- `message_date` из таблицы `messages`\n",
    "- `session_date` из таблицы `sessions`\n",
    "\n",
    "к новому типу"
   ]
  },
  {
   "cell_type": "code",
   "execution_count": 9,
   "metadata": {},
   "outputs": [],
   "source": [
    "users['reg_date'] = pd.to_datetime(users['reg_date'])\n",
    "# обработка столбца reg_date\n",
    "users['churn_date'] = pd.to_datetime(users['churn_date'])\n",
    "# обработка столбца churn_date\n",
    "calls['call_date'] = pd.to_datetime(calls['call_date'])\n",
    "# обработка столбца call_date\n",
    "messages['message_date'] = pd.to_datetime(messages['message_date'])\n",
    "# обработка столбца message_date\n",
    "internet['session_date'] = pd.to_datetime(internet['session_date'])\n",
    "# обработка столбца session_date"
   ]
  },
  {
   "cell_type": "markdown",
   "metadata": {},
   "source": [
    "### В столбцах `duration` датафрейма `calls` значения дробные. Округлим значения столбца `duration` вверх"
   ]
  },
  {
   "cell_type": "code",
   "execution_count": 11,
   "metadata": {},
   "outputs": [],
   "source": [
    "calls['duration'] = np.ceil(calls['duration']).astype('int')\n",
    "\n",
    "# округление значений столбца duration с помощью np.ceil() и приведение типа к int"
   ]
  },
  {
   "cell_type": "markdown",
   "metadata": {},
   "source": [
    "### Удалим столбец Unnamed: 0 из датафрейма sessions.\n",
    " Столбец с таким названием возникает, когда данные сохраняют с указанием индекса (df.to_csv(..., index=column))."
   ]
  },
  {
   "cell_type": "code",
   "execution_count": 12,
   "metadata": {},
   "outputs": [],
   "source": [
    "internet = internet.drop(columns=['Unnamed: 0'])"
   ]
  },
  {
   "cell_type": "markdown",
   "metadata": {},
   "source": [
    "### Создадим столбец month в датафрейме calls с номером месяца из столбца call_date."
   ]
  },
  {
   "cell_type": "code",
   "execution_count": 13,
   "metadata": {},
   "outputs": [],
   "source": [
    "calls['month'] = calls['call_date'].dt.month"
   ]
  },
  {
   "cell_type": "markdown",
   "metadata": {},
   "source": [
    "### Создадим столбец month в датафрейме messages с номером месяца из столбца message_date."
   ]
  },
  {
   "cell_type": "code",
   "execution_count": 14,
   "metadata": {},
   "outputs": [],
   "source": [
    "messages['month'] = messages['message_date'].dt.month"
   ]
  },
  {
   "cell_type": "markdown",
   "metadata": {},
   "source": [
    "### Создадим столбец month в датафрейме sessions с номером месяца из столбца session_date."
   ]
  },
  {
   "cell_type": "code",
   "execution_count": 18,
   "metadata": {},
   "outputs": [],
   "source": [
    "internet['month'] = internet['session_date'].dt.month"
   ]
  },
  {
   "cell_type": "markdown",
   "metadata": {},
   "source": [
    "### Посчитаем количество сделанных звонков разговора для каждого пользователя по месяцам и сохраните в переменную calls_per_month."
   ]
  },
  {
   "cell_type": "code",
   "execution_count": 15,
   "metadata": {},
   "outputs": [],
   "source": [
    "calls_per_month = calls.groupby(['user_id', 'month']).agg(calls=('duration', 'count'))\n",
    "# подсчёт количества звонков для каждого пользователя по месяцам"
   ]
  },
  {
   "cell_type": "code",
   "execution_count": 16,
   "metadata": {},
   "outputs": [
    {
     "data": {
      "text/html": [
       "<div>\n",
       "<style scoped>\n",
       "    .dataframe tbody tr th:only-of-type {\n",
       "        vertical-align: middle;\n",
       "    }\n",
       "\n",
       "    .dataframe tbody tr th {\n",
       "        vertical-align: top;\n",
       "    }\n",
       "\n",
       "    .dataframe thead th {\n",
       "        text-align: right;\n",
       "    }\n",
       "</style>\n",
       "<table border=\"1\" class=\"dataframe\">\n",
       "  <thead>\n",
       "    <tr style=\"text-align: right;\">\n",
       "      <th></th>\n",
       "      <th></th>\n",
       "      <th>calls</th>\n",
       "    </tr>\n",
       "    <tr>\n",
       "      <th>user_id</th>\n",
       "      <th>month</th>\n",
       "      <th></th>\n",
       "    </tr>\n",
       "  </thead>\n",
       "  <tbody>\n",
       "    <tr>\n",
       "      <th rowspan=\"8\" valign=\"top\">1000</th>\n",
       "      <th>5</th>\n",
       "      <td>22</td>\n",
       "    </tr>\n",
       "    <tr>\n",
       "      <th>6</th>\n",
       "      <td>43</td>\n",
       "    </tr>\n",
       "    <tr>\n",
       "      <th>7</th>\n",
       "      <td>47</td>\n",
       "    </tr>\n",
       "    <tr>\n",
       "      <th>8</th>\n",
       "      <td>52</td>\n",
       "    </tr>\n",
       "    <tr>\n",
       "      <th>9</th>\n",
       "      <td>58</td>\n",
       "    </tr>\n",
       "    <tr>\n",
       "      <th>10</th>\n",
       "      <td>57</td>\n",
       "    </tr>\n",
       "    <tr>\n",
       "      <th>11</th>\n",
       "      <td>43</td>\n",
       "    </tr>\n",
       "    <tr>\n",
       "      <th>12</th>\n",
       "      <td>46</td>\n",
       "    </tr>\n",
       "    <tr>\n",
       "      <th rowspan=\"2\" valign=\"top\">1001</th>\n",
       "      <th>11</th>\n",
       "      <td>59</td>\n",
       "    </tr>\n",
       "    <tr>\n",
       "      <th>12</th>\n",
       "      <td>63</td>\n",
       "    </tr>\n",
       "    <tr>\n",
       "      <th rowspan=\"7\" valign=\"top\">1002</th>\n",
       "      <th>6</th>\n",
       "      <td>15</td>\n",
       "    </tr>\n",
       "    <tr>\n",
       "      <th>7</th>\n",
       "      <td>26</td>\n",
       "    </tr>\n",
       "    <tr>\n",
       "      <th>8</th>\n",
       "      <td>42</td>\n",
       "    </tr>\n",
       "    <tr>\n",
       "      <th>9</th>\n",
       "      <td>36</td>\n",
       "    </tr>\n",
       "    <tr>\n",
       "      <th>10</th>\n",
       "      <td>33</td>\n",
       "    </tr>\n",
       "    <tr>\n",
       "      <th>11</th>\n",
       "      <td>32</td>\n",
       "    </tr>\n",
       "    <tr>\n",
       "      <th>12</th>\n",
       "      <td>33</td>\n",
       "    </tr>\n",
       "    <tr>\n",
       "      <th rowspan=\"5\" valign=\"top\">1003</th>\n",
       "      <th>8</th>\n",
       "      <td>55</td>\n",
       "    </tr>\n",
       "    <tr>\n",
       "      <th>9</th>\n",
       "      <td>134</td>\n",
       "    </tr>\n",
       "    <tr>\n",
       "      <th>10</th>\n",
       "      <td>108</td>\n",
       "    </tr>\n",
       "    <tr>\n",
       "      <th>11</th>\n",
       "      <td>115</td>\n",
       "    </tr>\n",
       "    <tr>\n",
       "      <th>12</th>\n",
       "      <td>108</td>\n",
       "    </tr>\n",
       "    <tr>\n",
       "      <th rowspan=\"8\" valign=\"top\">1004</th>\n",
       "      <th>5</th>\n",
       "      <td>9</td>\n",
       "    </tr>\n",
       "    <tr>\n",
       "      <th>6</th>\n",
       "      <td>31</td>\n",
       "    </tr>\n",
       "    <tr>\n",
       "      <th>7</th>\n",
       "      <td>22</td>\n",
       "    </tr>\n",
       "    <tr>\n",
       "      <th>8</th>\n",
       "      <td>19</td>\n",
       "    </tr>\n",
       "    <tr>\n",
       "      <th>9</th>\n",
       "      <td>26</td>\n",
       "    </tr>\n",
       "    <tr>\n",
       "      <th>10</th>\n",
       "      <td>29</td>\n",
       "    </tr>\n",
       "    <tr>\n",
       "      <th>11</th>\n",
       "      <td>19</td>\n",
       "    </tr>\n",
       "    <tr>\n",
       "      <th>12</th>\n",
       "      <td>21</td>\n",
       "    </tr>\n",
       "  </tbody>\n",
       "</table>\n",
       "</div>"
      ],
      "text/plain": [
       "               calls\n",
       "user_id month       \n",
       "1000    5         22\n",
       "        6         43\n",
       "        7         47\n",
       "        8         52\n",
       "        9         58\n",
       "        10        57\n",
       "        11        43\n",
       "        12        46\n",
       "1001    11        59\n",
       "        12        63\n",
       "1002    6         15\n",
       "        7         26\n",
       "        8         42\n",
       "        9         36\n",
       "        10        33\n",
       "        11        32\n",
       "        12        33\n",
       "1003    8         55\n",
       "        9        134\n",
       "        10       108\n",
       "        11       115\n",
       "        12       108\n",
       "1004    5          9\n",
       "        6         31\n",
       "        7         22\n",
       "        8         19\n",
       "        9         26\n",
       "        10        29\n",
       "        11        19\n",
       "        12        21"
      ]
     },
     "execution_count": 16,
     "metadata": {},
     "output_type": "execute_result"
    }
   ],
   "source": [
    "calls_per_month.head(30)"
   ]
  },
  {
   "cell_type": "markdown",
   "metadata": {},
   "source": [
    "### Посчитаем количество израсходованных минут разговора для каждого пользователя по месяцам и сохраните в переменную minutes_per_month."
   ]
  },
  {
   "cell_type": "code",
   "execution_count": 19,
   "metadata": {},
   "outputs": [],
   "source": [
    "minutes_per_month = calls.groupby(['user_id', 'month']).agg(minutes=('duration', 'sum'))\n",
    "# подсчёт израсходованных минут для каждого пользователя по месяцам"
   ]
  },
  {
   "cell_type": "code",
   "execution_count": 20,
   "metadata": {},
   "outputs": [
    {
     "data": {
      "text/html": [
       "<div>\n",
       "<style scoped>\n",
       "    .dataframe tbody tr th:only-of-type {\n",
       "        vertical-align: middle;\n",
       "    }\n",
       "\n",
       "    .dataframe tbody tr th {\n",
       "        vertical-align: top;\n",
       "    }\n",
       "\n",
       "    .dataframe thead th {\n",
       "        text-align: right;\n",
       "    }\n",
       "</style>\n",
       "<table border=\"1\" class=\"dataframe\">\n",
       "  <thead>\n",
       "    <tr style=\"text-align: right;\">\n",
       "      <th></th>\n",
       "      <th></th>\n",
       "      <th>minutes</th>\n",
       "    </tr>\n",
       "    <tr>\n",
       "      <th>user_id</th>\n",
       "      <th>month</th>\n",
       "      <th></th>\n",
       "    </tr>\n",
       "  </thead>\n",
       "  <tbody>\n",
       "    <tr>\n",
       "      <th rowspan=\"8\" valign=\"top\">1000</th>\n",
       "      <th>5</th>\n",
       "      <td>159</td>\n",
       "    </tr>\n",
       "    <tr>\n",
       "      <th>6</th>\n",
       "      <td>172</td>\n",
       "    </tr>\n",
       "    <tr>\n",
       "      <th>7</th>\n",
       "      <td>340</td>\n",
       "    </tr>\n",
       "    <tr>\n",
       "      <th>8</th>\n",
       "      <td>408</td>\n",
       "    </tr>\n",
       "    <tr>\n",
       "      <th>9</th>\n",
       "      <td>466</td>\n",
       "    </tr>\n",
       "    <tr>\n",
       "      <th>10</th>\n",
       "      <td>350</td>\n",
       "    </tr>\n",
       "    <tr>\n",
       "      <th>11</th>\n",
       "      <td>338</td>\n",
       "    </tr>\n",
       "    <tr>\n",
       "      <th>12</th>\n",
       "      <td>333</td>\n",
       "    </tr>\n",
       "    <tr>\n",
       "      <th rowspan=\"2\" valign=\"top\">1001</th>\n",
       "      <th>11</th>\n",
       "      <td>430</td>\n",
       "    </tr>\n",
       "    <tr>\n",
       "      <th>12</th>\n",
       "      <td>414</td>\n",
       "    </tr>\n",
       "    <tr>\n",
       "      <th rowspan=\"7\" valign=\"top\">1002</th>\n",
       "      <th>6</th>\n",
       "      <td>117</td>\n",
       "    </tr>\n",
       "    <tr>\n",
       "      <th>7</th>\n",
       "      <td>214</td>\n",
       "    </tr>\n",
       "    <tr>\n",
       "      <th>8</th>\n",
       "      <td>289</td>\n",
       "    </tr>\n",
       "    <tr>\n",
       "      <th>9</th>\n",
       "      <td>206</td>\n",
       "    </tr>\n",
       "    <tr>\n",
       "      <th>10</th>\n",
       "      <td>212</td>\n",
       "    </tr>\n",
       "    <tr>\n",
       "      <th>11</th>\n",
       "      <td>243</td>\n",
       "    </tr>\n",
       "    <tr>\n",
       "      <th>12</th>\n",
       "      <td>236</td>\n",
       "    </tr>\n",
       "    <tr>\n",
       "      <th rowspan=\"5\" valign=\"top\">1003</th>\n",
       "      <th>8</th>\n",
       "      <td>380</td>\n",
       "    </tr>\n",
       "    <tr>\n",
       "      <th>9</th>\n",
       "      <td>961</td>\n",
       "    </tr>\n",
       "    <tr>\n",
       "      <th>10</th>\n",
       "      <td>855</td>\n",
       "    </tr>\n",
       "    <tr>\n",
       "      <th>11</th>\n",
       "      <td>824</td>\n",
       "    </tr>\n",
       "    <tr>\n",
       "      <th>12</th>\n",
       "      <td>802</td>\n",
       "    </tr>\n",
       "    <tr>\n",
       "      <th rowspan=\"8\" valign=\"top\">1004</th>\n",
       "      <th>5</th>\n",
       "      <td>35</td>\n",
       "    </tr>\n",
       "    <tr>\n",
       "      <th>6</th>\n",
       "      <td>171</td>\n",
       "    </tr>\n",
       "    <tr>\n",
       "      <th>7</th>\n",
       "      <td>135</td>\n",
       "    </tr>\n",
       "    <tr>\n",
       "      <th>8</th>\n",
       "      <td>137</td>\n",
       "    </tr>\n",
       "    <tr>\n",
       "      <th>9</th>\n",
       "      <td>117</td>\n",
       "    </tr>\n",
       "    <tr>\n",
       "      <th>10</th>\n",
       "      <td>145</td>\n",
       "    </tr>\n",
       "    <tr>\n",
       "      <th>11</th>\n",
       "      <td>117</td>\n",
       "    </tr>\n",
       "    <tr>\n",
       "      <th>12</th>\n",
       "      <td>130</td>\n",
       "    </tr>\n",
       "  </tbody>\n",
       "</table>\n",
       "</div>"
      ],
      "text/plain": [
       "               minutes\n",
       "user_id month         \n",
       "1000    5          159\n",
       "        6          172\n",
       "        7          340\n",
       "        8          408\n",
       "        9          466\n",
       "        10         350\n",
       "        11         338\n",
       "        12         333\n",
       "1001    11         430\n",
       "        12         414\n",
       "1002    6          117\n",
       "        7          214\n",
       "        8          289\n",
       "        9          206\n",
       "        10         212\n",
       "        11         243\n",
       "        12         236\n",
       "1003    8          380\n",
       "        9          961\n",
       "        10         855\n",
       "        11         824\n",
       "        12         802\n",
       "1004    5           35\n",
       "        6          171\n",
       "        7          135\n",
       "        8          137\n",
       "        9          117\n",
       "        10         145\n",
       "        11         117\n",
       "        12         130"
      ]
     },
     "execution_count": 20,
     "metadata": {},
     "output_type": "execute_result"
    }
   ],
   "source": [
    "minutes_per_month.head(30)"
   ]
  },
  {
   "cell_type": "markdown",
   "metadata": {},
   "source": [
    "### Посчитаем количество отправленных сообщений по месяцам для каждого пользователя и сохраните в переменную messages_per_month"
   ]
  },
  {
   "cell_type": "code",
   "execution_count": 21,
   "metadata": {},
   "outputs": [],
   "source": [
    "messages_per_month = messages.groupby(['user_id', 'month']).agg(messages=('message_date', 'count'))\n",
    "# подсчёт количества отправленных сообщений для каждого пользователя по месяцам"
   ]
  },
  {
   "cell_type": "code",
   "execution_count": 22,
   "metadata": {},
   "outputs": [
    {
     "data": {
      "text/html": [
       "<div>\n",
       "<style scoped>\n",
       "    .dataframe tbody tr th:only-of-type {\n",
       "        vertical-align: middle;\n",
       "    }\n",
       "\n",
       "    .dataframe tbody tr th {\n",
       "        vertical-align: top;\n",
       "    }\n",
       "\n",
       "    .dataframe thead th {\n",
       "        text-align: right;\n",
       "    }\n",
       "</style>\n",
       "<table border=\"1\" class=\"dataframe\">\n",
       "  <thead>\n",
       "    <tr style=\"text-align: right;\">\n",
       "      <th></th>\n",
       "      <th></th>\n",
       "      <th>messages</th>\n",
       "    </tr>\n",
       "    <tr>\n",
       "      <th>user_id</th>\n",
       "      <th>month</th>\n",
       "      <th></th>\n",
       "    </tr>\n",
       "  </thead>\n",
       "  <tbody>\n",
       "    <tr>\n",
       "      <th rowspan=\"8\" valign=\"top\">1000</th>\n",
       "      <th>5</th>\n",
       "      <td>22</td>\n",
       "    </tr>\n",
       "    <tr>\n",
       "      <th>6</th>\n",
       "      <td>60</td>\n",
       "    </tr>\n",
       "    <tr>\n",
       "      <th>7</th>\n",
       "      <td>75</td>\n",
       "    </tr>\n",
       "    <tr>\n",
       "      <th>8</th>\n",
       "      <td>81</td>\n",
       "    </tr>\n",
       "    <tr>\n",
       "      <th>9</th>\n",
       "      <td>57</td>\n",
       "    </tr>\n",
       "    <tr>\n",
       "      <th>10</th>\n",
       "      <td>73</td>\n",
       "    </tr>\n",
       "    <tr>\n",
       "      <th>11</th>\n",
       "      <td>58</td>\n",
       "    </tr>\n",
       "    <tr>\n",
       "      <th>12</th>\n",
       "      <td>70</td>\n",
       "    </tr>\n",
       "    <tr>\n",
       "      <th rowspan=\"7\" valign=\"top\">1002</th>\n",
       "      <th>6</th>\n",
       "      <td>4</td>\n",
       "    </tr>\n",
       "    <tr>\n",
       "      <th>7</th>\n",
       "      <td>11</td>\n",
       "    </tr>\n",
       "    <tr>\n",
       "      <th>8</th>\n",
       "      <td>13</td>\n",
       "    </tr>\n",
       "    <tr>\n",
       "      <th>9</th>\n",
       "      <td>4</td>\n",
       "    </tr>\n",
       "    <tr>\n",
       "      <th>10</th>\n",
       "      <td>10</td>\n",
       "    </tr>\n",
       "    <tr>\n",
       "      <th>11</th>\n",
       "      <td>16</td>\n",
       "    </tr>\n",
       "    <tr>\n",
       "      <th>12</th>\n",
       "      <td>12</td>\n",
       "    </tr>\n",
       "    <tr>\n",
       "      <th rowspan=\"5\" valign=\"top\">1003</th>\n",
       "      <th>8</th>\n",
       "      <td>37</td>\n",
       "    </tr>\n",
       "    <tr>\n",
       "      <th>9</th>\n",
       "      <td>91</td>\n",
       "    </tr>\n",
       "    <tr>\n",
       "      <th>10</th>\n",
       "      <td>83</td>\n",
       "    </tr>\n",
       "    <tr>\n",
       "      <th>11</th>\n",
       "      <td>94</td>\n",
       "    </tr>\n",
       "    <tr>\n",
       "      <th>12</th>\n",
       "      <td>75</td>\n",
       "    </tr>\n",
       "    <tr>\n",
       "      <th rowspan=\"8\" valign=\"top\">1004</th>\n",
       "      <th>5</th>\n",
       "      <td>95</td>\n",
       "    </tr>\n",
       "    <tr>\n",
       "      <th>6</th>\n",
       "      <td>134</td>\n",
       "    </tr>\n",
       "    <tr>\n",
       "      <th>7</th>\n",
       "      <td>181</td>\n",
       "    </tr>\n",
       "    <tr>\n",
       "      <th>8</th>\n",
       "      <td>151</td>\n",
       "    </tr>\n",
       "    <tr>\n",
       "      <th>9</th>\n",
       "      <td>146</td>\n",
       "    </tr>\n",
       "    <tr>\n",
       "      <th>10</th>\n",
       "      <td>165</td>\n",
       "    </tr>\n",
       "    <tr>\n",
       "      <th>11</th>\n",
       "      <td>158</td>\n",
       "    </tr>\n",
       "    <tr>\n",
       "      <th>12</th>\n",
       "      <td>162</td>\n",
       "    </tr>\n",
       "    <tr>\n",
       "      <th rowspan=\"2\" valign=\"top\">1005</th>\n",
       "      <th>1</th>\n",
       "      <td>7</td>\n",
       "    </tr>\n",
       "    <tr>\n",
       "      <th>2</th>\n",
       "      <td>38</td>\n",
       "    </tr>\n",
       "  </tbody>\n",
       "</table>\n",
       "</div>"
      ],
      "text/plain": [
       "               messages\n",
       "user_id month          \n",
       "1000    5            22\n",
       "        6            60\n",
       "        7            75\n",
       "        8            81\n",
       "        9            57\n",
       "        10           73\n",
       "        11           58\n",
       "        12           70\n",
       "1002    6             4\n",
       "        7            11\n",
       "        8            13\n",
       "        9             4\n",
       "        10           10\n",
       "        11           16\n",
       "        12           12\n",
       "1003    8            37\n",
       "        9            91\n",
       "        10           83\n",
       "        11           94\n",
       "        12           75\n",
       "1004    5            95\n",
       "        6           134\n",
       "        7           181\n",
       "        8           151\n",
       "        9           146\n",
       "        10          165\n",
       "        11          158\n",
       "        12          162\n",
       "1005    1             7\n",
       "        2            38"
      ]
     },
     "execution_count": 22,
     "metadata": {},
     "output_type": "execute_result"
    }
   ],
   "source": [
    "messages_per_month.head(30)"
   ]
  },
  {
   "cell_type": "markdown",
   "metadata": {},
   "source": [
    "### Посчитаем количество потраченных мегабайт по месяцам для каждого пользователя и сохраните в переменную sessions_per_month."
   ]
  },
  {
   "cell_type": "code",
   "execution_count": 23,
   "metadata": {},
   "outputs": [],
   "source": [
    "sessions_per_month = internet.groupby(['user_id', 'month']).agg({'mb_used': 'sum'})\n",
    "# подсчёт потраченных мегабайт для каждого пользователя по месяцам"
   ]
  },
  {
   "cell_type": "code",
   "execution_count": 24,
   "metadata": {},
   "outputs": [
    {
     "data": {
      "text/html": [
       "<div>\n",
       "<style scoped>\n",
       "    .dataframe tbody tr th:only-of-type {\n",
       "        vertical-align: middle;\n",
       "    }\n",
       "\n",
       "    .dataframe tbody tr th {\n",
       "        vertical-align: top;\n",
       "    }\n",
       "\n",
       "    .dataframe thead th {\n",
       "        text-align: right;\n",
       "    }\n",
       "</style>\n",
       "<table border=\"1\" class=\"dataframe\">\n",
       "  <thead>\n",
       "    <tr style=\"text-align: right;\">\n",
       "      <th></th>\n",
       "      <th></th>\n",
       "      <th>mb_used</th>\n",
       "    </tr>\n",
       "    <tr>\n",
       "      <th>user_id</th>\n",
       "      <th>month</th>\n",
       "      <th></th>\n",
       "    </tr>\n",
       "  </thead>\n",
       "  <tbody>\n",
       "    <tr>\n",
       "      <th rowspan=\"8\" valign=\"top\">1000</th>\n",
       "      <th>5</th>\n",
       "      <td>2253.49</td>\n",
       "    </tr>\n",
       "    <tr>\n",
       "      <th>6</th>\n",
       "      <td>23233.77</td>\n",
       "    </tr>\n",
       "    <tr>\n",
       "      <th>7</th>\n",
       "      <td>14003.64</td>\n",
       "    </tr>\n",
       "    <tr>\n",
       "      <th>8</th>\n",
       "      <td>14055.93</td>\n",
       "    </tr>\n",
       "    <tr>\n",
       "      <th>9</th>\n",
       "      <td>14568.91</td>\n",
       "    </tr>\n",
       "    <tr>\n",
       "      <th>10</th>\n",
       "      <td>14702.49</td>\n",
       "    </tr>\n",
       "    <tr>\n",
       "      <th>11</th>\n",
       "      <td>14756.47</td>\n",
       "    </tr>\n",
       "    <tr>\n",
       "      <th>12</th>\n",
       "      <td>9817.61</td>\n",
       "    </tr>\n",
       "    <tr>\n",
       "      <th rowspan=\"2\" valign=\"top\">1001</th>\n",
       "      <th>11</th>\n",
       "      <td>18429.34</td>\n",
       "    </tr>\n",
       "    <tr>\n",
       "      <th>12</th>\n",
       "      <td>14036.66</td>\n",
       "    </tr>\n",
       "    <tr>\n",
       "      <th rowspan=\"7\" valign=\"top\">1002</th>\n",
       "      <th>6</th>\n",
       "      <td>10856.82</td>\n",
       "    </tr>\n",
       "    <tr>\n",
       "      <th>7</th>\n",
       "      <td>17580.10</td>\n",
       "    </tr>\n",
       "    <tr>\n",
       "      <th>8</th>\n",
       "      <td>20319.26</td>\n",
       "    </tr>\n",
       "    <tr>\n",
       "      <th>9</th>\n",
       "      <td>16691.08</td>\n",
       "    </tr>\n",
       "    <tr>\n",
       "      <th>10</th>\n",
       "      <td>13888.25</td>\n",
       "    </tr>\n",
       "    <tr>\n",
       "      <th>11</th>\n",
       "      <td>18587.28</td>\n",
       "    </tr>\n",
       "    <tr>\n",
       "      <th>12</th>\n",
       "      <td>18113.73</td>\n",
       "    </tr>\n",
       "    <tr>\n",
       "      <th rowspan=\"5\" valign=\"top\">1003</th>\n",
       "      <th>8</th>\n",
       "      <td>8565.21</td>\n",
       "    </tr>\n",
       "    <tr>\n",
       "      <th>9</th>\n",
       "      <td>12468.87</td>\n",
       "    </tr>\n",
       "    <tr>\n",
       "      <th>10</th>\n",
       "      <td>14768.14</td>\n",
       "    </tr>\n",
       "    <tr>\n",
       "      <th>11</th>\n",
       "      <td>11356.89</td>\n",
       "    </tr>\n",
       "    <tr>\n",
       "      <th>12</th>\n",
       "      <td>10121.53</td>\n",
       "    </tr>\n",
       "    <tr>\n",
       "      <th rowspan=\"8\" valign=\"top\">1004</th>\n",
       "      <th>5</th>\n",
       "      <td>13403.98</td>\n",
       "    </tr>\n",
       "    <tr>\n",
       "      <th>6</th>\n",
       "      <td>17600.02</td>\n",
       "    </tr>\n",
       "    <tr>\n",
       "      <th>7</th>\n",
       "      <td>22229.58</td>\n",
       "    </tr>\n",
       "    <tr>\n",
       "      <th>8</th>\n",
       "      <td>28584.37</td>\n",
       "    </tr>\n",
       "    <tr>\n",
       "      <th>9</th>\n",
       "      <td>15109.03</td>\n",
       "    </tr>\n",
       "    <tr>\n",
       "      <th>10</th>\n",
       "      <td>18475.44</td>\n",
       "    </tr>\n",
       "    <tr>\n",
       "      <th>11</th>\n",
       "      <td>15616.02</td>\n",
       "    </tr>\n",
       "    <tr>\n",
       "      <th>12</th>\n",
       "      <td>18021.04</td>\n",
       "    </tr>\n",
       "  </tbody>\n",
       "</table>\n",
       "</div>"
      ],
      "text/plain": [
       "                mb_used\n",
       "user_id month          \n",
       "1000    5       2253.49\n",
       "        6      23233.77\n",
       "        7      14003.64\n",
       "        8      14055.93\n",
       "        9      14568.91\n",
       "        10     14702.49\n",
       "        11     14756.47\n",
       "        12      9817.61\n",
       "1001    11     18429.34\n",
       "        12     14036.66\n",
       "1002    6      10856.82\n",
       "        7      17580.10\n",
       "        8      20319.26\n",
       "        9      16691.08\n",
       "        10     13888.25\n",
       "        11     18587.28\n",
       "        12     18113.73\n",
       "1003    8       8565.21\n",
       "        9      12468.87\n",
       "        10     14768.14\n",
       "        11     11356.89\n",
       "        12     10121.53\n",
       "1004    5      13403.98\n",
       "        6      17600.02\n",
       "        7      22229.58\n",
       "        8      28584.37\n",
       "        9      15109.03\n",
       "        10     18475.44\n",
       "        11     15616.02\n",
       "        12     18021.04"
      ]
     },
     "execution_count": 24,
     "metadata": {},
     "output_type": "execute_result"
    }
   ],
   "source": [
    "sessions_per_month.head(30)"
   ]
  },
  {
   "cell_type": "markdown",
   "metadata": {},
   "source": [
    "## Анализ данных и подсчёт выручки"
   ]
  },
  {
   "cell_type": "markdown",
   "metadata": {},
   "source": [
    "### Объединяем все посчитанные выше значения в один датафрейм user_behavior. Для каждой пары \"пользователь - месяц\"\n",
    "будут доступны информация о тарифе, количестве звонков, сообщений и потраченных мегабайтах.\n"
   ]
  },
  {
   "cell_type": "code",
   "execution_count": 28,
   "metadata": {},
   "outputs": [
    {
     "name": "stdout",
     "output_type": "stream",
     "text": [
      "Расторгли договор 7.6 % клиентов из датасета\n"
     ]
    }
   ],
   "source": [
    "us = users['churn_date'].count() / users['churn_date'].shape[0] * 100\n",
    "print ('Расторгли договор', us, '% клиентов из датасета')\n"
   ]
  },
  {
   "cell_type": "code",
   "execution_count": 29,
   "metadata": {},
   "outputs": [
    {
     "data": {
      "text/html": [
       "<div>\n",
       "<style scoped>\n",
       "    .dataframe tbody tr th:only-of-type {\n",
       "        vertical-align: middle;\n",
       "    }\n",
       "\n",
       "    .dataframe tbody tr th {\n",
       "        vertical-align: top;\n",
       "    }\n",
       "\n",
       "    .dataframe thead th {\n",
       "        text-align: right;\n",
       "    }\n",
       "</style>\n",
       "<table border=\"1\" class=\"dataframe\">\n",
       "  <thead>\n",
       "    <tr style=\"text-align: right;\">\n",
       "      <th></th>\n",
       "      <th>user_id</th>\n",
       "      <th>month</th>\n",
       "      <th>calls</th>\n",
       "      <th>messages</th>\n",
       "      <th>mb_used</th>\n",
       "      <th>minutes</th>\n",
       "      <th>age</th>\n",
       "      <th>churn_date</th>\n",
       "      <th>city</th>\n",
       "      <th>first_name</th>\n",
       "      <th>last_name</th>\n",
       "      <th>reg_date</th>\n",
       "      <th>tariff</th>\n",
       "    </tr>\n",
       "  </thead>\n",
       "  <tbody>\n",
       "    <tr>\n",
       "      <th>0</th>\n",
       "      <td>1000</td>\n",
       "      <td>5</td>\n",
       "      <td>22.0</td>\n",
       "      <td>22.0</td>\n",
       "      <td>2253.49</td>\n",
       "      <td>159.0</td>\n",
       "      <td>52</td>\n",
       "      <td>NaT</td>\n",
       "      <td>Краснодар</td>\n",
       "      <td>Рафаил</td>\n",
       "      <td>Верещагин</td>\n",
       "      <td>2018-05-25</td>\n",
       "      <td>ultra</td>\n",
       "    </tr>\n",
       "    <tr>\n",
       "      <th>1</th>\n",
       "      <td>1000</td>\n",
       "      <td>6</td>\n",
       "      <td>43.0</td>\n",
       "      <td>60.0</td>\n",
       "      <td>23233.77</td>\n",
       "      <td>172.0</td>\n",
       "      <td>52</td>\n",
       "      <td>NaT</td>\n",
       "      <td>Краснодар</td>\n",
       "      <td>Рафаил</td>\n",
       "      <td>Верещагин</td>\n",
       "      <td>2018-05-25</td>\n",
       "      <td>ultra</td>\n",
       "    </tr>\n",
       "    <tr>\n",
       "      <th>2</th>\n",
       "      <td>1000</td>\n",
       "      <td>7</td>\n",
       "      <td>47.0</td>\n",
       "      <td>75.0</td>\n",
       "      <td>14003.64</td>\n",
       "      <td>340.0</td>\n",
       "      <td>52</td>\n",
       "      <td>NaT</td>\n",
       "      <td>Краснодар</td>\n",
       "      <td>Рафаил</td>\n",
       "      <td>Верещагин</td>\n",
       "      <td>2018-05-25</td>\n",
       "      <td>ultra</td>\n",
       "    </tr>\n",
       "    <tr>\n",
       "      <th>3</th>\n",
       "      <td>1000</td>\n",
       "      <td>8</td>\n",
       "      <td>52.0</td>\n",
       "      <td>81.0</td>\n",
       "      <td>14055.93</td>\n",
       "      <td>408.0</td>\n",
       "      <td>52</td>\n",
       "      <td>NaT</td>\n",
       "      <td>Краснодар</td>\n",
       "      <td>Рафаил</td>\n",
       "      <td>Верещагин</td>\n",
       "      <td>2018-05-25</td>\n",
       "      <td>ultra</td>\n",
       "    </tr>\n",
       "    <tr>\n",
       "      <th>4</th>\n",
       "      <td>1000</td>\n",
       "      <td>9</td>\n",
       "      <td>58.0</td>\n",
       "      <td>57.0</td>\n",
       "      <td>14568.91</td>\n",
       "      <td>466.0</td>\n",
       "      <td>52</td>\n",
       "      <td>NaT</td>\n",
       "      <td>Краснодар</td>\n",
       "      <td>Рафаил</td>\n",
       "      <td>Верещагин</td>\n",
       "      <td>2018-05-25</td>\n",
       "      <td>ultra</td>\n",
       "    </tr>\n",
       "  </tbody>\n",
       "</table>\n",
       "</div>"
      ],
      "text/plain": [
       "   user_id  month  calls  messages   mb_used  minutes  age churn_date  \\\n",
       "0     1000      5   22.0      22.0   2253.49    159.0   52        NaT   \n",
       "1     1000      6   43.0      60.0  23233.77    172.0   52        NaT   \n",
       "2     1000      7   47.0      75.0  14003.64    340.0   52        NaT   \n",
       "3     1000      8   52.0      81.0  14055.93    408.0   52        NaT   \n",
       "4     1000      9   58.0      57.0  14568.91    466.0   52        NaT   \n",
       "\n",
       "        city first_name  last_name   reg_date tariff  \n",
       "0  Краснодар     Рафаил  Верещагин 2018-05-25  ultra  \n",
       "1  Краснодар     Рафаил  Верещагин 2018-05-25  ultra  \n",
       "2  Краснодар     Рафаил  Верещагин 2018-05-25  ultra  \n",
       "3  Краснодар     Рафаил  Верещагин 2018-05-25  ultra  \n",
       "4  Краснодар     Рафаил  Верещагин 2018-05-25  ultra  "
      ]
     },
     "execution_count": 29,
     "metadata": {},
     "output_type": "execute_result"
    }
   ],
   "source": [
    "user_behavior = calls_per_month\\\n",
    "    .merge(messages_per_month, left_index=True, right_index=True, how='outer')\\\n",
    "    .merge(sessions_per_month, left_index=True, right_index=True, how='outer')\\\n",
    "    .merge(minutes_per_month, left_index=True, right_index=True, how='outer')\\\n",
    "    .reset_index()\\\n",
    "    .merge(users, how='left', left_on='user_id', right_on='user_id')\\\n",
    "\n",
    "user_behavior.head()"
   ]
  },
  {
   "cell_type": "markdown",
   "metadata": {},
   "source": [
    "Проверим пропуски в таблице user_behavior после объединения:"
   ]
  },
  {
   "cell_type": "code",
   "execution_count": 30,
   "metadata": {},
   "outputs": [
    {
     "data": {
      "text/plain": [
       "user_id          0\n",
       "month            0\n",
       "calls           40\n",
       "messages       497\n",
       "mb_used         11\n",
       "minutes         40\n",
       "age              0\n",
       "churn_date    3027\n",
       "city             0\n",
       "first_name       0\n",
       "last_name        0\n",
       "reg_date         0\n",
       "tariff           0\n",
       "dtype: int64"
      ]
     },
     "execution_count": 30,
     "metadata": {},
     "output_type": "execute_result"
    }
   ],
   "source": [
    "user_behavior.isna().sum()"
   ]
  },
  {
   "cell_type": "markdown",
   "metadata": {},
   "source": [
    "Заполним образовавшиеся пропуски в данных:"
   ]
  },
  {
   "cell_type": "code",
   "execution_count": 31,
   "metadata": {},
   "outputs": [],
   "source": [
    "user_behavior['calls'] = user_behavior['calls'].fillna(0)\n",
    "user_behavior['minutes'] = user_behavior['minutes'].fillna(0)\n",
    "user_behavior['messages'] = user_behavior['messages'].fillna(0)\n",
    "user_behavior['mb_used'] = user_behavior['mb_used'].fillna(0)"
   ]
  },
  {
   "cell_type": "markdown",
   "metadata": {},
   "source": [
    "### Присоединим информацию о тарифах"
   ]
  },
  {
   "cell_type": "code",
   "execution_count": 33,
   "metadata": {},
   "outputs": [],
   "source": [
    "tariffs = tariffs.rename(\n",
    "    columns={\n",
    "        'tariff_name': 'tariff'\n",
    "    }\n",
    ")"
   ]
  },
  {
   "cell_type": "code",
   "execution_count": 34,
   "metadata": {},
   "outputs": [],
   "source": [
    "user_behavior = user_behavior.merge(tariffs, on='tariff')"
   ]
  },
  {
   "cell_type": "markdown",
   "metadata": {},
   "source": [
    "### Посчитаем количество минут разговора, сообщений и мегабайт, превышающих включенные в тариф"
   ]
  },
  {
   "cell_type": "code",
   "execution_count": 35,
   "metadata": {},
   "outputs": [],
   "source": [
    "user_behavior['paid_minutes'] = user_behavior['minutes'] - user_behavior['minutes_included']\n",
    "user_behavior['paid_messages'] = user_behavior['messages'] - user_behavior['messages_included']\n",
    "user_behavior['paid_mb'] = user_behavior['mb_used'] - user_behavior['mb_per_month_included']\n",
    "\n",
    "for col in ['paid_messages', 'paid_minutes', 'paid_mb']:\n",
    "    user_behavior.loc[user_behavior[col] < 0, col] = 0"
   ]
  },
  {
   "cell_type": "markdown",
   "metadata": {},
   "source": [
    "Переводим превышающие тариф мегабайты в гигабайты и сохраняем в столбец paid_gb"
   ]
  },
  {
   "cell_type": "code",
   "execution_count": 37,
   "metadata": {},
   "outputs": [],
   "source": [
    "user_behavior['paid_gb'] = np.ceil(user_behavior['paid_mb'] / 1024).astype(int)"
   ]
  },
  {
   "cell_type": "markdown",
   "metadata": {},
   "source": [
    "### Посчитаем выручку за минуты разговора, сообщения и интернет"
   ]
  },
  {
   "cell_type": "code",
   "execution_count": 39,
   "metadata": {},
   "outputs": [],
   "source": [
    "user_behavior['cost_minutes'] = user_behavior['paid_minutes'] * user_behavior['rub_per_minute']\n",
    "user_behavior['cost_messages'] = user_behavior['paid_messages'] * user_behavior['rub_per_message']\n",
    "user_behavior['cost_gb'] = user_behavior['paid_gb'] * user_behavior['rub_per_gb']"
   ]
  },
  {
   "cell_type": "markdown",
   "metadata": {},
   "source": [
    "### посчитаем помесячную выручку с каждого пользователя, она будет храниться в столбец total_cost"
   ]
  },
  {
   "cell_type": "code",
   "execution_count": 41,
   "metadata": {},
   "outputs": [],
   "source": [
    "user_behavior['total_cost'] = \\\n",
    "      user_behavior['rub_monthly_fee']\\\n",
    "    + user_behavior['cost_minutes']\\\n",
    "    + user_behavior['cost_messages']\\\n",
    "    + user_behavior['cost_gb']"
   ]
  },
  {
   "cell_type": "markdown",
   "metadata": {},
   "source": [
    "### Датафрейм stats_df для каждой пары \"месяц-тариф\" будет хранить основные характеристики# сохранение статистических метрик для каждой пары месяц-тариф\n"
   ]
  },
  {
   "cell_type": "code",
   "execution_count": 43,
   "metadata": {},
   "outputs": [
    {
     "data": {
      "text/html": [
       "<div>\n",
       "<style scoped>\n",
       "    .dataframe tbody tr th:only-of-type {\n",
       "        vertical-align: middle;\n",
       "    }\n",
       "\n",
       "    .dataframe tbody tr th {\n",
       "        vertical-align: top;\n",
       "    }\n",
       "\n",
       "    .dataframe thead th {\n",
       "        text-align: right;\n",
       "    }\n",
       "</style>\n",
       "<table border=\"1\" class=\"dataframe\">\n",
       "  <thead>\n",
       "    <tr style=\"text-align: right;\">\n",
       "      <th></th>\n",
       "      <th>month</th>\n",
       "      <th>tariff</th>\n",
       "      <th>calls_mean</th>\n",
       "      <th>sessions_mean</th>\n",
       "      <th>messages_mean</th>\n",
       "      <th>minutes_mean</th>\n",
       "      <th>calls_std</th>\n",
       "      <th>sessions_std</th>\n",
       "      <th>messages_std</th>\n",
       "      <th>minutes_std</th>\n",
       "      <th>calls_median</th>\n",
       "      <th>sessions_median</th>\n",
       "      <th>messages_median</th>\n",
       "      <th>minutes_median</th>\n",
       "    </tr>\n",
       "  </thead>\n",
       "  <tbody>\n",
       "    <tr>\n",
       "      <th>0</th>\n",
       "      <td>1</td>\n",
       "      <td>smart</td>\n",
       "      <td>27.68</td>\n",
       "      <td>8513.72</td>\n",
       "      <td>18.24</td>\n",
       "      <td>203.85</td>\n",
       "      <td>20.81</td>\n",
       "      <td>6444.68</td>\n",
       "      <td>16.20</td>\n",
       "      <td>154.23</td>\n",
       "      <td>20.5</td>\n",
       "      <td>7096.18</td>\n",
       "      <td>15.0</td>\n",
       "      <td>162.5</td>\n",
       "    </tr>\n",
       "    <tr>\n",
       "      <th>1</th>\n",
       "      <td>1</td>\n",
       "      <td>ultra</td>\n",
       "      <td>59.44</td>\n",
       "      <td>13140.68</td>\n",
       "      <td>33.78</td>\n",
       "      <td>428.11</td>\n",
       "      <td>41.64</td>\n",
       "      <td>6865.35</td>\n",
       "      <td>30.67</td>\n",
       "      <td>269.76</td>\n",
       "      <td>51.0</td>\n",
       "      <td>14791.37</td>\n",
       "      <td>32.0</td>\n",
       "      <td>382.0</td>\n",
       "    </tr>\n",
       "    <tr>\n",
       "      <th>2</th>\n",
       "      <td>2</td>\n",
       "      <td>smart</td>\n",
       "      <td>40.19</td>\n",
       "      <td>11597.05</td>\n",
       "      <td>24.09</td>\n",
       "      <td>298.69</td>\n",
       "      <td>25.39</td>\n",
       "      <td>6247.35</td>\n",
       "      <td>21.75</td>\n",
       "      <td>190.82</td>\n",
       "      <td>38.5</td>\n",
       "      <td>12553.71</td>\n",
       "      <td>20.0</td>\n",
       "      <td>258.0</td>\n",
       "    </tr>\n",
       "    <tr>\n",
       "      <th>3</th>\n",
       "      <td>2</td>\n",
       "      <td>ultra</td>\n",
       "      <td>41.54</td>\n",
       "      <td>11775.94</td>\n",
       "      <td>21.96</td>\n",
       "      <td>297.12</td>\n",
       "      <td>40.97</td>\n",
       "      <td>10644.64</td>\n",
       "      <td>26.77</td>\n",
       "      <td>296.51</td>\n",
       "      <td>25.0</td>\n",
       "      <td>7327.12</td>\n",
       "      <td>5.5</td>\n",
       "      <td>168.0</td>\n",
       "    </tr>\n",
       "    <tr>\n",
       "      <th>4</th>\n",
       "      <td>3</td>\n",
       "      <td>smart</td>\n",
       "      <td>54.32</td>\n",
       "      <td>15104.16</td>\n",
       "      <td>31.86</td>\n",
       "      <td>390.05</td>\n",
       "      <td>25.54</td>\n",
       "      <td>5828.24</td>\n",
       "      <td>26.80</td>\n",
       "      <td>191.89</td>\n",
       "      <td>59.0</td>\n",
       "      <td>15670.25</td>\n",
       "      <td>23.0</td>\n",
       "      <td>409.0</td>\n",
       "    </tr>\n",
       "    <tr>\n",
       "      <th>5</th>\n",
       "      <td>3</td>\n",
       "      <td>ultra</td>\n",
       "      <td>67.68</td>\n",
       "      <td>17535.55</td>\n",
       "      <td>32.30</td>\n",
       "      <td>489.65</td>\n",
       "      <td>44.84</td>\n",
       "      <td>10951.79</td>\n",
       "      <td>41.62</td>\n",
       "      <td>333.74</td>\n",
       "      <td>57.0</td>\n",
       "      <td>17495.18</td>\n",
       "      <td>20.0</td>\n",
       "      <td>403.0</td>\n",
       "    </tr>\n",
       "    <tr>\n",
       "      <th>6</th>\n",
       "      <td>4</td>\n",
       "      <td>smart</td>\n",
       "      <td>51.31</td>\n",
       "      <td>13462.18</td>\n",
       "      <td>30.74</td>\n",
       "      <td>367.13</td>\n",
       "      <td>25.70</td>\n",
       "      <td>5698.25</td>\n",
       "      <td>24.54</td>\n",
       "      <td>186.49</td>\n",
       "      <td>52.0</td>\n",
       "      <td>14087.65</td>\n",
       "      <td>28.0</td>\n",
       "      <td>368.5</td>\n",
       "    </tr>\n",
       "    <tr>\n",
       "      <th>7</th>\n",
       "      <td>4</td>\n",
       "      <td>ultra</td>\n",
       "      <td>64.09</td>\n",
       "      <td>16828.13</td>\n",
       "      <td>31.56</td>\n",
       "      <td>458.02</td>\n",
       "      <td>36.27</td>\n",
       "      <td>9718.65</td>\n",
       "      <td>37.51</td>\n",
       "      <td>267.68</td>\n",
       "      <td>61.0</td>\n",
       "      <td>16645.78</td>\n",
       "      <td>17.0</td>\n",
       "      <td>453.0</td>\n",
       "    </tr>\n",
       "    <tr>\n",
       "      <th>8</th>\n",
       "      <td>5</td>\n",
       "      <td>smart</td>\n",
       "      <td>55.24</td>\n",
       "      <td>15805.18</td>\n",
       "      <td>33.77</td>\n",
       "      <td>387.36</td>\n",
       "      <td>25.38</td>\n",
       "      <td>5978.23</td>\n",
       "      <td>27.04</td>\n",
       "      <td>186.60</td>\n",
       "      <td>59.0</td>\n",
       "      <td>16323.94</td>\n",
       "      <td>30.0</td>\n",
       "      <td>433.0</td>\n",
       "    </tr>\n",
       "    <tr>\n",
       "      <th>9</th>\n",
       "      <td>5</td>\n",
       "      <td>ultra</td>\n",
       "      <td>72.51</td>\n",
       "      <td>19363.15</td>\n",
       "      <td>37.85</td>\n",
       "      <td>510.33</td>\n",
       "      <td>41.08</td>\n",
       "      <td>10046.11</td>\n",
       "      <td>40.31</td>\n",
       "      <td>289.60</td>\n",
       "      <td>75.0</td>\n",
       "      <td>18696.43</td>\n",
       "      <td>25.0</td>\n",
       "      <td>519.0</td>\n",
       "    </tr>\n",
       "  </tbody>\n",
       "</table>\n",
       "</div>"
      ],
      "text/plain": [
       "   month tariff  calls_mean  sessions_mean  messages_mean  minutes_mean  \\\n",
       "0      1  smart       27.68        8513.72          18.24        203.85   \n",
       "1      1  ultra       59.44       13140.68          33.78        428.11   \n",
       "2      2  smart       40.19       11597.05          24.09        298.69   \n",
       "3      2  ultra       41.54       11775.94          21.96        297.12   \n",
       "4      3  smart       54.32       15104.16          31.86        390.05   \n",
       "5      3  ultra       67.68       17535.55          32.30        489.65   \n",
       "6      4  smart       51.31       13462.18          30.74        367.13   \n",
       "7      4  ultra       64.09       16828.13          31.56        458.02   \n",
       "8      5  smart       55.24       15805.18          33.77        387.36   \n",
       "9      5  ultra       72.51       19363.15          37.85        510.33   \n",
       "\n",
       "   calls_std  sessions_std  messages_std  minutes_std  calls_median  \\\n",
       "0      20.81       6444.68         16.20       154.23          20.5   \n",
       "1      41.64       6865.35         30.67       269.76          51.0   \n",
       "2      25.39       6247.35         21.75       190.82          38.5   \n",
       "3      40.97      10644.64         26.77       296.51          25.0   \n",
       "4      25.54       5828.24         26.80       191.89          59.0   \n",
       "5      44.84      10951.79         41.62       333.74          57.0   \n",
       "6      25.70       5698.25         24.54       186.49          52.0   \n",
       "7      36.27       9718.65         37.51       267.68          61.0   \n",
       "8      25.38       5978.23         27.04       186.60          59.0   \n",
       "9      41.08      10046.11         40.31       289.60          75.0   \n",
       "\n",
       "   sessions_median  messages_median  minutes_median  \n",
       "0          7096.18             15.0           162.5  \n",
       "1         14791.37             32.0           382.0  \n",
       "2         12553.71             20.0           258.0  \n",
       "3          7327.12              5.5           168.0  \n",
       "4         15670.25             23.0           409.0  \n",
       "5         17495.18             20.0           403.0  \n",
       "6         14087.65             28.0           368.5  \n",
       "7         16645.78             17.0           453.0  \n",
       "8         16323.94             30.0           433.0  \n",
       "9         18696.43             25.0           519.0  "
      ]
     },
     "execution_count": 43,
     "metadata": {},
     "output_type": "execute_result"
    }
   ],
   "source": [
    "# в одной таблице stats_df (среднее значение, стандартное отклонение, медиана)\n",
    "\n",
    "stats_df = user_behavior.pivot_table(\n",
    "            index=['month', 'tariff'],\\\n",
    "            values=['calls', 'minutes', 'messages', 'mb_used'],\\\n",
    "            aggfunc=['mean', 'std', 'median']\\\n",
    ").round(2).reset_index()\n",
    "\n",
    "stats_df.columns=['month', 'tariff', 'calls_mean', 'sessions_mean', 'messages_mean', 'minutes_mean',\n",
    "                                     'calls_std',  'sessions_std', 'messages_std', 'minutes_std', \n",
    "                                     'calls_median', 'sessions_median', 'messages_median',  'minutes_median']\n",
    "\n",
    "stats_df.head(10)"
   ]
  },
  {
   "cell_type": "code",
   "execution_count": 45,
   "metadata": {},
   "outputs": [
    {
     "data": {
      "image/png": "[encoded data removed]",
      "text/plain": [
       "<Figure size 432x288 with 1 Axes>"
      ]
     },
     "metadata": {
      "needs_background": "light"
     },
     "output_type": "display_data"
    }
   ],
   "source": [
    "ax = sns.barplot(x='month',\n",
    "            y='calls_mean',\n",
    "            hue=\"tariff\",\n",
    "            data=stats_df,\n",
    "            palette=['lightblue', 'blue'])\n",
    "\n",
    "ax.set_title('Распределение количества звонков по видам тарифов и месяцам')\n",
    "ax.set(xlabel='Номер месяца', ylabel='Среднее количество звонков');"
   ]
  },
  {
   "cell_type": "code",
   "execution_count": 47,
   "metadata": {},
   "outputs": [
    {
     "data": {
      "image/png": "[encoded data removed]",
      "text/plain": [
       "<Figure size 432x288 with 1 Axes>"
      ]
     },
     "metadata": {
      "needs_background": "light"
     },
     "output_type": "display_data"
    }
   ],
   "source": [
    "user_behavior.groupby('tariff')['calls'].plot(kind='hist', bins=35, alpha=0.5)\n",
    "plt.legend(['Smart', 'Ultra'])\n",
    "plt.title('Распредиление количества звонков')\n",
    "plt.xlabel('Количество звонков')\n",
    "plt.ylabel('Количество клиентов')\n",
    "plt.show()"
   ]
  },
  {
   "cell_type": "code",
   "execution_count": 48,
   "metadata": {},
   "outputs": [
    {
     "data": {
      "image/png": "[encoded data removed]",
      "text/plain": [
       "<Figure size 432x288 with 1 Axes>"
      ]
     },
     "metadata": {
      "needs_background": "light"
     },
     "output_type": "display_data"
    }
   ],
   "source": [
    "ax = sns.barplot(x='month',\n",
    "            y='minutes_mean',\n",
    "            hue=\"tariff\",\n",
    "            data=stats_df,\n",
    "            palette=['lightblue', 'blue'])\n",
    "\n",
    "ax.set_title('Распределение продолжительности звонков по видам тарифов и месяцам')\n",
    "ax.set(xlabel='Номер месяца', ylabel='Средняя продолжительность звонков');"
   ]
  },
  {
   "cell_type": "code",
   "execution_count": 49,
   "metadata": {},
   "outputs": [
    {
     "data": {
      "image/png": "[encoded data removed]",
      "text/plain": [
       "<Figure size 432x288 with 1 Axes>"
      ]
     },
     "metadata": {
      "needs_background": "light"
     },
     "output_type": "display_data"
    }
   ],
   "source": [
    "user_behavior[user_behavior['tariff'] =='smart']['minutes'].hist(bins=35, alpha=0.5, color='green')\n",
    "user_behavior[user_behavior['tariff'] =='ultra']['minutes'].hist(bins=35, alpha=0.5, color='blue');\n",
    "plt.title('Средняя длительность разговора')\n",
    "plt.xlabel('Количество минут')\n",
    "plt.ylabel('Количество клиентов')\n",
    "plt.show()"
   ]
  },
  {
   "cell_type": "markdown",
   "metadata": {},
   "source": [
    "**Вывод:** Средняя длительность разговоров у абонентов тарифа Ultra больше, чем у абонентов тарифа Smart. В течение года пользователи обоих тарифов увеличивают среднюю продолжительность своих разговоров. Рост средней длительности разговоров у абонентов тарифа Smart равномерный в течение года. Пользователи тарифа Ultra не проявляют подобной линейной стабильности. Стоит отметить, что феврале у абонентов обоих тарифных планов наблюдались самые низкие показатели."
   ]
  },
  {
   "cell_type": "code",
   "execution_count": 50,
   "metadata": {},
   "outputs": [
    {
     "data": {
      "image/png": "[encoded data removed]",
      "text/plain": [
       "<Figure size 432x288 with 1 Axes>"
      ]
     },
     "metadata": {
      "needs_background": "light"
     },
     "output_type": "display_data"
    }
   ],
   "source": [
    "ax = sns.barplot(x='month',\n",
    "            y='messages_mean',\n",
    "            hue=\"tariff\",\n",
    "            data=stats_df,\n",
    "            palette=['lightblue', 'blue']\n",
    ")\n",
    "\n",
    "ax.set_title('Распределение количества сообщений по видам тарифов и месяцам')\n",
    "ax.set(xlabel='Номер месяца', ylabel='Среднее количество сообщений');"
   ]
  },
  {
   "cell_type": "code",
   "execution_count": 51,
   "metadata": {},
   "outputs": [
    {
     "data": {
      "image/png": "[encoded data removed]",
      "text/plain": [
       "<Figure size 432x288 with 1 Axes>"
      ]
     },
     "metadata": {
      "needs_background": "light"
     },
     "output_type": "display_data"
    }
   ],
   "source": [
    "user_behavior[user_behavior['tariff'] =='smart']['messages'].hist(bins=35, alpha=0.5, color='green')\n",
    "user_behavior[user_behavior['tariff'] =='ultra']['messages'].hist(bins=35, alpha=0.5, color='blue');\n",
    "plt.title('Количество отправленых сообщений')\n",
    "plt.xlabel('Количество смс')\n",
    "plt.ylabel('Количество клиентов')\n",
    "plt.show()"
   ]
  },
  {
   "cell_type": "markdown",
   "metadata": {},
   "source": [
    "**Вывод:** В среднем количество сообщений пользователи тарифа Ultra отправляют больше - почти на 20 сообщений больше, чем пользователи тарифа Smart. Количество сообщений в течение года на обоих тарифак растет. Динамика по отправке сообщений схожа с тенденциями по длительности разговоров: в феврале отмечено наименьшее количество сообщений за год и пользователи тарифа Ultra также проявляют нелинейную полодительную динамику."
   ]
  },
  {
   "cell_type": "code",
   "execution_count": 52,
   "metadata": {},
   "outputs": [
    {
     "data": {
      "image/png": "[encoded data removed]",
      "text/plain": [
       "<Figure size 432x288 with 1 Axes>"
      ]
     },
     "metadata": {
      "needs_background": "light"
     },
     "output_type": "display_data"
    }
   ],
   "source": [
    "ax = sns.barplot(x='month',\n",
    "            y='sessions_mean',\n",
    "            hue=\"tariff\",\n",
    "            data=stats_df,\n",
    "            palette=['lightblue', 'blue']\n",
    ")\n",
    "\n",
    "ax.set_title('Распределение количества потраченного трафика (Мб) по видам тарифов и месяцам')\n",
    "ax.set(xlabel='Номер месяца', ylabel='Среднее количество мегабайт');"
   ]
  },
  {
   "cell_type": "code",
   "execution_count": 53,
   "metadata": {},
   "outputs": [
    {
     "data": {
      "image/png": "[encoded data removed]",
      "text/plain": [
       "<Figure size 432x288 with 1 Axes>"
      ]
     },
     "metadata": {
      "needs_background": "light"
     },
     "output_type": "display_data"
    }
   ],
   "source": [
    "user_behavior[user_behavior['tariff'] =='smart']['mb_used'].hist(bins=35, alpha=0.5, color='green')\n",
    "user_behavior[user_behavior['tariff'] =='ultra']['mb_used'].hist(bins=35, alpha=0.5, color='blue');\n",
    "plt.title('Количество потраченых мегабайт')\n",
    "plt.xlabel('Количество мегабайт')\n",
    "plt.ylabel('Количество клиентов')\n",
    "plt.show()"
   ]
  },
  {
   "cell_type": "markdown",
   "metadata": {},
   "source": [
    "**Вывод:** Меньше всего пользователи использовали интернет в январе, феврале и апреле. Чаще всего абоненты тарифа Smart тратят 15-17 Гб, а абоненты тарифного плана Ultra - 19-21 ГБ."
   ]
  },
  {
   "cell_type": "markdown",
   "metadata": {},
   "source": [
    "# Проверка гипотез"
   ]
  },
  {
   "cell_type": "markdown",
   "metadata": {},
   "source": [
    "### Проверка гипотезы: средняя выручка пользователей тарифов «Ультра» и «Смарт» различаются;\n",
    "    \n",
    "H_0: Выручка (total_cost) пользователей \"Ультра\" = выручка (total_cost) пользователей \"Смарт\"`\n",
    "\n",
    "H_a: Выручка (total_cost) пользователей \"Ультра\" ≠ выручка (total_cost) пользователей \"Смарт\"`\n",
    "\n",
    "alpha = 0.05"
   ]
  },
  {
   "cell_type": "code",
   "execution_count": 59,
   "metadata": {},
   "outputs": [
    {
     "name": "stdout",
     "output_type": "stream",
     "text": [
      "4.2606313931076085e-250\n",
      "Отвергаем нулевую гипотезу\n"
     ]
    }
   ],
   "source": [
    "rate_ultra = user_behavior[user_behavior['tariff'] =='ultra']['total_cost']\n",
    "rate_smart = user_behavior[user_behavior['tariff'] =='smart']['total_cost']\n",
    "                    \n",
    "alpha = 0.05\n",
    "results = st.ttest_ind(rate_ultra, rate_smart, equal_var=False)\n",
    "\n",
    "# results = вызов метода для проверки гипотезы\n",
    "\n",
    "# alpha = задайте значение уровня значимости\n",
    "print(results.pvalue)\n",
    "# вывод значения p-value на экран \n",
    "\n",
    "if results.pvalue < alpha:\n",
    "    print(\"Отвергаем нулевую гипотезу\")\n",
    "else:\n",
    "    print(\"Не получилось отвергнуть нулевую гипотезу\") \n",
    "# условный оператор с выводом строки с ответом"
   ]
  },
  {
   "cell_type": "markdown",
   "metadata": {},
   "source": [
    "**Вывод:** Отвергаем нулевую гипотезу, средняя выручка пользователей тарифа «Ультра» больше, чем средняя выручка пользователей тарифа «Смарт»."
   ]
  },
  {
   "cell_type": "markdown",
   "metadata": {},
   "source": [
    "### Проверка гипотезы: пользователи из Москвы приносят больше выручки, чем пользователи из других городов;\n",
    "\n",
    "H_0: Выручка (total_cost) пользователей из Москвы = выручка (total_cost) пользователей не из Москвы`\n",
    "\n",
    "H_1: Выручка (total_cost) пользователей из Москвы ≠ выручка (total_cost) пользователей не из Москвы`\n",
    "\n",
    "alpha = 0.05"
   ]
  },
  {
   "cell_type": "code",
   "execution_count": 60,
   "metadata": {},
   "outputs": [
    {
     "name": "stdout",
     "output_type": "stream",
     "text": [
      "0.5257376663729298\n",
      "Не получилось отвергнуть нулевую гипотезу\n"
     ]
    }
   ],
   "source": [
    "moscow_city = user_behavior[user_behavior['city'] =='Москва']['total_cost']\n",
    "other_city = user_behavior[user_behavior['city'] !='Москва']['total_cost']\n",
    "# results = вызов метода для проверки гипотезы\n",
    "results = st.ttest_ind(moscow_city, other_city, equal_var=False)\n",
    "# alpha = задайте значение уровня значимости\n",
    "print(results.pvalue)\n",
    "# вывод значения p-value на экран \n",
    "alpha = 0.05\n",
    "if results.pvalue < alpha:\n",
    "    print(\"Отвергаем нулевую гипотезу\")\n",
    "else:\n",
    "    print(\"Не получилось отвергнуть нулевую гипотезу\") \n",
    "# условный оператор с выводом строки с ответом\n",
    "# вывод значения p-value на экран \n",
    "# условный оператор с выводом строки с ответом"
   ]
  },
  {
   "cell_type": "markdown",
   "metadata": {},
   "source": [
    "**Вывод:** Отвергнуть нулевую гипотезу не получилось, средняя выручка пользователей из Москвы и регионов одинакова."
   ]
  },
  {
   "cell_type": "markdown",
   "metadata": {},
   "source": [
    "## Вывод\n",
    "\n",
    "Исследование проводилось на выборке из пятисот пользователей тарифов \"Ультра\" и \"Смарт\" как Москвы, так и других городов.\n",
    "\n",
    "При этом, пользователей из Москвы было меньше, а среди выбранного пользователями тарифа преобладал \"Смарт\".\n",
    "\n",
    "Было выявлено, что в среднем, пользователи тарифов укладываются в лимиты. Но в частных случаях, есть потребность в использовании дополнительных платных услуг; для Ультры переплаты составляют 50-100 рублей в месяц, в то время как некоторые пользователи тарифа \"Смарт\" могут тратить по 2-3 эквивалента абонентской платы в месяц.\n",
    "\n",
    "В ходе анализа нужно было подтвердить следующие гипотезы:\n",
    "\n",
    "средняя выручка пользователей тарифов «Ультра» и «Смарт» различаются;\n",
    "средняя выручка пользователей из Москвы отличается от выручки пользователей из других регионов.\n",
    "В первом случае мы опровергли нулевую гипотезу о равенстве средней выручки тарифов и не смогли опровергнуть гипотезу о том, что средняя выручка тарифа \"Ультра\" больше, чем средняя выручка тарифа \"Смарт\".\n",
    "\n",
    "Во втором случае нулевая гипотеза о равенстве средней выручке пользователей из Москвы и пользователей из других городов отвергнута не была."
   ]
  }
 ],
 "metadata": {
  "ExecuteTimeLog": [
   {
    "duration": 467,
    "start_time": "2022-09-12T14:57:17.064Z"
   },
   {
    "duration": 15,
    "start_time": "2022-09-12T14:58:14.727Z"
   },
   {
    "duration": 68,
    "start_time": "2022-09-12T14:58:45.216Z"
   },
   {
    "duration": 97,
    "start_time": "2022-09-12T14:58:54.450Z"
   },
   {
    "duration": 494,
    "start_time": "2022-09-12T14:59:00.041Z"
   },
   {
    "duration": 43,
    "start_time": "2022-09-12T14:59:00.538Z"
   },
   {
    "duration": 22,
    "start_time": "2022-09-12T14:59:23.208Z"
   },
   {
    "duration": 22,
    "start_time": "2022-09-12T14:59:33.852Z"
   },
   {
    "duration": 22,
    "start_time": "2022-09-12T15:00:33.641Z"
   },
   {
    "duration": 18,
    "start_time": "2022-09-12T15:01:50.432Z"
   },
   {
    "duration": 8,
    "start_time": "2022-09-12T15:05:46.358Z"
   },
   {
    "duration": 10,
    "start_time": "2022-09-12T15:26:07.741Z"
   },
   {
    "duration": 521,
    "start_time": "2022-09-12T15:35:37.904Z"
   },
   {
    "duration": 30,
    "start_time": "2022-09-12T15:35:38.428Z"
   },
   {
    "duration": 17,
    "start_time": "2022-09-12T15:35:38.459Z"
   },
   {
    "duration": 11,
    "start_time": "2022-09-12T15:35:38.478Z"
   },
   {
    "duration": 901,
    "start_time": "2022-09-12T15:35:38.491Z"
   },
   {
    "duration": 79,
    "start_time": "2022-09-12T15:35:59.112Z"
   },
   {
    "duration": 115,
    "start_time": "2022-09-12T15:36:17.788Z"
   },
   {
    "duration": 121,
    "start_time": "2022-09-12T15:37:23.054Z"
   },
   {
    "duration": 48,
    "start_time": "2022-09-12T15:38:15.801Z"
   },
   {
    "duration": 1394,
    "start_time": "2022-09-12T15:38:21.119Z"
   },
   {
    "duration": 155,
    "start_time": "2022-09-12T15:38:37.190Z"
   },
   {
    "duration": 142,
    "start_time": "2022-09-12T15:38:48.658Z"
   },
   {
    "duration": 165,
    "start_time": "2022-09-12T15:39:06.392Z"
   },
   {
    "duration": 698,
    "start_time": "2022-09-12T15:41:07.656Z"
   },
   {
    "duration": 107,
    "start_time": "2022-09-12T15:41:27.869Z"
   },
   {
    "duration": 112,
    "start_time": "2022-09-12T15:41:31.335Z"
   },
   {
    "duration": 761,
    "start_time": "2022-09-12T15:41:37.694Z"
   },
   {
    "duration": 28,
    "start_time": "2022-09-12T15:41:38.457Z"
   },
   {
    "duration": 22,
    "start_time": "2022-09-12T15:41:38.487Z"
   },
   {
    "duration": 23,
    "start_time": "2022-09-12T15:41:38.511Z"
   },
   {
    "duration": 154,
    "start_time": "2022-09-12T15:41:38.536Z"
   },
   {
    "duration": 217,
    "start_time": "2022-09-12T15:42:42.937Z"
   },
   {
    "duration": 114,
    "start_time": "2022-09-12T15:42:53.981Z"
   },
   {
    "duration": 157,
    "start_time": "2022-09-12T15:44:05.849Z"
   },
   {
    "duration": 71,
    "start_time": "2022-09-12T15:45:41.362Z"
   },
   {
    "duration": 9,
    "start_time": "2022-09-12T15:49:06.680Z"
   },
   {
    "duration": 114,
    "start_time": "2022-09-12T15:49:12.689Z"
   },
   {
    "duration": 12,
    "start_time": "2022-09-12T15:50:01.856Z"
   },
   {
    "duration": 6,
    "start_time": "2022-09-12T15:56:43.149Z"
   },
   {
    "duration": 94,
    "start_time": "2022-09-12T16:05:51.138Z"
   },
   {
    "duration": 10,
    "start_time": "2022-09-12T16:06:21.456Z"
   },
   {
    "duration": 25,
    "start_time": "2022-09-12T16:26:42.556Z"
   },
   {
    "duration": 6,
    "start_time": "2022-09-12T16:26:54.930Z"
   },
   {
    "duration": 1278,
    "start_time": "2022-09-12T16:27:20.727Z"
   },
   {
    "duration": 7,
    "start_time": "2022-09-12T16:27:28.994Z"
   },
   {
    "duration": 8,
    "start_time": "2022-09-12T16:29:18.898Z"
   },
   {
    "duration": 6,
    "start_time": "2022-09-12T16:29:30.333Z"
   },
   {
    "duration": 4,
    "start_time": "2022-09-12T16:29:35.492Z"
   },
   {
    "duration": 10,
    "start_time": "2022-09-12T16:30:25.168Z"
   },
   {
    "duration": 7,
    "start_time": "2022-09-12T16:33:47.796Z"
   },
   {
    "duration": 12,
    "start_time": "2022-09-12T16:33:55.556Z"
   },
   {
    "duration": 4,
    "start_time": "2022-09-12T16:34:01.087Z"
   },
   {
    "duration": 15,
    "start_time": "2022-09-12T16:35:08.402Z"
   },
   {
    "duration": 3,
    "start_time": "2022-09-12T16:41:59.158Z"
   },
   {
    "duration": 4,
    "start_time": "2022-09-12T16:44:46.593Z"
   },
   {
    "duration": 9,
    "start_time": "2022-09-12T16:45:54.694Z"
   },
   {
    "duration": 49,
    "start_time": "2022-09-12T16:46:06.118Z"
   },
   {
    "duration": 8,
    "start_time": "2022-09-12T16:46:12.859Z"
   },
   {
    "duration": 3,
    "start_time": "2022-09-12T16:48:47.680Z"
   },
   {
    "duration": 3,
    "start_time": "2022-09-12T16:48:50.476Z"
   },
   {
    "duration": 2,
    "start_time": "2022-09-12T16:48:54.362Z"
   },
   {
    "duration": 2,
    "start_time": "2022-09-12T16:48:56.212Z"
   },
   {
    "duration": 65,
    "start_time": "2022-09-12T16:49:41.697Z"
   },
   {
    "duration": 8,
    "start_time": "2022-09-12T16:49:49.950Z"
   },
   {
    "duration": 17,
    "start_time": "2022-09-12T16:50:30.812Z"
   },
   {
    "duration": 31,
    "start_time": "2022-09-12T16:50:37.184Z"
   },
   {
    "duration": 31,
    "start_time": "2022-09-12T17:01:35.541Z"
   },
   {
    "duration": 8,
    "start_time": "2022-09-12T17:13:33.737Z"
   },
   {
    "duration": 28,
    "start_time": "2022-09-12T17:13:44.572Z"
   },
   {
    "duration": 2,
    "start_time": "2022-09-12T17:14:21.202Z"
   },
   {
    "duration": 34,
    "start_time": "2022-09-12T17:15:12.353Z"
   },
   {
    "duration": 6,
    "start_time": "2022-09-12T17:16:45.344Z"
   },
   {
    "duration": 2,
    "start_time": "2022-09-12T17:24:23.333Z"
   },
   {
    "duration": 7,
    "start_time": "2022-09-12T17:25:25.120Z"
   },
   {
    "duration": 5,
    "start_time": "2022-09-12T17:26:34.527Z"
   },
   {
    "duration": 13,
    "start_time": "2022-09-12T17:28:37.997Z"
   },
   {
    "duration": 9,
    "start_time": "2022-09-12T17:30:07.016Z"
   },
   {
    "duration": 8,
    "start_time": "2022-09-12T17:30:10.339Z"
   },
   {
    "duration": 4,
    "start_time": "2022-09-12T17:30:31.958Z"
   },
   {
    "duration": 10,
    "start_time": "2022-09-12T17:31:40.927Z"
   },
   {
    "duration": 3,
    "start_time": "2022-09-12T17:33:22.955Z"
   },
   {
    "duration": 4,
    "start_time": "2022-09-12T17:33:45.196Z"
   },
   {
    "duration": 4,
    "start_time": "2022-09-12T17:39:01.036Z"
   },
   {
    "duration": 4,
    "start_time": "2022-09-12T17:40:24.234Z"
   },
   {
    "duration": 5,
    "start_time": "2022-09-12T17:40:25.542Z"
   },
   {
    "duration": 10,
    "start_time": "2022-09-12T17:52:32.399Z"
   },
   {
    "duration": 770,
    "start_time": "2022-09-12T17:53:26.976Z"
   },
   {
    "duration": 28,
    "start_time": "2022-09-12T17:53:27.748Z"
   },
   {
    "duration": 15,
    "start_time": "2022-09-12T17:53:27.778Z"
   },
   {
    "duration": 35,
    "start_time": "2022-09-12T17:53:27.796Z"
   },
   {
    "duration": 11,
    "start_time": "2022-09-12T17:53:27.833Z"
   },
   {
    "duration": 10,
    "start_time": "2022-09-12T17:53:27.846Z"
   },
   {
    "duration": 4,
    "start_time": "2022-09-12T17:53:27.858Z"
   },
   {
    "duration": 18,
    "start_time": "2022-09-12T17:53:27.864Z"
   },
   {
    "duration": 62,
    "start_time": "2022-09-12T17:53:27.884Z"
   },
   {
    "duration": 29,
    "start_time": "2022-09-12T17:53:27.948Z"
   },
   {
    "duration": 5,
    "start_time": "2022-09-12T17:53:27.979Z"
   },
   {
    "duration": 38,
    "start_time": "2022-09-12T17:53:27.986Z"
   },
   {
    "duration": 8,
    "start_time": "2022-09-12T17:53:28.026Z"
   },
   {
    "duration": 9,
    "start_time": "2022-09-12T17:53:28.036Z"
   },
   {
    "duration": 10,
    "start_time": "2022-09-12T17:53:28.046Z"
   },
   {
    "duration": 14,
    "start_time": "2022-09-12T17:53:28.058Z"
   },
   {
    "duration": 64,
    "start_time": "2022-09-12T17:55:36.055Z"
   },
   {
    "duration": 74,
    "start_time": "2022-09-12T18:03:03.360Z"
   },
   {
    "duration": 8,
    "start_time": "2022-09-12T18:03:11.472Z"
   },
   {
    "duration": 31,
    "start_time": "2022-09-12T18:03:37.869Z"
   },
   {
    "duration": 11,
    "start_time": "2022-09-12T18:04:04.609Z"
   },
   {
    "duration": 23,
    "start_time": "2022-09-12T18:05:04.134Z"
   },
   {
    "duration": 43,
    "start_time": "2022-09-13T04:30:14.848Z"
   },
   {
    "duration": 880,
    "start_time": "2022-09-13T04:30:20.238Z"
   },
   {
    "duration": 25,
    "start_time": "2022-09-13T04:30:21.120Z"
   },
   {
    "duration": 14,
    "start_time": "2022-09-13T04:30:21.146Z"
   },
   {
    "duration": 7,
    "start_time": "2022-09-13T04:30:21.162Z"
   },
   {
    "duration": 8,
    "start_time": "2022-09-13T04:30:21.171Z"
   },
   {
    "duration": 28,
    "start_time": "2022-09-13T04:30:21.181Z"
   },
   {
    "duration": 8,
    "start_time": "2022-09-13T04:30:21.211Z"
   },
   {
    "duration": 14,
    "start_time": "2022-09-13T04:30:21.221Z"
   },
   {
    "duration": 22,
    "start_time": "2022-09-13T04:30:21.237Z"
   },
   {
    "duration": 23,
    "start_time": "2022-09-13T04:30:21.262Z"
   },
   {
    "duration": 30,
    "start_time": "2022-09-13T04:30:21.287Z"
   },
   {
    "duration": 9,
    "start_time": "2022-09-13T04:30:21.319Z"
   },
   {
    "duration": 9,
    "start_time": "2022-09-13T04:30:21.329Z"
   },
   {
    "duration": 4,
    "start_time": "2022-09-13T04:30:21.339Z"
   },
   {
    "duration": 4,
    "start_time": "2022-09-13T04:30:21.344Z"
   },
   {
    "duration": 5,
    "start_time": "2022-09-13T04:30:21.349Z"
   },
   {
    "duration": 8,
    "start_time": "2022-09-13T04:30:21.355Z"
   },
   {
    "duration": 20,
    "start_time": "2022-09-13T04:30:21.364Z"
   },
   {
    "duration": 22,
    "start_time": "2022-09-13T04:30:21.385Z"
   },
   {
    "duration": 13,
    "start_time": "2022-09-13T04:32:22.544Z"
   },
   {
    "duration": 16,
    "start_time": "2022-09-13T04:32:31.886Z"
   },
   {
    "duration": 4,
    "start_time": "2022-09-13T04:32:44.720Z"
   },
   {
    "duration": 68,
    "start_time": "2022-09-13T04:32:51.115Z"
   },
   {
    "duration": 12,
    "start_time": "2022-09-13T04:33:24.784Z"
   },
   {
    "duration": 10,
    "start_time": "2022-09-13T04:33:33.575Z"
   },
   {
    "duration": 21,
    "start_time": "2022-09-13T04:33:44.248Z"
   },
   {
    "duration": 666,
    "start_time": "2022-09-13T04:34:09.428Z"
   },
   {
    "duration": 26,
    "start_time": "2022-09-13T04:34:10.096Z"
   },
   {
    "duration": 23,
    "start_time": "2022-09-13T04:34:10.123Z"
   },
   {
    "duration": 7,
    "start_time": "2022-09-13T04:34:10.148Z"
   },
   {
    "duration": 11,
    "start_time": "2022-09-13T04:34:10.156Z"
   },
   {
    "duration": 13,
    "start_time": "2022-09-13T04:34:10.168Z"
   },
   {
    "duration": 12,
    "start_time": "2022-09-13T04:34:10.182Z"
   },
   {
    "duration": 24,
    "start_time": "2022-09-13T04:34:10.195Z"
   },
   {
    "duration": 24,
    "start_time": "2022-09-13T04:34:10.220Z"
   },
   {
    "duration": 40,
    "start_time": "2022-09-13T04:34:10.246Z"
   },
   {
    "duration": 5,
    "start_time": "2022-09-13T04:34:10.288Z"
   },
   {
    "duration": 10,
    "start_time": "2022-09-13T04:34:10.294Z"
   },
   {
    "duration": 18,
    "start_time": "2022-09-13T04:34:10.305Z"
   },
   {
    "duration": 6,
    "start_time": "2022-09-13T04:34:10.324Z"
   },
   {
    "duration": 4,
    "start_time": "2022-09-13T04:34:10.331Z"
   },
   {
    "duration": 8,
    "start_time": "2022-09-13T04:34:10.337Z"
   },
   {
    "duration": 26,
    "start_time": "2022-09-13T04:34:10.346Z"
   },
   {
    "duration": 21,
    "start_time": "2022-09-13T04:34:10.374Z"
   },
   {
    "duration": 27,
    "start_time": "2022-09-13T04:34:10.397Z"
   },
   {
    "duration": 18,
    "start_time": "2022-09-13T04:34:10.426Z"
   },
   {
    "duration": 6,
    "start_time": "2022-09-13T04:35:31.780Z"
   },
   {
    "duration": 6,
    "start_time": "2022-09-13T04:36:21.187Z"
   },
   {
    "duration": 5,
    "start_time": "2022-09-13T04:37:18.123Z"
   },
   {
    "duration": 666,
    "start_time": "2022-09-13T04:37:24.441Z"
   },
   {
    "duration": 23,
    "start_time": "2022-09-13T04:37:25.117Z"
   },
   {
    "duration": 16,
    "start_time": "2022-09-13T04:37:25.142Z"
   },
   {
    "duration": 9,
    "start_time": "2022-09-13T04:37:25.159Z"
   },
   {
    "duration": 8,
    "start_time": "2022-09-13T04:37:25.171Z"
   },
   {
    "duration": 39,
    "start_time": "2022-09-13T04:37:25.180Z"
   },
   {
    "duration": 4,
    "start_time": "2022-09-13T04:37:25.220Z"
   },
   {
    "duration": 16,
    "start_time": "2022-09-13T04:37:25.225Z"
   },
   {
    "duration": 22,
    "start_time": "2022-09-13T04:37:25.242Z"
   },
   {
    "duration": 24,
    "start_time": "2022-09-13T04:37:25.265Z"
   },
   {
    "duration": 4,
    "start_time": "2022-09-13T04:37:25.291Z"
   },
   {
    "duration": 14,
    "start_time": "2022-09-13T04:37:25.296Z"
   },
   {
    "duration": 15,
    "start_time": "2022-09-13T04:37:25.311Z"
   },
   {
    "duration": 7,
    "start_time": "2022-09-13T04:37:25.328Z"
   },
   {
    "duration": 6,
    "start_time": "2022-09-13T04:37:25.336Z"
   },
   {
    "duration": 6,
    "start_time": "2022-09-13T04:37:25.343Z"
   },
   {
    "duration": 11,
    "start_time": "2022-09-13T04:37:25.351Z"
   },
   {
    "duration": 27,
    "start_time": "2022-09-13T04:37:25.363Z"
   },
   {
    "duration": 11,
    "start_time": "2022-09-13T04:37:25.392Z"
   },
   {
    "duration": 31,
    "start_time": "2022-09-13T04:37:25.405Z"
   },
   {
    "duration": 10,
    "start_time": "2022-09-13T04:37:25.437Z"
   },
   {
    "duration": 12,
    "start_time": "2022-09-13T04:37:25.448Z"
   },
   {
    "duration": 9,
    "start_time": "2022-09-13T04:37:25.461Z"
   },
   {
    "duration": 5,
    "start_time": "2022-09-13T04:37:38.338Z"
   },
   {
    "duration": 6,
    "start_time": "2022-09-13T04:38:01.681Z"
   },
   {
    "duration": 20,
    "start_time": "2022-09-13T04:38:09.521Z"
   },
   {
    "duration": 20,
    "start_time": "2022-09-13T04:38:12.777Z"
   },
   {
    "duration": 5,
    "start_time": "2022-09-13T04:38:29.662Z"
   },
   {
    "duration": 21,
    "start_time": "2022-09-13T04:38:43.361Z"
   },
   {
    "duration": 4,
    "start_time": "2022-09-13T04:38:44.633Z"
   },
   {
    "duration": 4,
    "start_time": "2022-09-13T04:38:45.289Z"
   },
   {
    "duration": 687,
    "start_time": "2022-09-13T04:39:51.219Z"
   },
   {
    "duration": 24,
    "start_time": "2022-09-13T04:39:51.907Z"
   },
   {
    "duration": 14,
    "start_time": "2022-09-13T04:39:51.933Z"
   },
   {
    "duration": 16,
    "start_time": "2022-09-13T04:39:51.949Z"
   },
   {
    "duration": 9,
    "start_time": "2022-09-13T04:39:51.967Z"
   },
   {
    "duration": 9,
    "start_time": "2022-09-13T04:39:51.977Z"
   },
   {
    "duration": 19,
    "start_time": "2022-09-13T04:39:51.987Z"
   },
   {
    "duration": 15,
    "start_time": "2022-09-13T04:39:52.007Z"
   },
   {
    "duration": 23,
    "start_time": "2022-09-13T04:39:52.024Z"
   },
   {
    "duration": 26,
    "start_time": "2022-09-13T04:39:52.049Z"
   },
   {
    "duration": 5,
    "start_time": "2022-09-13T04:39:52.076Z"
   },
   {
    "duration": 5,
    "start_time": "2022-09-13T04:39:52.105Z"
   },
   {
    "duration": 7,
    "start_time": "2022-09-13T04:39:52.111Z"
   },
   {
    "duration": 5,
    "start_time": "2022-09-13T04:39:52.119Z"
   },
   {
    "duration": 8,
    "start_time": "2022-09-13T04:39:52.125Z"
   },
   {
    "duration": 10,
    "start_time": "2022-09-13T04:39:52.134Z"
   },
   {
    "duration": 18,
    "start_time": "2022-09-13T04:39:52.146Z"
   },
   {
    "duration": 24,
    "start_time": "2022-09-13T04:39:52.166Z"
   },
   {
    "duration": 23,
    "start_time": "2022-09-13T04:39:52.192Z"
   },
   {
    "duration": 19,
    "start_time": "2022-09-13T04:39:52.216Z"
   },
   {
    "duration": 24,
    "start_time": "2022-09-13T04:40:32.402Z"
   },
   {
    "duration": 6,
    "start_time": "2022-09-13T04:40:32.906Z"
   },
   {
    "duration": 8,
    "start_time": "2022-09-13T04:51:05.707Z"
   },
   {
    "duration": 9,
    "start_time": "2022-09-13T04:53:00.130Z"
   },
   {
    "duration": 9,
    "start_time": "2022-09-13T04:53:05.595Z"
   },
   {
    "duration": 13,
    "start_time": "2022-09-13T04:54:20.401Z"
   },
   {
    "duration": 6,
    "start_time": "2022-09-13T04:54:31.322Z"
   },
   {
    "duration": 12,
    "start_time": "2022-09-13T04:55:27.520Z"
   },
   {
    "duration": 18,
    "start_time": "2022-09-13T04:56:07.960Z"
   },
   {
    "duration": 7,
    "start_time": "2022-09-13T04:56:09.024Z"
   },
   {
    "duration": 657,
    "start_time": "2022-09-13T04:56:23.660Z"
   },
   {
    "duration": 27,
    "start_time": "2022-09-13T04:56:24.319Z"
   },
   {
    "duration": 15,
    "start_time": "2022-09-13T04:56:24.347Z"
   },
   {
    "duration": 8,
    "start_time": "2022-09-13T04:56:24.364Z"
   },
   {
    "duration": 31,
    "start_time": "2022-09-13T04:56:24.374Z"
   },
   {
    "duration": 8,
    "start_time": "2022-09-13T04:56:24.407Z"
   },
   {
    "duration": 3,
    "start_time": "2022-09-13T04:56:24.417Z"
   },
   {
    "duration": 14,
    "start_time": "2022-09-13T04:56:24.421Z"
   },
   {
    "duration": 30,
    "start_time": "2022-09-13T04:56:24.436Z"
   },
   {
    "duration": 52,
    "start_time": "2022-09-13T04:56:24.470Z"
   },
   {
    "duration": 5,
    "start_time": "2022-09-13T04:56:24.523Z"
   },
   {
    "duration": 10,
    "start_time": "2022-09-13T04:56:24.530Z"
   },
   {
    "duration": 15,
    "start_time": "2022-09-13T04:56:24.541Z"
   },
   {
    "duration": 5,
    "start_time": "2022-09-13T04:56:24.558Z"
   },
   {
    "duration": 6,
    "start_time": "2022-09-13T04:56:24.565Z"
   },
   {
    "duration": 9,
    "start_time": "2022-09-13T04:56:24.573Z"
   },
   {
    "duration": 22,
    "start_time": "2022-09-13T04:56:24.584Z"
   },
   {
    "duration": 22,
    "start_time": "2022-09-13T04:56:24.608Z"
   },
   {
    "duration": 7,
    "start_time": "2022-09-13T04:56:24.631Z"
   },
   {
    "duration": 15,
    "start_time": "2022-09-13T04:56:24.640Z"
   },
   {
    "duration": 9,
    "start_time": "2022-09-13T04:56:24.656Z"
   },
   {
    "duration": 44,
    "start_time": "2022-09-13T04:56:24.667Z"
   },
   {
    "duration": 11,
    "start_time": "2022-09-13T04:56:24.713Z"
   },
   {
    "duration": 5,
    "start_time": "2022-09-13T04:56:45.817Z"
   },
   {
    "duration": 15,
    "start_time": "2022-09-13T04:56:48.777Z"
   },
   {
    "duration": 6,
    "start_time": "2022-09-13T04:56:49.368Z"
   },
   {
    "duration": 12,
    "start_time": "2022-09-13T04:57:14.408Z"
   },
   {
    "duration": 6,
    "start_time": "2022-09-13T04:57:17.945Z"
   },
   {
    "duration": 9,
    "start_time": "2022-09-13T04:57:42.712Z"
   },
   {
    "duration": 8,
    "start_time": "2022-09-13T04:58:02.576Z"
   },
   {
    "duration": 11,
    "start_time": "2022-09-13T04:58:10.011Z"
   },
   {
    "duration": 20,
    "start_time": "2022-09-13T04:58:16.856Z"
   },
   {
    "duration": 10,
    "start_time": "2022-09-13T04:58:29.041Z"
   },
   {
    "duration": 11,
    "start_time": "2022-09-13T04:59:52.484Z"
   },
   {
    "duration": 16,
    "start_time": "2022-09-13T05:02:38.405Z"
   },
   {
    "duration": 6,
    "start_time": "2022-09-13T05:02:48.581Z"
   },
   {
    "duration": 3,
    "start_time": "2022-09-13T05:09:37.040Z"
   },
   {
    "duration": 3,
    "start_time": "2022-09-13T05:12:46.901Z"
   },
   {
    "duration": 3,
    "start_time": "2022-09-13T05:15:12.125Z"
   },
   {
    "duration": 5,
    "start_time": "2022-09-13T05:15:55.508Z"
   },
   {
    "duration": 4,
    "start_time": "2022-09-13T05:16:24.380Z"
   },
   {
    "duration": 52,
    "start_time": "2022-09-13T13:42:33.688Z"
   },
   {
    "duration": 1096,
    "start_time": "2022-09-13T13:42:37.117Z"
   },
   {
    "duration": 24,
    "start_time": "2022-09-13T13:42:38.215Z"
   },
   {
    "duration": 14,
    "start_time": "2022-09-13T13:42:38.240Z"
   },
   {
    "duration": 11,
    "start_time": "2022-09-13T13:42:38.255Z"
   },
   {
    "duration": 25,
    "start_time": "2022-09-13T13:42:38.269Z"
   },
   {
    "duration": 17,
    "start_time": "2022-09-13T13:42:38.296Z"
   },
   {
    "duration": 7,
    "start_time": "2022-09-13T13:42:38.314Z"
   },
   {
    "duration": 39,
    "start_time": "2022-09-13T13:42:38.322Z"
   },
   {
    "duration": 29,
    "start_time": "2022-09-13T13:42:38.362Z"
   },
   {
    "duration": 28,
    "start_time": "2022-09-13T13:42:38.392Z"
   },
   {
    "duration": 5,
    "start_time": "2022-09-13T13:42:38.422Z"
   },
   {
    "duration": 27,
    "start_time": "2022-09-13T13:42:38.428Z"
   },
   {
    "duration": 22,
    "start_time": "2022-09-13T13:42:38.456Z"
   },
   {
    "duration": 28,
    "start_time": "2022-09-13T13:42:38.480Z"
   },
   {
    "duration": 31,
    "start_time": "2022-09-13T13:42:38.509Z"
   },
   {
    "duration": 24,
    "start_time": "2022-09-13T13:42:38.542Z"
   },
   {
    "duration": 19,
    "start_time": "2022-09-13T13:42:38.568Z"
   },
   {
    "duration": 37,
    "start_time": "2022-09-13T13:42:38.588Z"
   },
   {
    "duration": 106,
    "start_time": "2022-09-13T13:42:38.627Z"
   },
   {
    "duration": 0,
    "start_time": "2022-09-13T13:42:38.735Z"
   },
   {
    "duration": 0,
    "start_time": "2022-09-13T13:42:38.737Z"
   },
   {
    "duration": 0,
    "start_time": "2022-09-13T13:42:38.738Z"
   },
   {
    "duration": 0,
    "start_time": "2022-09-13T13:42:38.740Z"
   },
   {
    "duration": 0,
    "start_time": "2022-09-13T13:42:38.741Z"
   },
   {
    "duration": 0,
    "start_time": "2022-09-13T13:42:38.743Z"
   },
   {
    "duration": 11,
    "start_time": "2022-09-13T13:43:19.651Z"
   },
   {
    "duration": 19,
    "start_time": "2022-09-13T13:43:21.807Z"
   },
   {
    "duration": 5,
    "start_time": "2022-09-13T13:43:37.445Z"
   },
   {
    "duration": 5,
    "start_time": "2022-09-13T13:45:14.944Z"
   },
   {
    "duration": 16,
    "start_time": "2022-09-13T13:47:23.376Z"
   },
   {
    "duration": 13,
    "start_time": "2022-09-13T13:47:27.295Z"
   },
   {
    "duration": 11,
    "start_time": "2022-09-13T13:48:51.945Z"
   },
   {
    "duration": 5,
    "start_time": "2022-09-13T13:49:18.144Z"
   },
   {
    "duration": 4,
    "start_time": "2022-09-13T13:49:25.341Z"
   },
   {
    "duration": 3,
    "start_time": "2022-09-13T13:54:26.520Z"
   },
   {
    "duration": 5,
    "start_time": "2022-09-13T13:54:30.670Z"
   },
   {
    "duration": 12,
    "start_time": "2022-09-13T13:54:33.446Z"
   },
   {
    "duration": 4,
    "start_time": "2022-09-13T13:57:11.332Z"
   },
   {
    "duration": 18,
    "start_time": "2022-09-13T14:19:04.033Z"
   },
   {
    "duration": 4,
    "start_time": "2022-09-13T14:19:06.696Z"
   },
   {
    "duration": 708,
    "start_time": "2022-09-13T14:19:22.797Z"
   },
   {
    "duration": 21,
    "start_time": "2022-09-13T14:19:23.507Z"
   },
   {
    "duration": 13,
    "start_time": "2022-09-13T14:19:23.530Z"
   },
   {
    "duration": 7,
    "start_time": "2022-09-13T14:19:23.545Z"
   },
   {
    "duration": 8,
    "start_time": "2022-09-13T14:19:23.554Z"
   },
   {
    "duration": 11,
    "start_time": "2022-09-13T14:19:23.563Z"
   },
   {
    "duration": 4,
    "start_time": "2022-09-13T14:19:23.575Z"
   },
   {
    "duration": 19,
    "start_time": "2022-09-13T14:19:23.610Z"
   },
   {
    "duration": 27,
    "start_time": "2022-09-13T14:19:23.631Z"
   },
   {
    "duration": 23,
    "start_time": "2022-09-13T14:19:23.661Z"
   },
   {
    "duration": 7,
    "start_time": "2022-09-13T14:19:23.709Z"
   },
   {
    "duration": 8,
    "start_time": "2022-09-13T14:19:23.718Z"
   },
   {
    "duration": 7,
    "start_time": "2022-09-13T14:19:23.727Z"
   },
   {
    "duration": 6,
    "start_time": "2022-09-13T14:19:23.735Z"
   },
   {
    "duration": 8,
    "start_time": "2022-09-13T14:19:23.743Z"
   },
   {
    "duration": 6,
    "start_time": "2022-09-13T14:19:23.753Z"
   },
   {
    "duration": 12,
    "start_time": "2022-09-13T14:19:23.761Z"
   },
   {
    "duration": 56,
    "start_time": "2022-09-13T14:19:23.775Z"
   },
   {
    "duration": 12,
    "start_time": "2022-09-13T14:19:23.833Z"
   },
   {
    "duration": 8,
    "start_time": "2022-09-13T14:19:23.847Z"
   },
   {
    "duration": 7,
    "start_time": "2022-09-13T14:19:23.856Z"
   },
   {
    "duration": 15,
    "start_time": "2022-09-13T14:19:23.865Z"
   },
   {
    "duration": 5,
    "start_time": "2022-09-13T14:19:23.882Z"
   },
   {
    "duration": 13,
    "start_time": "2022-09-13T14:19:23.909Z"
   },
   {
    "duration": 18,
    "start_time": "2022-09-13T14:19:23.923Z"
   },
   {
    "duration": 7,
    "start_time": "2022-09-13T14:19:23.942Z"
   },
   {
    "duration": 7,
    "start_time": "2022-09-13T14:19:23.950Z"
   },
   {
    "duration": 5,
    "start_time": "2022-09-13T14:19:23.960Z"
   },
   {
    "duration": 8,
    "start_time": "2022-09-13T14:19:23.966Z"
   },
   {
    "duration": 45,
    "start_time": "2022-09-13T14:19:23.976Z"
   },
   {
    "duration": 7,
    "start_time": "2022-09-13T14:23:56.563Z"
   },
   {
    "duration": 6,
    "start_time": "2022-09-13T14:24:07.655Z"
   },
   {
    "duration": 4,
    "start_time": "2022-09-13T14:24:31.824Z"
   },
   {
    "duration": 21,
    "start_time": "2022-09-13T14:24:35.555Z"
   },
   {
    "duration": 19,
    "start_time": "2022-09-13T14:33:12.941Z"
   },
   {
    "duration": 5,
    "start_time": "2022-09-13T14:33:14.893Z"
   },
   {
    "duration": 46,
    "start_time": "2022-09-13T14:33:26.306Z"
   },
   {
    "duration": 753,
    "start_time": "2022-09-13T14:33:30.829Z"
   },
   {
    "duration": 26,
    "start_time": "2022-09-13T14:33:31.584Z"
   },
   {
    "duration": 18,
    "start_time": "2022-09-13T14:33:31.611Z"
   },
   {
    "duration": 16,
    "start_time": "2022-09-13T14:33:31.630Z"
   },
   {
    "duration": 22,
    "start_time": "2022-09-13T14:33:31.648Z"
   },
   {
    "duration": 27,
    "start_time": "2022-09-13T14:33:31.671Z"
   },
   {
    "duration": 20,
    "start_time": "2022-09-13T14:33:31.699Z"
   },
   {
    "duration": 25,
    "start_time": "2022-09-13T14:33:31.721Z"
   },
   {
    "duration": 32,
    "start_time": "2022-09-13T14:33:31.748Z"
   },
   {
    "duration": 48,
    "start_time": "2022-09-13T14:33:31.782Z"
   },
   {
    "duration": 23,
    "start_time": "2022-09-13T14:33:31.832Z"
   },
   {
    "duration": 13,
    "start_time": "2022-09-13T14:33:31.856Z"
   },
   {
    "duration": 20,
    "start_time": "2022-09-13T14:33:31.870Z"
   },
   {
    "duration": 6,
    "start_time": "2022-09-13T14:33:31.893Z"
   },
   {
    "duration": 7,
    "start_time": "2022-09-13T14:33:31.900Z"
   },
   {
    "duration": 10,
    "start_time": "2022-09-13T14:33:31.908Z"
   },
   {
    "duration": 17,
    "start_time": "2022-09-13T14:33:31.920Z"
   },
   {
    "duration": 21,
    "start_time": "2022-09-13T14:33:31.938Z"
   },
   {
    "duration": 6,
    "start_time": "2022-09-13T14:33:31.961Z"
   },
   {
    "duration": 7,
    "start_time": "2022-09-13T14:33:31.968Z"
   },
   {
    "duration": 5,
    "start_time": "2022-09-13T14:33:31.977Z"
   },
   {
    "duration": 25,
    "start_time": "2022-09-13T14:33:31.984Z"
   },
   {
    "duration": 5,
    "start_time": "2022-09-13T14:33:32.010Z"
   },
   {
    "duration": 17,
    "start_time": "2022-09-13T14:33:32.017Z"
   },
   {
    "duration": 20,
    "start_time": "2022-09-13T14:33:32.036Z"
   },
   {
    "duration": 6,
    "start_time": "2022-09-13T14:33:32.057Z"
   },
   {
    "duration": 12,
    "start_time": "2022-09-13T14:33:32.065Z"
   },
   {
    "duration": 8,
    "start_time": "2022-09-13T14:33:32.079Z"
   },
   {
    "duration": 18,
    "start_time": "2022-09-13T14:33:32.092Z"
   },
   {
    "duration": 20,
    "start_time": "2022-09-13T14:33:32.111Z"
   },
   {
    "duration": 7,
    "start_time": "2022-09-13T14:33:32.132Z"
   },
   {
    "duration": 23,
    "start_time": "2022-09-13T14:33:32.141Z"
   },
   {
    "duration": 4,
    "start_time": "2022-09-13T14:34:41.438Z"
   },
   {
    "duration": 20,
    "start_time": "2022-09-13T14:34:43.900Z"
   },
   {
    "duration": 5,
    "start_time": "2022-09-13T14:35:01.699Z"
   },
   {
    "duration": 22,
    "start_time": "2022-09-13T14:35:04.068Z"
   },
   {
    "duration": 5,
    "start_time": "2022-09-13T14:35:16.050Z"
   },
   {
    "duration": 23,
    "start_time": "2022-09-13T14:35:16.695Z"
   },
   {
    "duration": 6,
    "start_time": "2022-09-13T14:41:36.348Z"
   },
   {
    "duration": 24,
    "start_time": "2022-09-13T14:41:39.107Z"
   },
   {
    "duration": 5,
    "start_time": "2022-09-13T14:43:04.110Z"
   },
   {
    "duration": 20,
    "start_time": "2022-09-13T14:43:06.957Z"
   },
   {
    "duration": 5,
    "start_time": "2022-09-13T14:43:54.445Z"
   },
   {
    "duration": 5,
    "start_time": "2022-09-13T14:43:55.545Z"
   },
   {
    "duration": 5,
    "start_time": "2022-09-13T14:43:56.451Z"
   },
   {
    "duration": 20,
    "start_time": "2022-09-13T14:43:58.365Z"
   },
   {
    "duration": 694,
    "start_time": "2022-09-13T14:44:06.995Z"
   },
   {
    "duration": 22,
    "start_time": "2022-09-13T14:44:07.690Z"
   },
   {
    "duration": 14,
    "start_time": "2022-09-13T14:44:07.713Z"
   },
   {
    "duration": 9,
    "start_time": "2022-09-13T14:44:07.728Z"
   },
   {
    "duration": 8,
    "start_time": "2022-09-13T14:44:07.738Z"
   },
   {
    "duration": 8,
    "start_time": "2022-09-13T14:44:07.748Z"
   },
   {
    "duration": 4,
    "start_time": "2022-09-13T14:44:07.757Z"
   },
   {
    "duration": 17,
    "start_time": "2022-09-13T14:44:07.763Z"
   },
   {
    "duration": 28,
    "start_time": "2022-09-13T14:44:07.809Z"
   },
   {
    "duration": 23,
    "start_time": "2022-09-13T14:44:07.840Z"
   },
   {
    "duration": 5,
    "start_time": "2022-09-13T14:44:07.864Z"
   },
   {
    "duration": 7,
    "start_time": "2022-09-13T14:44:07.871Z"
   },
   {
    "duration": 31,
    "start_time": "2022-09-13T14:44:07.879Z"
   },
   {
    "duration": 4,
    "start_time": "2022-09-13T14:44:07.912Z"
   },
   {
    "duration": 4,
    "start_time": "2022-09-13T14:44:07.917Z"
   },
   {
    "duration": 20,
    "start_time": "2022-09-13T14:44:07.922Z"
   },
   {
    "duration": 12,
    "start_time": "2022-09-13T14:44:07.944Z"
   },
   {
    "duration": 21,
    "start_time": "2022-09-13T14:44:07.957Z"
   },
   {
    "duration": 6,
    "start_time": "2022-09-13T14:44:07.979Z"
   },
   {
    "duration": 5,
    "start_time": "2022-09-13T14:44:07.986Z"
   },
   {
    "duration": 17,
    "start_time": "2022-09-13T14:44:07.992Z"
   },
   {
    "duration": 12,
    "start_time": "2022-09-13T14:44:08.010Z"
   },
   {
    "duration": 4,
    "start_time": "2022-09-13T14:44:08.024Z"
   },
   {
    "duration": 19,
    "start_time": "2022-09-13T14:44:08.029Z"
   },
   {
    "duration": 16,
    "start_time": "2022-09-13T14:44:08.050Z"
   },
   {
    "duration": 7,
    "start_time": "2022-09-13T14:44:08.068Z"
   },
   {
    "duration": 7,
    "start_time": "2022-09-13T14:44:08.077Z"
   },
   {
    "duration": 4,
    "start_time": "2022-09-13T14:44:08.108Z"
   },
   {
    "duration": 10,
    "start_time": "2022-09-13T14:44:08.114Z"
   },
   {
    "duration": 25,
    "start_time": "2022-09-13T14:44:08.126Z"
   },
   {
    "duration": 6,
    "start_time": "2022-09-13T14:44:08.153Z"
   },
   {
    "duration": 6,
    "start_time": "2022-09-13T14:44:08.160Z"
   },
   {
    "duration": 5,
    "start_time": "2022-09-13T14:44:08.167Z"
   },
   {
    "duration": 44,
    "start_time": "2022-09-13T14:44:08.174Z"
   },
   {
    "duration": 81,
    "start_time": "2022-09-13T14:51:54.434Z"
   },
   {
    "duration": 50,
    "start_time": "2022-09-13T14:52:03.334Z"
   },
   {
    "duration": 198,
    "start_time": "2022-09-13T14:52:21.184Z"
   },
   {
    "duration": 11,
    "start_time": "2022-09-13T14:52:28.251Z"
   },
   {
    "duration": 4,
    "start_time": "2022-09-13T14:52:39.774Z"
   },
   {
    "duration": 5,
    "start_time": "2022-09-13T14:52:49.960Z"
   },
   {
    "duration": 5,
    "start_time": "2022-09-13T14:52:54.933Z"
   },
   {
    "duration": 19,
    "start_time": "2022-09-13T14:52:56.142Z"
   },
   {
    "duration": 688,
    "start_time": "2022-09-13T14:53:14.509Z"
   },
   {
    "duration": 22,
    "start_time": "2022-09-13T14:53:15.199Z"
   },
   {
    "duration": 15,
    "start_time": "2022-09-13T14:53:15.222Z"
   },
   {
    "duration": 8,
    "start_time": "2022-09-13T14:53:15.239Z"
   },
   {
    "duration": 10,
    "start_time": "2022-09-13T14:53:15.248Z"
   },
   {
    "duration": 10,
    "start_time": "2022-09-13T14:53:15.259Z"
   },
   {
    "duration": 3,
    "start_time": "2022-09-13T14:53:15.271Z"
   },
   {
    "duration": 45,
    "start_time": "2022-09-13T14:53:15.276Z"
   },
   {
    "duration": 39,
    "start_time": "2022-09-13T14:53:15.322Z"
   },
   {
    "duration": 22,
    "start_time": "2022-09-13T14:53:15.364Z"
   },
   {
    "duration": 22,
    "start_time": "2022-09-13T14:53:15.388Z"
   },
   {
    "duration": 18,
    "start_time": "2022-09-13T14:53:15.411Z"
   },
   {
    "duration": 7,
    "start_time": "2022-09-13T14:53:15.430Z"
   },
   {
    "duration": 8,
    "start_time": "2022-09-13T14:53:15.438Z"
   },
   {
    "duration": 5,
    "start_time": "2022-09-13T14:53:15.447Z"
   },
   {
    "duration": 5,
    "start_time": "2022-09-13T14:53:15.454Z"
   },
   {
    "duration": 9,
    "start_time": "2022-09-13T14:53:15.461Z"
   },
   {
    "duration": 21,
    "start_time": "2022-09-13T14:53:15.471Z"
   },
   {
    "duration": 16,
    "start_time": "2022-09-13T14:53:15.493Z"
   },
   {
    "duration": 5,
    "start_time": "2022-09-13T14:53:15.510Z"
   },
   {
    "duration": 7,
    "start_time": "2022-09-13T14:53:15.516Z"
   },
   {
    "duration": 22,
    "start_time": "2022-09-13T14:53:15.525Z"
   },
   {
    "duration": 4,
    "start_time": "2022-09-13T14:53:15.549Z"
   },
   {
    "duration": 14,
    "start_time": "2022-09-13T14:53:15.554Z"
   },
   {
    "duration": 15,
    "start_time": "2022-09-13T14:53:15.569Z"
   },
   {
    "duration": 23,
    "start_time": "2022-09-13T14:53:15.586Z"
   },
   {
    "duration": 3,
    "start_time": "2022-09-13T14:53:15.611Z"
   },
   {
    "duration": 6,
    "start_time": "2022-09-13T14:53:15.616Z"
   },
   {
    "duration": 5,
    "start_time": "2022-09-13T14:53:15.623Z"
   },
   {
    "duration": 20,
    "start_time": "2022-09-13T14:53:15.630Z"
   },
   {
    "duration": 7,
    "start_time": "2022-09-13T14:53:15.652Z"
   },
   {
    "duration": 5,
    "start_time": "2022-09-13T14:53:15.660Z"
   },
   {
    "duration": 8,
    "start_time": "2022-09-13T14:53:15.666Z"
   },
   {
    "duration": 15,
    "start_time": "2022-09-13T14:53:15.676Z"
   },
   {
    "duration": 20,
    "start_time": "2022-09-13T14:53:15.708Z"
   },
   {
    "duration": 655,
    "start_time": "2022-09-13T14:53:36.029Z"
   },
   {
    "duration": 24,
    "start_time": "2022-09-13T14:53:36.686Z"
   },
   {
    "duration": 14,
    "start_time": "2022-09-13T14:53:36.712Z"
   },
   {
    "duration": 9,
    "start_time": "2022-09-13T14:53:36.728Z"
   },
   {
    "duration": 10,
    "start_time": "2022-09-13T14:53:36.738Z"
   },
   {
    "duration": 10,
    "start_time": "2022-09-13T14:53:36.749Z"
   },
   {
    "duration": 4,
    "start_time": "2022-09-13T14:53:36.760Z"
   },
   {
    "duration": 52,
    "start_time": "2022-09-13T14:53:36.766Z"
   },
   {
    "duration": 38,
    "start_time": "2022-09-13T14:53:36.820Z"
   },
   {
    "duration": 52,
    "start_time": "2022-09-13T14:53:36.861Z"
   },
   {
    "duration": 6,
    "start_time": "2022-09-13T14:53:36.915Z"
   },
   {
    "duration": 9,
    "start_time": "2022-09-13T14:53:36.923Z"
   },
   {
    "duration": 6,
    "start_time": "2022-09-13T14:53:36.934Z"
   },
   {
    "duration": 7,
    "start_time": "2022-09-13T14:53:36.942Z"
   },
   {
    "duration": 5,
    "start_time": "2022-09-13T14:53:36.951Z"
   },
   {
    "duration": 5,
    "start_time": "2022-09-13T14:53:36.957Z"
   },
   {
    "duration": 9,
    "start_time": "2022-09-13T14:53:36.964Z"
   },
   {
    "duration": 48,
    "start_time": "2022-09-13T14:53:36.976Z"
   },
   {
    "duration": 6,
    "start_time": "2022-09-13T14:53:37.025Z"
   },
   {
    "duration": 6,
    "start_time": "2022-09-13T14:53:37.032Z"
   },
   {
    "duration": 5,
    "start_time": "2022-09-13T14:53:37.039Z"
   },
   {
    "duration": 14,
    "start_time": "2022-09-13T14:53:37.046Z"
   },
   {
    "duration": 7,
    "start_time": "2022-09-13T14:53:37.062Z"
   },
   {
    "duration": 40,
    "start_time": "2022-09-13T14:53:37.071Z"
   },
   {
    "duration": 16,
    "start_time": "2022-09-13T14:53:37.113Z"
   },
   {
    "duration": 10,
    "start_time": "2022-09-13T14:53:37.131Z"
   },
   {
    "duration": 6,
    "start_time": "2022-09-13T14:53:37.143Z"
   },
   {
    "duration": 6,
    "start_time": "2022-09-13T14:53:37.154Z"
   },
   {
    "duration": 6,
    "start_time": "2022-09-13T14:53:37.162Z"
   },
   {
    "duration": 41,
    "start_time": "2022-09-13T14:53:37.169Z"
   },
   {
    "duration": 5,
    "start_time": "2022-09-13T14:53:37.211Z"
   },
   {
    "duration": 5,
    "start_time": "2022-09-13T14:53:37.217Z"
   },
   {
    "duration": 4,
    "start_time": "2022-09-13T14:53:37.224Z"
   },
   {
    "duration": 3,
    "start_time": "2022-09-13T14:53:37.230Z"
   },
   {
    "duration": 21,
    "start_time": "2022-09-13T14:53:37.234Z"
   },
   {
    "duration": 4,
    "start_time": "2022-09-13T15:02:08.278Z"
   },
   {
    "duration": 681,
    "start_time": "2022-09-13T15:26:10.860Z"
   },
   {
    "duration": 3,
    "start_time": "2022-09-13T15:26:31.209Z"
   },
   {
    "duration": 79,
    "start_time": "2022-09-13T15:27:45.763Z"
   },
   {
    "duration": 16,
    "start_time": "2022-09-13T15:27:58.361Z"
   },
   {
    "duration": 8,
    "start_time": "2022-09-13T15:29:03.103Z"
   },
   {
    "duration": 253,
    "start_time": "2022-09-13T15:29:14.354Z"
   },
   {
    "duration": 21,
    "start_time": "2022-09-13T15:30:03.464Z"
   },
   {
    "duration": 710,
    "start_time": "2022-09-13T15:30:07.047Z"
   },
   {
    "duration": 23,
    "start_time": "2022-09-13T15:30:07.759Z"
   },
   {
    "duration": 26,
    "start_time": "2022-09-13T15:30:07.783Z"
   },
   {
    "duration": 8,
    "start_time": "2022-09-13T15:30:07.811Z"
   },
   {
    "duration": 9,
    "start_time": "2022-09-13T15:30:07.821Z"
   },
   {
    "duration": 12,
    "start_time": "2022-09-13T15:30:07.832Z"
   },
   {
    "duration": 4,
    "start_time": "2022-09-13T15:30:07.846Z"
   },
   {
    "duration": 57,
    "start_time": "2022-09-13T15:30:07.852Z"
   },
   {
    "duration": 24,
    "start_time": "2022-09-13T15:30:07.911Z"
   },
   {
    "duration": 24,
    "start_time": "2022-09-13T15:30:07.937Z"
   },
   {
    "duration": 5,
    "start_time": "2022-09-13T15:30:07.963Z"
   },
   {
    "duration": 11,
    "start_time": "2022-09-13T15:30:07.970Z"
   },
   {
    "duration": 28,
    "start_time": "2022-09-13T15:30:07.982Z"
   },
   {
    "duration": 9,
    "start_time": "2022-09-13T15:30:08.012Z"
   },
   {
    "duration": 4,
    "start_time": "2022-09-13T15:30:08.022Z"
   },
   {
    "duration": 9,
    "start_time": "2022-09-13T15:30:08.027Z"
   },
   {
    "duration": 22,
    "start_time": "2022-09-13T15:30:08.037Z"
   },
   {
    "duration": 19,
    "start_time": "2022-09-13T15:30:08.062Z"
   },
   {
    "duration": 5,
    "start_time": "2022-09-13T15:30:08.083Z"
   },
   {
    "duration": 22,
    "start_time": "2022-09-13T15:30:08.089Z"
   },
   {
    "duration": 4,
    "start_time": "2022-09-13T15:30:08.113Z"
   },
   {
    "duration": 20,
    "start_time": "2022-09-13T15:30:08.118Z"
   },
   {
    "duration": 9,
    "start_time": "2022-09-13T15:30:08.139Z"
   },
   {
    "duration": 26,
    "start_time": "2022-09-13T15:30:08.150Z"
   },
   {
    "duration": 52,
    "start_time": "2022-09-13T15:30:08.178Z"
   },
   {
    "duration": 9,
    "start_time": "2022-09-13T15:30:08.232Z"
   },
   {
    "duration": 6,
    "start_time": "2022-09-13T15:30:08.243Z"
   },
   {
    "duration": 18,
    "start_time": "2022-09-13T15:30:08.250Z"
   },
   {
    "duration": 8,
    "start_time": "2022-09-13T15:30:08.270Z"
   },
   {
    "duration": 34,
    "start_time": "2022-09-13T15:30:08.280Z"
   },
   {
    "duration": 5,
    "start_time": "2022-09-13T15:30:08.316Z"
   },
   {
    "duration": 6,
    "start_time": "2022-09-13T15:30:08.323Z"
   },
   {
    "duration": 11,
    "start_time": "2022-09-13T15:30:08.330Z"
   },
   {
    "duration": 126,
    "start_time": "2022-09-13T15:30:08.343Z"
   },
   {
    "duration": 0,
    "start_time": "2022-09-13T15:30:08.471Z"
   },
   {
    "duration": 15,
    "start_time": "2022-09-13T15:31:37.554Z"
   },
   {
    "duration": 15,
    "start_time": "2022-09-13T15:31:41.297Z"
   },
   {
    "duration": 4,
    "start_time": "2022-09-13T15:31:50.999Z"
   },
   {
    "duration": 13,
    "start_time": "2022-09-13T15:31:57.969Z"
   },
   {
    "duration": 109,
    "start_time": "2022-09-13T15:32:17.897Z"
   },
   {
    "duration": 3,
    "start_time": "2022-09-13T15:32:29.393Z"
   },
   {
    "duration": 144,
    "start_time": "2022-09-13T15:32:31.092Z"
   },
   {
    "duration": 707,
    "start_time": "2022-09-13T15:32:36.115Z"
   },
   {
    "duration": 27,
    "start_time": "2022-09-13T15:32:36.824Z"
   },
   {
    "duration": 25,
    "start_time": "2022-09-13T15:32:36.855Z"
   },
   {
    "duration": 21,
    "start_time": "2022-09-13T15:32:36.881Z"
   },
   {
    "duration": 18,
    "start_time": "2022-09-13T15:32:36.903Z"
   },
   {
    "duration": 26,
    "start_time": "2022-09-13T15:32:36.923Z"
   },
   {
    "duration": 46,
    "start_time": "2022-09-13T15:32:36.951Z"
   },
   {
    "duration": 38,
    "start_time": "2022-09-13T15:32:36.999Z"
   },
   {
    "duration": 30,
    "start_time": "2022-09-13T15:32:37.041Z"
   },
   {
    "duration": 35,
    "start_time": "2022-09-13T15:32:37.073Z"
   },
   {
    "duration": 4,
    "start_time": "2022-09-13T15:32:37.110Z"
   },
   {
    "duration": 29,
    "start_time": "2022-09-13T15:32:37.116Z"
   },
   {
    "duration": 16,
    "start_time": "2022-09-13T15:32:37.146Z"
   },
   {
    "duration": 18,
    "start_time": "2022-09-13T15:32:37.164Z"
   },
   {
    "duration": 22,
    "start_time": "2022-09-13T15:32:37.184Z"
   },
   {
    "duration": 15,
    "start_time": "2022-09-13T15:32:37.208Z"
   },
   {
    "duration": 36,
    "start_time": "2022-09-13T15:32:37.225Z"
   },
   {
    "duration": 33,
    "start_time": "2022-09-13T15:32:37.263Z"
   },
   {
    "duration": 20,
    "start_time": "2022-09-13T15:32:37.298Z"
   },
   {
    "duration": 22,
    "start_time": "2022-09-13T15:32:37.320Z"
   },
   {
    "duration": 16,
    "start_time": "2022-09-13T15:32:37.344Z"
   },
   {
    "duration": 49,
    "start_time": "2022-09-13T15:32:37.361Z"
   },
   {
    "duration": 19,
    "start_time": "2022-09-13T15:32:37.412Z"
   },
   {
    "duration": 28,
    "start_time": "2022-09-13T15:32:37.433Z"
   },
   {
    "duration": 23,
    "start_time": "2022-09-13T15:32:37.462Z"
   },
   {
    "duration": 6,
    "start_time": "2022-09-13T15:32:37.486Z"
   },
   {
    "duration": 27,
    "start_time": "2022-09-13T15:32:37.495Z"
   },
   {
    "duration": 22,
    "start_time": "2022-09-13T15:32:37.523Z"
   },
   {
    "duration": 30,
    "start_time": "2022-09-13T15:32:37.547Z"
   },
   {
    "duration": 44,
    "start_time": "2022-09-13T15:32:37.579Z"
   },
   {
    "duration": 4,
    "start_time": "2022-09-13T15:32:37.625Z"
   },
   {
    "duration": 23,
    "start_time": "2022-09-13T15:32:37.631Z"
   },
   {
    "duration": 16,
    "start_time": "2022-09-13T15:32:37.656Z"
   },
   {
    "duration": 34,
    "start_time": "2022-09-13T15:32:37.673Z"
   },
   {
    "duration": 176,
    "start_time": "2022-09-13T15:32:37.708Z"
   },
   {
    "duration": 0,
    "start_time": "2022-09-13T15:32:37.886Z"
   },
   {
    "duration": 3,
    "start_time": "2022-09-13T15:33:47.492Z"
   },
   {
    "duration": 720,
    "start_time": "2022-09-13T15:33:50.713Z"
   },
   {
    "duration": 22,
    "start_time": "2022-09-13T15:33:51.434Z"
   },
   {
    "duration": 14,
    "start_time": "2022-09-13T15:33:51.457Z"
   },
   {
    "duration": 12,
    "start_time": "2022-09-13T15:33:51.473Z"
   },
   {
    "duration": 27,
    "start_time": "2022-09-13T15:33:51.486Z"
   },
   {
    "duration": 12,
    "start_time": "2022-09-13T15:33:51.515Z"
   },
   {
    "duration": 4,
    "start_time": "2022-09-13T15:33:51.529Z"
   },
   {
    "duration": 25,
    "start_time": "2022-09-13T15:33:51.534Z"
   },
   {
    "duration": 23,
    "start_time": "2022-09-13T15:33:51.560Z"
   },
   {
    "duration": 25,
    "start_time": "2022-09-13T15:33:51.610Z"
   },
   {
    "duration": 8,
    "start_time": "2022-09-13T15:33:51.637Z"
   },
   {
    "duration": 10,
    "start_time": "2022-09-13T15:33:51.646Z"
   },
   {
    "duration": 5,
    "start_time": "2022-09-13T15:33:51.658Z"
   },
   {
    "duration": 5,
    "start_time": "2022-09-13T15:33:51.664Z"
   },
   {
    "duration": 4,
    "start_time": "2022-09-13T15:33:51.671Z"
   },
   {
    "duration": 40,
    "start_time": "2022-09-13T15:33:51.676Z"
   },
   {
    "duration": 13,
    "start_time": "2022-09-13T15:33:51.718Z"
   },
   {
    "duration": 35,
    "start_time": "2022-09-13T15:33:51.733Z"
   },
   {
    "duration": 14,
    "start_time": "2022-09-13T15:33:51.769Z"
   },
   {
    "duration": 15,
    "start_time": "2022-09-13T15:33:51.785Z"
   },
   {
    "duration": 5,
    "start_time": "2022-09-13T15:33:51.802Z"
   },
   {
    "duration": 19,
    "start_time": "2022-09-13T15:33:51.809Z"
   },
   {
    "duration": 7,
    "start_time": "2022-09-13T15:33:51.829Z"
   },
   {
    "duration": 22,
    "start_time": "2022-09-13T15:33:51.838Z"
   },
   {
    "duration": 22,
    "start_time": "2022-09-13T15:33:51.862Z"
   },
   {
    "duration": 30,
    "start_time": "2022-09-13T15:33:51.886Z"
   },
   {
    "duration": 8,
    "start_time": "2022-09-13T15:33:51.918Z"
   },
   {
    "duration": 5,
    "start_time": "2022-09-13T15:33:51.929Z"
   },
   {
    "duration": 7,
    "start_time": "2022-09-13T15:33:51.935Z"
   },
   {
    "duration": 22,
    "start_time": "2022-09-13T15:33:51.944Z"
   },
   {
    "duration": 8,
    "start_time": "2022-09-13T15:33:51.967Z"
   },
   {
    "duration": 33,
    "start_time": "2022-09-13T15:33:51.976Z"
   },
   {
    "duration": 8,
    "start_time": "2022-09-13T15:33:52.010Z"
   },
   {
    "duration": 13,
    "start_time": "2022-09-13T15:33:52.020Z"
   },
   {
    "duration": 296,
    "start_time": "2022-09-13T15:33:52.034Z"
   },
   {
    "duration": 19,
    "start_time": "2022-09-13T15:33:52.332Z"
   },
   {
    "duration": 681,
    "start_time": "2022-09-13T15:34:25.573Z"
   },
   {
    "duration": 22,
    "start_time": "2022-09-13T15:34:26.256Z"
   },
   {
    "duration": 14,
    "start_time": "2022-09-13T15:34:26.280Z"
   },
   {
    "duration": 14,
    "start_time": "2022-09-13T15:34:26.296Z"
   },
   {
    "duration": 11,
    "start_time": "2022-09-13T15:34:26.312Z"
   },
   {
    "duration": 12,
    "start_time": "2022-09-13T15:34:26.325Z"
   },
   {
    "duration": 3,
    "start_time": "2022-09-13T15:34:26.340Z"
   },
   {
    "duration": 22,
    "start_time": "2022-09-13T15:34:26.345Z"
   },
   {
    "duration": 66,
    "start_time": "2022-09-13T15:34:26.368Z"
   },
   {
    "duration": 23,
    "start_time": "2022-09-13T15:34:26.437Z"
   },
   {
    "duration": 6,
    "start_time": "2022-09-13T15:34:26.462Z"
   },
   {
    "duration": 10,
    "start_time": "2022-09-13T15:34:26.470Z"
   },
   {
    "duration": 28,
    "start_time": "2022-09-13T15:34:26.482Z"
   },
   {
    "duration": 6,
    "start_time": "2022-09-13T15:34:26.512Z"
   },
   {
    "duration": 8,
    "start_time": "2022-09-13T15:34:26.520Z"
   },
   {
    "duration": 8,
    "start_time": "2022-09-13T15:34:26.529Z"
   },
   {
    "duration": 9,
    "start_time": "2022-09-13T15:34:26.539Z"
   },
   {
    "duration": 31,
    "start_time": "2022-09-13T15:34:26.549Z"
   },
   {
    "duration": 6,
    "start_time": "2022-09-13T15:34:26.581Z"
   },
   {
    "duration": 8,
    "start_time": "2022-09-13T15:34:26.590Z"
   },
   {
    "duration": 14,
    "start_time": "2022-09-13T15:34:26.600Z"
   },
   {
    "duration": 17,
    "start_time": "2022-09-13T15:34:26.616Z"
   },
   {
    "duration": 4,
    "start_time": "2022-09-13T15:34:26.635Z"
   },
   {
    "duration": 16,
    "start_time": "2022-09-13T15:34:26.641Z"
   },
   {
    "duration": 16,
    "start_time": "2022-09-13T15:34:26.658Z"
   },
   {
    "duration": 34,
    "start_time": "2022-09-13T15:34:26.675Z"
   },
   {
    "duration": 4,
    "start_time": "2022-09-13T15:34:26.711Z"
   },
   {
    "duration": 15,
    "start_time": "2022-09-13T15:34:26.719Z"
   },
   {
    "duration": 15,
    "start_time": "2022-09-13T15:34:26.735Z"
   },
   {
    "duration": 20,
    "start_time": "2022-09-13T15:34:26.752Z"
   },
   {
    "duration": 10,
    "start_time": "2022-09-13T15:34:26.774Z"
   },
   {
    "duration": 9,
    "start_time": "2022-09-13T15:34:26.786Z"
   },
   {
    "duration": 7,
    "start_time": "2022-09-13T15:34:26.796Z"
   },
   {
    "duration": 3,
    "start_time": "2022-09-13T15:34:26.808Z"
   },
   {
    "duration": 99,
    "start_time": "2022-09-13T15:34:26.813Z"
   },
   {
    "duration": 0,
    "start_time": "2022-09-13T15:34:26.914Z"
   },
   {
    "duration": 4,
    "start_time": "2022-09-13T15:41:10.812Z"
   },
   {
    "duration": 291,
    "start_time": "2022-09-13T15:42:46.480Z"
   },
   {
    "duration": 3,
    "start_time": "2022-09-13T15:43:41.406Z"
   },
   {
    "duration": 326,
    "start_time": "2022-09-13T15:43:51.840Z"
   },
   {
    "duration": 291,
    "start_time": "2022-09-13T15:44:57.409Z"
   },
   {
    "duration": 21,
    "start_time": "2022-09-13T15:47:21.292Z"
   },
   {
    "duration": 5,
    "start_time": "2022-09-13T15:48:02.291Z"
   },
   {
    "duration": 21,
    "start_time": "2022-09-13T15:48:02.966Z"
   },
   {
    "duration": 19,
    "start_time": "2022-09-13T15:48:47.970Z"
   },
   {
    "duration": 13,
    "start_time": "2022-09-13T15:48:58.746Z"
   },
   {
    "duration": 12,
    "start_time": "2022-09-13T15:49:05.048Z"
   },
   {
    "duration": 4,
    "start_time": "2022-09-13T15:50:53.033Z"
   },
   {
    "duration": 39,
    "start_time": "2022-09-13T15:50:55.907Z"
   },
   {
    "duration": 19,
    "start_time": "2022-09-13T15:54:52.815Z"
   },
   {
    "duration": 711,
    "start_time": "2022-09-13T15:55:12.635Z"
   },
   {
    "duration": 22,
    "start_time": "2022-09-13T15:55:13.348Z"
   },
   {
    "duration": 21,
    "start_time": "2022-09-13T15:55:13.372Z"
   },
   {
    "duration": 15,
    "start_time": "2022-09-13T15:55:13.394Z"
   },
   {
    "duration": 11,
    "start_time": "2022-09-13T15:55:13.410Z"
   },
   {
    "duration": 10,
    "start_time": "2022-09-13T15:55:13.423Z"
   },
   {
    "duration": 3,
    "start_time": "2022-09-13T15:55:13.435Z"
   },
   {
    "duration": 16,
    "start_time": "2022-09-13T15:55:13.439Z"
   },
   {
    "duration": 53,
    "start_time": "2022-09-13T15:55:13.457Z"
   },
   {
    "duration": 27,
    "start_time": "2022-09-13T15:55:13.513Z"
   },
   {
    "duration": 5,
    "start_time": "2022-09-13T15:55:13.543Z"
   },
   {
    "duration": 8,
    "start_time": "2022-09-13T15:55:13.550Z"
   },
   {
    "duration": 9,
    "start_time": "2022-09-13T15:55:13.560Z"
   },
   {
    "duration": 6,
    "start_time": "2022-09-13T15:55:13.571Z"
   },
   {
    "duration": 32,
    "start_time": "2022-09-13T15:55:13.579Z"
   },
   {
    "duration": 8,
    "start_time": "2022-09-13T15:55:13.613Z"
   },
   {
    "duration": 10,
    "start_time": "2022-09-13T15:55:13.623Z"
   },
   {
    "duration": 21,
    "start_time": "2022-09-13T15:55:13.634Z"
   },
   {
    "duration": 7,
    "start_time": "2022-09-13T15:55:13.657Z"
   },
   {
    "duration": 13,
    "start_time": "2022-09-13T15:55:13.665Z"
   },
   {
    "duration": 5,
    "start_time": "2022-09-13T15:55:13.680Z"
   },
   {
    "duration": 30,
    "start_time": "2022-09-13T15:55:13.686Z"
   },
   {
    "duration": 5,
    "start_time": "2022-09-13T15:55:13.718Z"
   },
   {
    "duration": 16,
    "start_time": "2022-09-13T15:55:13.724Z"
   },
   {
    "duration": 18,
    "start_time": "2022-09-13T15:55:13.741Z"
   },
   {
    "duration": 7,
    "start_time": "2022-09-13T15:55:13.760Z"
   },
   {
    "duration": 4,
    "start_time": "2022-09-13T15:55:13.769Z"
   },
   {
    "duration": 35,
    "start_time": "2022-09-13T15:55:13.776Z"
   },
   {
    "duration": 9,
    "start_time": "2022-09-13T15:55:13.813Z"
   },
   {
    "duration": 12,
    "start_time": "2022-09-13T15:55:13.824Z"
   },
   {
    "duration": 8,
    "start_time": "2022-09-13T15:55:13.838Z"
   },
   {
    "duration": 11,
    "start_time": "2022-09-13T15:55:13.847Z"
   },
   {
    "duration": 8,
    "start_time": "2022-09-13T15:55:13.859Z"
   },
   {
    "duration": 352,
    "start_time": "2022-09-13T15:55:13.869Z"
   },
   {
    "duration": 87,
    "start_time": "2022-09-13T15:55:14.222Z"
   },
   {
    "duration": 0,
    "start_time": "2022-09-13T15:55:14.311Z"
   },
   {
    "duration": 11,
    "start_time": "2022-09-13T15:56:02.080Z"
   },
   {
    "duration": 710,
    "start_time": "2022-09-13T15:56:05.706Z"
   },
   {
    "duration": 23,
    "start_time": "2022-09-13T15:56:06.418Z"
   },
   {
    "duration": 13,
    "start_time": "2022-09-13T15:56:06.442Z"
   },
   {
    "duration": 8,
    "start_time": "2022-09-13T15:56:06.458Z"
   },
   {
    "duration": 9,
    "start_time": "2022-09-13T15:56:06.468Z"
   },
   {
    "duration": 34,
    "start_time": "2022-09-13T15:56:06.479Z"
   },
   {
    "duration": 3,
    "start_time": "2022-09-13T15:56:06.515Z"
   },
   {
    "duration": 17,
    "start_time": "2022-09-13T15:56:06.520Z"
   },
   {
    "duration": 29,
    "start_time": "2022-09-13T15:56:06.539Z"
   },
   {
    "duration": 37,
    "start_time": "2022-09-13T15:56:06.572Z"
   },
   {
    "duration": 6,
    "start_time": "2022-09-13T15:56:06.610Z"
   },
   {
    "duration": 9,
    "start_time": "2022-09-13T15:56:06.618Z"
   },
   {
    "duration": 11,
    "start_time": "2022-09-13T15:56:06.628Z"
   },
   {
    "duration": 6,
    "start_time": "2022-09-13T15:56:06.641Z"
   },
   {
    "duration": 7,
    "start_time": "2022-09-13T15:56:06.649Z"
   },
   {
    "duration": 9,
    "start_time": "2022-09-13T15:56:06.657Z"
   },
   {
    "duration": 18,
    "start_time": "2022-09-13T15:56:06.667Z"
   },
   {
    "duration": 26,
    "start_time": "2022-09-13T15:56:06.686Z"
   },
   {
    "duration": 11,
    "start_time": "2022-09-13T15:56:06.714Z"
   },
   {
    "duration": 7,
    "start_time": "2022-09-13T15:56:06.726Z"
   },
   {
    "duration": 5,
    "start_time": "2022-09-13T15:56:06.734Z"
   },
   {
    "duration": 14,
    "start_time": "2022-09-13T15:56:06.741Z"
   },
   {
    "duration": 5,
    "start_time": "2022-09-13T15:56:06.756Z"
   },
   {
    "duration": 14,
    "start_time": "2022-09-13T15:56:06.762Z"
   },
   {
    "duration": 37,
    "start_time": "2022-09-13T15:56:06.778Z"
   },
   {
    "duration": 6,
    "start_time": "2022-09-13T15:56:06.816Z"
   },
   {
    "duration": 5,
    "start_time": "2022-09-13T15:56:06.824Z"
   },
   {
    "duration": 8,
    "start_time": "2022-09-13T15:56:06.833Z"
   },
   {
    "duration": 18,
    "start_time": "2022-09-13T15:56:06.843Z"
   },
   {
    "duration": 8,
    "start_time": "2022-09-13T15:56:06.862Z"
   },
   {
    "duration": 6,
    "start_time": "2022-09-13T15:56:06.871Z"
   },
   {
    "duration": 6,
    "start_time": "2022-09-13T15:56:06.878Z"
   },
   {
    "duration": 4,
    "start_time": "2022-09-13T15:56:06.885Z"
   },
   {
    "duration": 308,
    "start_time": "2022-09-13T15:56:06.890Z"
   },
   {
    "duration": 4,
    "start_time": "2022-09-13T15:56:07.199Z"
   },
   {
    "duration": 89,
    "start_time": "2022-09-13T15:56:07.208Z"
   },
   {
    "duration": 0,
    "start_time": "2022-09-13T15:56:07.298Z"
   },
   {
    "duration": 4,
    "start_time": "2022-09-13T15:57:04.096Z"
   },
   {
    "duration": 11,
    "start_time": "2022-09-13T15:57:05.034Z"
   },
   {
    "duration": 4,
    "start_time": "2022-09-13T15:58:19.017Z"
   },
   {
    "duration": 23,
    "start_time": "2022-09-13T15:58:22.931Z"
   },
   {
    "duration": 4,
    "start_time": "2022-09-13T15:58:37.956Z"
   },
   {
    "duration": 22,
    "start_time": "2022-09-13T15:58:39.055Z"
   },
   {
    "duration": 16,
    "start_time": "2022-09-13T15:59:10.215Z"
   },
   {
    "duration": 5,
    "start_time": "2022-09-13T15:59:15.443Z"
   },
   {
    "duration": 31,
    "start_time": "2022-09-13T16:00:03.964Z"
   },
   {
    "duration": 9,
    "start_time": "2022-09-13T16:08:56.332Z"
   },
   {
    "duration": 8,
    "start_time": "2022-09-13T16:09:58.485Z"
   },
   {
    "duration": 990,
    "start_time": "2022-09-13T16:10:02.444Z"
   },
   {
    "duration": 22,
    "start_time": "2022-09-13T16:10:03.436Z"
   },
   {
    "duration": 16,
    "start_time": "2022-09-13T16:10:03.459Z"
   },
   {
    "duration": 9,
    "start_time": "2022-09-13T16:10:03.478Z"
   },
   {
    "duration": 27,
    "start_time": "2022-09-13T16:10:03.489Z"
   },
   {
    "duration": 11,
    "start_time": "2022-09-13T16:10:03.517Z"
   },
   {
    "duration": 4,
    "start_time": "2022-09-13T16:10:03.529Z"
   },
   {
    "duration": 104,
    "start_time": "2022-09-13T16:10:03.534Z"
   },
   {
    "duration": 0,
    "start_time": "2022-09-13T16:10:03.641Z"
   },
   {
    "duration": 0,
    "start_time": "2022-09-13T16:10:03.643Z"
   },
   {
    "duration": 0,
    "start_time": "2022-09-13T16:10:03.644Z"
   },
   {
    "duration": 0,
    "start_time": "2022-09-13T16:10:03.646Z"
   },
   {
    "duration": 0,
    "start_time": "2022-09-13T16:10:03.647Z"
   },
   {
    "duration": 0,
    "start_time": "2022-09-13T16:10:03.648Z"
   },
   {
    "duration": 0,
    "start_time": "2022-09-13T16:10:03.649Z"
   },
   {
    "duration": 0,
    "start_time": "2022-09-13T16:10:03.650Z"
   },
   {
    "duration": 0,
    "start_time": "2022-09-13T16:10:03.651Z"
   },
   {
    "duration": 0,
    "start_time": "2022-09-13T16:10:03.652Z"
   },
   {
    "duration": 0,
    "start_time": "2022-09-13T16:10:03.653Z"
   },
   {
    "duration": 0,
    "start_time": "2022-09-13T16:10:03.654Z"
   },
   {
    "duration": 0,
    "start_time": "2022-09-13T16:10:03.655Z"
   },
   {
    "duration": 0,
    "start_time": "2022-09-13T16:10:03.656Z"
   },
   {
    "duration": 0,
    "start_time": "2022-09-13T16:10:03.657Z"
   },
   {
    "duration": 0,
    "start_time": "2022-09-13T16:10:03.658Z"
   },
   {
    "duration": 0,
    "start_time": "2022-09-13T16:10:03.658Z"
   },
   {
    "duration": 0,
    "start_time": "2022-09-13T16:10:03.659Z"
   },
   {
    "duration": 0,
    "start_time": "2022-09-13T16:10:03.660Z"
   },
   {
    "duration": 0,
    "start_time": "2022-09-13T16:10:03.661Z"
   },
   {
    "duration": 0,
    "start_time": "2022-09-13T16:10:03.661Z"
   },
   {
    "duration": 0,
    "start_time": "2022-09-13T16:10:03.662Z"
   },
   {
    "duration": 0,
    "start_time": "2022-09-13T16:10:03.663Z"
   },
   {
    "duration": 0,
    "start_time": "2022-09-13T16:10:03.664Z"
   },
   {
    "duration": 0,
    "start_time": "2022-09-13T16:10:03.665Z"
   },
   {
    "duration": 1,
    "start_time": "2022-09-13T16:10:03.665Z"
   },
   {
    "duration": 0,
    "start_time": "2022-09-13T16:10:03.666Z"
   },
   {
    "duration": 0,
    "start_time": "2022-09-13T16:10:03.667Z"
   },
   {
    "duration": 0,
    "start_time": "2022-09-13T16:10:03.668Z"
   },
   {
    "duration": 402,
    "start_time": "2022-09-13T16:11:24.124Z"
   },
   {
    "duration": 5,
    "start_time": "2022-09-13T16:11:35.122Z"
   },
   {
    "duration": 18,
    "start_time": "2022-09-13T16:11:50.296Z"
   },
   {
    "duration": 719,
    "start_time": "2022-09-13T16:12:26.151Z"
   },
   {
    "duration": 23,
    "start_time": "2022-09-13T16:12:26.872Z"
   },
   {
    "duration": 19,
    "start_time": "2022-09-13T16:12:26.896Z"
   },
   {
    "duration": 8,
    "start_time": "2022-09-13T16:12:26.916Z"
   },
   {
    "duration": 10,
    "start_time": "2022-09-13T16:12:26.925Z"
   },
   {
    "duration": 383,
    "start_time": "2022-09-13T16:12:26.937Z"
   },
   {
    "duration": 4,
    "start_time": "2022-09-13T16:12:27.321Z"
   },
   {
    "duration": 9,
    "start_time": "2022-09-13T16:12:27.327Z"
   },
   {
    "duration": 28,
    "start_time": "2022-09-13T16:12:27.337Z"
   },
   {
    "duration": 13,
    "start_time": "2022-09-13T16:12:27.368Z"
   },
   {
    "duration": 40,
    "start_time": "2022-09-13T16:12:27.383Z"
   },
   {
    "duration": 23,
    "start_time": "2022-09-13T16:12:27.424Z"
   },
   {
    "duration": 5,
    "start_time": "2022-09-13T16:12:27.449Z"
   },
   {
    "duration": 6,
    "start_time": "2022-09-13T16:12:27.456Z"
   },
   {
    "duration": 5,
    "start_time": "2022-09-13T16:12:27.464Z"
   },
   {
    "duration": 39,
    "start_time": "2022-09-13T16:12:27.470Z"
   },
   {
    "duration": 4,
    "start_time": "2022-09-13T16:12:27.510Z"
   },
   {
    "duration": 6,
    "start_time": "2022-09-13T16:12:27.515Z"
   },
   {
    "duration": 8,
    "start_time": "2022-09-13T16:12:27.522Z"
   },
   {
    "duration": 19,
    "start_time": "2022-09-13T16:12:27.532Z"
   },
   {
    "duration": 6,
    "start_time": "2022-09-13T16:12:27.552Z"
   },
   {
    "duration": 7,
    "start_time": "2022-09-13T16:12:27.559Z"
   },
   {
    "duration": 5,
    "start_time": "2022-09-13T16:12:27.568Z"
   },
   {
    "duration": 44,
    "start_time": "2022-09-13T16:12:27.574Z"
   },
   {
    "duration": 5,
    "start_time": "2022-09-13T16:12:27.620Z"
   },
   {
    "duration": 15,
    "start_time": "2022-09-13T16:12:27.627Z"
   },
   {
    "duration": 16,
    "start_time": "2022-09-13T16:12:27.643Z"
   },
   {
    "duration": 8,
    "start_time": "2022-09-13T16:12:27.662Z"
   },
   {
    "duration": 7,
    "start_time": "2022-09-13T16:12:27.672Z"
   },
   {
    "duration": 29,
    "start_time": "2022-09-13T16:12:27.680Z"
   },
   {
    "duration": 3,
    "start_time": "2022-09-13T16:12:27.711Z"
   },
   {
    "duration": 6,
    "start_time": "2022-09-13T16:12:27.716Z"
   },
   {
    "duration": 4,
    "start_time": "2022-09-13T16:12:27.724Z"
   },
   {
    "duration": 4,
    "start_time": "2022-09-13T16:12:27.730Z"
   },
   {
    "duration": 3,
    "start_time": "2022-09-13T16:12:27.736Z"
   },
   {
    "duration": 314,
    "start_time": "2022-09-13T16:12:27.740Z"
   },
   {
    "duration": 3,
    "start_time": "2022-09-13T16:12:28.056Z"
   },
   {
    "duration": 24,
    "start_time": "2022-09-13T16:12:28.061Z"
   },
   {
    "duration": 711,
    "start_time": "2022-09-13T16:13:31.048Z"
   },
   {
    "duration": 23,
    "start_time": "2022-09-13T16:13:31.761Z"
   },
   {
    "duration": 26,
    "start_time": "2022-09-13T16:13:31.786Z"
   },
   {
    "duration": 8,
    "start_time": "2022-09-13T16:13:31.813Z"
   },
   {
    "duration": 21,
    "start_time": "2022-09-13T16:13:31.823Z"
   },
   {
    "duration": 28,
    "start_time": "2022-09-13T16:13:31.846Z"
   },
   {
    "duration": 15,
    "start_time": "2022-09-13T16:13:31.876Z"
   },
   {
    "duration": 29,
    "start_time": "2022-09-13T16:13:31.893Z"
   },
   {
    "duration": 35,
    "start_time": "2022-09-13T16:13:31.924Z"
   },
   {
    "duration": 27,
    "start_time": "2022-09-13T16:13:31.961Z"
   },
   {
    "duration": 32,
    "start_time": "2022-09-13T16:13:31.990Z"
   },
   {
    "duration": 66,
    "start_time": "2022-09-13T16:13:32.023Z"
   },
   {
    "duration": 25,
    "start_time": "2022-09-13T16:13:32.093Z"
   },
   {
    "duration": 23,
    "start_time": "2022-09-13T16:13:32.122Z"
   },
   {
    "duration": 13,
    "start_time": "2022-09-13T16:13:32.146Z"
   },
   {
    "duration": 10,
    "start_time": "2022-09-13T16:13:32.161Z"
   },
   {
    "duration": 5,
    "start_time": "2022-09-13T16:13:32.173Z"
   },
   {
    "duration": 5,
    "start_time": "2022-09-13T16:13:32.180Z"
   },
   {
    "duration": 13,
    "start_time": "2022-09-13T16:13:32.186Z"
   },
   {
    "duration": 25,
    "start_time": "2022-09-13T16:13:32.200Z"
   },
   {
    "duration": 8,
    "start_time": "2022-09-13T16:13:32.227Z"
   },
   {
    "duration": 15,
    "start_time": "2022-09-13T16:13:32.237Z"
   },
   {
    "duration": 9,
    "start_time": "2022-09-13T16:13:32.253Z"
   },
   {
    "duration": 23,
    "start_time": "2022-09-13T16:13:32.263Z"
   },
   {
    "duration": 17,
    "start_time": "2022-09-13T16:13:32.287Z"
   },
   {
    "duration": 22,
    "start_time": "2022-09-13T16:13:32.306Z"
   },
   {
    "duration": 34,
    "start_time": "2022-09-13T16:13:32.330Z"
   },
   {
    "duration": 13,
    "start_time": "2022-09-13T16:13:32.365Z"
   },
   {
    "duration": 15,
    "start_time": "2022-09-13T16:13:32.380Z"
   },
   {
    "duration": 7,
    "start_time": "2022-09-13T16:13:32.397Z"
   },
   {
    "duration": 5,
    "start_time": "2022-09-13T16:13:32.406Z"
   },
   {
    "duration": 10,
    "start_time": "2022-09-13T16:13:32.413Z"
   },
   {
    "duration": 5,
    "start_time": "2022-09-13T16:13:32.425Z"
   },
   {
    "duration": 4,
    "start_time": "2022-09-13T16:13:32.432Z"
   },
   {
    "duration": 6,
    "start_time": "2022-09-13T16:13:32.437Z"
   },
   {
    "duration": 319,
    "start_time": "2022-09-13T16:13:32.445Z"
   },
   {
    "duration": 3,
    "start_time": "2022-09-13T16:13:32.766Z"
   },
   {
    "duration": 24,
    "start_time": "2022-09-13T16:13:32.770Z"
   },
   {
    "duration": 5,
    "start_time": "2022-09-13T16:16:09.849Z"
   },
   {
    "duration": 24,
    "start_time": "2022-09-13T16:16:44.254Z"
   },
   {
    "duration": 73,
    "start_time": "2022-09-13T16:20:23.125Z"
   },
   {
    "duration": 4,
    "start_time": "2022-09-13T16:21:12.052Z"
   },
   {
    "duration": 5,
    "start_time": "2022-09-13T16:21:56.797Z"
   },
   {
    "duration": 4,
    "start_time": "2022-09-13T16:22:11.254Z"
   },
   {
    "duration": 16,
    "start_time": "2022-09-13T16:22:20.443Z"
   },
   {
    "duration": 3,
    "start_time": "2022-09-13T16:22:20.882Z"
   },
   {
    "duration": 4,
    "start_time": "2022-09-13T16:22:21.945Z"
   },
   {
    "duration": 705,
    "start_time": "2022-09-13T16:22:30.212Z"
   },
   {
    "duration": 24,
    "start_time": "2022-09-13T16:22:30.919Z"
   },
   {
    "duration": 13,
    "start_time": "2022-09-13T16:22:30.945Z"
   },
   {
    "duration": 17,
    "start_time": "2022-09-13T16:22:30.960Z"
   },
   {
    "duration": 14,
    "start_time": "2022-09-13T16:22:30.979Z"
   },
   {
    "duration": 22,
    "start_time": "2022-09-13T16:22:30.995Z"
   },
   {
    "duration": 4,
    "start_time": "2022-09-13T16:22:31.018Z"
   },
   {
    "duration": 16,
    "start_time": "2022-09-13T16:22:31.023Z"
   },
   {
    "duration": 21,
    "start_time": "2022-09-13T16:22:31.041Z"
   },
   {
    "duration": 22,
    "start_time": "2022-09-13T16:22:31.064Z"
   },
   {
    "duration": 32,
    "start_time": "2022-09-13T16:22:31.088Z"
   },
   {
    "duration": 9,
    "start_time": "2022-09-13T16:22:31.122Z"
   },
   {
    "duration": 11,
    "start_time": "2022-09-13T16:22:31.132Z"
   },
   {
    "duration": 16,
    "start_time": "2022-09-13T16:22:31.145Z"
   },
   {
    "duration": 8,
    "start_time": "2022-09-13T16:22:31.163Z"
   },
   {
    "duration": 10,
    "start_time": "2022-09-13T16:22:31.173Z"
   },
   {
    "duration": 22,
    "start_time": "2022-09-13T16:22:31.185Z"
   },
   {
    "duration": 38,
    "start_time": "2022-09-13T16:22:31.209Z"
   },
   {
    "duration": 32,
    "start_time": "2022-09-13T16:22:31.248Z"
   },
   {
    "duration": 5,
    "start_time": "2022-09-13T16:22:31.281Z"
   },
   {
    "duration": 19,
    "start_time": "2022-09-13T16:22:31.288Z"
   },
   {
    "duration": 16,
    "start_time": "2022-09-13T16:22:31.309Z"
   },
   {
    "duration": 22,
    "start_time": "2022-09-13T16:22:31.327Z"
   },
   {
    "duration": 14,
    "start_time": "2022-09-13T16:22:31.350Z"
   },
   {
    "duration": 32,
    "start_time": "2022-09-13T16:22:31.366Z"
   },
   {
    "duration": 42,
    "start_time": "2022-09-13T16:22:31.400Z"
   },
   {
    "duration": 9,
    "start_time": "2022-09-13T16:22:31.444Z"
   },
   {
    "duration": 20,
    "start_time": "2022-09-13T16:22:31.455Z"
   },
   {
    "duration": 13,
    "start_time": "2022-09-13T16:22:31.476Z"
   },
   {
    "duration": 29,
    "start_time": "2022-09-13T16:22:31.490Z"
   },
   {
    "duration": 5,
    "start_time": "2022-09-13T16:22:31.520Z"
   },
   {
    "duration": 19,
    "start_time": "2022-09-13T16:22:31.526Z"
   },
   {
    "duration": 10,
    "start_time": "2022-09-13T16:22:31.547Z"
   },
   {
    "duration": 24,
    "start_time": "2022-09-13T16:22:31.559Z"
   },
   {
    "duration": 14,
    "start_time": "2022-09-13T16:22:31.584Z"
   },
   {
    "duration": 18,
    "start_time": "2022-09-13T16:22:31.600Z"
   },
   {
    "duration": 22,
    "start_time": "2022-09-13T16:22:31.619Z"
   },
   {
    "duration": 304,
    "start_time": "2022-09-13T16:22:31.643Z"
   },
   {
    "duration": 5,
    "start_time": "2022-09-13T16:22:31.948Z"
   },
   {
    "duration": 22,
    "start_time": "2022-09-13T16:22:31.954Z"
   },
   {
    "duration": 3,
    "start_time": "2022-09-13T16:27:52.786Z"
   },
   {
    "duration": 2,
    "start_time": "2022-09-13T16:30:25.750Z"
   },
   {
    "duration": 60,
    "start_time": "2022-09-13T16:40:23.863Z"
   },
   {
    "duration": 118,
    "start_time": "2022-09-13T16:41:48.459Z"
   },
   {
    "duration": 148,
    "start_time": "2022-09-13T16:41:53.785Z"
   },
   {
    "duration": 93,
    "start_time": "2022-09-13T16:42:00.994Z"
   },
   {
    "duration": 98,
    "start_time": "2022-09-13T16:42:25.894Z"
   },
   {
    "duration": 93,
    "start_time": "2022-09-13T16:42:32.018Z"
   },
   {
    "duration": 10,
    "start_time": "2022-09-13T16:42:42.688Z"
   },
   {
    "duration": 95,
    "start_time": "2022-09-13T16:46:13.248Z"
   },
   {
    "duration": 174,
    "start_time": "2022-09-13T16:46:28.703Z"
   },
   {
    "duration": 114,
    "start_time": "2022-09-13T16:46:41.037Z"
   },
   {
    "duration": 134,
    "start_time": "2022-09-13T16:46:51.002Z"
   },
   {
    "duration": 129,
    "start_time": "2022-09-13T16:46:58.988Z"
   },
   {
    "duration": 106,
    "start_time": "2022-09-13T16:47:45.377Z"
   },
   {
    "duration": 121,
    "start_time": "2022-09-13T16:47:50.328Z"
   },
   {
    "duration": 163,
    "start_time": "2022-09-13T16:48:31.923Z"
   },
   {
    "duration": 107,
    "start_time": "2022-09-13T16:48:39.489Z"
   },
   {
    "duration": 108,
    "start_time": "2022-09-13T16:48:45.354Z"
   },
   {
    "duration": 109,
    "start_time": "2022-09-13T16:48:48.933Z"
   },
   {
    "duration": 107,
    "start_time": "2022-09-13T16:49:30.274Z"
   },
   {
    "duration": 106,
    "start_time": "2022-09-13T16:54:53.171Z"
   },
   {
    "duration": 8,
    "start_time": "2022-09-13T16:55:15.677Z"
   },
   {
    "duration": 112,
    "start_time": "2022-09-13T16:55:24.899Z"
   },
   {
    "duration": 8,
    "start_time": "2022-09-13T16:55:26.916Z"
   },
   {
    "duration": 104,
    "start_time": "2022-09-13T16:56:49.295Z"
   },
   {
    "duration": 9,
    "start_time": "2022-09-13T16:57:13.746Z"
   },
   {
    "duration": 113,
    "start_time": "2022-09-13T16:57:14.100Z"
   },
   {
    "duration": 93,
    "start_time": "2022-09-13T17:06:45.185Z"
   },
   {
    "duration": 105,
    "start_time": "2022-09-13T17:07:04.769Z"
   },
   {
    "duration": 253,
    "start_time": "2022-09-13T17:13:05.909Z"
   },
   {
    "duration": 8,
    "start_time": "2022-09-13T17:13:45.546Z"
   },
   {
    "duration": 587,
    "start_time": "2022-09-13T17:14:07.496Z"
   },
   {
    "duration": 852,
    "start_time": "2022-09-13T17:14:14.532Z"
   },
   {
    "duration": 175,
    "start_time": "2022-09-13T17:14:49.027Z"
   },
   {
    "duration": 7,
    "start_time": "2022-09-13T17:15:22.306Z"
   },
   {
    "duration": 124,
    "start_time": "2022-09-13T17:15:38.231Z"
   },
   {
    "duration": 355,
    "start_time": "2022-09-13T17:16:58.043Z"
   },
   {
    "duration": 340,
    "start_time": "2022-09-13T17:17:04.165Z"
   },
   {
    "duration": 19,
    "start_time": "2022-09-13T17:17:31.252Z"
   },
   {
    "duration": 135,
    "start_time": "2022-09-13T17:24:22.365Z"
   },
   {
    "duration": 207,
    "start_time": "2022-09-13T17:24:33.974Z"
   },
   {
    "duration": 189,
    "start_time": "2022-09-13T17:25:35.823Z"
   },
   {
    "duration": 179,
    "start_time": "2022-09-13T17:25:51.430Z"
   },
   {
    "duration": 207,
    "start_time": "2022-09-13T17:26:19.572Z"
   },
   {
    "duration": 209,
    "start_time": "2022-09-13T17:26:37.088Z"
   },
   {
    "duration": 188,
    "start_time": "2022-09-13T17:29:14.612Z"
   },
   {
    "duration": 296,
    "start_time": "2022-09-13T17:29:32.440Z"
   },
   {
    "duration": 193,
    "start_time": "2022-09-13T17:32:50.835Z"
   },
   {
    "duration": 178,
    "start_time": "2022-09-13T17:33:05.397Z"
   },
   {
    "duration": 185,
    "start_time": "2022-09-13T17:33:14.582Z"
   },
   {
    "duration": 98,
    "start_time": "2022-09-13T17:39:23.930Z"
   },
   {
    "duration": 103,
    "start_time": "2022-09-13T17:40:23.555Z"
   },
   {
    "duration": 145,
    "start_time": "2022-09-13T17:40:43.732Z"
   },
   {
    "duration": 1094,
    "start_time": "2022-09-14T02:09:03.151Z"
   },
   {
    "duration": 28,
    "start_time": "2022-09-14T02:09:04.247Z"
   },
   {
    "duration": 18,
    "start_time": "2022-09-14T02:09:04.276Z"
   },
   {
    "duration": 8,
    "start_time": "2022-09-14T02:09:04.296Z"
   },
   {
    "duration": 11,
    "start_time": "2022-09-14T02:09:04.305Z"
   },
   {
    "duration": 38,
    "start_time": "2022-09-14T02:09:04.317Z"
   },
   {
    "duration": 4,
    "start_time": "2022-09-14T02:09:04.357Z"
   },
   {
    "duration": 9,
    "start_time": "2022-09-14T02:09:04.362Z"
   },
   {
    "duration": 16,
    "start_time": "2022-09-14T02:09:04.372Z"
   },
   {
    "duration": 25,
    "start_time": "2022-09-14T02:09:04.390Z"
   },
   {
    "duration": 26,
    "start_time": "2022-09-14T02:09:04.446Z"
   },
   {
    "duration": 5,
    "start_time": "2022-09-14T02:09:04.473Z"
   },
   {
    "duration": 7,
    "start_time": "2022-09-14T02:09:04.480Z"
   },
   {
    "duration": 8,
    "start_time": "2022-09-14T02:09:04.488Z"
   },
   {
    "duration": 7,
    "start_time": "2022-09-14T02:09:04.497Z"
   },
   {
    "duration": 42,
    "start_time": "2022-09-14T02:09:04.505Z"
   },
   {
    "duration": 7,
    "start_time": "2022-09-14T02:09:04.548Z"
   },
   {
    "duration": 9,
    "start_time": "2022-09-14T02:09:04.556Z"
   },
   {
    "duration": 25,
    "start_time": "2022-09-14T02:09:04.567Z"
   },
   {
    "duration": 6,
    "start_time": "2022-09-14T02:09:04.593Z"
   },
   {
    "duration": 6,
    "start_time": "2022-09-14T02:09:04.601Z"
   },
   {
    "duration": 5,
    "start_time": "2022-09-14T02:09:04.608Z"
   },
   {
    "duration": 14,
    "start_time": "2022-09-14T02:09:04.646Z"
   },
   {
    "duration": 5,
    "start_time": "2022-09-14T02:09:04.661Z"
   },
   {
    "duration": 16,
    "start_time": "2022-09-14T02:09:04.667Z"
   },
   {
    "duration": 17,
    "start_time": "2022-09-14T02:09:04.684Z"
   },
   {
    "duration": 44,
    "start_time": "2022-09-14T02:09:04.703Z"
   },
   {
    "duration": 4,
    "start_time": "2022-09-14T02:09:04.752Z"
   },
   {
    "duration": 6,
    "start_time": "2022-09-14T02:09:04.758Z"
   },
   {
    "duration": 22,
    "start_time": "2022-09-14T02:09:04.766Z"
   },
   {
    "duration": 4,
    "start_time": "2022-09-14T02:09:04.789Z"
   },
   {
    "duration": 7,
    "start_time": "2022-09-14T02:09:04.795Z"
   },
   {
    "duration": 6,
    "start_time": "2022-09-14T02:09:04.804Z"
   },
   {
    "duration": 39,
    "start_time": "2022-09-14T02:09:04.811Z"
   },
   {
    "duration": 9,
    "start_time": "2022-09-14T02:09:04.851Z"
   },
   {
    "duration": 6,
    "start_time": "2022-09-14T02:09:04.862Z"
   },
   {
    "duration": 3,
    "start_time": "2022-09-14T02:09:04.870Z"
   },
   {
    "duration": 289,
    "start_time": "2022-09-14T02:09:04.875Z"
   },
   {
    "duration": 5,
    "start_time": "2022-09-14T02:09:05.166Z"
   },
   {
    "duration": 27,
    "start_time": "2022-09-14T02:09:05.172Z"
   },
   {
    "duration": 165,
    "start_time": "2022-09-14T02:09:05.201Z"
   },
   {
    "duration": 10,
    "start_time": "2022-09-14T02:09:05.368Z"
   },
   {
    "duration": 252,
    "start_time": "2022-09-14T02:09:05.379Z"
   },
   {
    "duration": 123,
    "start_time": "2022-09-14T02:09:05.632Z"
   },
   {
    "duration": 9,
    "start_time": "2022-09-14T02:09:05.757Z"
   },
   {
    "duration": 222,
    "start_time": "2022-09-14T02:09:05.768Z"
   },
   {
    "duration": 113,
    "start_time": "2022-09-14T02:09:05.992Z"
   },
   {
    "duration": 9,
    "start_time": "2022-09-14T02:09:06.107Z"
   },
   {
    "duration": 237,
    "start_time": "2022-09-14T02:09:06.118Z"
   },
   {
    "duration": 111,
    "start_time": "2022-09-14T02:09:06.357Z"
   },
   {
    "duration": 97,
    "start_time": "2022-09-14T02:09:33.242Z"
   },
   {
    "duration": 9,
    "start_time": "2022-09-14T02:09:33.989Z"
   },
   {
    "duration": 162,
    "start_time": "2022-09-14T02:09:34.643Z"
   },
   {
    "duration": 222,
    "start_time": "2022-09-14T02:10:10.969Z"
   },
   {
    "duration": 116,
    "start_time": "2022-09-14T02:10:20.435Z"
   },
   {
    "duration": 706,
    "start_time": "2022-09-14T02:11:22.916Z"
   },
   {
    "duration": 28,
    "start_time": "2022-09-14T02:11:23.624Z"
   },
   {
    "duration": 15,
    "start_time": "2022-09-14T02:11:23.654Z"
   },
   {
    "duration": 8,
    "start_time": "2022-09-14T02:11:23.671Z"
   },
   {
    "duration": 8,
    "start_time": "2022-09-14T02:11:23.680Z"
   },
   {
    "duration": 8,
    "start_time": "2022-09-14T02:11:23.690Z"
   },
   {
    "duration": 3,
    "start_time": "2022-09-14T02:11:23.699Z"
   },
   {
    "duration": 8,
    "start_time": "2022-09-14T02:11:23.704Z"
   },
   {
    "duration": 50,
    "start_time": "2022-09-14T02:11:23.713Z"
   },
   {
    "duration": 23,
    "start_time": "2022-09-14T02:11:23.766Z"
   },
   {
    "duration": 25,
    "start_time": "2022-09-14T02:11:23.791Z"
   },
   {
    "duration": 5,
    "start_time": "2022-09-14T02:11:23.817Z"
   },
   {
    "duration": 27,
    "start_time": "2022-09-14T02:11:23.823Z"
   },
   {
    "duration": 7,
    "start_time": "2022-09-14T02:11:23.852Z"
   },
   {
    "duration": 5,
    "start_time": "2022-09-14T02:11:23.860Z"
   },
   {
    "duration": 5,
    "start_time": "2022-09-14T02:11:23.866Z"
   },
   {
    "duration": 5,
    "start_time": "2022-09-14T02:11:23.872Z"
   },
   {
    "duration": 10,
    "start_time": "2022-09-14T02:11:23.879Z"
   },
   {
    "duration": 22,
    "start_time": "2022-09-14T02:11:23.890Z"
   },
   {
    "duration": 33,
    "start_time": "2022-09-14T02:11:23.914Z"
   },
   {
    "duration": 8,
    "start_time": "2022-09-14T02:11:23.949Z"
   },
   {
    "duration": 4,
    "start_time": "2022-09-14T02:11:23.959Z"
   },
   {
    "duration": 15,
    "start_time": "2022-09-14T02:11:23.965Z"
   },
   {
    "duration": 4,
    "start_time": "2022-09-14T02:11:23.982Z"
   },
   {
    "duration": 14,
    "start_time": "2022-09-14T02:11:23.988Z"
   },
   {
    "duration": 44,
    "start_time": "2022-09-14T02:11:24.004Z"
   },
   {
    "duration": 6,
    "start_time": "2022-09-14T02:11:24.050Z"
   },
   {
    "duration": 4,
    "start_time": "2022-09-14T02:11:24.059Z"
   },
   {
    "duration": 7,
    "start_time": "2022-09-14T02:11:24.064Z"
   },
   {
    "duration": 23,
    "start_time": "2022-09-14T02:11:24.073Z"
   },
   {
    "duration": 4,
    "start_time": "2022-09-14T02:11:24.098Z"
   },
   {
    "duration": 8,
    "start_time": "2022-09-14T02:11:24.104Z"
   },
   {
    "duration": 44,
    "start_time": "2022-09-14T02:11:24.113Z"
   },
   {
    "duration": 6,
    "start_time": "2022-09-14T02:11:24.160Z"
   },
   {
    "duration": 6,
    "start_time": "2022-09-14T02:11:24.168Z"
   },
   {
    "duration": 6,
    "start_time": "2022-09-14T02:11:24.175Z"
   },
   {
    "duration": 4,
    "start_time": "2022-09-14T02:11:24.182Z"
   },
   {
    "duration": 280,
    "start_time": "2022-09-14T02:11:24.187Z"
   },
   {
    "duration": 4,
    "start_time": "2022-09-14T02:11:24.469Z"
   },
   {
    "duration": 36,
    "start_time": "2022-09-14T02:11:24.475Z"
   },
   {
    "duration": 118,
    "start_time": "2022-09-14T02:11:24.512Z"
   },
   {
    "duration": 15,
    "start_time": "2022-09-14T02:11:24.632Z"
   },
   {
    "duration": 286,
    "start_time": "2022-09-14T02:11:24.649Z"
   },
   {
    "duration": 121,
    "start_time": "2022-09-14T02:11:24.937Z"
   },
   {
    "duration": 10,
    "start_time": "2022-09-14T02:11:25.059Z"
   },
   {
    "duration": 225,
    "start_time": "2022-09-14T02:11:25.071Z"
   },
   {
    "duration": 121,
    "start_time": "2022-09-14T02:11:25.297Z"
   },
   {
    "duration": 8,
    "start_time": "2022-09-14T02:11:25.420Z"
   },
   {
    "duration": 175,
    "start_time": "2022-09-14T02:11:25.430Z"
   },
   {
    "duration": 131,
    "start_time": "2022-09-14T02:11:25.606Z"
   },
   {
    "duration": 16,
    "start_time": "2022-09-14T02:11:25.738Z"
   },
   {
    "duration": 163,
    "start_time": "2022-09-14T02:11:25.756Z"
   },
   {
    "duration": 676,
    "start_time": "2022-09-14T02:12:36.306Z"
   },
   {
    "duration": 23,
    "start_time": "2022-09-14T02:12:36.983Z"
   },
   {
    "duration": 13,
    "start_time": "2022-09-14T02:12:37.008Z"
   },
   {
    "duration": 24,
    "start_time": "2022-09-14T02:12:37.023Z"
   },
   {
    "duration": 9,
    "start_time": "2022-09-14T02:12:37.048Z"
   },
   {
    "duration": 8,
    "start_time": "2022-09-14T02:12:37.059Z"
   },
   {
    "duration": 3,
    "start_time": "2022-09-14T02:12:37.068Z"
   },
   {
    "duration": 7,
    "start_time": "2022-09-14T02:12:37.073Z"
   },
   {
    "duration": 15,
    "start_time": "2022-09-14T02:12:37.082Z"
   },
   {
    "duration": 54,
    "start_time": "2022-09-14T02:12:37.100Z"
   },
   {
    "duration": 27,
    "start_time": "2022-09-14T02:12:37.155Z"
   },
   {
    "duration": 5,
    "start_time": "2022-09-14T02:12:37.183Z"
   },
   {
    "duration": 7,
    "start_time": "2022-09-14T02:12:37.189Z"
   },
   {
    "duration": 6,
    "start_time": "2022-09-14T02:12:37.198Z"
   },
   {
    "duration": 6,
    "start_time": "2022-09-14T02:12:37.205Z"
   },
   {
    "duration": 35,
    "start_time": "2022-09-14T02:12:37.213Z"
   },
   {
    "duration": 7,
    "start_time": "2022-09-14T02:12:37.250Z"
   },
   {
    "duration": 9,
    "start_time": "2022-09-14T02:12:37.258Z"
   },
   {
    "duration": 25,
    "start_time": "2022-09-14T02:12:37.268Z"
   },
   {
    "duration": 7,
    "start_time": "2022-09-14T02:12:37.294Z"
   },
   {
    "duration": 7,
    "start_time": "2022-09-14T02:12:37.302Z"
   },
   {
    "duration": 4,
    "start_time": "2022-09-14T02:12:37.310Z"
   },
   {
    "duration": 36,
    "start_time": "2022-09-14T02:12:37.315Z"
   },
   {
    "duration": 6,
    "start_time": "2022-09-14T02:12:37.352Z"
   },
   {
    "duration": 21,
    "start_time": "2022-09-14T02:12:37.359Z"
   },
   {
    "duration": 24,
    "start_time": "2022-09-14T02:12:37.382Z"
   },
   {
    "duration": 11,
    "start_time": "2022-09-14T02:12:37.407Z"
   },
   {
    "duration": 4,
    "start_time": "2022-09-14T02:12:37.421Z"
   },
   {
    "duration": 22,
    "start_time": "2022-09-14T02:12:37.426Z"
   },
   {
    "duration": 20,
    "start_time": "2022-09-14T02:12:37.449Z"
   },
   {
    "duration": 4,
    "start_time": "2022-09-14T02:12:37.471Z"
   },
   {
    "duration": 6,
    "start_time": "2022-09-14T02:12:37.476Z"
   },
   {
    "duration": 6,
    "start_time": "2022-09-14T02:12:37.484Z"
   },
   {
    "duration": 6,
    "start_time": "2022-09-14T02:12:37.492Z"
   },
   {
    "duration": 5,
    "start_time": "2022-09-14T02:12:37.500Z"
   },
   {
    "duration": 6,
    "start_time": "2022-09-14T02:12:37.507Z"
   },
   {
    "duration": 3,
    "start_time": "2022-09-14T02:12:37.547Z"
   },
   {
    "duration": 268,
    "start_time": "2022-09-14T02:12:37.552Z"
   },
   {
    "duration": 5,
    "start_time": "2022-09-14T02:12:37.821Z"
   },
   {
    "duration": 28,
    "start_time": "2022-09-14T02:12:37.827Z"
   },
   {
    "duration": 121,
    "start_time": "2022-09-14T02:12:37.857Z"
   },
   {
    "duration": 11,
    "start_time": "2022-09-14T02:12:37.980Z"
   },
   {
    "duration": 277,
    "start_time": "2022-09-14T02:12:37.992Z"
   },
   {
    "duration": 121,
    "start_time": "2022-09-14T02:12:38.271Z"
   },
   {
    "duration": 10,
    "start_time": "2022-09-14T02:12:38.393Z"
   },
   {
    "duration": 214,
    "start_time": "2022-09-14T02:12:38.404Z"
   },
   {
    "duration": 103,
    "start_time": "2022-09-14T02:12:38.620Z"
   },
   {
    "duration": 9,
    "start_time": "2022-09-14T02:12:38.724Z"
   },
   {
    "duration": 157,
    "start_time": "2022-09-14T02:12:38.746Z"
   },
   {
    "duration": 139,
    "start_time": "2022-09-14T02:12:38.905Z"
   },
   {
    "duration": 8,
    "start_time": "2022-09-14T02:12:39.046Z"
   },
   {
    "duration": 158,
    "start_time": "2022-09-14T02:12:39.056Z"
   },
   {
    "duration": 164,
    "start_time": "2022-09-14T02:13:33.371Z"
   },
   {
    "duration": 162,
    "start_time": "2022-09-14T02:13:40.014Z"
   },
   {
    "duration": 225,
    "start_time": "2022-09-14T02:13:43.805Z"
   },
   {
    "duration": 152,
    "start_time": "2022-09-14T02:13:48.580Z"
   },
   {
    "duration": 144,
    "start_time": "2022-09-14T02:13:52.806Z"
   },
   {
    "duration": 1226,
    "start_time": "2022-09-14T02:14:02.814Z"
   },
   {
    "duration": 215,
    "start_time": "2022-09-14T02:14:06.970Z"
   },
   {
    "duration": 224,
    "start_time": "2022-09-14T02:18:24.914Z"
   },
   {
    "duration": 192,
    "start_time": "2022-09-14T02:18:33.934Z"
   },
   {
    "duration": 308,
    "start_time": "2022-09-14T02:18:48.011Z"
   },
   {
    "duration": 198,
    "start_time": "2022-09-14T02:18:52.792Z"
   },
   {
    "duration": 190,
    "start_time": "2022-09-14T02:18:55.970Z"
   },
   {
    "duration": 49,
    "start_time": "2022-09-14T02:19:39.585Z"
   },
   {
    "duration": 203,
    "start_time": "2022-09-14T02:19:46.255Z"
   },
   {
    "duration": 8,
    "start_time": "2022-09-14T02:24:47.573Z"
   },
   {
    "duration": 103,
    "start_time": "2022-09-14T02:24:49.500Z"
   },
   {
    "duration": 197,
    "start_time": "2022-09-14T02:24:54.056Z"
   },
   {
    "duration": 261,
    "start_time": "2022-09-14T02:26:29.347Z"
   },
   {
    "duration": 129,
    "start_time": "2022-09-14T02:26:33.437Z"
   },
   {
    "duration": 44,
    "start_time": "2022-09-14T04:14:54.278Z"
   },
   {
    "duration": 7,
    "start_time": "2022-09-14T04:14:54.830Z"
   },
   {
    "duration": 949,
    "start_time": "2022-09-14T04:14:59.284Z"
   },
   {
    "duration": 29,
    "start_time": "2022-09-14T04:15:00.236Z"
   },
   {
    "duration": 16,
    "start_time": "2022-09-14T04:15:00.266Z"
   },
   {
    "duration": 18,
    "start_time": "2022-09-14T04:15:00.284Z"
   },
   {
    "duration": 10,
    "start_time": "2022-09-14T04:15:00.303Z"
   },
   {
    "duration": 19,
    "start_time": "2022-09-14T04:15:00.315Z"
   },
   {
    "duration": 23,
    "start_time": "2022-09-14T04:15:00.335Z"
   },
   {
    "duration": 22,
    "start_time": "2022-09-14T04:15:00.360Z"
   },
   {
    "duration": 21,
    "start_time": "2022-09-14T04:15:00.384Z"
   },
   {
    "duration": 29,
    "start_time": "2022-09-14T04:15:00.408Z"
   },
   {
    "duration": 48,
    "start_time": "2022-09-14T04:15:00.438Z"
   },
   {
    "duration": 6,
    "start_time": "2022-09-14T04:15:00.488Z"
   },
   {
    "duration": 35,
    "start_time": "2022-09-14T04:15:00.495Z"
   },
   {
    "duration": 16,
    "start_time": "2022-09-14T04:15:00.532Z"
   },
   {
    "duration": 24,
    "start_time": "2022-09-14T04:15:00.549Z"
   },
   {
    "duration": 19,
    "start_time": "2022-09-14T04:15:00.575Z"
   },
   {
    "duration": 22,
    "start_time": "2022-09-14T04:15:00.596Z"
   },
   {
    "duration": 31,
    "start_time": "2022-09-14T04:15:00.619Z"
   },
   {
    "duration": 35,
    "start_time": "2022-09-14T04:15:00.652Z"
   },
   {
    "duration": 31,
    "start_time": "2022-09-14T04:15:00.689Z"
   },
   {
    "duration": 11,
    "start_time": "2022-09-14T04:15:00.721Z"
   },
   {
    "duration": 16,
    "start_time": "2022-09-14T04:15:00.733Z"
   },
   {
    "duration": 29,
    "start_time": "2022-09-14T04:15:00.751Z"
   },
   {
    "duration": 27,
    "start_time": "2022-09-14T04:15:00.782Z"
   },
   {
    "duration": 41,
    "start_time": "2022-09-14T04:15:00.811Z"
   },
   {
    "duration": 30,
    "start_time": "2022-09-14T04:15:00.854Z"
   },
   {
    "duration": 20,
    "start_time": "2022-09-14T04:15:00.885Z"
   },
   {
    "duration": 12,
    "start_time": "2022-09-14T04:15:00.909Z"
   },
   {
    "duration": 30,
    "start_time": "2022-09-14T04:15:00.922Z"
   },
   {
    "duration": 48,
    "start_time": "2022-09-14T04:15:00.953Z"
   },
   {
    "duration": 4,
    "start_time": "2022-09-14T04:15:01.002Z"
   },
   {
    "duration": 34,
    "start_time": "2022-09-14T04:15:01.007Z"
   },
   {
    "duration": 19,
    "start_time": "2022-09-14T04:15:01.042Z"
   },
   {
    "duration": 35,
    "start_time": "2022-09-14T04:15:01.063Z"
   },
   {
    "duration": 19,
    "start_time": "2022-09-14T04:15:01.100Z"
   },
   {
    "duration": 14,
    "start_time": "2022-09-14T04:15:01.121Z"
   },
   {
    "duration": 22,
    "start_time": "2022-09-14T04:15:01.136Z"
   },
   {
    "duration": 286,
    "start_time": "2022-09-14T04:15:01.160Z"
   },
   {
    "duration": 4,
    "start_time": "2022-09-14T04:15:01.448Z"
   },
   {
    "duration": 47,
    "start_time": "2022-09-14T04:15:01.454Z"
   },
   {
    "duration": 145,
    "start_time": "2022-09-14T04:15:01.502Z"
   },
   {
    "duration": 9,
    "start_time": "2022-09-14T04:15:01.648Z"
   },
   {
    "duration": 307,
    "start_time": "2022-09-14T04:15:01.658Z"
   },
   {
    "duration": 131,
    "start_time": "2022-09-14T04:15:01.967Z"
   },
   {
    "duration": 9,
    "start_time": "2022-09-14T04:15:02.100Z"
   },
   {
    "duration": 265,
    "start_time": "2022-09-14T04:15:02.111Z"
   },
   {
    "duration": 117,
    "start_time": "2022-09-14T04:15:02.378Z"
   },
   {
    "duration": 9,
    "start_time": "2022-09-14T04:15:02.497Z"
   },
   {
    "duration": 197,
    "start_time": "2022-09-14T04:15:02.508Z"
   },
   {
    "duration": 140,
    "start_time": "2022-09-14T04:15:02.707Z"
   },
   {
    "duration": 9,
    "start_time": "2022-09-14T04:15:02.849Z"
   },
   {
    "duration": 257,
    "start_time": "2022-09-14T04:15:02.859Z"
   },
   {
    "duration": 120,
    "start_time": "2022-09-14T04:15:03.118Z"
   },
   {
    "duration": 8,
    "start_time": "2022-09-14T04:15:03.240Z"
   },
   {
    "duration": 223,
    "start_time": "2022-09-14T04:15:03.250Z"
   },
   {
    "duration": 108,
    "start_time": "2022-09-14T04:15:03.475Z"
   },
   {
    "duration": 17,
    "start_time": "2022-09-14T04:15:03.584Z"
   },
   {
    "duration": 129,
    "start_time": "2022-09-14T04:15:03.603Z"
   },
   {
    "duration": 135,
    "start_time": "2022-09-14T04:15:22.074Z"
   },
   {
    "duration": 141,
    "start_time": "2022-09-14T04:15:29.376Z"
   },
   {
    "duration": 139,
    "start_time": "2022-09-14T04:15:57.400Z"
   },
   {
    "duration": 139,
    "start_time": "2022-09-14T04:16:36.440Z"
   },
   {
    "duration": 8,
    "start_time": "2022-09-14T04:16:37.693Z"
   },
   {
    "duration": 8,
    "start_time": "2022-09-14T04:16:38.375Z"
   },
   {
    "duration": 128,
    "start_time": "2022-09-14T04:16:42.984Z"
   },
   {
    "duration": 116,
    "start_time": "2022-09-14T04:16:58.152Z"
   },
   {
    "duration": 121,
    "start_time": "2022-09-14T04:18:13.567Z"
   },
   {
    "duration": 106,
    "start_time": "2022-09-14T04:18:18.455Z"
   },
   {
    "duration": 184,
    "start_time": "2022-09-14T04:18:23.255Z"
   },
   {
    "duration": 104,
    "start_time": "2022-09-14T04:18:31.342Z"
   },
   {
    "duration": 127,
    "start_time": "2022-09-14T04:19:16.062Z"
   },
   {
    "duration": 147,
    "start_time": "2022-09-14T04:19:31.158Z"
   },
   {
    "duration": 141,
    "start_time": "2022-09-14T04:19:35.462Z"
   },
   {
    "duration": 145,
    "start_time": "2022-09-14T04:19:41.539Z"
   },
   {
    "duration": 8,
    "start_time": "2022-09-14T04:20:12.669Z"
   },
   {
    "duration": 8,
    "start_time": "2022-09-14T04:21:36.109Z"
   },
   {
    "duration": 133,
    "start_time": "2022-09-14T04:21:36.630Z"
   },
   {
    "duration": 72,
    "start_time": "2022-09-14T04:21:54.916Z"
   },
   {
    "duration": 71,
    "start_time": "2022-09-14T04:21:59.788Z"
   },
   {
    "duration": 147,
    "start_time": "2022-09-14T04:22:15.541Z"
   },
   {
    "duration": 152,
    "start_time": "2022-09-14T04:23:13.371Z"
   },
   {
    "duration": 9,
    "start_time": "2022-09-14T04:23:16.252Z"
   },
   {
    "duration": 148,
    "start_time": "2022-09-14T04:23:17.580Z"
   },
   {
    "duration": 10,
    "start_time": "2022-09-14T04:25:12.002Z"
   },
   {
    "duration": 145,
    "start_time": "2022-09-14T04:25:25.963Z"
   },
   {
    "duration": 10,
    "start_time": "2022-09-14T04:26:05.977Z"
   },
   {
    "duration": 299,
    "start_time": "2022-09-14T04:26:25.030Z"
   },
   {
    "duration": 9,
    "start_time": "2022-09-14T04:26:55.554Z"
   },
   {
    "duration": 138,
    "start_time": "2022-09-14T04:26:57.713Z"
   },
   {
    "duration": 149,
    "start_time": "2022-09-14T04:27:07.073Z"
   },
   {
    "duration": 490,
    "start_time": "2022-09-14T04:27:12.978Z"
   },
   {
    "duration": 142,
    "start_time": "2022-09-14T04:27:26.596Z"
   },
   {
    "duration": 124,
    "start_time": "2022-09-14T04:55:58.427Z"
   },
   {
    "duration": 10,
    "start_time": "2022-09-14T04:56:01.397Z"
   },
   {
    "duration": 123,
    "start_time": "2022-09-14T04:56:04.626Z"
   },
   {
    "duration": 11,
    "start_time": "2022-09-14T04:56:06.645Z"
   },
   {
    "duration": 764,
    "start_time": "2022-09-14T04:56:22.494Z"
   },
   {
    "duration": 26,
    "start_time": "2022-09-14T04:56:23.260Z"
   },
   {
    "duration": 21,
    "start_time": "2022-09-14T04:56:23.287Z"
   },
   {
    "duration": 10,
    "start_time": "2022-09-14T04:56:23.311Z"
   },
   {
    "duration": 10,
    "start_time": "2022-09-14T04:56:23.323Z"
   },
   {
    "duration": 10,
    "start_time": "2022-09-14T04:56:23.335Z"
   },
   {
    "duration": 3,
    "start_time": "2022-09-14T04:56:23.347Z"
   },
   {
    "duration": 43,
    "start_time": "2022-09-14T04:56:23.352Z"
   },
   {
    "duration": 15,
    "start_time": "2022-09-14T04:56:23.397Z"
   },
   {
    "duration": 32,
    "start_time": "2022-09-14T04:56:23.414Z"
   },
   {
    "duration": 53,
    "start_time": "2022-09-14T04:56:23.447Z"
   },
   {
    "duration": 5,
    "start_time": "2022-09-14T04:56:23.502Z"
   },
   {
    "duration": 11,
    "start_time": "2022-09-14T04:56:23.508Z"
   },
   {
    "duration": 7,
    "start_time": "2022-09-14T04:56:23.521Z"
   },
   {
    "duration": 6,
    "start_time": "2022-09-14T04:56:23.529Z"
   },
   {
    "duration": 5,
    "start_time": "2022-09-14T04:56:23.537Z"
   },
   {
    "duration": 6,
    "start_time": "2022-09-14T04:56:23.544Z"
   },
   {
    "duration": 11,
    "start_time": "2022-09-14T04:56:23.552Z"
   },
   {
    "duration": 50,
    "start_time": "2022-09-14T04:56:23.564Z"
   },
   {
    "duration": 4,
    "start_time": "2022-09-14T04:56:23.616Z"
   },
   {
    "duration": 7,
    "start_time": "2022-09-14T04:56:23.622Z"
   },
   {
    "duration": 5,
    "start_time": "2022-09-14T04:56:23.630Z"
   },
   {
    "duration": 15,
    "start_time": "2022-09-14T04:56:23.636Z"
   },
   {
    "duration": 5,
    "start_time": "2022-09-14T04:56:23.653Z"
   },
   {
    "duration": 14,
    "start_time": "2022-09-14T04:56:23.694Z"
   },
   {
    "duration": 17,
    "start_time": "2022-09-14T04:56:23.710Z"
   },
   {
    "duration": 7,
    "start_time": "2022-09-14T04:56:23.729Z"
   },
   {
    "duration": 4,
    "start_time": "2022-09-14T04:56:23.739Z"
   },
   {
    "duration": 6,
    "start_time": "2022-09-14T04:56:23.744Z"
   },
   {
    "duration": 47,
    "start_time": "2022-09-14T04:56:23.752Z"
   },
   {
    "duration": 4,
    "start_time": "2022-09-14T04:56:23.801Z"
   },
   {
    "duration": 9,
    "start_time": "2022-09-14T04:56:23.806Z"
   },
   {
    "duration": 8,
    "start_time": "2022-09-14T04:56:23.816Z"
   },
   {
    "duration": 11,
    "start_time": "2022-09-14T04:56:23.825Z"
   },
   {
    "duration": 11,
    "start_time": "2022-09-14T04:56:23.837Z"
   },
   {
    "duration": 7,
    "start_time": "2022-09-14T04:56:23.850Z"
   },
   {
    "duration": 4,
    "start_time": "2022-09-14T04:56:23.858Z"
   },
   {
    "duration": 313,
    "start_time": "2022-09-14T04:56:23.863Z"
   },
   {
    "duration": 4,
    "start_time": "2022-09-14T04:56:24.178Z"
   },
   {
    "duration": 47,
    "start_time": "2022-09-14T04:56:24.184Z"
   },
   {
    "duration": 115,
    "start_time": "2022-09-14T04:56:24.233Z"
   },
   {
    "duration": 9,
    "start_time": "2022-09-14T04:56:24.350Z"
   },
   {
    "duration": 313,
    "start_time": "2022-09-14T04:56:24.360Z"
   },
   {
    "duration": 138,
    "start_time": "2022-09-14T04:56:24.674Z"
   },
   {
    "duration": 10,
    "start_time": "2022-09-14T04:56:24.814Z"
   },
   {
    "duration": 246,
    "start_time": "2022-09-14T04:56:24.826Z"
   },
   {
    "duration": 117,
    "start_time": "2022-09-14T04:56:25.073Z"
   },
   {
    "duration": 9,
    "start_time": "2022-09-14T04:56:25.196Z"
   },
   {
    "duration": 191,
    "start_time": "2022-09-14T04:56:25.206Z"
   },
   {
    "duration": 78,
    "start_time": "2022-09-14T04:56:25.399Z"
   },
   {
    "duration": 0,
    "start_time": "2022-09-14T04:56:25.478Z"
   },
   {
    "duration": 0,
    "start_time": "2022-09-14T04:56:25.479Z"
   },
   {
    "duration": 0,
    "start_time": "2022-09-14T04:56:25.481Z"
   },
   {
    "duration": 0,
    "start_time": "2022-09-14T04:56:25.482Z"
   },
   {
    "duration": 0,
    "start_time": "2022-09-14T04:56:25.483Z"
   },
   {
    "duration": 0,
    "start_time": "2022-09-14T04:56:25.484Z"
   },
   {
    "duration": 0,
    "start_time": "2022-09-14T04:56:25.485Z"
   },
   {
    "duration": 0,
    "start_time": "2022-09-14T04:56:25.485Z"
   },
   {
    "duration": 0,
    "start_time": "2022-09-14T04:56:25.486Z"
   },
   {
    "duration": 0,
    "start_time": "2022-09-14T04:56:25.487Z"
   },
   {
    "duration": 0,
    "start_time": "2022-09-14T04:56:25.488Z"
   },
   {
    "duration": 0,
    "start_time": "2022-09-14T04:56:25.489Z"
   },
   {
    "duration": 0,
    "start_time": "2022-09-14T04:56:25.490Z"
   },
   {
    "duration": 0,
    "start_time": "2022-09-14T04:56:25.491Z"
   },
   {
    "duration": 0,
    "start_time": "2022-09-14T04:56:25.492Z"
   },
   {
    "duration": 0,
    "start_time": "2022-09-14T04:56:25.493Z"
   },
   {
    "duration": 0,
    "start_time": "2022-09-14T04:56:25.494Z"
   },
   {
    "duration": 0,
    "start_time": "2022-09-14T04:56:25.494Z"
   },
   {
    "duration": 0,
    "start_time": "2022-09-14T04:56:25.496Z"
   },
   {
    "duration": 0,
    "start_time": "2022-09-14T04:56:25.497Z"
   },
   {
    "duration": 0,
    "start_time": "2022-09-14T04:56:25.498Z"
   },
   {
    "duration": 123,
    "start_time": "2022-09-14T04:56:41.156Z"
   },
   {
    "duration": 9,
    "start_time": "2022-09-14T04:56:42.005Z"
   },
   {
    "duration": 227,
    "start_time": "2022-09-14T04:56:58.797Z"
   },
   {
    "duration": 116,
    "start_time": "2022-09-14T04:57:06.149Z"
   },
   {
    "duration": 8,
    "start_time": "2022-09-14T04:57:08.660Z"
   },
   {
    "duration": 284,
    "start_time": "2022-09-14T04:57:12.285Z"
   },
   {
    "duration": 69,
    "start_time": "2022-09-14T05:04:56.928Z"
   },
   {
    "duration": 95,
    "start_time": "2022-09-14T05:05:28.608Z"
   },
   {
    "duration": 723,
    "start_time": "2022-09-14T05:05:35.069Z"
   },
   {
    "duration": 25,
    "start_time": "2022-09-14T05:05:35.794Z"
   },
   {
    "duration": 13,
    "start_time": "2022-09-14T05:05:35.820Z"
   },
   {
    "duration": 8,
    "start_time": "2022-09-14T05:05:35.835Z"
   },
   {
    "duration": 9,
    "start_time": "2022-09-14T05:05:35.844Z"
   },
   {
    "duration": 9,
    "start_time": "2022-09-14T05:05:35.854Z"
   },
   {
    "duration": 4,
    "start_time": "2022-09-14T05:05:35.895Z"
   },
   {
    "duration": 7,
    "start_time": "2022-09-14T05:05:35.900Z"
   },
   {
    "duration": 15,
    "start_time": "2022-09-14T05:05:35.908Z"
   },
   {
    "duration": 27,
    "start_time": "2022-09-14T05:05:35.925Z"
   },
   {
    "duration": 48,
    "start_time": "2022-09-14T05:05:35.954Z"
   },
   {
    "duration": 5,
    "start_time": "2022-09-14T05:05:36.004Z"
   },
   {
    "duration": 7,
    "start_time": "2022-09-14T05:05:36.011Z"
   },
   {
    "duration": 7,
    "start_time": "2022-09-14T05:05:36.020Z"
   },
   {
    "duration": 9,
    "start_time": "2022-09-14T05:05:36.028Z"
   },
   {
    "duration": 5,
    "start_time": "2022-09-14T05:05:36.039Z"
   },
   {
    "duration": 5,
    "start_time": "2022-09-14T05:05:36.046Z"
   },
   {
    "duration": 14,
    "start_time": "2022-09-14T05:05:36.052Z"
   },
   {
    "duration": 43,
    "start_time": "2022-09-14T05:05:36.068Z"
   },
   {
    "duration": 7,
    "start_time": "2022-09-14T05:05:36.113Z"
   },
   {
    "duration": 8,
    "start_time": "2022-09-14T05:05:36.121Z"
   },
   {
    "duration": 4,
    "start_time": "2022-09-14T05:05:36.131Z"
   },
   {
    "duration": 16,
    "start_time": "2022-09-14T05:05:36.136Z"
   },
   {
    "duration": 5,
    "start_time": "2022-09-14T05:05:36.154Z"
   },
   {
    "duration": 42,
    "start_time": "2022-09-14T05:05:36.161Z"
   },
   {
    "duration": 20,
    "start_time": "2022-09-14T05:05:36.205Z"
   },
   {
    "duration": 8,
    "start_time": "2022-09-14T05:05:36.226Z"
   },
   {
    "duration": 3,
    "start_time": "2022-09-14T05:05:36.237Z"
   },
   {
    "duration": 13,
    "start_time": "2022-09-14T05:05:36.241Z"
   },
   {
    "duration": 24,
    "start_time": "2022-09-14T05:05:36.255Z"
   },
   {
    "duration": 4,
    "start_time": "2022-09-14T05:05:36.280Z"
   },
   {
    "duration": 13,
    "start_time": "2022-09-14T05:05:36.285Z"
   },
   {
    "duration": 6,
    "start_time": "2022-09-14T05:05:36.300Z"
   },
   {
    "duration": 13,
    "start_time": "2022-09-14T05:05:36.308Z"
   },
   {
    "duration": 6,
    "start_time": "2022-09-14T05:05:36.322Z"
   },
   {
    "duration": 10,
    "start_time": "2022-09-14T05:05:36.330Z"
   },
   {
    "duration": 11,
    "start_time": "2022-09-14T05:05:36.342Z"
   },
   {
    "duration": 345,
    "start_time": "2022-09-14T05:05:36.355Z"
   },
   {
    "duration": 5,
    "start_time": "2022-09-14T05:05:36.702Z"
   },
   {
    "duration": 58,
    "start_time": "2022-09-14T05:05:36.708Z"
   },
   {
    "duration": 134,
    "start_time": "2022-09-14T05:05:36.769Z"
   },
   {
    "duration": 10,
    "start_time": "2022-09-14T05:05:36.905Z"
   },
   {
    "duration": 288,
    "start_time": "2022-09-14T05:05:36.916Z"
   },
   {
    "duration": 119,
    "start_time": "2022-09-14T05:05:37.206Z"
   },
   {
    "duration": 9,
    "start_time": "2022-09-14T05:05:37.327Z"
   },
   {
    "duration": 216,
    "start_time": "2022-09-14T05:05:37.338Z"
   },
   {
    "duration": 110,
    "start_time": "2022-09-14T05:05:37.556Z"
   },
   {
    "duration": 10,
    "start_time": "2022-09-14T05:05:37.668Z"
   },
   {
    "duration": 175,
    "start_time": "2022-09-14T05:05:37.680Z"
   },
   {
    "duration": 64,
    "start_time": "2022-09-14T05:05:37.856Z"
   },
   {
    "duration": 0,
    "start_time": "2022-09-14T05:05:37.921Z"
   },
   {
    "duration": 0,
    "start_time": "2022-09-14T05:05:37.922Z"
   },
   {
    "duration": 0,
    "start_time": "2022-09-14T05:05:37.923Z"
   },
   {
    "duration": 0,
    "start_time": "2022-09-14T05:05:37.924Z"
   },
   {
    "duration": 0,
    "start_time": "2022-09-14T05:05:37.925Z"
   },
   {
    "duration": 0,
    "start_time": "2022-09-14T05:05:37.927Z"
   },
   {
    "duration": 0,
    "start_time": "2022-09-14T05:05:37.928Z"
   },
   {
    "duration": 0,
    "start_time": "2022-09-14T05:05:37.929Z"
   },
   {
    "duration": 0,
    "start_time": "2022-09-14T05:05:37.930Z"
   },
   {
    "duration": 0,
    "start_time": "2022-09-14T05:05:37.931Z"
   },
   {
    "duration": 0,
    "start_time": "2022-09-14T05:05:37.931Z"
   },
   {
    "duration": 0,
    "start_time": "2022-09-14T05:05:37.932Z"
   },
   {
    "duration": 0,
    "start_time": "2022-09-14T05:05:37.933Z"
   },
   {
    "duration": 0,
    "start_time": "2022-09-14T05:05:37.934Z"
   },
   {
    "duration": 0,
    "start_time": "2022-09-14T05:05:37.935Z"
   },
   {
    "duration": 0,
    "start_time": "2022-09-14T05:05:37.936Z"
   },
   {
    "duration": 0,
    "start_time": "2022-09-14T05:05:37.937Z"
   },
   {
    "duration": 0,
    "start_time": "2022-09-14T05:05:37.938Z"
   },
   {
    "duration": 0,
    "start_time": "2022-09-14T05:05:37.939Z"
   },
   {
    "duration": 0,
    "start_time": "2022-09-14T05:05:37.940Z"
   },
   {
    "duration": 0,
    "start_time": "2022-09-14T05:05:37.940Z"
   },
   {
    "duration": 84,
    "start_time": "2022-09-14T05:06:32.561Z"
   },
   {
    "duration": 95,
    "start_time": "2022-09-14T05:06:39.472Z"
   },
   {
    "duration": 99,
    "start_time": "2022-09-14T05:06:48.144Z"
   },
   {
    "duration": 89,
    "start_time": "2022-09-14T05:07:26.531Z"
   },
   {
    "duration": 80,
    "start_time": "2022-09-14T05:07:34.935Z"
   },
   {
    "duration": 106,
    "start_time": "2022-09-14T05:08:16.559Z"
   },
   {
    "duration": 127,
    "start_time": "2022-09-14T05:08:27.367Z"
   },
   {
    "duration": 4,
    "start_time": "2022-09-14T05:09:04.947Z"
   },
   {
    "duration": 123,
    "start_time": "2022-09-14T05:09:07.159Z"
   },
   {
    "duration": 26,
    "start_time": "2022-09-14T05:09:21.373Z"
   },
   {
    "duration": 25,
    "start_time": "2022-09-14T05:09:48.333Z"
   },
   {
    "duration": 107,
    "start_time": "2022-09-14T05:09:49.366Z"
   },
   {
    "duration": 736,
    "start_time": "2022-09-14T05:10:00.333Z"
   },
   {
    "duration": 27,
    "start_time": "2022-09-14T05:10:01.072Z"
   },
   {
    "duration": 16,
    "start_time": "2022-09-14T05:10:01.101Z"
   },
   {
    "duration": 8,
    "start_time": "2022-09-14T05:10:01.120Z"
   },
   {
    "duration": 17,
    "start_time": "2022-09-14T05:10:01.129Z"
   },
   {
    "duration": 13,
    "start_time": "2022-09-14T05:10:01.148Z"
   },
   {
    "duration": 8,
    "start_time": "2022-09-14T05:10:01.162Z"
   },
   {
    "duration": 42,
    "start_time": "2022-09-14T05:10:01.171Z"
   },
   {
    "duration": 30,
    "start_time": "2022-09-14T05:10:01.215Z"
   },
   {
    "duration": 27,
    "start_time": "2022-09-14T05:10:01.248Z"
   },
   {
    "duration": 44,
    "start_time": "2022-09-14T05:10:01.276Z"
   },
   {
    "duration": 5,
    "start_time": "2022-09-14T05:10:01.322Z"
   },
   {
    "duration": 13,
    "start_time": "2022-09-14T05:10:01.328Z"
   },
   {
    "duration": 9,
    "start_time": "2022-09-14T05:10:01.343Z"
   },
   {
    "duration": 15,
    "start_time": "2022-09-14T05:10:01.354Z"
   },
   {
    "duration": 8,
    "start_time": "2022-09-14T05:10:01.371Z"
   },
   {
    "duration": 20,
    "start_time": "2022-09-14T05:10:01.380Z"
   },
   {
    "duration": 22,
    "start_time": "2022-09-14T05:10:01.402Z"
   },
   {
    "duration": 38,
    "start_time": "2022-09-14T05:10:01.426Z"
   },
   {
    "duration": 12,
    "start_time": "2022-09-14T05:10:01.465Z"
   },
   {
    "duration": 23,
    "start_time": "2022-09-14T05:10:01.479Z"
   },
   {
    "duration": 25,
    "start_time": "2022-09-14T05:10:01.505Z"
   },
   {
    "duration": 17,
    "start_time": "2022-09-14T05:10:01.532Z"
   },
   {
    "duration": 6,
    "start_time": "2022-09-14T05:10:01.550Z"
   },
   {
    "duration": 45,
    "start_time": "2022-09-14T05:10:01.558Z"
   },
   {
    "duration": 37,
    "start_time": "2022-09-14T05:10:01.605Z"
   },
   {
    "duration": 16,
    "start_time": "2022-09-14T05:10:01.644Z"
   },
   {
    "duration": 17,
    "start_time": "2022-09-14T05:10:01.665Z"
   },
   {
    "duration": 22,
    "start_time": "2022-09-14T05:10:01.684Z"
   },
   {
    "duration": 34,
    "start_time": "2022-09-14T05:10:01.708Z"
   },
   {
    "duration": 6,
    "start_time": "2022-09-14T05:10:01.744Z"
   },
   {
    "duration": 21,
    "start_time": "2022-09-14T05:10:01.751Z"
   },
   {
    "duration": 19,
    "start_time": "2022-09-14T05:10:01.774Z"
   },
   {
    "duration": 11,
    "start_time": "2022-09-14T05:10:01.794Z"
   },
   {
    "duration": 9,
    "start_time": "2022-09-14T05:10:01.806Z"
   },
   {
    "duration": 16,
    "start_time": "2022-09-14T05:10:01.817Z"
   },
   {
    "duration": 7,
    "start_time": "2022-09-14T05:10:01.835Z"
   },
   {
    "duration": 291,
    "start_time": "2022-09-14T05:10:01.844Z"
   },
   {
    "duration": 4,
    "start_time": "2022-09-14T05:10:02.137Z"
   },
   {
    "duration": 34,
    "start_time": "2022-09-14T05:10:02.143Z"
   },
   {
    "duration": 118,
    "start_time": "2022-09-14T05:10:02.179Z"
   },
   {
    "duration": 9,
    "start_time": "2022-09-14T05:10:02.299Z"
   },
   {
    "duration": 312,
    "start_time": "2022-09-14T05:10:02.311Z"
   },
   {
    "duration": 127,
    "start_time": "2022-09-14T05:10:02.625Z"
   },
   {
    "duration": 9,
    "start_time": "2022-09-14T05:10:02.753Z"
   },
   {
    "duration": 263,
    "start_time": "2022-09-14T05:10:02.764Z"
   },
   {
    "duration": 122,
    "start_time": "2022-09-14T05:10:03.029Z"
   },
   {
    "duration": 8,
    "start_time": "2022-09-14T05:10:03.153Z"
   },
   {
    "duration": 181,
    "start_time": "2022-09-14T05:10:03.162Z"
   },
   {
    "duration": 26,
    "start_time": "2022-09-14T05:10:03.345Z"
   },
   {
    "duration": 137,
    "start_time": "2022-09-14T05:10:03.372Z"
   },
   {
    "duration": 9,
    "start_time": "2022-09-14T05:10:03.510Z"
   },
   {
    "duration": 239,
    "start_time": "2022-09-14T05:10:03.520Z"
   },
   {
    "duration": 122,
    "start_time": "2022-09-14T05:10:03.760Z"
   },
   {
    "duration": 16,
    "start_time": "2022-09-14T05:10:03.883Z"
   },
   {
    "duration": 216,
    "start_time": "2022-09-14T05:10:03.901Z"
   },
   {
    "duration": 127,
    "start_time": "2022-09-14T05:10:04.119Z"
   },
   {
    "duration": 9,
    "start_time": "2022-09-14T05:10:04.248Z"
   },
   {
    "duration": 156,
    "start_time": "2022-09-14T05:10:04.258Z"
   },
   {
    "duration": 110,
    "start_time": "2022-09-14T05:10:04.416Z"
   },
   {
    "duration": 8,
    "start_time": "2022-09-14T05:10:04.528Z"
   },
   {
    "duration": 147,
    "start_time": "2022-09-14T05:10:04.538Z"
   },
   {
    "duration": 120,
    "start_time": "2022-09-14T05:10:04.687Z"
   },
   {
    "duration": 10,
    "start_time": "2022-09-14T05:10:04.808Z"
   },
   {
    "duration": 162,
    "start_time": "2022-09-14T05:10:04.821Z"
   },
   {
    "duration": 17,
    "start_time": "2022-09-14T05:10:04.985Z"
   },
   {
    "duration": 164,
    "start_time": "2022-09-14T05:10:05.003Z"
   },
   {
    "duration": 10,
    "start_time": "2022-09-14T05:10:05.169Z"
   },
   {
    "duration": 173,
    "start_time": "2022-09-14T05:10:05.180Z"
   },
   {
    "duration": 9,
    "start_time": "2022-09-14T05:10:05.355Z"
   },
   {
    "duration": 169,
    "start_time": "2022-09-14T05:10:05.365Z"
   },
   {
    "duration": 27,
    "start_time": "2022-09-14T05:10:30.361Z"
   },
   {
    "duration": 29,
    "start_time": "2022-09-14T05:10:41.543Z"
   },
   {
    "duration": 26,
    "start_time": "2022-09-14T05:11:07.208Z"
   },
   {
    "duration": 100,
    "start_time": "2022-09-14T05:11:07.911Z"
   },
   {
    "duration": 671,
    "start_time": "2022-09-14T05:11:17.453Z"
   },
   {
    "duration": 25,
    "start_time": "2022-09-14T05:11:18.126Z"
   },
   {
    "duration": 18,
    "start_time": "2022-09-14T05:11:18.152Z"
   },
   {
    "duration": 24,
    "start_time": "2022-09-14T05:11:18.172Z"
   },
   {
    "duration": 9,
    "start_time": "2022-09-14T05:11:18.198Z"
   },
   {
    "duration": 8,
    "start_time": "2022-09-14T05:11:18.209Z"
   },
   {
    "duration": 5,
    "start_time": "2022-09-14T05:11:18.218Z"
   },
   {
    "duration": 5,
    "start_time": "2022-09-14T05:11:18.224Z"
   },
   {
    "duration": 14,
    "start_time": "2022-09-14T05:11:18.231Z"
   },
   {
    "duration": 50,
    "start_time": "2022-09-14T05:11:18.248Z"
   },
   {
    "duration": 26,
    "start_time": "2022-09-14T05:11:18.299Z"
   },
   {
    "duration": 5,
    "start_time": "2022-09-14T05:11:18.326Z"
   },
   {
    "duration": 8,
    "start_time": "2022-09-14T05:11:18.332Z"
   },
   {
    "duration": 12,
    "start_time": "2022-09-14T05:11:18.341Z"
   },
   {
    "duration": 9,
    "start_time": "2022-09-14T05:11:18.354Z"
   },
   {
    "duration": 9,
    "start_time": "2022-09-14T05:11:18.364Z"
   },
   {
    "duration": 20,
    "start_time": "2022-09-14T05:11:18.375Z"
   },
   {
    "duration": 8,
    "start_time": "2022-09-14T05:11:18.396Z"
   },
   {
    "duration": 21,
    "start_time": "2022-09-14T05:11:18.406Z"
   },
   {
    "duration": 13,
    "start_time": "2022-09-14T05:11:18.428Z"
   },
   {
    "duration": 6,
    "start_time": "2022-09-14T05:11:18.443Z"
   },
   {
    "duration": 5,
    "start_time": "2022-09-14T05:11:18.450Z"
   },
   {
    "duration": 13,
    "start_time": "2022-09-14T05:11:18.456Z"
   },
   {
    "duration": 24,
    "start_time": "2022-09-14T05:11:18.471Z"
   },
   {
    "duration": 15,
    "start_time": "2022-09-14T05:11:18.497Z"
   },
   {
    "duration": 18,
    "start_time": "2022-09-14T05:11:18.514Z"
   },
   {
    "duration": 7,
    "start_time": "2022-09-14T05:11:18.534Z"
   },
   {
    "duration": 4,
    "start_time": "2022-09-14T05:11:18.546Z"
   },
   {
    "duration": 8,
    "start_time": "2022-09-14T05:11:18.552Z"
   },
   {
    "duration": 51,
    "start_time": "2022-09-14T05:11:18.561Z"
   },
   {
    "duration": 4,
    "start_time": "2022-09-14T05:11:18.614Z"
   },
   {
    "duration": 8,
    "start_time": "2022-09-14T05:11:18.620Z"
   },
   {
    "duration": 5,
    "start_time": "2022-09-14T05:11:18.629Z"
   },
   {
    "duration": 11,
    "start_time": "2022-09-14T05:11:18.635Z"
   },
   {
    "duration": 7,
    "start_time": "2022-09-14T05:11:18.647Z"
   },
   {
    "duration": 9,
    "start_time": "2022-09-14T05:11:18.655Z"
   },
   {
    "duration": 4,
    "start_time": "2022-09-14T05:11:18.665Z"
   },
   {
    "duration": 300,
    "start_time": "2022-09-14T05:11:18.671Z"
   },
   {
    "duration": 4,
    "start_time": "2022-09-14T05:11:18.973Z"
   },
   {
    "duration": 29,
    "start_time": "2022-09-14T05:11:18.978Z"
   },
   {
    "duration": 119,
    "start_time": "2022-09-14T05:11:19.009Z"
   },
   {
    "duration": 8,
    "start_time": "2022-09-14T05:11:19.130Z"
   },
   {
    "duration": 294,
    "start_time": "2022-09-14T05:11:19.140Z"
   },
   {
    "duration": 118,
    "start_time": "2022-09-14T05:11:19.436Z"
   },
   {
    "duration": 9,
    "start_time": "2022-09-14T05:11:19.556Z"
   },
   {
    "duration": 225,
    "start_time": "2022-09-14T05:11:19.567Z"
   },
   {
    "duration": 108,
    "start_time": "2022-09-14T05:11:19.793Z"
   },
   {
    "duration": 9,
    "start_time": "2022-09-14T05:11:19.902Z"
   },
   {
    "duration": 180,
    "start_time": "2022-09-14T05:11:19.912Z"
   },
   {
    "duration": 4,
    "start_time": "2022-09-14T05:11:20.094Z"
   },
   {
    "duration": 122,
    "start_time": "2022-09-14T05:11:20.099Z"
   },
   {
    "duration": 8,
    "start_time": "2022-09-14T05:11:20.222Z"
   },
   {
    "duration": 217,
    "start_time": "2022-09-14T05:11:20.232Z"
   },
   {
    "duration": 112,
    "start_time": "2022-09-14T05:11:20.450Z"
   },
   {
    "duration": 8,
    "start_time": "2022-09-14T05:11:20.563Z"
   },
   {
    "duration": 222,
    "start_time": "2022-09-14T05:11:20.573Z"
   },
   {
    "duration": 113,
    "start_time": "2022-09-14T05:11:20.796Z"
   },
   {
    "duration": 8,
    "start_time": "2022-09-14T05:11:20.911Z"
   },
   {
    "duration": 153,
    "start_time": "2022-09-14T05:11:20.921Z"
   },
   {
    "duration": 102,
    "start_time": "2022-09-14T05:11:21.076Z"
   },
   {
    "duration": 8,
    "start_time": "2022-09-14T05:11:21.180Z"
   },
   {
    "duration": 131,
    "start_time": "2022-09-14T05:11:21.195Z"
   },
   {
    "duration": 120,
    "start_time": "2022-09-14T05:11:21.327Z"
   },
   {
    "duration": 9,
    "start_time": "2022-09-14T05:11:21.448Z"
   },
   {
    "duration": 156,
    "start_time": "2022-09-14T05:11:21.459Z"
   },
   {
    "duration": 9,
    "start_time": "2022-09-14T05:11:21.616Z"
   },
   {
    "duration": 162,
    "start_time": "2022-09-14T05:11:21.627Z"
   },
   {
    "duration": 11,
    "start_time": "2022-09-14T05:11:21.791Z"
   },
   {
    "duration": 155,
    "start_time": "2022-09-14T05:11:21.804Z"
   },
   {
    "duration": 9,
    "start_time": "2022-09-14T05:11:21.960Z"
   },
   {
    "duration": 159,
    "start_time": "2022-09-14T05:11:21.971Z"
   },
   {
    "duration": 307,
    "start_time": "2022-09-14T05:12:00.860Z"
   },
   {
    "duration": 202,
    "start_time": "2022-09-14T05:12:13.501Z"
   },
   {
    "duration": 208,
    "start_time": "2022-09-14T05:12:23.499Z"
   },
   {
    "duration": 218,
    "start_time": "2022-09-14T05:12:30.451Z"
   },
   {
    "duration": 201,
    "start_time": "2022-09-14T05:12:35.867Z"
   },
   {
    "duration": 134,
    "start_time": "2022-09-14T05:12:47.795Z"
   },
   {
    "duration": 273,
    "start_time": "2022-09-14T05:12:55.772Z"
   },
   {
    "duration": 137,
    "start_time": "2022-09-14T05:17:39.008Z"
   },
   {
    "duration": 184,
    "start_time": "2022-09-14T05:18:24.129Z"
   },
   {
    "duration": 138,
    "start_time": "2022-09-14T05:20:23.374Z"
   },
   {
    "duration": 196,
    "start_time": "2022-09-14T05:20:36.502Z"
   },
   {
    "duration": 158,
    "start_time": "2022-09-14T05:20:52.861Z"
   },
   {
    "duration": 151,
    "start_time": "2022-09-14T05:20:56.838Z"
   },
   {
    "duration": 172,
    "start_time": "2022-09-14T05:21:10.093Z"
   },
   {
    "duration": 145,
    "start_time": "2022-09-14T05:21:18.646Z"
   },
   {
    "duration": 125,
    "start_time": "2022-09-14T05:21:58.549Z"
   },
   {
    "duration": 82,
    "start_time": "2022-09-14T05:23:02.708Z"
   },
   {
    "duration": 121,
    "start_time": "2022-09-14T05:23:15.900Z"
   },
   {
    "duration": 81,
    "start_time": "2022-09-14T05:25:00.531Z"
   },
   {
    "duration": 14,
    "start_time": "2022-09-14T05:25:04.633Z"
   },
   {
    "duration": 57,
    "start_time": "2022-09-14T13:38:37.199Z"
   },
   {
    "duration": 1117,
    "start_time": "2022-09-14T13:38:42.165Z"
   },
   {
    "duration": 30,
    "start_time": "2022-09-14T13:38:43.284Z"
   },
   {
    "duration": 32,
    "start_time": "2022-09-14T13:38:43.316Z"
   },
   {
    "duration": 9,
    "start_time": "2022-09-14T13:38:43.349Z"
   },
   {
    "duration": 9,
    "start_time": "2022-09-14T13:38:43.361Z"
   },
   {
    "duration": 11,
    "start_time": "2022-09-14T13:38:43.371Z"
   },
   {
    "duration": 28,
    "start_time": "2022-09-14T13:38:43.384Z"
   },
   {
    "duration": 24,
    "start_time": "2022-09-14T13:38:43.414Z"
   },
   {
    "duration": 19,
    "start_time": "2022-09-14T13:38:43.440Z"
   },
   {
    "duration": 28,
    "start_time": "2022-09-14T13:38:43.461Z"
   },
   {
    "duration": 69,
    "start_time": "2022-09-14T13:38:43.491Z"
   },
   {
    "duration": 11,
    "start_time": "2022-09-14T13:38:43.562Z"
   },
   {
    "duration": 21,
    "start_time": "2022-09-14T13:38:43.574Z"
   },
   {
    "duration": 40,
    "start_time": "2022-09-14T13:38:43.599Z"
   },
   {
    "duration": 7,
    "start_time": "2022-09-14T13:38:43.641Z"
   },
   {
    "duration": 5,
    "start_time": "2022-09-14T13:38:43.650Z"
   },
   {
    "duration": 6,
    "start_time": "2022-09-14T13:38:43.656Z"
   },
   {
    "duration": 8,
    "start_time": "2022-09-14T13:38:43.664Z"
   },
   {
    "duration": 34,
    "start_time": "2022-09-14T13:38:43.674Z"
   },
   {
    "duration": 5,
    "start_time": "2022-09-14T13:38:43.710Z"
   },
   {
    "duration": 22,
    "start_time": "2022-09-14T13:38:43.717Z"
   },
   {
    "duration": 8,
    "start_time": "2022-09-14T13:38:43.740Z"
   },
   {
    "duration": 18,
    "start_time": "2022-09-14T13:38:43.750Z"
   },
   {
    "duration": 6,
    "start_time": "2022-09-14T13:38:43.769Z"
   },
   {
    "duration": 15,
    "start_time": "2022-09-14T13:38:43.776Z"
   },
   {
    "duration": 20,
    "start_time": "2022-09-14T13:38:43.792Z"
   },
   {
    "duration": 26,
    "start_time": "2022-09-14T13:38:43.814Z"
   },
   {
    "duration": 7,
    "start_time": "2022-09-14T13:38:43.842Z"
   },
   {
    "duration": 9,
    "start_time": "2022-09-14T13:38:43.850Z"
   },
   {
    "duration": 20,
    "start_time": "2022-09-14T13:38:43.860Z"
   },
   {
    "duration": 3,
    "start_time": "2022-09-14T13:38:43.881Z"
   },
   {
    "duration": 9,
    "start_time": "2022-09-14T13:38:43.886Z"
   },
   {
    "duration": 11,
    "start_time": "2022-09-14T13:38:43.896Z"
   },
   {
    "duration": 32,
    "start_time": "2022-09-14T13:38:43.908Z"
   },
   {
    "duration": 6,
    "start_time": "2022-09-14T13:38:43.942Z"
   },
   {
    "duration": 7,
    "start_time": "2022-09-14T13:38:43.949Z"
   },
   {
    "duration": 4,
    "start_time": "2022-09-14T13:38:43.957Z"
   },
   {
    "duration": 325,
    "start_time": "2022-09-14T13:38:43.962Z"
   },
   {
    "duration": 4,
    "start_time": "2022-09-14T13:38:44.289Z"
   },
   {
    "duration": 53,
    "start_time": "2022-09-14T13:38:44.296Z"
   },
   {
    "duration": 129,
    "start_time": "2022-09-14T13:38:44.353Z"
   },
   {
    "duration": 21,
    "start_time": "2022-09-14T13:38:44.484Z"
   },
   {
    "duration": 380,
    "start_time": "2022-09-14T13:38:44.510Z"
   },
   {
    "duration": 137,
    "start_time": "2022-09-14T13:38:44.891Z"
   },
   {
    "duration": 10,
    "start_time": "2022-09-14T13:38:45.030Z"
   },
   {
    "duration": 252,
    "start_time": "2022-09-14T13:38:45.042Z"
   },
   {
    "duration": 111,
    "start_time": "2022-09-14T13:38:45.296Z"
   },
   {
    "duration": 13,
    "start_time": "2022-09-14T13:38:45.412Z"
   },
   {
    "duration": 186,
    "start_time": "2022-09-14T13:38:45.426Z"
   },
   {
    "duration": 3,
    "start_time": "2022-09-14T13:38:45.613Z"
   },
   {
    "duration": 149,
    "start_time": "2022-09-14T13:38:45.618Z"
   },
   {
    "duration": 8,
    "start_time": "2022-09-14T13:38:45.769Z"
   },
   {
    "duration": 224,
    "start_time": "2022-09-14T13:38:45.779Z"
   },
   {
    "duration": 121,
    "start_time": "2022-09-14T13:38:46.005Z"
   },
   {
    "duration": 10,
    "start_time": "2022-09-14T13:38:46.127Z"
   },
   {
    "duration": 222,
    "start_time": "2022-09-14T13:38:46.139Z"
   },
   {
    "duration": 116,
    "start_time": "2022-09-14T13:38:46.363Z"
   },
   {
    "duration": 8,
    "start_time": "2022-09-14T13:38:46.481Z"
   },
   {
    "duration": 152,
    "start_time": "2022-09-14T13:38:46.491Z"
   },
   {
    "duration": 120,
    "start_time": "2022-09-14T13:38:46.644Z"
   },
   {
    "duration": 9,
    "start_time": "2022-09-14T13:38:46.766Z"
   },
   {
    "duration": 168,
    "start_time": "2022-09-14T13:38:46.776Z"
   },
   {
    "duration": 103,
    "start_time": "2022-09-14T13:38:46.945Z"
   },
   {
    "duration": 8,
    "start_time": "2022-09-14T13:38:47.049Z"
   },
   {
    "duration": 148,
    "start_time": "2022-09-14T13:38:47.059Z"
   },
   {
    "duration": 21,
    "start_time": "2022-09-14T13:38:47.208Z"
   },
   {
    "duration": 156,
    "start_time": "2022-09-14T13:38:47.232Z"
   },
   {
    "duration": 15,
    "start_time": "2022-09-14T13:38:47.389Z"
   },
   {
    "duration": 176,
    "start_time": "2022-09-14T13:38:47.408Z"
   },
   {
    "duration": 9,
    "start_time": "2022-09-14T13:38:47.586Z"
   },
   {
    "duration": 162,
    "start_time": "2022-09-14T13:38:47.596Z"
   },
   {
    "duration": 141,
    "start_time": "2022-09-14T13:40:34.815Z"
   },
   {
    "duration": 216,
    "start_time": "2022-09-14T13:42:33.526Z"
   },
   {
    "duration": 150,
    "start_time": "2022-09-14T13:42:42.725Z"
   },
   {
    "duration": 173,
    "start_time": "2022-09-14T13:42:47.656Z"
   },
   {
    "duration": 136,
    "start_time": "2022-09-14T13:43:06.612Z"
   },
   {
    "duration": 195,
    "start_time": "2022-09-14T13:43:12.250Z"
   },
   {
    "duration": 196,
    "start_time": "2022-09-14T13:43:21.832Z"
   },
   {
    "duration": 210,
    "start_time": "2022-09-14T13:43:27.582Z"
   },
   {
    "duration": 259,
    "start_time": "2022-09-14T13:43:33.057Z"
   },
   {
    "duration": 283,
    "start_time": "2022-09-14T13:43:56.677Z"
   },
   {
    "duration": 220,
    "start_time": "2022-09-14T13:44:08.775Z"
   },
   {
    "duration": 157,
    "start_time": "2022-09-14T13:45:37.597Z"
   },
   {
    "duration": 143,
    "start_time": "2022-09-14T13:45:43.603Z"
   },
   {
    "duration": 110,
    "start_time": "2022-09-14T13:45:47.938Z"
   },
   {
    "duration": 168,
    "start_time": "2022-09-14T13:45:59.670Z"
   },
   {
    "duration": 184,
    "start_time": "2022-09-14T13:46:08.288Z"
   },
   {
    "duration": 245,
    "start_time": "2022-09-14T13:46:16.093Z"
   },
   {
    "duration": 15,
    "start_time": "2022-09-14T14:08:06.888Z"
   },
   {
    "duration": 157,
    "start_time": "2022-09-14T14:08:29.335Z"
   },
   {
    "duration": 149,
    "start_time": "2022-09-14T14:08:47.319Z"
   },
   {
    "duration": 207,
    "start_time": "2022-09-14T14:08:58.683Z"
   },
   {
    "duration": 146,
    "start_time": "2022-09-14T14:09:06.401Z"
   },
   {
    "duration": 121,
    "start_time": "2022-09-14T14:09:12.195Z"
   },
   {
    "duration": 143,
    "start_time": "2022-09-14T14:09:18.537Z"
   },
   {
    "duration": 126,
    "start_time": "2022-09-14T14:09:32.247Z"
   },
   {
    "duration": 130,
    "start_time": "2022-09-14T14:09:38.240Z"
   },
   {
    "duration": 122,
    "start_time": "2022-09-14T14:09:42.065Z"
   },
   {
    "duration": 124,
    "start_time": "2022-09-14T14:09:59.660Z"
   },
   {
    "duration": 132,
    "start_time": "2022-09-14T14:10:06.502Z"
   },
   {
    "duration": 117,
    "start_time": "2022-09-14T14:10:19.248Z"
   },
   {
    "duration": 126,
    "start_time": "2022-09-14T14:10:31.175Z"
   },
   {
    "duration": 180,
    "start_time": "2022-09-14T14:10:39.771Z"
   },
   {
    "duration": 121,
    "start_time": "2022-09-14T14:10:49.072Z"
   },
   {
    "duration": 126,
    "start_time": "2022-09-14T14:10:57.718Z"
   },
   {
    "duration": 114,
    "start_time": "2022-09-14T14:14:13.005Z"
   },
   {
    "duration": 130,
    "start_time": "2022-09-14T14:15:14.058Z"
   },
   {
    "duration": 110,
    "start_time": "2022-09-14T14:15:26.807Z"
   },
   {
    "duration": 144,
    "start_time": "2022-09-14T14:17:12.140Z"
   },
   {
    "duration": 2,
    "start_time": "2022-09-14T14:23:32.816Z"
   },
   {
    "duration": 32,
    "start_time": "2022-09-14T14:36:40.032Z"
   },
   {
    "duration": 31,
    "start_time": "2022-09-14T14:38:55.267Z"
   },
   {
    "duration": 62,
    "start_time": "2022-09-14T14:40:55.786Z"
   },
   {
    "duration": 120,
    "start_time": "2022-09-14T14:41:11.302Z"
   },
   {
    "duration": 9,
    "start_time": "2022-09-14T14:41:46.067Z"
   },
   {
    "duration": 10,
    "start_time": "2022-09-14T14:46:09.510Z"
   },
   {
    "duration": 9,
    "start_time": "2022-09-14T14:46:17.658Z"
   },
   {
    "duration": 124,
    "start_time": "2022-09-14T14:51:51.415Z"
   },
   {
    "duration": 12,
    "start_time": "2022-09-14T14:52:14.679Z"
   },
   {
    "duration": 136,
    "start_time": "2022-09-14T14:53:13.522Z"
   },
   {
    "duration": 11,
    "start_time": "2022-09-14T14:53:37.327Z"
   },
   {
    "duration": 12,
    "start_time": "2022-09-14T14:53:48.185Z"
   },
   {
    "duration": 52,
    "start_time": "2022-09-14T14:54:04.141Z"
   },
   {
    "duration": 499,
    "start_time": "2022-09-14T14:54:15.652Z"
   },
   {
    "duration": 219,
    "start_time": "2022-09-14T14:54:23.594Z"
   },
   {
    "duration": 223,
    "start_time": "2022-09-14T14:54:58.154Z"
   },
   {
    "duration": 325,
    "start_time": "2022-09-14T14:55:19.282Z"
   },
   {
    "duration": 222,
    "start_time": "2022-09-14T14:55:28.312Z"
   },
   {
    "duration": 317,
    "start_time": "2022-09-14T14:55:59.231Z"
   },
   {
    "duration": 225,
    "start_time": "2022-09-14T14:56:05.952Z"
   },
   {
    "duration": 214,
    "start_time": "2022-09-14T14:56:50.140Z"
   },
   {
    "duration": 281,
    "start_time": "2022-09-14T14:56:59.588Z"
   },
   {
    "duration": 241,
    "start_time": "2022-09-14T14:57:19.593Z"
   },
   {
    "duration": 326,
    "start_time": "2022-09-14T14:58:04.657Z"
   },
   {
    "duration": 228,
    "start_time": "2022-09-14T14:58:10.082Z"
   },
   {
    "duration": 2,
    "start_time": "2022-09-14T15:17:59.318Z"
   },
   {
    "duration": 14,
    "start_time": "2022-09-14T15:30:21.190Z"
   },
   {
    "duration": 14,
    "start_time": "2022-09-14T15:31:28.406Z"
   },
   {
    "duration": 18,
    "start_time": "2022-09-14T15:31:35.198Z"
   },
   {
    "duration": 0,
    "start_time": "2022-09-14T15:32:19.489Z"
   },
   {
    "duration": 0,
    "start_time": "2022-09-14T15:32:19.491Z"
   },
   {
    "duration": 173,
    "start_time": "2022-09-14T15:32:33.333Z"
   },
   {
    "duration": 16,
    "start_time": "2022-09-14T15:33:10.637Z"
   },
   {
    "duration": 1217,
    "start_time": "2022-09-14T15:33:28.016Z"
   },
   {
    "duration": 158,
    "start_time": "2022-09-14T15:34:47.031Z"
   },
   {
    "duration": 148,
    "start_time": "2022-09-14T15:35:13.736Z"
   },
   {
    "duration": 165,
    "start_time": "2022-09-14T15:35:19.347Z"
   },
   {
    "duration": 128,
    "start_time": "2022-09-14T15:35:29.757Z"
   },
   {
    "duration": 165,
    "start_time": "2022-09-14T15:35:34.105Z"
   },
   {
    "duration": 49,
    "start_time": "2022-09-14T15:35:55.362Z"
   },
   {
    "duration": 282,
    "start_time": "2022-09-14T15:36:20.364Z"
   },
   {
    "duration": 14,
    "start_time": "2022-09-14T15:37:43.068Z"
   },
   {
    "duration": 193,
    "start_time": "2022-09-14T15:37:50.354Z"
   },
   {
    "duration": 197,
    "start_time": "2022-09-14T15:38:00.554Z"
   },
   {
    "duration": 57,
    "start_time": "2022-09-14T15:39:11.954Z"
   },
   {
    "duration": 184,
    "start_time": "2022-09-14T15:39:16.544Z"
   },
   {
    "duration": 160,
    "start_time": "2022-09-14T15:43:38.707Z"
   },
   {
    "duration": 186,
    "start_time": "2022-09-14T15:43:39.649Z"
   },
   {
    "duration": 97,
    "start_time": "2022-09-14T15:45:00.343Z"
   },
   {
    "duration": 183,
    "start_time": "2022-09-14T15:45:06.527Z"
   },
   {
    "duration": 209,
    "start_time": "2022-09-14T15:46:04.717Z"
   },
   {
    "duration": 189,
    "start_time": "2022-09-14T15:46:23.167Z"
   },
   {
    "duration": 542,
    "start_time": "2022-09-14T15:52:27.593Z"
   },
   {
    "duration": 193,
    "start_time": "2022-09-14T15:52:42.429Z"
   },
   {
    "duration": 263,
    "start_time": "2022-09-14T15:57:56.123Z"
   },
   {
    "duration": 22,
    "start_time": "2022-09-14T15:58:21.366Z"
   },
   {
    "duration": 198,
    "start_time": "2022-09-14T15:58:38.291Z"
   },
   {
    "duration": 184,
    "start_time": "2022-09-14T15:58:49.138Z"
   },
   {
    "duration": 175,
    "start_time": "2022-09-14T15:59:27.908Z"
   },
   {
    "duration": 214,
    "start_time": "2022-09-14T16:03:54.300Z"
   },
   {
    "duration": 190,
    "start_time": "2022-09-14T16:04:52.307Z"
   },
   {
    "duration": 182,
    "start_time": "2022-09-14T16:04:58.881Z"
   },
   {
    "duration": 224,
    "start_time": "2022-09-14T16:07:56.522Z"
   },
   {
    "duration": 15,
    "start_time": "2022-09-14T16:08:43.154Z"
   },
   {
    "duration": 233,
    "start_time": "2022-09-14T16:08:47.589Z"
   },
   {
    "duration": 196,
    "start_time": "2022-09-14T16:09:20.456Z"
   },
   {
    "duration": 217,
    "start_time": "2022-09-14T16:09:48.351Z"
   },
   {
    "duration": 193,
    "start_time": "2022-09-14T16:10:14.892Z"
   },
   {
    "duration": 190,
    "start_time": "2022-09-14T16:10:53.862Z"
   },
   {
    "duration": 308,
    "start_time": "2022-09-14T16:11:01.034Z"
   },
   {
    "duration": 165,
    "start_time": "2022-09-14T16:12:03.872Z"
   },
   {
    "duration": 156,
    "start_time": "2022-09-14T16:12:20.928Z"
   },
   {
    "duration": 178,
    "start_time": "2022-09-14T16:12:35.100Z"
   },
   {
    "duration": 59,
    "start_time": "2022-09-14T16:13:33.849Z"
   },
   {
    "duration": 172,
    "start_time": "2022-09-14T16:13:37.991Z"
   },
   {
    "duration": 162,
    "start_time": "2022-09-14T16:13:45.588Z"
   },
   {
    "duration": 169,
    "start_time": "2022-09-14T16:13:51.136Z"
   },
   {
    "duration": 169,
    "start_time": "2022-09-14T16:13:56.238Z"
   },
   {
    "duration": 170,
    "start_time": "2022-09-14T16:14:02.284Z"
   },
   {
    "duration": 458,
    "start_time": "2022-09-14T16:15:45.883Z"
   },
   {
    "duration": 155,
    "start_time": "2022-09-14T16:16:16.446Z"
   },
   {
    "duration": 53,
    "start_time": "2022-09-14T16:16:35.995Z"
   },
   {
    "duration": 202,
    "start_time": "2022-09-14T16:16:39.083Z"
   },
   {
    "duration": 206,
    "start_time": "2022-09-14T16:17:25.503Z"
   },
   {
    "duration": 163,
    "start_time": "2022-09-14T16:17:29.177Z"
   },
   {
    "duration": 281,
    "start_time": "2022-09-14T16:17:32.706Z"
   },
   {
    "duration": 188,
    "start_time": "2022-09-14T16:21:27.104Z"
   },
   {
    "duration": 187,
    "start_time": "2022-09-14T16:29:13.619Z"
   },
   {
    "duration": 188,
    "start_time": "2022-09-14T16:29:32.508Z"
   },
   {
    "duration": 194,
    "start_time": "2022-09-14T16:30:02.892Z"
   },
   {
    "duration": 174,
    "start_time": "2022-09-14T16:30:09.220Z"
   },
   {
    "duration": 192,
    "start_time": "2022-09-14T16:30:16.329Z"
   },
   {
    "duration": 200,
    "start_time": "2022-09-14T16:30:27.459Z"
   },
   {
    "duration": 181,
    "start_time": "2022-09-14T16:30:40.305Z"
   },
   {
    "duration": 1719,
    "start_time": "2022-09-14T16:38:25.950Z"
   },
   {
    "duration": 1876,
    "start_time": "2022-09-14T16:38:57.647Z"
   },
   {
    "duration": 120,
    "start_time": "2022-09-14T16:39:32.775Z"
   },
   {
    "duration": 73,
    "start_time": "2022-09-14T16:41:00.254Z"
   },
   {
    "duration": 169,
    "start_time": "2022-09-14T16:41:07.651Z"
   },
   {
    "duration": 158,
    "start_time": "2022-09-14T16:41:16.100Z"
   },
   {
    "duration": 163,
    "start_time": "2022-09-14T16:41:32.577Z"
   },
   {
    "duration": 155,
    "start_time": "2022-09-14T16:41:56.815Z"
   },
   {
    "duration": 154,
    "start_time": "2022-09-14T16:43:08.769Z"
   },
   {
    "duration": 204,
    "start_time": "2022-09-14T16:43:29.399Z"
   },
   {
    "duration": 162,
    "start_time": "2022-09-14T16:44:29.484Z"
   },
   {
    "duration": 140,
    "start_time": "2022-09-14T16:45:04.985Z"
   },
   {
    "duration": 173,
    "start_time": "2022-09-14T16:45:11.531Z"
   },
   {
    "duration": 168,
    "start_time": "2022-09-14T16:45:23.063Z"
   },
   {
    "duration": 2,
    "start_time": "2022-09-14T16:47:16.012Z"
   },
   {
    "duration": 2,
    "start_time": "2022-09-14T16:47:18.122Z"
   },
   {
    "duration": 148,
    "start_time": "2022-09-14T16:47:34.876Z"
   },
   {
    "duration": 154,
    "start_time": "2022-09-14T16:49:30.589Z"
   },
   {
    "duration": 118,
    "start_time": "2022-09-14T16:49:45.880Z"
   },
   {
    "duration": 137,
    "start_time": "2022-09-14T16:49:51.705Z"
   },
   {
    "duration": 136,
    "start_time": "2022-09-14T16:49:57.537Z"
   },
   {
    "duration": 153,
    "start_time": "2022-09-14T16:50:29.634Z"
   },
   {
    "duration": 171,
    "start_time": "2022-09-14T16:51:07.054Z"
   },
   {
    "duration": 148,
    "start_time": "2022-09-14T16:51:14.691Z"
   },
   {
    "duration": 146,
    "start_time": "2022-09-14T16:51:22.112Z"
   },
   {
    "duration": 134,
    "start_time": "2022-09-14T16:57:31.954Z"
   },
   {
    "duration": 2,
    "start_time": "2022-09-14T16:59:14.269Z"
   },
   {
    "duration": 148,
    "start_time": "2022-09-14T16:59:47.813Z"
   },
   {
    "duration": 319,
    "start_time": "2022-09-14T17:00:13.462Z"
   },
   {
    "duration": 159,
    "start_time": "2022-09-14T17:02:02.806Z"
   },
   {
    "duration": 153,
    "start_time": "2022-09-14T17:03:06.600Z"
   },
   {
    "duration": 52,
    "start_time": "2022-09-14T17:04:21.963Z"
   },
   {
    "duration": 179,
    "start_time": "2022-09-14T17:05:31.117Z"
   },
   {
    "duration": 151,
    "start_time": "2022-09-14T17:05:53.219Z"
   },
   {
    "duration": 144,
    "start_time": "2022-09-14T17:05:55.929Z"
   },
   {
    "duration": 81,
    "start_time": "2022-09-14T18:11:40.880Z"
   },
   {
    "duration": 13,
    "start_time": "2022-09-14T18:11:49.078Z"
   },
   {
    "duration": 10,
    "start_time": "2022-09-14T18:11:57.923Z"
   },
   {
    "duration": 7,
    "start_time": "2022-09-14T18:12:00.397Z"
   },
   {
    "duration": 11,
    "start_time": "2022-09-14T18:13:31.359Z"
   },
   {
    "duration": 72,
    "start_time": "2022-09-14T18:13:33.305Z"
   },
   {
    "duration": 7,
    "start_time": "2022-09-14T18:13:35.481Z"
   },
   {
    "duration": 6,
    "start_time": "2022-09-14T18:13:53.973Z"
   },
   {
    "duration": 12,
    "start_time": "2022-09-14T18:18:38.453Z"
   },
   {
    "duration": 6,
    "start_time": "2022-09-14T18:18:39.148Z"
   },
   {
    "duration": 7,
    "start_time": "2022-09-14T18:18:46.631Z"
   },
   {
    "duration": 12,
    "start_time": "2022-09-14T18:20:22.423Z"
   },
   {
    "duration": 3,
    "start_time": "2022-09-14T18:20:23.082Z"
   },
   {
    "duration": 24,
    "start_time": "2022-09-14T18:20:37.405Z"
   },
   {
    "duration": 6,
    "start_time": "2022-09-14T18:20:38.222Z"
   },
   {
    "duration": 15,
    "start_time": "2022-09-14T18:20:56.106Z"
   },
   {
    "duration": 17,
    "start_time": "2022-09-14T18:21:01.418Z"
   },
   {
    "duration": 11,
    "start_time": "2022-09-14T18:21:15.896Z"
   },
   {
    "duration": 22,
    "start_time": "2022-09-14T18:21:21.424Z"
   },
   {
    "duration": 12,
    "start_time": "2022-09-14T18:21:40.045Z"
   },
   {
    "duration": 12,
    "start_time": "2022-09-14T18:21:43.353Z"
   },
   {
    "duration": 7,
    "start_time": "2022-09-14T18:21:44.138Z"
   },
   {
    "duration": 11,
    "start_time": "2022-09-14T18:23:07.492Z"
   },
   {
    "duration": 7,
    "start_time": "2022-09-14T18:23:08.234Z"
   },
   {
    "duration": 7,
    "start_time": "2022-09-14T18:23:11.013Z"
   },
   {
    "duration": 12,
    "start_time": "2022-09-14T18:23:19.668Z"
   },
   {
    "duration": 7,
    "start_time": "2022-09-14T18:23:30.059Z"
   },
   {
    "duration": 18,
    "start_time": "2022-09-14T18:23:48.816Z"
   },
   {
    "duration": 12,
    "start_time": "2022-09-14T18:25:01.074Z"
   },
   {
    "duration": 16,
    "start_time": "2022-09-14T18:25:03.909Z"
   },
   {
    "duration": 8,
    "start_time": "2022-09-14T18:25:04.491Z"
   },
   {
    "duration": 8,
    "start_time": "2022-09-14T18:27:57.868Z"
   },
   {
    "duration": 753,
    "start_time": "2022-09-14T18:28:03.116Z"
   },
   {
    "duration": 31,
    "start_time": "2022-09-14T18:28:03.871Z"
   },
   {
    "duration": 17,
    "start_time": "2022-09-14T18:28:03.903Z"
   },
   {
    "duration": 8,
    "start_time": "2022-09-14T18:28:03.922Z"
   },
   {
    "duration": 9,
    "start_time": "2022-09-14T18:28:03.931Z"
   },
   {
    "duration": 9,
    "start_time": "2022-09-14T18:28:03.942Z"
   },
   {
    "duration": 3,
    "start_time": "2022-09-14T18:28:03.952Z"
   },
   {
    "duration": 6,
    "start_time": "2022-09-14T18:28:03.956Z"
   },
   {
    "duration": 44,
    "start_time": "2022-09-14T18:28:03.964Z"
   },
   {
    "duration": 23,
    "start_time": "2022-09-14T18:28:04.010Z"
   },
   {
    "duration": 29,
    "start_time": "2022-09-14T18:28:04.034Z"
   },
   {
    "duration": 5,
    "start_time": "2022-09-14T18:28:04.064Z"
   },
   {
    "duration": 6,
    "start_time": "2022-09-14T18:28:04.100Z"
   },
   {
    "duration": 9,
    "start_time": "2022-09-14T18:28:04.107Z"
   },
   {
    "duration": 9,
    "start_time": "2022-09-14T18:28:04.117Z"
   },
   {
    "duration": 6,
    "start_time": "2022-09-14T18:28:04.127Z"
   },
   {
    "duration": 6,
    "start_time": "2022-09-14T18:28:04.134Z"
   },
   {
    "duration": 8,
    "start_time": "2022-09-14T18:28:04.142Z"
   },
   {
    "duration": 51,
    "start_time": "2022-09-14T18:28:04.151Z"
   },
   {
    "duration": 11,
    "start_time": "2022-09-14T18:28:04.204Z"
   },
   {
    "duration": 5,
    "start_time": "2022-09-14T18:28:04.216Z"
   },
   {
    "duration": 9,
    "start_time": "2022-09-14T18:28:04.222Z"
   },
   {
    "duration": 20,
    "start_time": "2022-09-14T18:28:04.233Z"
   },
   {
    "duration": 11,
    "start_time": "2022-09-14T18:28:04.255Z"
   },
   {
    "duration": 29,
    "start_time": "2022-09-14T18:28:04.268Z"
   },
   {
    "duration": 18,
    "start_time": "2022-09-14T18:28:04.299Z"
   },
   {
    "duration": 13,
    "start_time": "2022-09-14T18:28:04.319Z"
   },
   {
    "duration": 4,
    "start_time": "2022-09-14T18:28:04.336Z"
   },
   {
    "duration": 7,
    "start_time": "2022-09-14T18:28:04.342Z"
   },
   {
    "duration": 21,
    "start_time": "2022-09-14T18:28:04.351Z"
   },
   {
    "duration": 4,
    "start_time": "2022-09-14T18:28:04.373Z"
   },
   {
    "duration": 23,
    "start_time": "2022-09-14T18:28:04.378Z"
   },
   {
    "duration": 115,
    "start_time": "2022-09-14T18:28:04.403Z"
   },
   {
    "duration": 0,
    "start_time": "2022-09-14T18:28:04.521Z"
   },
   {
    "duration": 0,
    "start_time": "2022-09-14T18:28:04.522Z"
   },
   {
    "duration": 1,
    "start_time": "2022-09-14T18:28:04.523Z"
   },
   {
    "duration": 0,
    "start_time": "2022-09-14T18:28:04.525Z"
   },
   {
    "duration": 0,
    "start_time": "2022-09-14T18:28:04.526Z"
   },
   {
    "duration": 0,
    "start_time": "2022-09-14T18:28:04.528Z"
   },
   {
    "duration": 0,
    "start_time": "2022-09-14T18:28:04.529Z"
   },
   {
    "duration": 0,
    "start_time": "2022-09-14T18:28:04.530Z"
   },
   {
    "duration": 0,
    "start_time": "2022-09-14T18:28:04.531Z"
   },
   {
    "duration": 0,
    "start_time": "2022-09-14T18:28:04.534Z"
   },
   {
    "duration": 0,
    "start_time": "2022-09-14T18:28:04.535Z"
   },
   {
    "duration": 0,
    "start_time": "2022-09-14T18:28:04.537Z"
   },
   {
    "duration": 0,
    "start_time": "2022-09-14T18:28:04.538Z"
   },
   {
    "duration": 0,
    "start_time": "2022-09-14T18:28:04.540Z"
   },
   {
    "duration": 1,
    "start_time": "2022-09-14T18:28:04.541Z"
   },
   {
    "duration": 0,
    "start_time": "2022-09-14T18:28:04.544Z"
   },
   {
    "duration": 0,
    "start_time": "2022-09-14T18:28:04.545Z"
   },
   {
    "duration": 0,
    "start_time": "2022-09-14T18:28:04.547Z"
   },
   {
    "duration": 0,
    "start_time": "2022-09-14T18:28:04.548Z"
   },
   {
    "duration": 0,
    "start_time": "2022-09-14T18:28:04.550Z"
   },
   {
    "duration": 0,
    "start_time": "2022-09-14T18:28:04.551Z"
   },
   {
    "duration": 0,
    "start_time": "2022-09-14T18:28:04.601Z"
   },
   {
    "duration": 0,
    "start_time": "2022-09-14T18:28:04.602Z"
   },
   {
    "duration": 0,
    "start_time": "2022-09-14T18:28:04.603Z"
   },
   {
    "duration": 0,
    "start_time": "2022-09-14T18:28:04.604Z"
   },
   {
    "duration": 0,
    "start_time": "2022-09-14T18:28:04.605Z"
   },
   {
    "duration": 0,
    "start_time": "2022-09-14T18:28:04.607Z"
   },
   {
    "duration": 0,
    "start_time": "2022-09-14T18:28:04.608Z"
   },
   {
    "duration": 0,
    "start_time": "2022-09-14T18:28:04.609Z"
   },
   {
    "duration": 0,
    "start_time": "2022-09-14T18:28:04.610Z"
   },
   {
    "duration": 0,
    "start_time": "2022-09-14T18:28:04.611Z"
   },
   {
    "duration": 0,
    "start_time": "2022-09-14T18:28:04.612Z"
   },
   {
    "duration": 0,
    "start_time": "2022-09-14T18:28:04.613Z"
   },
   {
    "duration": 0,
    "start_time": "2022-09-14T18:28:04.614Z"
   },
   {
    "duration": 0,
    "start_time": "2022-09-14T18:28:04.614Z"
   },
   {
    "duration": 0,
    "start_time": "2022-09-14T18:28:04.615Z"
   },
   {
    "duration": 0,
    "start_time": "2022-09-14T18:28:04.616Z"
   },
   {
    "duration": 0,
    "start_time": "2022-09-14T18:28:04.617Z"
   },
   {
    "duration": 0,
    "start_time": "2022-09-14T18:28:04.618Z"
   },
   {
    "duration": 0,
    "start_time": "2022-09-14T18:28:04.619Z"
   },
   {
    "duration": 0,
    "start_time": "2022-09-14T18:28:04.620Z"
   },
   {
    "duration": 0,
    "start_time": "2022-09-14T18:28:04.621Z"
   },
   {
    "duration": 0,
    "start_time": "2022-09-14T18:28:04.622Z"
   },
   {
    "duration": 0,
    "start_time": "2022-09-14T18:28:04.623Z"
   },
   {
    "duration": 0,
    "start_time": "2022-09-14T18:28:04.624Z"
   },
   {
    "duration": 0,
    "start_time": "2022-09-14T18:28:04.625Z"
   },
   {
    "duration": 0,
    "start_time": "2022-09-14T18:28:04.626Z"
   },
   {
    "duration": 0,
    "start_time": "2022-09-14T18:28:04.626Z"
   },
   {
    "duration": 0,
    "start_time": "2022-09-14T18:28:04.627Z"
   },
   {
    "duration": 0,
    "start_time": "2022-09-14T18:28:04.628Z"
   },
   {
    "duration": 0,
    "start_time": "2022-09-14T18:28:04.629Z"
   },
   {
    "duration": 0,
    "start_time": "2022-09-14T18:28:04.630Z"
   },
   {
    "duration": 0,
    "start_time": "2022-09-14T18:28:04.631Z"
   },
   {
    "duration": 0,
    "start_time": "2022-09-14T18:28:04.632Z"
   },
   {
    "duration": 742,
    "start_time": "2022-09-14T18:28:20.707Z"
   },
   {
    "duration": 24,
    "start_time": "2022-09-14T18:28:21.451Z"
   },
   {
    "duration": 26,
    "start_time": "2022-09-14T18:28:21.477Z"
   },
   {
    "duration": 8,
    "start_time": "2022-09-14T18:28:21.504Z"
   },
   {
    "duration": 16,
    "start_time": "2022-09-14T18:28:21.513Z"
   },
   {
    "duration": 8,
    "start_time": "2022-09-14T18:28:21.531Z"
   },
   {
    "duration": 4,
    "start_time": "2022-09-14T18:28:21.541Z"
   },
   {
    "duration": 9,
    "start_time": "2022-09-14T18:28:21.546Z"
   },
   {
    "duration": 23,
    "start_time": "2022-09-14T18:28:21.556Z"
   },
   {
    "duration": 35,
    "start_time": "2022-09-14T18:28:21.581Z"
   },
   {
    "duration": 24,
    "start_time": "2022-09-14T18:28:21.618Z"
   },
   {
    "duration": 5,
    "start_time": "2022-09-14T18:28:21.643Z"
   },
   {
    "duration": 24,
    "start_time": "2022-09-14T18:28:21.650Z"
   },
   {
    "duration": 15,
    "start_time": "2022-09-14T18:28:21.675Z"
   },
   {
    "duration": 11,
    "start_time": "2022-09-14T18:28:21.691Z"
   },
   {
    "duration": 5,
    "start_time": "2022-09-14T18:28:21.703Z"
   },
   {
    "duration": 5,
    "start_time": "2022-09-14T18:28:21.710Z"
   },
   {
    "duration": 9,
    "start_time": "2022-09-14T18:28:21.717Z"
   },
   {
    "duration": 22,
    "start_time": "2022-09-14T18:28:21.727Z"
   },
   {
    "duration": 17,
    "start_time": "2022-09-14T18:28:21.751Z"
   },
   {
    "duration": 5,
    "start_time": "2022-09-14T18:28:21.769Z"
   },
   {
    "duration": 6,
    "start_time": "2022-09-14T18:28:21.775Z"
   },
   {
    "duration": 25,
    "start_time": "2022-09-14T18:28:21.783Z"
   },
   {
    "duration": 4,
    "start_time": "2022-09-14T18:28:21.810Z"
   },
   {
    "duration": 13,
    "start_time": "2022-09-14T18:28:21.815Z"
   },
   {
    "duration": 15,
    "start_time": "2022-09-14T18:28:21.829Z"
   },
   {
    "duration": 9,
    "start_time": "2022-09-14T18:28:21.845Z"
   },
   {
    "duration": 3,
    "start_time": "2022-09-14T18:28:21.858Z"
   },
   {
    "duration": 6,
    "start_time": "2022-09-14T18:28:21.862Z"
   },
   {
    "duration": 44,
    "start_time": "2022-09-14T18:28:21.870Z"
   },
   {
    "duration": 4,
    "start_time": "2022-09-14T18:28:21.915Z"
   },
   {
    "duration": 6,
    "start_time": "2022-09-14T18:28:21.920Z"
   },
   {
    "duration": 98,
    "start_time": "2022-09-14T18:28:21.928Z"
   },
   {
    "duration": 0,
    "start_time": "2022-09-14T18:28:22.028Z"
   },
   {
    "duration": 0,
    "start_time": "2022-09-14T18:28:22.029Z"
   },
   {
    "duration": 0,
    "start_time": "2022-09-14T18:28:22.030Z"
   },
   {
    "duration": 0,
    "start_time": "2022-09-14T18:28:22.031Z"
   },
   {
    "duration": 0,
    "start_time": "2022-09-14T18:28:22.032Z"
   },
   {
    "duration": 0,
    "start_time": "2022-09-14T18:28:22.033Z"
   },
   {
    "duration": 0,
    "start_time": "2022-09-14T18:28:22.034Z"
   },
   {
    "duration": 0,
    "start_time": "2022-09-14T18:28:22.035Z"
   },
   {
    "duration": 0,
    "start_time": "2022-09-14T18:28:22.037Z"
   },
   {
    "duration": 0,
    "start_time": "2022-09-14T18:28:22.038Z"
   },
   {
    "duration": 0,
    "start_time": "2022-09-14T18:28:22.039Z"
   },
   {
    "duration": 0,
    "start_time": "2022-09-14T18:28:22.040Z"
   },
   {
    "duration": 0,
    "start_time": "2022-09-14T18:28:22.041Z"
   },
   {
    "duration": 0,
    "start_time": "2022-09-14T18:28:22.043Z"
   },
   {
    "duration": 0,
    "start_time": "2022-09-14T18:28:22.044Z"
   },
   {
    "duration": 0,
    "start_time": "2022-09-14T18:28:22.045Z"
   },
   {
    "duration": 0,
    "start_time": "2022-09-14T18:28:22.046Z"
   },
   {
    "duration": 0,
    "start_time": "2022-09-14T18:28:22.047Z"
   },
   {
    "duration": 0,
    "start_time": "2022-09-14T18:28:22.048Z"
   },
   {
    "duration": 0,
    "start_time": "2022-09-14T18:28:22.049Z"
   },
   {
    "duration": 0,
    "start_time": "2022-09-14T18:28:22.050Z"
   },
   {
    "duration": 0,
    "start_time": "2022-09-14T18:28:22.051Z"
   },
   {
    "duration": 0,
    "start_time": "2022-09-14T18:28:22.053Z"
   },
   {
    "duration": 0,
    "start_time": "2022-09-14T18:28:22.054Z"
   },
   {
    "duration": 0,
    "start_time": "2022-09-14T18:28:22.100Z"
   },
   {
    "duration": 0,
    "start_time": "2022-09-14T18:28:22.102Z"
   },
   {
    "duration": 0,
    "start_time": "2022-09-14T18:28:22.103Z"
   },
   {
    "duration": 0,
    "start_time": "2022-09-14T18:28:22.104Z"
   },
   {
    "duration": 0,
    "start_time": "2022-09-14T18:28:22.105Z"
   },
   {
    "duration": 0,
    "start_time": "2022-09-14T18:28:22.106Z"
   },
   {
    "duration": 0,
    "start_time": "2022-09-14T18:28:22.106Z"
   },
   {
    "duration": 0,
    "start_time": "2022-09-14T18:28:22.108Z"
   },
   {
    "duration": 0,
    "start_time": "2022-09-14T18:28:22.108Z"
   },
   {
    "duration": 0,
    "start_time": "2022-09-14T18:28:22.110Z"
   },
   {
    "duration": 0,
    "start_time": "2022-09-14T18:28:22.111Z"
   },
   {
    "duration": 0,
    "start_time": "2022-09-14T18:28:22.112Z"
   },
   {
    "duration": 0,
    "start_time": "2022-09-14T18:28:22.113Z"
   },
   {
    "duration": 0,
    "start_time": "2022-09-14T18:28:22.113Z"
   },
   {
    "duration": 0,
    "start_time": "2022-09-14T18:28:22.114Z"
   },
   {
    "duration": 0,
    "start_time": "2022-09-14T18:28:22.115Z"
   },
   {
    "duration": 0,
    "start_time": "2022-09-14T18:28:22.116Z"
   },
   {
    "duration": 0,
    "start_time": "2022-09-14T18:28:22.117Z"
   },
   {
    "duration": 0,
    "start_time": "2022-09-14T18:28:22.118Z"
   },
   {
    "duration": 0,
    "start_time": "2022-09-14T18:28:22.119Z"
   },
   {
    "duration": 0,
    "start_time": "2022-09-14T18:28:22.120Z"
   },
   {
    "duration": 0,
    "start_time": "2022-09-14T18:28:22.121Z"
   },
   {
    "duration": 0,
    "start_time": "2022-09-14T18:28:22.122Z"
   },
   {
    "duration": 0,
    "start_time": "2022-09-14T18:28:22.123Z"
   },
   {
    "duration": 0,
    "start_time": "2022-09-14T18:28:22.124Z"
   },
   {
    "duration": 1,
    "start_time": "2022-09-14T18:28:22.125Z"
   },
   {
    "duration": 0,
    "start_time": "2022-09-14T18:28:22.126Z"
   },
   {
    "duration": 0,
    "start_time": "2022-09-14T18:28:22.127Z"
   },
   {
    "duration": 0,
    "start_time": "2022-09-14T18:28:22.128Z"
   },
   {
    "duration": 0,
    "start_time": "2022-09-14T18:28:22.129Z"
   },
   {
    "duration": 16,
    "start_time": "2022-09-14T18:28:33.260Z"
   },
   {
    "duration": 741,
    "start_time": "2022-09-14T18:29:25.218Z"
   },
   {
    "duration": 24,
    "start_time": "2022-09-14T18:29:25.960Z"
   },
   {
    "duration": 22,
    "start_time": "2022-09-14T18:29:25.985Z"
   },
   {
    "duration": 15,
    "start_time": "2022-09-14T18:29:26.011Z"
   },
   {
    "duration": 13,
    "start_time": "2022-09-14T18:29:26.028Z"
   },
   {
    "duration": 22,
    "start_time": "2022-09-14T18:29:26.042Z"
   },
   {
    "duration": 10,
    "start_time": "2022-09-14T18:29:26.065Z"
   },
   {
    "duration": 21,
    "start_time": "2022-09-14T18:29:26.077Z"
   },
   {
    "duration": 30,
    "start_time": "2022-09-14T18:29:26.099Z"
   },
   {
    "duration": 29,
    "start_time": "2022-09-14T18:29:26.131Z"
   },
   {
    "duration": 40,
    "start_time": "2022-09-14T18:29:26.162Z"
   },
   {
    "duration": 8,
    "start_time": "2022-09-14T18:29:26.203Z"
   },
   {
    "duration": 28,
    "start_time": "2022-09-14T18:29:26.213Z"
   },
   {
    "duration": 10,
    "start_time": "2022-09-14T18:29:26.242Z"
   },
   {
    "duration": 24,
    "start_time": "2022-09-14T18:29:26.254Z"
   },
   {
    "duration": 15,
    "start_time": "2022-09-14T18:29:26.279Z"
   },
   {
    "duration": 23,
    "start_time": "2022-09-14T18:29:26.295Z"
   },
   {
    "duration": 24,
    "start_time": "2022-09-14T18:29:26.321Z"
   },
   {
    "duration": 36,
    "start_time": "2022-09-14T18:29:26.347Z"
   },
   {
    "duration": 30,
    "start_time": "2022-09-14T18:29:26.384Z"
   },
   {
    "duration": 17,
    "start_time": "2022-09-14T18:29:26.416Z"
   },
   {
    "duration": 16,
    "start_time": "2022-09-14T18:29:26.435Z"
   },
   {
    "duration": 25,
    "start_time": "2022-09-14T18:29:26.453Z"
   },
   {
    "duration": 5,
    "start_time": "2022-09-14T18:29:26.479Z"
   },
   {
    "duration": 17,
    "start_time": "2022-09-14T18:29:26.485Z"
   },
   {
    "duration": 24,
    "start_time": "2022-09-14T18:29:26.503Z"
   },
   {
    "duration": 8,
    "start_time": "2022-09-14T18:29:26.529Z"
   },
   {
    "duration": 3,
    "start_time": "2022-09-14T18:29:26.542Z"
   },
   {
    "duration": 8,
    "start_time": "2022-09-14T18:29:26.547Z"
   },
   {
    "duration": 23,
    "start_time": "2022-09-14T18:29:26.556Z"
   },
   {
    "duration": 4,
    "start_time": "2022-09-14T18:29:26.581Z"
   },
   {
    "duration": 18,
    "start_time": "2022-09-14T18:29:26.586Z"
   },
   {
    "duration": 117,
    "start_time": "2022-09-14T18:29:26.607Z"
   },
   {
    "duration": 0,
    "start_time": "2022-09-14T18:29:26.726Z"
   },
   {
    "duration": 0,
    "start_time": "2022-09-14T18:29:26.727Z"
   },
   {
    "duration": 0,
    "start_time": "2022-09-14T18:29:26.728Z"
   },
   {
    "duration": 0,
    "start_time": "2022-09-14T18:29:26.729Z"
   },
   {
    "duration": 0,
    "start_time": "2022-09-14T18:29:26.731Z"
   },
   {
    "duration": 0,
    "start_time": "2022-09-14T18:29:26.732Z"
   },
   {
    "duration": 0,
    "start_time": "2022-09-14T18:29:26.733Z"
   },
   {
    "duration": 0,
    "start_time": "2022-09-14T18:29:26.734Z"
   },
   {
    "duration": 0,
    "start_time": "2022-09-14T18:29:26.736Z"
   },
   {
    "duration": 0,
    "start_time": "2022-09-14T18:29:26.737Z"
   },
   {
    "duration": 0,
    "start_time": "2022-09-14T18:29:26.738Z"
   },
   {
    "duration": 0,
    "start_time": "2022-09-14T18:29:26.739Z"
   },
   {
    "duration": 0,
    "start_time": "2022-09-14T18:29:26.740Z"
   },
   {
    "duration": 0,
    "start_time": "2022-09-14T18:29:26.741Z"
   },
   {
    "duration": 0,
    "start_time": "2022-09-14T18:29:26.743Z"
   },
   {
    "duration": 0,
    "start_time": "2022-09-14T18:29:26.744Z"
   },
   {
    "duration": 0,
    "start_time": "2022-09-14T18:29:26.745Z"
   },
   {
    "duration": 0,
    "start_time": "2022-09-14T18:29:26.746Z"
   },
   {
    "duration": 0,
    "start_time": "2022-09-14T18:29:26.748Z"
   },
   {
    "duration": 0,
    "start_time": "2022-09-14T18:29:26.749Z"
   },
   {
    "duration": 0,
    "start_time": "2022-09-14T18:29:26.750Z"
   },
   {
    "duration": 0,
    "start_time": "2022-09-14T18:29:26.751Z"
   },
   {
    "duration": 0,
    "start_time": "2022-09-14T18:29:26.753Z"
   },
   {
    "duration": 0,
    "start_time": "2022-09-14T18:29:26.754Z"
   },
   {
    "duration": 0,
    "start_time": "2022-09-14T18:29:26.755Z"
   },
   {
    "duration": 0,
    "start_time": "2022-09-14T18:29:26.756Z"
   },
   {
    "duration": 0,
    "start_time": "2022-09-14T18:29:26.801Z"
   },
   {
    "duration": 0,
    "start_time": "2022-09-14T18:29:26.802Z"
   },
   {
    "duration": 0,
    "start_time": "2022-09-14T18:29:26.803Z"
   },
   {
    "duration": 0,
    "start_time": "2022-09-14T18:29:26.804Z"
   },
   {
    "duration": 0,
    "start_time": "2022-09-14T18:29:26.807Z"
   },
   {
    "duration": 0,
    "start_time": "2022-09-14T18:29:26.810Z"
   },
   {
    "duration": 0,
    "start_time": "2022-09-14T18:29:26.813Z"
   },
   {
    "duration": 0,
    "start_time": "2022-09-14T18:29:26.813Z"
   },
   {
    "duration": 0,
    "start_time": "2022-09-14T18:29:26.814Z"
   },
   {
    "duration": 0,
    "start_time": "2022-09-14T18:29:26.817Z"
   },
   {
    "duration": 0,
    "start_time": "2022-09-14T18:29:26.818Z"
   },
   {
    "duration": 0,
    "start_time": "2022-09-14T18:29:26.819Z"
   },
   {
    "duration": 0,
    "start_time": "2022-09-14T18:29:26.820Z"
   },
   {
    "duration": 1,
    "start_time": "2022-09-14T18:29:26.820Z"
   },
   {
    "duration": 0,
    "start_time": "2022-09-14T18:29:26.822Z"
   },
   {
    "duration": 0,
    "start_time": "2022-09-14T18:29:26.823Z"
   },
   {
    "duration": 0,
    "start_time": "2022-09-14T18:29:26.824Z"
   },
   {
    "duration": 0,
    "start_time": "2022-09-14T18:29:26.824Z"
   },
   {
    "duration": 0,
    "start_time": "2022-09-14T18:29:26.825Z"
   },
   {
    "duration": 0,
    "start_time": "2022-09-14T18:29:26.828Z"
   },
   {
    "duration": 0,
    "start_time": "2022-09-14T18:29:26.829Z"
   },
   {
    "duration": 0,
    "start_time": "2022-09-14T18:29:26.830Z"
   },
   {
    "duration": 0,
    "start_time": "2022-09-14T18:29:26.831Z"
   },
   {
    "duration": 0,
    "start_time": "2022-09-14T18:29:26.832Z"
   },
   {
    "duration": 0,
    "start_time": "2022-09-14T18:29:26.833Z"
   },
   {
    "duration": 0,
    "start_time": "2022-09-14T18:29:26.834Z"
   },
   {
    "duration": 0,
    "start_time": "2022-09-14T18:29:26.835Z"
   },
   {
    "duration": 0,
    "start_time": "2022-09-14T18:29:26.836Z"
   },
   {
    "duration": 847,
    "start_time": "2022-09-14T18:30:25.471Z"
   },
   {
    "duration": 26,
    "start_time": "2022-09-14T18:30:26.321Z"
   },
   {
    "duration": 13,
    "start_time": "2022-09-14T18:30:26.349Z"
   },
   {
    "duration": 7,
    "start_time": "2022-09-14T18:30:26.363Z"
   },
   {
    "duration": 9,
    "start_time": "2022-09-14T18:30:26.372Z"
   },
   {
    "duration": 16,
    "start_time": "2022-09-14T18:30:26.401Z"
   },
   {
    "duration": 9,
    "start_time": "2022-09-14T18:30:26.419Z"
   },
   {
    "duration": 8,
    "start_time": "2022-09-14T18:30:26.429Z"
   },
   {
    "duration": 17,
    "start_time": "2022-09-14T18:30:26.439Z"
   },
   {
    "duration": 25,
    "start_time": "2022-09-14T18:30:26.458Z"
   },
   {
    "duration": 36,
    "start_time": "2022-09-14T18:30:26.502Z"
   },
   {
    "duration": 5,
    "start_time": "2022-09-14T18:30:26.539Z"
   },
   {
    "duration": 9,
    "start_time": "2022-09-14T18:30:26.546Z"
   },
   {
    "duration": 8,
    "start_time": "2022-09-14T18:30:26.556Z"
   },
   {
    "duration": 5,
    "start_time": "2022-09-14T18:30:26.565Z"
   },
   {
    "duration": 5,
    "start_time": "2022-09-14T18:30:26.571Z"
   },
   {
    "duration": 28,
    "start_time": "2022-09-14T18:30:26.577Z"
   },
   {
    "duration": 17,
    "start_time": "2022-09-14T18:30:26.608Z"
   },
   {
    "duration": 24,
    "start_time": "2022-09-14T18:30:26.626Z"
   },
   {
    "duration": 6,
    "start_time": "2022-09-14T18:30:26.652Z"
   },
   {
    "duration": 6,
    "start_time": "2022-09-14T18:30:26.659Z"
   },
   {
    "duration": 8,
    "start_time": "2022-09-14T18:30:26.666Z"
   },
   {
    "duration": 42,
    "start_time": "2022-09-14T18:30:26.676Z"
   },
   {
    "duration": 11,
    "start_time": "2022-09-14T18:30:26.721Z"
   },
   {
    "duration": 14,
    "start_time": "2022-09-14T18:30:26.734Z"
   },
   {
    "duration": 17,
    "start_time": "2022-09-14T18:30:26.750Z"
   },
   {
    "duration": 9,
    "start_time": "2022-09-14T18:30:26.768Z"
   },
   {
    "duration": 4,
    "start_time": "2022-09-14T18:30:26.800Z"
   },
   {
    "duration": 10,
    "start_time": "2022-09-14T18:30:26.811Z"
   },
   {
    "duration": 23,
    "start_time": "2022-09-14T18:30:26.825Z"
   },
   {
    "duration": 4,
    "start_time": "2022-09-14T18:30:26.849Z"
   },
   {
    "duration": 4,
    "start_time": "2022-09-14T18:30:26.855Z"
   },
   {
    "duration": 12,
    "start_time": "2022-09-14T18:30:26.861Z"
   },
   {
    "duration": 28,
    "start_time": "2022-09-14T18:30:26.874Z"
   },
   {
    "duration": 8,
    "start_time": "2022-09-14T18:30:26.906Z"
   },
   {
    "duration": 11,
    "start_time": "2022-09-14T18:30:26.917Z"
   },
   {
    "duration": 3,
    "start_time": "2022-09-14T18:30:26.930Z"
   },
   {
    "duration": 310,
    "start_time": "2022-09-14T18:30:26.935Z"
   },
   {
    "duration": 5,
    "start_time": "2022-09-14T18:30:27.247Z"
   },
   {
    "duration": 26,
    "start_time": "2022-09-14T18:30:27.253Z"
   },
   {
    "duration": 126,
    "start_time": "2022-09-14T18:30:27.281Z"
   },
   {
    "duration": 14,
    "start_time": "2022-09-14T18:30:27.410Z"
   },
   {
    "duration": 324,
    "start_time": "2022-09-14T18:30:27.426Z"
   },
   {
    "duration": 120,
    "start_time": "2022-09-14T18:30:27.752Z"
   },
   {
    "duration": 8,
    "start_time": "2022-09-14T18:30:27.873Z"
   },
   {
    "duration": 245,
    "start_time": "2022-09-14T18:30:27.883Z"
   },
   {
    "duration": 111,
    "start_time": "2022-09-14T18:30:28.130Z"
   },
   {
    "duration": 8,
    "start_time": "2022-09-14T18:30:28.242Z"
   },
   {
    "duration": 198,
    "start_time": "2022-09-14T18:30:28.252Z"
   },
   {
    "duration": 4,
    "start_time": "2022-09-14T18:30:28.452Z"
   },
   {
    "duration": 144,
    "start_time": "2022-09-14T18:30:28.457Z"
   },
   {
    "duration": 14,
    "start_time": "2022-09-14T18:30:28.603Z"
   },
   {
    "duration": 214,
    "start_time": "2022-09-14T18:30:28.619Z"
   },
   {
    "duration": 7,
    "start_time": "2022-09-14T18:30:28.834Z"
   },
   {
    "duration": 149,
    "start_time": "2022-09-14T18:30:28.843Z"
   },
   {
    "duration": 14,
    "start_time": "2022-09-14T18:30:29.000Z"
   },
   {
    "duration": 235,
    "start_time": "2022-09-14T18:30:29.016Z"
   },
   {
    "duration": 111,
    "start_time": "2022-09-14T18:30:29.253Z"
   },
   {
    "duration": 7,
    "start_time": "2022-09-14T18:30:29.366Z"
   },
   {
    "duration": 167,
    "start_time": "2022-09-14T18:30:29.375Z"
   },
   {
    "duration": 126,
    "start_time": "2022-09-14T18:30:29.543Z"
   },
   {
    "duration": 8,
    "start_time": "2022-09-14T18:30:29.671Z"
   },
   {
    "duration": 167,
    "start_time": "2022-09-14T18:30:29.681Z"
   },
   {
    "duration": 8,
    "start_time": "2022-09-14T18:30:29.850Z"
   },
   {
    "duration": 178,
    "start_time": "2022-09-14T18:30:29.859Z"
   },
   {
    "duration": 8,
    "start_time": "2022-09-14T18:30:30.039Z"
   },
   {
    "duration": 181,
    "start_time": "2022-09-14T18:30:30.048Z"
   },
   {
    "duration": 9,
    "start_time": "2022-09-14T18:30:30.231Z"
   },
   {
    "duration": 188,
    "start_time": "2022-09-14T18:30:30.242Z"
   },
   {
    "duration": 131,
    "start_time": "2022-09-14T18:30:30.431Z"
   },
   {
    "duration": 180,
    "start_time": "2022-09-14T18:30:30.564Z"
   },
   {
    "duration": 27,
    "start_time": "2022-09-14T18:30:30.746Z"
   },
   {
    "duration": 132,
    "start_time": "2022-09-14T18:30:30.775Z"
   },
   {
    "duration": 12,
    "start_time": "2022-09-14T18:30:30.909Z"
   },
   {
    "duration": 32,
    "start_time": "2022-09-14T18:30:30.922Z"
   },
   {
    "duration": 532,
    "start_time": "2022-09-14T18:30:30.955Z"
   },
   {
    "duration": 238,
    "start_time": "2022-09-14T18:30:31.489Z"
   },
   {
    "duration": 158,
    "start_time": "2022-09-14T18:30:31.729Z"
   },
   {
    "duration": 152,
    "start_time": "2022-09-14T18:30:31.888Z"
   },
   {
    "duration": 174,
    "start_time": "2022-09-14T18:30:32.042Z"
   },
   {
    "duration": 159,
    "start_time": "2022-09-14T18:30:32.218Z"
   },
   {
    "duration": 180,
    "start_time": "2022-09-14T18:30:32.382Z"
   },
   {
    "duration": 10,
    "start_time": "2022-09-14T18:30:32.564Z"
   },
   {
    "duration": 7,
    "start_time": "2022-09-14T18:30:32.576Z"
   },
   {
    "duration": 30,
    "start_time": "2022-09-14T18:30:32.584Z"
   },
   {
    "duration": 9,
    "start_time": "2022-09-14T18:30:32.616Z"
   },
   {
    "duration": 23,
    "start_time": "2022-09-14T18:30:32.627Z"
   },
   {
    "duration": 47,
    "start_time": "2022-09-15T04:19:11.448Z"
   },
   {
    "duration": 1053,
    "start_time": "2022-09-15T04:19:14.500Z"
   },
   {
    "duration": 25,
    "start_time": "2022-09-15T04:19:15.555Z"
   },
   {
    "duration": 16,
    "start_time": "2022-09-15T04:19:15.581Z"
   },
   {
    "duration": 9,
    "start_time": "2022-09-15T04:19:15.599Z"
   },
   {
    "duration": 10,
    "start_time": "2022-09-15T04:19:15.609Z"
   },
   {
    "duration": 32,
    "start_time": "2022-09-15T04:19:15.621Z"
   },
   {
    "duration": 3,
    "start_time": "2022-09-15T04:19:15.654Z"
   },
   {
    "duration": 8,
    "start_time": "2022-09-15T04:19:15.658Z"
   },
   {
    "duration": 13,
    "start_time": "2022-09-15T04:19:15.667Z"
   },
   {
    "duration": 24,
    "start_time": "2022-09-15T04:19:15.682Z"
   },
   {
    "duration": 49,
    "start_time": "2022-09-15T04:19:15.707Z"
   },
   {
    "duration": 5,
    "start_time": "2022-09-15T04:19:15.758Z"
   },
   {
    "duration": 8,
    "start_time": "2022-09-15T04:19:15.764Z"
   },
   {
    "duration": 11,
    "start_time": "2022-09-15T04:19:15.774Z"
   },
   {
    "duration": 6,
    "start_time": "2022-09-15T04:19:15.786Z"
   },
   {
    "duration": 6,
    "start_time": "2022-09-15T04:19:15.793Z"
   },
   {
    "duration": 9,
    "start_time": "2022-09-15T04:19:15.800Z"
   },
   {
    "duration": 8,
    "start_time": "2022-09-15T04:19:15.810Z"
   },
   {
    "duration": 41,
    "start_time": "2022-09-15T04:19:15.820Z"
   },
   {
    "duration": 6,
    "start_time": "2022-09-15T04:19:15.863Z"
   },
   {
    "duration": 7,
    "start_time": "2022-09-15T04:19:15.870Z"
   },
   {
    "duration": 4,
    "start_time": "2022-09-15T04:19:15.879Z"
   },
   {
    "duration": 13,
    "start_time": "2022-09-15T04:19:15.884Z"
   },
   {
    "duration": 5,
    "start_time": "2022-09-15T04:19:15.899Z"
   },
   {
    "duration": 15,
    "start_time": "2022-09-15T04:19:15.905Z"
   },
   {
    "duration": 15,
    "start_time": "2022-09-15T04:19:15.947Z"
   },
   {
    "duration": 8,
    "start_time": "2022-09-15T04:19:15.963Z"
   },
   {
    "duration": 4,
    "start_time": "2022-09-15T04:19:15.975Z"
   },
   {
    "duration": 6,
    "start_time": "2022-09-15T04:19:15.980Z"
   },
   {
    "duration": 22,
    "start_time": "2022-09-15T04:19:15.988Z"
   },
   {
    "duration": 3,
    "start_time": "2022-09-15T04:19:16.012Z"
   },
   {
    "duration": 33,
    "start_time": "2022-09-15T04:19:16.017Z"
   },
   {
    "duration": 13,
    "start_time": "2022-09-15T04:19:16.051Z"
   },
   {
    "duration": 6,
    "start_time": "2022-09-15T04:19:16.065Z"
   },
   {
    "duration": 5,
    "start_time": "2022-09-15T04:19:16.073Z"
   },
   {
    "duration": 6,
    "start_time": "2022-09-15T04:19:16.079Z"
   },
   {
    "duration": 4,
    "start_time": "2022-09-15T04:19:16.087Z"
   },
   {
    "duration": 325,
    "start_time": "2022-09-15T04:19:16.092Z"
   },
   {
    "duration": 5,
    "start_time": "2022-09-15T04:19:16.419Z"
   },
   {
    "duration": 33,
    "start_time": "2022-09-15T04:19:16.425Z"
   },
   {
    "duration": 161,
    "start_time": "2022-09-15T04:19:16.459Z"
   },
   {
    "duration": 10,
    "start_time": "2022-09-15T04:19:16.622Z"
   },
   {
    "duration": 266,
    "start_time": "2022-09-15T04:19:16.646Z"
   },
   {
    "duration": 122,
    "start_time": "2022-09-15T04:19:16.913Z"
   },
   {
    "duration": 16,
    "start_time": "2022-09-15T04:19:17.037Z"
   },
   {
    "duration": 222,
    "start_time": "2022-09-15T04:19:17.055Z"
   },
   {
    "duration": 112,
    "start_time": "2022-09-15T04:19:17.278Z"
   },
   {
    "duration": 8,
    "start_time": "2022-09-15T04:19:17.392Z"
   },
   {
    "duration": 180,
    "start_time": "2022-09-15T04:19:17.402Z"
   },
   {
    "duration": 4,
    "start_time": "2022-09-15T04:19:17.584Z"
   },
   {
    "duration": 126,
    "start_time": "2022-09-15T04:19:17.589Z"
   },
   {
    "duration": 8,
    "start_time": "2022-09-15T04:19:17.717Z"
   },
   {
    "duration": 208,
    "start_time": "2022-09-15T04:19:17.727Z"
   },
   {
    "duration": 16,
    "start_time": "2022-09-15T04:19:17.937Z"
   },
   {
    "duration": 225,
    "start_time": "2022-09-15T04:19:17.954Z"
   },
   {
    "duration": 9,
    "start_time": "2022-09-15T04:19:18.181Z"
   },
   {
    "duration": 157,
    "start_time": "2022-09-15T04:19:18.191Z"
   },
   {
    "duration": 108,
    "start_time": "2022-09-15T04:19:18.350Z"
   },
   {
    "duration": 8,
    "start_time": "2022-09-15T04:19:18.460Z"
   },
   {
    "duration": 142,
    "start_time": "2022-09-15T04:19:18.469Z"
   },
   {
    "duration": 123,
    "start_time": "2022-09-15T04:19:18.613Z"
   },
   {
    "duration": 9,
    "start_time": "2022-09-15T04:19:18.738Z"
   },
   {
    "duration": 161,
    "start_time": "2022-09-15T04:19:18.749Z"
   },
   {
    "duration": 10,
    "start_time": "2022-09-15T04:19:18.911Z"
   },
   {
    "duration": 179,
    "start_time": "2022-09-15T04:19:18.922Z"
   },
   {
    "duration": 9,
    "start_time": "2022-09-15T04:19:19.102Z"
   },
   {
    "duration": 165,
    "start_time": "2022-09-15T04:19:19.113Z"
   },
   {
    "duration": 9,
    "start_time": "2022-09-15T04:19:19.280Z"
   },
   {
    "duration": 167,
    "start_time": "2022-09-15T04:19:19.290Z"
   },
   {
    "duration": 114,
    "start_time": "2022-09-15T04:19:19.459Z"
   },
   {
    "duration": 143,
    "start_time": "2022-09-15T04:19:19.575Z"
   },
   {
    "duration": 30,
    "start_time": "2022-09-15T04:19:19.720Z"
   },
   {
    "duration": 204,
    "start_time": "2022-09-15T04:19:19.752Z"
   },
   {
    "duration": 9,
    "start_time": "2022-09-15T04:19:19.957Z"
   },
   {
    "duration": 16,
    "start_time": "2022-09-15T04:19:19.967Z"
   },
   {
    "duration": 246,
    "start_time": "2022-09-15T04:19:19.984Z"
   },
   {
    "duration": 226,
    "start_time": "2022-09-15T04:19:20.232Z"
   },
   {
    "duration": 156,
    "start_time": "2022-09-15T04:19:20.460Z"
   },
   {
    "duration": 149,
    "start_time": "2022-09-15T04:19:20.617Z"
   },
   {
    "duration": 174,
    "start_time": "2022-09-15T04:19:20.767Z"
   },
   {
    "duration": 154,
    "start_time": "2022-09-15T04:19:20.946Z"
   },
   {
    "duration": 159,
    "start_time": "2022-09-15T04:19:21.105Z"
   },
   {
    "duration": 10,
    "start_time": "2022-09-15T04:19:21.266Z"
   },
   {
    "duration": 6,
    "start_time": "2022-09-15T04:19:21.277Z"
   },
   {
    "duration": 13,
    "start_time": "2022-09-15T04:19:21.284Z"
   },
   {
    "duration": 6,
    "start_time": "2022-09-15T04:19:21.299Z"
   },
   {
    "duration": 98,
    "start_time": "2022-09-15T04:19:21.307Z"
   },
   {
    "duration": 0,
    "start_time": "2022-09-15T04:19:21.406Z"
   },
   {
    "duration": 19,
    "start_time": "2022-09-15T04:19:36.576Z"
   },
   {
    "duration": 16,
    "start_time": "2022-09-15T04:19:58.511Z"
   },
   {
    "duration": 2,
    "start_time": "2022-09-15T04:20:03.488Z"
   },
   {
    "duration": 27,
    "start_time": "2022-09-15T04:20:15.119Z"
   },
   {
    "duration": 28,
    "start_time": "2022-09-15T04:20:32.152Z"
   },
   {
    "duration": 22,
    "start_time": "2022-09-15T04:20:52.671Z"
   },
   {
    "duration": 8,
    "start_time": "2022-09-15T04:21:05.287Z"
   },
   {
    "duration": 37,
    "start_time": "2022-09-15T04:21:12.040Z"
   },
   {
    "duration": 12,
    "start_time": "2022-09-15T04:21:36.222Z"
   },
   {
    "duration": 5,
    "start_time": "2022-09-15T04:21:47.213Z"
   },
   {
    "duration": 1144,
    "start_time": "2022-09-15T04:23:22.237Z"
   },
   {
    "duration": 0,
    "start_time": "2022-09-15T04:23:23.383Z"
   },
   {
    "duration": 11,
    "start_time": "2022-09-15T04:23:32.380Z"
   },
   {
    "duration": 22,
    "start_time": "2022-09-15T04:23:33.749Z"
   },
   {
    "duration": 9,
    "start_time": "2022-09-15T04:26:31.482Z"
   },
   {
    "duration": 5,
    "start_time": "2022-09-15T04:27:55.178Z"
   },
   {
    "duration": 6,
    "start_time": "2022-09-15T04:28:05.801Z"
   },
   {
    "duration": 6,
    "start_time": "2022-09-15T04:28:16.801Z"
   },
   {
    "duration": 5,
    "start_time": "2022-09-15T04:28:21.889Z"
   },
   {
    "duration": 4,
    "start_time": "2022-09-15T04:32:07.582Z"
   },
   {
    "duration": 107,
    "start_time": "2022-09-15T04:33:28.966Z"
   },
   {
    "duration": 697,
    "start_time": "2022-09-15T04:33:32.789Z"
   },
   {
    "duration": 3,
    "start_time": "2022-09-15T04:33:37.366Z"
   },
   {
    "duration": 7,
    "start_time": "2022-09-15T04:33:55.750Z"
   },
   {
    "duration": 8,
    "start_time": "2022-09-15T04:33:58.166Z"
   },
   {
    "duration": 119,
    "start_time": "2022-09-15T04:34:26.645Z"
   },
   {
    "duration": 8,
    "start_time": "2022-09-15T04:52:26.121Z"
   },
   {
    "duration": 172,
    "start_time": "2022-09-15T04:52:49.865Z"
   },
   {
    "duration": 8,
    "start_time": "2022-09-15T04:53:00.673Z"
   },
   {
    "duration": 4,
    "start_time": "2022-09-15T04:57:39.573Z"
   },
   {
    "duration": 3,
    "start_time": "2022-09-15T04:57:52.749Z"
   },
   {
    "duration": 730,
    "start_time": "2022-09-15T04:57:58.550Z"
   },
   {
    "duration": 26,
    "start_time": "2022-09-15T04:57:59.282Z"
   },
   {
    "duration": 15,
    "start_time": "2022-09-15T04:57:59.310Z"
   },
   {
    "duration": 19,
    "start_time": "2022-09-15T04:57:59.328Z"
   },
   {
    "duration": 10,
    "start_time": "2022-09-15T04:57:59.349Z"
   },
   {
    "duration": 10,
    "start_time": "2022-09-15T04:57:59.360Z"
   },
   {
    "duration": 4,
    "start_time": "2022-09-15T04:57:59.372Z"
   },
   {
    "duration": 17,
    "start_time": "2022-09-15T04:57:59.378Z"
   },
   {
    "duration": 34,
    "start_time": "2022-09-15T04:57:59.396Z"
   },
   {
    "duration": 31,
    "start_time": "2022-09-15T04:57:59.432Z"
   },
   {
    "duration": 29,
    "start_time": "2022-09-15T04:57:59.465Z"
   },
   {
    "duration": 11,
    "start_time": "2022-09-15T04:57:59.496Z"
   },
   {
    "duration": 10,
    "start_time": "2022-09-15T04:57:59.509Z"
   },
   {
    "duration": 8,
    "start_time": "2022-09-15T04:57:59.521Z"
   },
   {
    "duration": 16,
    "start_time": "2022-09-15T04:57:59.531Z"
   },
   {
    "duration": 11,
    "start_time": "2022-09-15T04:57:59.548Z"
   },
   {
    "duration": 22,
    "start_time": "2022-09-15T04:57:59.560Z"
   },
   {
    "duration": 22,
    "start_time": "2022-09-15T04:57:59.584Z"
   },
   {
    "duration": 30,
    "start_time": "2022-09-15T04:57:59.607Z"
   },
   {
    "duration": 13,
    "start_time": "2022-09-15T04:57:59.639Z"
   },
   {
    "duration": 8,
    "start_time": "2022-09-15T04:57:59.653Z"
   },
   {
    "duration": 7,
    "start_time": "2022-09-15T04:57:59.662Z"
   },
   {
    "duration": 17,
    "start_time": "2022-09-15T04:57:59.670Z"
   },
   {
    "duration": 11,
    "start_time": "2022-09-15T04:57:59.689Z"
   },
   {
    "duration": 21,
    "start_time": "2022-09-15T04:57:59.702Z"
   },
   {
    "duration": 26,
    "start_time": "2022-09-15T04:57:59.724Z"
   },
   {
    "duration": 15,
    "start_time": "2022-09-15T04:57:59.752Z"
   },
   {
    "duration": 7,
    "start_time": "2022-09-15T04:57:59.771Z"
   },
   {
    "duration": 11,
    "start_time": "2022-09-15T04:57:59.780Z"
   },
   {
    "duration": 35,
    "start_time": "2022-09-15T04:57:59.792Z"
   },
   {
    "duration": 4,
    "start_time": "2022-09-15T04:57:59.828Z"
   },
   {
    "duration": 7,
    "start_time": "2022-09-15T04:57:59.833Z"
   },
   {
    "duration": 12,
    "start_time": "2022-09-15T04:57:59.842Z"
   },
   {
    "duration": 5,
    "start_time": "2022-09-15T04:57:59.855Z"
   },
   {
    "duration": 10,
    "start_time": "2022-09-15T04:57:59.861Z"
   },
   {
    "duration": 6,
    "start_time": "2022-09-15T04:57:59.872Z"
   },
   {
    "duration": 9,
    "start_time": "2022-09-15T04:57:59.879Z"
   },
   {
    "duration": 273,
    "start_time": "2022-09-15T04:57:59.889Z"
   },
   {
    "duration": 4,
    "start_time": "2022-09-15T04:58:00.163Z"
   },
   {
    "duration": 47,
    "start_time": "2022-09-15T04:58:00.169Z"
   },
   {
    "duration": 115,
    "start_time": "2022-09-15T04:58:00.218Z"
   },
   {
    "duration": 13,
    "start_time": "2022-09-15T04:58:00.334Z"
   },
   {
    "duration": 276,
    "start_time": "2022-09-15T04:58:00.348Z"
   },
   {
    "duration": 120,
    "start_time": "2022-09-15T04:58:00.626Z"
   },
   {
    "duration": 8,
    "start_time": "2022-09-15T04:58:00.748Z"
   },
   {
    "duration": 219,
    "start_time": "2022-09-15T04:58:00.757Z"
   },
   {
    "duration": 106,
    "start_time": "2022-09-15T04:58:00.978Z"
   },
   {
    "duration": 8,
    "start_time": "2022-09-15T04:58:01.086Z"
   },
   {
    "duration": 189,
    "start_time": "2022-09-15T04:58:01.096Z"
   },
   {
    "duration": 4,
    "start_time": "2022-09-15T04:58:01.287Z"
   },
   {
    "duration": 148,
    "start_time": "2022-09-15T04:58:01.293Z"
   },
   {
    "duration": 10,
    "start_time": "2022-09-15T04:58:01.443Z"
   },
   {
    "duration": 205,
    "start_time": "2022-09-15T04:58:01.455Z"
   },
   {
    "duration": 7,
    "start_time": "2022-09-15T04:58:01.662Z"
   },
   {
    "duration": 153,
    "start_time": "2022-09-15T04:58:01.671Z"
   },
   {
    "duration": 9,
    "start_time": "2022-09-15T04:58:01.826Z"
   },
   {
    "duration": 230,
    "start_time": "2022-09-15T04:58:01.836Z"
   },
   {
    "duration": 108,
    "start_time": "2022-09-15T04:58:02.068Z"
   },
   {
    "duration": 7,
    "start_time": "2022-09-15T04:58:02.178Z"
   },
   {
    "duration": 139,
    "start_time": "2022-09-15T04:58:02.187Z"
   },
   {
    "duration": 119,
    "start_time": "2022-09-15T04:58:02.328Z"
   },
   {
    "duration": 9,
    "start_time": "2022-09-15T04:58:02.448Z"
   },
   {
    "duration": 154,
    "start_time": "2022-09-15T04:58:02.459Z"
   },
   {
    "duration": 9,
    "start_time": "2022-09-15T04:58:02.614Z"
   },
   {
    "duration": 180,
    "start_time": "2022-09-15T04:58:02.625Z"
   },
   {
    "duration": 9,
    "start_time": "2022-09-15T04:58:02.806Z"
   },
   {
    "duration": 168,
    "start_time": "2022-09-15T04:58:02.817Z"
   },
   {
    "duration": 9,
    "start_time": "2022-09-15T04:58:02.987Z"
   },
   {
    "duration": 172,
    "start_time": "2022-09-15T04:58:02.997Z"
   },
   {
    "duration": 123,
    "start_time": "2022-09-15T04:58:03.170Z"
   },
   {
    "duration": 154,
    "start_time": "2022-09-15T04:58:03.294Z"
   },
   {
    "duration": 28,
    "start_time": "2022-09-15T04:58:03.450Z"
   },
   {
    "duration": 143,
    "start_time": "2022-09-15T04:58:03.479Z"
   },
   {
    "duration": 10,
    "start_time": "2022-09-15T04:58:03.624Z"
   },
   {
    "duration": 25,
    "start_time": "2022-09-15T04:58:03.635Z"
   },
   {
    "duration": 338,
    "start_time": "2022-09-15T04:58:03.661Z"
   },
   {
    "duration": 221,
    "start_time": "2022-09-15T04:58:04.001Z"
   },
   {
    "duration": 164,
    "start_time": "2022-09-15T04:58:04.224Z"
   },
   {
    "duration": 152,
    "start_time": "2022-09-15T04:58:04.389Z"
   },
   {
    "duration": 172,
    "start_time": "2022-09-15T04:58:04.543Z"
   },
   {
    "duration": 158,
    "start_time": "2022-09-15T04:58:04.717Z"
   },
   {
    "duration": 158,
    "start_time": "2022-09-15T04:58:04.880Z"
   },
   {
    "duration": 18,
    "start_time": "2022-09-15T04:58:05.039Z"
   },
   {
    "duration": 9,
    "start_time": "2022-09-15T04:58:05.058Z"
   },
   {
    "duration": 18,
    "start_time": "2022-09-15T04:58:05.069Z"
   },
   {
    "duration": 10,
    "start_time": "2022-09-15T04:58:05.089Z"
   },
   {
    "duration": 12,
    "start_time": "2022-09-15T04:58:05.101Z"
   },
   {
    "duration": 7,
    "start_time": "2022-09-15T04:58:05.115Z"
   },
   {
    "duration": 7,
    "start_time": "2022-09-15T04:58:05.123Z"
   },
   {
    "duration": 115,
    "start_time": "2022-09-15T04:58:05.131Z"
   },
   {
    "duration": 9,
    "start_time": "2022-09-15T04:58:05.248Z"
   },
   {
    "duration": 6,
    "start_time": "2022-09-15T04:58:05.258Z"
   },
   {
    "duration": 43,
    "start_time": "2022-09-15T04:58:05.266Z"
   },
   {
    "duration": 41,
    "start_time": "2022-09-15T04:58:05.311Z"
   },
   {
    "duration": 7,
    "start_time": "2022-09-15T05:25:36.978Z"
   },
   {
    "duration": 5,
    "start_time": "2022-09-15T05:25:44.074Z"
   },
   {
    "duration": 1013,
    "start_time": "2022-09-15T13:18:25.031Z"
   },
   {
    "duration": 27,
    "start_time": "2022-09-15T13:18:26.046Z"
   },
   {
    "duration": 14,
    "start_time": "2022-09-15T13:18:26.074Z"
   },
   {
    "duration": 21,
    "start_time": "2022-09-15T13:18:26.091Z"
   },
   {
    "duration": 14,
    "start_time": "2022-09-15T13:18:26.113Z"
   },
   {
    "duration": 13,
    "start_time": "2022-09-15T13:18:26.129Z"
   },
   {
    "duration": 18,
    "start_time": "2022-09-15T13:18:26.144Z"
   },
   {
    "duration": 14,
    "start_time": "2022-09-15T13:18:26.164Z"
   },
   {
    "duration": 23,
    "start_time": "2022-09-15T13:18:26.180Z"
   },
   {
    "duration": 29,
    "start_time": "2022-09-15T13:18:26.205Z"
   },
   {
    "duration": 34,
    "start_time": "2022-09-15T13:18:26.235Z"
   },
   {
    "duration": 6,
    "start_time": "2022-09-15T13:18:26.271Z"
   },
   {
    "duration": 28,
    "start_time": "2022-09-15T13:18:26.278Z"
   },
   {
    "duration": 10,
    "start_time": "2022-09-15T13:18:26.309Z"
   },
   {
    "duration": 14,
    "start_time": "2022-09-15T13:18:26.321Z"
   },
   {
    "duration": 4,
    "start_time": "2022-09-15T13:18:26.336Z"
   },
   {
    "duration": 13,
    "start_time": "2022-09-15T13:18:26.341Z"
   },
   {
    "duration": 8,
    "start_time": "2022-09-15T13:18:26.356Z"
   },
   {
    "duration": 29,
    "start_time": "2022-09-15T13:18:26.365Z"
   },
   {
    "duration": 23,
    "start_time": "2022-09-15T13:18:26.395Z"
   },
   {
    "duration": 20,
    "start_time": "2022-09-15T13:18:26.419Z"
   },
   {
    "duration": 18,
    "start_time": "2022-09-15T13:18:26.440Z"
   },
   {
    "duration": 14,
    "start_time": "2022-09-15T13:18:26.459Z"
   },
   {
    "duration": 5,
    "start_time": "2022-09-15T13:18:26.475Z"
   },
   {
    "duration": 13,
    "start_time": "2022-09-15T13:18:26.481Z"
   },
   {
    "duration": 27,
    "start_time": "2022-09-15T13:18:26.496Z"
   },
   {
    "duration": 6,
    "start_time": "2022-09-15T13:18:26.524Z"
   },
   {
    "duration": 3,
    "start_time": "2022-09-15T13:18:26.535Z"
   },
   {
    "duration": 8,
    "start_time": "2022-09-15T13:18:26.539Z"
   },
   {
    "duration": 22,
    "start_time": "2022-09-15T13:18:26.548Z"
   },
   {
    "duration": 3,
    "start_time": "2022-09-15T13:18:26.572Z"
   },
   {
    "duration": 39,
    "start_time": "2022-09-15T13:18:26.576Z"
   },
   {
    "duration": 14,
    "start_time": "2022-09-15T13:18:26.616Z"
   },
   {
    "duration": 6,
    "start_time": "2022-09-15T13:18:26.632Z"
   },
   {
    "duration": 6,
    "start_time": "2022-09-15T13:18:26.639Z"
   },
   {
    "duration": 5,
    "start_time": "2022-09-15T13:18:26.647Z"
   },
   {
    "duration": 6,
    "start_time": "2022-09-15T13:18:26.654Z"
   },
   {
    "duration": 327,
    "start_time": "2022-09-15T13:18:26.662Z"
   },
   {
    "duration": 4,
    "start_time": "2022-09-15T13:18:26.991Z"
   },
   {
    "duration": 42,
    "start_time": "2022-09-15T13:18:26.997Z"
   },
   {
    "duration": 167,
    "start_time": "2022-09-15T13:18:27.041Z"
   },
   {
    "duration": 15,
    "start_time": "2022-09-15T13:18:27.209Z"
   },
   {
    "duration": 302,
    "start_time": "2022-09-15T13:18:27.225Z"
   },
   {
    "duration": 157,
    "start_time": "2022-09-15T13:18:27.529Z"
   },
   {
    "duration": 29,
    "start_time": "2022-09-15T13:18:27.689Z"
   },
   {
    "duration": 303,
    "start_time": "2022-09-15T13:18:27.722Z"
   },
   {
    "duration": 142,
    "start_time": "2022-09-15T13:18:28.028Z"
   },
   {
    "duration": 8,
    "start_time": "2022-09-15T13:18:28.171Z"
   },
   {
    "duration": 209,
    "start_time": "2022-09-15T13:18:28.181Z"
   },
   {
    "duration": 4,
    "start_time": "2022-09-15T13:18:28.392Z"
   },
   {
    "duration": 155,
    "start_time": "2022-09-15T13:18:28.397Z"
   },
   {
    "duration": 9,
    "start_time": "2022-09-15T13:18:28.553Z"
   },
   {
    "duration": 248,
    "start_time": "2022-09-15T13:18:28.564Z"
   },
   {
    "duration": 13,
    "start_time": "2022-09-15T13:18:28.813Z"
   },
   {
    "duration": 223,
    "start_time": "2022-09-15T13:18:28.827Z"
   },
   {
    "duration": 12,
    "start_time": "2022-09-15T13:18:29.052Z"
   },
   {
    "duration": 189,
    "start_time": "2022-09-15T13:18:29.067Z"
   },
   {
    "duration": 115,
    "start_time": "2022-09-15T13:18:29.257Z"
   },
   {
    "duration": 7,
    "start_time": "2022-09-15T13:18:29.374Z"
   },
   {
    "duration": 164,
    "start_time": "2022-09-15T13:18:29.383Z"
   },
   {
    "duration": 118,
    "start_time": "2022-09-15T13:18:29.548Z"
   },
   {
    "duration": 8,
    "start_time": "2022-09-15T13:18:29.668Z"
   },
   {
    "duration": 162,
    "start_time": "2022-09-15T13:18:29.678Z"
   },
   {
    "duration": 9,
    "start_time": "2022-09-15T13:18:29.842Z"
   },
   {
    "duration": 182,
    "start_time": "2022-09-15T13:18:29.853Z"
   },
   {
    "duration": 12,
    "start_time": "2022-09-15T13:18:30.037Z"
   },
   {
    "duration": 191,
    "start_time": "2022-09-15T13:18:30.051Z"
   },
   {
    "duration": 11,
    "start_time": "2022-09-15T13:18:30.244Z"
   },
   {
    "duration": 197,
    "start_time": "2022-09-15T13:18:30.256Z"
   },
   {
    "duration": 136,
    "start_time": "2022-09-15T13:18:30.455Z"
   },
   {
    "duration": 197,
    "start_time": "2022-09-15T13:18:30.592Z"
   },
   {
    "duration": 37,
    "start_time": "2022-09-15T13:18:30.790Z"
   },
   {
    "duration": 217,
    "start_time": "2022-09-15T13:18:30.829Z"
   },
   {
    "duration": 10,
    "start_time": "2022-09-15T13:18:31.048Z"
   },
   {
    "duration": 18,
    "start_time": "2022-09-15T13:18:31.060Z"
   },
   {
    "duration": 271,
    "start_time": "2022-09-15T13:18:31.080Z"
   },
   {
    "duration": 269,
    "start_time": "2022-09-15T13:18:31.352Z"
   },
   {
    "duration": 160,
    "start_time": "2022-09-15T13:18:31.623Z"
   },
   {
    "duration": 157,
    "start_time": "2022-09-15T13:18:31.785Z"
   },
   {
    "duration": 185,
    "start_time": "2022-09-15T13:18:31.943Z"
   },
   {
    "duration": 158,
    "start_time": "2022-09-15T13:18:32.129Z"
   },
   {
    "duration": 164,
    "start_time": "2022-09-15T13:18:32.292Z"
   },
   {
    "duration": 13,
    "start_time": "2022-09-15T13:18:32.457Z"
   },
   {
    "duration": 9,
    "start_time": "2022-09-15T13:18:32.472Z"
   },
   {
    "duration": 39,
    "start_time": "2022-09-15T13:18:32.483Z"
   },
   {
    "duration": 13,
    "start_time": "2022-09-15T13:18:32.525Z"
   },
   {
    "duration": 12,
    "start_time": "2022-09-15T13:18:32.540Z"
   },
   {
    "duration": 5,
    "start_time": "2022-09-15T13:18:32.554Z"
   },
   {
    "duration": 10,
    "start_time": "2022-09-15T13:18:32.561Z"
   },
   {
    "duration": 5,
    "start_time": "2022-09-15T13:18:32.573Z"
   },
   {
    "duration": 140,
    "start_time": "2022-09-15T13:18:32.580Z"
   },
   {
    "duration": 8,
    "start_time": "2022-09-15T13:18:32.723Z"
   },
   {
    "duration": 7,
    "start_time": "2022-09-15T13:18:32.733Z"
   },
   {
    "duration": 37,
    "start_time": "2022-09-15T13:18:32.742Z"
   },
   {
    "duration": 51,
    "start_time": "2022-09-15T13:18:32.780Z"
   },
   {
    "duration": 124,
    "start_time": "2022-09-15T13:20:47.860Z"
   },
   {
    "duration": 89,
    "start_time": "2022-09-15T13:24:37.275Z"
   },
   {
    "duration": 6,
    "start_time": "2022-09-15T13:24:41.465Z"
   },
   {
    "duration": 6,
    "start_time": "2022-09-15T13:24:58.081Z"
   },
   {
    "duration": 1834,
    "start_time": "2022-09-15T13:32:19.442Z"
   },
   {
    "duration": 15,
    "start_time": "2022-09-15T13:32:50.448Z"
   },
   {
    "duration": 1829,
    "start_time": "2022-09-15T13:37:49.874Z"
   },
   {
    "duration": 14,
    "start_time": "2022-09-15T13:37:55.743Z"
   },
   {
    "duration": 1429,
    "start_time": "2022-09-15T13:38:01.751Z"
   },
   {
    "duration": 1822,
    "start_time": "2022-09-15T13:38:08.674Z"
   },
   {
    "duration": 14,
    "start_time": "2022-09-15T13:42:26.932Z"
   },
   {
    "duration": 94,
    "start_time": "2022-09-15T13:43:46.636Z"
   },
   {
    "duration": 117,
    "start_time": "2022-09-15T13:44:17.679Z"
   },
   {
    "duration": 9,
    "start_time": "2022-09-15T13:44:25.161Z"
   },
   {
    "duration": 16,
    "start_time": "2022-09-15T13:50:26.034Z"
   },
   {
    "duration": 8,
    "start_time": "2022-09-15T13:50:32.665Z"
   },
   {
    "duration": 5,
    "start_time": "2022-09-15T13:50:39.860Z"
   },
   {
    "duration": 5,
    "start_time": "2022-09-15T13:51:27.792Z"
   },
   {
    "duration": 3,
    "start_time": "2022-09-15T13:54:10.659Z"
   },
   {
    "duration": 5,
    "start_time": "2022-09-15T13:54:49.969Z"
   },
   {
    "duration": 5,
    "start_time": "2022-09-15T13:55:21.448Z"
   },
   {
    "duration": 7,
    "start_time": "2022-09-15T13:55:41.899Z"
   },
   {
    "duration": 7,
    "start_time": "2022-09-15T13:57:27.549Z"
   },
   {
    "duration": 4,
    "start_time": "2022-09-15T13:57:55.447Z"
   },
   {
    "duration": 12,
    "start_time": "2022-09-15T14:05:47.665Z"
   },
   {
    "duration": 11,
    "start_time": "2022-09-15T14:06:01.157Z"
   },
   {
    "duration": 11,
    "start_time": "2022-09-15T14:06:21.653Z"
   },
   {
    "duration": 22,
    "start_time": "2022-09-15T14:07:06.703Z"
   },
   {
    "duration": 840,
    "start_time": "2022-09-15T14:07:17.673Z"
   },
   {
    "duration": 45,
    "start_time": "2022-09-15T14:07:18.515Z"
   },
   {
    "duration": 18,
    "start_time": "2022-09-15T14:07:18.565Z"
   },
   {
    "duration": 9,
    "start_time": "2022-09-15T14:07:18.585Z"
   },
   {
    "duration": 33,
    "start_time": "2022-09-15T14:07:18.596Z"
   },
   {
    "duration": 35,
    "start_time": "2022-09-15T14:07:18.637Z"
   },
   {
    "duration": 4,
    "start_time": "2022-09-15T14:07:18.673Z"
   },
   {
    "duration": 6,
    "start_time": "2022-09-15T14:07:18.678Z"
   },
   {
    "duration": 35,
    "start_time": "2022-09-15T14:07:18.686Z"
   },
   {
    "duration": 64,
    "start_time": "2022-09-15T14:07:18.726Z"
   },
   {
    "duration": 42,
    "start_time": "2022-09-15T14:07:18.792Z"
   },
   {
    "duration": 9,
    "start_time": "2022-09-15T14:07:18.836Z"
   },
   {
    "duration": 19,
    "start_time": "2022-09-15T14:07:18.847Z"
   },
   {
    "duration": 7,
    "start_time": "2022-09-15T14:07:18.870Z"
   },
   {
    "duration": 7,
    "start_time": "2022-09-15T14:07:18.879Z"
   },
   {
    "duration": 6,
    "start_time": "2022-09-15T14:07:18.888Z"
   },
   {
    "duration": 7,
    "start_time": "2022-09-15T14:07:18.895Z"
   },
   {
    "duration": 55,
    "start_time": "2022-09-15T14:07:18.903Z"
   },
   {
    "duration": 25,
    "start_time": "2022-09-15T14:07:18.959Z"
   },
   {
    "duration": 6,
    "start_time": "2022-09-15T14:07:18.986Z"
   },
   {
    "duration": 6,
    "start_time": "2022-09-15T14:07:18.993Z"
   },
   {
    "duration": 4,
    "start_time": "2022-09-15T14:07:19.000Z"
   },
   {
    "duration": 67,
    "start_time": "2022-09-15T14:07:19.007Z"
   },
   {
    "duration": 5,
    "start_time": "2022-09-15T14:07:19.075Z"
   },
   {
    "duration": 17,
    "start_time": "2022-09-15T14:07:19.082Z"
   },
   {
    "duration": 32,
    "start_time": "2022-09-15T14:07:19.101Z"
   },
   {
    "duration": 27,
    "start_time": "2022-09-15T14:07:19.135Z"
   },
   {
    "duration": 5,
    "start_time": "2022-09-15T14:07:19.164Z"
   },
   {
    "duration": 9,
    "start_time": "2022-09-15T14:07:19.170Z"
   },
   {
    "duration": 20,
    "start_time": "2022-09-15T14:07:19.180Z"
   },
   {
    "duration": 8,
    "start_time": "2022-09-15T14:07:19.201Z"
   },
   {
    "duration": 42,
    "start_time": "2022-09-15T14:07:19.213Z"
   },
   {
    "duration": 14,
    "start_time": "2022-09-15T14:07:19.256Z"
   },
   {
    "duration": 6,
    "start_time": "2022-09-15T14:07:19.271Z"
   },
   {
    "duration": 6,
    "start_time": "2022-09-15T14:07:19.279Z"
   },
   {
    "duration": 5,
    "start_time": "2022-09-15T14:07:19.286Z"
   },
   {
    "duration": 4,
    "start_time": "2022-09-15T14:07:19.293Z"
   },
   {
    "duration": 327,
    "start_time": "2022-09-15T14:07:19.299Z"
   },
   {
    "duration": 6,
    "start_time": "2022-09-15T14:07:19.632Z"
   },
   {
    "duration": 51,
    "start_time": "2022-09-15T14:07:19.645Z"
   },
   {
    "duration": 163,
    "start_time": "2022-09-15T14:07:19.701Z"
   },
   {
    "duration": 15,
    "start_time": "2022-09-15T14:07:19.866Z"
   },
   {
    "duration": 379,
    "start_time": "2022-09-15T14:07:19.883Z"
   },
   {
    "duration": 184,
    "start_time": "2022-09-15T14:07:20.267Z"
   },
   {
    "duration": 10,
    "start_time": "2022-09-15T14:07:20.453Z"
   },
   {
    "duration": 290,
    "start_time": "2022-09-15T14:07:20.464Z"
   },
   {
    "duration": 132,
    "start_time": "2022-09-15T14:07:20.759Z"
   },
   {
    "duration": 25,
    "start_time": "2022-09-15T14:07:20.893Z"
   },
   {
    "duration": 260,
    "start_time": "2022-09-15T14:07:20.928Z"
   },
   {
    "duration": 4,
    "start_time": "2022-09-15T14:07:21.190Z"
   },
   {
    "duration": 168,
    "start_time": "2022-09-15T14:07:21.206Z"
   },
   {
    "duration": 10,
    "start_time": "2022-09-15T14:07:21.377Z"
   },
   {
    "duration": 251,
    "start_time": "2022-09-15T14:07:21.389Z"
   },
   {
    "duration": 10,
    "start_time": "2022-09-15T14:07:21.642Z"
   },
   {
    "duration": 193,
    "start_time": "2022-09-15T14:07:21.655Z"
   },
   {
    "duration": 10,
    "start_time": "2022-09-15T14:07:21.852Z"
   },
   {
    "duration": 279,
    "start_time": "2022-09-15T14:07:21.863Z"
   },
   {
    "duration": 126,
    "start_time": "2022-09-15T14:07:22.147Z"
   },
   {
    "duration": 9,
    "start_time": "2022-09-15T14:07:22.274Z"
   },
   {
    "duration": 170,
    "start_time": "2022-09-15T14:07:22.284Z"
   },
   {
    "duration": 136,
    "start_time": "2022-09-15T14:07:22.456Z"
   },
   {
    "duration": 35,
    "start_time": "2022-09-15T14:07:22.594Z"
   },
   {
    "duration": 208,
    "start_time": "2022-09-15T14:07:22.630Z"
   },
   {
    "duration": 12,
    "start_time": "2022-09-15T14:07:22.843Z"
   },
   {
    "duration": 189,
    "start_time": "2022-09-15T14:07:22.856Z"
   },
   {
    "duration": 11,
    "start_time": "2022-09-15T14:07:23.054Z"
   },
   {
    "duration": 199,
    "start_time": "2022-09-15T14:07:23.067Z"
   },
   {
    "duration": 11,
    "start_time": "2022-09-15T14:07:23.267Z"
   },
   {
    "duration": 209,
    "start_time": "2022-09-15T14:07:23.280Z"
   },
   {
    "duration": 134,
    "start_time": "2022-09-15T14:07:23.491Z"
   },
   {
    "duration": 156,
    "start_time": "2022-09-15T14:07:23.629Z"
   },
   {
    "duration": 54,
    "start_time": "2022-09-15T14:07:23.786Z"
   },
   {
    "duration": 134,
    "start_time": "2022-09-15T14:07:23.849Z"
   },
   {
    "duration": 9,
    "start_time": "2022-09-15T14:07:23.984Z"
   },
   {
    "duration": 30,
    "start_time": "2022-09-15T14:07:23.994Z"
   },
   {
    "duration": 404,
    "start_time": "2022-09-15T14:07:24.036Z"
   },
   {
    "duration": 292,
    "start_time": "2022-09-15T14:07:24.442Z"
   },
   {
    "duration": 197,
    "start_time": "2022-09-15T14:07:24.736Z"
   },
   {
    "duration": 177,
    "start_time": "2022-09-15T14:07:24.934Z"
   },
   {
    "duration": 210,
    "start_time": "2022-09-15T14:07:25.112Z"
   },
   {
    "duration": 188,
    "start_time": "2022-09-15T14:07:25.324Z"
   },
   {
    "duration": 175,
    "start_time": "2022-09-15T14:07:25.517Z"
   },
   {
    "duration": 18,
    "start_time": "2022-09-15T14:07:25.694Z"
   },
   {
    "duration": 44,
    "start_time": "2022-09-15T14:07:25.713Z"
   },
   {
    "duration": 15,
    "start_time": "2022-09-15T14:07:25.759Z"
   },
   {
    "duration": 7,
    "start_time": "2022-09-15T14:07:25.775Z"
   },
   {
    "duration": 11,
    "start_time": "2022-09-15T14:07:25.784Z"
   },
   {
    "duration": 14,
    "start_time": "2022-09-15T14:07:25.796Z"
   },
   {
    "duration": 46,
    "start_time": "2022-09-15T14:07:25.814Z"
   },
   {
    "duration": 6,
    "start_time": "2022-09-15T14:07:25.861Z"
   },
   {
    "duration": 8,
    "start_time": "2022-09-15T14:07:25.869Z"
   },
   {
    "duration": 6,
    "start_time": "2022-09-15T14:07:25.878Z"
   },
   {
    "duration": 111,
    "start_time": "2022-09-15T14:07:25.886Z"
   },
   {
    "duration": 17,
    "start_time": "2022-09-15T14:07:25.999Z"
   },
   {
    "duration": 10,
    "start_time": "2022-09-15T14:07:26.023Z"
   },
   {
    "duration": 88,
    "start_time": "2022-09-15T14:07:26.036Z"
   },
   {
    "duration": 0,
    "start_time": "2022-09-15T14:07:26.126Z"
   },
   {
    "duration": 0,
    "start_time": "2022-09-15T14:07:26.127Z"
   },
   {
    "duration": 0,
    "start_time": "2022-09-15T14:07:26.128Z"
   },
   {
    "duration": 11,
    "start_time": "2022-09-15T14:08:02.876Z"
   },
   {
    "duration": 9,
    "start_time": "2022-09-15T14:08:08.187Z"
   },
   {
    "duration": 20,
    "start_time": "2022-09-15T14:08:13.300Z"
   },
   {
    "duration": 773,
    "start_time": "2022-09-15T14:08:16.559Z"
   },
   {
    "duration": 31,
    "start_time": "2022-09-15T14:08:17.341Z"
   },
   {
    "duration": 32,
    "start_time": "2022-09-15T14:08:17.374Z"
   },
   {
    "duration": 18,
    "start_time": "2022-09-15T14:08:17.408Z"
   },
   {
    "duration": 39,
    "start_time": "2022-09-15T14:08:17.428Z"
   },
   {
    "duration": 27,
    "start_time": "2022-09-15T14:08:17.469Z"
   },
   {
    "duration": 4,
    "start_time": "2022-09-15T14:08:17.499Z"
   },
   {
    "duration": 66,
    "start_time": "2022-09-15T14:08:17.504Z"
   },
   {
    "duration": 92,
    "start_time": "2022-09-15T14:08:17.573Z"
   },
   {
    "duration": 38,
    "start_time": "2022-09-15T14:08:17.668Z"
   },
   {
    "duration": 82,
    "start_time": "2022-09-15T14:08:17.708Z"
   },
   {
    "duration": 7,
    "start_time": "2022-09-15T14:08:17.792Z"
   },
   {
    "duration": 72,
    "start_time": "2022-09-15T14:08:17.801Z"
   },
   {
    "duration": 15,
    "start_time": "2022-09-15T14:08:17.876Z"
   },
   {
    "duration": 16,
    "start_time": "2022-09-15T14:08:17.893Z"
   },
   {
    "duration": 74,
    "start_time": "2022-09-15T14:08:17.911Z"
   },
   {
    "duration": 8,
    "start_time": "2022-09-15T14:08:17.987Z"
   },
   {
    "duration": 19,
    "start_time": "2022-09-15T14:08:17.997Z"
   },
   {
    "duration": 82,
    "start_time": "2022-09-15T14:08:18.018Z"
   },
   {
    "duration": 20,
    "start_time": "2022-09-15T14:08:18.102Z"
   },
   {
    "duration": 42,
    "start_time": "2022-09-15T14:08:18.131Z"
   },
   {
    "duration": 7,
    "start_time": "2022-09-15T14:08:18.175Z"
   },
   {
    "duration": 34,
    "start_time": "2022-09-15T14:08:18.184Z"
   },
   {
    "duration": 10,
    "start_time": "2022-09-15T14:08:18.224Z"
   },
   {
    "duration": 60,
    "start_time": "2022-09-15T14:08:18.236Z"
   },
   {
    "duration": 30,
    "start_time": "2022-09-15T14:08:18.298Z"
   },
   {
    "duration": 37,
    "start_time": "2022-09-15T14:08:18.337Z"
   },
   {
    "duration": 5,
    "start_time": "2022-09-15T14:08:18.378Z"
   },
   {
    "duration": 6,
    "start_time": "2022-09-15T14:08:18.385Z"
   },
   {
    "duration": 36,
    "start_time": "2022-09-15T14:08:18.393Z"
   },
   {
    "duration": 6,
    "start_time": "2022-09-15T14:08:18.431Z"
   },
   {
    "duration": 33,
    "start_time": "2022-09-15T14:08:18.438Z"
   },
   {
    "duration": 20,
    "start_time": "2022-09-15T14:08:18.473Z"
   },
   {
    "duration": 7,
    "start_time": "2022-09-15T14:08:18.496Z"
   },
   {
    "duration": 58,
    "start_time": "2022-09-15T14:08:18.504Z"
   },
   {
    "duration": 6,
    "start_time": "2022-09-15T14:08:18.567Z"
   },
   {
    "duration": 14,
    "start_time": "2022-09-15T14:08:18.574Z"
   },
   {
    "duration": 334,
    "start_time": "2022-09-15T14:08:18.590Z"
   },
   {
    "duration": 14,
    "start_time": "2022-09-15T14:08:18.926Z"
   },
   {
    "duration": 50,
    "start_time": "2022-09-15T14:08:18.949Z"
   },
   {
    "duration": 151,
    "start_time": "2022-09-15T14:08:19.001Z"
   },
   {
    "duration": 13,
    "start_time": "2022-09-15T14:08:19.161Z"
   },
   {
    "duration": 355,
    "start_time": "2022-09-15T14:08:19.175Z"
   },
   {
    "duration": 129,
    "start_time": "2022-09-15T14:08:19.531Z"
   },
   {
    "duration": 9,
    "start_time": "2022-09-15T14:08:19.662Z"
   },
   {
    "duration": 267,
    "start_time": "2022-09-15T14:08:19.672Z"
   },
   {
    "duration": 124,
    "start_time": "2022-09-15T14:08:19.943Z"
   },
   {
    "duration": 9,
    "start_time": "2022-09-15T14:08:20.069Z"
   },
   {
    "duration": 222,
    "start_time": "2022-09-15T14:08:20.079Z"
   },
   {
    "duration": 12,
    "start_time": "2022-09-15T14:08:20.302Z"
   },
   {
    "duration": 171,
    "start_time": "2022-09-15T14:08:20.316Z"
   },
   {
    "duration": 9,
    "start_time": "2022-09-15T14:08:20.488Z"
   },
   {
    "duration": 233,
    "start_time": "2022-09-15T14:08:20.499Z"
   },
   {
    "duration": 18,
    "start_time": "2022-09-15T14:08:20.736Z"
   },
   {
    "duration": 176,
    "start_time": "2022-09-15T14:08:20.763Z"
   },
   {
    "duration": 10,
    "start_time": "2022-09-15T14:08:20.940Z"
   },
   {
    "duration": 267,
    "start_time": "2022-09-15T14:08:20.951Z"
   },
   {
    "duration": 127,
    "start_time": "2022-09-15T14:08:21.226Z"
   },
   {
    "duration": 9,
    "start_time": "2022-09-15T14:08:21.355Z"
   },
   {
    "duration": 170,
    "start_time": "2022-09-15T14:08:21.367Z"
   },
   {
    "duration": 147,
    "start_time": "2022-09-15T14:08:21.539Z"
   },
   {
    "duration": 9,
    "start_time": "2022-09-15T14:08:21.688Z"
   },
   {
    "duration": 189,
    "start_time": "2022-09-15T14:08:21.705Z"
   },
   {
    "duration": 16,
    "start_time": "2022-09-15T14:08:21.896Z"
   },
   {
    "duration": 231,
    "start_time": "2022-09-15T14:08:21.916Z"
   },
   {
    "duration": 10,
    "start_time": "2022-09-15T14:08:22.149Z"
   },
   {
    "duration": 214,
    "start_time": "2022-09-15T14:08:22.161Z"
   },
   {
    "duration": 10,
    "start_time": "2022-09-15T14:08:22.377Z"
   },
   {
    "duration": 193,
    "start_time": "2022-09-15T14:08:22.389Z"
   },
   {
    "duration": 203,
    "start_time": "2022-09-15T14:08:22.584Z"
   },
   {
    "duration": 173,
    "start_time": "2022-09-15T14:08:22.788Z"
   },
   {
    "duration": 28,
    "start_time": "2022-09-15T14:08:22.967Z"
   },
   {
    "duration": 223,
    "start_time": "2022-09-15T14:08:22.997Z"
   },
   {
    "duration": 25,
    "start_time": "2022-09-15T14:08:23.223Z"
   },
   {
    "duration": 26,
    "start_time": "2022-09-15T14:08:23.254Z"
   },
   {
    "duration": 437,
    "start_time": "2022-09-15T14:08:23.282Z"
   },
   {
    "duration": 264,
    "start_time": "2022-09-15T14:08:23.727Z"
   },
   {
    "duration": 211,
    "start_time": "2022-09-15T14:08:23.993Z"
   },
   {
    "duration": 220,
    "start_time": "2022-09-15T14:08:24.211Z"
   },
   {
    "duration": 217,
    "start_time": "2022-09-15T14:08:24.440Z"
   },
   {
    "duration": 204,
    "start_time": "2022-09-15T14:08:24.660Z"
   },
   {
    "duration": 193,
    "start_time": "2022-09-15T14:08:24.869Z"
   },
   {
    "duration": 12,
    "start_time": "2022-09-15T14:08:25.064Z"
   },
   {
    "duration": 13,
    "start_time": "2022-09-15T14:08:25.078Z"
   },
   {
    "duration": 67,
    "start_time": "2022-09-15T14:08:25.092Z"
   },
   {
    "duration": 21,
    "start_time": "2022-09-15T14:08:25.161Z"
   },
   {
    "duration": 49,
    "start_time": "2022-09-15T14:08:25.183Z"
   },
   {
    "duration": 46,
    "start_time": "2022-09-15T14:08:25.234Z"
   },
   {
    "duration": 17,
    "start_time": "2022-09-15T14:08:25.282Z"
   },
   {
    "duration": 53,
    "start_time": "2022-09-15T14:08:25.302Z"
   },
   {
    "duration": 29,
    "start_time": "2022-09-15T14:08:25.357Z"
   },
   {
    "duration": 11,
    "start_time": "2022-09-15T14:08:25.389Z"
   },
   {
    "duration": 191,
    "start_time": "2022-09-15T14:08:25.402Z"
   },
   {
    "duration": 16,
    "start_time": "2022-09-15T14:08:25.596Z"
   },
   {
    "duration": 31,
    "start_time": "2022-09-15T14:08:25.614Z"
   },
   {
    "duration": 32,
    "start_time": "2022-09-15T14:08:25.649Z"
   },
   {
    "duration": 9,
    "start_time": "2022-09-15T14:08:25.683Z"
   },
   {
    "duration": 80,
    "start_time": "2022-09-15T14:08:25.694Z"
   },
   {
    "duration": 64,
    "start_time": "2022-09-15T14:08:25.776Z"
   },
   {
    "duration": 133,
    "start_time": "2022-09-15T14:08:36.948Z"
   },
   {
    "duration": 155,
    "start_time": "2022-09-15T14:09:11.031Z"
   },
   {
    "duration": 217,
    "start_time": "2022-09-15T14:09:18.584Z"
   },
   {
    "duration": 154,
    "start_time": "2022-09-15T14:09:23.811Z"
   },
   {
    "duration": 163,
    "start_time": "2022-09-15T14:10:02.281Z"
   },
   {
    "duration": 197,
    "start_time": "2022-09-15T14:10:37.142Z"
   },
   {
    "duration": 196,
    "start_time": "2022-09-15T14:10:43.741Z"
   },
   {
    "duration": 173,
    "start_time": "2022-09-15T14:10:50.072Z"
   },
   {
    "duration": 95,
    "start_time": "2022-09-15T15:27:11.039Z"
   },
   {
    "duration": 1296,
    "start_time": "2022-09-15T15:41:43.987Z"
   },
   {
    "duration": 31,
    "start_time": "2022-09-15T15:41:45.286Z"
   },
   {
    "duration": 17,
    "start_time": "2022-09-15T15:41:45.378Z"
   },
   {
    "duration": 12,
    "start_time": "2022-09-15T15:41:45.397Z"
   },
   {
    "duration": 3,
    "start_time": "2022-09-15T15:41:45.411Z"
   },
   {
    "duration": 496,
    "start_time": "2022-09-15T15:41:45.416Z"
   },
   {
    "duration": 66,
    "start_time": "2022-09-15T15:41:45.914Z"
   },
   {
    "duration": 10,
    "start_time": "2022-09-15T15:41:45.988Z"
   },
   {
    "duration": 5,
    "start_time": "2022-09-15T15:41:45.999Z"
   },
   {
    "duration": 6,
    "start_time": "2022-09-15T15:41:46.005Z"
   },
   {
    "duration": 70,
    "start_time": "2022-09-15T15:41:46.013Z"
   },
   {
    "duration": 29,
    "start_time": "2022-09-15T15:41:46.085Z"
   },
   {
    "duration": 84,
    "start_time": "2022-09-15T15:41:46.116Z"
   },
   {
    "duration": 5,
    "start_time": "2022-09-15T15:41:46.202Z"
   },
   {
    "duration": 7,
    "start_time": "2022-09-15T15:41:46.208Z"
   },
   {
    "duration": 63,
    "start_time": "2022-09-15T15:41:46.216Z"
   },
   {
    "duration": 8,
    "start_time": "2022-09-15T15:41:46.287Z"
   },
   {
    "duration": 35,
    "start_time": "2022-09-15T15:41:46.297Z"
   },
   {
    "duration": 4,
    "start_time": "2022-09-15T15:41:46.333Z"
   },
   {
    "duration": 7,
    "start_time": "2022-09-15T15:41:46.339Z"
   },
   {
    "duration": 52,
    "start_time": "2022-09-15T15:41:46.347Z"
   },
   {
    "duration": 9,
    "start_time": "2022-09-15T15:41:46.400Z"
   },
   {
    "duration": 8,
    "start_time": "2022-09-15T15:41:46.410Z"
   },
   {
    "duration": 6,
    "start_time": "2022-09-15T15:41:46.419Z"
   },
   {
    "duration": 14,
    "start_time": "2022-09-15T15:41:46.427Z"
   },
   {
    "duration": 17,
    "start_time": "2022-09-15T15:41:46.477Z"
   },
   {
    "duration": 16,
    "start_time": "2022-09-15T15:41:46.495Z"
   },
   {
    "duration": 84,
    "start_time": "2022-09-15T15:41:46.512Z"
   },
   {
    "duration": 7,
    "start_time": "2022-09-15T15:41:46.597Z"
   },
   {
    "duration": 5,
    "start_time": "2022-09-15T15:41:46.605Z"
   },
   {
    "duration": 7,
    "start_time": "2022-09-15T15:41:46.611Z"
   },
   {
    "duration": 19,
    "start_time": "2022-09-15T15:41:46.620Z"
   },
   {
    "duration": 12,
    "start_time": "2022-09-15T15:41:46.679Z"
   },
   {
    "duration": 9,
    "start_time": "2022-09-15T15:41:46.692Z"
   },
   {
    "duration": 48,
    "start_time": "2022-09-15T15:41:46.702Z"
   },
   {
    "duration": 8,
    "start_time": "2022-09-15T15:41:46.752Z"
   },
   {
    "duration": 343,
    "start_time": "2022-09-15T15:41:46.761Z"
   },
   {
    "duration": 302,
    "start_time": "2022-09-15T15:41:47.106Z"
   },
   {
    "duration": 14,
    "start_time": "2022-09-15T15:41:47.410Z"
   },
   {
    "duration": 12,
    "start_time": "2022-09-15T15:41:47.426Z"
   },
   {
    "duration": 6,
    "start_time": "2022-09-15T15:41:47.443Z"
   },
   {
    "duration": 30,
    "start_time": "2022-09-15T15:41:47.451Z"
   },
   {
    "duration": 10,
    "start_time": "2022-09-15T15:41:47.482Z"
   },
   {
    "duration": 4,
    "start_time": "2022-09-15T15:41:47.493Z"
   },
   {
    "duration": 295,
    "start_time": "2022-09-15T15:41:47.499Z"
   },
   {
    "duration": 7,
    "start_time": "2022-09-15T15:41:47.797Z"
   },
   {
    "duration": 34,
    "start_time": "2022-09-15T15:41:47.806Z"
   },
   {
    "duration": 130,
    "start_time": "2022-09-15T15:41:47.842Z"
   },
   {
    "duration": 17,
    "start_time": "2022-09-15T15:41:47.978Z"
   },
   {
    "duration": 255,
    "start_time": "2022-09-15T15:41:47.996Z"
   },
   {
    "duration": 123,
    "start_time": "2022-09-15T15:41:48.252Z"
   },
   {
    "duration": 19,
    "start_time": "2022-09-15T15:41:48.376Z"
   },
   {
    "duration": 275,
    "start_time": "2022-09-15T15:41:48.396Z"
   },
   {
    "duration": 107,
    "start_time": "2022-09-15T15:41:48.678Z"
   },
   {
    "duration": 12,
    "start_time": "2022-09-15T15:41:48.786Z"
   },
   {
    "duration": 180,
    "start_time": "2022-09-15T15:41:48.800Z"
   },
   {
    "duration": 4,
    "start_time": "2022-09-15T15:41:48.992Z"
   },
   {
    "duration": 124,
    "start_time": "2022-09-15T15:41:48.997Z"
   },
   {
    "duration": 9,
    "start_time": "2022-09-15T15:41:49.123Z"
   },
   {
    "duration": 197,
    "start_time": "2022-09-15T15:41:49.134Z"
   },
   {
    "duration": 8,
    "start_time": "2022-09-15T15:41:49.333Z"
   },
   {
    "duration": 165,
    "start_time": "2022-09-15T15:41:49.343Z"
   },
   {
    "duration": 9,
    "start_time": "2022-09-15T15:41:49.510Z"
   },
   {
    "duration": 165,
    "start_time": "2022-09-15T15:41:49.521Z"
   },
   {
    "duration": 119,
    "start_time": "2022-09-15T15:41:49.689Z"
   },
   {
    "duration": 10,
    "start_time": "2022-09-15T15:41:49.810Z"
   },
   {
    "duration": 162,
    "start_time": "2022-09-15T15:41:49.823Z"
   },
   {
    "duration": 211,
    "start_time": "2022-09-15T15:41:49.986Z"
   },
   {
    "duration": 9,
    "start_time": "2022-09-15T15:41:50.198Z"
   },
   {
    "duration": 153,
    "start_time": "2022-09-15T15:41:50.208Z"
   },
   {
    "duration": 22,
    "start_time": "2022-09-15T15:41:50.362Z"
   },
   {
    "duration": 168,
    "start_time": "2022-09-15T15:41:50.385Z"
   },
   {
    "duration": 8,
    "start_time": "2022-09-15T15:41:50.554Z"
   },
   {
    "duration": 170,
    "start_time": "2022-09-15T15:41:50.564Z"
   },
   {
    "duration": 8,
    "start_time": "2022-09-15T15:41:50.735Z"
   },
   {
    "duration": 256,
    "start_time": "2022-09-15T15:41:50.745Z"
   },
   {
    "duration": 282,
    "start_time": "2022-09-15T15:41:51.002Z"
   },
   {
    "duration": 316,
    "start_time": "2022-09-15T15:41:51.285Z"
   },
   {
    "duration": 25,
    "start_time": "2022-09-15T15:41:51.602Z"
   },
   {
    "duration": 209,
    "start_time": "2022-09-15T15:41:51.628Z"
   },
   {
    "duration": 9,
    "start_time": "2022-09-15T15:41:51.839Z"
   },
   {
    "duration": 48,
    "start_time": "2022-09-15T15:41:51.850Z"
   },
   {
    "duration": 791,
    "start_time": "2022-09-15T15:41:51.900Z"
   },
   {
    "duration": 272,
    "start_time": "2022-09-15T15:41:52.695Z"
   },
   {
    "duration": 335,
    "start_time": "2022-09-15T15:41:52.968Z"
   },
   {
    "duration": 578,
    "start_time": "2022-09-15T15:41:53.305Z"
   },
   {
    "duration": 322,
    "start_time": "2022-09-15T15:41:53.885Z"
   },
   {
    "duration": 379,
    "start_time": "2022-09-15T15:41:54.209Z"
   },
   {
    "duration": 316,
    "start_time": "2022-09-15T15:41:54.594Z"
   },
   {
    "duration": 68,
    "start_time": "2022-09-15T15:41:54.911Z"
   },
   {
    "duration": 17,
    "start_time": "2022-09-15T15:41:54.981Z"
   },
   {
    "duration": 12,
    "start_time": "2022-09-15T15:41:55.000Z"
   },
   {
    "duration": 66,
    "start_time": "2022-09-15T15:41:55.014Z"
   },
   {
    "duration": 20,
    "start_time": "2022-09-15T15:41:55.085Z"
   },
   {
    "duration": 13,
    "start_time": "2022-09-15T15:41:55.108Z"
   },
   {
    "duration": 57,
    "start_time": "2022-09-15T15:41:55.123Z"
   },
   {
    "duration": 18,
    "start_time": "2022-09-15T15:41:55.187Z"
   },
   {
    "duration": 9,
    "start_time": "2022-09-15T15:41:55.207Z"
   },
   {
    "duration": 64,
    "start_time": "2022-09-15T15:41:55.219Z"
   },
   {
    "duration": 302,
    "start_time": "2022-09-15T15:41:55.288Z"
   },
   {
    "duration": 9,
    "start_time": "2022-09-15T15:41:55.591Z"
   },
   {
    "duration": 13,
    "start_time": "2022-09-15T15:41:55.602Z"
   },
   {
    "duration": 373,
    "start_time": "2022-09-15T15:41:55.617Z"
   },
   {
    "duration": 201,
    "start_time": "2022-09-15T17:25:51.059Z"
   },
   {
    "duration": 8,
    "start_time": "2022-09-15T17:30:52.254Z"
   },
   {
    "duration": 25,
    "start_time": "2022-09-15T17:31:52.265Z"
   },
   {
    "duration": 122,
    "start_time": "2022-09-15T17:32:36.329Z"
   },
   {
    "duration": 756,
    "start_time": "2022-09-15T17:53:11.153Z"
   },
   {
    "duration": 24,
    "start_time": "2022-09-15T17:53:11.910Z"
   },
   {
    "duration": 13,
    "start_time": "2022-09-15T17:53:11.935Z"
   },
   {
    "duration": 7,
    "start_time": "2022-09-15T17:53:11.949Z"
   },
   {
    "duration": 20,
    "start_time": "2022-09-15T17:53:11.958Z"
   },
   {
    "duration": 215,
    "start_time": "2022-09-15T17:53:11.980Z"
   },
   {
    "duration": 9,
    "start_time": "2022-09-15T17:53:12.196Z"
   },
   {
    "duration": 7,
    "start_time": "2022-09-15T17:53:12.206Z"
   },
   {
    "duration": 3,
    "start_time": "2022-09-15T17:53:12.214Z"
   },
   {
    "duration": 5,
    "start_time": "2022-09-15T17:53:12.219Z"
   },
   {
    "duration": 13,
    "start_time": "2022-09-15T17:53:12.225Z"
   },
   {
    "duration": 51,
    "start_time": "2022-09-15T17:53:12.240Z"
   },
   {
    "duration": 24,
    "start_time": "2022-09-15T17:53:12.292Z"
   },
   {
    "duration": 7,
    "start_time": "2022-09-15T17:53:12.317Z"
   },
   {
    "duration": 7,
    "start_time": "2022-09-15T17:53:12.325Z"
   },
   {
    "duration": 4,
    "start_time": "2022-09-15T17:53:12.334Z"
   },
   {
    "duration": 4,
    "start_time": "2022-09-15T17:53:12.340Z"
   },
   {
    "duration": 31,
    "start_time": "2022-09-15T17:53:12.346Z"
   },
   {
    "duration": 4,
    "start_time": "2022-09-15T17:53:12.379Z"
   },
   {
    "duration": 10,
    "start_time": "2022-09-15T17:53:12.385Z"
   },
   {
    "duration": 22,
    "start_time": "2022-09-15T17:53:12.396Z"
   },
   {
    "duration": 7,
    "start_time": "2022-09-15T17:53:12.419Z"
   },
   {
    "duration": 5,
    "start_time": "2022-09-15T17:53:12.427Z"
   },
   {
    "duration": 7,
    "start_time": "2022-09-15T17:53:12.433Z"
   },
   {
    "duration": 36,
    "start_time": "2022-09-15T17:53:12.441Z"
   },
   {
    "duration": 5,
    "start_time": "2022-09-15T17:53:12.478Z"
   },
   {
    "duration": 18,
    "start_time": "2022-09-15T17:53:12.485Z"
   },
   {
    "duration": 15,
    "start_time": "2022-09-15T17:53:12.508Z"
   },
   {
    "duration": 10,
    "start_time": "2022-09-15T17:53:12.524Z"
   },
   {
    "duration": 11,
    "start_time": "2022-09-15T17:53:12.535Z"
   },
   {
    "duration": 3,
    "start_time": "2022-09-15T17:53:12.547Z"
   },
   {
    "duration": 30,
    "start_time": "2022-09-15T17:53:12.552Z"
   },
   {
    "duration": 21,
    "start_time": "2022-09-15T17:53:12.583Z"
   },
   {
    "duration": 3,
    "start_time": "2022-09-15T17:53:12.605Z"
   },
   {
    "duration": 6,
    "start_time": "2022-09-15T17:53:12.610Z"
   },
   {
    "duration": 61,
    "start_time": "2022-09-15T17:53:12.617Z"
   },
   {
    "duration": 8,
    "start_time": "2022-09-15T17:53:12.680Z"
   },
   {
    "duration": 347,
    "start_time": "2022-09-15T17:53:12.690Z"
   },
   {
    "duration": 279,
    "start_time": "2022-09-15T17:53:13.038Z"
   },
   {
    "duration": 14,
    "start_time": "2022-09-15T17:53:13.319Z"
   },
   {
    "duration": 10,
    "start_time": "2022-09-15T17:53:13.334Z"
   },
   {
    "duration": 5,
    "start_time": "2022-09-15T17:53:13.345Z"
   },
   {
    "duration": 28,
    "start_time": "2022-09-15T17:53:13.351Z"
   },
   {
    "duration": 5,
    "start_time": "2022-09-15T17:53:13.380Z"
   },
   {
    "duration": 5,
    "start_time": "2022-09-15T17:53:13.386Z"
   },
   {
    "duration": 259,
    "start_time": "2022-09-15T17:53:13.393Z"
   },
   {
    "duration": 3,
    "start_time": "2022-09-15T17:53:13.654Z"
   },
   {
    "duration": 29,
    "start_time": "2022-09-15T17:53:13.658Z"
   },
   {
    "duration": 106,
    "start_time": "2022-09-15T17:53:13.689Z"
   },
   {
    "duration": 124,
    "start_time": "2022-09-15T17:53:13.796Z"
   },
   {
    "duration": 8,
    "start_time": "2022-09-15T17:53:13.921Z"
   },
   {
    "duration": 237,
    "start_time": "2022-09-15T17:53:13.930Z"
   },
   {
    "duration": 177,
    "start_time": "2022-09-15T17:53:14.168Z"
   },
   {
    "duration": 8,
    "start_time": "2022-09-15T17:53:14.347Z"
   },
   {
    "duration": 218,
    "start_time": "2022-09-15T17:53:14.356Z"
   },
   {
    "duration": 91,
    "start_time": "2022-09-15T17:53:14.576Z"
   },
   {
    "duration": 8,
    "start_time": "2022-09-15T17:53:14.676Z"
   },
   {
    "duration": 165,
    "start_time": "2022-09-15T17:53:14.685Z"
   },
   {
    "duration": 3,
    "start_time": "2022-09-15T17:53:14.851Z"
   },
   {
    "duration": 112,
    "start_time": "2022-09-15T17:53:14.855Z"
   },
   {
    "duration": 13,
    "start_time": "2022-09-15T17:53:14.969Z"
   },
   {
    "duration": 181,
    "start_time": "2022-09-15T17:53:14.983Z"
   },
   {
    "duration": 13,
    "start_time": "2022-09-15T17:53:15.165Z"
   },
   {
    "duration": 130,
    "start_time": "2022-09-15T17:53:15.179Z"
   },
   {
    "duration": 8,
    "start_time": "2022-09-15T17:53:15.311Z"
   },
   {
    "duration": 146,
    "start_time": "2022-09-15T17:53:15.320Z"
   },
   {
    "duration": 99,
    "start_time": "2022-09-15T17:53:15.467Z"
   },
   {
    "duration": 15,
    "start_time": "2022-09-15T17:53:15.568Z"
   },
   {
    "duration": 203,
    "start_time": "2022-09-15T17:53:15.584Z"
   },
   {
    "duration": 114,
    "start_time": "2022-09-15T17:53:15.789Z"
   },
   {
    "duration": 8,
    "start_time": "2022-09-15T17:53:15.904Z"
   },
   {
    "duration": 152,
    "start_time": "2022-09-15T17:53:15.913Z"
   },
   {
    "duration": 14,
    "start_time": "2022-09-15T17:53:16.066Z"
   },
   {
    "duration": 150,
    "start_time": "2022-09-15T17:53:16.082Z"
   },
   {
    "duration": 8,
    "start_time": "2022-09-15T17:53:16.234Z"
   },
   {
    "duration": 159,
    "start_time": "2022-09-15T17:53:16.244Z"
   },
   {
    "duration": 9,
    "start_time": "2022-09-15T17:53:16.405Z"
   },
   {
    "duration": 162,
    "start_time": "2022-09-15T17:53:16.415Z"
   },
   {
    "duration": 130,
    "start_time": "2022-09-15T17:53:16.578Z"
   },
   {
    "duration": 134,
    "start_time": "2022-09-15T17:53:16.710Z"
   },
   {
    "duration": 32,
    "start_time": "2022-09-15T17:53:16.845Z"
   },
   {
    "duration": 116,
    "start_time": "2022-09-15T17:53:16.883Z"
   },
   {
    "duration": 8,
    "start_time": "2022-09-15T17:53:17.000Z"
   },
   {
    "duration": 11,
    "start_time": "2022-09-15T17:53:17.009Z"
   },
   {
    "duration": 239,
    "start_time": "2022-09-15T17:53:17.022Z"
   },
   {
    "duration": 261,
    "start_time": "2022-09-15T17:53:17.263Z"
   },
   {
    "duration": 212,
    "start_time": "2022-09-15T17:53:17.526Z"
   },
   {
    "duration": 167,
    "start_time": "2022-09-15T17:53:17.740Z"
   },
   {
    "duration": 165,
    "start_time": "2022-09-15T17:53:17.909Z"
   },
   {
    "duration": 143,
    "start_time": "2022-09-15T17:53:18.076Z"
   },
   {
    "duration": 150,
    "start_time": "2022-09-15T17:53:18.220Z"
   },
   {
    "duration": 11,
    "start_time": "2022-09-15T17:53:18.377Z"
   },
   {
    "duration": 6,
    "start_time": "2022-09-15T17:53:18.389Z"
   },
   {
    "duration": 13,
    "start_time": "2022-09-15T17:53:18.397Z"
   },
   {
    "duration": 7,
    "start_time": "2022-09-15T17:53:18.411Z"
   },
   {
    "duration": 9,
    "start_time": "2022-09-15T17:53:18.420Z"
   },
   {
    "duration": 8,
    "start_time": "2022-09-15T17:53:18.431Z"
   },
   {
    "duration": 39,
    "start_time": "2022-09-15T17:53:18.441Z"
   },
   {
    "duration": 5,
    "start_time": "2022-09-15T17:53:18.481Z"
   },
   {
    "duration": 9,
    "start_time": "2022-09-15T17:53:18.487Z"
   },
   {
    "duration": 5,
    "start_time": "2022-09-15T17:53:18.497Z"
   },
   {
    "duration": 123,
    "start_time": "2022-09-15T17:53:18.504Z"
   },
   {
    "duration": 7,
    "start_time": "2022-09-15T17:53:18.629Z"
   },
   {
    "duration": 5,
    "start_time": "2022-09-15T17:53:18.638Z"
   },
   {
    "duration": 154,
    "start_time": "2022-09-15T17:53:18.645Z"
   },
   {
    "duration": 3,
    "start_time": "2022-09-16T13:27:52.842Z"
   },
   {
    "duration": 43,
    "start_time": "2022-09-16T13:50:51.751Z"
   },
   {
    "duration": 822,
    "start_time": "2022-09-16T13:50:56.355Z"
   },
   {
    "duration": 148,
    "start_time": "2022-09-16T13:50:57.179Z"
   },
   {
    "duration": 24,
    "start_time": "2022-09-16T13:50:57.329Z"
   },
   {
    "duration": 14,
    "start_time": "2022-09-16T13:50:57.356Z"
   },
   {
    "duration": 1852,
    "start_time": "2022-09-16T13:50:57.376Z"
   },
   {
    "duration": 9,
    "start_time": "2022-09-16T13:50:59.229Z"
   },
   {
    "duration": 4,
    "start_time": "2022-09-16T13:50:59.239Z"
   },
   {
    "duration": 217,
    "start_time": "2022-09-16T13:50:59.245Z"
   },
   {
    "duration": 16,
    "start_time": "2022-09-16T13:50:59.463Z"
   },
   {
    "duration": 8,
    "start_time": "2022-09-16T13:50:59.482Z"
   },
   {
    "duration": 4,
    "start_time": "2022-09-16T13:50:59.492Z"
   },
   {
    "duration": 13,
    "start_time": "2022-09-16T13:50:59.498Z"
   },
   {
    "duration": 17,
    "start_time": "2022-09-16T13:50:59.512Z"
   },
   {
    "duration": 47,
    "start_time": "2022-09-16T13:50:59.530Z"
   },
   {
    "duration": 23,
    "start_time": "2022-09-16T13:50:59.579Z"
   },
   {
    "duration": 4,
    "start_time": "2022-09-16T13:50:59.604Z"
   },
   {
    "duration": 10,
    "start_time": "2022-09-16T13:50:59.610Z"
   },
   {
    "duration": 14,
    "start_time": "2022-09-16T13:50:59.621Z"
   },
   {
    "duration": 8,
    "start_time": "2022-09-16T13:50:59.637Z"
   },
   {
    "duration": 7,
    "start_time": "2022-09-16T13:50:59.647Z"
   },
   {
    "duration": 5,
    "start_time": "2022-09-16T13:50:59.655Z"
   },
   {
    "duration": 22,
    "start_time": "2022-09-16T13:50:59.661Z"
   },
   {
    "duration": 25,
    "start_time": "2022-09-16T13:50:59.685Z"
   },
   {
    "duration": 7,
    "start_time": "2022-09-16T13:50:59.711Z"
   },
   {
    "duration": 5,
    "start_time": "2022-09-16T13:50:59.719Z"
   },
   {
    "duration": 4,
    "start_time": "2022-09-16T13:50:59.726Z"
   },
   {
    "duration": 15,
    "start_time": "2022-09-16T13:50:59.732Z"
   },
   {
    "duration": 26,
    "start_time": "2022-09-16T13:50:59.751Z"
   },
   {
    "duration": 12,
    "start_time": "2022-09-16T13:50:59.779Z"
   },
   {
    "duration": 20,
    "start_time": "2022-09-16T13:50:59.793Z"
   },
   {
    "duration": 9,
    "start_time": "2022-09-16T13:50:59.815Z"
   },
   {
    "duration": 15,
    "start_time": "2022-09-16T13:50:59.825Z"
   },
   {
    "duration": 5,
    "start_time": "2022-09-16T13:50:59.841Z"
   },
   {
    "duration": 31,
    "start_time": "2022-09-16T13:50:59.848Z"
   },
   {
    "duration": 22,
    "start_time": "2022-09-16T13:50:59.880Z"
   },
   {
    "duration": 4,
    "start_time": "2022-09-16T13:50:59.903Z"
   },
   {
    "duration": 7,
    "start_time": "2022-09-16T13:50:59.909Z"
   },
   {
    "duration": 66,
    "start_time": "2022-09-16T13:50:59.918Z"
   },
   {
    "duration": 8,
    "start_time": "2022-09-16T13:50:59.986Z"
   },
   {
    "duration": 282,
    "start_time": "2022-09-16T13:50:59.995Z"
   },
   {
    "duration": 370,
    "start_time": "2022-09-16T13:51:00.279Z"
   },
   {
    "duration": 15,
    "start_time": "2022-09-16T13:51:00.651Z"
   },
   {
    "duration": 31,
    "start_time": "2022-09-16T13:51:00.667Z"
   },
   {
    "duration": 20,
    "start_time": "2022-09-16T13:51:00.699Z"
   },
   {
    "duration": 46,
    "start_time": "2022-09-16T13:51:00.720Z"
   },
   {
    "duration": 18,
    "start_time": "2022-09-16T13:51:00.768Z"
   },
   {
    "duration": 11,
    "start_time": "2022-09-16T13:51:00.788Z"
   },
   {
    "duration": 274,
    "start_time": "2022-09-16T13:51:00.801Z"
   },
   {
    "duration": 4,
    "start_time": "2022-09-16T13:51:01.077Z"
   },
   {
    "duration": 26,
    "start_time": "2022-09-16T13:51:01.083Z"
   },
   {
    "duration": 105,
    "start_time": "2022-09-16T13:51:01.111Z"
   },
   {
    "duration": 124,
    "start_time": "2022-09-16T13:51:01.218Z"
   },
   {
    "duration": 9,
    "start_time": "2022-09-16T13:51:01.344Z"
   },
   {
    "duration": 271,
    "start_time": "2022-09-16T13:51:01.354Z"
   },
   {
    "duration": 117,
    "start_time": "2022-09-16T13:51:01.627Z"
   },
   {
    "duration": 10,
    "start_time": "2022-09-16T13:51:01.746Z"
   },
   {
    "duration": 229,
    "start_time": "2022-09-16T13:51:01.758Z"
   },
   {
    "duration": 196,
    "start_time": "2022-09-16T13:51:01.989Z"
   },
   {
    "duration": 8,
    "start_time": "2022-09-16T13:51:02.187Z"
   },
   {
    "duration": 181,
    "start_time": "2022-09-16T13:51:02.197Z"
   },
   {
    "duration": 4,
    "start_time": "2022-09-16T13:51:02.379Z"
   },
   {
    "duration": 132,
    "start_time": "2022-09-16T13:51:02.384Z"
   },
   {
    "duration": 8,
    "start_time": "2022-09-16T13:51:02.518Z"
   },
   {
    "duration": 203,
    "start_time": "2022-09-16T13:51:02.527Z"
   },
   {
    "duration": 8,
    "start_time": "2022-09-16T13:51:02.732Z"
   },
   {
    "duration": 156,
    "start_time": "2022-09-16T13:51:02.742Z"
   },
   {
    "duration": 9,
    "start_time": "2022-09-16T13:51:02.899Z"
   },
   {
    "duration": 159,
    "start_time": "2022-09-16T13:51:02.909Z"
   },
   {
    "duration": 113,
    "start_time": "2022-09-16T13:51:03.070Z"
   },
   {
    "duration": 9,
    "start_time": "2022-09-16T13:51:03.185Z"
   },
   {
    "duration": 147,
    "start_time": "2022-09-16T13:51:03.195Z"
   },
   {
    "duration": 126,
    "start_time": "2022-09-16T13:51:03.344Z"
   },
   {
    "duration": 10,
    "start_time": "2022-09-16T13:51:03.477Z"
   },
   {
    "duration": 154,
    "start_time": "2022-09-16T13:51:03.488Z"
   },
   {
    "duration": 10,
    "start_time": "2022-09-16T13:51:03.643Z"
   },
   {
    "duration": 286,
    "start_time": "2022-09-16T13:51:03.654Z"
   },
   {
    "duration": 9,
    "start_time": "2022-09-16T13:51:03.942Z"
   },
   {
    "duration": 170,
    "start_time": "2022-09-16T13:51:03.953Z"
   },
   {
    "duration": 9,
    "start_time": "2022-09-16T13:51:04.124Z"
   },
   {
    "duration": 168,
    "start_time": "2022-09-16T13:51:04.135Z"
   },
   {
    "duration": 124,
    "start_time": "2022-09-16T13:51:04.305Z"
   },
   {
    "duration": 145,
    "start_time": "2022-09-16T13:51:04.435Z"
   },
   {
    "duration": 26,
    "start_time": "2022-09-16T13:51:04.582Z"
   },
   {
    "duration": 135,
    "start_time": "2022-09-16T13:51:04.609Z"
   },
   {
    "duration": 9,
    "start_time": "2022-09-16T13:51:04.745Z"
   },
   {
    "duration": 22,
    "start_time": "2022-09-16T13:51:04.756Z"
   },
   {
    "duration": 257,
    "start_time": "2022-09-16T13:51:04.780Z"
   },
   {
    "duration": 221,
    "start_time": "2022-09-16T13:51:05.038Z"
   },
   {
    "duration": 171,
    "start_time": "2022-09-16T13:51:05.261Z"
   },
   {
    "duration": 149,
    "start_time": "2022-09-16T13:51:05.433Z"
   },
   {
    "duration": 279,
    "start_time": "2022-09-16T13:51:05.584Z"
   },
   {
    "duration": 154,
    "start_time": "2022-09-16T13:51:05.865Z"
   },
   {
    "duration": 160,
    "start_time": "2022-09-16T13:51:06.021Z"
   },
   {
    "duration": 12,
    "start_time": "2022-09-16T13:51:06.183Z"
   },
   {
    "duration": 8,
    "start_time": "2022-09-16T13:51:06.197Z"
   },
   {
    "duration": 14,
    "start_time": "2022-09-16T13:51:06.206Z"
   },
   {
    "duration": 8,
    "start_time": "2022-09-16T13:51:06.221Z"
   },
   {
    "duration": 13,
    "start_time": "2022-09-16T13:51:06.230Z"
   },
   {
    "duration": 35,
    "start_time": "2022-09-16T13:51:06.244Z"
   },
   {
    "duration": 9,
    "start_time": "2022-09-16T13:51:06.280Z"
   },
   {
    "duration": 4,
    "start_time": "2022-09-16T13:51:06.290Z"
   },
   {
    "duration": 7,
    "start_time": "2022-09-16T13:51:06.296Z"
   },
   {
    "duration": 5,
    "start_time": "2022-09-16T13:51:06.305Z"
   },
   {
    "duration": 126,
    "start_time": "2022-09-16T13:51:06.311Z"
   },
   {
    "duration": 8,
    "start_time": "2022-09-16T13:51:06.438Z"
   },
   {
    "duration": 26,
    "start_time": "2022-09-16T13:51:06.448Z"
   },
   {
    "duration": 159,
    "start_time": "2022-09-16T13:51:06.476Z"
   },
   {
    "duration": 2312,
    "start_time": "2022-09-16T13:51:48.040Z"
   },
   {
    "duration": 6,
    "start_time": "2022-09-16T13:56:27.928Z"
   },
   {
    "duration": 1222,
    "start_time": "2022-09-16T13:56:31.616Z"
   },
   {
    "duration": 1209,
    "start_time": "2022-09-16T13:56:32.989Z"
   },
   {
    "duration": 643,
    "start_time": "2022-09-16T13:56:43.581Z"
   },
   {
    "duration": 87,
    "start_time": "2022-09-16T13:56:44.226Z"
   },
   {
    "duration": 25,
    "start_time": "2022-09-16T13:56:44.315Z"
   },
   {
    "duration": 22,
    "start_time": "2022-09-16T13:56:44.343Z"
   },
   {
    "duration": 1893,
    "start_time": "2022-09-16T13:56:44.367Z"
   },
   {
    "duration": 10,
    "start_time": "2022-09-16T13:56:46.262Z"
   },
   {
    "duration": 4,
    "start_time": "2022-09-16T13:56:46.274Z"
   },
   {
    "duration": 221,
    "start_time": "2022-09-16T13:56:46.280Z"
   },
   {
    "duration": 10,
    "start_time": "2022-09-16T13:56:46.503Z"
   },
   {
    "duration": 9,
    "start_time": "2022-09-16T13:56:46.515Z"
   },
   {
    "duration": 3,
    "start_time": "2022-09-16T13:56:46.526Z"
   },
   {
    "duration": 6,
    "start_time": "2022-09-16T13:56:46.531Z"
   },
   {
    "duration": 42,
    "start_time": "2022-09-16T13:56:46.538Z"
   },
   {
    "duration": 29,
    "start_time": "2022-09-16T13:56:46.581Z"
   },
   {
    "duration": 26,
    "start_time": "2022-09-16T13:56:46.611Z"
   },
   {
    "duration": 8,
    "start_time": "2022-09-16T13:56:46.638Z"
   },
   {
    "duration": 30,
    "start_time": "2022-09-16T13:56:46.647Z"
   },
   {
    "duration": 5,
    "start_time": "2022-09-16T13:56:46.679Z"
   },
   {
    "duration": 8,
    "start_time": "2022-09-16T13:56:46.686Z"
   },
   {
    "duration": 7,
    "start_time": "2022-09-16T13:56:46.696Z"
   },
   {
    "duration": 6,
    "start_time": "2022-09-16T13:56:46.705Z"
   },
   {
    "duration": 11,
    "start_time": "2022-09-16T13:56:46.712Z"
   },
   {
    "duration": 21,
    "start_time": "2022-09-16T13:56:46.725Z"
   },
   {
    "duration": 33,
    "start_time": "2022-09-16T13:56:46.748Z"
   },
   {
    "duration": 6,
    "start_time": "2022-09-16T13:56:46.783Z"
   },
   {
    "duration": 5,
    "start_time": "2022-09-16T13:56:46.791Z"
   },
   {
    "duration": 9,
    "start_time": "2022-09-16T13:56:46.798Z"
   },
   {
    "duration": 13,
    "start_time": "2022-09-16T13:56:46.813Z"
   },
   {
    "duration": 5,
    "start_time": "2022-09-16T13:56:46.828Z"
   },
   {
    "duration": 14,
    "start_time": "2022-09-16T13:56:46.834Z"
   },
   {
    "duration": 39,
    "start_time": "2022-09-16T13:56:46.850Z"
   },
   {
    "duration": 9,
    "start_time": "2022-09-16T13:56:46.891Z"
   },
   {
    "duration": 11,
    "start_time": "2022-09-16T13:56:46.901Z"
   },
   {
    "duration": 3,
    "start_time": "2022-09-16T13:56:46.914Z"
   },
   {
    "duration": 6,
    "start_time": "2022-09-16T13:56:46.919Z"
   },
   {
    "duration": 22,
    "start_time": "2022-09-16T13:56:46.926Z"
   },
   {
    "duration": 29,
    "start_time": "2022-09-16T13:56:46.950Z"
   },
   {
    "duration": 7,
    "start_time": "2022-09-16T13:56:46.981Z"
   },
   {
    "duration": 51,
    "start_time": "2022-09-16T13:56:46.989Z"
   },
   {
    "duration": 8,
    "start_time": "2022-09-16T13:56:47.042Z"
   },
   {
    "duration": 316,
    "start_time": "2022-09-16T13:56:47.052Z"
   },
   {
    "duration": 390,
    "start_time": "2022-09-16T13:56:47.369Z"
   },
   {
    "duration": 25,
    "start_time": "2022-09-16T13:56:47.761Z"
   },
   {
    "duration": 13,
    "start_time": "2022-09-16T13:56:47.788Z"
   },
   {
    "duration": 7,
    "start_time": "2022-09-16T13:56:47.803Z"
   },
   {
    "duration": 20,
    "start_time": "2022-09-16T13:56:47.812Z"
   },
   {
    "duration": 15,
    "start_time": "2022-09-16T13:56:47.835Z"
   },
   {
    "duration": 16,
    "start_time": "2022-09-16T13:56:47.853Z"
   },
   {
    "duration": 300,
    "start_time": "2022-09-16T13:56:47.872Z"
   },
   {
    "duration": 5,
    "start_time": "2022-09-16T13:56:48.174Z"
   },
   {
    "duration": 24,
    "start_time": "2022-09-16T13:56:48.180Z"
   },
   {
    "duration": 111,
    "start_time": "2022-09-16T13:56:48.206Z"
   },
   {
    "duration": 137,
    "start_time": "2022-09-16T13:56:48.319Z"
   },
   {
    "duration": 8,
    "start_time": "2022-09-16T13:56:48.458Z"
   },
   {
    "duration": 243,
    "start_time": "2022-09-16T13:56:48.476Z"
   },
   {
    "duration": 108,
    "start_time": "2022-09-16T13:56:48.724Z"
   },
   {
    "duration": 8,
    "start_time": "2022-09-16T13:56:48.834Z"
   },
   {
    "duration": 230,
    "start_time": "2022-09-16T13:56:48.844Z"
   },
   {
    "duration": 175,
    "start_time": "2022-09-16T13:56:49.077Z"
   },
   {
    "duration": 9,
    "start_time": "2022-09-16T13:56:49.254Z"
   },
   {
    "duration": 178,
    "start_time": "2022-09-16T13:56:49.264Z"
   },
   {
    "duration": 4,
    "start_time": "2022-09-16T13:56:49.444Z"
   },
   {
    "duration": 121,
    "start_time": "2022-09-16T13:56:49.450Z"
   },
   {
    "duration": 12,
    "start_time": "2022-09-16T13:56:49.572Z"
   },
   {
    "duration": 200,
    "start_time": "2022-09-16T13:56:49.586Z"
   },
   {
    "duration": 12,
    "start_time": "2022-09-16T13:56:49.788Z"
   },
   {
    "duration": 167,
    "start_time": "2022-09-16T13:56:49.802Z"
   },
   {
    "duration": 9,
    "start_time": "2022-09-16T13:56:49.976Z"
   },
   {
    "duration": 154,
    "start_time": "2022-09-16T13:56:49.986Z"
   },
   {
    "duration": 111,
    "start_time": "2022-09-16T13:56:50.142Z"
   },
   {
    "duration": 9,
    "start_time": "2022-09-16T13:56:50.255Z"
   },
   {
    "duration": 136,
    "start_time": "2022-09-16T13:56:50.276Z"
   },
   {
    "duration": 122,
    "start_time": "2022-09-16T13:56:50.414Z"
   },
   {
    "duration": 9,
    "start_time": "2022-09-16T13:56:50.537Z"
   },
   {
    "duration": 156,
    "start_time": "2022-09-16T13:56:50.548Z"
   },
   {
    "duration": 10,
    "start_time": "2022-09-16T13:56:50.706Z"
   },
   {
    "duration": 255,
    "start_time": "2022-09-16T13:56:50.718Z"
   },
   {
    "duration": 11,
    "start_time": "2022-09-16T13:56:50.977Z"
   },
   {
    "duration": 176,
    "start_time": "2022-09-16T13:56:50.990Z"
   },
   {
    "duration": 16,
    "start_time": "2022-09-16T13:56:51.168Z"
   },
   {
    "duration": 161,
    "start_time": "2022-09-16T13:56:51.186Z"
   },
   {
    "duration": 127,
    "start_time": "2022-09-16T13:56:51.352Z"
   },
   {
    "duration": 142,
    "start_time": "2022-09-16T13:56:51.481Z"
   },
   {
    "duration": 27,
    "start_time": "2022-09-16T13:56:51.624Z"
   },
   {
    "duration": 136,
    "start_time": "2022-09-16T13:56:51.653Z"
   },
   {
    "duration": 10,
    "start_time": "2022-09-16T13:56:51.790Z"
   },
   {
    "duration": 11,
    "start_time": "2022-09-16T13:56:51.801Z"
   },
   {
    "duration": 274,
    "start_time": "2022-09-16T13:56:51.813Z"
   },
   {
    "duration": 201,
    "start_time": "2022-09-16T13:56:52.089Z"
   },
   {
    "duration": 170,
    "start_time": "2022-09-16T13:56:52.291Z"
   },
   {
    "duration": 156,
    "start_time": "2022-09-16T13:56:52.462Z"
   },
   {
    "duration": 294,
    "start_time": "2022-09-16T13:56:52.620Z"
   },
   {
    "duration": 164,
    "start_time": "2022-09-16T13:56:52.916Z"
   },
   {
    "duration": 149,
    "start_time": "2022-09-16T13:56:53.082Z"
   },
   {
    "duration": 12,
    "start_time": "2022-09-16T13:56:53.232Z"
   },
   {
    "duration": 6,
    "start_time": "2022-09-16T13:56:53.245Z"
   },
   {
    "duration": 32,
    "start_time": "2022-09-16T13:56:53.253Z"
   },
   {
    "duration": 7,
    "start_time": "2022-09-16T13:56:53.287Z"
   },
   {
    "duration": 10,
    "start_time": "2022-09-16T13:56:53.295Z"
   },
   {
    "duration": 10,
    "start_time": "2022-09-16T13:56:53.307Z"
   },
   {
    "duration": 8,
    "start_time": "2022-09-16T13:56:53.319Z"
   },
   {
    "duration": 4,
    "start_time": "2022-09-16T13:56:53.329Z"
   },
   {
    "duration": 46,
    "start_time": "2022-09-16T13:56:53.335Z"
   },
   {
    "duration": 6,
    "start_time": "2022-09-16T13:56:53.382Z"
   },
   {
    "duration": 110,
    "start_time": "2022-09-16T13:56:53.389Z"
   },
   {
    "duration": 9,
    "start_time": "2022-09-16T13:56:53.501Z"
   },
   {
    "duration": 5,
    "start_time": "2022-09-16T13:56:53.511Z"
   },
   {
    "duration": 183,
    "start_time": "2022-09-16T13:56:53.518Z"
   },
   {
    "duration": 3,
    "start_time": "2022-09-16T14:04:18.308Z"
   },
   {
    "duration": 8,
    "start_time": "2022-09-16T14:12:45.290Z"
   },
   {
    "duration": 5,
    "start_time": "2022-09-16T14:13:07.033Z"
   },
   {
    "duration": 29,
    "start_time": "2022-09-16T14:14:57.324Z"
   },
   {
    "duration": 6,
    "start_time": "2022-09-16T14:20:31.749Z"
   },
   {
    "duration": 4,
    "start_time": "2022-09-16T14:21:04.165Z"
   },
   {
    "duration": 4,
    "start_time": "2022-09-16T14:21:08.647Z"
   },
   {
    "duration": 5,
    "start_time": "2022-09-16T14:21:09.519Z"
   },
   {
    "duration": 28,
    "start_time": "2022-09-16T14:21:24.695Z"
   },
   {
    "duration": 644,
    "start_time": "2022-09-16T14:21:48.373Z"
   },
   {
    "duration": 87,
    "start_time": "2022-09-16T14:21:49.018Z"
   },
   {
    "duration": 24,
    "start_time": "2022-09-16T14:21:49.107Z"
   },
   {
    "duration": 13,
    "start_time": "2022-09-16T14:21:49.133Z"
   },
   {
    "duration": 1933,
    "start_time": "2022-09-16T14:21:49.147Z"
   },
   {
    "duration": 8,
    "start_time": "2022-09-16T14:21:51.081Z"
   },
   {
    "duration": 3,
    "start_time": "2022-09-16T14:21:51.091Z"
   },
   {
    "duration": 223,
    "start_time": "2022-09-16T14:21:51.095Z"
   },
   {
    "duration": 9,
    "start_time": "2022-09-16T14:21:51.319Z"
   },
   {
    "duration": 8,
    "start_time": "2022-09-16T14:21:51.330Z"
   },
   {
    "duration": 5,
    "start_time": "2022-09-16T14:21:51.340Z"
   },
   {
    "duration": 8,
    "start_time": "2022-09-16T14:21:51.346Z"
   },
   {
    "duration": 33,
    "start_time": "2022-09-16T14:21:51.355Z"
   },
   {
    "duration": 25,
    "start_time": "2022-09-16T14:21:51.390Z"
   },
   {
    "duration": 26,
    "start_time": "2022-09-16T14:21:51.417Z"
   },
   {
    "duration": 5,
    "start_time": "2022-09-16T14:21:51.444Z"
   },
   {
    "duration": 29,
    "start_time": "2022-09-16T14:21:51.451Z"
   },
   {
    "duration": 4,
    "start_time": "2022-09-16T14:21:51.481Z"
   },
   {
    "duration": 6,
    "start_time": "2022-09-16T14:21:51.487Z"
   },
   {
    "duration": 6,
    "start_time": "2022-09-16T14:21:51.494Z"
   },
   {
    "duration": 7,
    "start_time": "2022-09-16T14:21:51.502Z"
   },
   {
    "duration": 7,
    "start_time": "2022-09-16T14:21:51.511Z"
   },
   {
    "duration": 25,
    "start_time": "2022-09-16T14:21:51.520Z"
   },
   {
    "duration": 30,
    "start_time": "2022-09-16T14:21:51.547Z"
   },
   {
    "duration": 6,
    "start_time": "2022-09-16T14:21:51.579Z"
   },
   {
    "duration": 5,
    "start_time": "2022-09-16T14:21:51.586Z"
   },
   {
    "duration": 10,
    "start_time": "2022-09-16T14:21:51.593Z"
   },
   {
    "duration": 14,
    "start_time": "2022-09-16T14:21:51.608Z"
   },
   {
    "duration": 4,
    "start_time": "2022-09-16T14:21:51.624Z"
   },
   {
    "duration": 16,
    "start_time": "2022-09-16T14:21:51.629Z"
   },
   {
    "duration": 42,
    "start_time": "2022-09-16T14:21:51.646Z"
   },
   {
    "duration": 11,
    "start_time": "2022-09-16T14:21:51.689Z"
   },
   {
    "duration": 13,
    "start_time": "2022-09-16T14:21:51.701Z"
   },
   {
    "duration": 9,
    "start_time": "2022-09-16T14:21:51.715Z"
   },
   {
    "duration": 12,
    "start_time": "2022-09-16T14:21:51.726Z"
   },
   {
    "duration": 24,
    "start_time": "2022-09-16T14:21:51.740Z"
   },
   {
    "duration": 15,
    "start_time": "2022-09-16T14:21:51.765Z"
   },
   {
    "duration": 7,
    "start_time": "2022-09-16T14:21:51.782Z"
   },
   {
    "duration": 15,
    "start_time": "2022-09-16T14:21:51.790Z"
   },
   {
    "duration": 25,
    "start_time": "2022-09-16T14:21:51.807Z"
   },
   {
    "duration": 3,
    "start_time": "2022-09-16T14:21:51.834Z"
   },
   {
    "duration": 41,
    "start_time": "2022-09-16T14:21:51.839Z"
   },
   {
    "duration": 52,
    "start_time": "2022-09-16T14:21:51.882Z"
   },
   {
    "duration": 9,
    "start_time": "2022-09-16T14:21:51.936Z"
   },
   {
    "duration": 298,
    "start_time": "2022-09-16T14:21:51.946Z"
   },
   {
    "duration": 382,
    "start_time": "2022-09-16T14:21:52.246Z"
   },
   {
    "duration": 16,
    "start_time": "2022-09-16T14:21:52.630Z"
   },
   {
    "duration": 11,
    "start_time": "2022-09-16T14:21:52.648Z"
   },
   {
    "duration": 8,
    "start_time": "2022-09-16T14:21:52.676Z"
   },
   {
    "duration": 6,
    "start_time": "2022-09-16T14:21:52.685Z"
   },
   {
    "duration": 5,
    "start_time": "2022-09-16T14:21:52.693Z"
   },
   {
    "duration": 3,
    "start_time": "2022-09-16T14:21:52.700Z"
   },
   {
    "duration": 289,
    "start_time": "2022-09-16T14:21:52.704Z"
   },
   {
    "duration": 5,
    "start_time": "2022-09-16T14:21:52.994Z"
   },
   {
    "duration": 24,
    "start_time": "2022-09-16T14:21:53.000Z"
   },
   {
    "duration": 110,
    "start_time": "2022-09-16T14:21:53.025Z"
   },
   {
    "duration": 125,
    "start_time": "2022-09-16T14:21:53.137Z"
   },
   {
    "duration": 15,
    "start_time": "2022-09-16T14:21:53.264Z"
   },
   {
    "duration": 252,
    "start_time": "2022-09-16T14:21:53.280Z"
   },
   {
    "duration": 118,
    "start_time": "2022-09-16T14:21:53.534Z"
   },
   {
    "duration": 10,
    "start_time": "2022-09-16T14:21:53.654Z"
   },
   {
    "duration": 227,
    "start_time": "2022-09-16T14:21:53.677Z"
   },
   {
    "duration": 182,
    "start_time": "2022-09-16T14:21:53.906Z"
   },
   {
    "duration": 10,
    "start_time": "2022-09-16T14:21:54.090Z"
   },
   {
    "duration": 181,
    "start_time": "2022-09-16T14:21:54.102Z"
   },
   {
    "duration": 4,
    "start_time": "2022-09-16T14:21:54.285Z"
   },
   {
    "duration": 120,
    "start_time": "2022-09-16T14:21:54.290Z"
   },
   {
    "duration": 9,
    "start_time": "2022-09-16T14:21:54.412Z"
   },
   {
    "duration": 202,
    "start_time": "2022-09-16T14:21:54.423Z"
   },
   {
    "duration": 9,
    "start_time": "2022-09-16T14:21:54.627Z"
   },
   {
    "duration": 153,
    "start_time": "2022-09-16T14:21:54.638Z"
   },
   {
    "duration": 9,
    "start_time": "2022-09-16T14:21:54.793Z"
   },
   {
    "duration": 162,
    "start_time": "2022-09-16T14:21:54.804Z"
   },
   {
    "duration": 113,
    "start_time": "2022-09-16T14:21:54.968Z"
   },
   {
    "duration": 8,
    "start_time": "2022-09-16T14:21:55.083Z"
   },
   {
    "duration": 141,
    "start_time": "2022-09-16T14:21:55.093Z"
   },
   {
    "duration": 125,
    "start_time": "2022-09-16T14:21:55.235Z"
   },
   {
    "duration": 19,
    "start_time": "2022-09-16T14:21:55.362Z"
   },
   {
    "duration": 150,
    "start_time": "2022-09-16T14:21:55.382Z"
   },
   {
    "duration": 9,
    "start_time": "2022-09-16T14:21:55.534Z"
   },
   {
    "duration": 243,
    "start_time": "2022-09-16T14:21:55.545Z"
   },
   {
    "duration": 10,
    "start_time": "2022-09-16T14:21:55.794Z"
   },
   {
    "duration": 178,
    "start_time": "2022-09-16T14:21:55.805Z"
   },
   {
    "duration": 9,
    "start_time": "2022-09-16T14:21:55.984Z"
   },
   {
    "duration": 160,
    "start_time": "2022-09-16T14:21:55.994Z"
   },
   {
    "duration": 121,
    "start_time": "2022-09-16T14:21:56.156Z"
   },
   {
    "duration": 139,
    "start_time": "2022-09-16T14:21:56.278Z"
   },
   {
    "duration": 25,
    "start_time": "2022-09-16T14:21:56.419Z"
   },
   {
    "duration": 135,
    "start_time": "2022-09-16T14:21:56.446Z"
   },
   {
    "duration": 9,
    "start_time": "2022-09-16T14:21:56.582Z"
   },
   {
    "duration": 10,
    "start_time": "2022-09-16T14:21:56.593Z"
   },
   {
    "duration": 256,
    "start_time": "2022-09-16T14:21:56.605Z"
   },
   {
    "duration": 207,
    "start_time": "2022-09-16T14:21:56.863Z"
   },
   {
    "duration": 167,
    "start_time": "2022-09-16T14:21:57.071Z"
   },
   {
    "duration": 159,
    "start_time": "2022-09-16T14:21:57.240Z"
   },
   {
    "duration": 292,
    "start_time": "2022-09-16T14:21:57.401Z"
   },
   {
    "duration": 190,
    "start_time": "2022-09-16T14:21:57.695Z"
   },
   {
    "duration": 152,
    "start_time": "2022-09-16T14:21:57.887Z"
   },
   {
    "duration": 11,
    "start_time": "2022-09-16T14:21:58.041Z"
   },
   {
    "duration": 13,
    "start_time": "2022-09-16T14:21:58.054Z"
   },
   {
    "duration": 20,
    "start_time": "2022-09-16T14:21:58.077Z"
   },
   {
    "duration": 9,
    "start_time": "2022-09-16T14:21:58.098Z"
   },
   {
    "duration": 23,
    "start_time": "2022-09-16T14:21:58.108Z"
   },
   {
    "duration": 15,
    "start_time": "2022-09-16T14:21:58.132Z"
   },
   {
    "duration": 21,
    "start_time": "2022-09-16T14:21:58.148Z"
   },
   {
    "duration": 16,
    "start_time": "2022-09-16T14:21:58.170Z"
   },
   {
    "duration": 10,
    "start_time": "2022-09-16T14:21:58.188Z"
   },
   {
    "duration": 32,
    "start_time": "2022-09-16T14:21:58.199Z"
   },
   {
    "duration": 100,
    "start_time": "2022-09-16T14:21:58.233Z"
   },
   {
    "duration": 9,
    "start_time": "2022-09-16T14:21:58.335Z"
   },
   {
    "duration": 9,
    "start_time": "2022-09-16T14:21:58.345Z"
   },
   {
    "duration": 149,
    "start_time": "2022-09-16T14:21:58.356Z"
   },
   {
    "duration": 743,
    "start_time": "2022-09-16T14:22:18.345Z"
   },
   {
    "duration": 99,
    "start_time": "2022-09-16T14:22:19.090Z"
   },
   {
    "duration": 31,
    "start_time": "2022-09-16T14:22:19.192Z"
   },
   {
    "duration": 15,
    "start_time": "2022-09-16T14:22:19.227Z"
   },
   {
    "duration": 2065,
    "start_time": "2022-09-16T14:22:19.243Z"
   },
   {
    "duration": 12,
    "start_time": "2022-09-16T14:22:21.310Z"
   },
   {
    "duration": 7,
    "start_time": "2022-09-16T14:22:21.324Z"
   },
   {
    "duration": 249,
    "start_time": "2022-09-16T14:22:21.333Z"
   },
   {
    "duration": 10,
    "start_time": "2022-09-16T14:22:21.584Z"
   },
   {
    "duration": 9,
    "start_time": "2022-09-16T14:22:21.597Z"
   },
   {
    "duration": 5,
    "start_time": "2022-09-16T14:22:21.607Z"
   },
   {
    "duration": 9,
    "start_time": "2022-09-16T14:22:21.613Z"
   },
   {
    "duration": 29,
    "start_time": "2022-09-16T14:22:21.624Z"
   },
   {
    "duration": 40,
    "start_time": "2022-09-16T14:22:21.680Z"
   },
   {
    "duration": 36,
    "start_time": "2022-09-16T14:22:21.721Z"
   },
   {
    "duration": 7,
    "start_time": "2022-09-16T14:22:21.778Z"
   },
   {
    "duration": 10,
    "start_time": "2022-09-16T14:22:21.787Z"
   },
   {
    "duration": 6,
    "start_time": "2022-09-16T14:22:21.799Z"
   },
   {
    "duration": 6,
    "start_time": "2022-09-16T14:22:21.806Z"
   },
   {
    "duration": 8,
    "start_time": "2022-09-16T14:22:21.814Z"
   },
   {
    "duration": 8,
    "start_time": "2022-09-16T14:22:21.823Z"
   },
   {
    "duration": 46,
    "start_time": "2022-09-16T14:22:21.833Z"
   },
   {
    "duration": 23,
    "start_time": "2022-09-16T14:22:21.880Z"
   },
   {
    "duration": 12,
    "start_time": "2022-09-16T14:22:21.904Z"
   },
   {
    "duration": 8,
    "start_time": "2022-09-16T14:22:21.917Z"
   },
   {
    "duration": 7,
    "start_time": "2022-09-16T14:22:21.926Z"
   },
   {
    "duration": 6,
    "start_time": "2022-09-16T14:22:21.935Z"
   },
   {
    "duration": 33,
    "start_time": "2022-09-16T14:22:21.945Z"
   },
   {
    "duration": 5,
    "start_time": "2022-09-16T14:22:21.980Z"
   },
   {
    "duration": 16,
    "start_time": "2022-09-16T14:22:21.987Z"
   },
   {
    "duration": 18,
    "start_time": "2022-09-16T14:22:22.005Z"
   },
   {
    "duration": 16,
    "start_time": "2022-09-16T14:22:22.024Z"
   },
   {
    "duration": 15,
    "start_time": "2022-09-16T14:22:22.042Z"
   },
   {
    "duration": 31,
    "start_time": "2022-09-16T14:22:22.059Z"
   },
   {
    "duration": 13,
    "start_time": "2022-09-16T14:22:22.092Z"
   },
   {
    "duration": 30,
    "start_time": "2022-09-16T14:22:22.106Z"
   },
   {
    "duration": 4,
    "start_time": "2022-09-16T14:22:22.138Z"
   },
   {
    "duration": 15,
    "start_time": "2022-09-16T14:22:22.143Z"
   },
   {
    "duration": 5,
    "start_time": "2022-09-16T14:22:22.159Z"
   },
   {
    "duration": 30,
    "start_time": "2022-09-16T14:22:22.166Z"
   },
   {
    "duration": 5,
    "start_time": "2022-09-16T14:22:22.198Z"
   },
   {
    "duration": 15,
    "start_time": "2022-09-16T14:22:22.205Z"
   },
   {
    "duration": 63,
    "start_time": "2022-09-16T14:22:22.222Z"
   },
   {
    "duration": 11,
    "start_time": "2022-09-16T14:22:22.287Z"
   },
   {
    "duration": 333,
    "start_time": "2022-09-16T14:22:22.300Z"
   },
   {
    "duration": 505,
    "start_time": "2022-09-16T14:22:22.635Z"
   },
   {
    "duration": 22,
    "start_time": "2022-09-16T14:22:23.142Z"
   },
   {
    "duration": 20,
    "start_time": "2022-09-16T14:22:23.166Z"
   },
   {
    "duration": 12,
    "start_time": "2022-09-16T14:22:23.188Z"
   },
   {
    "duration": 18,
    "start_time": "2022-09-16T14:22:23.202Z"
   },
   {
    "duration": 7,
    "start_time": "2022-09-16T14:22:23.221Z"
   },
   {
    "duration": 6,
    "start_time": "2022-09-16T14:22:23.230Z"
   },
   {
    "duration": 289,
    "start_time": "2022-09-16T14:22:23.238Z"
   },
   {
    "duration": 5,
    "start_time": "2022-09-16T14:22:23.528Z"
   },
   {
    "duration": 29,
    "start_time": "2022-09-16T14:22:23.534Z"
   },
   {
    "duration": 114,
    "start_time": "2022-09-16T14:22:23.565Z"
   },
   {
    "duration": 162,
    "start_time": "2022-09-16T14:22:23.681Z"
   },
   {
    "duration": 20,
    "start_time": "2022-09-16T14:22:23.846Z"
   },
   {
    "duration": 312,
    "start_time": "2022-09-16T14:22:23.869Z"
   },
   {
    "duration": 132,
    "start_time": "2022-09-16T14:22:24.183Z"
   },
   {
    "duration": 9,
    "start_time": "2022-09-16T14:22:24.316Z"
   },
   {
    "duration": 229,
    "start_time": "2022-09-16T14:22:24.327Z"
   },
   {
    "duration": 183,
    "start_time": "2022-09-16T14:22:24.558Z"
   },
   {
    "duration": 12,
    "start_time": "2022-09-16T14:22:24.743Z"
   },
   {
    "duration": 196,
    "start_time": "2022-09-16T14:22:24.756Z"
   },
   {
    "duration": 5,
    "start_time": "2022-09-16T14:22:24.955Z"
   },
   {
    "duration": 173,
    "start_time": "2022-09-16T14:22:24.962Z"
   },
   {
    "duration": 9,
    "start_time": "2022-09-16T14:22:25.137Z"
   },
   {
    "duration": 232,
    "start_time": "2022-09-16T14:22:25.148Z"
   },
   {
    "duration": 9,
    "start_time": "2022-09-16T14:22:25.382Z"
   },
   {
    "duration": 172,
    "start_time": "2022-09-16T14:22:25.393Z"
   },
   {
    "duration": 18,
    "start_time": "2022-09-16T14:22:25.567Z"
   },
   {
    "duration": 181,
    "start_time": "2022-09-16T14:22:25.588Z"
   },
   {
    "duration": 138,
    "start_time": "2022-09-16T14:22:25.771Z"
   },
   {
    "duration": 13,
    "start_time": "2022-09-16T14:22:25.911Z"
   },
   {
    "duration": 178,
    "start_time": "2022-09-16T14:22:25.927Z"
   },
   {
    "duration": 141,
    "start_time": "2022-09-16T14:22:26.107Z"
   },
   {
    "duration": 13,
    "start_time": "2022-09-16T14:22:26.250Z"
   },
   {
    "duration": 188,
    "start_time": "2022-09-16T14:22:26.277Z"
   },
   {
    "duration": 11,
    "start_time": "2022-09-16T14:22:26.467Z"
   },
   {
    "duration": 268,
    "start_time": "2022-09-16T14:22:26.479Z"
   },
   {
    "duration": 11,
    "start_time": "2022-09-16T14:22:26.752Z"
   },
   {
    "duration": 226,
    "start_time": "2022-09-16T14:22:26.764Z"
   },
   {
    "duration": 10,
    "start_time": "2022-09-16T14:22:26.992Z"
   },
   {
    "duration": 194,
    "start_time": "2022-09-16T14:22:27.003Z"
   },
   {
    "duration": 151,
    "start_time": "2022-09-16T14:22:27.199Z"
   },
   {
    "duration": 153,
    "start_time": "2022-09-16T14:22:27.351Z"
   },
   {
    "duration": 26,
    "start_time": "2022-09-16T14:22:27.506Z"
   },
   {
    "duration": 174,
    "start_time": "2022-09-16T14:22:27.534Z"
   },
   {
    "duration": 12,
    "start_time": "2022-09-16T14:22:27.709Z"
   },
   {
    "duration": 65,
    "start_time": "2022-09-16T14:22:27.723Z"
   },
   {
    "duration": 315,
    "start_time": "2022-09-16T14:22:27.790Z"
   },
   {
    "duration": 215,
    "start_time": "2022-09-16T14:22:28.107Z"
   },
   {
    "duration": 160,
    "start_time": "2022-09-16T14:22:28.324Z"
   },
   {
    "duration": 154,
    "start_time": "2022-09-16T14:22:28.485Z"
   },
   {
    "duration": 253,
    "start_time": "2022-09-16T14:22:28.641Z"
   },
   {
    "duration": 168,
    "start_time": "2022-09-16T14:22:28.895Z"
   },
   {
    "duration": 153,
    "start_time": "2022-09-16T14:22:29.065Z"
   },
   {
    "duration": 11,
    "start_time": "2022-09-16T14:22:29.220Z"
   },
   {
    "duration": 47,
    "start_time": "2022-09-16T14:22:29.232Z"
   },
   {
    "duration": 42,
    "start_time": "2022-09-16T14:22:29.280Z"
   },
   {
    "duration": 42,
    "start_time": "2022-09-16T14:22:29.324Z"
   },
   {
    "duration": 48,
    "start_time": "2022-09-16T14:22:29.368Z"
   },
   {
    "duration": 24,
    "start_time": "2022-09-16T14:22:29.417Z"
   },
   {
    "duration": 36,
    "start_time": "2022-09-16T14:22:29.443Z"
   },
   {
    "duration": 16,
    "start_time": "2022-09-16T14:22:29.480Z"
   },
   {
    "duration": 32,
    "start_time": "2022-09-16T14:22:29.498Z"
   },
   {
    "duration": 18,
    "start_time": "2022-09-16T14:22:29.532Z"
   },
   {
    "duration": 108,
    "start_time": "2022-09-16T14:22:29.551Z"
   },
   {
    "duration": 8,
    "start_time": "2022-09-16T14:22:29.661Z"
   },
   {
    "duration": 15,
    "start_time": "2022-09-16T14:22:29.676Z"
   },
   {
    "duration": 176,
    "start_time": "2022-09-16T14:22:29.693Z"
   },
   {
    "duration": 13,
    "start_time": "2022-09-16T14:22:42.525Z"
   },
   {
    "duration": 273,
    "start_time": "2022-09-16T14:25:19.911Z"
   },
   {
    "duration": 69,
    "start_time": "2022-09-16T14:26:21.419Z"
   },
   {
    "duration": 5,
    "start_time": "2022-09-16T14:29:07.047Z"
   },
   {
    "duration": 5,
    "start_time": "2022-09-16T14:30:39.621Z"
   },
   {
    "duration": 645,
    "start_time": "2022-09-16T14:32:50.181Z"
   },
   {
    "duration": 89,
    "start_time": "2022-09-16T14:32:50.828Z"
   },
   {
    "duration": 25,
    "start_time": "2022-09-16T14:32:50.918Z"
   },
   {
    "duration": 14,
    "start_time": "2022-09-16T14:32:50.945Z"
   },
   {
    "duration": 2053,
    "start_time": "2022-09-16T14:32:50.960Z"
   },
   {
    "duration": 8,
    "start_time": "2022-09-16T14:32:53.015Z"
   },
   {
    "duration": 4,
    "start_time": "2022-09-16T14:32:53.025Z"
   },
   {
    "duration": 217,
    "start_time": "2022-09-16T14:32:53.030Z"
   },
   {
    "duration": 9,
    "start_time": "2022-09-16T14:32:53.248Z"
   },
   {
    "duration": 19,
    "start_time": "2022-09-16T14:32:53.259Z"
   },
   {
    "duration": 4,
    "start_time": "2022-09-16T14:32:53.279Z"
   },
   {
    "duration": 9,
    "start_time": "2022-09-16T14:32:53.284Z"
   },
   {
    "duration": 15,
    "start_time": "2022-09-16T14:32:53.294Z"
   },
   {
    "duration": 25,
    "start_time": "2022-09-16T14:32:53.311Z"
   },
   {
    "duration": 49,
    "start_time": "2022-09-16T14:32:53.338Z"
   },
   {
    "duration": 6,
    "start_time": "2022-09-16T14:32:53.388Z"
   },
   {
    "duration": 7,
    "start_time": "2022-09-16T14:32:53.395Z"
   },
   {
    "duration": 8,
    "start_time": "2022-09-16T14:32:53.403Z"
   },
   {
    "duration": 4,
    "start_time": "2022-09-16T14:32:53.413Z"
   },
   {
    "duration": 4,
    "start_time": "2022-09-16T14:32:53.419Z"
   },
   {
    "duration": 5,
    "start_time": "2022-09-16T14:32:53.425Z"
   },
   {
    "duration": 7,
    "start_time": "2022-09-16T14:32:53.432Z"
   },
   {
    "duration": 45,
    "start_time": "2022-09-16T14:32:53.440Z"
   },
   {
    "duration": 9,
    "start_time": "2022-09-16T14:32:53.487Z"
   },
   {
    "duration": 5,
    "start_time": "2022-09-16T14:32:53.498Z"
   },
   {
    "duration": 4,
    "start_time": "2022-09-16T14:32:53.505Z"
   },
   {
    "duration": 6,
    "start_time": "2022-09-16T14:32:53.511Z"
   },
   {
    "duration": 13,
    "start_time": "2022-09-16T14:32:53.521Z"
   },
   {
    "duration": 5,
    "start_time": "2022-09-16T14:32:53.535Z"
   },
   {
    "duration": 45,
    "start_time": "2022-09-16T14:32:53.541Z"
   },
   {
    "duration": 15,
    "start_time": "2022-09-16T14:32:53.588Z"
   },
   {
    "duration": 9,
    "start_time": "2022-09-16T14:32:53.605Z"
   },
   {
    "duration": 11,
    "start_time": "2022-09-16T14:32:53.616Z"
   },
   {
    "duration": 3,
    "start_time": "2022-09-16T14:32:53.628Z"
   },
   {
    "duration": 7,
    "start_time": "2022-09-16T14:32:53.633Z"
   },
   {
    "duration": 41,
    "start_time": "2022-09-16T14:32:53.641Z"
   },
   {
    "duration": 4,
    "start_time": "2022-09-16T14:32:53.684Z"
   },
   {
    "duration": 9,
    "start_time": "2022-09-16T14:32:53.690Z"
   },
   {
    "duration": 7,
    "start_time": "2022-09-16T14:32:53.701Z"
   },
   {
    "duration": 34,
    "start_time": "2022-09-16T14:32:53.710Z"
   },
   {
    "duration": 305,
    "start_time": "2022-09-16T14:32:53.746Z"
   },
   {
    "duration": 62,
    "start_time": "2022-09-16T14:32:54.054Z"
   },
   {
    "duration": 11,
    "start_time": "2022-09-16T14:32:54.118Z"
   },
   {
    "duration": 393,
    "start_time": "2022-09-16T14:32:54.131Z"
   },
   {
    "duration": 289,
    "start_time": "2022-09-16T14:32:54.526Z"
   },
   {
    "duration": 16,
    "start_time": "2022-09-16T14:32:54.816Z"
   },
   {
    "duration": 11,
    "start_time": "2022-09-16T14:32:54.833Z"
   },
   {
    "duration": 8,
    "start_time": "2022-09-16T14:32:54.845Z"
   },
   {
    "duration": 25,
    "start_time": "2022-09-16T14:32:54.854Z"
   },
   {
    "duration": 6,
    "start_time": "2022-09-16T14:32:54.880Z"
   },
   {
    "duration": 3,
    "start_time": "2022-09-16T14:32:54.887Z"
   },
   {
    "duration": 264,
    "start_time": "2022-09-16T14:32:54.892Z"
   },
   {
    "duration": 4,
    "start_time": "2022-09-16T14:32:55.158Z"
   },
   {
    "duration": 28,
    "start_time": "2022-09-16T14:32:55.164Z"
   },
   {
    "duration": 115,
    "start_time": "2022-09-16T14:32:55.194Z"
   },
   {
    "duration": 147,
    "start_time": "2022-09-16T14:32:55.310Z"
   },
   {
    "duration": 9,
    "start_time": "2022-09-16T14:32:55.459Z"
   },
   {
    "duration": 248,
    "start_time": "2022-09-16T14:32:55.469Z"
   },
   {
    "duration": 199,
    "start_time": "2022-09-16T14:32:55.719Z"
   },
   {
    "duration": 9,
    "start_time": "2022-09-16T14:32:55.920Z"
   },
   {
    "duration": 231,
    "start_time": "2022-09-16T14:32:55.930Z"
   },
   {
    "duration": 106,
    "start_time": "2022-09-16T14:32:56.163Z"
   },
   {
    "duration": 13,
    "start_time": "2022-09-16T14:32:56.270Z"
   },
   {
    "duration": 177,
    "start_time": "2022-09-16T14:32:56.285Z"
   },
   {
    "duration": 3,
    "start_time": "2022-09-16T14:32:56.464Z"
   },
   {
    "duration": 119,
    "start_time": "2022-09-16T14:32:56.477Z"
   },
   {
    "duration": 10,
    "start_time": "2022-09-16T14:32:56.598Z"
   },
   {
    "duration": 193,
    "start_time": "2022-09-16T14:32:56.609Z"
   },
   {
    "duration": 8,
    "start_time": "2022-09-16T14:32:56.804Z"
   },
   {
    "duration": 149,
    "start_time": "2022-09-16T14:32:56.814Z"
   },
   {
    "duration": 18,
    "start_time": "2022-09-16T14:32:56.964Z"
   },
   {
    "duration": 153,
    "start_time": "2022-09-16T14:32:56.983Z"
   },
   {
    "duration": 118,
    "start_time": "2022-09-16T14:32:57.137Z"
   },
   {
    "duration": 9,
    "start_time": "2022-09-16T14:32:57.257Z"
   },
   {
    "duration": 218,
    "start_time": "2022-09-16T14:32:57.277Z"
   },
   {
    "duration": 146,
    "start_time": "2022-09-16T14:32:57.497Z"
   },
   {
    "duration": 9,
    "start_time": "2022-09-16T14:32:57.645Z"
   },
   {
    "duration": 221,
    "start_time": "2022-09-16T14:32:57.656Z"
   },
   {
    "duration": 11,
    "start_time": "2022-09-16T14:32:57.879Z"
   },
   {
    "duration": 173,
    "start_time": "2022-09-16T14:32:57.891Z"
   },
   {
    "duration": 16,
    "start_time": "2022-09-16T14:32:58.066Z"
   },
   {
    "duration": 167,
    "start_time": "2022-09-16T14:32:58.087Z"
   },
   {
    "duration": 10,
    "start_time": "2022-09-16T14:32:58.256Z"
   },
   {
    "duration": 162,
    "start_time": "2022-09-16T14:32:58.277Z"
   },
   {
    "duration": 119,
    "start_time": "2022-09-16T14:32:58.441Z"
   },
   {
    "duration": 151,
    "start_time": "2022-09-16T14:32:58.561Z"
   },
   {
    "duration": 27,
    "start_time": "2022-09-16T14:32:58.714Z"
   },
   {
    "duration": 125,
    "start_time": "2022-09-16T14:32:58.742Z"
   },
   {
    "duration": 15,
    "start_time": "2022-09-16T14:32:58.869Z"
   },
   {
    "duration": 12,
    "start_time": "2022-09-16T14:32:58.886Z"
   },
   {
    "duration": 255,
    "start_time": "2022-09-16T14:32:58.899Z"
   },
   {
    "duration": 300,
    "start_time": "2022-09-16T14:32:59.155Z"
   },
   {
    "duration": 168,
    "start_time": "2022-09-16T14:32:59.456Z"
   },
   {
    "duration": 155,
    "start_time": "2022-09-16T14:32:59.626Z"
   },
   {
    "duration": 180,
    "start_time": "2022-09-16T14:32:59.783Z"
   },
   {
    "duration": 167,
    "start_time": "2022-09-16T14:32:59.965Z"
   },
   {
    "duration": 161,
    "start_time": "2022-09-16T14:33:00.134Z"
   },
   {
    "duration": 12,
    "start_time": "2022-09-16T14:33:00.297Z"
   },
   {
    "duration": 9,
    "start_time": "2022-09-16T14:33:00.310Z"
   },
   {
    "duration": 35,
    "start_time": "2022-09-16T14:33:00.321Z"
   },
   {
    "duration": 24,
    "start_time": "2022-09-16T14:33:00.358Z"
   },
   {
    "duration": 33,
    "start_time": "2022-09-16T14:33:00.383Z"
   },
   {
    "duration": 28,
    "start_time": "2022-09-16T14:33:00.417Z"
   },
   {
    "duration": 22,
    "start_time": "2022-09-16T14:33:00.446Z"
   },
   {
    "duration": 18,
    "start_time": "2022-09-16T14:33:00.471Z"
   },
   {
    "duration": 35,
    "start_time": "2022-09-16T14:33:00.491Z"
   },
   {
    "duration": 45,
    "start_time": "2022-09-16T14:33:00.528Z"
   },
   {
    "duration": 121,
    "start_time": "2022-09-16T14:33:00.575Z"
   },
   {
    "duration": 7,
    "start_time": "2022-09-16T14:33:00.698Z"
   },
   {
    "duration": 17,
    "start_time": "2022-09-16T14:33:00.707Z"
   },
   {
    "duration": 161,
    "start_time": "2022-09-16T14:33:00.726Z"
   },
   {
    "duration": 7,
    "start_time": "2022-09-16T14:35:44.755Z"
   },
   {
    "duration": 8,
    "start_time": "2022-09-16T14:35:59.187Z"
   },
   {
    "duration": 6,
    "start_time": "2022-09-16T14:36:04.851Z"
   },
   {
    "duration": 6,
    "start_time": "2022-09-16T14:37:00.655Z"
   },
   {
    "duration": 5,
    "start_time": "2022-09-16T14:37:19.051Z"
   },
   {
    "duration": 69,
    "start_time": "2022-09-16T14:37:46.171Z"
   },
   {
    "duration": 9,
    "start_time": "2022-09-16T14:38:16.376Z"
   },
   {
    "duration": 8,
    "start_time": "2022-09-16T14:38:33.254Z"
   },
   {
    "duration": 6,
    "start_time": "2022-09-16T14:38:43.292Z"
   },
   {
    "duration": 9,
    "start_time": "2022-09-16T14:39:05.775Z"
   },
   {
    "duration": 8,
    "start_time": "2022-09-16T14:39:19.959Z"
   },
   {
    "duration": 291,
    "start_time": "2022-09-16T14:39:22.487Z"
   },
   {
    "duration": 8,
    "start_time": "2022-09-16T14:39:24.869Z"
   },
   {
    "duration": 8,
    "start_time": "2022-09-16T14:39:26.532Z"
   },
   {
    "duration": 12,
    "start_time": "2022-09-16T14:39:32.612Z"
   },
   {
    "duration": 6,
    "start_time": "2022-09-16T14:39:55.046Z"
   },
   {
    "duration": 5,
    "start_time": "2022-09-16T14:40:30.603Z"
   },
   {
    "duration": 9,
    "start_time": "2022-09-16T14:44:33.361Z"
   },
   {
    "duration": 6,
    "start_time": "2022-09-16T14:44:42.214Z"
   },
   {
    "duration": 6,
    "start_time": "2022-09-16T14:45:12.204Z"
   },
   {
    "duration": 360,
    "start_time": "2022-09-16T14:45:15.079Z"
   },
   {
    "duration": 783,
    "start_time": "2022-09-16T14:45:35.725Z"
   },
   {
    "duration": 89,
    "start_time": "2022-09-16T14:45:36.510Z"
   },
   {
    "duration": 24,
    "start_time": "2022-09-16T14:45:36.600Z"
   },
   {
    "duration": 14,
    "start_time": "2022-09-16T14:45:36.626Z"
   },
   {
    "duration": 1959,
    "start_time": "2022-09-16T14:45:36.641Z"
   },
   {
    "duration": 9,
    "start_time": "2022-09-16T14:45:38.601Z"
   },
   {
    "duration": 4,
    "start_time": "2022-09-16T14:45:38.611Z"
   },
   {
    "duration": 215,
    "start_time": "2022-09-16T14:45:38.617Z"
   },
   {
    "duration": 11,
    "start_time": "2022-09-16T14:45:38.834Z"
   },
   {
    "duration": 9,
    "start_time": "2022-09-16T14:45:38.848Z"
   },
   {
    "duration": 4,
    "start_time": "2022-09-16T14:45:38.878Z"
   },
   {
    "duration": 8,
    "start_time": "2022-09-16T14:45:38.884Z"
   },
   {
    "duration": 14,
    "start_time": "2022-09-16T14:45:38.894Z"
   },
   {
    "duration": 26,
    "start_time": "2022-09-16T14:45:38.910Z"
   },
   {
    "duration": 66,
    "start_time": "2022-09-16T14:45:38.938Z"
   },
   {
    "duration": 6,
    "start_time": "2022-09-16T14:45:39.006Z"
   },
   {
    "duration": 9,
    "start_time": "2022-09-16T14:45:39.014Z"
   },
   {
    "duration": 9,
    "start_time": "2022-09-16T14:45:39.024Z"
   },
   {
    "duration": 12,
    "start_time": "2022-09-16T14:45:39.035Z"
   },
   {
    "duration": 7,
    "start_time": "2022-09-16T14:45:39.049Z"
   },
   {
    "duration": 7,
    "start_time": "2022-09-16T14:45:39.058Z"
   },
   {
    "duration": 8,
    "start_time": "2022-09-16T14:45:39.076Z"
   },
   {
    "duration": 24,
    "start_time": "2022-09-16T14:45:39.086Z"
   },
   {
    "duration": 6,
    "start_time": "2022-09-16T14:45:39.112Z"
   },
   {
    "duration": 8,
    "start_time": "2022-09-16T14:45:39.119Z"
   },
   {
    "duration": 6,
    "start_time": "2022-09-16T14:45:39.128Z"
   },
   {
    "duration": 9,
    "start_time": "2022-09-16T14:45:39.136Z"
   },
   {
    "duration": 32,
    "start_time": "2022-09-16T14:45:39.149Z"
   },
   {
    "duration": 4,
    "start_time": "2022-09-16T14:45:39.183Z"
   },
   {
    "duration": 14,
    "start_time": "2022-09-16T14:45:39.189Z"
   },
   {
    "duration": 15,
    "start_time": "2022-09-16T14:45:39.205Z"
   },
   {
    "duration": 11,
    "start_time": "2022-09-16T14:45:39.221Z"
   },
   {
    "duration": 12,
    "start_time": "2022-09-16T14:45:39.234Z"
   },
   {
    "duration": 29,
    "start_time": "2022-09-16T14:45:39.248Z"
   },
   {
    "duration": 4,
    "start_time": "2022-09-16T14:45:39.279Z"
   },
   {
    "duration": 23,
    "start_time": "2022-09-16T14:45:39.285Z"
   },
   {
    "duration": 4,
    "start_time": "2022-09-16T14:45:39.309Z"
   },
   {
    "duration": 6,
    "start_time": "2022-09-16T14:45:39.315Z"
   },
   {
    "duration": 5,
    "start_time": "2022-09-16T14:45:39.323Z"
   },
   {
    "duration": 53,
    "start_time": "2022-09-16T14:45:39.329Z"
   },
   {
    "duration": 6,
    "start_time": "2022-09-16T14:45:39.383Z"
   },
   {
    "duration": 10,
    "start_time": "2022-09-16T14:45:39.390Z"
   },
   {
    "duration": 10,
    "start_time": "2022-09-16T14:45:39.401Z"
   },
   {
    "duration": 322,
    "start_time": "2022-09-16T14:45:39.412Z"
   },
   {
    "duration": 51,
    "start_time": "2022-09-16T14:45:39.736Z"
   },
   {
    "duration": 8,
    "start_time": "2022-09-16T14:45:39.788Z"
   },
   {
    "duration": 401,
    "start_time": "2022-09-16T14:45:39.798Z"
   },
   {
    "duration": 300,
    "start_time": "2022-09-16T14:45:40.201Z"
   },
   {
    "duration": 16,
    "start_time": "2022-09-16T14:45:40.502Z"
   },
   {
    "duration": 13,
    "start_time": "2022-09-16T14:45:40.519Z"
   },
   {
    "duration": 25,
    "start_time": "2022-09-16T14:45:40.534Z"
   },
   {
    "duration": 8,
    "start_time": "2022-09-16T14:45:40.561Z"
   },
   {
    "duration": 5,
    "start_time": "2022-09-16T14:45:40.577Z"
   },
   {
    "duration": 7,
    "start_time": "2022-09-16T14:45:40.584Z"
   },
   {
    "duration": 261,
    "start_time": "2022-09-16T14:45:40.593Z"
   },
   {
    "duration": 5,
    "start_time": "2022-09-16T14:45:40.856Z"
   },
   {
    "duration": 31,
    "start_time": "2022-09-16T14:45:40.862Z"
   },
   {
    "duration": 118,
    "start_time": "2022-09-16T14:45:40.894Z"
   },
   {
    "duration": 121,
    "start_time": "2022-09-16T14:45:41.014Z"
   },
   {
    "duration": 9,
    "start_time": "2022-09-16T14:45:41.136Z"
   },
   {
    "duration": 248,
    "start_time": "2022-09-16T14:45:41.146Z"
   },
   {
    "duration": 198,
    "start_time": "2022-09-16T14:45:41.395Z"
   },
   {
    "duration": 11,
    "start_time": "2022-09-16T14:45:41.595Z"
   },
   {
    "duration": 243,
    "start_time": "2022-09-16T14:45:41.608Z"
   },
   {
    "duration": 112,
    "start_time": "2022-09-16T14:45:41.853Z"
   },
   {
    "duration": 17,
    "start_time": "2022-09-16T14:45:41.966Z"
   },
   {
    "duration": 183,
    "start_time": "2022-09-16T14:45:41.984Z"
   },
   {
    "duration": 11,
    "start_time": "2022-09-16T14:45:42.168Z"
   },
   {
    "duration": 137,
    "start_time": "2022-09-16T14:45:42.181Z"
   },
   {
    "duration": 10,
    "start_time": "2022-09-16T14:45:42.319Z"
   },
   {
    "duration": 219,
    "start_time": "2022-09-16T14:45:42.330Z"
   },
   {
    "duration": 9,
    "start_time": "2022-09-16T14:45:42.550Z"
   },
   {
    "duration": 185,
    "start_time": "2022-09-16T14:45:42.561Z"
   },
   {
    "duration": 11,
    "start_time": "2022-09-16T14:45:42.748Z"
   },
   {
    "duration": 183,
    "start_time": "2022-09-16T14:45:42.761Z"
   },
   {
    "duration": 113,
    "start_time": "2022-09-16T14:45:42.946Z"
   },
   {
    "duration": 17,
    "start_time": "2022-09-16T14:45:43.061Z"
   },
   {
    "duration": 222,
    "start_time": "2022-09-16T14:45:43.080Z"
   },
   {
    "duration": 123,
    "start_time": "2022-09-16T14:45:43.304Z"
   },
   {
    "duration": 9,
    "start_time": "2022-09-16T14:45:43.429Z"
   },
   {
    "duration": 161,
    "start_time": "2022-09-16T14:45:43.439Z"
   },
   {
    "duration": 11,
    "start_time": "2022-09-16T14:45:43.606Z"
   },
   {
    "duration": 185,
    "start_time": "2022-09-16T14:45:43.619Z"
   },
   {
    "duration": 10,
    "start_time": "2022-09-16T14:45:43.805Z"
   },
   {
    "duration": 187,
    "start_time": "2022-09-16T14:45:43.816Z"
   },
   {
    "duration": 10,
    "start_time": "2022-09-16T14:45:44.004Z"
   },
   {
    "duration": 183,
    "start_time": "2022-09-16T14:45:44.015Z"
   },
   {
    "duration": 120,
    "start_time": "2022-09-16T14:45:44.200Z"
   },
   {
    "duration": 148,
    "start_time": "2022-09-16T14:45:44.322Z"
   },
   {
    "duration": 28,
    "start_time": "2022-09-16T14:45:44.472Z"
   },
   {
    "duration": 126,
    "start_time": "2022-09-16T14:45:44.501Z"
   },
   {
    "duration": 9,
    "start_time": "2022-09-16T14:45:44.629Z"
   },
   {
    "duration": 12,
    "start_time": "2022-09-16T14:45:44.639Z"
   },
   {
    "duration": 278,
    "start_time": "2022-09-16T14:45:44.653Z"
   },
   {
    "duration": 284,
    "start_time": "2022-09-16T14:45:44.932Z"
   },
   {
    "duration": 175,
    "start_time": "2022-09-16T14:45:45.219Z"
   },
   {
    "duration": 151,
    "start_time": "2022-09-16T14:45:45.396Z"
   },
   {
    "duration": 176,
    "start_time": "2022-09-16T14:45:45.549Z"
   },
   {
    "duration": 169,
    "start_time": "2022-09-16T14:45:45.727Z"
   },
   {
    "duration": 167,
    "start_time": "2022-09-16T14:45:45.897Z"
   },
   {
    "duration": 21,
    "start_time": "2022-09-16T14:45:46.066Z"
   },
   {
    "duration": 6,
    "start_time": "2022-09-16T14:45:46.089Z"
   },
   {
    "duration": 14,
    "start_time": "2022-09-16T14:45:46.097Z"
   },
   {
    "duration": 8,
    "start_time": "2022-09-16T14:45:46.112Z"
   },
   {
    "duration": 12,
    "start_time": "2022-09-16T14:45:46.121Z"
   },
   {
    "duration": 11,
    "start_time": "2022-09-16T14:45:46.134Z"
   },
   {
    "duration": 36,
    "start_time": "2022-09-16T14:45:46.146Z"
   },
   {
    "duration": 5,
    "start_time": "2022-09-16T14:45:46.184Z"
   },
   {
    "duration": 7,
    "start_time": "2022-09-16T14:45:46.191Z"
   },
   {
    "duration": 11,
    "start_time": "2022-09-16T14:45:46.200Z"
   },
   {
    "duration": 115,
    "start_time": "2022-09-16T14:45:46.212Z"
   },
   {
    "duration": 8,
    "start_time": "2022-09-16T14:45:46.328Z"
   },
   {
    "duration": 5,
    "start_time": "2022-09-16T14:45:46.337Z"
   },
   {
    "duration": 158,
    "start_time": "2022-09-16T14:45:46.344Z"
   },
   {
    "duration": 288,
    "start_time": "2022-09-16T14:47:50.381Z"
   },
   {
    "duration": 370,
    "start_time": "2022-09-16T14:48:03.060Z"
   },
   {
    "duration": 305,
    "start_time": "2022-09-16T15:02:07.824Z"
   },
   {
    "duration": 284,
    "start_time": "2022-09-16T15:02:22.311Z"
   },
   {
    "duration": 285,
    "start_time": "2022-09-16T15:03:16.710Z"
   },
   {
    "duration": 359,
    "start_time": "2022-09-16T15:11:49.248Z"
   },
   {
    "duration": 8,
    "start_time": "2022-09-16T15:14:47.988Z"
   },
   {
    "duration": 295,
    "start_time": "2022-09-16T15:15:16.996Z"
   },
   {
    "duration": 18,
    "start_time": "2022-09-16T15:17:31.960Z"
   },
   {
    "duration": 295,
    "start_time": "2022-09-16T15:26:04.930Z"
   },
   {
    "duration": 20,
    "start_time": "2022-09-16T15:26:46.878Z"
   },
   {
    "duration": 328,
    "start_time": "2022-09-16T15:28:31.927Z"
   },
   {
    "duration": 307,
    "start_time": "2022-09-16T15:28:42.405Z"
   },
   {
    "duration": 383,
    "start_time": "2022-09-16T15:28:52.022Z"
   },
   {
    "duration": 301,
    "start_time": "2022-09-16T15:29:36.146Z"
   },
   {
    "duration": 282,
    "start_time": "2022-09-16T15:29:40.921Z"
   },
   {
    "duration": 9,
    "start_time": "2022-09-16T15:32:39.488Z"
   },
   {
    "duration": 301,
    "start_time": "2022-09-16T15:33:00.908Z"
   },
   {
    "duration": 381,
    "start_time": "2022-09-16T15:34:09.962Z"
   },
   {
    "duration": 17,
    "start_time": "2022-09-16T15:34:11.896Z"
   },
   {
    "duration": 2,
    "start_time": "2022-09-16T15:36:09.241Z"
   },
   {
    "duration": 287,
    "start_time": "2022-09-16T15:36:31.143Z"
   },
   {
    "duration": 329,
    "start_time": "2022-09-16T15:36:47.674Z"
   },
   {
    "duration": 276,
    "start_time": "2022-09-16T15:38:14.575Z"
   },
   {
    "duration": 262,
    "start_time": "2022-09-16T15:38:19.493Z"
   },
   {
    "duration": 89,
    "start_time": "2022-09-16T15:51:02.187Z"
   },
   {
    "duration": 74,
    "start_time": "2022-09-16T15:51:08.555Z"
   },
   {
    "duration": 226,
    "start_time": "2022-09-16T15:51:13.983Z"
   },
   {
    "duration": 160,
    "start_time": "2022-09-16T15:51:18.151Z"
   },
   {
    "duration": 152,
    "start_time": "2022-09-16T15:51:21.640Z"
   },
   {
    "duration": 68,
    "start_time": "2022-09-16T15:51:25.900Z"
   },
   {
    "duration": 267,
    "start_time": "2022-09-16T15:53:21.984Z"
   },
   {
    "duration": 262,
    "start_time": "2022-09-16T15:53:31.351Z"
   },
   {
    "duration": 282,
    "start_time": "2022-09-16T15:53:49.171Z"
   },
   {
    "duration": 73,
    "start_time": "2022-09-16T15:54:27.867Z"
   },
   {
    "duration": 9,
    "start_time": "2022-09-16T15:55:04.832Z"
   },
   {
    "duration": 367,
    "start_time": "2022-09-16T15:55:28.885Z"
   },
   {
    "duration": 271,
    "start_time": "2022-09-16T15:56:10.730Z"
   },
   {
    "duration": 16,
    "start_time": "2022-09-16T15:56:37.324Z"
   },
   {
    "duration": 294,
    "start_time": "2022-09-16T15:58:05.216Z"
   },
   {
    "duration": 111,
    "start_time": "2022-09-16T15:58:49.464Z"
   },
   {
    "duration": 338,
    "start_time": "2022-09-16T15:58:55.227Z"
   },
   {
    "duration": 385,
    "start_time": "2022-09-16T15:59:05.210Z"
   },
   {
    "duration": 8,
    "start_time": "2022-09-16T16:00:40.890Z"
   },
   {
    "duration": 300,
    "start_time": "2022-09-16T16:00:48.506Z"
   },
   {
    "duration": 2,
    "start_time": "2022-09-16T16:01:20.970Z"
   },
   {
    "duration": 280,
    "start_time": "2022-09-16T16:01:44.721Z"
   },
   {
    "duration": 298,
    "start_time": "2022-09-16T16:02:41.870Z"
   },
   {
    "duration": 379,
    "start_time": "2022-09-16T16:02:55.735Z"
   },
   {
    "duration": 285,
    "start_time": "2022-09-16T16:03:01.315Z"
   },
   {
    "duration": 289,
    "start_time": "2022-09-16T16:04:50.324Z"
   },
   {
    "duration": 9,
    "start_time": "2022-09-16T16:04:54.927Z"
   },
   {
    "duration": 80,
    "start_time": "2022-09-16T16:04:55.545Z"
   },
   {
    "duration": 270,
    "start_time": "2022-09-16T16:04:56.009Z"
   },
   {
    "duration": 365,
    "start_time": "2022-09-16T16:06:50.106Z"
   },
   {
    "duration": 279,
    "start_time": "2022-09-16T16:07:34.587Z"
   },
   {
    "duration": 10,
    "start_time": "2022-09-16T16:08:52.999Z"
   },
   {
    "duration": 300,
    "start_time": "2022-09-16T16:09:10.118Z"
   },
   {
    "duration": 164,
    "start_time": "2022-09-16T16:09:17.233Z"
   },
   {
    "duration": 281,
    "start_time": "2022-09-16T16:09:55.953Z"
   },
   {
    "duration": 432,
    "start_time": "2022-09-16T16:10:00.643Z"
   },
   {
    "duration": 312,
    "start_time": "2022-09-16T16:10:03.026Z"
   },
   {
    "duration": 9,
    "start_time": "2022-09-16T16:10:08.123Z"
   },
   {
    "duration": 267,
    "start_time": "2022-09-16T16:10:37.210Z"
   },
   {
    "duration": 8,
    "start_time": "2022-09-16T16:11:46.267Z"
   },
   {
    "duration": 270,
    "start_time": "2022-09-16T16:11:55.770Z"
   },
   {
    "duration": 15,
    "start_time": "2022-09-16T16:13:34.672Z"
   },
   {
    "duration": 128,
    "start_time": "2022-09-16T16:14:07.079Z"
   },
   {
    "duration": 28,
    "start_time": "2022-09-16T16:14:13.284Z"
   },
   {
    "duration": 13,
    "start_time": "2022-09-16T16:16:31.429Z"
   },
   {
    "duration": 136,
    "start_time": "2022-09-16T16:16:35.896Z"
   },
   {
    "duration": 148,
    "start_time": "2022-09-16T16:22:13.479Z"
   },
   {
    "duration": 256,
    "start_time": "2022-09-16T16:22:26.868Z"
   },
   {
    "duration": 139,
    "start_time": "2022-09-16T16:25:53.989Z"
   },
   {
    "duration": 151,
    "start_time": "2022-09-16T16:26:07.442Z"
   },
   {
    "duration": 168,
    "start_time": "2022-09-16T16:26:17.738Z"
   },
   {
    "duration": 557,
    "start_time": "2022-09-16T16:26:26.850Z"
   },
   {
    "duration": 251,
    "start_time": "2022-09-16T16:26:35.742Z"
   },
   {
    "duration": 141,
    "start_time": "2022-09-16T16:26:48.057Z"
   },
   {
    "duration": 135,
    "start_time": "2022-09-16T16:26:52.318Z"
   },
   {
    "duration": 153,
    "start_time": "2022-09-16T16:27:13.836Z"
   },
   {
    "duration": 139,
    "start_time": "2022-09-16T16:27:17.989Z"
   },
   {
    "duration": 642,
    "start_time": "2022-09-16T16:28:06.372Z"
   },
   {
    "duration": 93,
    "start_time": "2022-09-16T16:28:07.016Z"
   },
   {
    "duration": 26,
    "start_time": "2022-09-16T16:28:07.110Z"
   },
   {
    "duration": 15,
    "start_time": "2022-09-16T16:28:07.138Z"
   },
   {
    "duration": 2053,
    "start_time": "2022-09-16T16:28:07.155Z"
   },
   {
    "duration": 13,
    "start_time": "2022-09-16T16:28:09.210Z"
   },
   {
    "duration": 5,
    "start_time": "2022-09-16T16:28:09.225Z"
   },
   {
    "duration": 229,
    "start_time": "2022-09-16T16:28:09.232Z"
   },
   {
    "duration": 21,
    "start_time": "2022-09-16T16:28:09.463Z"
   },
   {
    "duration": 9,
    "start_time": "2022-09-16T16:28:09.486Z"
   },
   {
    "duration": 8,
    "start_time": "2022-09-16T16:28:09.496Z"
   },
   {
    "duration": 6,
    "start_time": "2022-09-16T16:28:09.505Z"
   },
   {
    "duration": 16,
    "start_time": "2022-09-16T16:28:09.513Z"
   },
   {
    "duration": 50,
    "start_time": "2022-09-16T16:28:09.531Z"
   },
   {
    "duration": 33,
    "start_time": "2022-09-16T16:28:09.583Z"
   },
   {
    "duration": 5,
    "start_time": "2022-09-16T16:28:09.618Z"
   },
   {
    "duration": 10,
    "start_time": "2022-09-16T16:28:09.624Z"
   },
   {
    "duration": 7,
    "start_time": "2022-09-16T16:28:09.635Z"
   },
   {
    "duration": 35,
    "start_time": "2022-09-16T16:28:09.643Z"
   },
   {
    "duration": 4,
    "start_time": "2022-09-16T16:28:09.680Z"
   },
   {
    "duration": 6,
    "start_time": "2022-09-16T16:28:09.686Z"
   },
   {
    "duration": 10,
    "start_time": "2022-09-16T16:28:09.693Z"
   },
   {
    "duration": 23,
    "start_time": "2022-09-16T16:28:09.705Z"
   },
   {
    "duration": 7,
    "start_time": "2022-09-16T16:28:09.729Z"
   },
   {
    "duration": 7,
    "start_time": "2022-09-16T16:28:09.737Z"
   },
   {
    "duration": 32,
    "start_time": "2022-09-16T16:28:09.745Z"
   },
   {
    "duration": 5,
    "start_time": "2022-09-16T16:28:09.779Z"
   },
   {
    "duration": 14,
    "start_time": "2022-09-16T16:28:09.788Z"
   },
   {
    "duration": 4,
    "start_time": "2022-09-16T16:28:09.804Z"
   },
   {
    "duration": 13,
    "start_time": "2022-09-16T16:28:09.810Z"
   },
   {
    "duration": 53,
    "start_time": "2022-09-16T16:28:09.825Z"
   },
   {
    "duration": 6,
    "start_time": "2022-09-16T16:28:09.880Z"
   },
   {
    "duration": 11,
    "start_time": "2022-09-16T16:28:09.888Z"
   },
   {
    "duration": 5,
    "start_time": "2022-09-16T16:28:09.900Z"
   },
   {
    "duration": 6,
    "start_time": "2022-09-16T16:28:09.906Z"
   },
   {
    "duration": 20,
    "start_time": "2022-09-16T16:28:09.914Z"
   },
   {
    "duration": 5,
    "start_time": "2022-09-16T16:28:09.936Z"
   },
   {
    "duration": 39,
    "start_time": "2022-09-16T16:28:09.942Z"
   },
   {
    "duration": 6,
    "start_time": "2022-09-16T16:28:09.983Z"
   },
   {
    "duration": 34,
    "start_time": "2022-09-16T16:28:09.990Z"
   },
   {
    "duration": 5,
    "start_time": "2022-09-16T16:28:10.025Z"
   },
   {
    "duration": 10,
    "start_time": "2022-09-16T16:28:10.032Z"
   },
   {
    "duration": 40,
    "start_time": "2022-09-16T16:28:10.043Z"
   },
   {
    "duration": 298,
    "start_time": "2022-09-16T16:28:10.085Z"
   },
   {
    "duration": 72,
    "start_time": "2022-09-16T16:28:10.384Z"
   },
   {
    "duration": 0,
    "start_time": "2022-09-16T16:28:10.459Z"
   },
   {
    "duration": 0,
    "start_time": "2022-09-16T16:28:10.460Z"
   },
   {
    "duration": 0,
    "start_time": "2022-09-16T16:28:10.461Z"
   },
   {
    "duration": 0,
    "start_time": "2022-09-16T16:28:10.462Z"
   },
   {
    "duration": 0,
    "start_time": "2022-09-16T16:28:10.464Z"
   },
   {
    "duration": 0,
    "start_time": "2022-09-16T16:28:10.465Z"
   },
   {
    "duration": 0,
    "start_time": "2022-09-16T16:28:10.465Z"
   },
   {
    "duration": 0,
    "start_time": "2022-09-16T16:28:10.467Z"
   },
   {
    "duration": 0,
    "start_time": "2022-09-16T16:28:10.468Z"
   },
   {
    "duration": 0,
    "start_time": "2022-09-16T16:28:10.469Z"
   },
   {
    "duration": 0,
    "start_time": "2022-09-16T16:28:10.470Z"
   },
   {
    "duration": 0,
    "start_time": "2022-09-16T16:28:10.470Z"
   },
   {
    "duration": 0,
    "start_time": "2022-09-16T16:28:10.471Z"
   },
   {
    "duration": 0,
    "start_time": "2022-09-16T16:28:10.472Z"
   },
   {
    "duration": 0,
    "start_time": "2022-09-16T16:28:10.473Z"
   },
   {
    "duration": 0,
    "start_time": "2022-09-16T16:28:10.474Z"
   },
   {
    "duration": 0,
    "start_time": "2022-09-16T16:28:10.475Z"
   },
   {
    "duration": 0,
    "start_time": "2022-09-16T16:28:10.476Z"
   },
   {
    "duration": 0,
    "start_time": "2022-09-16T16:28:10.477Z"
   },
   {
    "duration": 0,
    "start_time": "2022-09-16T16:28:10.478Z"
   },
   {
    "duration": 0,
    "start_time": "2022-09-16T16:28:10.478Z"
   },
   {
    "duration": 0,
    "start_time": "2022-09-16T16:28:10.479Z"
   },
   {
    "duration": 0,
    "start_time": "2022-09-16T16:28:10.481Z"
   },
   {
    "duration": 1,
    "start_time": "2022-09-16T16:28:10.481Z"
   },
   {
    "duration": 0,
    "start_time": "2022-09-16T16:28:10.483Z"
   },
   {
    "duration": 0,
    "start_time": "2022-09-16T16:28:10.484Z"
   },
   {
    "duration": 0,
    "start_time": "2022-09-16T16:28:10.485Z"
   },
   {
    "duration": 0,
    "start_time": "2022-09-16T16:28:10.486Z"
   },
   {
    "duration": 0,
    "start_time": "2022-09-16T16:28:10.487Z"
   },
   {
    "duration": 0,
    "start_time": "2022-09-16T16:28:10.488Z"
   },
   {
    "duration": 0,
    "start_time": "2022-09-16T16:28:10.489Z"
   },
   {
    "duration": 0,
    "start_time": "2022-09-16T16:28:10.490Z"
   },
   {
    "duration": 0,
    "start_time": "2022-09-16T16:28:10.490Z"
   },
   {
    "duration": 0,
    "start_time": "2022-09-16T16:28:10.491Z"
   },
   {
    "duration": 0,
    "start_time": "2022-09-16T16:28:10.492Z"
   },
   {
    "duration": 0,
    "start_time": "2022-09-16T16:28:10.493Z"
   },
   {
    "duration": 0,
    "start_time": "2022-09-16T16:28:10.494Z"
   },
   {
    "duration": 0,
    "start_time": "2022-09-16T16:28:10.496Z"
   },
   {
    "duration": 0,
    "start_time": "2022-09-16T16:28:10.497Z"
   },
   {
    "duration": 0,
    "start_time": "2022-09-16T16:28:10.498Z"
   },
   {
    "duration": 0,
    "start_time": "2022-09-16T16:28:10.499Z"
   },
   {
    "duration": 0,
    "start_time": "2022-09-16T16:28:10.501Z"
   },
   {
    "duration": 0,
    "start_time": "2022-09-16T16:28:10.502Z"
   },
   {
    "duration": 0,
    "start_time": "2022-09-16T16:28:10.503Z"
   },
   {
    "duration": 0,
    "start_time": "2022-09-16T16:28:10.503Z"
   },
   {
    "duration": 0,
    "start_time": "2022-09-16T16:28:10.504Z"
   },
   {
    "duration": 0,
    "start_time": "2022-09-16T16:28:10.505Z"
   },
   {
    "duration": 0,
    "start_time": "2022-09-16T16:28:10.506Z"
   },
   {
    "duration": 0,
    "start_time": "2022-09-16T16:28:10.507Z"
   },
   {
    "duration": 0,
    "start_time": "2022-09-16T16:28:10.509Z"
   },
   {
    "duration": 0,
    "start_time": "2022-09-16T16:28:10.510Z"
   },
   {
    "duration": 0,
    "start_time": "2022-09-16T16:28:10.511Z"
   },
   {
    "duration": 0,
    "start_time": "2022-09-16T16:28:10.512Z"
   },
   {
    "duration": 0,
    "start_time": "2022-09-16T16:28:10.513Z"
   },
   {
    "duration": 0,
    "start_time": "2022-09-16T16:28:10.515Z"
   },
   {
    "duration": 0,
    "start_time": "2022-09-16T16:28:10.516Z"
   },
   {
    "duration": 0,
    "start_time": "2022-09-16T16:28:10.578Z"
   },
   {
    "duration": 0,
    "start_time": "2022-09-16T16:28:10.579Z"
   },
   {
    "duration": 0,
    "start_time": "2022-09-16T16:28:10.580Z"
   },
   {
    "duration": 0,
    "start_time": "2022-09-16T16:28:10.582Z"
   },
   {
    "duration": 0,
    "start_time": "2022-09-16T16:28:10.582Z"
   },
   {
    "duration": 0,
    "start_time": "2022-09-16T16:28:10.584Z"
   },
   {
    "duration": 0,
    "start_time": "2022-09-16T16:28:10.585Z"
   },
   {
    "duration": 0,
    "start_time": "2022-09-16T16:28:10.586Z"
   },
   {
    "duration": 0,
    "start_time": "2022-09-16T16:28:10.587Z"
   },
   {
    "duration": 0,
    "start_time": "2022-09-16T16:28:10.588Z"
   },
   {
    "duration": 0,
    "start_time": "2022-09-16T16:28:10.590Z"
   },
   {
    "duration": 0,
    "start_time": "2022-09-16T16:28:10.591Z"
   },
   {
    "duration": 0,
    "start_time": "2022-09-16T16:28:10.593Z"
   },
   {
    "duration": 0,
    "start_time": "2022-09-16T16:28:10.594Z"
   },
   {
    "duration": 0,
    "start_time": "2022-09-16T16:28:10.595Z"
   },
   {
    "duration": 0,
    "start_time": "2022-09-16T16:28:10.596Z"
   },
   {
    "duration": 0,
    "start_time": "2022-09-16T16:28:10.597Z"
   },
   {
    "duration": 0,
    "start_time": "2022-09-16T16:28:10.598Z"
   },
   {
    "duration": 0,
    "start_time": "2022-09-16T16:28:10.599Z"
   },
   {
    "duration": 0,
    "start_time": "2022-09-16T16:28:10.600Z"
   },
   {
    "duration": 0,
    "start_time": "2022-09-16T16:28:10.601Z"
   },
   {
    "duration": 0,
    "start_time": "2022-09-16T16:28:10.602Z"
   },
   {
    "duration": 0,
    "start_time": "2022-09-16T16:28:10.603Z"
   },
   {
    "duration": 0,
    "start_time": "2022-09-16T16:28:10.605Z"
   },
   {
    "duration": 0,
    "start_time": "2022-09-16T16:28:10.606Z"
   },
   {
    "duration": 0,
    "start_time": "2022-09-16T16:28:10.607Z"
   },
   {
    "duration": 0,
    "start_time": "2022-09-16T16:28:10.608Z"
   },
   {
    "duration": 0,
    "start_time": "2022-09-16T16:28:10.609Z"
   },
   {
    "duration": 0,
    "start_time": "2022-09-16T16:28:10.610Z"
   },
   {
    "duration": 0,
    "start_time": "2022-09-16T16:28:10.612Z"
   },
   {
    "duration": 0,
    "start_time": "2022-09-16T16:28:10.613Z"
   },
   {
    "duration": 0,
    "start_time": "2022-09-16T16:28:10.614Z"
   },
   {
    "duration": 0,
    "start_time": "2022-09-16T16:28:10.678Z"
   },
   {
    "duration": 0,
    "start_time": "2022-09-16T16:28:10.679Z"
   },
   {
    "duration": 0,
    "start_time": "2022-09-16T16:28:10.680Z"
   },
   {
    "duration": 0,
    "start_time": "2022-09-16T16:28:10.680Z"
   },
   {
    "duration": 0,
    "start_time": "2022-09-16T16:28:10.682Z"
   },
   {
    "duration": 0,
    "start_time": "2022-09-16T16:28:10.683Z"
   },
   {
    "duration": 0,
    "start_time": "2022-09-16T16:28:10.683Z"
   },
   {
    "duration": 662,
    "start_time": "2022-09-16T16:29:17.417Z"
   },
   {
    "duration": 88,
    "start_time": "2022-09-16T16:29:18.081Z"
   },
   {
    "duration": 27,
    "start_time": "2022-09-16T16:29:18.171Z"
   },
   {
    "duration": 14,
    "start_time": "2022-09-16T16:29:18.200Z"
   },
   {
    "duration": 1917,
    "start_time": "2022-09-16T16:29:18.215Z"
   },
   {
    "duration": 8,
    "start_time": "2022-09-16T16:29:20.134Z"
   },
   {
    "duration": 4,
    "start_time": "2022-09-16T16:29:20.144Z"
   },
   {
    "duration": 217,
    "start_time": "2022-09-16T16:29:20.150Z"
   },
   {
    "duration": 17,
    "start_time": "2022-09-16T16:29:20.368Z"
   },
   {
    "duration": 9,
    "start_time": "2022-09-16T16:29:20.387Z"
   },
   {
    "duration": 5,
    "start_time": "2022-09-16T16:29:20.397Z"
   },
   {
    "duration": 10,
    "start_time": "2022-09-16T16:29:20.403Z"
   },
   {
    "duration": 16,
    "start_time": "2022-09-16T16:29:20.415Z"
   },
   {
    "duration": 25,
    "start_time": "2022-09-16T16:29:20.433Z"
   },
   {
    "duration": 26,
    "start_time": "2022-09-16T16:29:20.477Z"
   },
   {
    "duration": 5,
    "start_time": "2022-09-16T16:29:20.505Z"
   },
   {
    "duration": 6,
    "start_time": "2022-09-16T16:29:20.512Z"
   },
   {
    "duration": 7,
    "start_time": "2022-09-16T16:29:20.519Z"
   },
   {
    "duration": 4,
    "start_time": "2022-09-16T16:29:20.527Z"
   },
   {
    "duration": 4,
    "start_time": "2022-09-16T16:29:20.532Z"
   },
   {
    "duration": 5,
    "start_time": "2022-09-16T16:29:20.538Z"
   },
   {
    "duration": 8,
    "start_time": "2022-09-16T16:29:20.577Z"
   },
   {
    "duration": 22,
    "start_time": "2022-09-16T16:29:20.587Z"
   },
   {
    "duration": 7,
    "start_time": "2022-09-16T16:29:20.611Z"
   },
   {
    "duration": 6,
    "start_time": "2022-09-16T16:29:20.619Z"
   },
   {
    "duration": 4,
    "start_time": "2022-09-16T16:29:20.626Z"
   },
   {
    "duration": 6,
    "start_time": "2022-09-16T16:29:20.632Z"
   },
   {
    "duration": 36,
    "start_time": "2022-09-16T16:29:20.642Z"
   },
   {
    "duration": 5,
    "start_time": "2022-09-16T16:29:20.680Z"
   },
   {
    "duration": 15,
    "start_time": "2022-09-16T16:29:20.686Z"
   },
   {
    "duration": 14,
    "start_time": "2022-09-16T16:29:20.703Z"
   },
   {
    "duration": 8,
    "start_time": "2022-09-16T16:29:20.719Z"
   },
   {
    "duration": 12,
    "start_time": "2022-09-16T16:29:20.729Z"
   },
   {
    "duration": 6,
    "start_time": "2022-09-16T16:29:20.742Z"
   },
   {
    "duration": 30,
    "start_time": "2022-09-16T16:29:20.749Z"
   },
   {
    "duration": 24,
    "start_time": "2022-09-16T16:29:20.780Z"
   },
   {
    "duration": 4,
    "start_time": "2022-09-16T16:29:20.806Z"
   },
   {
    "duration": 6,
    "start_time": "2022-09-16T16:29:20.811Z"
   },
   {
    "duration": 6,
    "start_time": "2022-09-16T16:29:20.818Z"
   },
   {
    "duration": 24,
    "start_time": "2022-09-16T16:29:20.825Z"
   },
   {
    "duration": 26,
    "start_time": "2022-09-16T16:29:20.851Z"
   },
   {
    "duration": 8,
    "start_time": "2022-09-16T16:29:20.879Z"
   },
   {
    "duration": 5,
    "start_time": "2022-09-16T16:29:20.889Z"
   },
   {
    "duration": 300,
    "start_time": "2022-09-16T16:29:20.895Z"
   },
   {
    "duration": 306,
    "start_time": "2022-09-16T16:29:21.197Z"
   },
   {
    "duration": 9,
    "start_time": "2022-09-16T16:29:21.505Z"
   },
   {
    "duration": 420,
    "start_time": "2022-09-16T16:29:21.515Z"
   },
   {
    "duration": 310,
    "start_time": "2022-09-16T16:29:21.937Z"
   },
   {
    "duration": 285,
    "start_time": "2022-09-16T16:29:22.248Z"
   },
   {
    "duration": 8,
    "start_time": "2022-09-16T16:29:22.534Z"
   },
   {
    "duration": 329,
    "start_time": "2022-09-16T16:29:22.544Z"
   },
   {
    "duration": 363,
    "start_time": "2022-09-16T16:29:22.876Z"
   },
   {
    "duration": 275,
    "start_time": "2022-09-16T16:29:23.241Z"
   },
   {
    "duration": 7,
    "start_time": "2022-09-16T16:29:23.518Z"
   },
   {
    "duration": 272,
    "start_time": "2022-09-16T16:29:23.526Z"
   },
   {
    "duration": 279,
    "start_time": "2022-09-16T16:29:23.800Z"
   },
   {
    "duration": 371,
    "start_time": "2022-09-16T16:29:24.081Z"
   },
   {
    "duration": 6,
    "start_time": "2022-09-16T16:29:24.454Z"
   },
   {
    "duration": 284,
    "start_time": "2022-09-16T16:29:24.462Z"
   },
   {
    "duration": 288,
    "start_time": "2022-09-16T16:29:24.748Z"
   },
   {
    "duration": 326,
    "start_time": "2022-09-16T16:29:25.038Z"
   },
   {
    "duration": 12,
    "start_time": "2022-09-16T16:29:25.365Z"
   },
   {
    "duration": 75,
    "start_time": "2022-09-16T16:29:25.379Z"
   },
   {
    "duration": 0,
    "start_time": "2022-09-16T16:29:25.457Z"
   },
   {
    "duration": 0,
    "start_time": "2022-09-16T16:29:25.459Z"
   },
   {
    "duration": 0,
    "start_time": "2022-09-16T16:29:25.460Z"
   },
   {
    "duration": 0,
    "start_time": "2022-09-16T16:29:25.461Z"
   },
   {
    "duration": 0,
    "start_time": "2022-09-16T16:29:25.462Z"
   },
   {
    "duration": 0,
    "start_time": "2022-09-16T16:29:25.463Z"
   },
   {
    "duration": 0,
    "start_time": "2022-09-16T16:29:25.465Z"
   },
   {
    "duration": 0,
    "start_time": "2022-09-16T16:29:25.466Z"
   },
   {
    "duration": 0,
    "start_time": "2022-09-16T16:29:25.467Z"
   },
   {
    "duration": 0,
    "start_time": "2022-09-16T16:29:25.468Z"
   },
   {
    "duration": 0,
    "start_time": "2022-09-16T16:29:25.469Z"
   },
   {
    "duration": 0,
    "start_time": "2022-09-16T16:29:25.471Z"
   },
   {
    "duration": 0,
    "start_time": "2022-09-16T16:29:25.472Z"
   },
   {
    "duration": 0,
    "start_time": "2022-09-16T16:29:25.473Z"
   },
   {
    "duration": 0,
    "start_time": "2022-09-16T16:29:25.474Z"
   },
   {
    "duration": 0,
    "start_time": "2022-09-16T16:29:25.475Z"
   },
   {
    "duration": 0,
    "start_time": "2022-09-16T16:29:25.476Z"
   },
   {
    "duration": 0,
    "start_time": "2022-09-16T16:29:25.477Z"
   },
   {
    "duration": 0,
    "start_time": "2022-09-16T16:29:25.478Z"
   },
   {
    "duration": 0,
    "start_time": "2022-09-16T16:29:25.479Z"
   },
   {
    "duration": 0,
    "start_time": "2022-09-16T16:29:25.480Z"
   },
   {
    "duration": 0,
    "start_time": "2022-09-16T16:29:25.481Z"
   },
   {
    "duration": 0,
    "start_time": "2022-09-16T16:29:25.482Z"
   },
   {
    "duration": 0,
    "start_time": "2022-09-16T16:29:25.484Z"
   },
   {
    "duration": 0,
    "start_time": "2022-09-16T16:29:25.486Z"
   },
   {
    "duration": 0,
    "start_time": "2022-09-16T16:29:25.487Z"
   },
   {
    "duration": 0,
    "start_time": "2022-09-16T16:29:25.488Z"
   },
   {
    "duration": 0,
    "start_time": "2022-09-16T16:29:25.489Z"
   },
   {
    "duration": 0,
    "start_time": "2022-09-16T16:29:25.490Z"
   },
   {
    "duration": 0,
    "start_time": "2022-09-16T16:29:25.491Z"
   },
   {
    "duration": 0,
    "start_time": "2022-09-16T16:29:25.493Z"
   },
   {
    "duration": 0,
    "start_time": "2022-09-16T16:29:25.494Z"
   },
   {
    "duration": 0,
    "start_time": "2022-09-16T16:29:25.495Z"
   },
   {
    "duration": 0,
    "start_time": "2022-09-16T16:29:25.495Z"
   },
   {
    "duration": 0,
    "start_time": "2022-09-16T16:29:25.496Z"
   },
   {
    "duration": 0,
    "start_time": "2022-09-16T16:29:25.497Z"
   },
   {
    "duration": 0,
    "start_time": "2022-09-16T16:29:25.498Z"
   },
   {
    "duration": 0,
    "start_time": "2022-09-16T16:29:25.500Z"
   },
   {
    "duration": 0,
    "start_time": "2022-09-16T16:29:25.501Z"
   },
   {
    "duration": 0,
    "start_time": "2022-09-16T16:29:25.502Z"
   },
   {
    "duration": 0,
    "start_time": "2022-09-16T16:29:25.503Z"
   },
   {
    "duration": 0,
    "start_time": "2022-09-16T16:29:25.504Z"
   },
   {
    "duration": 0,
    "start_time": "2022-09-16T16:29:25.505Z"
   },
   {
    "duration": 0,
    "start_time": "2022-09-16T16:29:25.506Z"
   },
   {
    "duration": 0,
    "start_time": "2022-09-16T16:29:25.507Z"
   },
   {
    "duration": 0,
    "start_time": "2022-09-16T16:29:25.508Z"
   },
   {
    "duration": 0,
    "start_time": "2022-09-16T16:29:25.509Z"
   },
   {
    "duration": 0,
    "start_time": "2022-09-16T16:29:25.510Z"
   },
   {
    "duration": 0,
    "start_time": "2022-09-16T16:29:25.511Z"
   },
   {
    "duration": 0,
    "start_time": "2022-09-16T16:29:25.512Z"
   },
   {
    "duration": 0,
    "start_time": "2022-09-16T16:29:25.513Z"
   },
   {
    "duration": 0,
    "start_time": "2022-09-16T16:29:25.514Z"
   },
   {
    "duration": 0,
    "start_time": "2022-09-16T16:29:25.515Z"
   },
   {
    "duration": 0,
    "start_time": "2022-09-16T16:29:25.516Z"
   },
   {
    "duration": 0,
    "start_time": "2022-09-16T16:29:25.578Z"
   },
   {
    "duration": 0,
    "start_time": "2022-09-16T16:29:25.579Z"
   },
   {
    "duration": 0,
    "start_time": "2022-09-16T16:29:25.580Z"
   },
   {
    "duration": 0,
    "start_time": "2022-09-16T16:29:25.582Z"
   },
   {
    "duration": 0,
    "start_time": "2022-09-16T16:29:25.583Z"
   },
   {
    "duration": 0,
    "start_time": "2022-09-16T16:29:25.584Z"
   },
   {
    "duration": 0,
    "start_time": "2022-09-16T16:29:25.586Z"
   },
   {
    "duration": 0,
    "start_time": "2022-09-16T16:29:25.587Z"
   },
   {
    "duration": 0,
    "start_time": "2022-09-16T16:29:25.589Z"
   },
   {
    "duration": 0,
    "start_time": "2022-09-16T16:29:25.590Z"
   },
   {
    "duration": 0,
    "start_time": "2022-09-16T16:29:25.592Z"
   },
   {
    "duration": 0,
    "start_time": "2022-09-16T16:29:25.593Z"
   },
   {
    "duration": 1,
    "start_time": "2022-09-16T16:29:25.595Z"
   },
   {
    "duration": 0,
    "start_time": "2022-09-16T16:29:25.597Z"
   },
   {
    "duration": 0,
    "start_time": "2022-09-16T16:29:25.599Z"
   },
   {
    "duration": 0,
    "start_time": "2022-09-16T16:29:25.600Z"
   },
   {
    "duration": 0,
    "start_time": "2022-09-16T16:29:25.602Z"
   },
   {
    "duration": 0,
    "start_time": "2022-09-16T16:29:25.603Z"
   },
   {
    "duration": 0,
    "start_time": "2022-09-16T16:29:25.605Z"
   },
   {
    "duration": 0,
    "start_time": "2022-09-16T16:29:25.606Z"
   },
   {
    "duration": 0,
    "start_time": "2022-09-16T16:29:25.607Z"
   },
   {
    "duration": 0,
    "start_time": "2022-09-16T16:29:25.609Z"
   },
   {
    "duration": 412,
    "start_time": "2022-09-16T16:30:21.534Z"
   },
   {
    "duration": 731,
    "start_time": "2022-09-16T16:30:26.046Z"
   },
   {
    "duration": 94,
    "start_time": "2022-09-16T16:30:26.779Z"
   },
   {
    "duration": 30,
    "start_time": "2022-09-16T16:30:26.875Z"
   },
   {
    "duration": 15,
    "start_time": "2022-09-16T16:30:26.908Z"
   },
   {
    "duration": 2107,
    "start_time": "2022-09-16T16:30:26.925Z"
   },
   {
    "duration": 9,
    "start_time": "2022-09-16T16:30:29.033Z"
   },
   {
    "duration": 22,
    "start_time": "2022-09-16T16:30:29.043Z"
   },
   {
    "duration": 233,
    "start_time": "2022-09-16T16:30:29.066Z"
   },
   {
    "duration": 9,
    "start_time": "2022-09-16T16:30:29.301Z"
   },
   {
    "duration": 8,
    "start_time": "2022-09-16T16:30:29.311Z"
   },
   {
    "duration": 14,
    "start_time": "2022-09-16T16:30:29.321Z"
   },
   {
    "duration": 16,
    "start_time": "2022-09-16T16:30:29.336Z"
   },
   {
    "duration": 35,
    "start_time": "2022-09-16T16:30:29.354Z"
   },
   {
    "duration": 42,
    "start_time": "2022-09-16T16:30:29.392Z"
   },
   {
    "duration": 41,
    "start_time": "2022-09-16T16:30:29.435Z"
   },
   {
    "duration": 12,
    "start_time": "2022-09-16T16:30:29.477Z"
   },
   {
    "duration": 15,
    "start_time": "2022-09-16T16:30:29.490Z"
   },
   {
    "duration": 15,
    "start_time": "2022-09-16T16:30:29.506Z"
   },
   {
    "duration": 10,
    "start_time": "2022-09-16T16:30:29.523Z"
   },
   {
    "duration": 20,
    "start_time": "2022-09-16T16:30:29.534Z"
   },
   {
    "duration": 21,
    "start_time": "2022-09-16T16:30:29.556Z"
   },
   {
    "duration": 28,
    "start_time": "2022-09-16T16:30:29.579Z"
   },
   {
    "duration": 30,
    "start_time": "2022-09-16T16:30:29.609Z"
   },
   {
    "duration": 11,
    "start_time": "2022-09-16T16:30:29.641Z"
   },
   {
    "duration": 20,
    "start_time": "2022-09-16T16:30:29.653Z"
   },
   {
    "duration": 25,
    "start_time": "2022-09-16T16:30:29.675Z"
   },
   {
    "duration": 23,
    "start_time": "2022-09-16T16:30:29.702Z"
   },
   {
    "duration": 24,
    "start_time": "2022-09-16T16:30:29.726Z"
   },
   {
    "duration": 7,
    "start_time": "2022-09-16T16:30:29.751Z"
   },
   {
    "duration": 35,
    "start_time": "2022-09-16T16:30:29.759Z"
   },
   {
    "duration": 25,
    "start_time": "2022-09-16T16:30:29.796Z"
   },
   {
    "duration": 26,
    "start_time": "2022-09-16T16:30:29.822Z"
   },
   {
    "duration": 11,
    "start_time": "2022-09-16T16:30:29.850Z"
   },
   {
    "duration": 18,
    "start_time": "2022-09-16T16:30:29.863Z"
   },
   {
    "duration": 23,
    "start_time": "2022-09-16T16:30:29.882Z"
   },
   {
    "duration": 29,
    "start_time": "2022-09-16T16:30:29.907Z"
   },
   {
    "duration": 3,
    "start_time": "2022-09-16T16:30:29.938Z"
   },
   {
    "duration": 16,
    "start_time": "2022-09-16T16:30:29.943Z"
   },
   {
    "duration": 8,
    "start_time": "2022-09-16T16:30:29.961Z"
   },
   {
    "duration": 36,
    "start_time": "2022-09-16T16:30:29.971Z"
   },
   {
    "duration": 6,
    "start_time": "2022-09-16T16:30:30.013Z"
   },
   {
    "duration": 10,
    "start_time": "2022-09-16T16:30:30.021Z"
   },
   {
    "duration": 11,
    "start_time": "2022-09-16T16:30:30.033Z"
   },
   {
    "duration": 284,
    "start_time": "2022-09-16T16:30:30.046Z"
   },
   {
    "duration": 279,
    "start_time": "2022-09-16T16:30:30.332Z"
   },
   {
    "duration": 10,
    "start_time": "2022-09-16T16:30:30.613Z"
   },
   {
    "duration": 395,
    "start_time": "2022-09-16T16:30:30.624Z"
   },
   {
    "duration": 292,
    "start_time": "2022-09-16T16:30:31.020Z"
   },
   {
    "duration": 274,
    "start_time": "2022-09-16T16:30:31.314Z"
   },
   {
    "duration": 8,
    "start_time": "2022-09-16T16:30:31.589Z"
   },
   {
    "duration": 292,
    "start_time": "2022-09-16T16:30:31.599Z"
   },
   {
    "duration": 366,
    "start_time": "2022-09-16T16:30:31.893Z"
   },
   {
    "duration": 272,
    "start_time": "2022-09-16T16:30:32.260Z"
   },
   {
    "duration": 6,
    "start_time": "2022-09-16T16:30:32.534Z"
   },
   {
    "duration": 307,
    "start_time": "2022-09-16T16:30:32.541Z"
   },
   {
    "duration": 278,
    "start_time": "2022-09-16T16:30:32.849Z"
   },
   {
    "duration": 365,
    "start_time": "2022-09-16T16:30:33.129Z"
   },
   {
    "duration": 6,
    "start_time": "2022-09-16T16:30:33.495Z"
   },
   {
    "duration": 273,
    "start_time": "2022-09-16T16:30:33.503Z"
   },
   {
    "duration": 283,
    "start_time": "2022-09-16T16:30:33.778Z"
   },
   {
    "duration": 282,
    "start_time": "2022-09-16T16:30:34.063Z"
   },
   {
    "duration": 6,
    "start_time": "2022-09-16T16:30:34.346Z"
   },
   {
    "duration": 356,
    "start_time": "2022-09-16T16:30:34.353Z"
   },
   {
    "duration": 274,
    "start_time": "2022-09-16T16:30:34.711Z"
   },
   {
    "duration": 273,
    "start_time": "2022-09-16T16:30:34.986Z"
   },
   {
    "duration": 6,
    "start_time": "2022-09-16T16:30:35.261Z"
   },
   {
    "duration": 284,
    "start_time": "2022-09-16T16:30:35.268Z"
   },
   {
    "duration": 26,
    "start_time": "2022-09-16T16:30:35.554Z"
   },
   {
    "duration": 44,
    "start_time": "2022-09-16T16:30:35.582Z"
   },
   {
    "duration": 7,
    "start_time": "2022-09-16T16:30:35.628Z"
   },
   {
    "duration": 377,
    "start_time": "2022-09-16T16:30:35.636Z"
   },
   {
    "duration": 292,
    "start_time": "2022-09-16T16:30:36.015Z"
   },
   {
    "duration": 9,
    "start_time": "2022-09-16T16:30:36.309Z"
   },
   {
    "duration": 12,
    "start_time": "2022-09-16T16:30:36.320Z"
   },
   {
    "duration": 10,
    "start_time": "2022-09-16T16:30:36.333Z"
   },
   {
    "duration": 5,
    "start_time": "2022-09-16T16:30:36.345Z"
   },
   {
    "duration": 6,
    "start_time": "2022-09-16T16:30:36.352Z"
   },
   {
    "duration": 21,
    "start_time": "2022-09-16T16:30:36.359Z"
   },
   {
    "duration": 1220,
    "start_time": "2022-09-16T16:30:36.382Z"
   },
   {
    "duration": 0,
    "start_time": "2022-09-16T16:30:37.604Z"
   },
   {
    "duration": 0,
    "start_time": "2022-09-16T16:30:37.606Z"
   },
   {
    "duration": 0,
    "start_time": "2022-09-16T16:30:37.608Z"
   },
   {
    "duration": 0,
    "start_time": "2022-09-16T16:30:37.609Z"
   },
   {
    "duration": 0,
    "start_time": "2022-09-16T16:30:37.610Z"
   },
   {
    "duration": 0,
    "start_time": "2022-09-16T16:30:37.611Z"
   },
   {
    "duration": 0,
    "start_time": "2022-09-16T16:30:37.613Z"
   },
   {
    "duration": 0,
    "start_time": "2022-09-16T16:30:37.614Z"
   },
   {
    "duration": 0,
    "start_time": "2022-09-16T16:30:37.616Z"
   },
   {
    "duration": 0,
    "start_time": "2022-09-16T16:30:37.618Z"
   },
   {
    "duration": 0,
    "start_time": "2022-09-16T16:30:37.619Z"
   },
   {
    "duration": 0,
    "start_time": "2022-09-16T16:30:37.620Z"
   },
   {
    "duration": 0,
    "start_time": "2022-09-16T16:30:37.622Z"
   },
   {
    "duration": 0,
    "start_time": "2022-09-16T16:30:37.623Z"
   },
   {
    "duration": 0,
    "start_time": "2022-09-16T16:30:37.625Z"
   },
   {
    "duration": 0,
    "start_time": "2022-09-16T16:30:37.626Z"
   },
   {
    "duration": 0,
    "start_time": "2022-09-16T16:30:37.628Z"
   },
   {
    "duration": 0,
    "start_time": "2022-09-16T16:30:37.629Z"
   },
   {
    "duration": 0,
    "start_time": "2022-09-16T16:30:37.631Z"
   },
   {
    "duration": 0,
    "start_time": "2022-09-16T16:30:37.632Z"
   },
   {
    "duration": 0,
    "start_time": "2022-09-16T16:30:37.633Z"
   },
   {
    "duration": 0,
    "start_time": "2022-09-16T16:30:37.634Z"
   },
   {
    "duration": 0,
    "start_time": "2022-09-16T16:30:37.636Z"
   },
   {
    "duration": 0,
    "start_time": "2022-09-16T16:30:37.637Z"
   },
   {
    "duration": 0,
    "start_time": "2022-09-16T16:30:37.638Z"
   },
   {
    "duration": 0,
    "start_time": "2022-09-16T16:30:37.639Z"
   },
   {
    "duration": 0,
    "start_time": "2022-09-16T16:30:37.641Z"
   },
   {
    "duration": 0,
    "start_time": "2022-09-16T16:30:37.678Z"
   },
   {
    "duration": 0,
    "start_time": "2022-09-16T16:30:37.680Z"
   },
   {
    "duration": 0,
    "start_time": "2022-09-16T16:30:37.682Z"
   },
   {
    "duration": 0,
    "start_time": "2022-09-16T16:30:37.683Z"
   },
   {
    "duration": 0,
    "start_time": "2022-09-16T16:30:37.684Z"
   },
   {
    "duration": 0,
    "start_time": "2022-09-16T16:30:37.686Z"
   },
   {
    "duration": 0,
    "start_time": "2022-09-16T16:30:37.687Z"
   },
   {
    "duration": 0,
    "start_time": "2022-09-16T16:30:37.689Z"
   },
   {
    "duration": 0,
    "start_time": "2022-09-16T16:30:37.690Z"
   },
   {
    "duration": 0,
    "start_time": "2022-09-16T16:30:37.691Z"
   },
   {
    "duration": 0,
    "start_time": "2022-09-16T16:30:37.693Z"
   },
   {
    "duration": 0,
    "start_time": "2022-09-16T16:30:37.694Z"
   },
   {
    "duration": 0,
    "start_time": "2022-09-16T16:30:37.696Z"
   },
   {
    "duration": 0,
    "start_time": "2022-09-16T16:30:37.697Z"
   },
   {
    "duration": 0,
    "start_time": "2022-09-16T16:30:37.698Z"
   },
   {
    "duration": 0,
    "start_time": "2022-09-16T16:30:37.700Z"
   },
   {
    "duration": 0,
    "start_time": "2022-09-16T16:30:37.701Z"
   },
   {
    "duration": 0,
    "start_time": "2022-09-16T16:30:37.702Z"
   },
   {
    "duration": 0,
    "start_time": "2022-09-16T16:30:37.704Z"
   },
   {
    "duration": 0,
    "start_time": "2022-09-16T16:30:37.705Z"
   },
   {
    "duration": 1,
    "start_time": "2022-09-16T16:30:37.706Z"
   },
   {
    "duration": 0,
    "start_time": "2022-09-16T16:30:37.708Z"
   },
   {
    "duration": 0,
    "start_time": "2022-09-16T16:30:37.709Z"
   },
   {
    "duration": 0,
    "start_time": "2022-09-16T16:30:37.710Z"
   },
   {
    "duration": 0,
    "start_time": "2022-09-16T16:30:37.712Z"
   },
   {
    "duration": 0,
    "start_time": "2022-09-16T16:30:37.713Z"
   },
   {
    "duration": 0,
    "start_time": "2022-09-16T16:30:37.714Z"
   },
   {
    "duration": 0,
    "start_time": "2022-09-16T16:30:37.715Z"
   },
   {
    "duration": 0,
    "start_time": "2022-09-16T16:30:37.716Z"
   },
   {
    "duration": 0,
    "start_time": "2022-09-16T16:30:37.717Z"
   },
   {
    "duration": 0,
    "start_time": "2022-09-16T16:30:37.718Z"
   },
   {
    "duration": 0,
    "start_time": "2022-09-16T16:30:37.779Z"
   },
   {
    "duration": 1223,
    "start_time": "2022-09-16T16:31:07.578Z"
   },
   {
    "duration": 1204,
    "start_time": "2022-09-16T16:31:36.484Z"
   },
   {
    "duration": 8,
    "start_time": "2022-09-16T16:33:23.170Z"
   },
   {
    "duration": 1338,
    "start_time": "2022-09-16T16:33:28.046Z"
   },
   {
    "duration": 1119,
    "start_time": "2022-09-16T16:33:56.631Z"
   },
   {
    "duration": 2299,
    "start_time": "2022-09-16T16:36:43.692Z"
   },
   {
    "duration": 1651,
    "start_time": "2022-09-16T16:37:06.457Z"
   },
   {
    "duration": 1742,
    "start_time": "2022-09-16T16:37:34.573Z"
   },
   {
    "duration": 1448,
    "start_time": "2022-09-16T16:37:39.778Z"
   },
   {
    "duration": 3,
    "start_time": "2022-09-16T16:39:19.171Z"
   },
   {
    "duration": 3,
    "start_time": "2022-09-16T16:39:26.067Z"
   },
   {
    "duration": 262,
    "start_time": "2022-09-16T16:39:58.420Z"
   },
   {
    "duration": 278,
    "start_time": "2022-09-16T16:39:59.822Z"
   },
   {
    "duration": 606,
    "start_time": "2022-09-16T16:40:04.712Z"
   },
   {
    "duration": 87,
    "start_time": "2022-09-16T16:40:05.320Z"
   },
   {
    "duration": 24,
    "start_time": "2022-09-16T16:40:05.408Z"
   },
   {
    "duration": 13,
    "start_time": "2022-09-16T16:40:05.434Z"
   },
   {
    "duration": 1951,
    "start_time": "2022-09-16T16:40:05.449Z"
   },
   {
    "duration": 9,
    "start_time": "2022-09-16T16:40:07.401Z"
   },
   {
    "duration": 4,
    "start_time": "2022-09-16T16:40:07.411Z"
   },
   {
    "duration": 227,
    "start_time": "2022-09-16T16:40:07.417Z"
   },
   {
    "duration": 12,
    "start_time": "2022-09-16T16:40:07.645Z"
   },
   {
    "duration": 24,
    "start_time": "2022-09-16T16:40:07.660Z"
   },
   {
    "duration": 5,
    "start_time": "2022-09-16T16:40:07.686Z"
   },
   {
    "duration": 11,
    "start_time": "2022-09-16T16:40:07.693Z"
   },
   {
    "duration": 24,
    "start_time": "2022-09-16T16:40:07.706Z"
   },
   {
    "duration": 53,
    "start_time": "2022-09-16T16:40:07.732Z"
   },
   {
    "duration": 31,
    "start_time": "2022-09-16T16:40:07.788Z"
   },
   {
    "duration": 6,
    "start_time": "2022-09-16T16:40:07.820Z"
   },
   {
    "duration": 10,
    "start_time": "2022-09-16T16:40:07.828Z"
   },
   {
    "duration": 25,
    "start_time": "2022-09-16T16:40:07.840Z"
   },
   {
    "duration": 10,
    "start_time": "2022-09-16T16:40:07.867Z"
   },
   {
    "duration": 4,
    "start_time": "2022-09-16T16:40:07.879Z"
   },
   {
    "duration": 6,
    "start_time": "2022-09-16T16:40:07.885Z"
   },
   {
    "duration": 9,
    "start_time": "2022-09-16T16:40:07.892Z"
   },
   {
    "duration": 23,
    "start_time": "2022-09-16T16:40:07.903Z"
   },
   {
    "duration": 6,
    "start_time": "2022-09-16T16:40:07.927Z"
   },
   {
    "duration": 7,
    "start_time": "2022-09-16T16:40:07.934Z"
   },
   {
    "duration": 4,
    "start_time": "2022-09-16T16:40:07.943Z"
   },
   {
    "duration": 31,
    "start_time": "2022-09-16T16:40:07.948Z"
   },
   {
    "duration": 14,
    "start_time": "2022-09-16T16:40:07.985Z"
   },
   {
    "duration": 6,
    "start_time": "2022-09-16T16:40:08.001Z"
   },
   {
    "duration": 15,
    "start_time": "2022-09-16T16:40:08.008Z"
   },
   {
    "duration": 18,
    "start_time": "2022-09-16T16:40:08.025Z"
   },
   {
    "duration": 33,
    "start_time": "2022-09-16T16:40:08.045Z"
   },
   {
    "duration": 11,
    "start_time": "2022-09-16T16:40:08.080Z"
   },
   {
    "duration": 4,
    "start_time": "2022-09-16T16:40:08.092Z"
   },
   {
    "duration": 6,
    "start_time": "2022-09-16T16:40:08.098Z"
   },
   {
    "duration": 22,
    "start_time": "2022-09-16T16:40:08.105Z"
   },
   {
    "duration": 4,
    "start_time": "2022-09-16T16:40:08.128Z"
   },
   {
    "duration": 8,
    "start_time": "2022-09-16T16:40:08.133Z"
   },
   {
    "duration": 35,
    "start_time": "2022-09-16T16:40:08.142Z"
   },
   {
    "duration": 24,
    "start_time": "2022-09-16T16:40:08.179Z"
   },
   {
    "duration": 8,
    "start_time": "2022-09-16T16:40:08.205Z"
   },
   {
    "duration": 9,
    "start_time": "2022-09-16T16:40:08.214Z"
   },
   {
    "duration": 6,
    "start_time": "2022-09-16T16:40:08.225Z"
   },
   {
    "duration": 291,
    "start_time": "2022-09-16T16:40:08.233Z"
   },
   {
    "duration": 280,
    "start_time": "2022-09-16T16:40:08.525Z"
   },
   {
    "duration": 9,
    "start_time": "2022-09-16T16:40:08.806Z"
   },
   {
    "duration": 406,
    "start_time": "2022-09-16T16:40:08.817Z"
   },
   {
    "duration": 281,
    "start_time": "2022-09-16T16:40:09.225Z"
   },
   {
    "duration": 273,
    "start_time": "2022-09-16T16:40:09.508Z"
   },
   {
    "duration": 8,
    "start_time": "2022-09-16T16:40:09.783Z"
   },
   {
    "duration": 312,
    "start_time": "2022-09-16T16:40:09.793Z"
   },
   {
    "duration": 371,
    "start_time": "2022-09-16T16:40:10.107Z"
   },
   {
    "duration": 277,
    "start_time": "2022-09-16T16:40:10.480Z"
   },
   {
    "duration": 7,
    "start_time": "2022-09-16T16:40:10.759Z"
   },
   {
    "duration": 278,
    "start_time": "2022-09-16T16:40:10.767Z"
   },
   {
    "duration": 265,
    "start_time": "2022-09-16T16:40:11.047Z"
   },
   {
    "duration": 373,
    "start_time": "2022-09-16T16:40:11.313Z"
   },
   {
    "duration": 7,
    "start_time": "2022-09-16T16:40:11.687Z"
   },
   {
    "duration": 303,
    "start_time": "2022-09-16T16:40:11.695Z"
   },
   {
    "duration": 272,
    "start_time": "2022-09-16T16:40:11.999Z"
   },
   {
    "duration": 279,
    "start_time": "2022-09-16T16:40:12.272Z"
   },
   {
    "duration": 6,
    "start_time": "2022-09-16T16:40:12.552Z"
   },
   {
    "duration": 395,
    "start_time": "2022-09-16T16:40:12.559Z"
   },
   {
    "duration": 270,
    "start_time": "2022-09-16T16:40:12.955Z"
   },
   {
    "duration": 277,
    "start_time": "2022-09-16T16:40:13.228Z"
   },
   {
    "duration": 6,
    "start_time": "2022-09-16T16:40:13.506Z"
   },
   {
    "duration": 279,
    "start_time": "2022-09-16T16:40:13.514Z"
   },
   {
    "duration": 19,
    "start_time": "2022-09-16T16:40:13.795Z"
   },
   {
    "duration": 64,
    "start_time": "2022-09-16T16:40:13.816Z"
   },
   {
    "duration": 6,
    "start_time": "2022-09-16T16:40:13.882Z"
   },
   {
    "duration": 377,
    "start_time": "2022-09-16T16:40:13.889Z"
   },
   {
    "duration": 275,
    "start_time": "2022-09-16T16:40:14.267Z"
   },
   {
    "duration": 8,
    "start_time": "2022-09-16T16:40:14.544Z"
   },
   {
    "duration": 9,
    "start_time": "2022-09-16T16:40:14.554Z"
   },
   {
    "duration": 4,
    "start_time": "2022-09-16T16:40:14.576Z"
   },
   {
    "duration": 7,
    "start_time": "2022-09-16T16:40:14.582Z"
   },
   {
    "duration": 5,
    "start_time": "2022-09-16T16:40:14.590Z"
   },
   {
    "duration": 5,
    "start_time": "2022-09-16T16:40:14.596Z"
   },
   {
    "duration": 2653,
    "start_time": "2022-09-16T16:40:14.602Z"
   },
   {
    "duration": 0,
    "start_time": "2022-09-16T16:40:17.260Z"
   },
   {
    "duration": 0,
    "start_time": "2022-09-16T16:40:17.261Z"
   },
   {
    "duration": 0,
    "start_time": "2022-09-16T16:40:17.263Z"
   },
   {
    "duration": 0,
    "start_time": "2022-09-16T16:40:17.264Z"
   },
   {
    "duration": 0,
    "start_time": "2022-09-16T16:40:17.266Z"
   },
   {
    "duration": 0,
    "start_time": "2022-09-16T16:40:17.267Z"
   },
   {
    "duration": 0,
    "start_time": "2022-09-16T16:40:17.268Z"
   },
   {
    "duration": 1,
    "start_time": "2022-09-16T16:40:17.269Z"
   },
   {
    "duration": 0,
    "start_time": "2022-09-16T16:40:17.271Z"
   },
   {
    "duration": 0,
    "start_time": "2022-09-16T16:40:17.272Z"
   },
   {
    "duration": 0,
    "start_time": "2022-09-16T16:40:17.274Z"
   },
   {
    "duration": 0,
    "start_time": "2022-09-16T16:40:17.275Z"
   },
   {
    "duration": 0,
    "start_time": "2022-09-16T16:40:17.276Z"
   },
   {
    "duration": 0,
    "start_time": "2022-09-16T16:40:17.278Z"
   },
   {
    "duration": 0,
    "start_time": "2022-09-16T16:40:17.279Z"
   },
   {
    "duration": 0,
    "start_time": "2022-09-16T16:40:17.280Z"
   },
   {
    "duration": 0,
    "start_time": "2022-09-16T16:40:17.281Z"
   },
   {
    "duration": 0,
    "start_time": "2022-09-16T16:40:17.283Z"
   },
   {
    "duration": 0,
    "start_time": "2022-09-16T16:40:17.284Z"
   },
   {
    "duration": 0,
    "start_time": "2022-09-16T16:40:17.286Z"
   },
   {
    "duration": 0,
    "start_time": "2022-09-16T16:40:17.288Z"
   },
   {
    "duration": 0,
    "start_time": "2022-09-16T16:40:17.289Z"
   },
   {
    "duration": 0,
    "start_time": "2022-09-16T16:40:17.290Z"
   },
   {
    "duration": 0,
    "start_time": "2022-09-16T16:40:17.291Z"
   },
   {
    "duration": 0,
    "start_time": "2022-09-16T16:40:17.293Z"
   },
   {
    "duration": 0,
    "start_time": "2022-09-16T16:40:17.294Z"
   },
   {
    "duration": 0,
    "start_time": "2022-09-16T16:40:17.295Z"
   },
   {
    "duration": 0,
    "start_time": "2022-09-16T16:40:17.296Z"
   },
   {
    "duration": 0,
    "start_time": "2022-09-16T16:40:17.297Z"
   },
   {
    "duration": 0,
    "start_time": "2022-09-16T16:40:17.298Z"
   },
   {
    "duration": 0,
    "start_time": "2022-09-16T16:40:17.298Z"
   },
   {
    "duration": 0,
    "start_time": "2022-09-16T16:40:17.299Z"
   },
   {
    "duration": 0,
    "start_time": "2022-09-16T16:40:17.300Z"
   },
   {
    "duration": 0,
    "start_time": "2022-09-16T16:40:17.301Z"
   },
   {
    "duration": 0,
    "start_time": "2022-09-16T16:40:17.302Z"
   },
   {
    "duration": 0,
    "start_time": "2022-09-16T16:40:17.303Z"
   },
   {
    "duration": 0,
    "start_time": "2022-09-16T16:40:17.304Z"
   },
   {
    "duration": 0,
    "start_time": "2022-09-16T16:40:17.305Z"
   },
   {
    "duration": 0,
    "start_time": "2022-09-16T16:40:17.306Z"
   },
   {
    "duration": 0,
    "start_time": "2022-09-16T16:40:17.307Z"
   },
   {
    "duration": 0,
    "start_time": "2022-09-16T16:40:17.308Z"
   },
   {
    "duration": 0,
    "start_time": "2022-09-16T16:40:17.309Z"
   },
   {
    "duration": 0,
    "start_time": "2022-09-16T16:40:17.309Z"
   },
   {
    "duration": 0,
    "start_time": "2022-09-16T16:40:17.311Z"
   },
   {
    "duration": 0,
    "start_time": "2022-09-16T16:40:17.312Z"
   },
   {
    "duration": 0,
    "start_time": "2022-09-16T16:40:17.313Z"
   },
   {
    "duration": 0,
    "start_time": "2022-09-16T16:40:17.314Z"
   },
   {
    "duration": 0,
    "start_time": "2022-09-16T16:40:17.315Z"
   },
   {
    "duration": 0,
    "start_time": "2022-09-16T16:40:17.315Z"
   },
   {
    "duration": 0,
    "start_time": "2022-09-16T16:40:17.316Z"
   },
   {
    "duration": 0,
    "start_time": "2022-09-16T16:40:17.317Z"
   },
   {
    "duration": 0,
    "start_time": "2022-09-16T16:40:17.318Z"
   },
   {
    "duration": 0,
    "start_time": "2022-09-16T16:40:17.378Z"
   },
   {
    "duration": 0,
    "start_time": "2022-09-16T16:40:17.379Z"
   },
   {
    "duration": 0,
    "start_time": "2022-09-16T16:40:17.380Z"
   },
   {
    "duration": 0,
    "start_time": "2022-09-16T16:40:17.382Z"
   },
   {
    "duration": 0,
    "start_time": "2022-09-16T16:40:17.383Z"
   },
   {
    "duration": 0,
    "start_time": "2022-09-16T16:40:17.384Z"
   },
   {
    "duration": 0,
    "start_time": "2022-09-16T16:40:17.385Z"
   },
   {
    "duration": 265,
    "start_time": "2022-09-16T16:40:57.180Z"
   },
   {
    "duration": 261,
    "start_time": "2022-09-16T16:40:58.318Z"
   },
   {
    "duration": 339,
    "start_time": "2022-09-16T16:41:03.604Z"
   },
   {
    "duration": 268,
    "start_time": "2022-09-16T16:41:09.252Z"
   },
   {
    "duration": 275,
    "start_time": "2022-09-16T16:41:48.046Z"
   },
   {
    "duration": 4,
    "start_time": "2022-09-16T16:42:39.285Z"
   },
   {
    "duration": 10,
    "start_time": "2022-09-16T16:43:37.144Z"
   },
   {
    "duration": 5,
    "start_time": "2022-09-16T16:44:03.511Z"
   },
   {
    "duration": 4,
    "start_time": "2022-09-16T16:44:09.030Z"
   },
   {
    "duration": 5,
    "start_time": "2022-09-16T16:44:12.762Z"
   },
   {
    "duration": 961,
    "start_time": "2022-09-16T16:44:50.539Z"
   },
   {
    "duration": 90,
    "start_time": "2022-09-16T16:44:51.502Z"
   },
   {
    "duration": 23,
    "start_time": "2022-09-16T16:44:51.594Z"
   },
   {
    "duration": 27,
    "start_time": "2022-09-16T16:44:51.619Z"
   },
   {
    "duration": 1865,
    "start_time": "2022-09-16T16:44:51.647Z"
   },
   {
    "duration": 9,
    "start_time": "2022-09-16T16:44:53.513Z"
   },
   {
    "duration": 4,
    "start_time": "2022-09-16T16:44:53.523Z"
   },
   {
    "duration": 252,
    "start_time": "2022-09-16T16:44:53.529Z"
   },
   {
    "duration": 11,
    "start_time": "2022-09-16T16:44:53.783Z"
   },
   {
    "duration": 29,
    "start_time": "2022-09-16T16:44:53.797Z"
   },
   {
    "duration": 12,
    "start_time": "2022-09-16T16:44:53.828Z"
   },
   {
    "duration": 28,
    "start_time": "2022-09-16T16:44:53.842Z"
   },
   {
    "duration": 30,
    "start_time": "2022-09-16T16:44:53.872Z"
   },
   {
    "duration": 31,
    "start_time": "2022-09-16T16:44:53.904Z"
   },
   {
    "duration": 50,
    "start_time": "2022-09-16T16:44:53.937Z"
   },
   {
    "duration": 5,
    "start_time": "2022-09-16T16:44:53.989Z"
   },
   {
    "duration": 26,
    "start_time": "2022-09-16T16:44:53.996Z"
   },
   {
    "duration": 20,
    "start_time": "2022-09-16T16:44:54.023Z"
   },
   {
    "duration": 23,
    "start_time": "2022-09-16T16:44:54.044Z"
   },
   {
    "duration": 12,
    "start_time": "2022-09-16T16:44:54.069Z"
   },
   {
    "duration": 19,
    "start_time": "2022-09-16T16:44:54.083Z"
   },
   {
    "duration": 35,
    "start_time": "2022-09-16T16:44:54.104Z"
   },
   {
    "duration": 46,
    "start_time": "2022-09-16T16:44:54.141Z"
   },
   {
    "duration": 17,
    "start_time": "2022-09-16T16:44:54.189Z"
   },
   {
    "duration": 21,
    "start_time": "2022-09-16T16:44:54.207Z"
   },
   {
    "duration": 19,
    "start_time": "2022-09-16T16:44:54.230Z"
   },
   {
    "duration": 17,
    "start_time": "2022-09-16T16:44:54.251Z"
   },
   {
    "duration": 31,
    "start_time": "2022-09-16T16:44:54.272Z"
   },
   {
    "duration": 12,
    "start_time": "2022-09-16T16:44:54.305Z"
   },
   {
    "duration": 51,
    "start_time": "2022-09-16T16:44:54.319Z"
   },
   {
    "duration": 43,
    "start_time": "2022-09-16T16:44:54.371Z"
   },
   {
    "duration": 18,
    "start_time": "2022-09-16T16:44:54.416Z"
   },
   {
    "duration": 30,
    "start_time": "2022-09-16T16:44:54.435Z"
   },
   {
    "duration": 24,
    "start_time": "2022-09-16T16:44:54.466Z"
   },
   {
    "duration": 17,
    "start_time": "2022-09-16T16:44:54.491Z"
   },
   {
    "duration": 28,
    "start_time": "2022-09-16T16:44:54.509Z"
   },
   {
    "duration": 5,
    "start_time": "2022-09-16T16:44:54.538Z"
   },
   {
    "duration": 23,
    "start_time": "2022-09-16T16:44:54.544Z"
   },
   {
    "duration": 16,
    "start_time": "2022-09-16T16:44:54.569Z"
   },
   {
    "duration": 33,
    "start_time": "2022-09-16T16:44:54.587Z"
   },
   {
    "duration": 6,
    "start_time": "2022-09-16T16:44:54.622Z"
   },
   {
    "duration": 14,
    "start_time": "2022-09-16T16:44:54.630Z"
   },
   {
    "duration": 13,
    "start_time": "2022-09-16T16:44:54.646Z"
   },
   {
    "duration": 305,
    "start_time": "2022-09-16T16:44:54.661Z"
   },
   {
    "duration": 306,
    "start_time": "2022-09-16T16:44:54.968Z"
   },
   {
    "duration": 11,
    "start_time": "2022-09-16T16:44:55.277Z"
   },
   {
    "duration": 397,
    "start_time": "2022-09-16T16:44:55.290Z"
   },
   {
    "duration": 296,
    "start_time": "2022-09-16T16:44:55.689Z"
   },
   {
    "duration": 278,
    "start_time": "2022-09-16T16:44:55.986Z"
   },
   {
    "duration": 11,
    "start_time": "2022-09-16T16:44:56.266Z"
   },
   {
    "duration": 289,
    "start_time": "2022-09-16T16:44:56.279Z"
   },
   {
    "duration": 349,
    "start_time": "2022-09-16T16:44:56.569Z"
   },
   {
    "duration": 273,
    "start_time": "2022-09-16T16:44:56.920Z"
   },
   {
    "duration": 6,
    "start_time": "2022-09-16T16:44:57.194Z"
   },
   {
    "duration": 263,
    "start_time": "2022-09-16T16:44:57.201Z"
   },
   {
    "duration": 326,
    "start_time": "2022-09-16T16:44:57.465Z"
   },
   {
    "duration": 373,
    "start_time": "2022-09-16T16:44:57.793Z"
   },
   {
    "duration": 10,
    "start_time": "2022-09-16T16:44:58.167Z"
   },
   {
    "duration": 256,
    "start_time": "2022-09-16T16:44:58.179Z"
   },
   {
    "duration": 261,
    "start_time": "2022-09-16T16:44:58.437Z"
   },
   {
    "duration": 274,
    "start_time": "2022-09-16T16:44:58.700Z"
   },
   {
    "duration": 6,
    "start_time": "2022-09-16T16:44:58.977Z"
   },
   {
    "duration": 348,
    "start_time": "2022-09-16T16:44:58.984Z"
   },
   {
    "duration": 263,
    "start_time": "2022-09-16T16:44:59.333Z"
   },
   {
    "duration": 269,
    "start_time": "2022-09-16T16:44:59.597Z"
   },
   {
    "duration": 9,
    "start_time": "2022-09-16T16:44:59.868Z"
   },
   {
    "duration": 272,
    "start_time": "2022-09-16T16:44:59.878Z"
   },
   {
    "duration": 26,
    "start_time": "2022-09-16T16:45:00.151Z"
   },
   {
    "duration": 49,
    "start_time": "2022-09-16T16:45:00.178Z"
   },
   {
    "duration": 7,
    "start_time": "2022-09-16T16:45:00.229Z"
   },
   {
    "duration": 381,
    "start_time": "2022-09-16T16:45:00.237Z"
   },
   {
    "duration": 275,
    "start_time": "2022-09-16T16:45:00.619Z"
   },
   {
    "duration": 10,
    "start_time": "2022-09-16T16:45:00.896Z"
   },
   {
    "duration": 25,
    "start_time": "2022-09-16T16:45:00.908Z"
   },
   {
    "duration": 11,
    "start_time": "2022-09-16T16:45:00.935Z"
   },
   {
    "duration": 14,
    "start_time": "2022-09-16T16:45:00.948Z"
   },
   {
    "duration": 11,
    "start_time": "2022-09-16T16:45:00.964Z"
   },
   {
    "duration": 11,
    "start_time": "2022-09-16T16:45:00.977Z"
   },
   {
    "duration": 4159,
    "start_time": "2022-09-16T16:45:00.990Z"
   },
   {
    "duration": 0,
    "start_time": "2022-09-16T16:45:05.155Z"
   },
   {
    "duration": 0,
    "start_time": "2022-09-16T16:45:05.155Z"
   },
   {
    "duration": 0,
    "start_time": "2022-09-16T16:45:05.157Z"
   },
   {
    "duration": 0,
    "start_time": "2022-09-16T16:45:05.158Z"
   },
   {
    "duration": 0,
    "start_time": "2022-09-16T16:45:05.159Z"
   },
   {
    "duration": 0,
    "start_time": "2022-09-16T16:45:05.160Z"
   },
   {
    "duration": 0,
    "start_time": "2022-09-16T16:45:05.162Z"
   },
   {
    "duration": 0,
    "start_time": "2022-09-16T16:45:05.163Z"
   },
   {
    "duration": 0,
    "start_time": "2022-09-16T16:45:05.165Z"
   },
   {
    "duration": 0,
    "start_time": "2022-09-16T16:45:05.166Z"
   },
   {
    "duration": 0,
    "start_time": "2022-09-16T16:45:05.168Z"
   },
   {
    "duration": 0,
    "start_time": "2022-09-16T16:45:05.169Z"
   },
   {
    "duration": 0,
    "start_time": "2022-09-16T16:45:05.170Z"
   },
   {
    "duration": 0,
    "start_time": "2022-09-16T16:45:05.172Z"
   },
   {
    "duration": 0,
    "start_time": "2022-09-16T16:45:05.173Z"
   },
   {
    "duration": 0,
    "start_time": "2022-09-16T16:45:05.174Z"
   },
   {
    "duration": 0,
    "start_time": "2022-09-16T16:45:05.175Z"
   },
   {
    "duration": 0,
    "start_time": "2022-09-16T16:45:05.176Z"
   },
   {
    "duration": 0,
    "start_time": "2022-09-16T16:45:05.177Z"
   },
   {
    "duration": 0,
    "start_time": "2022-09-16T16:45:05.178Z"
   },
   {
    "duration": 0,
    "start_time": "2022-09-16T16:45:05.179Z"
   },
   {
    "duration": 0,
    "start_time": "2022-09-16T16:45:05.180Z"
   },
   {
    "duration": 0,
    "start_time": "2022-09-16T16:45:05.181Z"
   },
   {
    "duration": 0,
    "start_time": "2022-09-16T16:45:05.181Z"
   },
   {
    "duration": 0,
    "start_time": "2022-09-16T16:45:05.182Z"
   },
   {
    "duration": 0,
    "start_time": "2022-09-16T16:45:05.183Z"
   },
   {
    "duration": 0,
    "start_time": "2022-09-16T16:45:05.184Z"
   },
   {
    "duration": 0,
    "start_time": "2022-09-16T16:45:05.185Z"
   },
   {
    "duration": 0,
    "start_time": "2022-09-16T16:45:05.186Z"
   },
   {
    "duration": 0,
    "start_time": "2022-09-16T16:45:05.187Z"
   },
   {
    "duration": 0,
    "start_time": "2022-09-16T16:45:05.188Z"
   },
   {
    "duration": 0,
    "start_time": "2022-09-16T16:45:05.189Z"
   },
   {
    "duration": 0,
    "start_time": "2022-09-16T16:45:05.189Z"
   },
   {
    "duration": 0,
    "start_time": "2022-09-16T16:45:05.190Z"
   },
   {
    "duration": 0,
    "start_time": "2022-09-16T16:45:05.191Z"
   },
   {
    "duration": 0,
    "start_time": "2022-09-16T16:45:05.193Z"
   },
   {
    "duration": 0,
    "start_time": "2022-09-16T16:45:05.194Z"
   },
   {
    "duration": 0,
    "start_time": "2022-09-16T16:45:05.195Z"
   },
   {
    "duration": 0,
    "start_time": "2022-09-16T16:45:05.195Z"
   },
   {
    "duration": 0,
    "start_time": "2022-09-16T16:45:05.196Z"
   },
   {
    "duration": 0,
    "start_time": "2022-09-16T16:45:05.197Z"
   },
   {
    "duration": 0,
    "start_time": "2022-09-16T16:45:05.198Z"
   },
   {
    "duration": 0,
    "start_time": "2022-09-16T16:45:05.199Z"
   },
   {
    "duration": 0,
    "start_time": "2022-09-16T16:45:05.200Z"
   },
   {
    "duration": 0,
    "start_time": "2022-09-16T16:45:05.201Z"
   },
   {
    "duration": 0,
    "start_time": "2022-09-16T16:45:05.202Z"
   },
   {
    "duration": 0,
    "start_time": "2022-09-16T16:45:05.203Z"
   },
   {
    "duration": 0,
    "start_time": "2022-09-16T16:45:05.204Z"
   },
   {
    "duration": 0,
    "start_time": "2022-09-16T16:45:05.205Z"
   },
   {
    "duration": 0,
    "start_time": "2022-09-16T16:45:05.206Z"
   },
   {
    "duration": 0,
    "start_time": "2022-09-16T16:45:05.207Z"
   },
   {
    "duration": 0,
    "start_time": "2022-09-16T16:45:05.209Z"
   },
   {
    "duration": 0,
    "start_time": "2022-09-16T16:45:05.210Z"
   },
   {
    "duration": 0,
    "start_time": "2022-09-16T16:45:05.211Z"
   },
   {
    "duration": 0,
    "start_time": "2022-09-16T16:45:05.212Z"
   },
   {
    "duration": 0,
    "start_time": "2022-09-16T16:45:05.213Z"
   },
   {
    "duration": 0,
    "start_time": "2022-09-16T16:45:05.214Z"
   },
   {
    "duration": 0,
    "start_time": "2022-09-16T16:45:05.215Z"
   },
   {
    "duration": 0,
    "start_time": "2022-09-16T16:45:05.216Z"
   },
   {
    "duration": 655,
    "start_time": "2022-09-16T16:46:11.847Z"
   },
   {
    "duration": 96,
    "start_time": "2022-09-16T16:46:12.504Z"
   },
   {
    "duration": 24,
    "start_time": "2022-09-16T16:46:12.602Z"
   },
   {
    "duration": 14,
    "start_time": "2022-09-16T16:46:12.627Z"
   },
   {
    "duration": 1986,
    "start_time": "2022-09-16T16:46:12.642Z"
   },
   {
    "duration": 9,
    "start_time": "2022-09-16T16:46:14.629Z"
   },
   {
    "duration": 4,
    "start_time": "2022-09-16T16:46:14.640Z"
   },
   {
    "duration": 219,
    "start_time": "2022-09-16T16:46:14.646Z"
   },
   {
    "duration": 17,
    "start_time": "2022-09-16T16:46:14.867Z"
   },
   {
    "duration": 9,
    "start_time": "2022-09-16T16:46:14.887Z"
   },
   {
    "duration": 4,
    "start_time": "2022-09-16T16:46:14.898Z"
   },
   {
    "duration": 6,
    "start_time": "2022-09-16T16:46:14.903Z"
   },
   {
    "duration": 15,
    "start_time": "2022-09-16T16:46:14.911Z"
   },
   {
    "duration": 55,
    "start_time": "2022-09-16T16:46:14.928Z"
   },
   {
    "duration": 27,
    "start_time": "2022-09-16T16:46:14.985Z"
   },
   {
    "duration": 6,
    "start_time": "2022-09-16T16:46:15.013Z"
   },
   {
    "duration": 13,
    "start_time": "2022-09-16T16:46:15.021Z"
   },
   {
    "duration": 8,
    "start_time": "2022-09-16T16:46:15.036Z"
   },
   {
    "duration": 9,
    "start_time": "2022-09-16T16:46:15.046Z"
   },
   {
    "duration": 21,
    "start_time": "2022-09-16T16:46:15.056Z"
   },
   {
    "duration": 4,
    "start_time": "2022-09-16T16:46:15.079Z"
   },
   {
    "duration": 11,
    "start_time": "2022-09-16T16:46:15.085Z"
   },
   {
    "duration": 22,
    "start_time": "2022-09-16T16:46:15.098Z"
   },
   {
    "duration": 5,
    "start_time": "2022-09-16T16:46:15.122Z"
   },
   {
    "duration": 6,
    "start_time": "2022-09-16T16:46:15.129Z"
   },
   {
    "duration": 5,
    "start_time": "2022-09-16T16:46:15.136Z"
   },
   {
    "duration": 35,
    "start_time": "2022-09-16T16:46:15.143Z"
   },
   {
    "duration": 13,
    "start_time": "2022-09-16T16:46:15.183Z"
   },
   {
    "duration": 6,
    "start_time": "2022-09-16T16:46:15.198Z"
   },
   {
    "duration": 15,
    "start_time": "2022-09-16T16:46:15.205Z"
   },
   {
    "duration": 18,
    "start_time": "2022-09-16T16:46:15.221Z"
   },
   {
    "duration": 10,
    "start_time": "2022-09-16T16:46:15.241Z"
   },
   {
    "duration": 39,
    "start_time": "2022-09-16T16:46:15.252Z"
   },
   {
    "duration": 5,
    "start_time": "2022-09-16T16:46:15.295Z"
   },
   {
    "duration": 7,
    "start_time": "2022-09-16T16:46:15.301Z"
   },
   {
    "duration": 22,
    "start_time": "2022-09-16T16:46:15.310Z"
   },
   {
    "duration": 4,
    "start_time": "2022-09-16T16:46:15.333Z"
   },
   {
    "duration": 7,
    "start_time": "2022-09-16T16:46:15.339Z"
   },
   {
    "duration": 6,
    "start_time": "2022-09-16T16:46:15.347Z"
   },
   {
    "duration": 49,
    "start_time": "2022-09-16T16:46:15.354Z"
   },
   {
    "duration": 6,
    "start_time": "2022-09-16T16:46:15.404Z"
   },
   {
    "duration": 10,
    "start_time": "2022-09-16T16:46:15.412Z"
   },
   {
    "duration": 8,
    "start_time": "2022-09-16T16:46:15.423Z"
   },
   {
    "duration": 309,
    "start_time": "2022-09-16T16:46:15.432Z"
   },
   {
    "duration": 305,
    "start_time": "2022-09-16T16:46:15.742Z"
   },
   {
    "duration": 10,
    "start_time": "2022-09-16T16:46:16.048Z"
   },
   {
    "duration": 431,
    "start_time": "2022-09-16T16:46:16.060Z"
   },
   {
    "duration": 296,
    "start_time": "2022-09-16T16:46:16.493Z"
   },
   {
    "duration": 285,
    "start_time": "2022-09-16T16:46:16.791Z"
   },
   {
    "duration": 8,
    "start_time": "2022-09-16T16:46:17.078Z"
   },
   {
    "duration": 316,
    "start_time": "2022-09-16T16:46:17.088Z"
   },
   {
    "duration": 456,
    "start_time": "2022-09-16T16:46:17.406Z"
   },
   {
    "duration": 2,
    "start_time": "2022-09-16T16:46:17.863Z"
   },
   {
    "duration": 12,
    "start_time": "2022-09-16T16:46:17.867Z"
   },
   {
    "duration": 277,
    "start_time": "2022-09-16T16:46:17.881Z"
   },
   {
    "duration": 266,
    "start_time": "2022-09-16T16:46:18.159Z"
   },
   {
    "duration": 286,
    "start_time": "2022-09-16T16:46:18.427Z"
   },
   {
    "duration": 6,
    "start_time": "2022-09-16T16:46:18.714Z"
   },
   {
    "duration": 340,
    "start_time": "2022-09-16T16:46:18.722Z"
   },
   {
    "duration": 268,
    "start_time": "2022-09-16T16:46:19.064Z"
   },
   {
    "duration": 294,
    "start_time": "2022-09-16T16:46:19.334Z"
   },
   {
    "duration": 6,
    "start_time": "2022-09-16T16:46:19.630Z"
   },
   {
    "duration": 284,
    "start_time": "2022-09-16T16:46:19.637Z"
   },
   {
    "duration": 361,
    "start_time": "2022-09-16T16:46:19.923Z"
   },
   {
    "duration": 279,
    "start_time": "2022-09-16T16:46:20.286Z"
   },
   {
    "duration": 11,
    "start_time": "2022-09-16T16:46:20.566Z"
   },
   {
    "duration": 274,
    "start_time": "2022-09-16T16:46:20.579Z"
   },
   {
    "duration": 23,
    "start_time": "2022-09-16T16:46:20.855Z"
   },
   {
    "duration": 47,
    "start_time": "2022-09-16T16:46:20.880Z"
   },
   {
    "duration": 7,
    "start_time": "2022-09-16T16:46:20.929Z"
   },
   {
    "duration": 301,
    "start_time": "2022-09-16T16:46:20.938Z"
   },
   {
    "duration": 368,
    "start_time": "2022-09-16T16:46:21.240Z"
   },
   {
    "duration": 8,
    "start_time": "2022-09-16T16:46:21.610Z"
   },
   {
    "duration": 9,
    "start_time": "2022-09-16T16:46:21.619Z"
   },
   {
    "duration": 5,
    "start_time": "2022-09-16T16:46:21.630Z"
   },
   {
    "duration": 6,
    "start_time": "2022-09-16T16:46:21.637Z"
   },
   {
    "duration": 10,
    "start_time": "2022-09-16T16:46:21.644Z"
   },
   {
    "duration": 6,
    "start_time": "2022-09-16T16:46:21.656Z"
   },
   {
    "duration": 1175,
    "start_time": "2022-09-16T16:46:21.676Z"
   },
   {
    "duration": 0,
    "start_time": "2022-09-16T16:46:22.855Z"
   },
   {
    "duration": 0,
    "start_time": "2022-09-16T16:46:22.856Z"
   },
   {
    "duration": 0,
    "start_time": "2022-09-16T16:46:22.856Z"
   },
   {
    "duration": 0,
    "start_time": "2022-09-16T16:46:22.857Z"
   },
   {
    "duration": 0,
    "start_time": "2022-09-16T16:46:22.858Z"
   },
   {
    "duration": 0,
    "start_time": "2022-09-16T16:46:22.859Z"
   },
   {
    "duration": 0,
    "start_time": "2022-09-16T16:46:22.860Z"
   },
   {
    "duration": 0,
    "start_time": "2022-09-16T16:46:22.861Z"
   },
   {
    "duration": 0,
    "start_time": "2022-09-16T16:46:22.862Z"
   },
   {
    "duration": 0,
    "start_time": "2022-09-16T16:46:22.863Z"
   },
   {
    "duration": 0,
    "start_time": "2022-09-16T16:46:22.864Z"
   },
   {
    "duration": 0,
    "start_time": "2022-09-16T16:46:22.864Z"
   },
   {
    "duration": 0,
    "start_time": "2022-09-16T16:46:22.866Z"
   },
   {
    "duration": 0,
    "start_time": "2022-09-16T16:46:22.866Z"
   },
   {
    "duration": 0,
    "start_time": "2022-09-16T16:46:22.867Z"
   },
   {
    "duration": 0,
    "start_time": "2022-09-16T16:46:22.868Z"
   },
   {
    "duration": 0,
    "start_time": "2022-09-16T16:46:22.869Z"
   },
   {
    "duration": 0,
    "start_time": "2022-09-16T16:46:22.870Z"
   },
   {
    "duration": 0,
    "start_time": "2022-09-16T16:46:22.871Z"
   },
   {
    "duration": 0,
    "start_time": "2022-09-16T16:46:22.872Z"
   },
   {
    "duration": 0,
    "start_time": "2022-09-16T16:46:22.873Z"
   },
   {
    "duration": 0,
    "start_time": "2022-09-16T16:46:22.874Z"
   },
   {
    "duration": 0,
    "start_time": "2022-09-16T16:46:22.875Z"
   },
   {
    "duration": 0,
    "start_time": "2022-09-16T16:46:22.875Z"
   },
   {
    "duration": 0,
    "start_time": "2022-09-16T16:46:22.877Z"
   },
   {
    "duration": 0,
    "start_time": "2022-09-16T16:46:22.878Z"
   },
   {
    "duration": 0,
    "start_time": "2022-09-16T16:46:22.878Z"
   },
   {
    "duration": 0,
    "start_time": "2022-09-16T16:46:22.879Z"
   },
   {
    "duration": 0,
    "start_time": "2022-09-16T16:46:22.881Z"
   },
   {
    "duration": 0,
    "start_time": "2022-09-16T16:46:22.882Z"
   },
   {
    "duration": 0,
    "start_time": "2022-09-16T16:46:22.883Z"
   },
   {
    "duration": 0,
    "start_time": "2022-09-16T16:46:22.884Z"
   },
   {
    "duration": 0,
    "start_time": "2022-09-16T16:46:22.886Z"
   },
   {
    "duration": 0,
    "start_time": "2022-09-16T16:46:22.887Z"
   },
   {
    "duration": 0,
    "start_time": "2022-09-16T16:46:22.888Z"
   },
   {
    "duration": 0,
    "start_time": "2022-09-16T16:46:22.890Z"
   },
   {
    "duration": 0,
    "start_time": "2022-09-16T16:46:22.891Z"
   },
   {
    "duration": 0,
    "start_time": "2022-09-16T16:46:22.892Z"
   },
   {
    "duration": 0,
    "start_time": "2022-09-16T16:46:22.894Z"
   },
   {
    "duration": 0,
    "start_time": "2022-09-16T16:46:22.895Z"
   },
   {
    "duration": 1,
    "start_time": "2022-09-16T16:46:22.896Z"
   },
   {
    "duration": 0,
    "start_time": "2022-09-16T16:46:22.898Z"
   },
   {
    "duration": 0,
    "start_time": "2022-09-16T16:46:22.899Z"
   },
   {
    "duration": 0,
    "start_time": "2022-09-16T16:46:22.901Z"
   },
   {
    "duration": 0,
    "start_time": "2022-09-16T16:46:22.902Z"
   },
   {
    "duration": 0,
    "start_time": "2022-09-16T16:46:22.904Z"
   },
   {
    "duration": 0,
    "start_time": "2022-09-16T16:46:22.905Z"
   },
   {
    "duration": 0,
    "start_time": "2022-09-16T16:46:22.907Z"
   },
   {
    "duration": 0,
    "start_time": "2022-09-16T16:46:22.908Z"
   },
   {
    "duration": 0,
    "start_time": "2022-09-16T16:46:22.910Z"
   },
   {
    "duration": 0,
    "start_time": "2022-09-16T16:46:22.911Z"
   },
   {
    "duration": 0,
    "start_time": "2022-09-16T16:46:22.913Z"
   },
   {
    "duration": 0,
    "start_time": "2022-09-16T16:46:22.914Z"
   },
   {
    "duration": 0,
    "start_time": "2022-09-16T16:46:22.915Z"
   },
   {
    "duration": 0,
    "start_time": "2022-09-16T16:46:22.917Z"
   },
   {
    "duration": 0,
    "start_time": "2022-09-16T16:46:22.977Z"
   },
   {
    "duration": 0,
    "start_time": "2022-09-16T16:46:22.979Z"
   },
   {
    "duration": 0,
    "start_time": "2022-09-16T16:46:22.980Z"
   },
   {
    "duration": 0,
    "start_time": "2022-09-16T16:46:22.981Z"
   },
   {
    "duration": 297,
    "start_time": "2022-09-16T16:47:08.009Z"
   },
   {
    "duration": 2,
    "start_time": "2022-09-16T16:47:18.018Z"
   },
   {
    "duration": 82,
    "start_time": "2022-09-16T16:47:18.711Z"
   },
   {
    "duration": 19,
    "start_time": "2022-09-16T16:47:20.705Z"
   },
   {
    "duration": 14,
    "start_time": "2022-09-16T16:47:22.663Z"
   },
   {
    "duration": 1858,
    "start_time": "2022-09-16T16:47:23.793Z"
   },
   {
    "duration": 9,
    "start_time": "2022-09-16T16:47:28.471Z"
   },
   {
    "duration": 568,
    "start_time": "2022-09-16T16:47:54.707Z"
   },
   {
    "duration": 90,
    "start_time": "2022-09-16T16:47:55.391Z"
   },
   {
    "duration": 25,
    "start_time": "2022-09-16T16:47:58.738Z"
   },
   {
    "duration": 14,
    "start_time": "2022-09-16T16:48:00.942Z"
   },
   {
    "duration": 1951,
    "start_time": "2022-09-16T16:48:07.621Z"
   },
   {
    "duration": 10,
    "start_time": "2022-09-16T16:48:15.054Z"
   },
   {
    "duration": 4,
    "start_time": "2022-09-16T16:48:17.385Z"
   },
   {
    "duration": 216,
    "start_time": "2022-09-16T16:48:18.466Z"
   },
   {
    "duration": 10,
    "start_time": "2022-09-16T16:48:21.422Z"
   },
   {
    "duration": 9,
    "start_time": "2022-09-16T16:48:23.936Z"
   },
   {
    "duration": 4,
    "start_time": "2022-09-16T16:48:27.071Z"
   },
   {
    "duration": 5,
    "start_time": "2022-09-16T16:48:28.393Z"
   },
   {
    "duration": 14,
    "start_time": "2022-09-16T16:48:31.044Z"
   },
   {
    "duration": 27,
    "start_time": "2022-09-16T16:48:34.449Z"
   },
   {
    "duration": 27,
    "start_time": "2022-09-16T16:48:37.391Z"
   },
   {
    "duration": 5,
    "start_time": "2022-09-16T16:48:40.801Z"
   },
   {
    "duration": 6,
    "start_time": "2022-09-16T16:48:42.608Z"
   },
   {
    "duration": 4,
    "start_time": "2022-09-16T16:48:43.845Z"
   },
   {
    "duration": 3,
    "start_time": "2022-09-16T16:48:47.927Z"
   },
   {
    "duration": 3,
    "start_time": "2022-09-16T16:48:49.609Z"
   },
   {
    "duration": 5,
    "start_time": "2022-09-16T16:48:50.803Z"
   },
   {
    "duration": 7,
    "start_time": "2022-09-16T16:48:56.277Z"
   },
   {
    "duration": 30,
    "start_time": "2022-09-16T16:48:57.607Z"
   },
   {
    "duration": 4,
    "start_time": "2022-09-16T16:49:00.404Z"
   },
   {
    "duration": 7,
    "start_time": "2022-09-16T16:49:01.789Z"
   },
   {
    "duration": 5,
    "start_time": "2022-09-16T16:49:03.807Z"
   },
   {
    "duration": 4,
    "start_time": "2022-09-16T16:49:05.000Z"
   },
   {
    "duration": 14,
    "start_time": "2022-09-16T16:49:06.499Z"
   },
   {
    "duration": 5,
    "start_time": "2022-09-16T16:49:13.119Z"
   },
   {
    "duration": 16,
    "start_time": "2022-09-16T16:49:14.643Z"
   },
   {
    "duration": 16,
    "start_time": "2022-09-16T16:49:15.833Z"
   },
   {
    "duration": 6,
    "start_time": "2022-09-16T16:49:17.036Z"
   },
   {
    "duration": 9,
    "start_time": "2022-09-16T16:49:18.944Z"
   },
   {
    "duration": 4,
    "start_time": "2022-09-16T16:49:22.445Z"
   },
   {
    "duration": 5,
    "start_time": "2022-09-16T16:49:24.793Z"
   },
   {
    "duration": 20,
    "start_time": "2022-09-16T16:49:29.958Z"
   },
   {
    "duration": 5,
    "start_time": "2022-09-16T16:49:32.481Z"
   },
   {
    "duration": 5,
    "start_time": "2022-09-16T16:49:33.162Z"
   },
   {
    "duration": 5,
    "start_time": "2022-09-16T16:49:35.846Z"
   },
   {
    "duration": 26,
    "start_time": "2022-09-16T16:49:37.522Z"
   },
   {
    "duration": 5,
    "start_time": "2022-09-16T16:49:39.812Z"
   },
   {
    "duration": 34,
    "start_time": "2022-09-16T16:49:54.738Z"
   },
   {
    "duration": 10,
    "start_time": "2022-09-16T16:50:04.502Z"
   },
   {
    "duration": 6,
    "start_time": "2022-09-16T16:50:08.163Z"
   },
   {
    "duration": 274,
    "start_time": "2022-09-16T16:50:12.401Z"
   },
   {
    "duration": 272,
    "start_time": "2022-09-16T16:50:20.231Z"
   },
   {
    "duration": 360,
    "start_time": "2022-09-16T16:50:21.355Z"
   },
   {
    "duration": 8,
    "start_time": "2022-09-16T16:50:24.332Z"
   },
   {
    "duration": 8,
    "start_time": "2022-09-16T16:50:40.685Z"
   },
   {
    "duration": 271,
    "start_time": "2022-09-16T16:50:42.125Z"
   },
   {
    "duration": 276,
    "start_time": "2022-09-16T16:50:45.329Z"
   },
   {
    "duration": 294,
    "start_time": "2022-09-16T16:50:51.629Z"
   },
   {
    "duration": 9,
    "start_time": "2022-09-16T16:50:53.646Z"
   },
   {
    "duration": 374,
    "start_time": "2022-09-16T16:50:57.179Z"
   },
   {
    "duration": 272,
    "start_time": "2022-09-16T16:50:58.518Z"
   },
   {
    "duration": 270,
    "start_time": "2022-09-16T16:51:00.050Z"
   },
   {
    "duration": 6,
    "start_time": "2022-09-16T16:51:01.940Z"
   },
   {
    "duration": 255,
    "start_time": "2022-09-16T16:51:04.040Z"
   },
   {
    "duration": 379,
    "start_time": "2022-09-16T16:51:25.932Z"
   },
   {
    "duration": 613,
    "start_time": "2022-09-16T16:52:34.722Z"
   },
   {
    "duration": 96,
    "start_time": "2022-09-16T16:52:35.337Z"
   },
   {
    "duration": 44,
    "start_time": "2022-09-16T16:52:35.435Z"
   },
   {
    "duration": 15,
    "start_time": "2022-09-16T16:52:35.481Z"
   },
   {
    "duration": 1930,
    "start_time": "2022-09-16T16:52:35.498Z"
   },
   {
    "duration": 9,
    "start_time": "2022-09-16T16:52:37.429Z"
   },
   {
    "duration": 6,
    "start_time": "2022-09-16T16:52:37.439Z"
   },
   {
    "duration": 239,
    "start_time": "2022-09-16T16:52:37.446Z"
   },
   {
    "duration": 12,
    "start_time": "2022-09-16T16:52:37.687Z"
   },
   {
    "duration": 20,
    "start_time": "2022-09-16T16:52:37.702Z"
   },
   {
    "duration": 15,
    "start_time": "2022-09-16T16:52:37.724Z"
   },
   {
    "duration": 25,
    "start_time": "2022-09-16T16:52:37.741Z"
   },
   {
    "duration": 52,
    "start_time": "2022-09-16T16:52:37.768Z"
   },
   {
    "duration": 37,
    "start_time": "2022-09-16T16:52:37.823Z"
   },
   {
    "duration": 55,
    "start_time": "2022-09-16T16:52:37.862Z"
   },
   {
    "duration": 7,
    "start_time": "2022-09-16T16:52:37.919Z"
   },
   {
    "duration": 10,
    "start_time": "2022-09-16T16:52:37.927Z"
   },
   {
    "duration": 8,
    "start_time": "2022-09-16T16:52:37.938Z"
   },
   {
    "duration": 4,
    "start_time": "2022-09-16T16:52:37.947Z"
   },
   {
    "duration": 24,
    "start_time": "2022-09-16T16:52:37.953Z"
   },
   {
    "duration": 7,
    "start_time": "2022-09-16T16:52:37.979Z"
   },
   {
    "duration": 10,
    "start_time": "2022-09-16T16:52:37.988Z"
   },
   {
    "duration": 45,
    "start_time": "2022-09-16T16:52:38.000Z"
   },
   {
    "duration": 7,
    "start_time": "2022-09-16T16:52:38.047Z"
   },
   {
    "duration": 8,
    "start_time": "2022-09-16T16:52:38.056Z"
   },
   {
    "duration": 17,
    "start_time": "2022-09-16T16:52:38.065Z"
   },
   {
    "duration": 14,
    "start_time": "2022-09-16T16:52:38.084Z"
   },
   {
    "duration": 19,
    "start_time": "2022-09-16T16:52:38.106Z"
   },
   {
    "duration": 7,
    "start_time": "2022-09-16T16:52:38.127Z"
   },
   {
    "duration": 44,
    "start_time": "2022-09-16T16:52:38.136Z"
   },
   {
    "duration": 20,
    "start_time": "2022-09-16T16:52:38.182Z"
   },
   {
    "duration": 15,
    "start_time": "2022-09-16T16:52:38.204Z"
   },
   {
    "duration": 16,
    "start_time": "2022-09-16T16:52:38.221Z"
   },
   {
    "duration": 5,
    "start_time": "2022-09-16T16:52:38.239Z"
   },
   {
    "duration": 6,
    "start_time": "2022-09-16T16:52:38.246Z"
   },
   {
    "duration": 43,
    "start_time": "2022-09-16T16:52:38.254Z"
   },
   {
    "duration": 4,
    "start_time": "2022-09-16T16:52:38.298Z"
   },
   {
    "duration": 7,
    "start_time": "2022-09-16T16:52:38.303Z"
   },
   {
    "duration": 6,
    "start_time": "2022-09-16T16:52:38.311Z"
   },
   {
    "duration": 41,
    "start_time": "2022-09-16T16:52:38.319Z"
   },
   {
    "duration": 21,
    "start_time": "2022-09-16T16:52:38.361Z"
   },
   {
    "duration": 14,
    "start_time": "2022-09-16T16:52:38.383Z"
   },
   {
    "duration": 7,
    "start_time": "2022-09-16T16:52:38.399Z"
   },
   {
    "duration": 329,
    "start_time": "2022-09-16T16:52:38.408Z"
   },
   {
    "duration": 327,
    "start_time": "2022-09-16T16:52:38.739Z"
   },
   {
    "duration": 13,
    "start_time": "2022-09-16T16:52:39.068Z"
   },
   {
    "duration": 419,
    "start_time": "2022-09-16T16:52:39.083Z"
   },
   {
    "duration": 327,
    "start_time": "2022-09-16T16:52:39.503Z"
   },
   {
    "duration": 309,
    "start_time": "2022-09-16T16:52:39.832Z"
   },
   {
    "duration": 8,
    "start_time": "2022-09-16T16:52:40.143Z"
   },
   {
    "duration": 310,
    "start_time": "2022-09-16T16:52:40.152Z"
   },
   {
    "duration": 374,
    "start_time": "2022-09-16T16:52:40.464Z"
   },
   {
    "duration": 292,
    "start_time": "2022-09-16T16:52:40.839Z"
   },
   {
    "duration": 9,
    "start_time": "2022-09-16T16:52:41.132Z"
   },
   {
    "duration": 300,
    "start_time": "2022-09-16T16:52:41.142Z"
   },
   {
    "duration": 316,
    "start_time": "2022-09-16T16:52:41.443Z"
   },
   {
    "duration": 385,
    "start_time": "2022-09-16T16:52:41.761Z"
   },
   {
    "duration": 8,
    "start_time": "2022-09-16T16:52:42.148Z"
   },
   {
    "duration": 307,
    "start_time": "2022-09-16T16:52:42.158Z"
   },
   {
    "duration": 334,
    "start_time": "2022-09-16T16:52:42.467Z"
   },
   {
    "duration": 361,
    "start_time": "2022-09-16T16:52:42.804Z"
   },
   {
    "duration": 15,
    "start_time": "2022-09-16T16:52:43.166Z"
   },
   {
    "duration": 371,
    "start_time": "2022-09-16T16:52:43.182Z"
   },
   {
    "duration": 296,
    "start_time": "2022-09-16T16:52:43.554Z"
   },
   {
    "duration": 286,
    "start_time": "2022-09-16T16:52:43.852Z"
   },
   {
    "duration": 8,
    "start_time": "2022-09-16T16:52:44.140Z"
   },
   {
    "duration": 282,
    "start_time": "2022-09-16T16:52:44.150Z"
   },
   {
    "duration": 21,
    "start_time": "2022-09-16T16:52:44.434Z"
   },
   {
    "duration": 63,
    "start_time": "2022-09-16T16:52:44.457Z"
   },
   {
    "duration": 8,
    "start_time": "2022-09-16T16:52:44.522Z"
   },
   {
    "duration": 388,
    "start_time": "2022-09-16T16:52:44.532Z"
   },
   {
    "duration": 285,
    "start_time": "2022-09-16T16:52:44.922Z"
   },
   {
    "duration": 15,
    "start_time": "2022-09-16T16:52:45.209Z"
   },
   {
    "duration": 11,
    "start_time": "2022-09-16T16:52:45.226Z"
   },
   {
    "duration": 6,
    "start_time": "2022-09-16T16:52:45.239Z"
   },
   {
    "duration": 31,
    "start_time": "2022-09-16T16:52:45.246Z"
   },
   {
    "duration": 7,
    "start_time": "2022-09-16T16:52:45.279Z"
   },
   {
    "duration": 8,
    "start_time": "2022-09-16T16:52:45.287Z"
   },
   {
    "duration": 190,
    "start_time": "2022-09-16T16:52:45.296Z"
   },
   {
    "duration": 3,
    "start_time": "2022-09-16T16:52:45.488Z"
   },
   {
    "duration": 31,
    "start_time": "2022-09-16T16:52:45.493Z"
   },
   {
    "duration": 108,
    "start_time": "2022-09-16T16:52:45.530Z"
   },
   {
    "duration": 120,
    "start_time": "2022-09-16T16:52:45.640Z"
   },
   {
    "duration": 16,
    "start_time": "2022-09-16T16:52:45.762Z"
   },
   {
    "duration": 255,
    "start_time": "2022-09-16T16:52:45.779Z"
   },
   {
    "duration": 192,
    "start_time": "2022-09-16T16:52:46.036Z"
   },
   {
    "duration": 8,
    "start_time": "2022-09-16T16:52:46.230Z"
   },
   {
    "duration": 226,
    "start_time": "2022-09-16T16:52:46.240Z"
   },
   {
    "duration": 101,
    "start_time": "2022-09-16T16:52:46.468Z"
   },
   {
    "duration": 9,
    "start_time": "2022-09-16T16:52:46.577Z"
   },
   {
    "duration": 178,
    "start_time": "2022-09-16T16:52:46.587Z"
   },
   {
    "duration": 5,
    "start_time": "2022-09-16T16:52:46.766Z"
   },
   {
    "duration": 107,
    "start_time": "2022-09-16T16:52:46.777Z"
   },
   {
    "duration": 8,
    "start_time": "2022-09-16T16:52:46.886Z"
   },
   {
    "duration": 193,
    "start_time": "2022-09-16T16:52:46.896Z"
   },
   {
    "duration": 8,
    "start_time": "2022-09-16T16:52:47.090Z"
   },
   {
    "duration": 143,
    "start_time": "2022-09-16T16:52:47.100Z"
   },
   {
    "duration": 9,
    "start_time": "2022-09-16T16:52:47.245Z"
   },
   {
    "duration": 150,
    "start_time": "2022-09-16T16:52:47.256Z"
   },
   {
    "duration": 101,
    "start_time": "2022-09-16T16:52:47.408Z"
   },
   {
    "duration": 8,
    "start_time": "2022-09-16T16:52:47.511Z"
   },
   {
    "duration": 296,
    "start_time": "2022-09-16T16:52:47.520Z"
   },
   {
    "duration": 133,
    "start_time": "2022-09-16T16:52:47.819Z"
   },
   {
    "duration": 9,
    "start_time": "2022-09-16T16:52:47.954Z"
   },
   {
    "duration": 175,
    "start_time": "2022-09-16T16:52:47.965Z"
   },
   {
    "duration": 9,
    "start_time": "2022-09-16T16:52:48.142Z"
   },
   {
    "duration": 165,
    "start_time": "2022-09-16T16:52:48.153Z"
   },
   {
    "duration": 9,
    "start_time": "2022-09-16T16:52:48.320Z"
   },
   {
    "duration": 182,
    "start_time": "2022-09-16T16:52:48.330Z"
   },
   {
    "duration": 10,
    "start_time": "2022-09-16T16:52:48.514Z"
   },
   {
    "duration": 158,
    "start_time": "2022-09-16T16:52:48.525Z"
   },
   {
    "duration": 127,
    "start_time": "2022-09-16T16:52:48.684Z"
   },
   {
    "duration": 174,
    "start_time": "2022-09-16T16:52:48.812Z"
   },
   {
    "duration": 27,
    "start_time": "2022-09-16T16:52:48.987Z"
   },
   {
    "duration": 124,
    "start_time": "2022-09-16T16:52:49.015Z"
   },
   {
    "duration": 9,
    "start_time": "2022-09-16T16:52:49.140Z"
   },
   {
    "duration": 29,
    "start_time": "2022-09-16T16:52:49.150Z"
   },
   {
    "duration": 251,
    "start_time": "2022-09-16T16:52:49.180Z"
   },
   {
    "duration": 281,
    "start_time": "2022-09-16T16:52:49.433Z"
   },
   {
    "duration": 159,
    "start_time": "2022-09-16T16:52:49.715Z"
   },
   {
    "duration": 143,
    "start_time": "2022-09-16T16:52:49.876Z"
   },
   {
    "duration": 162,
    "start_time": "2022-09-16T16:52:50.021Z"
   },
   {
    "duration": 151,
    "start_time": "2022-09-16T16:52:50.185Z"
   },
   {
    "duration": 153,
    "start_time": "2022-09-16T16:52:50.338Z"
   },
   {
    "duration": 11,
    "start_time": "2022-09-16T16:52:50.493Z"
   },
   {
    "duration": 6,
    "start_time": "2022-09-16T16:52:50.506Z"
   },
   {
    "duration": 15,
    "start_time": "2022-09-16T16:52:50.514Z"
   },
   {
    "duration": 7,
    "start_time": "2022-09-16T16:52:50.531Z"
   },
   {
    "duration": 12,
    "start_time": "2022-09-16T16:52:50.539Z"
   },
   {
    "duration": 30,
    "start_time": "2022-09-16T16:52:50.552Z"
   },
   {
    "duration": 8,
    "start_time": "2022-09-16T16:52:50.583Z"
   },
   {
    "duration": 5,
    "start_time": "2022-09-16T16:52:50.593Z"
   },
   {
    "duration": 10,
    "start_time": "2022-09-16T16:52:50.600Z"
   },
   {
    "duration": 7,
    "start_time": "2022-09-16T16:52:50.611Z"
   },
   {
    "duration": 114,
    "start_time": "2022-09-16T16:52:50.619Z"
   },
   {
    "duration": 8,
    "start_time": "2022-09-16T16:52:50.735Z"
   },
   {
    "duration": 6,
    "start_time": "2022-09-16T16:52:50.744Z"
   },
   {
    "duration": 176,
    "start_time": "2022-09-16T16:52:50.752Z"
   },
   {
    "duration": 191,
    "start_time": "2022-09-16T16:55:33.261Z"
   },
   {
    "duration": 144,
    "start_time": "2022-09-16T16:55:38.298Z"
   },
   {
    "duration": 158,
    "start_time": "2022-09-16T16:55:43.756Z"
   },
   {
    "duration": 224,
    "start_time": "2022-09-16T16:55:49.450Z"
   },
   {
    "duration": 78,
    "start_time": "2022-09-16T16:57:36.098Z"
   },
   {
    "duration": 9,
    "start_time": "2022-09-16T16:58:04.527Z"
   },
   {
    "duration": 15,
    "start_time": "2022-09-16T16:59:36.671Z"
   },
   {
    "duration": 138,
    "start_time": "2022-09-16T16:59:58.202Z"
   },
   {
    "duration": 8,
    "start_time": "2022-09-16T17:00:40.444Z"
   },
   {
    "duration": 1309,
    "start_time": "2022-09-16T17:00:46.751Z"
   },
   {
    "duration": 10,
    "start_time": "2022-09-16T17:01:02.357Z"
   },
   {
    "duration": 178,
    "start_time": "2022-09-16T17:01:06.275Z"
   },
   {
    "duration": 135,
    "start_time": "2022-09-16T17:01:55.510Z"
   },
   {
    "duration": 170,
    "start_time": "2022-09-16T17:02:19.297Z"
   },
   {
    "duration": 197,
    "start_time": "2022-09-16T17:02:43.697Z"
   },
   {
    "duration": 70,
    "start_time": "2022-09-16T17:12:29.532Z"
   },
   {
    "duration": 74,
    "start_time": "2022-09-16T17:12:42.832Z"
   },
   {
    "duration": 598,
    "start_time": "2022-09-17T09:57:55.089Z"
   },
   {
    "duration": 87,
    "start_time": "2022-09-17T09:57:55.688Z"
   },
   {
    "duration": 23,
    "start_time": "2022-09-17T09:57:55.777Z"
   },
   {
    "duration": 15,
    "start_time": "2022-09-17T09:57:55.801Z"
   },
   {
    "duration": 1689,
    "start_time": "2022-09-17T09:57:55.818Z"
   },
   {
    "duration": 10,
    "start_time": "2022-09-17T09:57:57.509Z"
   },
   {
    "duration": 4,
    "start_time": "2022-09-17T09:57:57.520Z"
   },
   {
    "duration": 229,
    "start_time": "2022-09-17T09:57:57.526Z"
   },
   {
    "duration": 10,
    "start_time": "2022-09-17T09:57:57.757Z"
   },
   {
    "duration": 9,
    "start_time": "2022-09-17T09:57:57.777Z"
   },
   {
    "duration": 3,
    "start_time": "2022-09-17T09:57:57.788Z"
   },
   {
    "duration": 5,
    "start_time": "2022-09-17T09:57:57.793Z"
   },
   {
    "duration": 13,
    "start_time": "2022-09-17T09:57:57.799Z"
   },
   {
    "duration": 28,
    "start_time": "2022-09-17T09:57:57.814Z"
   },
   {
    "duration": 55,
    "start_time": "2022-09-17T09:57:57.844Z"
   },
   {
    "duration": 5,
    "start_time": "2022-09-17T09:57:57.900Z"
   },
   {
    "duration": 7,
    "start_time": "2022-09-17T09:57:57.906Z"
   },
   {
    "duration": 4,
    "start_time": "2022-09-17T09:57:57.914Z"
   },
   {
    "duration": 4,
    "start_time": "2022-09-17T09:57:57.920Z"
   },
   {
    "duration": 4,
    "start_time": "2022-09-17T09:57:57.925Z"
   },
   {
    "duration": 5,
    "start_time": "2022-09-17T09:57:57.930Z"
   },
   {
    "duration": 8,
    "start_time": "2022-09-17T09:57:57.936Z"
   },
   {
    "duration": 46,
    "start_time": "2022-09-17T09:57:57.945Z"
   },
   {
    "duration": 5,
    "start_time": "2022-09-17T09:57:57.993Z"
   },
   {
    "duration": 5,
    "start_time": "2022-09-17T09:57:58.000Z"
   },
   {
    "duration": 4,
    "start_time": "2022-09-17T09:57:58.006Z"
   },
   {
    "duration": 4,
    "start_time": "2022-09-17T09:57:58.012Z"
   },
   {
    "duration": 12,
    "start_time": "2022-09-17T09:57:58.018Z"
   },
   {
    "duration": 5,
    "start_time": "2022-09-17T09:57:58.031Z"
   },
   {
    "duration": 44,
    "start_time": "2022-09-17T09:57:58.037Z"
   },
   {
    "duration": 16,
    "start_time": "2022-09-17T09:57:58.082Z"
   },
   {
    "duration": 23,
    "start_time": "2022-09-17T09:57:58.100Z"
   },
   {
    "duration": 10,
    "start_time": "2022-09-17T09:57:58.124Z"
   },
   {
    "duration": 3,
    "start_time": "2022-09-17T09:57:58.135Z"
   },
   {
    "duration": 5,
    "start_time": "2022-09-17T09:57:58.139Z"
   },
   {
    "duration": 19,
    "start_time": "2022-09-17T09:57:58.145Z"
   },
   {
    "duration": 12,
    "start_time": "2022-09-17T09:57:58.166Z"
   },
   {
    "duration": 6,
    "start_time": "2022-09-17T09:57:58.179Z"
   },
   {
    "duration": 4,
    "start_time": "2022-09-17T09:57:58.186Z"
   },
   {
    "duration": 23,
    "start_time": "2022-09-17T09:57:58.191Z"
   },
   {
    "duration": 4,
    "start_time": "2022-09-17T09:57:58.219Z"
   },
   {
    "duration": 8,
    "start_time": "2022-09-17T09:57:58.224Z"
   },
   {
    "duration": 6,
    "start_time": "2022-09-17T09:57:58.233Z"
   },
   {
    "duration": 282,
    "start_time": "2022-09-17T09:57:58.240Z"
   },
   {
    "duration": 255,
    "start_time": "2022-09-17T09:57:58.524Z"
   },
   {
    "duration": 9,
    "start_time": "2022-09-17T09:57:58.781Z"
   },
   {
    "duration": 348,
    "start_time": "2022-09-17T09:57:58.792Z"
   },
   {
    "duration": 266,
    "start_time": "2022-09-17T09:57:59.142Z"
   },
   {
    "duration": 258,
    "start_time": "2022-09-17T09:57:59.410Z"
   },
   {
    "duration": 11,
    "start_time": "2022-09-17T09:57:59.670Z"
   },
   {
    "duration": 276,
    "start_time": "2022-09-17T09:57:59.682Z"
   },
   {
    "duration": 345,
    "start_time": "2022-09-17T09:57:59.960Z"
   },
   {
    "duration": 263,
    "start_time": "2022-09-17T09:58:00.307Z"
   },
   {
    "duration": 12,
    "start_time": "2022-09-17T09:58:00.571Z"
   },
   {
    "duration": 276,
    "start_time": "2022-09-17T09:58:00.585Z"
   },
   {
    "duration": 276,
    "start_time": "2022-09-17T09:58:00.862Z"
   },
   {
    "duration": 341,
    "start_time": "2022-09-17T09:58:01.139Z"
   },
   {
    "duration": 7,
    "start_time": "2022-09-17T09:58:01.481Z"
   },
   {
    "duration": 262,
    "start_time": "2022-09-17T09:58:01.490Z"
   },
   {
    "duration": 265,
    "start_time": "2022-09-17T09:58:01.754Z"
   },
   {
    "duration": 266,
    "start_time": "2022-09-17T09:58:02.020Z"
   },
   {
    "duration": 7,
    "start_time": "2022-09-17T09:58:02.287Z"
   },
   {
    "duration": 355,
    "start_time": "2022-09-17T09:58:02.296Z"
   },
   {
    "duration": 278,
    "start_time": "2022-09-17T09:58:02.653Z"
   },
   {
    "duration": 238,
    "start_time": "2022-09-17T09:58:02.932Z"
   },
   {
    "duration": 7,
    "start_time": "2022-09-17T09:58:03.172Z"
   },
   {
    "duration": 250,
    "start_time": "2022-09-17T09:58:03.181Z"
   },
   {
    "duration": 20,
    "start_time": "2022-09-17T09:58:03.432Z"
   },
   {
    "duration": 56,
    "start_time": "2022-09-17T09:58:03.453Z"
   },
   {
    "duration": 7,
    "start_time": "2022-09-17T09:58:03.510Z"
   },
   {
    "duration": 380,
    "start_time": "2022-09-17T09:58:03.518Z"
   },
   {
    "duration": 258,
    "start_time": "2022-09-17T09:58:03.899Z"
   },
   {
    "duration": 19,
    "start_time": "2022-09-17T09:58:04.158Z"
   },
   {
    "duration": 9,
    "start_time": "2022-09-17T09:58:04.179Z"
   },
   {
    "duration": 6,
    "start_time": "2022-09-17T09:58:04.189Z"
   },
   {
    "duration": 8,
    "start_time": "2022-09-17T09:58:04.196Z"
   },
   {
    "duration": 24,
    "start_time": "2022-09-17T09:58:04.205Z"
   },
   {
    "duration": 17,
    "start_time": "2022-09-17T09:58:04.231Z"
   },
   {
    "duration": 192,
    "start_time": "2022-09-17T09:58:04.250Z"
   },
   {
    "duration": 3,
    "start_time": "2022-09-17T09:58:04.444Z"
   },
   {
    "duration": 53,
    "start_time": "2022-09-17T09:58:04.449Z"
   },
   {
    "duration": 129,
    "start_time": "2022-09-17T09:58:04.503Z"
   },
   {
    "duration": 107,
    "start_time": "2022-09-17T09:58:04.633Z"
   },
   {
    "duration": 8,
    "start_time": "2022-09-17T09:58:04.741Z"
   },
   {
    "duration": 227,
    "start_time": "2022-09-17T09:58:04.750Z"
   },
   {
    "duration": 173,
    "start_time": "2022-09-17T09:58:04.979Z"
   },
   {
    "duration": 7,
    "start_time": "2022-09-17T09:58:05.153Z"
   },
   {
    "duration": 223,
    "start_time": "2022-09-17T09:58:05.162Z"
   },
   {
    "duration": 95,
    "start_time": "2022-09-17T09:58:05.386Z"
   },
   {
    "duration": 7,
    "start_time": "2022-09-17T09:58:05.483Z"
   },
   {
    "duration": 175,
    "start_time": "2022-09-17T09:58:05.492Z"
   },
   {
    "duration": 3,
    "start_time": "2022-09-17T09:58:05.669Z"
   },
   {
    "duration": 122,
    "start_time": "2022-09-17T09:58:05.677Z"
   },
   {
    "duration": 7,
    "start_time": "2022-09-17T09:58:05.800Z"
   },
   {
    "duration": 192,
    "start_time": "2022-09-17T09:58:05.808Z"
   },
   {
    "duration": 7,
    "start_time": "2022-09-17T09:58:06.002Z"
   },
   {
    "duration": 149,
    "start_time": "2022-09-17T09:58:06.010Z"
   },
   {
    "duration": 8,
    "start_time": "2022-09-17T09:58:06.160Z"
   },
   {
    "duration": 142,
    "start_time": "2022-09-17T09:58:06.177Z"
   },
   {
    "duration": 98,
    "start_time": "2022-09-17T09:58:06.320Z"
   },
   {
    "duration": 7,
    "start_time": "2022-09-17T09:58:06.420Z"
   },
   {
    "duration": 223,
    "start_time": "2022-09-17T09:58:06.429Z"
   },
   {
    "duration": 102,
    "start_time": "2022-09-17T09:58:06.653Z"
   },
   {
    "duration": 7,
    "start_time": "2022-09-17T09:58:06.757Z"
   },
   {
    "duration": 169,
    "start_time": "2022-09-17T09:58:06.765Z"
   },
   {
    "duration": 8,
    "start_time": "2022-09-17T09:58:06.936Z"
   },
   {
    "duration": 154,
    "start_time": "2022-09-17T09:58:06.945Z"
   },
   {
    "duration": 8,
    "start_time": "2022-09-17T09:58:07.101Z"
   },
   {
    "duration": 162,
    "start_time": "2022-09-17T09:58:07.110Z"
   },
   {
    "duration": 10,
    "start_time": "2022-09-17T09:58:07.274Z"
   },
   {
    "duration": 155,
    "start_time": "2022-09-17T09:58:07.285Z"
   },
   {
    "duration": 122,
    "start_time": "2022-09-17T09:58:07.441Z"
   },
   {
    "duration": 172,
    "start_time": "2022-09-17T09:58:07.564Z"
   },
   {
    "duration": 28,
    "start_time": "2022-09-17T09:58:07.738Z"
   },
   {
    "duration": 119,
    "start_time": "2022-09-17T09:58:07.777Z"
   },
   {
    "duration": 9,
    "start_time": "2022-09-17T09:58:07.897Z"
   },
   {
    "duration": 10,
    "start_time": "2022-09-17T09:58:07.908Z"
   },
   {
    "duration": 240,
    "start_time": "2022-09-17T09:58:07.919Z"
   },
   {
    "duration": 271,
    "start_time": "2022-09-17T09:58:08.161Z"
   },
   {
    "duration": 137,
    "start_time": "2022-09-17T09:58:08.434Z"
   },
   {
    "duration": 139,
    "start_time": "2022-09-17T09:58:08.572Z"
   },
   {
    "duration": 145,
    "start_time": "2022-09-17T09:58:08.717Z"
   },
   {
    "duration": 139,
    "start_time": "2022-09-17T09:58:08.864Z"
   },
   {
    "duration": 140,
    "start_time": "2022-09-17T09:58:09.005Z"
   },
   {
    "duration": 11,
    "start_time": "2022-09-17T09:58:09.147Z"
   },
   {
    "duration": 21,
    "start_time": "2022-09-17T09:58:09.159Z"
   },
   {
    "duration": 15,
    "start_time": "2022-09-17T09:58:09.181Z"
   },
   {
    "duration": 13,
    "start_time": "2022-09-17T09:58:09.197Z"
   },
   {
    "duration": 183,
    "start_time": "2022-09-17T09:58:09.212Z"
   },
   {
    "duration": 8,
    "start_time": "2022-09-17T09:58:09.397Z"
   },
   {
    "duration": 18,
    "start_time": "2022-09-17T09:58:09.407Z"
   },
   {
    "duration": 16,
    "start_time": "2022-09-17T09:58:09.426Z"
   },
   {
    "duration": 9,
    "start_time": "2022-09-17T09:58:09.444Z"
   },
   {
    "duration": 19,
    "start_time": "2022-09-17T09:58:09.454Z"
   },
   {
    "duration": 19,
    "start_time": "2022-09-17T09:58:09.475Z"
   },
   {
    "duration": 97,
    "start_time": "2022-09-17T09:58:09.496Z"
   },
   {
    "duration": 7,
    "start_time": "2022-09-17T09:58:09.595Z"
   },
   {
    "duration": 9,
    "start_time": "2022-09-17T09:58:09.604Z"
   },
   {
    "duration": 150,
    "start_time": "2022-09-17T09:58:09.614Z"
   },
   {
    "duration": 14,
    "start_time": "2022-09-17T09:58:09.765Z"
   },
   {
    "duration": 15,
    "start_time": "2022-09-17T10:14:15.393Z"
   },
   {
    "duration": 179,
    "start_time": "2022-09-17T10:47:03.819Z"
   },
   {
    "duration": 173,
    "start_time": "2022-09-17T10:47:09.378Z"
   },
   {
    "duration": 598,
    "start_time": "2022-09-17T10:47:46.414Z"
   },
   {
    "duration": 84,
    "start_time": "2022-09-17T10:47:47.014Z"
   },
   {
    "duration": 26,
    "start_time": "2022-09-17T10:47:47.100Z"
   },
   {
    "duration": 14,
    "start_time": "2022-09-17T10:47:47.128Z"
   },
   {
    "duration": 1889,
    "start_time": "2022-09-17T10:47:47.144Z"
   },
   {
    "duration": 12,
    "start_time": "2022-09-17T10:47:49.034Z"
   },
   {
    "duration": 4,
    "start_time": "2022-09-17T10:47:49.048Z"
   },
   {
    "duration": 231,
    "start_time": "2022-09-17T10:47:49.053Z"
   },
   {
    "duration": 9,
    "start_time": "2022-09-17T10:47:49.285Z"
   },
   {
    "duration": 8,
    "start_time": "2022-09-17T10:47:49.297Z"
   },
   {
    "duration": 4,
    "start_time": "2022-09-17T10:47:49.306Z"
   },
   {
    "duration": 7,
    "start_time": "2022-09-17T10:47:49.312Z"
   },
   {
    "duration": 14,
    "start_time": "2022-09-17T10:47:49.320Z"
   },
   {
    "duration": 58,
    "start_time": "2022-09-17T10:47:49.336Z"
   },
   {
    "duration": 31,
    "start_time": "2022-09-17T10:47:49.396Z"
   },
   {
    "duration": 6,
    "start_time": "2022-09-17T10:47:49.430Z"
   },
   {
    "duration": 9,
    "start_time": "2022-09-17T10:47:49.438Z"
   },
   {
    "duration": 11,
    "start_time": "2022-09-17T10:47:49.449Z"
   },
   {
    "duration": 4,
    "start_time": "2022-09-17T10:47:49.478Z"
   },
   {
    "duration": 27,
    "start_time": "2022-09-17T10:47:49.483Z"
   },
   {
    "duration": 9,
    "start_time": "2022-09-17T10:47:49.512Z"
   },
   {
    "duration": 37,
    "start_time": "2022-09-17T10:47:49.522Z"
   },
   {
    "duration": 40,
    "start_time": "2022-09-17T10:47:49.561Z"
   },
   {
    "duration": 24,
    "start_time": "2022-09-17T10:47:49.603Z"
   },
   {
    "duration": 38,
    "start_time": "2022-09-17T10:47:49.629Z"
   },
   {
    "duration": 26,
    "start_time": "2022-09-17T10:47:49.669Z"
   },
   {
    "duration": 30,
    "start_time": "2022-09-17T10:47:49.698Z"
   },
   {
    "duration": 17,
    "start_time": "2022-09-17T10:47:49.733Z"
   },
   {
    "duration": 19,
    "start_time": "2022-09-17T10:47:49.752Z"
   },
   {
    "duration": 28,
    "start_time": "2022-09-17T10:47:49.772Z"
   },
   {
    "duration": 19,
    "start_time": "2022-09-17T10:47:49.802Z"
   },
   {
    "duration": 27,
    "start_time": "2022-09-17T10:47:49.823Z"
   },
   {
    "duration": 21,
    "start_time": "2022-09-17T10:47:49.852Z"
   },
   {
    "duration": 15,
    "start_time": "2022-09-17T10:47:49.875Z"
   },
   {
    "duration": 20,
    "start_time": "2022-09-17T10:47:49.892Z"
   },
   {
    "duration": 26,
    "start_time": "2022-09-17T10:47:49.914Z"
   },
   {
    "duration": 13,
    "start_time": "2022-09-17T10:47:49.941Z"
   },
   {
    "duration": 9,
    "start_time": "2022-09-17T10:47:49.956Z"
   },
   {
    "duration": 9,
    "start_time": "2022-09-17T10:47:49.966Z"
   },
   {
    "duration": 29,
    "start_time": "2022-09-17T10:47:49.976Z"
   },
   {
    "duration": 5,
    "start_time": "2022-09-17T10:47:50.007Z"
   },
   {
    "duration": 11,
    "start_time": "2022-09-17T10:47:50.014Z"
   },
   {
    "duration": 9,
    "start_time": "2022-09-17T10:47:50.027Z"
   },
   {
    "duration": 297,
    "start_time": "2022-09-17T10:47:50.037Z"
   },
   {
    "duration": 291,
    "start_time": "2022-09-17T10:47:50.336Z"
   },
   {
    "duration": 9,
    "start_time": "2022-09-17T10:47:50.629Z"
   },
   {
    "duration": 400,
    "start_time": "2022-09-17T10:47:50.639Z"
   },
   {
    "duration": 299,
    "start_time": "2022-09-17T10:47:51.040Z"
   },
   {
    "duration": 284,
    "start_time": "2022-09-17T10:47:51.341Z"
   },
   {
    "duration": 13,
    "start_time": "2022-09-17T10:47:51.627Z"
   },
   {
    "duration": 8,
    "start_time": "2022-09-17T10:47:51.641Z"
   },
   {
    "duration": 7,
    "start_time": "2022-09-17T10:47:51.650Z"
   },
   {
    "duration": 315,
    "start_time": "2022-09-17T10:47:51.659Z"
   },
   {
    "duration": 367,
    "start_time": "2022-09-17T10:47:51.976Z"
   },
   {
    "duration": 278,
    "start_time": "2022-09-17T10:47:52.345Z"
   },
   {
    "duration": 7,
    "start_time": "2022-09-17T10:47:52.625Z"
   },
   {
    "duration": 4,
    "start_time": "2022-09-17T10:47:52.634Z"
   },
   {
    "duration": 311,
    "start_time": "2022-09-17T10:47:52.639Z"
   },
   {
    "duration": 297,
    "start_time": "2022-09-17T10:47:52.951Z"
   },
   {
    "duration": 386,
    "start_time": "2022-09-17T10:47:53.250Z"
   },
   {
    "duration": 5,
    "start_time": "2022-09-17T10:47:53.638Z"
   },
   {
    "duration": 10,
    "start_time": "2022-09-17T10:47:53.644Z"
   },
   {
    "duration": 22,
    "start_time": "2022-09-17T10:47:53.656Z"
   },
   {
    "duration": 297,
    "start_time": "2022-09-17T10:47:53.680Z"
   },
   {
    "duration": 280,
    "start_time": "2022-09-17T10:47:53.979Z"
   },
   {
    "duration": 302,
    "start_time": "2022-09-17T10:47:54.261Z"
   },
   {
    "duration": 4,
    "start_time": "2022-09-17T10:47:54.564Z"
   },
   {
    "duration": 8,
    "start_time": "2022-09-17T10:47:54.576Z"
   },
   {
    "duration": 4,
    "start_time": "2022-09-17T10:47:54.585Z"
   },
   {
    "duration": 364,
    "start_time": "2022-09-17T10:47:54.590Z"
   },
   {
    "duration": 258,
    "start_time": "2022-09-17T10:47:54.955Z"
   },
   {
    "duration": 269,
    "start_time": "2022-09-17T10:47:55.214Z"
   },
   {
    "duration": 7,
    "start_time": "2022-09-17T10:47:55.484Z"
   },
   {
    "duration": 258,
    "start_time": "2022-09-17T10:47:55.493Z"
   },
   {
    "duration": 27,
    "start_time": "2022-09-17T10:47:55.752Z"
   },
   {
    "duration": 44,
    "start_time": "2022-09-17T10:47:55.781Z"
   },
   {
    "duration": 9,
    "start_time": "2022-09-17T10:47:55.827Z"
   },
   {
    "duration": 412,
    "start_time": "2022-09-17T10:47:55.837Z"
   },
   {
    "duration": 270,
    "start_time": "2022-09-17T10:47:56.250Z"
   },
   {
    "duration": 12,
    "start_time": "2022-09-17T10:47:56.521Z"
   },
   {
    "duration": 9,
    "start_time": "2022-09-17T10:47:56.535Z"
   },
   {
    "duration": 5,
    "start_time": "2022-09-17T10:47:56.549Z"
   },
   {
    "duration": 22,
    "start_time": "2022-09-17T10:47:56.555Z"
   },
   {
    "duration": 6,
    "start_time": "2022-09-17T10:47:56.578Z"
   },
   {
    "duration": 3,
    "start_time": "2022-09-17T10:47:56.585Z"
   },
   {
    "duration": 197,
    "start_time": "2022-09-17T10:47:56.590Z"
   },
   {
    "duration": 3,
    "start_time": "2022-09-17T10:47:56.789Z"
   },
   {
    "duration": 25,
    "start_time": "2022-09-17T10:47:56.794Z"
   },
   {
    "duration": 112,
    "start_time": "2022-09-17T10:47:56.820Z"
   },
   {
    "duration": 124,
    "start_time": "2022-09-17T10:47:56.934Z"
   },
   {
    "duration": 7,
    "start_time": "2022-09-17T10:47:57.060Z"
   },
   {
    "duration": 221,
    "start_time": "2022-09-17T10:47:57.077Z"
   },
   {
    "duration": 180,
    "start_time": "2022-09-17T10:47:57.299Z"
   },
   {
    "duration": 8,
    "start_time": "2022-09-17T10:47:57.481Z"
   },
   {
    "duration": 256,
    "start_time": "2022-09-17T10:47:57.490Z"
   },
   {
    "duration": 120,
    "start_time": "2022-09-17T10:47:57.748Z"
   },
   {
    "duration": 13,
    "start_time": "2022-09-17T10:47:57.870Z"
   },
   {
    "duration": 171,
    "start_time": "2022-09-17T10:47:57.885Z"
   },
   {
    "duration": 4,
    "start_time": "2022-09-17T10:47:58.058Z"
   },
   {
    "duration": 98,
    "start_time": "2022-09-17T10:47:58.063Z"
   },
   {
    "duration": 18,
    "start_time": "2022-09-17T10:47:58.163Z"
   },
   {
    "duration": 176,
    "start_time": "2022-09-17T10:47:58.182Z"
   },
   {
    "duration": 18,
    "start_time": "2022-09-17T10:47:58.360Z"
   },
   {
    "duration": 125,
    "start_time": "2022-09-17T10:47:58.380Z"
   },
   {
    "duration": 8,
    "start_time": "2022-09-17T10:47:58.507Z"
   },
   {
    "duration": 140,
    "start_time": "2022-09-17T10:47:58.517Z"
   },
   {
    "duration": 96,
    "start_time": "2022-09-17T10:47:58.658Z"
   },
   {
    "duration": 7,
    "start_time": "2022-09-17T10:47:58.755Z"
   },
   {
    "duration": 206,
    "start_time": "2022-09-17T10:47:58.763Z"
   },
   {
    "duration": 110,
    "start_time": "2022-09-17T10:47:58.970Z"
   },
   {
    "duration": 7,
    "start_time": "2022-09-17T10:47:59.082Z"
   },
   {
    "duration": 158,
    "start_time": "2022-09-17T10:47:59.091Z"
   },
   {
    "duration": 8,
    "start_time": "2022-09-17T10:47:59.251Z"
   },
   {
    "duration": 160,
    "start_time": "2022-09-17T10:47:59.260Z"
   },
   {
    "duration": 8,
    "start_time": "2022-09-17T10:47:59.421Z"
   },
   {
    "duration": 156,
    "start_time": "2022-09-17T10:47:59.430Z"
   },
   {
    "duration": 8,
    "start_time": "2022-09-17T10:47:59.588Z"
   },
   {
    "duration": 142,
    "start_time": "2022-09-17T10:47:59.598Z"
   },
   {
    "duration": 132,
    "start_time": "2022-09-17T10:47:59.741Z"
   },
   {
    "duration": 145,
    "start_time": "2022-09-17T10:47:59.877Z"
   },
   {
    "duration": 27,
    "start_time": "2022-09-17T10:48:00.023Z"
   },
   {
    "duration": 120,
    "start_time": "2022-09-17T10:48:00.051Z"
   },
   {
    "duration": 8,
    "start_time": "2022-09-17T10:48:00.177Z"
   },
   {
    "duration": 10,
    "start_time": "2022-09-17T10:48:00.187Z"
   },
   {
    "duration": 263,
    "start_time": "2022-09-17T10:48:00.198Z"
   },
   {
    "duration": 275,
    "start_time": "2022-09-17T10:48:00.462Z"
   },
   {
    "duration": 156,
    "start_time": "2022-09-17T10:48:00.739Z"
   },
   {
    "duration": 143,
    "start_time": "2022-09-17T10:48:00.897Z"
   },
   {
    "duration": 161,
    "start_time": "2022-09-17T10:48:01.042Z"
   },
   {
    "duration": 147,
    "start_time": "2022-09-17T10:48:01.204Z"
   },
   {
    "duration": 149,
    "start_time": "2022-09-17T10:48:01.353Z"
   },
   {
    "duration": 12,
    "start_time": "2022-09-17T10:48:01.504Z"
   },
   {
    "duration": 6,
    "start_time": "2022-09-17T10:48:01.517Z"
   },
   {
    "duration": 17,
    "start_time": "2022-09-17T10:48:01.524Z"
   },
   {
    "duration": 11,
    "start_time": "2022-09-17T10:48:01.543Z"
   },
   {
    "duration": 189,
    "start_time": "2022-09-17T10:48:01.555Z"
   },
   {
    "duration": 182,
    "start_time": "2022-09-17T10:48:01.746Z"
   },
   {
    "duration": 8,
    "start_time": "2022-09-17T10:48:01.930Z"
   },
   {
    "duration": 10,
    "start_time": "2022-09-17T10:48:01.940Z"
   },
   {
    "duration": 28,
    "start_time": "2022-09-17T10:48:01.951Z"
   },
   {
    "duration": 5,
    "start_time": "2022-09-17T10:48:01.980Z"
   },
   {
    "duration": 7,
    "start_time": "2022-09-17T10:48:01.987Z"
   },
   {
    "duration": 5,
    "start_time": "2022-09-17T10:48:01.995Z"
   },
   {
    "duration": 111,
    "start_time": "2022-09-17T10:48:02.001Z"
   },
   {
    "duration": 7,
    "start_time": "2022-09-17T10:48:02.114Z"
   },
   {
    "duration": 5,
    "start_time": "2022-09-17T10:48:02.123Z"
   },
   {
    "duration": 159,
    "start_time": "2022-09-17T10:48:02.129Z"
   },
   {
    "duration": 8,
    "start_time": "2022-09-17T10:48:02.290Z"
   },
   {
    "duration": 334,
    "start_time": "2022-09-17T10:51:53.888Z"
   },
   {
    "duration": 646,
    "start_time": "2022-09-17T10:56:48.659Z"
   },
   {
    "duration": 81,
    "start_time": "2022-09-17T10:56:49.307Z"
   },
   {
    "duration": 22,
    "start_time": "2022-09-17T10:56:49.390Z"
   },
   {
    "duration": 13,
    "start_time": "2022-09-17T10:56:49.414Z"
   },
   {
    "duration": 1711,
    "start_time": "2022-09-17T10:56:49.428Z"
   },
   {
    "duration": 8,
    "start_time": "2022-09-17T10:56:51.140Z"
   },
   {
    "duration": 4,
    "start_time": "2022-09-17T10:56:51.150Z"
   },
   {
    "duration": 229,
    "start_time": "2022-09-17T10:56:51.155Z"
   },
   {
    "duration": 10,
    "start_time": "2022-09-17T10:56:51.385Z"
   },
   {
    "duration": 8,
    "start_time": "2022-09-17T10:56:51.397Z"
   },
   {
    "duration": 2,
    "start_time": "2022-09-17T10:56:51.407Z"
   },
   {
    "duration": 6,
    "start_time": "2022-09-17T10:56:51.411Z"
   },
   {
    "duration": 14,
    "start_time": "2022-09-17T10:56:51.418Z"
   },
   {
    "duration": 59,
    "start_time": "2022-09-17T10:56:51.434Z"
   },
   {
    "duration": 34,
    "start_time": "2022-09-17T10:56:51.495Z"
   },
   {
    "duration": 5,
    "start_time": "2022-09-17T10:56:51.530Z"
   },
   {
    "duration": 9,
    "start_time": "2022-09-17T10:56:51.537Z"
   },
   {
    "duration": 6,
    "start_time": "2022-09-17T10:56:51.548Z"
   },
   {
    "duration": 6,
    "start_time": "2022-09-17T10:56:51.556Z"
   },
   {
    "duration": 6,
    "start_time": "2022-09-17T10:56:51.578Z"
   },
   {
    "duration": 5,
    "start_time": "2022-09-17T10:56:51.586Z"
   },
   {
    "duration": 8,
    "start_time": "2022-09-17T10:56:51.593Z"
   },
   {
    "duration": 22,
    "start_time": "2022-09-17T10:56:51.602Z"
   },
   {
    "duration": 7,
    "start_time": "2022-09-17T10:56:51.625Z"
   },
   {
    "duration": 6,
    "start_time": "2022-09-17T10:56:51.634Z"
   },
   {
    "duration": 8,
    "start_time": "2022-09-17T10:56:51.642Z"
   },
   {
    "duration": 28,
    "start_time": "2022-09-17T10:56:51.651Z"
   },
   {
    "duration": 12,
    "start_time": "2022-09-17T10:56:51.684Z"
   },
   {
    "duration": 5,
    "start_time": "2022-09-17T10:56:51.698Z"
   },
   {
    "duration": 14,
    "start_time": "2022-09-17T10:56:51.705Z"
   },
   {
    "duration": 18,
    "start_time": "2022-09-17T10:56:51.720Z"
   },
   {
    "duration": 10,
    "start_time": "2022-09-17T10:56:51.740Z"
   },
   {
    "duration": 13,
    "start_time": "2022-09-17T10:56:51.777Z"
   },
   {
    "duration": 4,
    "start_time": "2022-09-17T10:56:51.792Z"
   },
   {
    "duration": 8,
    "start_time": "2022-09-17T10:56:51.798Z"
   },
   {
    "duration": 29,
    "start_time": "2022-09-17T10:56:51.808Z"
   },
   {
    "duration": 5,
    "start_time": "2022-09-17T10:56:51.839Z"
   },
   {
    "duration": 35,
    "start_time": "2022-09-17T10:56:51.845Z"
   },
   {
    "duration": 12,
    "start_time": "2022-09-17T10:56:51.882Z"
   },
   {
    "duration": 40,
    "start_time": "2022-09-17T10:56:51.896Z"
   },
   {
    "duration": 6,
    "start_time": "2022-09-17T10:56:51.938Z"
   },
   {
    "duration": 15,
    "start_time": "2022-09-17T10:56:51.946Z"
   },
   {
    "duration": 9,
    "start_time": "2022-09-17T10:56:51.963Z"
   },
   {
    "duration": 292,
    "start_time": "2022-09-17T10:56:51.973Z"
   },
   {
    "duration": 304,
    "start_time": "2022-09-17T10:56:52.267Z"
   },
   {
    "duration": 10,
    "start_time": "2022-09-17T10:56:52.576Z"
   },
   {
    "duration": 414,
    "start_time": "2022-09-17T10:56:52.587Z"
   },
   {
    "duration": 290,
    "start_time": "2022-09-17T10:56:53.003Z"
   },
   {
    "duration": 297,
    "start_time": "2022-09-17T10:56:53.295Z"
   },
   {
    "duration": 13,
    "start_time": "2022-09-17T10:56:53.594Z"
   },
   {
    "duration": 7,
    "start_time": "2022-09-17T10:56:53.608Z"
   },
   {
    "duration": 6,
    "start_time": "2022-09-17T10:56:53.617Z"
   },
   {
    "duration": 312,
    "start_time": "2022-09-17T10:56:53.624Z"
   },
   {
    "duration": 381,
    "start_time": "2022-09-17T10:56:53.938Z"
   },
   {
    "duration": 290,
    "start_time": "2022-09-17T10:56:54.321Z"
   },
   {
    "duration": 281,
    "start_time": "2022-09-17T10:56:54.613Z"
   },
   {
    "duration": 8,
    "start_time": "2022-09-17T10:56:54.895Z"
   },
   {
    "duration": 5,
    "start_time": "2022-09-17T10:56:54.904Z"
   },
   {
    "duration": 295,
    "start_time": "2022-09-17T10:56:54.910Z"
   },
   {
    "duration": 367,
    "start_time": "2022-09-17T10:56:55.207Z"
   },
   {
    "duration": 324,
    "start_time": "2022-09-17T10:56:55.577Z"
   },
   {
    "duration": 4,
    "start_time": "2022-09-17T10:56:55.903Z"
   },
   {
    "duration": 12,
    "start_time": "2022-09-17T10:56:55.909Z"
   },
   {
    "duration": 3,
    "start_time": "2022-09-17T10:56:55.923Z"
   },
   {
    "duration": 277,
    "start_time": "2022-09-17T10:56:55.928Z"
   },
   {
    "duration": 581,
    "start_time": "2022-09-17T10:56:56.206Z"
   },
   {
    "duration": 719,
    "start_time": "2022-09-17T10:56:56.789Z"
   },
   {
    "duration": 4,
    "start_time": "2022-09-17T10:56:57.510Z"
   },
   {
    "duration": 64,
    "start_time": "2022-09-17T10:56:57.515Z"
   },
   {
    "duration": 5,
    "start_time": "2022-09-17T10:56:57.581Z"
   },
   {
    "duration": 611,
    "start_time": "2022-09-17T10:56:57.587Z"
   },
   {
    "duration": 260,
    "start_time": "2022-09-17T10:56:58.199Z"
   },
   {
    "duration": 279,
    "start_time": "2022-09-17T10:56:58.460Z"
   },
   {
    "duration": 9,
    "start_time": "2022-09-17T10:56:58.741Z"
   },
   {
    "duration": 387,
    "start_time": "2022-09-17T10:56:58.752Z"
   },
   {
    "duration": 20,
    "start_time": "2022-09-17T10:56:59.140Z"
   },
   {
    "duration": 59,
    "start_time": "2022-09-17T10:56:59.162Z"
   },
   {
    "duration": 8,
    "start_time": "2022-09-17T10:56:59.223Z"
   },
   {
    "duration": 311,
    "start_time": "2022-09-17T10:56:59.233Z"
   },
   {
    "duration": 261,
    "start_time": "2022-09-17T10:56:59.545Z"
   },
   {
    "duration": 13,
    "start_time": "2022-09-17T10:56:59.807Z"
   },
   {
    "duration": 11,
    "start_time": "2022-09-17T10:56:59.826Z"
   },
   {
    "duration": 6,
    "start_time": "2022-09-17T10:56:59.838Z"
   },
   {
    "duration": 31,
    "start_time": "2022-09-17T10:56:59.846Z"
   },
   {
    "duration": 5,
    "start_time": "2022-09-17T10:56:59.878Z"
   },
   {
    "duration": 4,
    "start_time": "2022-09-17T10:56:59.885Z"
   },
   {
    "duration": 186,
    "start_time": "2022-09-17T10:56:59.891Z"
   },
   {
    "duration": 4,
    "start_time": "2022-09-17T10:57:00.078Z"
   },
   {
    "duration": 23,
    "start_time": "2022-09-17T10:57:00.084Z"
   },
   {
    "duration": 106,
    "start_time": "2022-09-17T10:57:00.109Z"
   },
   {
    "duration": 123,
    "start_time": "2022-09-17T10:57:00.216Z"
   },
   {
    "duration": 7,
    "start_time": "2022-09-17T10:57:00.341Z"
   },
   {
    "duration": 321,
    "start_time": "2022-09-17T10:57:00.350Z"
   },
   {
    "duration": 119,
    "start_time": "2022-09-17T10:57:00.673Z"
   },
   {
    "duration": 10,
    "start_time": "2022-09-17T10:57:00.793Z"
   },
   {
    "duration": 228,
    "start_time": "2022-09-17T10:57:00.804Z"
   },
   {
    "duration": 100,
    "start_time": "2022-09-17T10:57:01.033Z"
   },
   {
    "duration": 7,
    "start_time": "2022-09-17T10:57:01.134Z"
   },
   {
    "duration": 161,
    "start_time": "2022-09-17T10:57:01.143Z"
   },
   {
    "duration": 3,
    "start_time": "2022-09-17T10:57:01.306Z"
   },
   {
    "duration": 97,
    "start_time": "2022-09-17T10:57:01.310Z"
   },
   {
    "duration": 9,
    "start_time": "2022-09-17T10:57:01.408Z"
   },
   {
    "duration": 177,
    "start_time": "2022-09-17T10:57:01.418Z"
   },
   {
    "duration": 8,
    "start_time": "2022-09-17T10:57:01.596Z"
   },
   {
    "duration": 147,
    "start_time": "2022-09-17T10:57:01.605Z"
   },
   {
    "duration": 8,
    "start_time": "2022-09-17T10:57:01.753Z"
   },
   {
    "duration": 223,
    "start_time": "2022-09-17T10:57:01.763Z"
   },
   {
    "duration": 93,
    "start_time": "2022-09-17T10:57:01.988Z"
   },
   {
    "duration": 8,
    "start_time": "2022-09-17T10:57:02.083Z"
   },
   {
    "duration": 142,
    "start_time": "2022-09-17T10:57:02.093Z"
   },
   {
    "duration": 112,
    "start_time": "2022-09-17T10:57:02.237Z"
   },
   {
    "duration": 7,
    "start_time": "2022-09-17T10:57:02.351Z"
   },
   {
    "duration": 163,
    "start_time": "2022-09-17T10:57:02.360Z"
   },
   {
    "duration": 10,
    "start_time": "2022-09-17T10:57:02.525Z"
   },
   {
    "duration": 166,
    "start_time": "2022-09-17T10:57:02.536Z"
   },
   {
    "duration": 9,
    "start_time": "2022-09-17T10:57:02.703Z"
   },
   {
    "duration": 192,
    "start_time": "2022-09-17T10:57:02.714Z"
   },
   {
    "duration": 10,
    "start_time": "2022-09-17T10:57:02.908Z"
   },
   {
    "duration": 191,
    "start_time": "2022-09-17T10:57:02.919Z"
   },
   {
    "duration": 123,
    "start_time": "2022-09-17T10:57:03.112Z"
   },
   {
    "duration": 145,
    "start_time": "2022-09-17T10:57:03.236Z"
   },
   {
    "duration": 24,
    "start_time": "2022-09-17T10:57:03.382Z"
   },
   {
    "duration": 123,
    "start_time": "2022-09-17T10:57:03.407Z"
   },
   {
    "duration": 8,
    "start_time": "2022-09-17T10:57:03.532Z"
   },
   {
    "duration": 16,
    "start_time": "2022-09-17T10:57:03.541Z"
   },
   {
    "duration": 329,
    "start_time": "2022-09-17T10:57:03.558Z"
   },
   {
    "duration": 186,
    "start_time": "2022-09-17T10:57:03.889Z"
   },
   {
    "duration": 144,
    "start_time": "2022-09-17T10:57:04.078Z"
   },
   {
    "duration": 145,
    "start_time": "2022-09-17T10:57:04.224Z"
   },
   {
    "duration": 155,
    "start_time": "2022-09-17T10:57:04.370Z"
   },
   {
    "duration": 148,
    "start_time": "2022-09-17T10:57:04.527Z"
   },
   {
    "duration": 149,
    "start_time": "2022-09-17T10:57:04.677Z"
   },
   {
    "duration": 11,
    "start_time": "2022-09-17T10:57:04.828Z"
   },
   {
    "duration": 18,
    "start_time": "2022-09-17T10:57:04.840Z"
   },
   {
    "duration": 28,
    "start_time": "2022-09-17T10:57:04.859Z"
   },
   {
    "duration": 24,
    "start_time": "2022-09-17T10:57:04.889Z"
   },
   {
    "duration": 181,
    "start_time": "2022-09-17T10:57:04.915Z"
   },
   {
    "duration": 174,
    "start_time": "2022-09-17T10:57:05.097Z"
   },
   {
    "duration": 10,
    "start_time": "2022-09-17T10:57:05.273Z"
   },
   {
    "duration": 16,
    "start_time": "2022-09-17T10:57:05.284Z"
   },
   {
    "duration": 8,
    "start_time": "2022-09-17T10:57:05.302Z"
   },
   {
    "duration": 5,
    "start_time": "2022-09-17T10:57:05.312Z"
   },
   {
    "duration": 6,
    "start_time": "2022-09-17T10:57:05.318Z"
   },
   {
    "duration": 6,
    "start_time": "2022-09-17T10:57:05.326Z"
   },
   {
    "duration": 115,
    "start_time": "2022-09-17T10:57:05.333Z"
   },
   {
    "duration": 7,
    "start_time": "2022-09-17T10:57:05.449Z"
   },
   {
    "duration": 9,
    "start_time": "2022-09-17T10:57:05.457Z"
   },
   {
    "duration": 214,
    "start_time": "2022-09-17T10:57:05.476Z"
   },
   {
    "duration": 7,
    "start_time": "2022-09-17T10:57:05.692Z"
   },
   {
    "duration": 531,
    "start_time": "2022-09-17T10:59:27.628Z"
   },
   {
    "duration": 3463,
    "start_time": "2022-09-17T10:59:29.541Z"
   },
   {
    "duration": 140,
    "start_time": "2022-09-17T10:59:48.055Z"
   },
   {
    "duration": 124,
    "start_time": "2022-09-17T10:59:57.416Z"
   },
   {
    "duration": 397,
    "start_time": "2022-09-17T11:00:01.711Z"
   },
   {
    "duration": 764,
    "start_time": "2022-09-17T11:02:12.391Z"
   },
   {
    "duration": 106,
    "start_time": "2022-09-17T11:02:13.157Z"
   },
   {
    "duration": 36,
    "start_time": "2022-09-17T11:02:13.266Z"
   },
   {
    "duration": 38,
    "start_time": "2022-09-17T11:02:13.308Z"
   },
   {
    "duration": 1989,
    "start_time": "2022-09-17T11:02:13.348Z"
   },
   {
    "duration": 9,
    "start_time": "2022-09-17T11:02:15.339Z"
   },
   {
    "duration": 32,
    "start_time": "2022-09-17T11:02:15.350Z"
   },
   {
    "duration": 533,
    "start_time": "2022-09-17T11:02:15.389Z"
   },
   {
    "duration": 58,
    "start_time": "2022-09-17T11:02:15.924Z"
   },
   {
    "duration": 44,
    "start_time": "2022-09-17T11:02:15.983Z"
   },
   {
    "duration": 3,
    "start_time": "2022-09-17T11:02:16.028Z"
   },
   {
    "duration": 6,
    "start_time": "2022-09-17T11:02:16.033Z"
   },
   {
    "duration": 54,
    "start_time": "2022-09-17T11:02:16.040Z"
   },
   {
    "duration": 93,
    "start_time": "2022-09-17T11:02:16.097Z"
   },
   {
    "duration": 47,
    "start_time": "2022-09-17T11:02:16.192Z"
   },
   {
    "duration": 5,
    "start_time": "2022-09-17T11:02:16.277Z"
   },
   {
    "duration": 11,
    "start_time": "2022-09-17T11:02:16.283Z"
   },
   {
    "duration": 26,
    "start_time": "2022-09-17T11:02:16.296Z"
   },
   {
    "duration": 5,
    "start_time": "2022-09-17T11:02:16.324Z"
   },
   {
    "duration": 4,
    "start_time": "2022-09-17T11:02:16.331Z"
   },
   {
    "duration": 6,
    "start_time": "2022-09-17T11:02:16.378Z"
   },
   {
    "duration": 36,
    "start_time": "2022-09-17T11:02:16.386Z"
   },
   {
    "duration": 71,
    "start_time": "2022-09-17T11:02:16.423Z"
   },
   {
    "duration": 33,
    "start_time": "2022-09-17T11:02:16.496Z"
   },
   {
    "duration": 8,
    "start_time": "2022-09-17T11:02:16.531Z"
   },
   {
    "duration": 51,
    "start_time": "2022-09-17T11:02:16.540Z"
   },
   {
    "duration": 27,
    "start_time": "2022-09-17T11:02:16.593Z"
   },
   {
    "duration": 14,
    "start_time": "2022-09-17T11:02:16.622Z"
   },
   {
    "duration": 43,
    "start_time": "2022-09-17T11:02:16.637Z"
   },
   {
    "duration": 23,
    "start_time": "2022-09-17T11:02:16.686Z"
   },
   {
    "duration": 20,
    "start_time": "2022-09-17T11:02:16.711Z"
   },
   {
    "duration": 47,
    "start_time": "2022-09-17T11:02:16.732Z"
   },
   {
    "duration": 17,
    "start_time": "2022-09-17T11:02:16.781Z"
   },
   {
    "duration": 22,
    "start_time": "2022-09-17T11:02:16.799Z"
   },
   {
    "duration": 7,
    "start_time": "2022-09-17T11:02:16.822Z"
   },
   {
    "duration": 66,
    "start_time": "2022-09-17T11:02:16.830Z"
   },
   {
    "duration": 4,
    "start_time": "2022-09-17T11:02:16.898Z"
   },
   {
    "duration": 15,
    "start_time": "2022-09-17T11:02:16.905Z"
   },
   {
    "duration": 6,
    "start_time": "2022-09-17T11:02:16.922Z"
   },
   {
    "duration": 31,
    "start_time": "2022-09-17T11:02:16.977Z"
   },
   {
    "duration": 14,
    "start_time": "2022-09-17T11:02:17.015Z"
   },
   {
    "duration": 12,
    "start_time": "2022-09-17T11:02:17.079Z"
   },
   {
    "duration": 36,
    "start_time": "2022-09-17T11:02:17.093Z"
   },
   {
    "duration": 386,
    "start_time": "2022-09-17T11:02:17.131Z"
   },
   {
    "duration": 340,
    "start_time": "2022-09-17T11:02:17.519Z"
   },
   {
    "duration": 20,
    "start_time": "2022-09-17T11:02:17.863Z"
   },
   {
    "duration": 512,
    "start_time": "2022-09-17T11:02:17.885Z"
   },
   {
    "duration": 313,
    "start_time": "2022-09-17T11:02:18.399Z"
   },
   {
    "duration": 312,
    "start_time": "2022-09-17T11:02:18.713Z"
   },
   {
    "duration": 13,
    "start_time": "2022-09-17T11:02:19.026Z"
   },
   {
    "duration": 12,
    "start_time": "2022-09-17T11:02:19.041Z"
   },
   {
    "duration": 19,
    "start_time": "2022-09-17T11:02:19.054Z"
   },
   {
    "duration": 343,
    "start_time": "2022-09-17T11:02:19.074Z"
   },
   {
    "duration": 381,
    "start_time": "2022-09-17T11:02:19.419Z"
   },
   {
    "duration": 305,
    "start_time": "2022-09-17T11:02:19.808Z"
   },
   {
    "duration": 303,
    "start_time": "2022-09-17T11:02:20.115Z"
   },
   {
    "duration": 7,
    "start_time": "2022-09-17T11:02:20.420Z"
   },
   {
    "duration": 6,
    "start_time": "2022-09-17T11:02:20.429Z"
   },
   {
    "duration": 308,
    "start_time": "2022-09-17T11:02:20.436Z"
   },
   {
    "duration": 417,
    "start_time": "2022-09-17T11:02:20.745Z"
   },
   {
    "duration": 322,
    "start_time": "2022-09-17T11:02:21.163Z"
   },
   {
    "duration": 5,
    "start_time": "2022-09-17T11:02:21.487Z"
   },
   {
    "duration": 41,
    "start_time": "2022-09-17T11:02:21.493Z"
   },
   {
    "duration": 5,
    "start_time": "2022-09-17T11:02:21.536Z"
   },
   {
    "duration": 309,
    "start_time": "2022-09-17T11:02:21.542Z"
   },
   {
    "duration": 309,
    "start_time": "2022-09-17T11:02:21.852Z"
   },
   {
    "duration": 403,
    "start_time": "2022-09-17T11:02:22.163Z"
   },
   {
    "duration": 13,
    "start_time": "2022-09-17T11:02:22.567Z"
   },
   {
    "duration": 21,
    "start_time": "2022-09-17T11:02:22.582Z"
   },
   {
    "duration": 7,
    "start_time": "2022-09-17T11:02:22.607Z"
   },
   {
    "duration": 333,
    "start_time": "2022-09-17T11:02:22.616Z"
   },
   {
    "duration": 342,
    "start_time": "2022-09-17T11:02:22.951Z"
   },
   {
    "duration": 304,
    "start_time": "2022-09-17T11:02:23.294Z"
   },
   {
    "duration": 9,
    "start_time": "2022-09-17T11:02:23.600Z"
   },
   {
    "duration": 492,
    "start_time": "2022-09-17T11:02:23.611Z"
   },
   {
    "duration": 31,
    "start_time": "2022-09-17T11:02:24.105Z"
   },
   {
    "duration": 74,
    "start_time": "2022-09-17T11:02:24.137Z"
   },
   {
    "duration": 10,
    "start_time": "2022-09-17T11:02:24.212Z"
   },
   {
    "duration": 342,
    "start_time": "2022-09-17T11:02:24.224Z"
   },
   {
    "duration": 305,
    "start_time": "2022-09-17T11:02:24.568Z"
   },
   {
    "duration": 14,
    "start_time": "2022-09-17T11:02:24.876Z"
   },
   {
    "duration": 30,
    "start_time": "2022-09-17T11:02:24.891Z"
   },
   {
    "duration": 5,
    "start_time": "2022-09-17T11:02:24.923Z"
   },
   {
    "duration": 5,
    "start_time": "2022-09-17T11:02:24.929Z"
   },
   {
    "duration": 6,
    "start_time": "2022-09-17T11:02:24.935Z"
   },
   {
    "duration": 4,
    "start_time": "2022-09-17T11:02:24.942Z"
   },
   {
    "duration": 233,
    "start_time": "2022-09-17T11:02:24.947Z"
   },
   {
    "duration": 6,
    "start_time": "2022-09-17T11:02:25.181Z"
   },
   {
    "duration": 34,
    "start_time": "2022-09-17T11:02:25.199Z"
   },
   {
    "duration": 120,
    "start_time": "2022-09-17T11:02:25.234Z"
   },
   {
    "duration": 154,
    "start_time": "2022-09-17T11:02:25.356Z"
   },
   {
    "duration": 9,
    "start_time": "2022-09-17T11:02:25.512Z"
   },
   {
    "duration": 379,
    "start_time": "2022-09-17T11:02:25.524Z"
   },
   {
    "duration": 122,
    "start_time": "2022-09-17T11:02:25.907Z"
   },
   {
    "duration": 9,
    "start_time": "2022-09-17T11:02:26.030Z"
   },
   {
    "duration": 243,
    "start_time": "2022-09-17T11:02:26.040Z"
   },
   {
    "duration": 113,
    "start_time": "2022-09-17T11:02:26.287Z"
   },
   {
    "duration": 14,
    "start_time": "2022-09-17T11:02:26.407Z"
   },
   {
    "duration": 185,
    "start_time": "2022-09-17T11:02:26.423Z"
   },
   {
    "duration": 4,
    "start_time": "2022-09-17T11:02:26.610Z"
   },
   {
    "duration": 125,
    "start_time": "2022-09-17T11:02:26.615Z"
   },
   {
    "duration": 8,
    "start_time": "2022-09-17T11:02:26.743Z"
   },
   {
    "duration": 252,
    "start_time": "2022-09-17T11:02:26.752Z"
   },
   {
    "duration": 10,
    "start_time": "2022-09-17T11:02:27.009Z"
   },
   {
    "duration": 147,
    "start_time": "2022-09-17T11:02:27.020Z"
   },
   {
    "duration": 21,
    "start_time": "2022-09-17T11:02:27.168Z"
   },
   {
    "duration": 254,
    "start_time": "2022-09-17T11:02:27.193Z"
   },
   {
    "duration": 114,
    "start_time": "2022-09-17T11:02:27.449Z"
   },
   {
    "duration": 26,
    "start_time": "2022-09-17T11:02:27.565Z"
   },
   {
    "duration": 203,
    "start_time": "2022-09-17T11:02:27.593Z"
   },
   {
    "duration": 152,
    "start_time": "2022-09-17T11:02:27.799Z"
   },
   {
    "duration": 10,
    "start_time": "2022-09-17T11:02:27.953Z"
   },
   {
    "duration": 226,
    "start_time": "2022-09-17T11:02:27.965Z"
   },
   {
    "duration": 12,
    "start_time": "2022-09-17T11:02:28.199Z"
   },
   {
    "duration": 154,
    "start_time": "2022-09-17T11:02:28.212Z"
   },
   {
    "duration": 16,
    "start_time": "2022-09-17T11:02:28.368Z"
   },
   {
    "duration": 206,
    "start_time": "2022-09-17T11:02:28.385Z"
   },
   {
    "duration": 9,
    "start_time": "2022-09-17T11:02:28.592Z"
   },
   {
    "duration": 153,
    "start_time": "2022-09-17T11:02:28.603Z"
   },
   {
    "duration": 173,
    "start_time": "2022-09-17T11:02:28.758Z"
   },
   {
    "duration": 168,
    "start_time": "2022-09-17T11:02:28.932Z"
   },
   {
    "duration": 26,
    "start_time": "2022-09-17T11:02:29.108Z"
   },
   {
    "duration": 129,
    "start_time": "2022-09-17T11:02:29.135Z"
   },
   {
    "duration": 29,
    "start_time": "2022-09-17T11:02:29.266Z"
   },
   {
    "duration": 15,
    "start_time": "2022-09-17T11:02:29.296Z"
   },
   {
    "duration": 343,
    "start_time": "2022-09-17T11:02:29.313Z"
   },
   {
    "duration": 212,
    "start_time": "2022-09-17T11:02:29.657Z"
   },
   {
    "duration": 171,
    "start_time": "2022-09-17T11:02:29.870Z"
   },
   {
    "duration": 165,
    "start_time": "2022-09-17T11:02:30.042Z"
   },
   {
    "duration": 178,
    "start_time": "2022-09-17T11:02:30.209Z"
   },
   {
    "duration": 169,
    "start_time": "2022-09-17T11:02:30.389Z"
   },
   {
    "duration": 167,
    "start_time": "2022-09-17T11:02:30.560Z"
   },
   {
    "duration": 12,
    "start_time": "2022-09-17T11:02:30.730Z"
   },
   {
    "duration": 23,
    "start_time": "2022-09-17T11:02:30.743Z"
   },
   {
    "duration": 22,
    "start_time": "2022-09-17T11:02:30.768Z"
   },
   {
    "duration": 35,
    "start_time": "2022-09-17T11:02:30.791Z"
   },
   {
    "duration": 214,
    "start_time": "2022-09-17T11:02:30.827Z"
   },
   {
    "duration": 198,
    "start_time": "2022-09-17T11:02:31.042Z"
   },
   {
    "duration": 9,
    "start_time": "2022-09-17T11:02:31.241Z"
   },
   {
    "duration": 10,
    "start_time": "2022-09-17T11:02:31.251Z"
   },
   {
    "duration": 21,
    "start_time": "2022-09-17T11:02:31.262Z"
   },
   {
    "duration": 32,
    "start_time": "2022-09-17T11:02:31.284Z"
   },
   {
    "duration": 10,
    "start_time": "2022-09-17T11:02:31.318Z"
   },
   {
    "duration": 6,
    "start_time": "2022-09-17T11:02:31.330Z"
   },
   {
    "duration": 103,
    "start_time": "2022-09-17T11:02:31.337Z"
   },
   {
    "duration": 7,
    "start_time": "2022-09-17T11:02:31.442Z"
   },
   {
    "duration": 71,
    "start_time": "2022-09-17T11:02:31.450Z"
   },
   {
    "duration": 233,
    "start_time": "2022-09-17T11:02:31.522Z"
   },
   {
    "duration": 9,
    "start_time": "2022-09-17T11:02:31.757Z"
   },
   {
    "duration": 462,
    "start_time": "2022-09-17T11:02:31.780Z"
   },
   {
    "duration": 3116,
    "start_time": "2022-09-17T11:02:32.243Z"
   },
   {
    "duration": 388,
    "start_time": "2022-09-17T11:02:35.361Z"
   },
   {
    "duration": 123,
    "start_time": "2022-09-17T11:02:35.751Z"
   },
   {
    "duration": 112,
    "start_time": "2022-09-17T11:02:35.877Z"
   },
   {
    "duration": 826,
    "start_time": "2022-09-18T08:35:06.434Z"
   },
   {
    "duration": 313,
    "start_time": "2022-09-18T08:35:07.262Z"
   },
   {
    "duration": 30,
    "start_time": "2022-09-18T08:35:07.576Z"
   },
   {
    "duration": 17,
    "start_time": "2022-09-18T08:35:07.609Z"
   },
   {
    "duration": 1927,
    "start_time": "2022-09-18T08:35:07.628Z"
   },
   {
    "duration": 9,
    "start_time": "2022-09-18T08:35:09.556Z"
   },
   {
    "duration": 4,
    "start_time": "2022-09-18T08:35:09.567Z"
   },
   {
    "duration": 220,
    "start_time": "2022-09-18T08:35:09.572Z"
   },
   {
    "duration": 10,
    "start_time": "2022-09-18T08:35:09.793Z"
   },
   {
    "duration": 9,
    "start_time": "2022-09-18T08:35:09.805Z"
   },
   {
    "duration": 4,
    "start_time": "2022-09-18T08:35:09.815Z"
   },
   {
    "duration": 29,
    "start_time": "2022-09-18T08:35:09.820Z"
   },
   {
    "duration": 15,
    "start_time": "2022-09-18T08:35:09.851Z"
   },
   {
    "duration": 25,
    "start_time": "2022-09-18T08:35:09.868Z"
   },
   {
    "duration": 26,
    "start_time": "2022-09-18T08:35:09.894Z"
   },
   {
    "duration": 5,
    "start_time": "2022-09-18T08:35:09.946Z"
   },
   {
    "duration": 7,
    "start_time": "2022-09-18T08:35:09.953Z"
   },
   {
    "duration": 7,
    "start_time": "2022-09-18T08:35:09.961Z"
   },
   {
    "duration": 4,
    "start_time": "2022-09-18T08:35:09.970Z"
   },
   {
    "duration": 5,
    "start_time": "2022-09-18T08:35:09.976Z"
   },
   {
    "duration": 4,
    "start_time": "2022-09-18T08:35:09.983Z"
   },
   {
    "duration": 11,
    "start_time": "2022-09-18T08:35:09.989Z"
   },
   {
    "duration": 67,
    "start_time": "2022-09-18T08:35:10.002Z"
   },
   {
    "duration": 5,
    "start_time": "2022-09-18T08:35:10.070Z"
   },
   {
    "duration": 9,
    "start_time": "2022-09-18T08:35:10.076Z"
   },
   {
    "duration": 6,
    "start_time": "2022-09-18T08:35:10.087Z"
   },
   {
    "duration": 10,
    "start_time": "2022-09-18T08:35:10.095Z"
   },
   {
    "duration": 13,
    "start_time": "2022-09-18T08:35:10.109Z"
   },
   {
    "duration": 24,
    "start_time": "2022-09-18T08:35:10.123Z"
   },
   {
    "duration": 14,
    "start_time": "2022-09-18T08:35:10.149Z"
   },
   {
    "duration": 17,
    "start_time": "2022-09-18T08:35:10.164Z"
   },
   {
    "duration": 7,
    "start_time": "2022-09-18T08:35:10.182Z"
   },
   {
    "duration": 15,
    "start_time": "2022-09-18T08:35:10.190Z"
   },
   {
    "duration": 5,
    "start_time": "2022-09-18T08:35:10.206Z"
   },
   {
    "duration": 6,
    "start_time": "2022-09-18T08:35:10.213Z"
   },
   {
    "duration": 21,
    "start_time": "2022-09-18T08:35:10.247Z"
   },
   {
    "duration": 4,
    "start_time": "2022-09-18T08:35:10.270Z"
   },
   {
    "duration": 10,
    "start_time": "2022-09-18T08:35:10.275Z"
   },
   {
    "duration": 6,
    "start_time": "2022-09-18T08:35:10.287Z"
   },
   {
    "duration": 27,
    "start_time": "2022-09-18T08:35:10.295Z"
   },
   {
    "duration": 25,
    "start_time": "2022-09-18T08:35:10.323Z"
   },
   {
    "duration": 9,
    "start_time": "2022-09-18T08:35:10.349Z"
   },
   {
    "duration": 5,
    "start_time": "2022-09-18T08:35:10.359Z"
   },
   {
    "duration": 329,
    "start_time": "2022-09-18T08:35:10.366Z"
   },
   {
    "duration": 314,
    "start_time": "2022-09-18T08:35:10.697Z"
   },
   {
    "duration": 8,
    "start_time": "2022-09-18T08:35:11.013Z"
   },
   {
    "duration": 410,
    "start_time": "2022-09-18T08:35:11.023Z"
   },
   {
    "duration": 361,
    "start_time": "2022-09-18T08:35:11.435Z"
   },
   {
    "duration": 308,
    "start_time": "2022-09-18T08:35:11.798Z"
   },
   {
    "duration": 13,
    "start_time": "2022-09-18T08:35:12.108Z"
   },
   {
    "duration": 7,
    "start_time": "2022-09-18T08:35:12.122Z"
   },
   {
    "duration": 19,
    "start_time": "2022-09-18T08:35:12.130Z"
   },
   {
    "duration": 298,
    "start_time": "2022-09-18T08:35:12.151Z"
   },
   {
    "duration": 392,
    "start_time": "2022-09-18T08:35:12.451Z"
   },
   {
    "duration": 284,
    "start_time": "2022-09-18T08:35:12.846Z"
   },
   {
    "duration": 317,
    "start_time": "2022-09-18T08:35:13.132Z"
   },
   {
    "duration": 8,
    "start_time": "2022-09-18T08:35:13.450Z"
   },
   {
    "duration": 25,
    "start_time": "2022-09-18T08:35:13.460Z"
   },
   {
    "duration": 314,
    "start_time": "2022-09-18T08:35:13.487Z"
   },
   {
    "duration": 392,
    "start_time": "2022-09-18T08:35:13.803Z"
   },
   {
    "duration": 310,
    "start_time": "2022-09-18T08:35:14.197Z"
   },
   {
    "duration": 4,
    "start_time": "2022-09-18T08:35:14.509Z"
   },
   {
    "duration": 18,
    "start_time": "2022-09-18T08:35:14.514Z"
   },
   {
    "duration": 27,
    "start_time": "2022-09-18T08:35:14.533Z"
   },
   {
    "duration": 306,
    "start_time": "2022-09-18T08:35:14.561Z"
   },
   {
    "duration": 304,
    "start_time": "2022-09-18T08:35:14.869Z"
   },
   {
    "duration": 394,
    "start_time": "2022-09-18T08:35:15.175Z"
   },
   {
    "duration": 5,
    "start_time": "2022-09-18T08:35:15.570Z"
   },
   {
    "duration": 9,
    "start_time": "2022-09-18T08:35:15.577Z"
   },
   {
    "duration": 4,
    "start_time": "2022-09-18T08:35:15.588Z"
   },
   {
    "duration": 299,
    "start_time": "2022-09-18T08:35:15.594Z"
   },
   {
    "duration": 288,
    "start_time": "2022-09-18T08:35:15.895Z"
   },
   {
    "duration": 377,
    "start_time": "2022-09-18T08:35:16.186Z"
   },
   {
    "duration": 9,
    "start_time": "2022-09-18T08:35:16.565Z"
   },
   {
    "duration": 356,
    "start_time": "2022-09-18T08:35:16.575Z"
   },
   {
    "duration": 30,
    "start_time": "2022-09-18T08:35:16.933Z"
   },
   {
    "duration": 55,
    "start_time": "2022-09-18T08:35:16.964Z"
   },
   {
    "duration": 8,
    "start_time": "2022-09-18T08:35:17.021Z"
   },
   {
    "duration": 341,
    "start_time": "2022-09-18T08:35:17.047Z"
   },
   {
    "duration": 344,
    "start_time": "2022-09-18T08:35:17.390Z"
   },
   {
    "duration": 14,
    "start_time": "2022-09-18T08:35:17.735Z"
   },
   {
    "duration": 11,
    "start_time": "2022-09-18T08:35:17.755Z"
   },
   {
    "duration": 5,
    "start_time": "2022-09-18T08:35:17.767Z"
   },
   {
    "duration": 5,
    "start_time": "2022-09-18T08:35:17.774Z"
   },
   {
    "duration": 8,
    "start_time": "2022-09-18T08:35:17.780Z"
   },
   {
    "duration": 3,
    "start_time": "2022-09-18T08:35:17.790Z"
   },
   {
    "duration": 384,
    "start_time": "2022-09-18T08:35:17.794Z"
   },
   {
    "duration": 5,
    "start_time": "2022-09-18T08:35:18.180Z"
   },
   {
    "duration": 76,
    "start_time": "2022-09-18T08:35:18.187Z"
   },
   {
    "duration": 166,
    "start_time": "2022-09-18T08:35:18.265Z"
   },
   {
    "duration": 142,
    "start_time": "2022-09-18T08:35:18.433Z"
   },
   {
    "duration": 10,
    "start_time": "2022-09-18T08:35:18.576Z"
   },
   {
    "duration": 319,
    "start_time": "2022-09-18T08:35:18.588Z"
   },
   {
    "duration": 127,
    "start_time": "2022-09-18T08:35:18.909Z"
   },
   {
    "duration": 15,
    "start_time": "2022-09-18T08:35:19.038Z"
   },
   {
    "duration": 232,
    "start_time": "2022-09-18T08:35:19.054Z"
   },
   {
    "duration": 109,
    "start_time": "2022-09-18T08:35:19.288Z"
   },
   {
    "duration": 11,
    "start_time": "2022-09-18T08:35:19.399Z"
   },
   {
    "duration": 187,
    "start_time": "2022-09-18T08:35:19.412Z"
   },
   {
    "duration": 4,
    "start_time": "2022-09-18T08:35:19.600Z"
   },
   {
    "duration": 122,
    "start_time": "2022-09-18T08:35:19.606Z"
   },
   {
    "duration": 17,
    "start_time": "2022-09-18T08:35:19.729Z"
   },
   {
    "duration": 187,
    "start_time": "2022-09-18T08:35:19.748Z"
   },
   {
    "duration": 13,
    "start_time": "2022-09-18T08:35:19.936Z"
   },
   {
    "duration": 142,
    "start_time": "2022-09-18T08:35:19.951Z"
   },
   {
    "duration": 10,
    "start_time": "2022-09-18T08:35:20.095Z"
   },
   {
    "duration": 249,
    "start_time": "2022-09-18T08:35:20.107Z"
   },
   {
    "duration": 109,
    "start_time": "2022-09-18T08:35:20.358Z"
   },
   {
    "duration": 8,
    "start_time": "2022-09-18T08:35:20.469Z"
   },
   {
    "duration": 148,
    "start_time": "2022-09-18T08:35:20.478Z"
   },
   {
    "duration": 111,
    "start_time": "2022-09-18T08:35:20.627Z"
   },
   {
    "duration": 7,
    "start_time": "2022-09-18T08:35:20.746Z"
   },
   {
    "duration": 151,
    "start_time": "2022-09-18T08:35:20.755Z"
   },
   {
    "duration": 9,
    "start_time": "2022-09-18T08:35:20.907Z"
   },
   {
    "duration": 163,
    "start_time": "2022-09-18T08:35:20.917Z"
   },
   {
    "duration": 8,
    "start_time": "2022-09-18T08:35:21.081Z"
   },
   {
    "duration": 167,
    "start_time": "2022-09-18T08:35:21.091Z"
   },
   {
    "duration": 8,
    "start_time": "2022-09-18T08:35:21.260Z"
   },
   {
    "duration": 155,
    "start_time": "2022-09-18T08:35:21.270Z"
   },
   {
    "duration": 134,
    "start_time": "2022-09-18T08:35:21.426Z"
   },
   {
    "duration": 157,
    "start_time": "2022-09-18T08:35:21.562Z"
   },
   {
    "duration": 37,
    "start_time": "2022-09-18T08:35:21.720Z"
   },
   {
    "duration": 117,
    "start_time": "2022-09-18T08:35:21.758Z"
   },
   {
    "duration": 8,
    "start_time": "2022-09-18T08:35:21.877Z"
   },
   {
    "duration": 11,
    "start_time": "2022-09-18T08:35:21.887Z"
   },
   {
    "duration": 333,
    "start_time": "2022-09-18T08:35:21.899Z"
   },
   {
    "duration": 196,
    "start_time": "2022-09-18T08:35:22.233Z"
   },
   {
    "duration": 161,
    "start_time": "2022-09-18T08:35:22.430Z"
   },
   {
    "duration": 157,
    "start_time": "2022-09-18T08:35:22.593Z"
   },
   {
    "duration": 160,
    "start_time": "2022-09-18T08:35:22.752Z"
   },
   {
    "duration": 153,
    "start_time": "2022-09-18T08:35:22.914Z"
   },
   {
    "duration": 151,
    "start_time": "2022-09-18T08:35:23.069Z"
   },
   {
    "duration": 11,
    "start_time": "2022-09-18T08:35:23.222Z"
   },
   {
    "duration": 7,
    "start_time": "2022-09-18T08:35:23.247Z"
   },
   {
    "duration": 14,
    "start_time": "2022-09-18T08:35:23.255Z"
   },
   {
    "duration": 8,
    "start_time": "2022-09-18T08:35:23.271Z"
   },
   {
    "duration": 213,
    "start_time": "2022-09-18T08:35:23.281Z"
   },
   {
    "duration": 196,
    "start_time": "2022-09-18T08:35:23.496Z"
   },
   {
    "duration": 9,
    "start_time": "2022-09-18T08:35:23.693Z"
   },
   {
    "duration": 11,
    "start_time": "2022-09-18T08:35:23.704Z"
   },
   {
    "duration": 12,
    "start_time": "2022-09-18T08:35:23.717Z"
   },
   {
    "duration": 20,
    "start_time": "2022-09-18T08:35:23.731Z"
   },
   {
    "duration": 8,
    "start_time": "2022-09-18T08:35:23.753Z"
   },
   {
    "duration": 5,
    "start_time": "2022-09-18T08:35:23.763Z"
   },
   {
    "duration": 132,
    "start_time": "2022-09-18T08:35:23.770Z"
   },
   {
    "duration": 8,
    "start_time": "2022-09-18T08:35:23.904Z"
   },
   {
    "duration": 6,
    "start_time": "2022-09-18T08:35:23.913Z"
   },
   {
    "duration": 338,
    "start_time": "2022-09-18T08:35:23.920Z"
   },
   {
    "duration": 9,
    "start_time": "2022-09-18T08:35:24.259Z"
   },
   {
    "duration": 777,
    "start_time": "2022-09-18T08:35:24.270Z"
   },
   {
    "duration": 3461,
    "start_time": "2022-09-18T08:35:25.049Z"
   },
   {
    "duration": 389,
    "start_time": "2022-09-18T08:35:28.512Z"
   },
   {
    "duration": 123,
    "start_time": "2022-09-18T08:35:28.903Z"
   },
   {
    "duration": 88,
    "start_time": "2022-09-18T08:35:29.027Z"
   },
   {
    "duration": 300,
    "start_time": "2022-09-18T08:39:34.116Z"
   },
   {
    "duration": 439,
    "start_time": "2022-09-18T08:39:37.590Z"
   },
   {
    "duration": 297,
    "start_time": "2022-09-18T08:40:08.813Z"
   },
   {
    "duration": 297,
    "start_time": "2022-09-18T08:40:18.068Z"
   },
   {
    "duration": 644,
    "start_time": "2022-09-18T08:40:31.277Z"
   },
   {
    "duration": 105,
    "start_time": "2022-09-18T08:40:31.922Z"
   },
   {
    "duration": 36,
    "start_time": "2022-09-18T08:40:32.029Z"
   },
   {
    "duration": 27,
    "start_time": "2022-09-18T08:40:32.067Z"
   },
   {
    "duration": 2050,
    "start_time": "2022-09-18T08:40:32.096Z"
   },
   {
    "duration": 11,
    "start_time": "2022-09-18T08:40:34.149Z"
   },
   {
    "duration": 11,
    "start_time": "2022-09-18T08:40:34.162Z"
   },
   {
    "duration": 273,
    "start_time": "2022-09-18T08:40:34.175Z"
   },
   {
    "duration": 10,
    "start_time": "2022-09-18T08:40:34.450Z"
   },
   {
    "duration": 13,
    "start_time": "2022-09-18T08:40:34.462Z"
   },
   {
    "duration": 6,
    "start_time": "2022-09-18T08:40:34.477Z"
   },
   {
    "duration": 8,
    "start_time": "2022-09-18T08:40:34.485Z"
   },
   {
    "duration": 15,
    "start_time": "2022-09-18T08:40:34.495Z"
   },
   {
    "duration": 47,
    "start_time": "2022-09-18T08:40:34.511Z"
   },
   {
    "duration": 28,
    "start_time": "2022-09-18T08:40:34.560Z"
   },
   {
    "duration": 5,
    "start_time": "2022-09-18T08:40:34.590Z"
   },
   {
    "duration": 12,
    "start_time": "2022-09-18T08:40:34.596Z"
   },
   {
    "duration": 11,
    "start_time": "2022-09-18T08:40:34.610Z"
   },
   {
    "duration": 7,
    "start_time": "2022-09-18T08:40:34.622Z"
   },
   {
    "duration": 3,
    "start_time": "2022-09-18T08:40:34.647Z"
   },
   {
    "duration": 6,
    "start_time": "2022-09-18T08:40:34.651Z"
   },
   {
    "duration": 10,
    "start_time": "2022-09-18T08:40:34.658Z"
   },
   {
    "duration": 23,
    "start_time": "2022-09-18T08:40:34.669Z"
   },
   {
    "duration": 8,
    "start_time": "2022-09-18T08:40:34.694Z"
   },
   {
    "duration": 47,
    "start_time": "2022-09-18T08:40:34.703Z"
   },
   {
    "duration": 12,
    "start_time": "2022-09-18T08:40:34.752Z"
   },
   {
    "duration": 10,
    "start_time": "2022-09-18T08:40:34.766Z"
   },
   {
    "duration": 24,
    "start_time": "2022-09-18T08:40:34.782Z"
   },
   {
    "duration": 8,
    "start_time": "2022-09-18T08:40:34.808Z"
   },
   {
    "duration": 33,
    "start_time": "2022-09-18T08:40:34.818Z"
   },
   {
    "duration": 19,
    "start_time": "2022-09-18T08:40:34.853Z"
   },
   {
    "duration": 9,
    "start_time": "2022-09-18T08:40:34.873Z"
   },
   {
    "duration": 13,
    "start_time": "2022-09-18T08:40:34.883Z"
   },
   {
    "duration": 4,
    "start_time": "2022-09-18T08:40:34.897Z"
   },
   {
    "duration": 6,
    "start_time": "2022-09-18T08:40:34.902Z"
   },
   {
    "duration": 40,
    "start_time": "2022-09-18T08:40:34.910Z"
   },
   {
    "duration": 4,
    "start_time": "2022-09-18T08:40:34.952Z"
   },
   {
    "duration": 9,
    "start_time": "2022-09-18T08:40:34.958Z"
   },
   {
    "duration": 5,
    "start_time": "2022-09-18T08:40:34.969Z"
   },
   {
    "duration": 26,
    "start_time": "2022-09-18T08:40:34.975Z"
   },
   {
    "duration": 5,
    "start_time": "2022-09-18T08:40:35.003Z"
   },
   {
    "duration": 41,
    "start_time": "2022-09-18T08:40:35.009Z"
   },
   {
    "duration": 5,
    "start_time": "2022-09-18T08:40:35.052Z"
   },
   {
    "duration": 303,
    "start_time": "2022-09-18T08:40:35.058Z"
   },
   {
    "duration": 288,
    "start_time": "2022-09-18T08:40:35.362Z"
   },
   {
    "duration": 9,
    "start_time": "2022-09-18T08:40:35.651Z"
   },
   {
    "duration": 416,
    "start_time": "2022-09-18T08:40:35.661Z"
   },
   {
    "duration": 362,
    "start_time": "2022-09-18T08:40:36.079Z"
   },
   {
    "duration": 307,
    "start_time": "2022-09-18T08:40:36.443Z"
   },
   {
    "duration": 14,
    "start_time": "2022-09-18T08:40:36.752Z"
   },
   {
    "duration": 9,
    "start_time": "2022-09-18T08:40:36.768Z"
   },
   {
    "duration": 5,
    "start_time": "2022-09-18T08:40:36.779Z"
   },
   {
    "duration": 315,
    "start_time": "2022-09-18T08:40:36.785Z"
   },
   {
    "duration": 370,
    "start_time": "2022-09-18T08:40:37.102Z"
   },
   {
    "duration": 283,
    "start_time": "2022-09-18T08:40:37.474Z"
   },
   {
    "duration": 298,
    "start_time": "2022-09-18T08:40:37.759Z"
   },
   {
    "duration": 8,
    "start_time": "2022-09-18T08:40:38.058Z"
   },
   {
    "duration": 5,
    "start_time": "2022-09-18T08:40:38.067Z"
   },
   {
    "duration": 303,
    "start_time": "2022-09-18T08:40:38.074Z"
   },
   {
    "duration": 364,
    "start_time": "2022-09-18T08:40:38.379Z"
   },
   {
    "duration": 328,
    "start_time": "2022-09-18T08:40:38.747Z"
   },
   {
    "duration": 3,
    "start_time": "2022-09-18T08:40:39.077Z"
   },
   {
    "duration": 13,
    "start_time": "2022-09-18T08:40:39.081Z"
   },
   {
    "duration": 3,
    "start_time": "2022-09-18T08:40:39.096Z"
   },
   {
    "duration": 312,
    "start_time": "2022-09-18T08:40:39.100Z"
   },
   {
    "duration": 293,
    "start_time": "2022-09-18T08:40:39.414Z"
   },
   {
    "duration": 381,
    "start_time": "2022-09-18T08:40:39.708Z"
   },
   {
    "duration": 4,
    "start_time": "2022-09-18T08:40:40.090Z"
   },
   {
    "duration": 18,
    "start_time": "2022-09-18T08:40:40.095Z"
   },
   {
    "duration": 7,
    "start_time": "2022-09-18T08:40:40.114Z"
   },
   {
    "duration": 289,
    "start_time": "2022-09-18T08:40:40.122Z"
   },
   {
    "duration": 284,
    "start_time": "2022-09-18T08:40:40.413Z"
   },
   {
    "duration": 277,
    "start_time": "2022-09-18T08:40:40.698Z"
   },
   {
    "duration": 7,
    "start_time": "2022-09-18T08:40:40.977Z"
   },
   {
    "duration": 362,
    "start_time": "2022-09-18T08:40:40.985Z"
   },
   {
    "duration": 30,
    "start_time": "2022-09-18T08:40:41.348Z"
   },
   {
    "duration": 69,
    "start_time": "2022-09-18T08:40:41.381Z"
   },
   {
    "duration": 7,
    "start_time": "2022-09-18T08:40:41.452Z"
   },
   {
    "duration": 334,
    "start_time": "2022-09-18T08:40:41.461Z"
   },
   {
    "duration": 277,
    "start_time": "2022-09-18T08:40:41.797Z"
   },
   {
    "duration": 12,
    "start_time": "2022-09-18T08:40:42.076Z"
   },
   {
    "duration": 10,
    "start_time": "2022-09-18T08:40:42.094Z"
   },
   {
    "duration": 7,
    "start_time": "2022-09-18T08:40:42.106Z"
   },
   {
    "duration": 12,
    "start_time": "2022-09-18T08:40:42.114Z"
   },
   {
    "duration": 22,
    "start_time": "2022-09-18T08:40:42.128Z"
   },
   {
    "duration": 4,
    "start_time": "2022-09-18T08:40:42.152Z"
   },
   {
    "duration": 193,
    "start_time": "2022-09-18T08:40:42.158Z"
   },
   {
    "duration": 4,
    "start_time": "2022-09-18T08:40:42.353Z"
   },
   {
    "duration": 24,
    "start_time": "2022-09-18T08:40:42.359Z"
   },
   {
    "duration": 114,
    "start_time": "2022-09-18T08:40:42.385Z"
   },
   {
    "duration": 132,
    "start_time": "2022-09-18T08:40:42.501Z"
   },
   {
    "duration": 15,
    "start_time": "2022-09-18T08:40:42.635Z"
   },
   {
    "duration": 358,
    "start_time": "2022-09-18T08:40:42.652Z"
   },
   {
    "duration": 116,
    "start_time": "2022-09-18T08:40:43.012Z"
   },
   {
    "duration": 9,
    "start_time": "2022-09-18T08:40:43.130Z"
   },
   {
    "duration": 230,
    "start_time": "2022-09-18T08:40:43.147Z"
   },
   {
    "duration": 128,
    "start_time": "2022-09-18T08:40:43.378Z"
   },
   {
    "duration": 8,
    "start_time": "2022-09-18T08:40:43.508Z"
   },
   {
    "duration": 199,
    "start_time": "2022-09-18T08:40:43.518Z"
   },
   {
    "duration": 4,
    "start_time": "2022-09-18T08:40:43.719Z"
   },
   {
    "duration": 122,
    "start_time": "2022-09-18T08:40:43.725Z"
   },
   {
    "duration": 9,
    "start_time": "2022-09-18T08:40:43.848Z"
   },
   {
    "duration": 208,
    "start_time": "2022-09-18T08:40:43.858Z"
   },
   {
    "duration": 8,
    "start_time": "2022-09-18T08:40:44.067Z"
   },
   {
    "duration": 165,
    "start_time": "2022-09-18T08:40:44.077Z"
   },
   {
    "duration": 14,
    "start_time": "2022-09-18T08:40:44.243Z"
   },
   {
    "duration": 274,
    "start_time": "2022-09-18T08:40:44.259Z"
   },
   {
    "duration": 123,
    "start_time": "2022-09-18T08:40:44.535Z"
   },
   {
    "duration": 9,
    "start_time": "2022-09-18T08:40:44.660Z"
   },
   {
    "duration": 178,
    "start_time": "2022-09-18T08:40:44.671Z"
   },
   {
    "duration": 122,
    "start_time": "2022-09-18T08:40:44.851Z"
   },
   {
    "duration": 10,
    "start_time": "2022-09-18T08:40:44.975Z"
   },
   {
    "duration": 192,
    "start_time": "2022-09-18T08:40:44.986Z"
   },
   {
    "duration": 11,
    "start_time": "2022-09-18T08:40:45.180Z"
   },
   {
    "duration": 235,
    "start_time": "2022-09-18T08:40:45.193Z"
   },
   {
    "duration": 17,
    "start_time": "2022-09-18T08:40:45.430Z"
   },
   {
    "duration": 170,
    "start_time": "2022-09-18T08:40:45.448Z"
   },
   {
    "duration": 10,
    "start_time": "2022-09-18T08:40:45.619Z"
   },
   {
    "duration": 173,
    "start_time": "2022-09-18T08:40:45.630Z"
   },
   {
    "duration": 138,
    "start_time": "2022-09-18T08:40:45.804Z"
   },
   {
    "duration": 170,
    "start_time": "2022-09-18T08:40:45.947Z"
   },
   {
    "duration": 43,
    "start_time": "2022-09-18T08:40:46.119Z"
   },
   {
    "duration": 170,
    "start_time": "2022-09-18T08:40:46.165Z"
   },
   {
    "duration": 12,
    "start_time": "2022-09-18T08:40:46.337Z"
   },
   {
    "duration": 18,
    "start_time": "2022-09-18T08:40:46.350Z"
   },
   {
    "duration": 408,
    "start_time": "2022-09-18T08:40:46.370Z"
   },
   {
    "duration": 211,
    "start_time": "2022-09-18T08:40:46.779Z"
   },
   {
    "duration": 157,
    "start_time": "2022-09-18T08:40:46.991Z"
   },
   {
    "duration": 167,
    "start_time": "2022-09-18T08:40:47.150Z"
   },
   {
    "duration": 187,
    "start_time": "2022-09-18T08:40:47.319Z"
   },
   {
    "duration": 167,
    "start_time": "2022-09-18T08:40:47.508Z"
   },
   {
    "duration": 157,
    "start_time": "2022-09-18T08:40:47.676Z"
   },
   {
    "duration": 14,
    "start_time": "2022-09-18T08:40:47.834Z"
   },
   {
    "duration": 6,
    "start_time": "2022-09-18T08:40:47.849Z"
   },
   {
    "duration": 25,
    "start_time": "2022-09-18T08:40:47.857Z"
   },
   {
    "duration": 7,
    "start_time": "2022-09-18T08:40:47.884Z"
   },
   {
    "duration": 224,
    "start_time": "2022-09-18T08:40:47.893Z"
   },
   {
    "duration": 192,
    "start_time": "2022-09-18T08:40:48.119Z"
   },
   {
    "duration": 8,
    "start_time": "2022-09-18T08:40:48.313Z"
   },
   {
    "duration": 12,
    "start_time": "2022-09-18T08:40:48.323Z"
   },
   {
    "duration": 7,
    "start_time": "2022-09-18T08:40:48.347Z"
   },
   {
    "duration": 9,
    "start_time": "2022-09-18T08:40:48.355Z"
   },
   {
    "duration": 12,
    "start_time": "2022-09-18T08:40:48.365Z"
   },
   {
    "duration": 8,
    "start_time": "2022-09-18T08:40:48.378Z"
   },
   {
    "duration": 106,
    "start_time": "2022-09-18T08:40:48.388Z"
   },
   {
    "duration": 7,
    "start_time": "2022-09-18T08:40:48.495Z"
   },
   {
    "duration": 7,
    "start_time": "2022-09-18T08:40:48.504Z"
   },
   {
    "duration": 241,
    "start_time": "2022-09-18T08:40:48.512Z"
   },
   {
    "duration": 10,
    "start_time": "2022-09-18T08:40:48.754Z"
   },
   {
    "duration": 490,
    "start_time": "2022-09-18T08:40:48.766Z"
   },
   {
    "duration": 3015,
    "start_time": "2022-09-18T08:40:49.258Z"
   },
   {
    "duration": 398,
    "start_time": "2022-09-18T08:40:52.275Z"
   },
   {
    "duration": 114,
    "start_time": "2022-09-18T08:40:52.676Z"
   },
   {
    "duration": 100,
    "start_time": "2022-09-18T08:40:52.792Z"
   },
   {
    "duration": 298,
    "start_time": "2022-09-18T08:41:23.468Z"
   },
   {
    "duration": 652,
    "start_time": "2022-09-18T08:41:31.150Z"
   },
   {
    "duration": 93,
    "start_time": "2022-09-18T08:41:31.804Z"
   },
   {
    "duration": 23,
    "start_time": "2022-09-18T08:41:31.899Z"
   },
   {
    "duration": 60,
    "start_time": "2022-09-18T08:41:31.924Z"
   },
   {
    "duration": 2058,
    "start_time": "2022-09-18T08:41:31.988Z"
   },
   {
    "duration": 11,
    "start_time": "2022-09-18T08:41:34.048Z"
   },
   {
    "duration": 16,
    "start_time": "2022-09-18T08:41:34.060Z"
   },
   {
    "duration": 235,
    "start_time": "2022-09-18T08:41:34.077Z"
   },
   {
    "duration": 11,
    "start_time": "2022-09-18T08:41:34.314Z"
   },
   {
    "duration": 26,
    "start_time": "2022-09-18T08:41:34.329Z"
   },
   {
    "duration": 4,
    "start_time": "2022-09-18T08:41:34.357Z"
   },
   {
    "duration": 14,
    "start_time": "2022-09-18T08:41:34.364Z"
   },
   {
    "duration": 15,
    "start_time": "2022-09-18T08:41:34.380Z"
   },
   {
    "duration": 49,
    "start_time": "2022-09-18T08:41:34.398Z"
   },
   {
    "duration": 26,
    "start_time": "2022-09-18T08:41:34.449Z"
   },
   {
    "duration": 8,
    "start_time": "2022-09-18T08:41:34.477Z"
   },
   {
    "duration": 11,
    "start_time": "2022-09-18T08:41:34.487Z"
   },
   {
    "duration": 8,
    "start_time": "2022-09-18T08:41:34.500Z"
   },
   {
    "duration": 10,
    "start_time": "2022-09-18T08:41:34.509Z"
   },
   {
    "duration": 26,
    "start_time": "2022-09-18T08:41:34.520Z"
   },
   {
    "duration": 6,
    "start_time": "2022-09-18T08:41:34.548Z"
   },
   {
    "duration": 22,
    "start_time": "2022-09-18T08:41:34.555Z"
   },
   {
    "duration": 23,
    "start_time": "2022-09-18T08:41:34.579Z"
   },
   {
    "duration": 6,
    "start_time": "2022-09-18T08:41:34.604Z"
   },
   {
    "duration": 6,
    "start_time": "2022-09-18T08:41:34.612Z"
   },
   {
    "duration": 27,
    "start_time": "2022-09-18T08:41:34.620Z"
   },
   {
    "duration": 4,
    "start_time": "2022-09-18T08:41:34.649Z"
   },
   {
    "duration": 14,
    "start_time": "2022-09-18T08:41:34.658Z"
   },
   {
    "duration": 5,
    "start_time": "2022-09-18T08:41:34.674Z"
   },
   {
    "duration": 20,
    "start_time": "2022-09-18T08:41:34.680Z"
   },
   {
    "duration": 45,
    "start_time": "2022-09-18T08:41:34.702Z"
   },
   {
    "duration": 35,
    "start_time": "2022-09-18T08:41:34.749Z"
   },
   {
    "duration": 23,
    "start_time": "2022-09-18T08:41:34.786Z"
   },
   {
    "duration": 8,
    "start_time": "2022-09-18T08:41:34.810Z"
   },
   {
    "duration": 12,
    "start_time": "2022-09-18T08:41:34.819Z"
   },
   {
    "duration": 23,
    "start_time": "2022-09-18T08:41:34.832Z"
   },
   {
    "duration": 4,
    "start_time": "2022-09-18T08:41:34.857Z"
   },
   {
    "duration": 11,
    "start_time": "2022-09-18T08:41:34.862Z"
   },
   {
    "duration": 10,
    "start_time": "2022-09-18T08:41:34.875Z"
   },
   {
    "duration": 28,
    "start_time": "2022-09-18T08:41:34.886Z"
   },
   {
    "duration": 5,
    "start_time": "2022-09-18T08:41:34.915Z"
   },
   {
    "duration": 8,
    "start_time": "2022-09-18T08:41:34.947Z"
   },
   {
    "duration": 7,
    "start_time": "2022-09-18T08:41:34.957Z"
   },
   {
    "duration": 301,
    "start_time": "2022-09-18T08:41:34.965Z"
   },
   {
    "duration": 333,
    "start_time": "2022-09-18T08:41:35.268Z"
   },
   {
    "duration": 10,
    "start_time": "2022-09-18T08:41:35.602Z"
   },
   {
    "duration": 410,
    "start_time": "2022-09-18T08:41:35.614Z"
   },
   {
    "duration": 396,
    "start_time": "2022-09-18T08:41:36.025Z"
   },
   {
    "duration": 310,
    "start_time": "2022-09-18T08:41:36.424Z"
   },
   {
    "duration": 18,
    "start_time": "2022-09-18T08:41:36.735Z"
   },
   {
    "duration": 7,
    "start_time": "2022-09-18T08:41:36.754Z"
   },
   {
    "duration": 4,
    "start_time": "2022-09-18T08:41:36.763Z"
   },
   {
    "duration": 304,
    "start_time": "2022-09-18T08:41:36.769Z"
   },
   {
    "duration": 361,
    "start_time": "2022-09-18T08:41:37.074Z"
   },
   {
    "duration": 280,
    "start_time": "2022-09-18T08:41:37.436Z"
   },
   {
    "duration": 298,
    "start_time": "2022-09-18T08:41:37.718Z"
   },
   {
    "duration": 9,
    "start_time": "2022-09-18T08:41:38.018Z"
   },
   {
    "duration": 5,
    "start_time": "2022-09-18T08:41:38.028Z"
   },
   {
    "duration": 287,
    "start_time": "2022-09-18T08:41:38.034Z"
   },
   {
    "duration": 362,
    "start_time": "2022-09-18T08:41:38.322Z"
   },
   {
    "duration": 305,
    "start_time": "2022-09-18T08:41:38.686Z"
   },
   {
    "duration": 4,
    "start_time": "2022-09-18T08:41:38.994Z"
   },
   {
    "duration": 14,
    "start_time": "2022-09-18T08:41:39.001Z"
   },
   {
    "duration": 4,
    "start_time": "2022-09-18T08:41:39.017Z"
   },
   {
    "duration": 318,
    "start_time": "2022-09-18T08:41:39.022Z"
   },
   {
    "duration": 304,
    "start_time": "2022-09-18T08:41:39.349Z"
   },
   {
    "duration": 375,
    "start_time": "2022-09-18T08:41:39.655Z"
   },
   {
    "duration": 4,
    "start_time": "2022-09-18T08:41:40.031Z"
   },
   {
    "duration": 21,
    "start_time": "2022-09-18T08:41:40.036Z"
   },
   {
    "duration": 5,
    "start_time": "2022-09-18T08:41:40.059Z"
   },
   {
    "duration": 293,
    "start_time": "2022-09-18T08:41:40.066Z"
   },
   {
    "duration": 271,
    "start_time": "2022-09-18T08:41:40.360Z"
   },
   {
    "duration": 270,
    "start_time": "2022-09-18T08:41:40.633Z"
   },
   {
    "duration": 8,
    "start_time": "2022-09-18T08:41:40.905Z"
   },
   {
    "duration": 370,
    "start_time": "2022-09-18T08:41:40.914Z"
   },
   {
    "duration": 23,
    "start_time": "2022-09-18T08:41:41.286Z"
   },
   {
    "duration": 65,
    "start_time": "2022-09-18T08:41:41.310Z"
   },
   {
    "duration": 10,
    "start_time": "2022-09-18T08:41:41.377Z"
   },
   {
    "duration": 340,
    "start_time": "2022-09-18T08:41:41.389Z"
   },
   {
    "duration": 277,
    "start_time": "2022-09-18T08:41:41.731Z"
   },
   {
    "duration": 13,
    "start_time": "2022-09-18T08:41:42.010Z"
   },
   {
    "duration": 21,
    "start_time": "2022-09-18T08:41:42.030Z"
   },
   {
    "duration": 5,
    "start_time": "2022-09-18T08:41:42.053Z"
   },
   {
    "duration": 11,
    "start_time": "2022-09-18T08:41:42.059Z"
   },
   {
    "duration": 5,
    "start_time": "2022-09-18T08:41:42.071Z"
   },
   {
    "duration": 3,
    "start_time": "2022-09-18T08:41:42.077Z"
   },
   {
    "duration": 213,
    "start_time": "2022-09-18T08:41:42.082Z"
   },
   {
    "duration": 5,
    "start_time": "2022-09-18T08:41:42.296Z"
   },
   {
    "duration": 25,
    "start_time": "2022-09-18T08:41:42.302Z"
   },
   {
    "duration": 110,
    "start_time": "2022-09-18T08:41:42.329Z"
   },
   {
    "duration": 123,
    "start_time": "2022-09-18T08:41:42.441Z"
   },
   {
    "duration": 12,
    "start_time": "2022-09-18T08:41:42.566Z"
   },
   {
    "duration": 357,
    "start_time": "2022-09-18T08:41:42.581Z"
   },
   {
    "duration": 111,
    "start_time": "2022-09-18T08:41:42.940Z"
   },
   {
    "duration": 8,
    "start_time": "2022-09-18T08:41:43.053Z"
   },
   {
    "duration": 236,
    "start_time": "2022-09-18T08:41:43.063Z"
   },
   {
    "duration": 120,
    "start_time": "2022-09-18T08:41:43.301Z"
   },
   {
    "duration": 8,
    "start_time": "2022-09-18T08:41:43.423Z"
   },
   {
    "duration": 183,
    "start_time": "2022-09-18T08:41:43.433Z"
   },
   {
    "duration": 4,
    "start_time": "2022-09-18T08:41:43.617Z"
   },
   {
    "duration": 107,
    "start_time": "2022-09-18T08:41:43.622Z"
   },
   {
    "duration": 16,
    "start_time": "2022-09-18T08:41:43.731Z"
   },
   {
    "duration": 185,
    "start_time": "2022-09-18T08:41:43.749Z"
   },
   {
    "duration": 17,
    "start_time": "2022-09-18T08:41:43.936Z"
   },
   {
    "duration": 144,
    "start_time": "2022-09-18T08:41:43.954Z"
   },
   {
    "duration": 8,
    "start_time": "2022-09-18T08:41:44.100Z"
   },
   {
    "duration": 233,
    "start_time": "2022-09-18T08:41:44.109Z"
   },
   {
    "duration": 102,
    "start_time": "2022-09-18T08:41:44.346Z"
   },
   {
    "duration": 9,
    "start_time": "2022-09-18T08:41:44.450Z"
   },
   {
    "duration": 150,
    "start_time": "2022-09-18T08:41:44.460Z"
   },
   {
    "duration": 114,
    "start_time": "2022-09-18T08:41:44.611Z"
   },
   {
    "duration": 24,
    "start_time": "2022-09-18T08:41:44.727Z"
   },
   {
    "duration": 168,
    "start_time": "2022-09-18T08:41:44.753Z"
   },
   {
    "duration": 9,
    "start_time": "2022-09-18T08:41:44.923Z"
   },
   {
    "duration": 159,
    "start_time": "2022-09-18T08:41:44.946Z"
   },
   {
    "duration": 9,
    "start_time": "2022-09-18T08:41:45.107Z"
   },
   {
    "duration": 183,
    "start_time": "2022-09-18T08:41:45.117Z"
   },
   {
    "duration": 9,
    "start_time": "2022-09-18T08:41:45.302Z"
   },
   {
    "duration": 160,
    "start_time": "2022-09-18T08:41:45.313Z"
   },
   {
    "duration": 139,
    "start_time": "2022-09-18T08:41:45.476Z"
   },
   {
    "duration": 155,
    "start_time": "2022-09-18T08:41:45.616Z"
   },
   {
    "duration": 40,
    "start_time": "2022-09-18T08:41:45.772Z"
   },
   {
    "duration": 125,
    "start_time": "2022-09-18T08:41:45.814Z"
   },
   {
    "duration": 9,
    "start_time": "2022-09-18T08:41:45.947Z"
   },
   {
    "duration": 32,
    "start_time": "2022-09-18T08:41:45.958Z"
   },
   {
    "duration": 394,
    "start_time": "2022-09-18T08:41:45.992Z"
   },
   {
    "duration": 217,
    "start_time": "2022-09-18T08:41:46.388Z"
   },
   {
    "duration": 153,
    "start_time": "2022-09-18T08:41:46.606Z"
   },
   {
    "duration": 148,
    "start_time": "2022-09-18T08:41:46.761Z"
   },
   {
    "duration": 159,
    "start_time": "2022-09-18T08:41:46.910Z"
   },
   {
    "duration": 156,
    "start_time": "2022-09-18T08:41:47.071Z"
   },
   {
    "duration": 183,
    "start_time": "2022-09-18T08:41:47.229Z"
   },
   {
    "duration": 12,
    "start_time": "2022-09-18T08:41:47.414Z"
   },
   {
    "duration": 20,
    "start_time": "2022-09-18T08:41:47.428Z"
   },
   {
    "duration": 15,
    "start_time": "2022-09-18T08:41:47.450Z"
   },
   {
    "duration": 12,
    "start_time": "2022-09-18T08:41:47.467Z"
   },
   {
    "duration": 231,
    "start_time": "2022-09-18T08:41:47.480Z"
   },
   {
    "duration": 206,
    "start_time": "2022-09-18T08:41:47.713Z"
   },
   {
    "duration": 10,
    "start_time": "2022-09-18T08:41:47.921Z"
   },
   {
    "duration": 16,
    "start_time": "2022-09-18T08:41:47.932Z"
   },
   {
    "duration": 24,
    "start_time": "2022-09-18T08:41:47.950Z"
   },
   {
    "duration": 8,
    "start_time": "2022-09-18T08:41:47.976Z"
   },
   {
    "duration": 12,
    "start_time": "2022-09-18T08:41:47.986Z"
   },
   {
    "duration": 9,
    "start_time": "2022-09-18T08:41:47.999Z"
   },
   {
    "duration": 114,
    "start_time": "2022-09-18T08:41:48.010Z"
   },
   {
    "duration": 7,
    "start_time": "2022-09-18T08:41:48.126Z"
   },
   {
    "duration": 17,
    "start_time": "2022-09-18T08:41:48.135Z"
   },
   {
    "duration": 228,
    "start_time": "2022-09-18T08:41:48.154Z"
   },
   {
    "duration": 8,
    "start_time": "2022-09-18T08:41:48.384Z"
   },
   {
    "duration": 475,
    "start_time": "2022-09-18T08:41:48.393Z"
   },
   {
    "duration": 2908,
    "start_time": "2022-09-18T08:41:48.870Z"
   },
   {
    "duration": 381,
    "start_time": "2022-09-18T08:41:51.781Z"
   },
   {
    "duration": 119,
    "start_time": "2022-09-18T08:41:52.163Z"
   },
   {
    "duration": 94,
    "start_time": "2022-09-18T08:41:52.284Z"
   },
   {
    "duration": 9,
    "start_time": "2022-09-18T08:48:53.690Z"
   },
   {
    "duration": 4,
    "start_time": "2022-09-18T08:48:55.026Z"
   },
   {
    "duration": 635,
    "start_time": "2022-09-18T08:49:13.285Z"
   },
   {
    "duration": 96,
    "start_time": "2022-09-18T08:49:13.921Z"
   },
   {
    "duration": 39,
    "start_time": "2022-09-18T08:49:14.019Z"
   },
   {
    "duration": 16,
    "start_time": "2022-09-18T08:49:14.060Z"
   },
   {
    "duration": 2041,
    "start_time": "2022-09-18T08:49:14.078Z"
   },
   {
    "duration": 10,
    "start_time": "2022-09-18T08:49:16.120Z"
   },
   {
    "duration": 8,
    "start_time": "2022-09-18T08:49:16.131Z"
   },
   {
    "duration": 322,
    "start_time": "2022-09-18T08:49:16.141Z"
   },
   {
    "duration": 12,
    "start_time": "2022-09-18T08:49:16.465Z"
   },
   {
    "duration": 13,
    "start_time": "2022-09-18T08:49:16.480Z"
   },
   {
    "duration": 17,
    "start_time": "2022-09-18T08:49:16.496Z"
   },
   {
    "duration": 22,
    "start_time": "2022-09-18T08:49:16.515Z"
   },
   {
    "duration": 25,
    "start_time": "2022-09-18T08:49:16.539Z"
   },
   {
    "duration": 27,
    "start_time": "2022-09-18T08:49:16.566Z"
   },
   {
    "duration": 30,
    "start_time": "2022-09-18T08:49:16.595Z"
   },
   {
    "duration": 21,
    "start_time": "2022-09-18T08:49:16.627Z"
   },
   {
    "duration": 8,
    "start_time": "2022-09-18T08:49:16.649Z"
   },
   {
    "duration": 9,
    "start_time": "2022-09-18T08:49:16.658Z"
   },
   {
    "duration": 10,
    "start_time": "2022-09-18T08:49:16.669Z"
   },
   {
    "duration": 4,
    "start_time": "2022-09-18T08:49:16.681Z"
   },
   {
    "duration": 8,
    "start_time": "2022-09-18T08:49:16.688Z"
   },
   {
    "duration": 9,
    "start_time": "2022-09-18T08:49:16.698Z"
   },
   {
    "duration": 45,
    "start_time": "2022-09-18T08:49:16.709Z"
   },
   {
    "duration": 7,
    "start_time": "2022-09-18T08:49:16.756Z"
   },
   {
    "duration": 6,
    "start_time": "2022-09-18T08:49:16.765Z"
   },
   {
    "duration": 4,
    "start_time": "2022-09-18T08:49:16.773Z"
   },
   {
    "duration": 9,
    "start_time": "2022-09-18T08:49:16.779Z"
   },
   {
    "duration": 23,
    "start_time": "2022-09-18T08:49:16.795Z"
   },
   {
    "duration": 7,
    "start_time": "2022-09-18T08:49:16.820Z"
   },
   {
    "duration": 22,
    "start_time": "2022-09-18T08:49:16.847Z"
   },
   {
    "duration": 22,
    "start_time": "2022-09-18T08:49:16.871Z"
   },
   {
    "duration": 7,
    "start_time": "2022-09-18T08:49:16.895Z"
   },
   {
    "duration": 17,
    "start_time": "2022-09-18T08:49:16.903Z"
   },
   {
    "duration": 3,
    "start_time": "2022-09-18T08:49:16.948Z"
   },
   {
    "duration": 8,
    "start_time": "2022-09-18T08:49:16.952Z"
   },
   {
    "duration": 24,
    "start_time": "2022-09-18T08:49:16.962Z"
   },
   {
    "duration": 4,
    "start_time": "2022-09-18T08:49:16.987Z"
   },
   {
    "duration": 15,
    "start_time": "2022-09-18T08:49:16.992Z"
   },
   {
    "duration": 9,
    "start_time": "2022-09-18T08:49:17.009Z"
   },
   {
    "duration": 38,
    "start_time": "2022-09-18T08:49:17.020Z"
   },
   {
    "duration": 5,
    "start_time": "2022-09-18T08:49:17.060Z"
   },
   {
    "duration": 14,
    "start_time": "2022-09-18T08:49:17.066Z"
   },
   {
    "duration": 6,
    "start_time": "2022-09-18T08:49:17.081Z"
   },
   {
    "duration": 333,
    "start_time": "2022-09-18T08:49:17.088Z"
   },
   {
    "duration": 299,
    "start_time": "2022-09-18T08:49:17.423Z"
   },
   {
    "duration": 9,
    "start_time": "2022-09-18T08:49:17.724Z"
   },
   {
    "duration": 430,
    "start_time": "2022-09-18T08:49:17.735Z"
   },
   {
    "duration": 311,
    "start_time": "2022-09-18T08:49:18.166Z"
   },
   {
    "duration": 302,
    "start_time": "2022-09-18T08:49:18.479Z"
   },
   {
    "duration": 13,
    "start_time": "2022-09-18T08:49:18.784Z"
   },
   {
    "duration": 9,
    "start_time": "2022-09-18T08:49:18.799Z"
   },
   {
    "duration": 6,
    "start_time": "2022-09-18T08:49:18.809Z"
   },
   {
    "duration": 324,
    "start_time": "2022-09-18T08:49:18.816Z"
   },
   {
    "duration": 395,
    "start_time": "2022-09-18T08:49:19.146Z"
   },
   {
    "duration": 302,
    "start_time": "2022-09-18T08:49:19.547Z"
   },
   {
    "duration": 284,
    "start_time": "2022-09-18T08:49:19.850Z"
   },
   {
    "duration": 10,
    "start_time": "2022-09-18T08:49:20.136Z"
   },
   {
    "duration": 9,
    "start_time": "2022-09-18T08:49:20.149Z"
   },
   {
    "duration": 309,
    "start_time": "2022-09-18T08:49:20.159Z"
   },
   {
    "duration": 370,
    "start_time": "2022-09-18T08:49:20.470Z"
   },
   {
    "duration": 310,
    "start_time": "2022-09-18T08:49:20.841Z"
   },
   {
    "duration": 5,
    "start_time": "2022-09-18T08:49:21.153Z"
   },
   {
    "duration": 19,
    "start_time": "2022-09-18T08:49:21.161Z"
   },
   {
    "duration": 16,
    "start_time": "2022-09-18T08:49:21.182Z"
   },
   {
    "duration": 347,
    "start_time": "2022-09-18T08:49:21.199Z"
   },
   {
    "duration": 301,
    "start_time": "2022-09-18T08:49:21.547Z"
   },
   {
    "duration": 376,
    "start_time": "2022-09-18T08:49:21.849Z"
   },
   {
    "duration": 4,
    "start_time": "2022-09-18T08:49:22.227Z"
   },
   {
    "duration": 17,
    "start_time": "2022-09-18T08:49:22.232Z"
   },
   {
    "duration": 9,
    "start_time": "2022-09-18T08:49:22.251Z"
   },
   {
    "duration": 292,
    "start_time": "2022-09-18T08:49:22.262Z"
   },
   {
    "duration": 295,
    "start_time": "2022-09-18T08:49:22.555Z"
   },
   {
    "duration": 276,
    "start_time": "2022-09-18T08:49:22.852Z"
   },
   {
    "duration": 8,
    "start_time": "2022-09-18T08:49:23.129Z"
   },
   {
    "duration": 308,
    "start_time": "2022-09-18T08:49:23.146Z"
   },
   {
    "duration": 24,
    "start_time": "2022-09-18T08:49:23.455Z"
   },
   {
    "duration": 156,
    "start_time": "2022-09-18T08:49:23.481Z"
   },
   {
    "duration": 13,
    "start_time": "2022-09-18T08:49:23.639Z"
   },
   {
    "duration": 282,
    "start_time": "2022-09-18T08:49:23.654Z"
   },
   {
    "duration": 281,
    "start_time": "2022-09-18T08:49:23.938Z"
   },
   {
    "duration": 14,
    "start_time": "2022-09-18T08:49:24.220Z"
   },
   {
    "duration": 12,
    "start_time": "2022-09-18T08:49:24.250Z"
   },
   {
    "duration": 5,
    "start_time": "2022-09-18T08:49:24.263Z"
   },
   {
    "duration": 6,
    "start_time": "2022-09-18T08:49:24.270Z"
   },
   {
    "duration": 14,
    "start_time": "2022-09-18T08:49:24.278Z"
   },
   {
    "duration": 10,
    "start_time": "2022-09-18T08:49:24.294Z"
   },
   {
    "duration": 224,
    "start_time": "2022-09-18T08:49:24.306Z"
   },
   {
    "duration": 4,
    "start_time": "2022-09-18T08:49:24.532Z"
   },
   {
    "duration": 31,
    "start_time": "2022-09-18T08:49:24.538Z"
   },
   {
    "duration": 109,
    "start_time": "2022-09-18T08:49:24.570Z"
   },
   {
    "duration": 130,
    "start_time": "2022-09-18T08:49:24.681Z"
   },
   {
    "duration": 10,
    "start_time": "2022-09-18T08:49:24.812Z"
   },
   {
    "duration": 325,
    "start_time": "2022-09-18T08:49:24.824Z"
   },
   {
    "duration": 108,
    "start_time": "2022-09-18T08:49:25.151Z"
   },
   {
    "duration": 9,
    "start_time": "2022-09-18T08:49:25.260Z"
   },
   {
    "duration": 240,
    "start_time": "2022-09-18T08:49:25.270Z"
   },
   {
    "duration": 113,
    "start_time": "2022-09-18T08:49:25.512Z"
   },
   {
    "duration": 10,
    "start_time": "2022-09-18T08:49:25.636Z"
   },
   {
    "duration": 165,
    "start_time": "2022-09-18T08:49:25.647Z"
   },
   {
    "duration": 4,
    "start_time": "2022-09-18T08:49:25.814Z"
   },
   {
    "duration": 111,
    "start_time": "2022-09-18T08:49:25.820Z"
   },
   {
    "duration": 18,
    "start_time": "2022-09-18T08:49:25.933Z"
   },
   {
    "duration": 195,
    "start_time": "2022-09-18T08:49:25.953Z"
   },
   {
    "duration": 9,
    "start_time": "2022-09-18T08:49:26.150Z"
   },
   {
    "duration": 179,
    "start_time": "2022-09-18T08:49:26.160Z"
   },
   {
    "duration": 15,
    "start_time": "2022-09-18T08:49:26.341Z"
   },
   {
    "duration": 199,
    "start_time": "2022-09-18T08:49:26.358Z"
   },
   {
    "duration": 189,
    "start_time": "2022-09-18T08:49:26.559Z"
   },
   {
    "duration": 7,
    "start_time": "2022-09-18T08:49:26.750Z"
   },
   {
    "duration": 133,
    "start_time": "2022-09-18T08:49:26.759Z"
   },
   {
    "duration": 112,
    "start_time": "2022-09-18T08:49:26.893Z"
   },
   {
    "duration": 8,
    "start_time": "2022-09-18T08:49:27.006Z"
   },
   {
    "duration": 147,
    "start_time": "2022-09-18T08:49:27.016Z"
   },
   {
    "duration": 9,
    "start_time": "2022-09-18T08:49:27.165Z"
   },
   {
    "duration": 167,
    "start_time": "2022-09-18T08:49:27.175Z"
   },
   {
    "duration": 9,
    "start_time": "2022-09-18T08:49:27.346Z"
   },
   {
    "duration": 188,
    "start_time": "2022-09-18T08:49:27.356Z"
   },
   {
    "duration": 9,
    "start_time": "2022-09-18T08:49:27.547Z"
   },
   {
    "duration": 162,
    "start_time": "2022-09-18T08:49:27.558Z"
   },
   {
    "duration": 140,
    "start_time": "2022-09-18T08:49:27.722Z"
   },
   {
    "duration": 165,
    "start_time": "2022-09-18T08:49:27.864Z"
   },
   {
    "duration": 37,
    "start_time": "2022-09-18T08:49:28.031Z"
   },
   {
    "duration": 120,
    "start_time": "2022-09-18T08:49:28.069Z"
   },
   {
    "duration": 8,
    "start_time": "2022-09-18T08:49:28.191Z"
   },
   {
    "duration": 10,
    "start_time": "2022-09-18T08:49:28.201Z"
   },
   {
    "duration": 346,
    "start_time": "2022-09-18T08:49:28.213Z"
   },
   {
    "duration": 202,
    "start_time": "2022-09-18T08:49:28.560Z"
   },
   {
    "duration": 163,
    "start_time": "2022-09-18T08:49:28.764Z"
   },
   {
    "duration": 162,
    "start_time": "2022-09-18T08:49:28.929Z"
   },
   {
    "duration": 168,
    "start_time": "2022-09-18T08:49:29.093Z"
   },
   {
    "duration": 176,
    "start_time": "2022-09-18T08:49:29.263Z"
   },
   {
    "duration": 164,
    "start_time": "2022-09-18T08:49:29.441Z"
   },
   {
    "duration": 13,
    "start_time": "2022-09-18T08:49:29.607Z"
   },
   {
    "duration": 17,
    "start_time": "2022-09-18T08:49:29.622Z"
   },
   {
    "duration": 20,
    "start_time": "2022-09-18T08:49:29.641Z"
   },
   {
    "duration": 9,
    "start_time": "2022-09-18T08:49:29.663Z"
   },
   {
    "duration": 207,
    "start_time": "2022-09-18T08:49:29.674Z"
   },
   {
    "duration": 199,
    "start_time": "2022-09-18T08:49:29.884Z"
   },
   {
    "duration": 8,
    "start_time": "2022-09-18T08:49:30.085Z"
   },
   {
    "duration": 14,
    "start_time": "2022-09-18T08:49:30.095Z"
   },
   {
    "duration": 16,
    "start_time": "2022-09-18T08:49:30.110Z"
   },
   {
    "duration": 20,
    "start_time": "2022-09-18T08:49:30.128Z"
   },
   {
    "duration": 16,
    "start_time": "2022-09-18T08:49:30.150Z"
   },
   {
    "duration": 15,
    "start_time": "2022-09-18T08:49:30.167Z"
   },
   {
    "duration": 104,
    "start_time": "2022-09-18T08:49:30.184Z"
   },
   {
    "duration": 7,
    "start_time": "2022-09-18T08:49:30.290Z"
   },
   {
    "duration": 17,
    "start_time": "2022-09-18T08:49:30.298Z"
   },
   {
    "duration": 166,
    "start_time": "2022-09-18T08:49:30.317Z"
   },
   {
    "duration": 8,
    "start_time": "2022-09-18T08:49:30.485Z"
   },
   {
    "duration": 578,
    "start_time": "2022-09-18T08:49:30.495Z"
   },
   {
    "duration": 3780,
    "start_time": "2022-09-18T08:49:31.075Z"
   },
   {
    "duration": 427,
    "start_time": "2022-09-18T08:49:34.857Z"
   },
   {
    "duration": 115,
    "start_time": "2022-09-18T08:49:35.286Z"
   },
   {
    "duration": 90,
    "start_time": "2022-09-18T08:49:35.403Z"
   },
   {
    "duration": 7,
    "start_time": "2022-09-18T08:51:03.998Z"
   },
   {
    "duration": 4,
    "start_time": "2022-09-18T08:51:04.725Z"
   },
   {
    "duration": 10,
    "start_time": "2022-09-18T08:51:15.841Z"
   },
   {
    "duration": 10,
    "start_time": "2022-09-18T08:52:44.739Z"
   },
   {
    "duration": 15,
    "start_time": "2022-09-18T08:52:46.414Z"
   },
   {
    "duration": 4,
    "start_time": "2022-09-18T08:52:46.939Z"
   },
   {
    "duration": 666,
    "start_time": "2022-09-18T08:53:01.713Z"
   },
   {
    "duration": 96,
    "start_time": "2022-09-18T08:53:02.381Z"
   },
   {
    "duration": 24,
    "start_time": "2022-09-18T08:53:02.478Z"
   },
   {
    "duration": 14,
    "start_time": "2022-09-18T08:53:02.504Z"
   },
   {
    "duration": 1979,
    "start_time": "2022-09-18T08:53:02.519Z"
   },
   {
    "duration": 10,
    "start_time": "2022-09-18T08:53:04.500Z"
   },
   {
    "duration": 6,
    "start_time": "2022-09-18T08:53:04.511Z"
   },
   {
    "duration": 218,
    "start_time": "2022-09-18T08:53:04.518Z"
   },
   {
    "duration": 12,
    "start_time": "2022-09-18T08:53:04.738Z"
   },
   {
    "duration": 9,
    "start_time": "2022-09-18T08:53:04.753Z"
   },
   {
    "duration": 4,
    "start_time": "2022-09-18T08:53:04.764Z"
   },
   {
    "duration": 7,
    "start_time": "2022-09-18T08:53:04.769Z"
   },
   {
    "duration": 15,
    "start_time": "2022-09-18T08:53:04.777Z"
   },
   {
    "duration": 54,
    "start_time": "2022-09-18T08:53:04.793Z"
   },
   {
    "duration": 26,
    "start_time": "2022-09-18T08:53:04.848Z"
   },
   {
    "duration": 7,
    "start_time": "2022-09-18T08:53:04.876Z"
   },
   {
    "duration": 11,
    "start_time": "2022-09-18T08:53:04.884Z"
   },
   {
    "duration": 24,
    "start_time": "2022-09-18T08:53:04.896Z"
   },
   {
    "duration": 35,
    "start_time": "2022-09-18T08:53:04.921Z"
   },
   {
    "duration": 12,
    "start_time": "2022-09-18T08:53:04.957Z"
   },
   {
    "duration": 6,
    "start_time": "2022-09-18T08:53:04.971Z"
   },
   {
    "duration": 12,
    "start_time": "2022-09-18T08:53:04.978Z"
   },
   {
    "duration": 21,
    "start_time": "2022-09-18T08:53:04.992Z"
   },
   {
    "duration": 8,
    "start_time": "2022-09-18T08:53:05.015Z"
   },
   {
    "duration": 9,
    "start_time": "2022-09-18T08:53:05.025Z"
   },
   {
    "duration": 5,
    "start_time": "2022-09-18T08:53:05.035Z"
   },
   {
    "duration": 8,
    "start_time": "2022-09-18T08:53:05.041Z"
   },
   {
    "duration": 13,
    "start_time": "2022-09-18T08:53:05.053Z"
   },
   {
    "duration": 5,
    "start_time": "2022-09-18T08:53:05.068Z"
   },
   {
    "duration": 20,
    "start_time": "2022-09-18T08:53:05.074Z"
   },
   {
    "duration": 15,
    "start_time": "2022-09-18T08:53:05.095Z"
   },
   {
    "duration": 37,
    "start_time": "2022-09-18T08:53:05.111Z"
   },
   {
    "duration": 9,
    "start_time": "2022-09-18T08:53:05.149Z"
   },
   {
    "duration": 3,
    "start_time": "2022-09-18T08:53:05.160Z"
   },
   {
    "duration": 6,
    "start_time": "2022-09-18T08:53:05.165Z"
   },
   {
    "duration": 20,
    "start_time": "2022-09-18T08:53:05.172Z"
   },
   {
    "duration": 3,
    "start_time": "2022-09-18T08:53:05.194Z"
   },
   {
    "duration": 6,
    "start_time": "2022-09-18T08:53:05.199Z"
   },
   {
    "duration": 43,
    "start_time": "2022-09-18T08:53:05.207Z"
   },
   {
    "duration": 25,
    "start_time": "2022-09-18T08:53:05.251Z"
   },
   {
    "duration": 5,
    "start_time": "2022-09-18T08:53:05.277Z"
   },
   {
    "duration": 11,
    "start_time": "2022-09-18T08:53:05.284Z"
   },
   {
    "duration": 5,
    "start_time": "2022-09-18T08:53:05.296Z"
   },
   {
    "duration": 344,
    "start_time": "2022-09-18T08:53:05.302Z"
   },
   {
    "duration": 274,
    "start_time": "2022-09-18T08:53:05.648Z"
   },
   {
    "duration": 9,
    "start_time": "2022-09-18T08:53:05.923Z"
   },
   {
    "duration": 437,
    "start_time": "2022-09-18T08:53:05.933Z"
   },
   {
    "duration": 353,
    "start_time": "2022-09-18T08:53:06.373Z"
   },
   {
    "duration": 289,
    "start_time": "2022-09-18T08:53:06.727Z"
   },
   {
    "duration": 14,
    "start_time": "2022-09-18T08:53:07.017Z"
   },
   {
    "duration": 22,
    "start_time": "2022-09-18T08:53:07.032Z"
   },
   {
    "duration": 6,
    "start_time": "2022-09-18T08:53:07.056Z"
   },
   {
    "duration": 332,
    "start_time": "2022-09-18T08:53:07.063Z"
   },
   {
    "duration": 373,
    "start_time": "2022-09-18T08:53:07.397Z"
   },
   {
    "duration": 298,
    "start_time": "2022-09-18T08:53:07.772Z"
   },
   {
    "duration": 287,
    "start_time": "2022-09-18T08:53:08.072Z"
   },
   {
    "duration": 9,
    "start_time": "2022-09-18T08:53:08.362Z"
   },
   {
    "duration": 7,
    "start_time": "2022-09-18T08:53:08.373Z"
   },
   {
    "duration": 319,
    "start_time": "2022-09-18T08:53:08.382Z"
   },
   {
    "duration": 398,
    "start_time": "2022-09-18T08:53:08.703Z"
   },
   {
    "duration": 327,
    "start_time": "2022-09-18T08:53:09.103Z"
   },
   {
    "duration": 4,
    "start_time": "2022-09-18T08:53:09.432Z"
   },
   {
    "duration": 16,
    "start_time": "2022-09-18T08:53:09.437Z"
   },
   {
    "duration": 5,
    "start_time": "2022-09-18T08:53:09.455Z"
   },
   {
    "duration": 324,
    "start_time": "2022-09-18T08:53:09.462Z"
   },
   {
    "duration": 293,
    "start_time": "2022-09-18T08:53:09.788Z"
   },
   {
    "duration": 400,
    "start_time": "2022-09-18T08:53:10.082Z"
   },
   {
    "duration": 3,
    "start_time": "2022-09-18T08:53:10.484Z"
   },
   {
    "duration": 19,
    "start_time": "2022-09-18T08:53:10.489Z"
   },
   {
    "duration": 6,
    "start_time": "2022-09-18T08:53:10.510Z"
   },
   {
    "duration": 297,
    "start_time": "2022-09-18T08:53:10.517Z"
   },
   {
    "duration": 271,
    "start_time": "2022-09-18T08:53:10.816Z"
   },
   {
    "duration": 284,
    "start_time": "2022-09-18T08:53:11.089Z"
   },
   {
    "duration": 9,
    "start_time": "2022-09-18T08:53:11.375Z"
   },
   {
    "duration": 440,
    "start_time": "2022-09-18T08:53:11.385Z"
   },
   {
    "duration": 31,
    "start_time": "2022-09-18T08:53:11.827Z"
   },
   {
    "duration": 50,
    "start_time": "2022-09-18T08:53:11.860Z"
   },
   {
    "duration": 8,
    "start_time": "2022-09-18T08:53:11.913Z"
   },
   {
    "duration": 298,
    "start_time": "2022-09-18T08:53:11.923Z"
   },
   {
    "duration": 282,
    "start_time": "2022-09-18T08:53:12.223Z"
   },
   {
    "duration": 14,
    "start_time": "2022-09-18T08:53:12.507Z"
   },
   {
    "duration": 24,
    "start_time": "2022-09-18T08:53:12.527Z"
   },
   {
    "duration": 5,
    "start_time": "2022-09-18T08:53:12.553Z"
   },
   {
    "duration": 5,
    "start_time": "2022-09-18T08:53:12.560Z"
   },
   {
    "duration": 5,
    "start_time": "2022-09-18T08:53:12.566Z"
   },
   {
    "duration": 3,
    "start_time": "2022-09-18T08:53:12.573Z"
   },
   {
    "duration": 269,
    "start_time": "2022-09-18T08:53:12.578Z"
   },
   {
    "duration": 5,
    "start_time": "2022-09-18T08:53:12.849Z"
   },
   {
    "duration": 48,
    "start_time": "2022-09-18T08:53:12.855Z"
   },
   {
    "duration": 130,
    "start_time": "2022-09-18T08:53:12.905Z"
   },
   {
    "duration": 205,
    "start_time": "2022-09-18T08:53:13.037Z"
   },
   {
    "duration": 9,
    "start_time": "2022-09-18T08:53:13.244Z"
   },
   {
    "duration": 294,
    "start_time": "2022-09-18T08:53:13.255Z"
   },
   {
    "duration": 111,
    "start_time": "2022-09-18T08:53:13.551Z"
   },
   {
    "duration": 9,
    "start_time": "2022-09-18T08:53:13.664Z"
   },
   {
    "duration": 219,
    "start_time": "2022-09-18T08:53:13.674Z"
   },
   {
    "duration": 105,
    "start_time": "2022-09-18T08:53:13.895Z"
   },
   {
    "duration": 8,
    "start_time": "2022-09-18T08:53:14.002Z"
   },
   {
    "duration": 181,
    "start_time": "2022-09-18T08:53:14.012Z"
   },
   {
    "duration": 5,
    "start_time": "2022-09-18T08:53:14.195Z"
   },
   {
    "duration": 125,
    "start_time": "2022-09-18T08:53:14.201Z"
   },
   {
    "duration": 8,
    "start_time": "2022-09-18T08:53:14.328Z"
   },
   {
    "duration": 181,
    "start_time": "2022-09-18T08:53:14.346Z"
   },
   {
    "duration": 21,
    "start_time": "2022-09-18T08:53:14.529Z"
   },
   {
    "duration": 227,
    "start_time": "2022-09-18T08:53:14.552Z"
   },
   {
    "duration": 9,
    "start_time": "2022-09-18T08:53:14.780Z"
   },
   {
    "duration": 163,
    "start_time": "2022-09-18T08:53:14.791Z"
   },
   {
    "duration": 107,
    "start_time": "2022-09-18T08:53:14.955Z"
   },
   {
    "duration": 8,
    "start_time": "2022-09-18T08:53:15.064Z"
   },
   {
    "duration": 136,
    "start_time": "2022-09-18T08:53:15.074Z"
   },
   {
    "duration": 121,
    "start_time": "2022-09-18T08:53:15.212Z"
   },
   {
    "duration": 17,
    "start_time": "2022-09-18T08:53:15.335Z"
   },
   {
    "duration": 156,
    "start_time": "2022-09-18T08:53:15.353Z"
   },
   {
    "duration": 9,
    "start_time": "2022-09-18T08:53:15.511Z"
   },
   {
    "duration": 172,
    "start_time": "2022-09-18T08:53:15.522Z"
   },
   {
    "duration": 9,
    "start_time": "2022-09-18T08:53:15.695Z"
   },
   {
    "duration": 174,
    "start_time": "2022-09-18T08:53:15.706Z"
   },
   {
    "duration": 9,
    "start_time": "2022-09-18T08:53:15.882Z"
   },
   {
    "duration": 164,
    "start_time": "2022-09-18T08:53:15.893Z"
   },
   {
    "duration": 138,
    "start_time": "2022-09-18T08:53:16.059Z"
   },
   {
    "duration": 193,
    "start_time": "2022-09-18T08:53:16.199Z"
   },
   {
    "duration": 38,
    "start_time": "2022-09-18T08:53:16.394Z"
   },
   {
    "duration": 203,
    "start_time": "2022-09-18T08:53:16.434Z"
   },
   {
    "duration": 15,
    "start_time": "2022-09-18T08:53:16.639Z"
   },
   {
    "duration": 12,
    "start_time": "2022-09-18T08:53:16.655Z"
   },
   {
    "duration": 262,
    "start_time": "2022-09-18T08:53:16.668Z"
   },
   {
    "duration": 211,
    "start_time": "2022-09-18T08:53:16.932Z"
   },
   {
    "duration": 161,
    "start_time": "2022-09-18T08:53:17.146Z"
   },
   {
    "duration": 165,
    "start_time": "2022-09-18T08:53:17.309Z"
   },
   {
    "duration": 185,
    "start_time": "2022-09-18T08:53:17.476Z"
   },
   {
    "duration": 180,
    "start_time": "2022-09-18T08:53:17.663Z"
   },
   {
    "duration": 169,
    "start_time": "2022-09-18T08:53:17.847Z"
   },
   {
    "duration": 12,
    "start_time": "2022-09-18T08:53:18.017Z"
   },
   {
    "duration": 5,
    "start_time": "2022-09-18T08:53:18.031Z"
   },
   {
    "duration": 13,
    "start_time": "2022-09-18T08:53:18.046Z"
   },
   {
    "duration": 9,
    "start_time": "2022-09-18T08:53:18.060Z"
   },
   {
    "duration": 210,
    "start_time": "2022-09-18T08:53:18.071Z"
   },
   {
    "duration": 188,
    "start_time": "2022-09-18T08:53:18.282Z"
   },
   {
    "duration": 9,
    "start_time": "2022-09-18T08:53:18.472Z"
   },
   {
    "duration": 10,
    "start_time": "2022-09-18T08:53:18.482Z"
   },
   {
    "duration": 15,
    "start_time": "2022-09-18T08:53:18.494Z"
   },
   {
    "duration": 7,
    "start_time": "2022-09-18T08:53:18.510Z"
   },
   {
    "duration": 7,
    "start_time": "2022-09-18T08:53:18.518Z"
   },
   {
    "duration": 22,
    "start_time": "2022-09-18T08:53:18.526Z"
   },
   {
    "duration": 177,
    "start_time": "2022-09-18T08:53:18.550Z"
   },
   {
    "duration": 18,
    "start_time": "2022-09-18T08:53:18.729Z"
   },
   {
    "duration": 4,
    "start_time": "2022-09-18T08:53:18.749Z"
   },
   {
    "duration": 166,
    "start_time": "2022-09-18T08:53:18.755Z"
   },
   {
    "duration": 10,
    "start_time": "2022-09-18T08:53:18.923Z"
   },
   {
    "duration": 462,
    "start_time": "2022-09-18T08:53:18.934Z"
   },
   {
    "duration": 3139,
    "start_time": "2022-09-18T08:53:19.398Z"
   },
   {
    "duration": 410,
    "start_time": "2022-09-18T08:53:22.539Z"
   },
   {
    "duration": 248,
    "start_time": "2022-09-18T08:53:22.950Z"
   },
   {
    "duration": 97,
    "start_time": "2022-09-18T08:53:23.200Z"
   },
   {
    "duration": 21,
    "start_time": "2022-09-18T08:58:45.562Z"
   },
   {
    "duration": 64,
    "start_time": "2022-09-18T08:59:16.286Z"
   },
   {
    "duration": 60,
    "start_time": "2022-09-18T08:59:22.414Z"
   },
   {
    "duration": 176,
    "start_time": "2022-09-18T08:59:30.009Z"
   },
   {
    "duration": 80,
    "start_time": "2022-09-18T08:59:31.512Z"
   },
   {
    "duration": 48,
    "start_time": "2022-09-18T08:59:40.082Z"
   },
   {
    "duration": 838,
    "start_time": "2022-09-18T20:38:24.427Z"
   },
   {
    "duration": 93,
    "start_time": "2022-09-18T20:38:25.267Z"
   },
   {
    "duration": 28,
    "start_time": "2022-09-18T20:38:25.361Z"
   },
   {
    "duration": 13,
    "start_time": "2022-09-18T20:38:25.391Z"
   },
   {
    "duration": 1842,
    "start_time": "2022-09-18T20:38:25.406Z"
   },
   {
    "duration": 9,
    "start_time": "2022-09-18T20:38:27.249Z"
   },
   {
    "duration": 4,
    "start_time": "2022-09-18T20:38:27.259Z"
   },
   {
    "duration": 236,
    "start_time": "2022-09-18T20:38:27.265Z"
   },
   {
    "duration": 10,
    "start_time": "2022-09-18T20:38:27.502Z"
   },
   {
    "duration": 9,
    "start_time": "2022-09-18T20:38:27.514Z"
   },
   {
    "duration": 3,
    "start_time": "2022-09-18T20:38:27.524Z"
   },
   {
    "duration": 5,
    "start_time": "2022-09-18T20:38:27.529Z"
   },
   {
    "duration": 13,
    "start_time": "2022-09-18T20:38:27.536Z"
   },
   {
    "duration": 51,
    "start_time": "2022-09-18T20:38:27.551Z"
   },
   {
    "duration": 25,
    "start_time": "2022-09-18T20:38:27.604Z"
   },
   {
    "duration": 6,
    "start_time": "2022-09-18T20:38:27.630Z"
   },
   {
    "duration": 9,
    "start_time": "2022-09-18T20:38:27.637Z"
   },
   {
    "duration": 11,
    "start_time": "2022-09-18T20:38:27.648Z"
   },
   {
    "duration": 28,
    "start_time": "2022-09-18T20:38:27.661Z"
   },
   {
    "duration": 4,
    "start_time": "2022-09-18T20:38:27.691Z"
   },
   {
    "duration": 6,
    "start_time": "2022-09-18T20:38:27.697Z"
   },
   {
    "duration": 24,
    "start_time": "2022-09-18T20:38:27.704Z"
   },
   {
    "duration": 44,
    "start_time": "2022-09-18T20:38:27.729Z"
   },
   {
    "duration": 10,
    "start_time": "2022-09-18T20:38:27.774Z"
   },
   {
    "duration": 27,
    "start_time": "2022-09-18T20:38:27.786Z"
   },
   {
    "duration": 8,
    "start_time": "2022-09-18T20:38:27.815Z"
   },
   {
    "duration": 18,
    "start_time": "2022-09-18T20:38:27.825Z"
   },
   {
    "duration": 22,
    "start_time": "2022-09-18T20:38:27.847Z"
   },
   {
    "duration": 4,
    "start_time": "2022-09-18T20:38:27.871Z"
   },
   {
    "duration": 23,
    "start_time": "2022-09-18T20:38:27.877Z"
   },
   {
    "duration": 18,
    "start_time": "2022-09-18T20:38:27.901Z"
   },
   {
    "duration": 8,
    "start_time": "2022-09-18T20:38:27.920Z"
   },
   {
    "duration": 12,
    "start_time": "2022-09-18T20:38:27.930Z"
   },
   {
    "duration": 6,
    "start_time": "2022-09-18T20:38:27.944Z"
   },
   {
    "duration": 6,
    "start_time": "2022-09-18T20:38:27.952Z"
   },
   {
    "duration": 34,
    "start_time": "2022-09-18T20:38:27.960Z"
   },
   {
    "duration": 3,
    "start_time": "2022-09-18T20:38:27.996Z"
   },
   {
    "duration": 6,
    "start_time": "2022-09-18T20:38:28.001Z"
   },
   {
    "duration": 6,
    "start_time": "2022-09-18T20:38:28.008Z"
   },
   {
    "duration": 25,
    "start_time": "2022-09-18T20:38:28.016Z"
   },
   {
    "duration": 5,
    "start_time": "2022-09-18T20:38:28.042Z"
   },
   {
    "duration": 8,
    "start_time": "2022-09-18T20:38:28.048Z"
   },
   {
    "duration": 35,
    "start_time": "2022-09-18T20:38:28.058Z"
   },
   {
    "duration": 309,
    "start_time": "2022-09-18T20:38:28.094Z"
   },
   {
    "duration": 288,
    "start_time": "2022-09-18T20:38:28.404Z"
   },
   {
    "duration": 9,
    "start_time": "2022-09-18T20:38:28.693Z"
   },
   {
    "duration": 388,
    "start_time": "2022-09-18T20:38:28.703Z"
   },
   {
    "duration": 289,
    "start_time": "2022-09-18T20:38:29.092Z"
   },
   {
    "duration": 292,
    "start_time": "2022-09-18T20:38:29.382Z"
   },
   {
    "duration": 18,
    "start_time": "2022-09-18T20:38:29.676Z"
   },
   {
    "duration": 17,
    "start_time": "2022-09-18T20:38:29.696Z"
   },
   {
    "duration": 14,
    "start_time": "2022-09-18T20:38:29.715Z"
   },
   {
    "duration": 320,
    "start_time": "2022-09-18T20:38:29.731Z"
   },
   {
    "duration": 405,
    "start_time": "2022-09-18T20:38:30.052Z"
   },
   {
    "duration": 310,
    "start_time": "2022-09-18T20:38:30.459Z"
   },
   {
    "duration": 300,
    "start_time": "2022-09-18T20:38:30.771Z"
   },
   {
    "duration": 16,
    "start_time": "2022-09-18T20:38:31.073Z"
   },
   {
    "duration": 18,
    "start_time": "2022-09-18T20:38:31.090Z"
   },
   {
    "duration": 294,
    "start_time": "2022-09-18T20:38:31.110Z"
   },
   {
    "duration": 387,
    "start_time": "2022-09-18T20:38:31.406Z"
   },
   {
    "duration": 337,
    "start_time": "2022-09-18T20:38:31.796Z"
   },
   {
    "duration": 4,
    "start_time": "2022-09-18T20:38:32.134Z"
   },
   {
    "duration": 12,
    "start_time": "2022-09-18T20:38:32.139Z"
   },
   {
    "duration": 4,
    "start_time": "2022-09-18T20:38:32.152Z"
   },
   {
    "duration": 357,
    "start_time": "2022-09-18T20:38:32.157Z"
   },
   {
    "duration": 276,
    "start_time": "2022-09-18T20:38:32.516Z"
   },
   {
    "duration": 386,
    "start_time": "2022-09-18T20:38:32.793Z"
   },
   {
    "duration": 8,
    "start_time": "2022-09-18T20:38:33.181Z"
   },
   {
    "duration": 9,
    "start_time": "2022-09-18T20:38:33.190Z"
   },
   {
    "duration": 7,
    "start_time": "2022-09-18T20:38:33.200Z"
   },
   {
    "duration": 301,
    "start_time": "2022-09-18T20:38:33.209Z"
   },
   {
    "duration": 285,
    "start_time": "2022-09-18T20:38:33.512Z"
   },
   {
    "duration": 274,
    "start_time": "2022-09-18T20:38:33.799Z"
   },
   {
    "duration": 7,
    "start_time": "2022-09-18T20:38:34.075Z"
   },
   {
    "duration": 348,
    "start_time": "2022-09-18T20:38:34.089Z"
   },
   {
    "duration": 21,
    "start_time": "2022-09-18T20:38:34.438Z"
   },
   {
    "duration": 61,
    "start_time": "2022-09-18T20:38:34.460Z"
   },
   {
    "duration": 7,
    "start_time": "2022-09-18T20:38:34.522Z"
   },
   {
    "duration": 295,
    "start_time": "2022-09-18T20:38:34.530Z"
   },
   {
    "duration": 298,
    "start_time": "2022-09-18T20:38:34.827Z"
   },
   {
    "duration": 15,
    "start_time": "2022-09-18T20:38:35.127Z"
   },
   {
    "duration": 13,
    "start_time": "2022-09-18T20:38:35.149Z"
   },
   {
    "duration": 27,
    "start_time": "2022-09-18T20:38:35.164Z"
   },
   {
    "duration": 6,
    "start_time": "2022-09-18T20:38:35.193Z"
   },
   {
    "duration": 10,
    "start_time": "2022-09-18T20:38:35.200Z"
   },
   {
    "duration": 7,
    "start_time": "2022-09-18T20:38:35.212Z"
   },
   {
    "duration": 271,
    "start_time": "2022-09-18T20:38:35.221Z"
   },
   {
    "duration": 3,
    "start_time": "2022-09-18T20:38:35.494Z"
   },
   {
    "duration": 23,
    "start_time": "2022-09-18T20:38:35.499Z"
   },
   {
    "duration": 118,
    "start_time": "2022-09-18T20:38:35.524Z"
   },
   {
    "duration": 213,
    "start_time": "2022-09-18T20:38:35.644Z"
   },
   {
    "duration": 9,
    "start_time": "2022-09-18T20:38:35.858Z"
   },
   {
    "duration": 252,
    "start_time": "2022-09-18T20:38:35.869Z"
   },
   {
    "duration": 114,
    "start_time": "2022-09-18T20:38:36.123Z"
   },
   {
    "duration": 10,
    "start_time": "2022-09-18T20:38:36.239Z"
   },
   {
    "duration": 234,
    "start_time": "2022-09-18T20:38:36.250Z"
   },
   {
    "duration": 118,
    "start_time": "2022-09-18T20:38:36.488Z"
   },
   {
    "duration": 9,
    "start_time": "2022-09-18T20:38:36.608Z"
   },
   {
    "duration": 189,
    "start_time": "2022-09-18T20:38:36.619Z"
   },
   {
    "duration": 3,
    "start_time": "2022-09-18T20:38:36.810Z"
   },
   {
    "duration": 119,
    "start_time": "2022-09-18T20:38:36.815Z"
   },
   {
    "duration": 8,
    "start_time": "2022-09-18T20:38:36.936Z"
   },
   {
    "duration": 194,
    "start_time": "2022-09-18T20:38:36.945Z"
   },
   {
    "duration": 8,
    "start_time": "2022-09-18T20:38:37.141Z"
   },
   {
    "duration": 231,
    "start_time": "2022-09-18T20:38:37.151Z"
   },
   {
    "duration": 9,
    "start_time": "2022-09-18T20:38:37.389Z"
   },
   {
    "duration": 153,
    "start_time": "2022-09-18T20:38:37.400Z"
   },
   {
    "duration": 112,
    "start_time": "2022-09-18T20:38:37.554Z"
   },
   {
    "duration": 22,
    "start_time": "2022-09-18T20:38:37.668Z"
   },
   {
    "duration": 132,
    "start_time": "2022-09-18T20:38:37.692Z"
   },
   {
    "duration": 128,
    "start_time": "2022-09-18T20:38:37.826Z"
   },
   {
    "duration": 8,
    "start_time": "2022-09-18T20:38:37.955Z"
   },
   {
    "duration": 150,
    "start_time": "2022-09-18T20:38:37.964Z"
   },
   {
    "duration": 10,
    "start_time": "2022-09-18T20:38:38.116Z"
   },
   {
    "duration": 188,
    "start_time": "2022-09-18T20:38:38.127Z"
   },
   {
    "duration": 8,
    "start_time": "2022-09-18T20:38:38.317Z"
   },
   {
    "duration": 169,
    "start_time": "2022-09-18T20:38:38.326Z"
   },
   {
    "duration": 10,
    "start_time": "2022-09-18T20:38:38.496Z"
   },
   {
    "duration": 175,
    "start_time": "2022-09-18T20:38:38.507Z"
   },
   {
    "duration": 144,
    "start_time": "2022-09-18T20:38:38.684Z"
   },
   {
    "duration": 151,
    "start_time": "2022-09-18T20:38:38.830Z"
   },
   {
    "duration": 32,
    "start_time": "2022-09-18T20:38:38.983Z"
   },
   {
    "duration": 209,
    "start_time": "2022-09-18T20:38:39.017Z"
   },
   {
    "duration": 9,
    "start_time": "2022-09-18T20:38:39.228Z"
   },
   {
    "duration": 11,
    "start_time": "2022-09-18T20:38:39.238Z"
   },
   {
    "duration": 276,
    "start_time": "2022-09-18T20:38:39.250Z"
   },
   {
    "duration": 211,
    "start_time": "2022-09-18T20:38:39.528Z"
   },
   {
    "duration": 164,
    "start_time": "2022-09-18T20:38:39.741Z"
   },
   {
    "duration": 144,
    "start_time": "2022-09-18T20:38:39.907Z"
   },
   {
    "duration": 176,
    "start_time": "2022-09-18T20:38:40.053Z"
   },
   {
    "duration": 164,
    "start_time": "2022-09-18T20:38:40.231Z"
   },
   {
    "duration": 155,
    "start_time": "2022-09-18T20:38:40.397Z"
   },
   {
    "duration": 12,
    "start_time": "2022-09-18T20:38:40.554Z"
   },
   {
    "duration": 10,
    "start_time": "2022-09-18T20:38:40.567Z"
   },
   {
    "duration": 21,
    "start_time": "2022-09-18T20:38:40.578Z"
   },
   {
    "duration": 7,
    "start_time": "2022-09-18T20:38:40.600Z"
   },
   {
    "duration": 233,
    "start_time": "2022-09-18T20:38:40.609Z"
   },
   {
    "duration": 196,
    "start_time": "2022-09-18T20:38:40.844Z"
   },
   {
    "duration": 10,
    "start_time": "2022-09-18T20:38:41.041Z"
   },
   {
    "duration": 12,
    "start_time": "2022-09-18T20:38:41.053Z"
   },
   {
    "duration": 25,
    "start_time": "2022-09-18T20:38:41.066Z"
   },
   {
    "duration": 5,
    "start_time": "2022-09-18T20:38:41.093Z"
   },
   {
    "duration": 11,
    "start_time": "2022-09-18T20:38:41.100Z"
   },
   {
    "duration": 8,
    "start_time": "2022-09-18T20:38:41.113Z"
   },
   {
    "duration": 200,
    "start_time": "2022-09-18T20:38:41.123Z"
   },
   {
    "duration": 9,
    "start_time": "2022-09-18T20:38:41.325Z"
   },
   {
    "duration": 4,
    "start_time": "2022-09-18T20:38:41.336Z"
   },
   {
    "duration": 184,
    "start_time": "2022-09-18T20:38:41.342Z"
   },
   {
    "duration": 15,
    "start_time": "2022-09-18T20:38:41.528Z"
   },
   {
    "duration": 533,
    "start_time": "2022-09-18T20:38:41.545Z"
   },
   {
    "duration": 3278,
    "start_time": "2022-09-18T20:38:42.079Z"
   },
   {
    "duration": 439,
    "start_time": "2022-09-18T20:38:45.359Z"
   },
   {
    "duration": 223,
    "start_time": "2022-09-18T20:38:45.800Z"
   },
   {
    "duration": 96,
    "start_time": "2022-09-18T20:38:46.025Z"
   },
   {
    "duration": 810,
    "start_time": "2023-03-30T05:21:56.354Z"
   },
   {
    "duration": 328,
    "start_time": "2023-03-30T05:21:57.166Z"
   },
   {
    "duration": 27,
    "start_time": "2023-03-30T05:21:57.495Z"
   },
   {
    "duration": 14,
    "start_time": "2023-03-30T05:21:57.524Z"
   },
   {
    "duration": 1855,
    "start_time": "2023-03-30T05:21:57.540Z"
   },
   {
    "duration": 9,
    "start_time": "2023-03-30T05:21:59.397Z"
   },
   {
    "duration": 8,
    "start_time": "2023-03-30T05:21:59.407Z"
   },
   {
    "duration": 214,
    "start_time": "2023-03-30T05:21:59.416Z"
   },
   {
    "duration": 9,
    "start_time": "2023-03-30T05:21:59.632Z"
   },
   {
    "duration": 8,
    "start_time": "2023-03-30T05:21:59.643Z"
   },
   {
    "duration": 3,
    "start_time": "2023-03-30T05:21:59.653Z"
   },
   {
    "duration": 10,
    "start_time": "2023-03-30T05:21:59.659Z"
   },
   {
    "duration": 21,
    "start_time": "2023-03-30T05:21:59.670Z"
   },
   {
    "duration": 44,
    "start_time": "2023-03-30T05:21:59.692Z"
   },
   {
    "duration": 27,
    "start_time": "2023-03-30T05:21:59.738Z"
   },
   {
    "duration": 4,
    "start_time": "2023-03-30T05:21:59.767Z"
   },
   {
    "duration": 19,
    "start_time": "2023-03-30T05:21:59.773Z"
   },
   {
    "duration": 18,
    "start_time": "2023-03-30T05:21:59.793Z"
   },
   {
    "duration": 155,
    "start_time": "2023-03-30T05:21:59.812Z"
   },
   {
    "duration": 4,
    "start_time": "2023-03-30T05:21:59.969Z"
   },
   {
    "duration": 7,
    "start_time": "2023-03-30T05:21:59.975Z"
   },
   {
    "duration": 10,
    "start_time": "2023-03-30T05:21:59.983Z"
   },
   {
    "duration": 25,
    "start_time": "2023-03-30T05:21:59.994Z"
   },
   {
    "duration": 24,
    "start_time": "2023-03-30T05:22:00.020Z"
   },
   {
    "duration": 14,
    "start_time": "2023-03-30T05:22:00.045Z"
   },
   {
    "duration": 13,
    "start_time": "2023-03-30T05:22:00.060Z"
   },
   {
    "duration": 16,
    "start_time": "2023-03-30T05:22:00.075Z"
   },
   {
    "duration": 26,
    "start_time": "2023-03-30T05:22:00.095Z"
   },
   {
    "duration": 16,
    "start_time": "2023-03-30T05:22:00.123Z"
   },
   {
    "duration": 30,
    "start_time": "2023-03-30T05:22:00.140Z"
   },
   {
    "duration": 35,
    "start_time": "2023-03-30T05:22:00.172Z"
   },
   {
    "duration": 27,
    "start_time": "2023-03-30T05:22:00.209Z"
   },
   {
    "duration": 26,
    "start_time": "2023-03-30T05:22:00.238Z"
   },
   {
    "duration": 19,
    "start_time": "2023-03-30T05:22:00.266Z"
   },
   {
    "duration": 25,
    "start_time": "2023-03-30T05:22:00.287Z"
   },
   {
    "duration": 32,
    "start_time": "2023-03-30T05:22:00.313Z"
   },
   {
    "duration": 17,
    "start_time": "2023-03-30T05:22:00.346Z"
   },
   {
    "duration": 30,
    "start_time": "2023-03-30T05:22:00.365Z"
   },
   {
    "duration": 22,
    "start_time": "2023-03-30T05:22:00.397Z"
   },
   {
    "duration": 38,
    "start_time": "2023-03-30T05:22:00.420Z"
   },
   {
    "duration": 21,
    "start_time": "2023-03-30T05:22:00.460Z"
   },
   {
    "duration": 31,
    "start_time": "2023-03-30T05:22:00.483Z"
   },
   {
    "duration": 19,
    "start_time": "2023-03-30T05:22:00.516Z"
   },
   {
    "duration": 287,
    "start_time": "2023-03-30T05:22:00.536Z"
   },
   {
    "duration": 291,
    "start_time": "2023-03-30T05:22:00.824Z"
   },
   {
    "duration": 17,
    "start_time": "2023-03-30T05:22:01.117Z"
   },
   {
    "duration": 371,
    "start_time": "2023-03-30T05:22:01.136Z"
   },
   {
    "duration": 278,
    "start_time": "2023-03-30T05:22:01.509Z"
   },
   {
    "duration": 276,
    "start_time": "2023-03-30T05:22:01.788Z"
   },
   {
    "duration": 11,
    "start_time": "2023-03-30T05:22:02.066Z"
   },
   {
    "duration": 20,
    "start_time": "2023-03-30T05:22:02.078Z"
   },
   {
    "duration": 37,
    "start_time": "2023-03-30T05:22:02.100Z"
   },
   {
    "duration": 307,
    "start_time": "2023-03-30T05:22:02.138Z"
   },
   {
    "duration": 355,
    "start_time": "2023-03-30T05:22:02.447Z"
   },
   {
    "duration": 285,
    "start_time": "2023-03-30T05:22:02.804Z"
   },
   {
    "duration": 305,
    "start_time": "2023-03-30T05:22:03.091Z"
   },
   {
    "duration": 7,
    "start_time": "2023-03-30T05:22:03.398Z"
   },
   {
    "duration": 95,
    "start_time": "2023-03-30T05:22:03.407Z"
   },
   {
    "duration": 307,
    "start_time": "2023-03-30T05:22:03.503Z"
   },
   {
    "duration": 365,
    "start_time": "2023-03-30T05:22:03.811Z"
   },
   {
    "duration": 287,
    "start_time": "2023-03-30T05:22:04.178Z"
   },
   {
    "duration": 3,
    "start_time": "2023-03-30T05:22:04.467Z"
   },
   {
    "duration": 16,
    "start_time": "2023-03-30T05:22:04.472Z"
   },
   {
    "duration": 3,
    "start_time": "2023-03-30T05:22:04.489Z"
   },
   {
    "duration": 347,
    "start_time": "2023-03-30T05:22:04.494Z"
   },
   {
    "duration": 271,
    "start_time": "2023-03-30T05:22:04.843Z"
   },
   {
    "duration": 466,
    "start_time": "2023-03-30T05:22:05.116Z"
   },
   {
    "duration": 4,
    "start_time": "2023-03-30T05:22:05.583Z"
   },
   {
    "duration": 17,
    "start_time": "2023-03-30T05:22:05.588Z"
   },
   {
    "duration": 4,
    "start_time": "2023-03-30T05:22:05.607Z"
   },
   {
    "duration": 318,
    "start_time": "2023-03-30T05:22:05.612Z"
   },
   {
    "duration": 296,
    "start_time": "2023-03-30T05:22:05.934Z"
   },
   {
    "duration": 292,
    "start_time": "2023-03-30T05:22:06.232Z"
   },
   {
    "duration": 14,
    "start_time": "2023-03-30T05:22:06.526Z"
   },
   {
    "duration": 377,
    "start_time": "2023-03-30T05:22:06.542Z"
   },
   {
    "duration": 23,
    "start_time": "2023-03-30T05:22:06.921Z"
   },
   {
    "duration": 46,
    "start_time": "2023-03-30T05:22:06.945Z"
   },
   {
    "duration": 6,
    "start_time": "2023-03-30T05:22:06.993Z"
   },
   {
    "duration": 294,
    "start_time": "2023-03-30T05:22:07.000Z"
   },
   {
    "duration": 273,
    "start_time": "2023-03-30T05:22:07.295Z"
   },
   {
    "duration": 13,
    "start_time": "2023-03-30T05:22:07.570Z"
   },
   {
    "duration": 10,
    "start_time": "2023-03-30T05:22:07.589Z"
   },
   {
    "duration": 9,
    "start_time": "2023-03-30T05:22:07.600Z"
   },
   {
    "duration": 6,
    "start_time": "2023-03-30T05:22:07.610Z"
   },
   {
    "duration": 17,
    "start_time": "2023-03-30T05:22:07.617Z"
   },
   {
    "duration": 4,
    "start_time": "2023-03-30T05:22:07.635Z"
   },
   {
    "duration": 275,
    "start_time": "2023-03-30T05:22:07.640Z"
   },
   {
    "duration": 4,
    "start_time": "2023-03-30T05:22:07.916Z"
   },
   {
    "duration": 31,
    "start_time": "2023-03-30T05:22:07.921Z"
   },
   {
    "duration": 112,
    "start_time": "2023-03-30T05:22:07.954Z"
   },
   {
    "duration": 202,
    "start_time": "2023-03-30T05:22:08.068Z"
   },
   {
    "duration": 8,
    "start_time": "2023-03-30T05:22:08.272Z"
   },
   {
    "duration": 255,
    "start_time": "2023-03-30T05:22:08.281Z"
   },
   {
    "duration": 112,
    "start_time": "2023-03-30T05:22:08.538Z"
   },
   {
    "duration": 8,
    "start_time": "2023-03-30T05:22:08.652Z"
   },
   {
    "duration": 240,
    "start_time": "2023-03-30T05:22:08.661Z"
   },
   {
    "duration": 122,
    "start_time": "2023-03-30T05:22:08.902Z"
   },
   {
    "duration": 15,
    "start_time": "2023-03-30T05:22:09.026Z"
   },
   {
    "duration": 192,
    "start_time": "2023-03-30T05:22:09.043Z"
   },
   {
    "duration": 3,
    "start_time": "2023-03-30T05:22:09.237Z"
   },
   {
    "duration": 129,
    "start_time": "2023-03-30T05:22:09.242Z"
   },
   {
    "duration": 8,
    "start_time": "2023-03-30T05:22:09.373Z"
   },
   {
    "duration": 212,
    "start_time": "2023-03-30T05:22:09.383Z"
   },
   {
    "duration": 9,
    "start_time": "2023-03-30T05:22:09.596Z"
   },
   {
    "duration": 233,
    "start_time": "2023-03-30T05:22:09.606Z"
   },
   {
    "duration": 9,
    "start_time": "2023-03-30T05:22:09.841Z"
   },
   {
    "duration": 169,
    "start_time": "2023-03-30T05:22:09.851Z"
   },
   {
    "duration": 104,
    "start_time": "2023-03-30T05:22:10.022Z"
   },
   {
    "duration": 13,
    "start_time": "2023-03-30T05:22:10.127Z"
   },
   {
    "duration": 138,
    "start_time": "2023-03-30T05:22:10.141Z"
   },
   {
    "duration": 123,
    "start_time": "2023-03-30T05:22:10.280Z"
   },
   {
    "duration": 9,
    "start_time": "2023-03-30T05:22:10.405Z"
   },
   {
    "duration": 157,
    "start_time": "2023-03-30T05:22:10.416Z"
   },
   {
    "duration": 9,
    "start_time": "2023-03-30T05:22:10.575Z"
   },
   {
    "duration": 172,
    "start_time": "2023-03-30T05:22:10.586Z"
   },
   {
    "duration": 9,
    "start_time": "2023-03-30T05:22:10.760Z"
   },
   {
    "duration": 181,
    "start_time": "2023-03-30T05:22:10.770Z"
   },
   {
    "duration": 10,
    "start_time": "2023-03-30T05:22:10.953Z"
   },
   {
    "duration": 181,
    "start_time": "2023-03-30T05:22:10.964Z"
   },
   {
    "duration": 139,
    "start_time": "2023-03-30T05:22:11.146Z"
   },
   {
    "duration": 138,
    "start_time": "2023-03-30T05:22:11.289Z"
   },
   {
    "duration": 28,
    "start_time": "2023-03-30T05:22:11.429Z"
   },
   {
    "duration": 202,
    "start_time": "2023-03-30T05:22:11.459Z"
   },
   {
    "duration": 9,
    "start_time": "2023-03-30T05:22:11.663Z"
   },
   {
    "duration": 17,
    "start_time": "2023-03-30T05:22:11.674Z"
   },
   {
    "duration": 239,
    "start_time": "2023-03-30T05:22:11.692Z"
   },
   {
    "duration": 206,
    "start_time": "2023-03-30T05:22:11.933Z"
   },
   {
    "duration": 159,
    "start_time": "2023-03-30T05:22:12.141Z"
   },
   {
    "duration": 138,
    "start_time": "2023-03-30T05:22:12.301Z"
   },
   {
    "duration": 158,
    "start_time": "2023-03-30T05:22:12.441Z"
   },
   {
    "duration": 153,
    "start_time": "2023-03-30T05:22:12.601Z"
   },
   {
    "duration": 148,
    "start_time": "2023-03-30T05:22:12.756Z"
   },
   {
    "duration": 12,
    "start_time": "2023-03-30T05:22:12.906Z"
   },
   {
    "duration": 19,
    "start_time": "2023-03-30T05:22:12.920Z"
   },
   {
    "duration": 11,
    "start_time": "2023-03-30T05:22:12.941Z"
   },
   {
    "duration": 11,
    "start_time": "2023-03-30T05:22:12.954Z"
   },
   {
    "duration": 188,
    "start_time": "2023-03-30T05:22:12.967Z"
   },
   {
    "duration": 171,
    "start_time": "2023-03-30T05:22:13.157Z"
   },
   {
    "duration": 8,
    "start_time": "2023-03-30T05:22:13.334Z"
   },
   {
    "duration": 9,
    "start_time": "2023-03-30T05:22:13.343Z"
   },
   {
    "duration": 11,
    "start_time": "2023-03-30T05:22:13.353Z"
   },
   {
    "duration": 5,
    "start_time": "2023-03-30T05:22:13.366Z"
   },
   {
    "duration": 10,
    "start_time": "2023-03-30T05:22:13.372Z"
   },
   {
    "duration": 4,
    "start_time": "2023-03-30T05:22:13.384Z"
   },
   {
    "duration": 178,
    "start_time": "2023-03-30T05:22:13.389Z"
   },
   {
    "duration": 7,
    "start_time": "2023-03-30T05:22:13.568Z"
   },
   {
    "duration": 7,
    "start_time": "2023-03-30T05:22:13.577Z"
   },
   {
    "duration": 158,
    "start_time": "2023-03-30T05:22:13.586Z"
   },
   {
    "duration": 8,
    "start_time": "2023-03-30T05:22:13.745Z"
   },
   {
    "duration": 413,
    "start_time": "2023-03-30T05:22:13.754Z"
   },
   {
    "duration": 3177,
    "start_time": "2023-03-30T05:22:14.168Z"
   },
   {
    "duration": 389,
    "start_time": "2023-03-30T05:22:17.347Z"
   },
   {
    "duration": 212,
    "start_time": "2023-03-30T05:22:17.738Z"
   },
   {
    "duration": 92,
    "start_time": "2023-03-30T05:22:17.952Z"
   },
   {
    "duration": 406,
    "start_time": "2023-03-30T05:24:42.936Z"
   },
   {
    "duration": 262,
    "start_time": "2023-03-30T05:24:52.121Z"
   },
   {
    "duration": 275,
    "start_time": "2023-03-30T05:30:53.476Z"
   },
   {
    "duration": 268,
    "start_time": "2023-03-30T05:30:56.469Z"
   },
   {
    "duration": 365,
    "start_time": "2023-03-30T05:31:45.588Z"
   },
   {
    "duration": 265,
    "start_time": "2023-03-30T05:32:07.420Z"
   },
   {
    "duration": 276,
    "start_time": "2023-03-30T05:32:27.979Z"
   },
   {
    "duration": 297,
    "start_time": "2023-03-30T05:33:21.203Z"
   },
   {
    "duration": 381,
    "start_time": "2023-03-30T05:33:57.523Z"
   },
   {
    "duration": 276,
    "start_time": "2023-03-30T05:34:20.594Z"
   },
   {
    "duration": 650,
    "start_time": "2023-03-30T05:34:37.356Z"
   },
   {
    "duration": 92,
    "start_time": "2023-03-30T05:34:38.007Z"
   },
   {
    "duration": 35,
    "start_time": "2023-03-30T05:34:38.100Z"
   },
   {
    "duration": 15,
    "start_time": "2023-03-30T05:34:38.137Z"
   },
   {
    "duration": 1777,
    "start_time": "2023-03-30T05:34:38.154Z"
   },
   {
    "duration": 8,
    "start_time": "2023-03-30T05:34:39.933Z"
   },
   {
    "duration": 4,
    "start_time": "2023-03-30T05:34:39.943Z"
   },
   {
    "duration": 231,
    "start_time": "2023-03-30T05:34:39.948Z"
   },
   {
    "duration": 10,
    "start_time": "2023-03-30T05:34:40.181Z"
   },
   {
    "duration": 11,
    "start_time": "2023-03-30T05:34:40.193Z"
   },
   {
    "duration": 7,
    "start_time": "2023-03-30T05:34:40.205Z"
   },
   {
    "duration": 9,
    "start_time": "2023-03-30T05:34:40.213Z"
   },
   {
    "duration": 12,
    "start_time": "2023-03-30T05:34:40.234Z"
   },
   {
    "duration": 24,
    "start_time": "2023-03-30T05:34:40.248Z"
   },
   {
    "duration": 29,
    "start_time": "2023-03-30T05:34:40.274Z"
   },
   {
    "duration": 5,
    "start_time": "2023-03-30T05:34:40.305Z"
   },
   {
    "duration": 29,
    "start_time": "2023-03-30T05:34:40.311Z"
   },
   {
    "duration": 4,
    "start_time": "2023-03-30T05:34:40.342Z"
   },
   {
    "duration": 7,
    "start_time": "2023-03-30T05:34:40.348Z"
   },
   {
    "duration": 4,
    "start_time": "2023-03-30T05:34:40.356Z"
   },
   {
    "duration": 6,
    "start_time": "2023-03-30T05:34:40.361Z"
   },
   {
    "duration": 10,
    "start_time": "2023-03-30T05:34:40.369Z"
   },
   {
    "duration": 20,
    "start_time": "2023-03-30T05:34:40.380Z"
   },
   {
    "duration": 13,
    "start_time": "2023-03-30T05:34:40.402Z"
   },
   {
    "duration": 17,
    "start_time": "2023-03-30T05:34:40.417Z"
   },
   {
    "duration": 4,
    "start_time": "2023-03-30T05:34:40.436Z"
   },
   {
    "duration": 4,
    "start_time": "2023-03-30T05:34:40.441Z"
   },
   {
    "duration": 12,
    "start_time": "2023-03-30T05:34:40.448Z"
   },
   {
    "duration": 5,
    "start_time": "2023-03-30T05:34:40.461Z"
   },
   {
    "duration": 14,
    "start_time": "2023-03-30T05:34:40.467Z"
   },
   {
    "duration": 14,
    "start_time": "2023-03-30T05:34:40.482Z"
   },
   {
    "duration": 38,
    "start_time": "2023-03-30T05:34:40.497Z"
   },
   {
    "duration": 8,
    "start_time": "2023-03-30T05:34:40.537Z"
   },
   {
    "duration": 6,
    "start_time": "2023-03-30T05:34:40.546Z"
   },
   {
    "duration": 8,
    "start_time": "2023-03-30T05:34:40.554Z"
   },
   {
    "duration": 20,
    "start_time": "2023-03-30T05:34:40.563Z"
   },
   {
    "duration": 3,
    "start_time": "2023-03-30T05:34:40.584Z"
   },
   {
    "duration": 7,
    "start_time": "2023-03-30T05:34:40.589Z"
   },
   {
    "duration": 21,
    "start_time": "2023-03-30T05:34:40.598Z"
   },
   {
    "duration": 237,
    "start_time": "2023-03-30T05:34:40.620Z"
   },
   {
    "duration": 4,
    "start_time": "2023-03-30T05:34:40.859Z"
   },
   {
    "duration": 18,
    "start_time": "2023-03-30T05:34:40.865Z"
   },
   {
    "duration": 7,
    "start_time": "2023-03-30T05:34:40.884Z"
   },
   {
    "duration": 293,
    "start_time": "2023-03-30T05:34:40.892Z"
   },
   {
    "duration": 290,
    "start_time": "2023-03-30T05:34:41.186Z"
   },
   {
    "duration": 8,
    "start_time": "2023-03-30T05:34:41.478Z"
   },
   {
    "duration": 360,
    "start_time": "2023-03-30T05:34:41.487Z"
   },
   {
    "duration": 296,
    "start_time": "2023-03-30T05:34:41.848Z"
   },
   {
    "duration": 273,
    "start_time": "2023-03-30T05:34:42.145Z"
   },
   {
    "duration": 20,
    "start_time": "2023-03-30T05:34:42.420Z"
   },
   {
    "duration": 9,
    "start_time": "2023-03-30T05:34:42.441Z"
   },
   {
    "duration": 4,
    "start_time": "2023-03-30T05:34:42.451Z"
   },
   {
    "duration": 289,
    "start_time": "2023-03-30T05:34:42.456Z"
   },
   {
    "duration": 337,
    "start_time": "2023-03-30T05:34:42.747Z"
   },
   {
    "duration": 280,
    "start_time": "2023-03-30T05:34:43.086Z"
   },
   {
    "duration": 278,
    "start_time": "2023-03-30T05:34:43.368Z"
   },
   {
    "duration": 8,
    "start_time": "2023-03-30T05:34:43.647Z"
   },
   {
    "duration": 5,
    "start_time": "2023-03-30T05:34:43.656Z"
   },
   {
    "duration": 275,
    "start_time": "2023-03-30T05:34:43.662Z"
   },
   {
    "duration": 340,
    "start_time": "2023-03-30T05:34:43.939Z"
   },
   {
    "duration": 291,
    "start_time": "2023-03-30T05:34:44.281Z"
   },
   {
    "duration": 5,
    "start_time": "2023-03-30T05:34:44.574Z"
   },
   {
    "duration": 35,
    "start_time": "2023-03-30T05:34:44.581Z"
   },
   {
    "duration": 13,
    "start_time": "2023-03-30T05:34:44.618Z"
   },
   {
    "duration": 327,
    "start_time": "2023-03-30T05:34:44.633Z"
   },
   {
    "duration": 275,
    "start_time": "2023-03-30T05:34:44.961Z"
   },
   {
    "duration": 413,
    "start_time": "2023-03-30T05:34:45.237Z"
   },
   {
    "duration": 4,
    "start_time": "2023-03-30T05:34:45.651Z"
   },
   {
    "duration": 12,
    "start_time": "2023-03-30T05:34:45.656Z"
   },
   {
    "duration": 5,
    "start_time": "2023-03-30T05:34:45.669Z"
   },
   {
    "duration": 279,
    "start_time": "2023-03-30T05:34:45.675Z"
   },
   {
    "duration": 270,
    "start_time": "2023-03-30T05:34:45.956Z"
   },
   {
    "duration": 263,
    "start_time": "2023-03-30T05:34:46.228Z"
   },
   {
    "duration": 7,
    "start_time": "2023-03-30T05:34:46.492Z"
   },
   {
    "duration": 336,
    "start_time": "2023-03-30T05:34:46.501Z"
   },
   {
    "duration": 21,
    "start_time": "2023-03-30T05:34:46.838Z"
   },
   {
    "duration": 55,
    "start_time": "2023-03-30T05:34:46.860Z"
   },
   {
    "duration": 7,
    "start_time": "2023-03-30T05:34:46.916Z"
   },
   {
    "duration": 275,
    "start_time": "2023-03-30T05:34:46.934Z"
   },
   {
    "duration": 281,
    "start_time": "2023-03-30T05:34:47.211Z"
   },
   {
    "duration": 14,
    "start_time": "2023-03-30T05:34:47.494Z"
   },
   {
    "duration": 21,
    "start_time": "2023-03-30T05:34:47.514Z"
   },
   {
    "duration": 4,
    "start_time": "2023-03-30T05:34:47.537Z"
   },
   {
    "duration": 6,
    "start_time": "2023-03-30T05:34:47.543Z"
   },
   {
    "duration": 5,
    "start_time": "2023-03-30T05:34:47.550Z"
   },
   {
    "duration": 3,
    "start_time": "2023-03-30T05:34:47.556Z"
   },
   {
    "duration": 261,
    "start_time": "2023-03-30T05:34:47.561Z"
   },
   {
    "duration": 4,
    "start_time": "2023-03-30T05:34:47.824Z"
   },
   {
    "duration": 29,
    "start_time": "2023-03-30T05:34:47.829Z"
   },
   {
    "duration": 108,
    "start_time": "2023-03-30T05:34:47.860Z"
   },
   {
    "duration": 200,
    "start_time": "2023-03-30T05:34:47.969Z"
   },
   {
    "duration": 8,
    "start_time": "2023-03-30T05:34:48.170Z"
   },
   {
    "duration": 241,
    "start_time": "2023-03-30T05:34:48.179Z"
   },
   {
    "duration": 108,
    "start_time": "2023-03-30T05:34:48.421Z"
   },
   {
    "duration": 8,
    "start_time": "2023-03-30T05:34:48.535Z"
   },
   {
    "duration": 205,
    "start_time": "2023-03-30T05:34:48.545Z"
   },
   {
    "duration": 111,
    "start_time": "2023-03-30T05:34:48.751Z"
   },
   {
    "duration": 10,
    "start_time": "2023-03-30T05:34:48.864Z"
   },
   {
    "duration": 174,
    "start_time": "2023-03-30T05:34:48.876Z"
   },
   {
    "duration": 3,
    "start_time": "2023-03-30T05:34:49.051Z"
   },
   {
    "duration": 126,
    "start_time": "2023-03-30T05:34:49.056Z"
   },
   {
    "duration": 9,
    "start_time": "2023-03-30T05:34:49.184Z"
   },
   {
    "duration": 192,
    "start_time": "2023-03-30T05:34:49.195Z"
   },
   {
    "duration": 7,
    "start_time": "2023-03-30T05:34:49.389Z"
   },
   {
    "duration": 213,
    "start_time": "2023-03-30T05:34:49.397Z"
   },
   {
    "duration": 8,
    "start_time": "2023-03-30T05:34:49.611Z"
   },
   {
    "duration": 153,
    "start_time": "2023-03-30T05:34:49.620Z"
   },
   {
    "duration": 99,
    "start_time": "2023-03-30T05:34:49.774Z"
   },
   {
    "duration": 7,
    "start_time": "2023-03-30T05:34:49.875Z"
   },
   {
    "duration": 136,
    "start_time": "2023-03-30T05:34:49.884Z"
   },
   {
    "duration": 119,
    "start_time": "2023-03-30T05:34:50.022Z"
   },
   {
    "duration": 8,
    "start_time": "2023-03-30T05:34:50.143Z"
   },
   {
    "duration": 161,
    "start_time": "2023-03-30T05:34:50.152Z"
   },
   {
    "duration": 10,
    "start_time": "2023-03-30T05:34:50.314Z"
   },
   {
    "duration": 148,
    "start_time": "2023-03-30T05:34:50.335Z"
   },
   {
    "duration": 9,
    "start_time": "2023-03-30T05:34:50.485Z"
   },
   {
    "duration": 183,
    "start_time": "2023-03-30T05:34:50.496Z"
   },
   {
    "duration": 10,
    "start_time": "2023-03-30T05:34:50.681Z"
   },
   {
    "duration": 156,
    "start_time": "2023-03-30T05:34:50.692Z"
   },
   {
    "duration": 136,
    "start_time": "2023-03-30T05:34:50.850Z"
   },
   {
    "duration": 141,
    "start_time": "2023-03-30T05:34:50.987Z"
   },
   {
    "duration": 24,
    "start_time": "2023-03-30T05:34:51.134Z"
   },
   {
    "duration": 219,
    "start_time": "2023-03-30T05:34:51.159Z"
   },
   {
    "duration": 8,
    "start_time": "2023-03-30T05:34:51.379Z"
   },
   {
    "duration": 37,
    "start_time": "2023-03-30T05:34:51.389Z"
   },
   {
    "duration": 233,
    "start_time": "2023-03-30T05:34:51.427Z"
   },
   {
    "duration": 204,
    "start_time": "2023-03-30T05:34:51.662Z"
   },
   {
    "duration": 141,
    "start_time": "2023-03-30T05:34:51.868Z"
   },
   {
    "duration": 137,
    "start_time": "2023-03-30T05:34:52.011Z"
   },
   {
    "duration": 168,
    "start_time": "2023-03-30T05:34:52.150Z"
   },
   {
    "duration": 153,
    "start_time": "2023-03-30T05:34:52.319Z"
   },
   {
    "duration": 153,
    "start_time": "2023-03-30T05:34:52.473Z"
   },
   {
    "duration": 14,
    "start_time": "2023-03-30T05:34:52.628Z"
   },
   {
    "duration": 31,
    "start_time": "2023-03-30T05:34:52.644Z"
   },
   {
    "duration": 26,
    "start_time": "2023-03-30T05:34:52.677Z"
   },
   {
    "duration": 49,
    "start_time": "2023-03-30T05:34:52.704Z"
   },
   {
    "duration": 217,
    "start_time": "2023-03-30T05:34:52.754Z"
   },
   {
    "duration": 182,
    "start_time": "2023-03-30T05:34:52.973Z"
   },
   {
    "duration": 8,
    "start_time": "2023-03-30T05:34:53.156Z"
   },
   {
    "duration": 45,
    "start_time": "2023-03-30T05:34:53.166Z"
   },
   {
    "duration": 43,
    "start_time": "2023-03-30T05:34:53.214Z"
   },
   {
    "duration": 14,
    "start_time": "2023-03-30T05:34:53.259Z"
   },
   {
    "duration": 22,
    "start_time": "2023-03-30T05:34:53.275Z"
   },
   {
    "duration": 29,
    "start_time": "2023-03-30T05:34:53.299Z"
   },
   {
    "duration": 176,
    "start_time": "2023-03-30T05:34:53.330Z"
   },
   {
    "duration": 8,
    "start_time": "2023-03-30T05:34:53.508Z"
   },
   {
    "duration": 20,
    "start_time": "2023-03-30T05:34:53.518Z"
   },
   {
    "duration": 159,
    "start_time": "2023-03-30T05:34:53.540Z"
   },
   {
    "duration": 9,
    "start_time": "2023-03-30T05:34:53.701Z"
   },
   {
    "duration": 457,
    "start_time": "2023-03-30T05:34:53.711Z"
   },
   {
    "duration": 3118,
    "start_time": "2023-03-30T05:34:54.169Z"
   },
   {
    "duration": 389,
    "start_time": "2023-03-30T05:34:57.289Z"
   },
   {
    "duration": 214,
    "start_time": "2023-03-30T05:34:57.680Z"
   },
   {
    "duration": 93,
    "start_time": "2023-03-30T05:34:57.896Z"
   },
   {
    "duration": 271,
    "start_time": "2023-03-30T05:35:12.291Z"
   },
   {
    "duration": 293,
    "start_time": "2023-03-30T05:36:21.722Z"
   },
   {
    "duration": 299,
    "start_time": "2023-03-30T05:36:48.560Z"
   },
   {
    "duration": 307,
    "start_time": "2023-03-30T05:37:11.234Z"
   },
   {
    "duration": 371,
    "start_time": "2023-03-30T05:38:37.273Z"
   },
   {
    "duration": 273,
    "start_time": "2023-03-30T05:38:43.312Z"
   },
   {
    "duration": 310,
    "start_time": "2023-03-30T05:38:55.240Z"
   },
   {
    "duration": 345,
    "start_time": "2023-03-30T05:39:44.352Z"
   },
   {
    "duration": 397,
    "start_time": "2023-03-30T05:39:53.048Z"
   },
   {
    "duration": 307,
    "start_time": "2023-03-30T05:40:29.399Z"
   },
   {
    "duration": 306,
    "start_time": "2023-03-30T05:40:36.295Z"
   },
   {
    "duration": 295,
    "start_time": "2023-03-30T05:40:42.439Z"
   },
   {
    "duration": 410,
    "start_time": "2023-03-30T05:41:15.095Z"
   },
   {
    "duration": 429,
    "start_time": "2023-03-30T05:41:47.727Z"
   },
   {
    "duration": 308,
    "start_time": "2023-03-30T05:41:59.679Z"
   },
   {
    "duration": 301,
    "start_time": "2023-03-30T05:42:51.125Z"
   },
   {
    "duration": 392,
    "start_time": "2023-03-30T05:43:06.822Z"
   },
   {
    "duration": 120,
    "start_time": "2023-03-30T05:43:30.933Z"
   },
   {
    "duration": 116,
    "start_time": "2023-03-30T05:44:02.821Z"
   },
   {
    "duration": 109,
    "start_time": "2023-03-30T05:44:07.379Z"
   },
   {
    "duration": 117,
    "start_time": "2023-03-30T05:44:44.821Z"
   },
   {
    "duration": 259,
    "start_time": "2023-03-30T05:45:27.036Z"
   },
   {
    "duration": 121,
    "start_time": "2023-03-30T05:46:11.670Z"
   },
   {
    "duration": 109,
    "start_time": "2023-03-30T05:46:20.603Z"
   },
   {
    "duration": 113,
    "start_time": "2023-03-30T05:46:34.308Z"
   },
   {
    "duration": 352,
    "start_time": "2023-03-30T05:46:59.187Z"
   },
   {
    "duration": 144,
    "start_time": "2023-03-30T05:47:29.906Z"
   },
   {
    "duration": 180,
    "start_time": "2023-03-30T05:47:55.844Z"
   },
   {
    "duration": 105,
    "start_time": "2023-03-30T05:48:17.962Z"
   },
   {
    "duration": 106,
    "start_time": "2023-03-30T05:48:31.410Z"
   },
   {
    "duration": 112,
    "start_time": "2023-03-30T05:48:43.961Z"
   },
   {
    "duration": 234,
    "start_time": "2023-03-30T05:49:09.545Z"
   },
   {
    "duration": 148,
    "start_time": "2023-03-30T05:49:45.888Z"
   },
   {
    "duration": 156,
    "start_time": "2023-03-30T05:50:13.393Z"
   },
   {
    "duration": 188,
    "start_time": "2023-03-30T05:50:42.384Z"
   },
   {
    "duration": 121,
    "start_time": "2023-03-30T05:50:51.192Z"
   },
   {
    "duration": 141,
    "start_time": "2023-03-30T05:51:13.656Z"
   },
   {
    "duration": 157,
    "start_time": "2023-03-30T05:51:44.480Z"
   },
   {
    "duration": 134,
    "start_time": "2023-03-30T05:51:53.351Z"
   },
   {
    "duration": 153,
    "start_time": "2023-03-30T05:52:22.584Z"
   },
   {
    "duration": 172,
    "start_time": "2023-03-30T05:52:52.225Z"
   },
   {
    "duration": 163,
    "start_time": "2023-03-30T05:53:14.334Z"
   },
   {
    "duration": 168,
    "start_time": "2023-03-30T05:53:38.966Z"
   },
   {
    "duration": 160,
    "start_time": "2023-03-30T05:54:09.006Z"
   },
   {
    "duration": 154,
    "start_time": "2023-03-30T05:54:26.221Z"
   },
   {
    "duration": 264,
    "start_time": "2023-03-30T05:55:04.674Z"
   },
   {
    "duration": 239,
    "start_time": "2023-03-30T05:55:35.805Z"
   },
   {
    "duration": 126,
    "start_time": "2023-03-30T05:55:46.446Z"
   },
   {
    "duration": 239,
    "start_time": "2023-03-30T05:56:30.581Z"
   },
   {
    "duration": 204,
    "start_time": "2023-03-30T05:58:12.595Z"
   },
   {
    "duration": 162,
    "start_time": "2023-03-30T05:58:59.291Z"
   },
   {
    "duration": 143,
    "start_time": "2023-03-30T05:59:23.049Z"
   },
   {
    "duration": 138,
    "start_time": "2023-03-30T05:59:25.986Z"
   },
   {
    "duration": 154,
    "start_time": "2023-03-30T05:59:47.882Z"
   },
   {
    "duration": 182,
    "start_time": "2023-03-30T06:00:05.370Z"
   },
   {
    "duration": 236,
    "start_time": "2023-03-30T06:00:16.722Z"
   },
   {
    "duration": 167,
    "start_time": "2023-03-30T06:00:34.930Z"
   },
   {
    "duration": 206,
    "start_time": "2023-03-30T06:01:49.082Z"
   },
   {
    "duration": 192,
    "start_time": "2023-03-30T06:02:43.896Z"
   },
   {
    "duration": 199,
    "start_time": "2023-03-30T06:02:56.064Z"
   },
   {
    "duration": 112,
    "start_time": "2023-03-30T06:03:32.312Z"
   },
   {
    "duration": 126,
    "start_time": "2023-03-30T06:03:37.143Z"
   },
   {
    "duration": 107,
    "start_time": "2023-03-30T06:03:42.615Z"
   },
   {
    "duration": 105,
    "start_time": "2023-03-30T06:03:47.511Z"
   },
   {
    "duration": 171,
    "start_time": "2023-03-30T06:04:34.288Z"
   },
   {
    "duration": 762,
    "start_time": "2023-03-30T06:11:44.640Z"
   },
   {
    "duration": 96,
    "start_time": "2023-03-30T06:11:45.404Z"
   },
   {
    "duration": 36,
    "start_time": "2023-03-30T06:11:45.502Z"
   },
   {
    "duration": 13,
    "start_time": "2023-03-30T06:11:45.540Z"
   },
   {
    "duration": 1876,
    "start_time": "2023-03-30T06:11:45.555Z"
   },
   {
    "duration": 9,
    "start_time": "2023-03-30T06:11:47.433Z"
   },
   {
    "duration": 6,
    "start_time": "2023-03-30T06:11:47.443Z"
   },
   {
    "duration": 236,
    "start_time": "2023-03-30T06:11:47.450Z"
   },
   {
    "duration": 9,
    "start_time": "2023-03-30T06:11:47.687Z"
   },
   {
    "duration": 8,
    "start_time": "2023-03-30T06:11:47.699Z"
   },
   {
    "duration": 26,
    "start_time": "2023-03-30T06:11:47.708Z"
   },
   {
    "duration": 7,
    "start_time": "2023-03-30T06:11:47.736Z"
   },
   {
    "duration": 15,
    "start_time": "2023-03-30T06:11:47.744Z"
   },
   {
    "duration": 39,
    "start_time": "2023-03-30T06:11:47.761Z"
   },
   {
    "duration": 47,
    "start_time": "2023-03-30T06:11:47.802Z"
   },
   {
    "duration": 5,
    "start_time": "2023-03-30T06:11:47.850Z"
   },
   {
    "duration": 7,
    "start_time": "2023-03-30T06:11:47.857Z"
   },
   {
    "duration": 19,
    "start_time": "2023-03-30T06:11:47.865Z"
   },
   {
    "duration": 5,
    "start_time": "2023-03-30T06:11:47.885Z"
   },
   {
    "duration": 5,
    "start_time": "2023-03-30T06:11:47.891Z"
   },
   {
    "duration": 7,
    "start_time": "2023-03-30T06:11:47.897Z"
   },
   {
    "duration": 11,
    "start_time": "2023-03-30T06:11:47.905Z"
   },
   {
    "duration": 29,
    "start_time": "2023-03-30T06:11:47.917Z"
   },
   {
    "duration": 13,
    "start_time": "2023-03-30T06:11:47.948Z"
   },
   {
    "duration": 9,
    "start_time": "2023-03-30T06:11:47.962Z"
   },
   {
    "duration": 10,
    "start_time": "2023-03-30T06:11:47.972Z"
   },
   {
    "duration": 12,
    "start_time": "2023-03-30T06:11:47.983Z"
   },
   {
    "duration": 26,
    "start_time": "2023-03-30T06:11:47.999Z"
   },
   {
    "duration": 4,
    "start_time": "2023-03-30T06:11:48.027Z"
   },
   {
    "duration": 31,
    "start_time": "2023-03-30T06:11:48.033Z"
   },
   {
    "duration": 17,
    "start_time": "2023-03-30T06:11:48.066Z"
   },
   {
    "duration": 6,
    "start_time": "2023-03-30T06:11:48.084Z"
   },
   {
    "duration": 14,
    "start_time": "2023-03-30T06:11:48.091Z"
   },
   {
    "duration": 8,
    "start_time": "2023-03-30T06:11:48.106Z"
   },
   {
    "duration": 8,
    "start_time": "2023-03-30T06:11:48.115Z"
   },
   {
    "duration": 26,
    "start_time": "2023-03-30T06:11:48.125Z"
   },
   {
    "duration": 6,
    "start_time": "2023-03-30T06:11:48.152Z"
   },
   {
    "duration": 22,
    "start_time": "2023-03-30T06:11:48.159Z"
   },
   {
    "duration": 22,
    "start_time": "2023-03-30T06:11:48.182Z"
   },
   {
    "duration": 28,
    "start_time": "2023-03-30T06:11:48.206Z"
   },
   {
    "duration": 5,
    "start_time": "2023-03-30T06:11:48.237Z"
   },
   {
    "duration": 20,
    "start_time": "2023-03-30T06:11:48.243Z"
   },
   {
    "duration": 15,
    "start_time": "2023-03-30T06:11:48.265Z"
   },
   {
    "duration": 315,
    "start_time": "2023-03-30T06:11:48.282Z"
   },
   {
    "duration": 297,
    "start_time": "2023-03-30T06:11:48.599Z"
   },
   {
    "duration": 9,
    "start_time": "2023-03-30T06:11:48.898Z"
   },
   {
    "duration": 387,
    "start_time": "2023-03-30T06:11:48.908Z"
   },
   {
    "duration": 305,
    "start_time": "2023-03-30T06:11:49.297Z"
   },
   {
    "duration": 309,
    "start_time": "2023-03-30T06:11:49.604Z"
   },
   {
    "duration": 21,
    "start_time": "2023-03-30T06:11:49.915Z"
   },
   {
    "duration": 8,
    "start_time": "2023-03-30T06:11:49.938Z"
   },
   {
    "duration": 7,
    "start_time": "2023-03-30T06:11:49.947Z"
   },
   {
    "duration": 308,
    "start_time": "2023-03-30T06:11:49.955Z"
   },
   {
    "duration": 385,
    "start_time": "2023-03-30T06:11:50.265Z"
   },
   {
    "duration": 297,
    "start_time": "2023-03-30T06:11:50.652Z"
   },
   {
    "duration": 301,
    "start_time": "2023-03-30T06:11:50.951Z"
   },
   {
    "duration": 8,
    "start_time": "2023-03-30T06:11:51.253Z"
   },
   {
    "duration": 13,
    "start_time": "2023-03-30T06:11:51.263Z"
   },
   {
    "duration": 304,
    "start_time": "2023-03-30T06:11:51.278Z"
   },
   {
    "duration": 384,
    "start_time": "2023-03-30T06:11:51.584Z"
   },
   {
    "duration": 310,
    "start_time": "2023-03-30T06:11:51.969Z"
   },
   {
    "duration": 3,
    "start_time": "2023-03-30T06:11:52.281Z"
   },
   {
    "duration": 17,
    "start_time": "2023-03-30T06:11:52.286Z"
   },
   {
    "duration": 4,
    "start_time": "2023-03-30T06:11:52.304Z"
   },
   {
    "duration": 307,
    "start_time": "2023-03-30T06:11:52.310Z"
   },
   {
    "duration": 285,
    "start_time": "2023-03-30T06:11:52.619Z"
   },
   {
    "duration": 403,
    "start_time": "2023-03-30T06:11:52.906Z"
   },
   {
    "duration": 4,
    "start_time": "2023-03-30T06:11:53.310Z"
   },
   {
    "duration": 19,
    "start_time": "2023-03-30T06:11:53.315Z"
   },
   {
    "duration": 4,
    "start_time": "2023-03-30T06:11:53.336Z"
   },
   {
    "duration": 314,
    "start_time": "2023-03-30T06:11:53.341Z"
   },
   {
    "duration": 316,
    "start_time": "2023-03-30T06:11:53.656Z"
   },
   {
    "duration": 284,
    "start_time": "2023-03-30T06:11:53.973Z"
   },
   {
    "duration": 8,
    "start_time": "2023-03-30T06:11:54.259Z"
   },
   {
    "duration": 388,
    "start_time": "2023-03-30T06:11:54.269Z"
   },
   {
    "duration": 23,
    "start_time": "2023-03-30T06:11:54.659Z"
   },
   {
    "duration": 66,
    "start_time": "2023-03-30T06:11:54.683Z"
   },
   {
    "duration": 9,
    "start_time": "2023-03-30T06:11:54.751Z"
   },
   {
    "duration": 381,
    "start_time": "2023-03-30T06:11:54.762Z"
   },
   {
    "duration": 335,
    "start_time": "2023-03-30T06:11:55.145Z"
   },
   {
    "duration": 14,
    "start_time": "2023-03-30T06:11:55.482Z"
   },
   {
    "duration": 12,
    "start_time": "2023-03-30T06:11:55.502Z"
   },
   {
    "duration": 17,
    "start_time": "2023-03-30T06:11:55.517Z"
   },
   {
    "duration": 14,
    "start_time": "2023-03-30T06:11:55.536Z"
   },
   {
    "duration": 8,
    "start_time": "2023-03-30T06:11:55.551Z"
   },
   {
    "duration": 17,
    "start_time": "2023-03-30T06:11:55.561Z"
   },
   {
    "duration": 256,
    "start_time": "2023-03-30T06:11:55.580Z"
   },
   {
    "duration": 3,
    "start_time": "2023-03-30T06:11:55.837Z"
   },
   {
    "duration": 26,
    "start_time": "2023-03-30T06:11:55.842Z"
   },
   {
    "duration": 207,
    "start_time": "2023-03-30T06:11:55.869Z"
   },
   {
    "duration": 131,
    "start_time": "2023-03-30T06:11:56.077Z"
   },
   {
    "duration": 8,
    "start_time": "2023-03-30T06:11:56.210Z"
   },
   {
    "duration": 278,
    "start_time": "2023-03-30T06:11:56.219Z"
   },
   {
    "duration": 122,
    "start_time": "2023-03-30T06:11:56.498Z"
   },
   {
    "duration": 16,
    "start_time": "2023-03-30T06:11:56.622Z"
   },
   {
    "duration": 249,
    "start_time": "2023-03-30T06:11:56.640Z"
   },
   {
    "duration": 124,
    "start_time": "2023-03-30T06:11:56.890Z"
   },
   {
    "duration": 21,
    "start_time": "2023-03-30T06:11:57.016Z"
   },
   {
    "duration": 188,
    "start_time": "2023-03-30T06:11:57.038Z"
   },
   {
    "duration": 8,
    "start_time": "2023-03-30T06:11:57.228Z"
   },
   {
    "duration": 136,
    "start_time": "2023-03-30T06:11:57.237Z"
   },
   {
    "duration": 7,
    "start_time": "2023-03-30T06:11:57.375Z"
   },
   {
    "duration": 211,
    "start_time": "2023-03-30T06:11:57.383Z"
   },
   {
    "duration": 9,
    "start_time": "2023-03-30T06:11:57.596Z"
   },
   {
    "duration": 246,
    "start_time": "2023-03-30T06:11:57.607Z"
   },
   {
    "duration": 7,
    "start_time": "2023-03-30T06:11:57.855Z"
   },
   {
    "duration": 180,
    "start_time": "2023-03-30T06:11:57.864Z"
   },
   {
    "duration": 111,
    "start_time": "2023-03-30T06:11:58.046Z"
   },
   {
    "duration": 8,
    "start_time": "2023-03-30T06:11:58.159Z"
   },
   {
    "duration": 152,
    "start_time": "2023-03-30T06:11:58.169Z"
   },
   {
    "duration": 136,
    "start_time": "2023-03-30T06:11:58.322Z"
   },
   {
    "duration": 8,
    "start_time": "2023-03-30T06:11:58.460Z"
   },
   {
    "duration": 167,
    "start_time": "2023-03-30T06:11:58.470Z"
   },
   {
    "duration": 9,
    "start_time": "2023-03-30T06:11:58.639Z"
   },
   {
    "duration": 191,
    "start_time": "2023-03-30T06:11:58.649Z"
   },
   {
    "duration": 8,
    "start_time": "2023-03-30T06:11:58.842Z"
   },
   {
    "duration": 192,
    "start_time": "2023-03-30T06:11:58.852Z"
   },
   {
    "duration": 9,
    "start_time": "2023-03-30T06:11:59.046Z"
   },
   {
    "duration": 181,
    "start_time": "2023-03-30T06:11:59.057Z"
   },
   {
    "duration": 157,
    "start_time": "2023-03-30T06:11:59.239Z"
   },
   {
    "duration": 167,
    "start_time": "2023-03-30T06:11:59.398Z"
   },
   {
    "duration": 26,
    "start_time": "2023-03-30T06:11:59.566Z"
   },
   {
    "duration": 222,
    "start_time": "2023-03-30T06:11:59.594Z"
   },
   {
    "duration": 18,
    "start_time": "2023-03-30T06:11:59.817Z"
   },
   {
    "duration": 11,
    "start_time": "2023-03-30T06:11:59.836Z"
   },
   {
    "duration": 265,
    "start_time": "2023-03-30T06:11:59.848Z"
   },
   {
    "duration": 219,
    "start_time": "2023-03-30T06:12:00.115Z"
   },
   {
    "duration": 173,
    "start_time": "2023-03-30T06:12:00.336Z"
   },
   {
    "duration": 164,
    "start_time": "2023-03-30T06:12:00.511Z"
   },
   {
    "duration": 178,
    "start_time": "2023-03-30T06:12:00.677Z"
   },
   {
    "duration": 181,
    "start_time": "2023-03-30T06:12:00.856Z"
   },
   {
    "duration": 172,
    "start_time": "2023-03-30T06:12:01.039Z"
   },
   {
    "duration": 26,
    "start_time": "2023-03-30T06:12:01.212Z"
   },
   {
    "duration": 31,
    "start_time": "2023-03-30T06:12:01.239Z"
   },
   {
    "duration": 68,
    "start_time": "2023-03-30T06:12:01.272Z"
   },
   {
    "duration": 69,
    "start_time": "2023-03-30T06:12:01.342Z"
   },
   {
    "duration": 239,
    "start_time": "2023-03-30T06:12:01.413Z"
   },
   {
    "duration": 202,
    "start_time": "2023-03-30T06:12:01.654Z"
   },
   {
    "duration": 11,
    "start_time": "2023-03-30T06:12:01.859Z"
   },
   {
    "duration": 57,
    "start_time": "2023-03-30T06:12:01.872Z"
   },
   {
    "duration": 44,
    "start_time": "2023-03-30T06:12:01.931Z"
   },
   {
    "duration": 38,
    "start_time": "2023-03-30T06:12:01.976Z"
   },
   {
    "duration": 28,
    "start_time": "2023-03-30T06:12:02.016Z"
   },
   {
    "duration": 33,
    "start_time": "2023-03-30T06:12:02.046Z"
   },
   {
    "duration": 261,
    "start_time": "2023-03-30T06:12:02.081Z"
   },
   {
    "duration": 8,
    "start_time": "2023-03-30T06:12:02.344Z"
   },
   {
    "duration": 46,
    "start_time": "2023-03-30T06:12:02.354Z"
   },
   {
    "duration": 192,
    "start_time": "2023-03-30T06:12:02.402Z"
   },
   {
    "duration": 10,
    "start_time": "2023-03-30T06:12:02.596Z"
   },
   {
    "duration": 475,
    "start_time": "2023-03-30T06:12:02.608Z"
   },
   {
    "duration": 3423,
    "start_time": "2023-03-30T06:12:03.085Z"
   },
   {
    "duration": 427,
    "start_time": "2023-03-30T06:12:06.510Z"
   },
   {
    "duration": 222,
    "start_time": "2023-03-30T06:12:06.938Z"
   },
   {
    "duration": 92,
    "start_time": "2023-03-30T06:12:07.162Z"
   }
  ],
  "kernelspec": {
   "display_name": "Python 3 (ipykernel)",
   "language": "python",
   "name": "python3"
  },
  "language_info": {
   "codemirror_mode": {
    "name": "ipython",
    "version": 3
   },
   "file_extension": ".py",
   "mimetype": "text/x-python",
   "name": "python",
   "nbconvert_exporter": "python",
   "pygments_lexer": "ipython3",
   "version": "3.9.12"
  },
  "toc": {
   "base_numbering": 1,
   "nav_menu": {},
   "number_sections": true,
   "sideBar": true,
   "skip_h1_title": true,
   "title_cell": "Table of Contents",
   "title_sidebar": "Contents",
   "toc_cell": false,
   "toc_position": {
    "height": "510px",
    "left": "354px",
    "top": "111.125px",
    "width": "306px"
   },
   "toc_section_display": true,
   "toc_window_display": false
  }
 },
 "nbformat": 4,
 "nbformat_minor": 2
}
