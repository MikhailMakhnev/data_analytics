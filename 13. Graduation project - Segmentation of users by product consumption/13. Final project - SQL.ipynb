{
 "cells": [
  {
   "cell_type": "markdown",
   "metadata": {},
   "source": [
    "# Проект по SQL. Анализ БД сервиса для чтения книг"
   ]
  },
  {
   "cell_type": "markdown",
   "metadata": {},
   "source": [
    "**Цель исследования:**\n",
    "\n",
    "Анализ базы данных крупного сервиса для чтения книг по подписке."
   ]
  },
  {
   "cell_type": "markdown",
   "metadata": {},
   "source": [
    "**Техническое задание:**\n",
    "\n",
    "    1. Посчитайте, сколько книг вышло после 1 января 2000 года;\n",
    "    2. Для каждой книги посчитайте количество обзоров и среднюю оценку;\n",
    "    3. Определите издательство, которое выпустило наибольшее число книг толще 50 страниц — так вы исключите из анализа брошюры;\n",
    "    4. Определите автора с самой высокой средней оценкой книг — учитывайте только книги с 50 и более оценками;\n",
    "    5. Посчитайте среднее количество обзоров от пользователей, которые поставили больше 50 оценок."
   ]
  },
  {
   "cell_type": "markdown",
   "metadata": {},
   "source": [
    "# План работы:\n",
    "\n",
    "    1. Подключение библиотек и загрузка базы данных;\n",
    "    2. Выполнение задания;\n",
    "    3. Вывод"
   ]
  },
  {
   "cell_type": "markdown",
   "metadata": {},
   "source": [
    "##  Подключение библиотек и загрузка базы данных"
   ]
  },
  {
   "cell_type": "code",
   "execution_count": 1,
   "metadata": {},
   "outputs": [
    {
     "name": "stdout",
     "output_type": "stream",
     "text": [
      "Requirement already satisfied: psycopg2-binary in /opt/conda/lib/python3.9/site-packages (2.9.2)\r\n"
     ]
    }
   ],
   "source": [
    "!pip install psycopg2-binary\n",
    "import pandas as pd\n",
    "import warnings; warnings.filterwarnings(action='once')\n",
    "\n",
    "from sqlalchemy import create_engine"
   ]
  },
  {
   "cell_type": "code",
   "execution_count": 2,
   "metadata": {},
   "outputs": [],
   "source": [
    "# устанавливаем параметры\n",
    "\n",
    "db_config = {'user': 'praktikum_student', # имя пользователя\n",
    "            'pwd': 'Sdf4$2;d-d30pp', # пароль\n",
    "            'host': 'rc1b-wcoijxj3yxfsf3fs.mdb.yandexcloud.net',\n",
    "            'port': 6432, # порт подключения\n",
    "            'db': 'data-analyst-final-project-db'} # название базы данных\n",
    "connection_string = 'postgresql://{}:{}@{}:{}/{}'.format(db_config['user'],\n",
    "                     db_config['pwd'],\n",
    "                     db_config['host'],\n",
    "                     db_config['port'],\n",
    "                     db_config['db']) \n",
    "\n",
    "# сохраняем коннектор\n",
    "\n",
    "engine = create_engine(connection_string, connect_args={'sslmode':'require'})"
   ]
  },
  {
   "cell_type": "markdown",
   "metadata": {},
   "source": [
    "### Знакомство с таблицами"
   ]
  },
  {
   "cell_type": "markdown",
   "metadata": {},
   "source": [
    "**Таблица books:**"
   ]
  },
  {
   "cell_type": "code",
   "execution_count": 3,
   "metadata": {},
   "outputs": [
    {
     "data": {
      "text/html": [
       "<div>\n",
       "<style scoped>\n",
       "    .dataframe tbody tr th:only-of-type {\n",
       "        vertical-align: middle;\n",
       "    }\n",
       "\n",
       "    .dataframe tbody tr th {\n",
       "        vertical-align: top;\n",
       "    }\n",
       "\n",
       "    .dataframe thead th {\n",
       "        text-align: right;\n",
       "    }\n",
       "</style>\n",
       "<table border=\"1\" class=\"dataframe\">\n",
       "  <thead>\n",
       "    <tr style=\"text-align: right;\">\n",
       "      <th></th>\n",
       "      <th>book_id</th>\n",
       "      <th>author_id</th>\n",
       "      <th>title</th>\n",
       "      <th>num_pages</th>\n",
       "      <th>publication_date</th>\n",
       "      <th>publisher_id</th>\n",
       "    </tr>\n",
       "  </thead>\n",
       "  <tbody>\n",
       "    <tr>\n",
       "      <th>0</th>\n",
       "      <td>1</td>\n",
       "      <td>546</td>\n",
       "      <td>'Salem's Lot</td>\n",
       "      <td>594</td>\n",
       "      <td>2005-11-01</td>\n",
       "      <td>93</td>\n",
       "    </tr>\n",
       "    <tr>\n",
       "      <th>1</th>\n",
       "      <td>2</td>\n",
       "      <td>465</td>\n",
       "      <td>1 000 Places to See Before You Die</td>\n",
       "      <td>992</td>\n",
       "      <td>2003-05-22</td>\n",
       "      <td>336</td>\n",
       "    </tr>\n",
       "    <tr>\n",
       "      <th>2</th>\n",
       "      <td>3</td>\n",
       "      <td>407</td>\n",
       "      <td>13 Little Blue Envelopes (Little Blue Envelope...</td>\n",
       "      <td>322</td>\n",
       "      <td>2010-12-21</td>\n",
       "      <td>135</td>\n",
       "    </tr>\n",
       "    <tr>\n",
       "      <th>3</th>\n",
       "      <td>4</td>\n",
       "      <td>82</td>\n",
       "      <td>1491: New Revelations of the Americas Before C...</td>\n",
       "      <td>541</td>\n",
       "      <td>2006-10-10</td>\n",
       "      <td>309</td>\n",
       "    </tr>\n",
       "    <tr>\n",
       "      <th>4</th>\n",
       "      <td>5</td>\n",
       "      <td>125</td>\n",
       "      <td>1776</td>\n",
       "      <td>386</td>\n",
       "      <td>2006-07-04</td>\n",
       "      <td>268</td>\n",
       "    </tr>\n",
       "  </tbody>\n",
       "</table>\n",
       "</div>"
      ],
      "text/plain": [
       "   book_id  author_id                                              title  \\\n",
       "0        1        546                                       'Salem's Lot   \n",
       "1        2        465                 1 000 Places to See Before You Die   \n",
       "2        3        407  13 Little Blue Envelopes (Little Blue Envelope...   \n",
       "3        4         82  1491: New Revelations of the Americas Before C...   \n",
       "4        5        125                                               1776   \n",
       "\n",
       "   num_pages publication_date  publisher_id  \n",
       "0        594       2005-11-01            93  \n",
       "1        992       2003-05-22           336  \n",
       "2        322       2010-12-21           135  \n",
       "3        541       2006-10-10           309  \n",
       "4        386       2006-07-04           268  "
      ]
     },
     "execution_count": 3,
     "metadata": {},
     "output_type": "execute_result"
    }
   ],
   "source": [
    "query = '''\n",
    "\n",
    "SELECT *\n",
    "FROM books\n",
    "LIMIT 5\n",
    "\n",
    "'''\n",
    "\n",
    "pd.io.sql.read_sql(query, con = engine)"
   ]
  },
  {
   "cell_type": "markdown",
   "metadata": {},
   "source": [
    "**Таблица authors:**"
   ]
  },
  {
   "cell_type": "code",
   "execution_count": 4,
   "metadata": {},
   "outputs": [
    {
     "data": {
      "text/html": [
       "<div>\n",
       "<style scoped>\n",
       "    .dataframe tbody tr th:only-of-type {\n",
       "        vertical-align: middle;\n",
       "    }\n",
       "\n",
       "    .dataframe tbody tr th {\n",
       "        vertical-align: top;\n",
       "    }\n",
       "\n",
       "    .dataframe thead th {\n",
       "        text-align: right;\n",
       "    }\n",
       "</style>\n",
       "<table border=\"1\" class=\"dataframe\">\n",
       "  <thead>\n",
       "    <tr style=\"text-align: right;\">\n",
       "      <th></th>\n",
       "      <th>author_id</th>\n",
       "      <th>author</th>\n",
       "    </tr>\n",
       "  </thead>\n",
       "  <tbody>\n",
       "    <tr>\n",
       "      <th>0</th>\n",
       "      <td>1</td>\n",
       "      <td>A.S. Byatt</td>\n",
       "    </tr>\n",
       "    <tr>\n",
       "      <th>1</th>\n",
       "      <td>2</td>\n",
       "      <td>Aesop/Laura Harris/Laura Gibbs</td>\n",
       "    </tr>\n",
       "    <tr>\n",
       "      <th>2</th>\n",
       "      <td>3</td>\n",
       "      <td>Agatha Christie</td>\n",
       "    </tr>\n",
       "    <tr>\n",
       "      <th>3</th>\n",
       "      <td>4</td>\n",
       "      <td>Alan Brennert</td>\n",
       "    </tr>\n",
       "    <tr>\n",
       "      <th>4</th>\n",
       "      <td>5</td>\n",
       "      <td>Alan Moore/David   Lloyd</td>\n",
       "    </tr>\n",
       "  </tbody>\n",
       "</table>\n",
       "</div>"
      ],
      "text/plain": [
       "   author_id                          author\n",
       "0          1                      A.S. Byatt\n",
       "1          2  Aesop/Laura Harris/Laura Gibbs\n",
       "2          3                 Agatha Christie\n",
       "3          4                   Alan Brennert\n",
       "4          5        Alan Moore/David   Lloyd"
      ]
     },
     "execution_count": 4,
     "metadata": {},
     "output_type": "execute_result"
    }
   ],
   "source": [
    "query = '''\n",
    "\n",
    "SELECT *\n",
    "FROM authors\n",
    "LIMIT 5\n",
    "\n",
    "'''\n",
    "\n",
    "pd.io.sql.read_sql(query, con = engine)"
   ]
  },
  {
   "cell_type": "markdown",
   "metadata": {},
   "source": [
    "**Таблица publishers:**"
   ]
  },
  {
   "cell_type": "code",
   "execution_count": 5,
   "metadata": {},
   "outputs": [
    {
     "data": {
      "text/html": [
       "<div>\n",
       "<style scoped>\n",
       "    .dataframe tbody tr th:only-of-type {\n",
       "        vertical-align: middle;\n",
       "    }\n",
       "\n",
       "    .dataframe tbody tr th {\n",
       "        vertical-align: top;\n",
       "    }\n",
       "\n",
       "    .dataframe thead th {\n",
       "        text-align: right;\n",
       "    }\n",
       "</style>\n",
       "<table border=\"1\" class=\"dataframe\">\n",
       "  <thead>\n",
       "    <tr style=\"text-align: right;\">\n",
       "      <th></th>\n",
       "      <th>publisher_id</th>\n",
       "      <th>publisher</th>\n",
       "    </tr>\n",
       "  </thead>\n",
       "  <tbody>\n",
       "    <tr>\n",
       "      <th>0</th>\n",
       "      <td>1</td>\n",
       "      <td>Ace</td>\n",
       "    </tr>\n",
       "    <tr>\n",
       "      <th>1</th>\n",
       "      <td>2</td>\n",
       "      <td>Ace Book</td>\n",
       "    </tr>\n",
       "    <tr>\n",
       "      <th>2</th>\n",
       "      <td>3</td>\n",
       "      <td>Ace Books</td>\n",
       "    </tr>\n",
       "    <tr>\n",
       "      <th>3</th>\n",
       "      <td>4</td>\n",
       "      <td>Ace Hardcover</td>\n",
       "    </tr>\n",
       "    <tr>\n",
       "      <th>4</th>\n",
       "      <td>5</td>\n",
       "      <td>Addison Wesley Publishing Company</td>\n",
       "    </tr>\n",
       "  </tbody>\n",
       "</table>\n",
       "</div>"
      ],
      "text/plain": [
       "   publisher_id                          publisher\n",
       "0             1                                Ace\n",
       "1             2                           Ace Book\n",
       "2             3                          Ace Books\n",
       "3             4                      Ace Hardcover\n",
       "4             5  Addison Wesley Publishing Company"
      ]
     },
     "execution_count": 5,
     "metadata": {},
     "output_type": "execute_result"
    }
   ],
   "source": [
    "query = '''\n",
    "\n",
    "SELECT *\n",
    "FROM publishers\n",
    "LIMIT 5\n",
    "\n",
    "'''\n",
    "\n",
    "pd.io.sql.read_sql(query, con = engine)"
   ]
  },
  {
   "cell_type": "markdown",
   "metadata": {},
   "source": [
    "**Таблица ratings:**"
   ]
  },
  {
   "cell_type": "code",
   "execution_count": 6,
   "metadata": {},
   "outputs": [
    {
     "data": {
      "text/html": [
       "<div>\n",
       "<style scoped>\n",
       "    .dataframe tbody tr th:only-of-type {\n",
       "        vertical-align: middle;\n",
       "    }\n",
       "\n",
       "    .dataframe tbody tr th {\n",
       "        vertical-align: top;\n",
       "    }\n",
       "\n",
       "    .dataframe thead th {\n",
       "        text-align: right;\n",
       "    }\n",
       "</style>\n",
       "<table border=\"1\" class=\"dataframe\">\n",
       "  <thead>\n",
       "    <tr style=\"text-align: right;\">\n",
       "      <th></th>\n",
       "      <th>rating_id</th>\n",
       "      <th>book_id</th>\n",
       "      <th>username</th>\n",
       "      <th>rating</th>\n",
       "    </tr>\n",
       "  </thead>\n",
       "  <tbody>\n",
       "    <tr>\n",
       "      <th>0</th>\n",
       "      <td>1</td>\n",
       "      <td>1</td>\n",
       "      <td>ryanfranco</td>\n",
       "      <td>4</td>\n",
       "    </tr>\n",
       "    <tr>\n",
       "      <th>1</th>\n",
       "      <td>2</td>\n",
       "      <td>1</td>\n",
       "      <td>grantpatricia</td>\n",
       "      <td>2</td>\n",
       "    </tr>\n",
       "    <tr>\n",
       "      <th>2</th>\n",
       "      <td>3</td>\n",
       "      <td>1</td>\n",
       "      <td>brandtandrea</td>\n",
       "      <td>5</td>\n",
       "    </tr>\n",
       "    <tr>\n",
       "      <th>3</th>\n",
       "      <td>4</td>\n",
       "      <td>2</td>\n",
       "      <td>lorichen</td>\n",
       "      <td>3</td>\n",
       "    </tr>\n",
       "    <tr>\n",
       "      <th>4</th>\n",
       "      <td>5</td>\n",
       "      <td>2</td>\n",
       "      <td>mariokeller</td>\n",
       "      <td>2</td>\n",
       "    </tr>\n",
       "  </tbody>\n",
       "</table>\n",
       "</div>"
      ],
      "text/plain": [
       "   rating_id  book_id       username  rating\n",
       "0          1        1     ryanfranco       4\n",
       "1          2        1  grantpatricia       2\n",
       "2          3        1   brandtandrea       5\n",
       "3          4        2       lorichen       3\n",
       "4          5        2    mariokeller       2"
      ]
     },
     "execution_count": 6,
     "metadata": {},
     "output_type": "execute_result"
    }
   ],
   "source": [
    "query = '''\n",
    "\n",
    "SELECT *\n",
    "FROM ratings\n",
    "LIMIT 5\n",
    "\n",
    "'''\n",
    "\n",
    "pd.io.sql.read_sql(query, con = engine)"
   ]
  },
  {
   "cell_type": "markdown",
   "metadata": {},
   "source": [
    "**Таблица reviews:**"
   ]
  },
  {
   "cell_type": "code",
   "execution_count": 7,
   "metadata": {},
   "outputs": [
    {
     "data": {
      "text/html": [
       "<div>\n",
       "<style scoped>\n",
       "    .dataframe tbody tr th:only-of-type {\n",
       "        vertical-align: middle;\n",
       "    }\n",
       "\n",
       "    .dataframe tbody tr th {\n",
       "        vertical-align: top;\n",
       "    }\n",
       "\n",
       "    .dataframe thead th {\n",
       "        text-align: right;\n",
       "    }\n",
       "</style>\n",
       "<table border=\"1\" class=\"dataframe\">\n",
       "  <thead>\n",
       "    <tr style=\"text-align: right;\">\n",
       "      <th></th>\n",
       "      <th>review_id</th>\n",
       "      <th>book_id</th>\n",
       "      <th>username</th>\n",
       "      <th>text</th>\n",
       "    </tr>\n",
       "  </thead>\n",
       "  <tbody>\n",
       "    <tr>\n",
       "      <th>0</th>\n",
       "      <td>1</td>\n",
       "      <td>1</td>\n",
       "      <td>brandtandrea</td>\n",
       "      <td>Mention society tell send professor analysis. ...</td>\n",
       "    </tr>\n",
       "    <tr>\n",
       "      <th>1</th>\n",
       "      <td>2</td>\n",
       "      <td>1</td>\n",
       "      <td>ryanfranco</td>\n",
       "      <td>Foot glass pretty audience hit themselves. Amo...</td>\n",
       "    </tr>\n",
       "    <tr>\n",
       "      <th>2</th>\n",
       "      <td>3</td>\n",
       "      <td>2</td>\n",
       "      <td>lorichen</td>\n",
       "      <td>Listen treat keep worry. Miss husband tax but ...</td>\n",
       "    </tr>\n",
       "    <tr>\n",
       "      <th>3</th>\n",
       "      <td>4</td>\n",
       "      <td>3</td>\n",
       "      <td>johnsonamanda</td>\n",
       "      <td>Finally month interesting blue could nature cu...</td>\n",
       "    </tr>\n",
       "    <tr>\n",
       "      <th>4</th>\n",
       "      <td>5</td>\n",
       "      <td>3</td>\n",
       "      <td>scotttamara</td>\n",
       "      <td>Nation purpose heavy give wait song will. List...</td>\n",
       "    </tr>\n",
       "  </tbody>\n",
       "</table>\n",
       "</div>"
      ],
      "text/plain": [
       "   review_id  book_id       username  \\\n",
       "0          1        1   brandtandrea   \n",
       "1          2        1     ryanfranco   \n",
       "2          3        2       lorichen   \n",
       "3          4        3  johnsonamanda   \n",
       "4          5        3    scotttamara   \n",
       "\n",
       "                                                text  \n",
       "0  Mention society tell send professor analysis. ...  \n",
       "1  Foot glass pretty audience hit themselves. Amo...  \n",
       "2  Listen treat keep worry. Miss husband tax but ...  \n",
       "3  Finally month interesting blue could nature cu...  \n",
       "4  Nation purpose heavy give wait song will. List...  "
      ]
     },
     "execution_count": 7,
     "metadata": {},
     "output_type": "execute_result"
    }
   ],
   "source": [
    "query = '''\n",
    "\n",
    "SELECT *\n",
    "FROM reviews\n",
    "LIMIT 5\n",
    "\n",
    "'''\n",
    "\n",
    "pd.io.sql.read_sql(query, con = engine)"
   ]
  },
  {
   "cell_type": "markdown",
   "metadata": {},
   "source": [
    "## Выполнение задания"
   ]
  },
  {
   "cell_type": "markdown",
   "metadata": {},
   "source": [
    "### Посчитаем, сколько книг вышло после 1 января 2000 года;"
   ]
  },
  {
   "cell_type": "code",
   "execution_count": 8,
   "metadata": {},
   "outputs": [
    {
     "data": {
      "text/html": [
       "<div>\n",
       "<style scoped>\n",
       "    .dataframe tbody tr th:only-of-type {\n",
       "        vertical-align: middle;\n",
       "    }\n",
       "\n",
       "    .dataframe tbody tr th {\n",
       "        vertical-align: top;\n",
       "    }\n",
       "\n",
       "    .dataframe thead th {\n",
       "        text-align: right;\n",
       "    }\n",
       "</style>\n",
       "<table border=\"1\" class=\"dataframe\">\n",
       "  <thead>\n",
       "    <tr style=\"text-align: right;\">\n",
       "      <th></th>\n",
       "      <th>count</th>\n",
       "    </tr>\n",
       "  </thead>\n",
       "  <tbody>\n",
       "    <tr>\n",
       "      <th>0</th>\n",
       "      <td>819</td>\n",
       "    </tr>\n",
       "  </tbody>\n",
       "</table>\n",
       "</div>"
      ],
      "text/plain": [
       "   count\n",
       "0    819"
      ]
     },
     "execution_count": 8,
     "metadata": {},
     "output_type": "execute_result"
    }
   ],
   "source": [
    "query = '''\n",
    "SELECT COUNT(book_id)\n",
    "FROM books\n",
    "WHERE publication_date > '2000-01-01'\n",
    "'''\n",
    "\n",
    "pd.io.sql.read_sql(query, con = engine)"
   ]
  },
  {
   "cell_type": "markdown",
   "metadata": {},
   "source": [
    "819 книг вышло после 1 января 2020 года."
   ]
  },
  {
   "cell_type": "markdown",
   "metadata": {},
   "source": [
    "### Для каждой книги посчитаем количество обзоров и среднюю оценку;"
   ]
  },
  {
   "cell_type": "code",
   "execution_count": 20,
   "metadata": {
    "scrolled": false
   },
   "outputs": [
    {
     "data": {
      "text/html": [
       "<div>\n",
       "<style scoped>\n",
       "    .dataframe tbody tr th:only-of-type {\n",
       "        vertical-align: middle;\n",
       "    }\n",
       "\n",
       "    .dataframe tbody tr th {\n",
       "        vertical-align: top;\n",
       "    }\n",
       "\n",
       "    .dataframe thead th {\n",
       "        text-align: right;\n",
       "    }\n",
       "</style>\n",
       "<table border=\"1\" class=\"dataframe\">\n",
       "  <thead>\n",
       "    <tr style=\"text-align: right;\">\n",
       "      <th></th>\n",
       "      <th>book_id</th>\n",
       "      <th>title</th>\n",
       "      <th>count</th>\n",
       "      <th>round</th>\n",
       "    </tr>\n",
       "  </thead>\n",
       "  <tbody>\n",
       "    <tr>\n",
       "      <th>0</th>\n",
       "      <td>948</td>\n",
       "      <td>Twilight (Twilight  #1)</td>\n",
       "      <td>7</td>\n",
       "      <td>3.66</td>\n",
       "    </tr>\n",
       "    <tr>\n",
       "      <th>1</th>\n",
       "      <td>302</td>\n",
       "      <td>Harry Potter and the Prisoner of Azkaban (Harr...</td>\n",
       "      <td>6</td>\n",
       "      <td>4.41</td>\n",
       "    </tr>\n",
       "    <tr>\n",
       "      <th>2</th>\n",
       "      <td>299</td>\n",
       "      <td>Harry Potter and the Chamber of Secrets (Harry...</td>\n",
       "      <td>6</td>\n",
       "      <td>4.29</td>\n",
       "    </tr>\n",
       "    <tr>\n",
       "      <th>3</th>\n",
       "      <td>656</td>\n",
       "      <td>The Book Thief</td>\n",
       "      <td>6</td>\n",
       "      <td>4.26</td>\n",
       "    </tr>\n",
       "    <tr>\n",
       "      <th>4</th>\n",
       "      <td>734</td>\n",
       "      <td>The Glass Castle</td>\n",
       "      <td>6</td>\n",
       "      <td>4.21</td>\n",
       "    </tr>\n",
       "    <tr>\n",
       "      <th>...</th>\n",
       "      <td>...</td>\n",
       "      <td>...</td>\n",
       "      <td>...</td>\n",
       "      <td>...</td>\n",
       "    </tr>\n",
       "    <tr>\n",
       "      <th>995</th>\n",
       "      <td>191</td>\n",
       "      <td>Disney's Beauty and the Beast (A Little Golden...</td>\n",
       "      <td>0</td>\n",
       "      <td>4.00</td>\n",
       "    </tr>\n",
       "    <tr>\n",
       "      <th>996</th>\n",
       "      <td>387</td>\n",
       "      <td>Leonardo's Notebooks</td>\n",
       "      <td>0</td>\n",
       "      <td>4.00</td>\n",
       "    </tr>\n",
       "    <tr>\n",
       "      <th>997</th>\n",
       "      <td>221</td>\n",
       "      <td>Essential Tales and Poems</td>\n",
       "      <td>0</td>\n",
       "      <td>4.00</td>\n",
       "    </tr>\n",
       "    <tr>\n",
       "      <th>998</th>\n",
       "      <td>83</td>\n",
       "      <td>Anne Rice's The Vampire Lestat: A Graphic Novel</td>\n",
       "      <td>0</td>\n",
       "      <td>3.67</td>\n",
       "    </tr>\n",
       "    <tr>\n",
       "      <th>999</th>\n",
       "      <td>808</td>\n",
       "      <td>The Natural Way to Draw</td>\n",
       "      <td>0</td>\n",
       "      <td>3.00</td>\n",
       "    </tr>\n",
       "  </tbody>\n",
       "</table>\n",
       "<p>1000 rows × 4 columns</p>\n",
       "</div>"
      ],
      "text/plain": [
       "     book_id                                              title  count  round\n",
       "0        948                            Twilight (Twilight  #1)      7   3.66\n",
       "1        302  Harry Potter and the Prisoner of Azkaban (Harr...      6   4.41\n",
       "2        299  Harry Potter and the Chamber of Secrets (Harry...      6   4.29\n",
       "3        656                                     The Book Thief      6   4.26\n",
       "4        734                                   The Glass Castle      6   4.21\n",
       "..       ...                                                ...    ...    ...\n",
       "995      191  Disney's Beauty and the Beast (A Little Golden...      0   4.00\n",
       "996      387                               Leonardo's Notebooks      0   4.00\n",
       "997      221                          Essential Tales and Poems      0   4.00\n",
       "998       83    Anne Rice's The Vampire Lestat: A Graphic Novel      0   3.67\n",
       "999      808                            The Natural Way to Draw      0   3.00\n",
       "\n",
       "[1000 rows x 4 columns]"
      ]
     },
     "execution_count": 20,
     "metadata": {},
     "output_type": "execute_result"
    }
   ],
   "source": [
    "query = '''\n",
    "SELECT b.book_id,\n",
    "       b.title,\n",
    "       COUNT(DISTINCT rv.review_id),\n",
    "       ROUND(AVG(rt.rating),2)\n",
    "FROM books AS b\n",
    "LEFT JOIN ratings AS rt ON b.book_id = rt.book_id \n",
    "LEFT JOIN reviews AS rv ON b.book_id = rv.book_id \n",
    "GROUP BY b.book_id\n",
    "ORDER BY count DESC, round DESC\n",
    "\n",
    "'''\n",
    "\n",
    "pd.io.sql.read_sql(query, con = engine)"
   ]
  },
  {
   "cell_type": "markdown",
   "metadata": {},
   "source": [
    "Всего в каталоге 1000 книги, максимальное количество обзоров 7. Средний рейтинг каждой книги представлен в таблице."
   ]
  },
  {
   "cell_type": "markdown",
   "metadata": {},
   "source": [
    "### Определим издательство, которое выпустило наибольшее число книг толще 50 страниц — так вы исключите из анализа брошюры;"
   ]
  },
  {
   "cell_type": "code",
   "execution_count": 10,
   "metadata": {},
   "outputs": [
    {
     "data": {
      "text/html": [
       "<div>\n",
       "<style scoped>\n",
       "    .dataframe tbody tr th:only-of-type {\n",
       "        vertical-align: middle;\n",
       "    }\n",
       "\n",
       "    .dataframe tbody tr th {\n",
       "        vertical-align: top;\n",
       "    }\n",
       "\n",
       "    .dataframe thead th {\n",
       "        text-align: right;\n",
       "    }\n",
       "</style>\n",
       "<table border=\"1\" class=\"dataframe\">\n",
       "  <thead>\n",
       "    <tr style=\"text-align: right;\">\n",
       "      <th></th>\n",
       "      <th>publisher</th>\n",
       "    </tr>\n",
       "  </thead>\n",
       "  <tbody>\n",
       "    <tr>\n",
       "      <th>0</th>\n",
       "      <td>Penguin Books</td>\n",
       "    </tr>\n",
       "  </tbody>\n",
       "</table>\n",
       "</div>"
      ],
      "text/plain": [
       "       publisher\n",
       "0  Penguin Books"
      ]
     },
     "execution_count": 10,
     "metadata": {},
     "output_type": "execute_result"
    }
   ],
   "source": [
    "query = '''\n",
    "SELECT pb.publisher\n",
    "\n",
    "FROM books AS b\n",
    "JOIN publishers AS pb ON b.publisher_id = pb.publisher_id\n",
    "WHERE num_pages > 50\n",
    "GROUP BY pb.publisher\n",
    "ORDER BY COUNT(b.book_id) DESC\n",
    "LIMIT 1\n",
    "\n",
    "'''\n",
    "\n",
    "pd.io.sql.read_sql(query, con = engine)"
   ]
  },
  {
   "cell_type": "markdown",
   "metadata": {},
   "source": [
    "Наиболее широко представлены книги издательства Penguin Books. При определении издательства не учитывались книги с толщиной менее 50 страниц."
   ]
  },
  {
   "cell_type": "markdown",
   "metadata": {},
   "source": [
    "### Определим автора с самой высокой средней оценкой книг — учитывайте только книги с 50 и более оценками;"
   ]
  },
  {
   "cell_type": "code",
   "execution_count": 13,
   "metadata": {},
   "outputs": [
    {
     "data": {
      "text/html": [
       "<div>\n",
       "<style scoped>\n",
       "    .dataframe tbody tr th:only-of-type {\n",
       "        vertical-align: middle;\n",
       "    }\n",
       "\n",
       "    .dataframe tbody tr th {\n",
       "        vertical-align: top;\n",
       "    }\n",
       "\n",
       "    .dataframe thead th {\n",
       "        text-align: right;\n",
       "    }\n",
       "</style>\n",
       "<table border=\"1\" class=\"dataframe\">\n",
       "  <thead>\n",
       "    <tr style=\"text-align: right;\">\n",
       "      <th></th>\n",
       "      <th>author_id</th>\n",
       "      <th>author</th>\n",
       "      <th>round</th>\n",
       "    </tr>\n",
       "  </thead>\n",
       "  <tbody>\n",
       "    <tr>\n",
       "      <th>0</th>\n",
       "      <td>236</td>\n",
       "      <td>J.K. Rowling/Mary GrandPré</td>\n",
       "      <td>4.29</td>\n",
       "    </tr>\n",
       "  </tbody>\n",
       "</table>\n",
       "</div>"
      ],
      "text/plain": [
       "   author_id                      author  round\n",
       "0        236  J.K. Rowling/Mary GrandPré   4.29"
      ]
     },
     "execution_count": 13,
     "metadata": {},
     "output_type": "execute_result"
    }
   ],
   "source": [
    "query = '''\n",
    "WITH \n",
    "\n",
    "tb AS (\n",
    "        SELECT book_id\n",
    "        FROM ratings\n",
    "        GROUP BY book_id\n",
    "        HAVING COUNT(rating_id) > 50\n",
    "        )\n",
    "\n",
    "SELECT au.author_id, \n",
    "       au.author, \n",
    "       ROUND(AVG(rt.rating),2)\n",
    "FROM books AS b\n",
    "INNER JOIN tb ON b.book_id = tb.book_id\n",
    "INNER JOIN authors AS au ON b.author_id = au.author_id\n",
    "INNER JOIN ratings AS rt ON tb.book_id = rt.book_id\n",
    "\n",
    "GROUP BY au.author_id\n",
    "ORDER BY AVG(rt.rating) DESC\n",
    "\n",
    "LIMIT 1\n",
    "\n",
    "'''\n",
    "\n",
    "pd.io.sql.read_sql(query, con = engine)"
   ]
  },
  {
   "cell_type": "markdown",
   "metadata": {},
   "source": [
    "Самый популярный автор со средним рейтингом **4,29** баллов из 5 – это тандем J.K. Rowling & Mary GrandPré"
   ]
  },
  {
   "cell_type": "markdown",
   "metadata": {},
   "source": [
    "### Посчитаем среднее количество обзоров от пользователей, которые поставили больше 50 оценок."
   ]
  },
  {
   "cell_type": "code",
   "execution_count": 12,
   "metadata": {},
   "outputs": [
    {
     "data": {
      "text/html": [
       "<div>\n",
       "<style scoped>\n",
       "    .dataframe tbody tr th:only-of-type {\n",
       "        vertical-align: middle;\n",
       "    }\n",
       "\n",
       "    .dataframe tbody tr th {\n",
       "        vertical-align: top;\n",
       "    }\n",
       "\n",
       "    .dataframe thead th {\n",
       "        text-align: right;\n",
       "    }\n",
       "</style>\n",
       "<table border=\"1\" class=\"dataframe\">\n",
       "  <thead>\n",
       "    <tr style=\"text-align: right;\">\n",
       "      <th></th>\n",
       "      <th>avg_rating</th>\n",
       "    </tr>\n",
       "  </thead>\n",
       "  <tbody>\n",
       "    <tr>\n",
       "      <th>0</th>\n",
       "      <td>24</td>\n",
       "    </tr>\n",
       "  </tbody>\n",
       "</table>\n",
       "</div>"
      ],
      "text/plain": [
       "   avg_rating\n",
       "0          24"
      ]
     },
     "execution_count": 12,
     "metadata": {},
     "output_type": "execute_result"
    }
   ],
   "source": [
    "query = '''\n",
    "\n",
    "SELECT COUNT(DISTINCT rv.text)/ COUNT(DISTINCT rv.username) AS AVG_rating\n",
    "\n",
    "FROM ratings AS rt\n",
    "INNER JOIN reviews AS rv ON rt.username = rv.username\n",
    "WHERE rt.username in ( SELECT username\n",
    "                      FROM ratings\n",
    "                      GROUP BY username\n",
    "                      HAVING COUNT(rating_id) > 50\n",
    "                    )\n",
    "\n",
    "'''\n",
    "pd.io.sql.read_sql(query, con = engine)"
   ]
  },
  {
   "cell_type": "markdown",
   "metadata": {},
   "source": [
    "Среднее количество обзоров от пользователя составила 24 книги. В учет не брались пользователи оставившие менее 50 оценок"
   ]
  },
  {
   "cell_type": "markdown",
   "metadata": {},
   "source": [
    "## Вывод"
   ]
  },
  {
   "cell_type": "markdown",
   "metadata": {},
   "source": [
    "В ходе исследования была проанализирована база данных крупного сервиса чтения книг по подписке. В БД содержится информация о книгах, авторах, издательствах, а также пользовательские обзоры и оценки книг.\n",
    "В ходе исследования было выявлено:\n",
    "1.\tВсего в каталоге 1000 книг, 819 из них были добавлены с 1 января 2000 года.\n",
    "2.\tПочти у каждой книги есть хотя бы один обзор от пользователей, максимально количество 7 обзоров на одну книгу.\n",
    "3.\tНаиболее широко представлены книги издательства Penguin Books. При определении издательства не учитывались книги с толщиной менее 50 страниц.\n",
    "4.\tСамый популярный автор со средним рейтингом 4,29 баллов из 5 – это тандем J.K. Rowling & Mary GrandPré\n",
    "5.\tСреднее количество обзоров от пользователя составила 24 книги. В учет не брались пользователи, оставившие менее 50 оценок.\n"
   ]
  }
 ],
 "metadata": {
  "ExecuteTimeLog": [
   {
    "duration": 489,
    "start_time": "2023-02-20T05:11:23.228Z"
   },
   {
    "duration": 3,
    "start_time": "2023-02-20T05:12:03.427Z"
   },
   {
    "duration": 55,
    "start_time": "2023-02-20T05:55:12.936Z"
   },
   {
    "duration": 62,
    "start_time": "2023-02-20T05:55:23.749Z"
   },
   {
    "duration": 3,
    "start_time": "2023-02-20T05:55:36.885Z"
   },
   {
    "duration": 2,
    "start_time": "2023-02-20T05:55:38.726Z"
   },
   {
    "duration": 7,
    "start_time": "2023-02-20T05:55:41.453Z"
   },
   {
    "duration": 2158,
    "start_time": "2023-02-20T05:55:57.108Z"
   },
   {
    "duration": 4,
    "start_time": "2023-02-20T05:55:59.268Z"
   },
   {
    "duration": 9,
    "start_time": "2023-02-20T05:56:02.789Z"
   },
   {
    "duration": 8,
    "start_time": "2023-02-20T05:56:29.885Z"
   },
   {
    "duration": 8,
    "start_time": "2023-02-20T05:56:36.644Z"
   },
   {
    "duration": 1935,
    "start_time": "2023-02-20T06:02:12.424Z"
   },
   {
    "duration": 2413,
    "start_time": "2023-02-20T06:02:27.542Z"
   },
   {
    "duration": 4,
    "start_time": "2023-02-20T06:02:29.958Z"
   },
   {
    "duration": 87,
    "start_time": "2023-02-20T06:02:29.964Z"
   },
   {
    "duration": 4919,
    "start_time": "2023-02-20T06:25:40.897Z"
   },
   {
    "duration": 100,
    "start_time": "2023-02-20T06:25:45.818Z"
   },
   {
    "duration": 85,
    "start_time": "2023-02-20T06:26:13.062Z"
   },
   {
    "duration": 61,
    "start_time": "2023-02-20T06:26:36.921Z"
   },
   {
    "duration": 4,
    "start_time": "2023-02-20T06:27:12.272Z"
   },
   {
    "duration": 4,
    "start_time": "2023-02-20T06:27:36.472Z"
   },
   {
    "duration": 75,
    "start_time": "2023-02-20T06:27:52.065Z"
   },
   {
    "duration": 54,
    "start_time": "2023-02-20T06:28:40.645Z"
   },
   {
    "duration": 4,
    "start_time": "2023-02-20T06:29:09.078Z"
   },
   {
    "duration": 8,
    "start_time": "2023-02-20T06:29:45.838Z"
   },
   {
    "duration": 80,
    "start_time": "2023-02-20T06:29:50.406Z"
   },
   {
    "duration": 8,
    "start_time": "2023-02-20T06:30:00.814Z"
   },
   {
    "duration": 14,
    "start_time": "2023-02-20T06:30:36.182Z"
   },
   {
    "duration": 13,
    "start_time": "2023-02-20T06:31:05.005Z"
   },
   {
    "duration": 9,
    "start_time": "2023-02-20T06:31:21.749Z"
   },
   {
    "duration": 8,
    "start_time": "2023-02-20T06:31:25.165Z"
   },
   {
    "duration": 7,
    "start_time": "2023-02-20T06:31:34.652Z"
   },
   {
    "duration": 12,
    "start_time": "2023-02-20T06:32:02.349Z"
   },
   {
    "duration": 11,
    "start_time": "2023-02-20T06:32:24.764Z"
   },
   {
    "duration": 14,
    "start_time": "2023-02-20T06:32:53.684Z"
   },
   {
    "duration": 13,
    "start_time": "2023-02-20T06:34:08.499Z"
   },
   {
    "duration": 12,
    "start_time": "2023-02-20T06:34:19.073Z"
   },
   {
    "duration": 64,
    "start_time": "2023-02-20T06:38:41.994Z"
   },
   {
    "duration": 75,
    "start_time": "2023-02-20T06:38:47.664Z"
   },
   {
    "duration": 63,
    "start_time": "2023-02-20T06:39:04.827Z"
   },
   {
    "duration": 13,
    "start_time": "2023-02-20T06:39:17.040Z"
   },
   {
    "duration": 47,
    "start_time": "2023-02-20T06:45:12.819Z"
   },
   {
    "duration": 71,
    "start_time": "2023-02-20T06:45:43.851Z"
   },
   {
    "duration": 2359,
    "start_time": "2023-02-20T06:45:48.507Z"
   },
   {
    "duration": 84,
    "start_time": "2023-02-20T06:46:53.362Z"
   },
   {
    "duration": 226,
    "start_time": "2023-02-20T06:47:05.762Z"
   },
   {
    "duration": 84,
    "start_time": "2023-02-20T06:48:51.433Z"
   },
   {
    "duration": 73,
    "start_time": "2023-02-20T06:48:57.962Z"
   },
   {
    "duration": 72,
    "start_time": "2023-02-20T06:49:11.266Z"
   },
   {
    "duration": 77,
    "start_time": "2023-02-20T06:49:15.417Z"
   },
   {
    "duration": 81,
    "start_time": "2023-02-20T06:49:45.721Z"
   },
   {
    "duration": 72,
    "start_time": "2023-02-20T06:50:21.754Z"
   },
   {
    "duration": 72,
    "start_time": "2023-02-20T06:50:46.328Z"
   },
   {
    "duration": 121,
    "start_time": "2023-02-20T06:51:00.776Z"
   },
   {
    "duration": 24,
    "start_time": "2023-02-20T06:51:10.271Z"
   },
   {
    "duration": 25,
    "start_time": "2023-02-20T06:51:16.584Z"
   },
   {
    "duration": 63,
    "start_time": "2023-02-20T06:52:06.080Z"
   },
   {
    "duration": 36,
    "start_time": "2023-02-20T06:52:17.135Z"
   },
   {
    "duration": 42,
    "start_time": "2023-02-20T06:52:23.703Z"
   },
   {
    "duration": 27,
    "start_time": "2023-02-20T06:52:39.047Z"
   },
   {
    "duration": 81,
    "start_time": "2023-02-20T07:29:43.356Z"
   },
   {
    "duration": 26,
    "start_time": "2023-02-20T07:29:49.733Z"
   },
   {
    "duration": 25,
    "start_time": "2023-02-20T07:30:17.492Z"
   },
   {
    "duration": 73,
    "start_time": "2023-02-20T07:31:40.012Z"
   },
   {
    "duration": 72,
    "start_time": "2023-02-20T07:31:55.227Z"
   },
   {
    "duration": 71,
    "start_time": "2023-02-20T07:32:13.091Z"
   },
   {
    "duration": 60,
    "start_time": "2023-02-20T07:32:33.575Z"
   },
   {
    "duration": 12,
    "start_time": "2023-02-20T07:33:05.458Z"
   },
   {
    "duration": 13,
    "start_time": "2023-02-20T07:33:12.114Z"
   },
   {
    "duration": 12,
    "start_time": "2023-02-20T07:33:24.434Z"
   },
   {
    "duration": 15,
    "start_time": "2023-02-20T07:33:47.874Z"
   },
   {
    "duration": 84,
    "start_time": "2023-02-20T07:33:54.082Z"
   },
   {
    "duration": 12,
    "start_time": "2023-02-20T07:33:58.593Z"
   },
   {
    "duration": 71,
    "start_time": "2023-02-20T07:50:13.677Z"
   },
   {
    "duration": 68,
    "start_time": "2023-02-20T07:50:38.477Z"
   },
   {
    "duration": 66,
    "start_time": "2023-02-20T07:51:42.149Z"
   },
   {
    "duration": 65,
    "start_time": "2023-02-20T07:51:56.966Z"
   },
   {
    "duration": 89,
    "start_time": "2023-02-20T07:52:38.013Z"
   },
   {
    "duration": 70,
    "start_time": "2023-02-20T07:52:51.623Z"
   },
   {
    "duration": 15,
    "start_time": "2023-02-20T07:53:02.420Z"
   },
   {
    "duration": 20,
    "start_time": "2023-02-20T07:54:58.647Z"
   },
   {
    "duration": 78,
    "start_time": "2023-02-20T08:03:36.123Z"
   },
   {
    "duration": 68,
    "start_time": "2023-02-20T08:03:56.951Z"
   },
   {
    "duration": 67,
    "start_time": "2023-02-20T08:04:07.355Z"
   },
   {
    "duration": 3,
    "start_time": "2023-02-20T08:04:49.916Z"
   },
   {
    "duration": 99,
    "start_time": "2023-02-20T08:05:02.099Z"
   },
   {
    "duration": 74,
    "start_time": "2023-02-20T08:05:06.500Z"
   },
   {
    "duration": 69,
    "start_time": "2023-02-20T08:05:27.564Z"
   },
   {
    "duration": 19,
    "start_time": "2023-02-20T08:05:38.124Z"
   },
   {
    "duration": 19,
    "start_time": "2023-02-20T08:05:51.291Z"
   },
   {
    "duration": 21,
    "start_time": "2023-02-20T08:06:47.980Z"
   },
   {
    "duration": 2485,
    "start_time": "2023-02-20T08:07:53.554Z"
   },
   {
    "duration": 5499,
    "start_time": "2023-02-20T08:07:56.041Z"
   },
   {
    "duration": 60,
    "start_time": "2023-02-20T08:08:01.542Z"
   },
   {
    "duration": 58,
    "start_time": "2023-02-20T08:08:01.604Z"
   },
   {
    "duration": 67,
    "start_time": "2023-02-20T08:08:01.663Z"
   },
   {
    "duration": 27,
    "start_time": "2023-02-20T08:08:01.732Z"
   },
   {
    "duration": 55,
    "start_time": "2023-02-20T08:08:01.761Z"
   },
   {
    "duration": 32,
    "start_time": "2023-02-20T08:08:01.819Z"
   },
   {
    "duration": 64,
    "start_time": "2023-02-20T08:08:01.853Z"
   },
   {
    "duration": 12,
    "start_time": "2023-02-20T08:08:01.918Z"
   },
   {
    "duration": 17,
    "start_time": "2023-02-20T08:08:01.932Z"
   },
   {
    "duration": 23,
    "start_time": "2023-02-20T08:08:01.950Z"
   },
   {
    "duration": 26,
    "start_time": "2023-02-20T08:09:02.950Z"
   },
   {
    "duration": 32,
    "start_time": "2023-02-20T08:09:10.624Z"
   },
   {
    "duration": 28,
    "start_time": "2023-02-20T08:09:36.560Z"
   },
   {
    "duration": 28,
    "start_time": "2023-02-20T08:09:39.672Z"
   },
   {
    "duration": 29,
    "start_time": "2023-02-20T08:09:48.776Z"
   },
   {
    "duration": 15,
    "start_time": "2023-02-20T08:18:41.915Z"
   },
   {
    "duration": 19,
    "start_time": "2023-02-20T08:18:56.410Z"
   },
   {
    "duration": 2950,
    "start_time": "2023-02-20T08:57:43.257Z"
   },
   {
    "duration": 5693,
    "start_time": "2023-02-20T08:57:46.209Z"
   },
   {
    "duration": 292,
    "start_time": "2023-02-20T08:57:51.904Z"
   },
   {
    "duration": 77,
    "start_time": "2023-02-20T08:57:52.199Z"
   },
   {
    "duration": 75,
    "start_time": "2023-02-20T08:57:52.278Z"
   },
   {
    "duration": 79,
    "start_time": "2023-02-20T08:57:52.355Z"
   },
   {
    "duration": 75,
    "start_time": "2023-02-20T08:57:52.436Z"
   },
   {
    "duration": 76,
    "start_time": "2023-02-20T08:57:52.513Z"
   },
   {
    "duration": 115,
    "start_time": "2023-02-20T08:57:52.590Z"
   },
   {
    "duration": 78,
    "start_time": "2023-02-20T08:57:52.706Z"
   },
   {
    "duration": 82,
    "start_time": "2023-02-20T08:57:52.786Z"
   },
   {
    "duration": 83,
    "start_time": "2023-02-20T08:57:52.869Z"
   },
   {
    "duration": 81,
    "start_time": "2023-02-20T08:58:13.500Z"
   },
   {
    "duration": 28,
    "start_time": "2023-02-20T09:10:38.991Z"
   },
   {
    "duration": 41,
    "start_time": "2023-02-20T09:13:06.974Z"
   }
  ],
  "kernelspec": {
   "display_name": "Python 3 (ipykernel)",
   "language": "python",
   "name": "python3"
  },
  "language_info": {
   "codemirror_mode": {
    "name": "ipython",
    "version": 3
   },
   "file_extension": ".py",
   "mimetype": "text/x-python",
   "name": "python",
   "nbconvert_exporter": "python",
   "pygments_lexer": "ipython3",
   "version": "3.9.12"
  },
  "toc": {
   "base_numbering": 1,
   "nav_menu": {},
   "number_sections": true,
   "sideBar": true,
   "skip_h1_title": true,
   "title_cell": "Table of Contents",
   "title_sidebar": "Contents",
   "toc_cell": false,
   "toc_position": {},
   "toc_section_display": true,
   "toc_window_display": false
  }
 },
 "nbformat": 4,
 "nbformat_minor": 2
}
