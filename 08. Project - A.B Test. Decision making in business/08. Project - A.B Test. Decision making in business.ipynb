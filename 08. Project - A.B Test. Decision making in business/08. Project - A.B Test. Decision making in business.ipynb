{
 "cells": [
  {
   "cell_type": "markdown",
   "metadata": {},
   "source": [
    "# Проект: Принятие решений в Бизнесе"
   ]
  },
  {
   "cell_type": "markdown",
   "metadata": {},
   "source": [
    "**Вместе с отделом маркетинга мы подготовили список гипотез для увеличения выручки. Приоритизируем гипотезы, запустите A/B-тест и проанализируем результаты.**"
   ]
  },
  {
   "cell_type": "markdown",
   "metadata": {},
   "source": [
    "# План работы:"
   ]
  },
  {
   "cell_type": "markdown",
   "metadata": {},
   "source": [
    "1. Подготовка к работе\n",
    "    1. Выведем таблицы и изучим данные\n",
    "    2. Предобработка данных\n",
    "2. Приоритизация гипотез\n",
    "    1. Применим фреймворк ICE для приоритизации гипотиз\n",
    "    2. Применим фреймворк RICE для приоритизации гипотиз\n",
    "    3. Вывод\n",
    "3.\tАнализ A/B-теста\n",
    "    1. Построим график кумулятивной выручки по группам.\n",
    "    2. Построим график кумулятивного среднего чека по группам.\n",
    "    3. Построим график относительного изменения кумулятивного среднего чека группы B к группе A.\n",
    "    4. Построим график кумулятивного среднего количества заказов по группам.\n",
    "    5. Построим график относительного изменения кумулятивного среднего количества заказов группы B к группе A.\n",
    "    6. Построим точечный график количества заказов по пользователям.\n",
    "    7. Посчитаем 95-й и 99-й перцентили количества заказов на пользователя.\n",
    "    8. Построим точечный график стоимостей заказов.\n",
    "    9. Построим 95-й и 99-й перцентили стоимости заказов.\n",
    "    10. Посчитаем статистическую значимость различий в среднем количестве заказов между группами по «сырым» данным.\n",
    "    11. Посчитаем статистическую значимость различий в среднем чеке заказа между группами по «сырым» данным.\n",
    "    12. Посчитаем статистическую значимость различий в среднем количестве заказов между группами по «очищенным» данным.\n",
    "    13. Посчитаем статистическую значимость различий в среднем чеке заказа между группами по «очищенным» данным. \n",
    "    14. Примем решение по результатам теста\n",
    "    \n"
   ]
  },
  {
   "cell_type": "markdown",
   "metadata": {},
   "source": [
    "## Подготовка к работе"
   ]
  },
  {
   "cell_type": "markdown",
   "metadata": {},
   "source": [
    "### Выведем таблицы и изучим данные"
   ]
  },
  {
   "cell_type": "code",
   "execution_count": 1,
   "metadata": {},
   "outputs": [],
   "source": [
    "import pandas as pd\n",
    "import numpy as np\n",
    "import matplotlib.pyplot as plt\n",
    "import datetime as dt\n",
    "import scipy.stats as stats\n"
   ]
  },
  {
   "cell_type": "code",
   "execution_count": 2,
   "metadata": {},
   "outputs": [],
   "source": [
    "# снимем ограничение на ширину столбцов\n",
    "pd.set_option('display.max_colwidth', None)"
   ]
  },
  {
   "cell_type": "code",
   "execution_count": 3,
   "metadata": {},
   "outputs": [],
   "source": [
    "hypothesis = pd.read_csv('/datasets/hypothesis.csv')\n",
    "orders =     pd.read_csv('/datasets/orders.csv')\n",
    "visitors =   pd.read_csv('/datasets/visitors.csv')"
   ]
  },
  {
   "cell_type": "code",
   "execution_count": 4,
   "metadata": {},
   "outputs": [
    {
     "name": "stdout",
     "output_type": "stream",
     "text": [
      "<class 'pandas.core.frame.DataFrame'>\n",
      "RangeIndex: 9 entries, 0 to 8\n",
      "Data columns (total 5 columns):\n",
      " #   Column      Non-Null Count  Dtype \n",
      "---  ------      --------------  ----- \n",
      " 0   Hypothesis  9 non-null      object\n",
      " 1   Reach       9 non-null      int64 \n",
      " 2   Impact      9 non-null      int64 \n",
      " 3   Confidence  9 non-null      int64 \n",
      " 4   Efforts     9 non-null      int64 \n",
      "dtypes: int64(4), object(1)\n",
      "memory usage: 488.0+ bytes\n"
     ]
    },
    {
     "data": {
      "text/html": [
       "<div>\n",
       "<style scoped>\n",
       "    .dataframe tbody tr th:only-of-type {\n",
       "        vertical-align: middle;\n",
       "    }\n",
       "\n",
       "    .dataframe tbody tr th {\n",
       "        vertical-align: top;\n",
       "    }\n",
       "\n",
       "    .dataframe thead th {\n",
       "        text-align: right;\n",
       "    }\n",
       "</style>\n",
       "<table border=\"1\" class=\"dataframe\">\n",
       "  <thead>\n",
       "    <tr style=\"text-align: right;\">\n",
       "      <th></th>\n",
       "      <th>Hypothesis</th>\n",
       "      <th>Reach</th>\n",
       "      <th>Impact</th>\n",
       "      <th>Confidence</th>\n",
       "      <th>Efforts</th>\n",
       "    </tr>\n",
       "  </thead>\n",
       "  <tbody>\n",
       "    <tr>\n",
       "      <th>0</th>\n",
       "      <td>Добавить два новых канала привлечения трафика, что позволит привлекать на 30% больше пользователей</td>\n",
       "      <td>3</td>\n",
       "      <td>10</td>\n",
       "      <td>8</td>\n",
       "      <td>6</td>\n",
       "    </tr>\n",
       "    <tr>\n",
       "      <th>1</th>\n",
       "      <td>Запустить собственную службу доставки, что сократит срок доставки заказов</td>\n",
       "      <td>2</td>\n",
       "      <td>5</td>\n",
       "      <td>4</td>\n",
       "      <td>10</td>\n",
       "    </tr>\n",
       "    <tr>\n",
       "      <th>2</th>\n",
       "      <td>Добавить блоки рекомендаций товаров на сайт интернет магазина, чтобы повысить конверсию и средний чек заказа</td>\n",
       "      <td>8</td>\n",
       "      <td>3</td>\n",
       "      <td>7</td>\n",
       "      <td>3</td>\n",
       "    </tr>\n",
       "    <tr>\n",
       "      <th>3</th>\n",
       "      <td>Изменить структура категорий, что увеличит конверсию, т.к. пользователи быстрее найдут нужный товар</td>\n",
       "      <td>8</td>\n",
       "      <td>3</td>\n",
       "      <td>3</td>\n",
       "      <td>8</td>\n",
       "    </tr>\n",
       "    <tr>\n",
       "      <th>4</th>\n",
       "      <td>Изменить цвет фона главной страницы, чтобы увеличить вовлеченность пользователей</td>\n",
       "      <td>3</td>\n",
       "      <td>1</td>\n",
       "      <td>1</td>\n",
       "      <td>1</td>\n",
       "    </tr>\n",
       "    <tr>\n",
       "      <th>5</th>\n",
       "      <td>Добавить страницу отзывов клиентов о магазине, что позволит увеличить количество заказов</td>\n",
       "      <td>3</td>\n",
       "      <td>2</td>\n",
       "      <td>2</td>\n",
       "      <td>3</td>\n",
       "    </tr>\n",
       "    <tr>\n",
       "      <th>6</th>\n",
       "      <td>Показать на главной странице баннеры с актуальными акциями и распродажами, чтобы увеличить конверсию</td>\n",
       "      <td>5</td>\n",
       "      <td>3</td>\n",
       "      <td>8</td>\n",
       "      <td>3</td>\n",
       "    </tr>\n",
       "    <tr>\n",
       "      <th>7</th>\n",
       "      <td>Добавить форму подписки на все основные страницы, чтобы собрать базу клиентов для email-рассылок</td>\n",
       "      <td>10</td>\n",
       "      <td>7</td>\n",
       "      <td>8</td>\n",
       "      <td>5</td>\n",
       "    </tr>\n",
       "    <tr>\n",
       "      <th>8</th>\n",
       "      <td>Запустить акцию, дающую скидку на товар в день рождения</td>\n",
       "      <td>1</td>\n",
       "      <td>9</td>\n",
       "      <td>9</td>\n",
       "      <td>5</td>\n",
       "    </tr>\n",
       "  </tbody>\n",
       "</table>\n",
       "</div>"
      ],
      "text/plain": [
       "                                                                                                     Hypothesis  \\\n",
       "0            Добавить два новых канала привлечения трафика, что позволит привлекать на 30% больше пользователей   \n",
       "1                                     Запустить собственную службу доставки, что сократит срок доставки заказов   \n",
       "2  Добавить блоки рекомендаций товаров на сайт интернет магазина, чтобы повысить конверсию и средний чек заказа   \n",
       "3           Изменить структура категорий, что увеличит конверсию, т.к. пользователи быстрее найдут нужный товар   \n",
       "4                              Изменить цвет фона главной страницы, чтобы увеличить вовлеченность пользователей   \n",
       "5                      Добавить страницу отзывов клиентов о магазине, что позволит увеличить количество заказов   \n",
       "6          Показать на главной странице баннеры с актуальными акциями и распродажами, чтобы увеличить конверсию   \n",
       "7              Добавить форму подписки на все основные страницы, чтобы собрать базу клиентов для email-рассылок   \n",
       "8                                                       Запустить акцию, дающую скидку на товар в день рождения   \n",
       "\n",
       "   Reach  Impact  Confidence  Efforts  \n",
       "0      3      10           8        6  \n",
       "1      2       5           4       10  \n",
       "2      8       3           7        3  \n",
       "3      8       3           3        8  \n",
       "4      3       1           1        1  \n",
       "5      3       2           2        3  \n",
       "6      5       3           8        3  \n",
       "7     10       7           8        5  \n",
       "8      1       9           9        5  "
      ]
     },
     "execution_count": 4,
     "metadata": {},
     "output_type": "execute_result"
    }
   ],
   "source": [
    "hypothesis.info()\n",
    "hypothesis"
   ]
  },
  {
   "cell_type": "code",
   "execution_count": 5,
   "metadata": {
    "scrolled": true
   },
   "outputs": [
    {
     "name": "stdout",
     "output_type": "stream",
     "text": [
      "<class 'pandas.core.frame.DataFrame'>\n",
      "RangeIndex: 1197 entries, 0 to 1196\n",
      "Data columns (total 5 columns):\n",
      " #   Column         Non-Null Count  Dtype \n",
      "---  ------         --------------  ----- \n",
      " 0   transactionId  1197 non-null   int64 \n",
      " 1   visitorId      1197 non-null   int64 \n",
      " 2   date           1197 non-null   object\n",
      " 3   revenue        1197 non-null   int64 \n",
      " 4   group          1197 non-null   object\n",
      "dtypes: int64(3), object(2)\n",
      "memory usage: 46.9+ KB\n"
     ]
    },
    {
     "data": {
      "text/html": [
       "<div>\n",
       "<style scoped>\n",
       "    .dataframe tbody tr th:only-of-type {\n",
       "        vertical-align: middle;\n",
       "    }\n",
       "\n",
       "    .dataframe tbody tr th {\n",
       "        vertical-align: top;\n",
       "    }\n",
       "\n",
       "    .dataframe thead th {\n",
       "        text-align: right;\n",
       "    }\n",
       "</style>\n",
       "<table border=\"1\" class=\"dataframe\">\n",
       "  <thead>\n",
       "    <tr style=\"text-align: right;\">\n",
       "      <th></th>\n",
       "      <th>transactionId</th>\n",
       "      <th>visitorId</th>\n",
       "      <th>date</th>\n",
       "      <th>revenue</th>\n",
       "      <th>group</th>\n",
       "    </tr>\n",
       "  </thead>\n",
       "  <tbody>\n",
       "    <tr>\n",
       "      <th>0</th>\n",
       "      <td>3667963787</td>\n",
       "      <td>3312258926</td>\n",
       "      <td>2019-08-15</td>\n",
       "      <td>1650</td>\n",
       "      <td>B</td>\n",
       "    </tr>\n",
       "    <tr>\n",
       "      <th>1</th>\n",
       "      <td>2804400009</td>\n",
       "      <td>3642806036</td>\n",
       "      <td>2019-08-15</td>\n",
       "      <td>730</td>\n",
       "      <td>B</td>\n",
       "    </tr>\n",
       "    <tr>\n",
       "      <th>2</th>\n",
       "      <td>2961555356</td>\n",
       "      <td>4069496402</td>\n",
       "      <td>2019-08-15</td>\n",
       "      <td>400</td>\n",
       "      <td>A</td>\n",
       "    </tr>\n",
       "    <tr>\n",
       "      <th>3</th>\n",
       "      <td>3797467345</td>\n",
       "      <td>1196621759</td>\n",
       "      <td>2019-08-15</td>\n",
       "      <td>9759</td>\n",
       "      <td>B</td>\n",
       "    </tr>\n",
       "    <tr>\n",
       "      <th>4</th>\n",
       "      <td>2282983706</td>\n",
       "      <td>2322279887</td>\n",
       "      <td>2019-08-15</td>\n",
       "      <td>2308</td>\n",
       "      <td>B</td>\n",
       "    </tr>\n",
       "    <tr>\n",
       "      <th>5</th>\n",
       "      <td>182168103</td>\n",
       "      <td>935554773</td>\n",
       "      <td>2019-08-15</td>\n",
       "      <td>2210</td>\n",
       "      <td>B</td>\n",
       "    </tr>\n",
       "    <tr>\n",
       "      <th>6</th>\n",
       "      <td>398296753</td>\n",
       "      <td>2900797465</td>\n",
       "      <td>2019-08-15</td>\n",
       "      <td>1860</td>\n",
       "      <td>B</td>\n",
       "    </tr>\n",
       "    <tr>\n",
       "      <th>7</th>\n",
       "      <td>2626614568</td>\n",
       "      <td>78758296</td>\n",
       "      <td>2019-08-15</td>\n",
       "      <td>1044</td>\n",
       "      <td>A</td>\n",
       "    </tr>\n",
       "    <tr>\n",
       "      <th>8</th>\n",
       "      <td>1576988021</td>\n",
       "      <td>295230930</td>\n",
       "      <td>2019-08-15</td>\n",
       "      <td>13710</td>\n",
       "      <td>A</td>\n",
       "    </tr>\n",
       "    <tr>\n",
       "      <th>9</th>\n",
       "      <td>1506739906</td>\n",
       "      <td>1882260405</td>\n",
       "      <td>2019-08-15</td>\n",
       "      <td>1855</td>\n",
       "      <td>B</td>\n",
       "    </tr>\n",
       "  </tbody>\n",
       "</table>\n",
       "</div>"
      ],
      "text/plain": [
       "   transactionId   visitorId        date  revenue group\n",
       "0     3667963787  3312258926  2019-08-15     1650     B\n",
       "1     2804400009  3642806036  2019-08-15      730     B\n",
       "2     2961555356  4069496402  2019-08-15      400     A\n",
       "3     3797467345  1196621759  2019-08-15     9759     B\n",
       "4     2282983706  2322279887  2019-08-15     2308     B\n",
       "5      182168103   935554773  2019-08-15     2210     B\n",
       "6      398296753  2900797465  2019-08-15     1860     B\n",
       "7     2626614568    78758296  2019-08-15     1044     A\n",
       "8     1576988021   295230930  2019-08-15    13710     A\n",
       "9     1506739906  1882260405  2019-08-15     1855     B"
      ]
     },
     "execution_count": 5,
     "metadata": {},
     "output_type": "execute_result"
    }
   ],
   "source": [
    "orders.info()\n",
    "orders.head(10)"
   ]
  },
  {
   "cell_type": "code",
   "execution_count": 6,
   "metadata": {},
   "outputs": [
    {
     "name": "stdout",
     "output_type": "stream",
     "text": [
      "<class 'pandas.core.frame.DataFrame'>\n",
      "RangeIndex: 62 entries, 0 to 61\n",
      "Data columns (total 3 columns):\n",
      " #   Column    Non-Null Count  Dtype \n",
      "---  ------    --------------  ----- \n",
      " 0   date      62 non-null     object\n",
      " 1   group     62 non-null     object\n",
      " 2   visitors  62 non-null     int64 \n",
      "dtypes: int64(1), object(2)\n",
      "memory usage: 1.6+ KB\n"
     ]
    },
    {
     "data": {
      "text/html": [
       "<div>\n",
       "<style scoped>\n",
       "    .dataframe tbody tr th:only-of-type {\n",
       "        vertical-align: middle;\n",
       "    }\n",
       "\n",
       "    .dataframe tbody tr th {\n",
       "        vertical-align: top;\n",
       "    }\n",
       "\n",
       "    .dataframe thead th {\n",
       "        text-align: right;\n",
       "    }\n",
       "</style>\n",
       "<table border=\"1\" class=\"dataframe\">\n",
       "  <thead>\n",
       "    <tr style=\"text-align: right;\">\n",
       "      <th></th>\n",
       "      <th>date</th>\n",
       "      <th>group</th>\n",
       "      <th>visitors</th>\n",
       "    </tr>\n",
       "  </thead>\n",
       "  <tbody>\n",
       "    <tr>\n",
       "      <th>0</th>\n",
       "      <td>2019-08-01</td>\n",
       "      <td>A</td>\n",
       "      <td>719</td>\n",
       "    </tr>\n",
       "    <tr>\n",
       "      <th>1</th>\n",
       "      <td>2019-08-02</td>\n",
       "      <td>A</td>\n",
       "      <td>619</td>\n",
       "    </tr>\n",
       "    <tr>\n",
       "      <th>2</th>\n",
       "      <td>2019-08-03</td>\n",
       "      <td>A</td>\n",
       "      <td>507</td>\n",
       "    </tr>\n",
       "    <tr>\n",
       "      <th>3</th>\n",
       "      <td>2019-08-04</td>\n",
       "      <td>A</td>\n",
       "      <td>717</td>\n",
       "    </tr>\n",
       "    <tr>\n",
       "      <th>4</th>\n",
       "      <td>2019-08-05</td>\n",
       "      <td>A</td>\n",
       "      <td>756</td>\n",
       "    </tr>\n",
       "    <tr>\n",
       "      <th>5</th>\n",
       "      <td>2019-08-06</td>\n",
       "      <td>A</td>\n",
       "      <td>667</td>\n",
       "    </tr>\n",
       "    <tr>\n",
       "      <th>6</th>\n",
       "      <td>2019-08-07</td>\n",
       "      <td>A</td>\n",
       "      <td>644</td>\n",
       "    </tr>\n",
       "    <tr>\n",
       "      <th>7</th>\n",
       "      <td>2019-08-08</td>\n",
       "      <td>A</td>\n",
       "      <td>610</td>\n",
       "    </tr>\n",
       "    <tr>\n",
       "      <th>8</th>\n",
       "      <td>2019-08-09</td>\n",
       "      <td>A</td>\n",
       "      <td>617</td>\n",
       "    </tr>\n",
       "    <tr>\n",
       "      <th>9</th>\n",
       "      <td>2019-08-10</td>\n",
       "      <td>A</td>\n",
       "      <td>406</td>\n",
       "    </tr>\n",
       "  </tbody>\n",
       "</table>\n",
       "</div>"
      ],
      "text/plain": [
       "         date group  visitors\n",
       "0  2019-08-01     A       719\n",
       "1  2019-08-02     A       619\n",
       "2  2019-08-03     A       507\n",
       "3  2019-08-04     A       717\n",
       "4  2019-08-05     A       756\n",
       "5  2019-08-06     A       667\n",
       "6  2019-08-07     A       644\n",
       "7  2019-08-08     A       610\n",
       "8  2019-08-09     A       617\n",
       "9  2019-08-10     A       406"
      ]
     },
     "execution_count": 6,
     "metadata": {},
     "output_type": "execute_result"
    }
   ],
   "source": [
    "visitors.info()\n",
    "visitors.head(10)"
   ]
  },
  {
   "cell_type": "markdown",
   "metadata": {},
   "source": [
    "**Вывод**: С таблицами ознакомились. Нужно исправить: типы данных и наименование столбцов."
   ]
  },
  {
   "cell_type": "markdown",
   "metadata": {},
   "source": [
    "### Предобработка данных"
   ]
  },
  {
   "cell_type": "markdown",
   "metadata": {},
   "source": [
    "#### Приведение столбцов к единому стилю"
   ]
  },
  {
   "cell_type": "code",
   "execution_count": 7,
   "metadata": {},
   "outputs": [],
   "source": [
    "hypothesis.columns = hypothesis.columns.str.lower()"
   ]
  },
  {
   "cell_type": "code",
   "execution_count": 8,
   "metadata": {},
   "outputs": [
    {
     "name": "stdout",
     "output_type": "stream",
     "text": [
      "<class 'pandas.core.frame.DataFrame'>\n",
      "RangeIndex: 9 entries, 0 to 8\n",
      "Data columns (total 5 columns):\n",
      " #   Column      Non-Null Count  Dtype \n",
      "---  ------      --------------  ----- \n",
      " 0   hypothesis  9 non-null      object\n",
      " 1   reach       9 non-null      int64 \n",
      " 2   impact      9 non-null      int64 \n",
      " 3   confidence  9 non-null      int64 \n",
      " 4   efforts     9 non-null      int64 \n",
      "dtypes: int64(4), object(1)\n",
      "memory usage: 488.0+ bytes\n"
     ]
    }
   ],
   "source": [
    "hypothesis.info()"
   ]
  },
  {
   "cell_type": "code",
   "execution_count": 9,
   "metadata": {},
   "outputs": [],
   "source": [
    "orders.columns = orders.columns.str.lower()\n",
    "orders.columns = orders.columns.str.replace('id', '_id')"
   ]
  },
  {
   "cell_type": "code",
   "execution_count": 10,
   "metadata": {},
   "outputs": [
    {
     "name": "stdout",
     "output_type": "stream",
     "text": [
      "<class 'pandas.core.frame.DataFrame'>\n",
      "RangeIndex: 1197 entries, 0 to 1196\n",
      "Data columns (total 5 columns):\n",
      " #   Column          Non-Null Count  Dtype \n",
      "---  ------          --------------  ----- \n",
      " 0   transaction_id  1197 non-null   int64 \n",
      " 1   visitor_id      1197 non-null   int64 \n",
      " 2   date            1197 non-null   object\n",
      " 3   revenue         1197 non-null   int64 \n",
      " 4   group           1197 non-null   object\n",
      "dtypes: int64(3), object(2)\n",
      "memory usage: 46.9+ KB\n"
     ]
    }
   ],
   "source": [
    "orders.info()"
   ]
  },
  {
   "cell_type": "markdown",
   "metadata": {},
   "source": [
    "#### Изменение типов столбцов с датами "
   ]
  },
  {
   "cell_type": "code",
   "execution_count": 11,
   "metadata": {},
   "outputs": [],
   "source": [
    "orders['date'] = pd.to_datetime(orders['date'])\n",
    "visitors['date'] = pd.to_datetime(visitors['date'])"
   ]
  },
  {
   "cell_type": "markdown",
   "metadata": {},
   "source": [
    "#### Проверка дубликатов "
   ]
  },
  {
   "cell_type": "code",
   "execution_count": 12,
   "metadata": {},
   "outputs": [
    {
     "data": {
      "text/plain": [
       "0"
      ]
     },
     "execution_count": 12,
     "metadata": {},
     "output_type": "execute_result"
    }
   ],
   "source": [
    "visitors.duplicated().sum()"
   ]
  },
  {
   "cell_type": "code",
   "execution_count": 13,
   "metadata": {},
   "outputs": [
    {
     "data": {
      "text/plain": [
       "0"
      ]
     },
     "execution_count": 13,
     "metadata": {},
     "output_type": "execute_result"
    }
   ],
   "source": [
    "orders.duplicated().sum()"
   ]
  },
  {
   "cell_type": "markdown",
   "metadata": {},
   "source": [
    "**Вывод:** В таблицах дублекатов не обноружено."
   ]
  },
  {
   "cell_type": "markdown",
   "metadata": {},
   "source": [
    "#### Проверка результатов тестирования на участие пользователей в двух группах сразу."
   ]
  },
  {
   "cell_type": "code",
   "execution_count": 14,
   "metadata": {},
   "outputs": [
    {
     "data": {
      "text/plain": [
       "group    58\n",
       "dtype: int64"
      ]
     },
     "execution_count": 14,
     "metadata": {},
     "output_type": "execute_result"
    }
   ],
   "source": [
    "orders.groupby('visitor_id').agg({'group' : 'nunique'}).query('group>1').count()"
   ]
  },
  {
   "cell_type": "markdown",
   "metadata": {},
   "source": [
    "**Вывод:** При проверке данных на пользовательскую уникальность в группах, выявлены 58 пользователей, которые попали в обе группы. Принято решение не исключать их из A/B тестирования, т.к. они не повлияют на конечный результат теста."
   ]
  },
  {
   "cell_type": "markdown",
   "metadata": {},
   "source": [
    "## Приоритизация гипотез"
   ]
  },
  {
   "cell_type": "markdown",
   "metadata": {},
   "source": [
    "Применим два фреймворка ICE и RICE для приоритизации гипотиз:\n",
    "\n",
    "$$ICE = \\frac{Impact * Confidence}{Efforts}$$\n",
    "\n",
    "$$RICE = \\frac{Rearch * Impact * Confidence}{Efforts}$$"
   ]
  },
  {
   "cell_type": "markdown",
   "metadata": {},
   "source": [
    "### Применим фреймворк ICE для приоритизации гипотиз"
   ]
  },
  {
   "cell_type": "code",
   "execution_count": 16,
   "metadata": {},
   "outputs": [],
   "source": [
    "hypothesis['ice']= (hypothesis['impact'] * hypothesis['confidence']) / hypothesis['efforts']"
   ]
  },
  {
   "cell_type": "code",
   "execution_count": 17,
   "metadata": {},
   "outputs": [
    {
     "data": {
      "text/html": [
       "<div>\n",
       "<style scoped>\n",
       "    .dataframe tbody tr th:only-of-type {\n",
       "        vertical-align: middle;\n",
       "    }\n",
       "\n",
       "    .dataframe tbody tr th {\n",
       "        vertical-align: top;\n",
       "    }\n",
       "\n",
       "    .dataframe thead th {\n",
       "        text-align: right;\n",
       "    }\n",
       "</style>\n",
       "<table border=\"1\" class=\"dataframe\">\n",
       "  <thead>\n",
       "    <tr style=\"text-align: right;\">\n",
       "      <th></th>\n",
       "      <th>hypothesis</th>\n",
       "      <th>reach</th>\n",
       "      <th>impact</th>\n",
       "      <th>confidence</th>\n",
       "      <th>efforts</th>\n",
       "      <th>ice</th>\n",
       "    </tr>\n",
       "  </thead>\n",
       "  <tbody>\n",
       "    <tr>\n",
       "      <th>8</th>\n",
       "      <td>Запустить акцию, дающую скидку на товар в день рождения</td>\n",
       "      <td>1</td>\n",
       "      <td>9</td>\n",
       "      <td>9</td>\n",
       "      <td>5</td>\n",
       "      <td>16.200000</td>\n",
       "    </tr>\n",
       "    <tr>\n",
       "      <th>0</th>\n",
       "      <td>Добавить два новых канала привлечения трафика, что позволит привлекать на 30% больше пользователей</td>\n",
       "      <td>3</td>\n",
       "      <td>10</td>\n",
       "      <td>8</td>\n",
       "      <td>6</td>\n",
       "      <td>13.333333</td>\n",
       "    </tr>\n",
       "    <tr>\n",
       "      <th>7</th>\n",
       "      <td>Добавить форму подписки на все основные страницы, чтобы собрать базу клиентов для email-рассылок</td>\n",
       "      <td>10</td>\n",
       "      <td>7</td>\n",
       "      <td>8</td>\n",
       "      <td>5</td>\n",
       "      <td>11.200000</td>\n",
       "    </tr>\n",
       "    <tr>\n",
       "      <th>6</th>\n",
       "      <td>Показать на главной странице баннеры с актуальными акциями и распродажами, чтобы увеличить конверсию</td>\n",
       "      <td>5</td>\n",
       "      <td>3</td>\n",
       "      <td>8</td>\n",
       "      <td>3</td>\n",
       "      <td>8.000000</td>\n",
       "    </tr>\n",
       "    <tr>\n",
       "      <th>2</th>\n",
       "      <td>Добавить блоки рекомендаций товаров на сайт интернет магазина, чтобы повысить конверсию и средний чек заказа</td>\n",
       "      <td>8</td>\n",
       "      <td>3</td>\n",
       "      <td>7</td>\n",
       "      <td>3</td>\n",
       "      <td>7.000000</td>\n",
       "    </tr>\n",
       "    <tr>\n",
       "      <th>1</th>\n",
       "      <td>Запустить собственную службу доставки, что сократит срок доставки заказов</td>\n",
       "      <td>2</td>\n",
       "      <td>5</td>\n",
       "      <td>4</td>\n",
       "      <td>10</td>\n",
       "      <td>2.000000</td>\n",
       "    </tr>\n",
       "    <tr>\n",
       "      <th>5</th>\n",
       "      <td>Добавить страницу отзывов клиентов о магазине, что позволит увеличить количество заказов</td>\n",
       "      <td>3</td>\n",
       "      <td>2</td>\n",
       "      <td>2</td>\n",
       "      <td>3</td>\n",
       "      <td>1.333333</td>\n",
       "    </tr>\n",
       "    <tr>\n",
       "      <th>3</th>\n",
       "      <td>Изменить структура категорий, что увеличит конверсию, т.к. пользователи быстрее найдут нужный товар</td>\n",
       "      <td>8</td>\n",
       "      <td>3</td>\n",
       "      <td>3</td>\n",
       "      <td>8</td>\n",
       "      <td>1.125000</td>\n",
       "    </tr>\n",
       "    <tr>\n",
       "      <th>4</th>\n",
       "      <td>Изменить цвет фона главной страницы, чтобы увеличить вовлеченность пользователей</td>\n",
       "      <td>3</td>\n",
       "      <td>1</td>\n",
       "      <td>1</td>\n",
       "      <td>1</td>\n",
       "      <td>1.000000</td>\n",
       "    </tr>\n",
       "  </tbody>\n",
       "</table>\n",
       "</div>"
      ],
      "text/plain": [
       "                                                                                                     hypothesis  \\\n",
       "8                                                       Запустить акцию, дающую скидку на товар в день рождения   \n",
       "0            Добавить два новых канала привлечения трафика, что позволит привлекать на 30% больше пользователей   \n",
       "7              Добавить форму подписки на все основные страницы, чтобы собрать базу клиентов для email-рассылок   \n",
       "6          Показать на главной странице баннеры с актуальными акциями и распродажами, чтобы увеличить конверсию   \n",
       "2  Добавить блоки рекомендаций товаров на сайт интернет магазина, чтобы повысить конверсию и средний чек заказа   \n",
       "1                                     Запустить собственную службу доставки, что сократит срок доставки заказов   \n",
       "5                      Добавить страницу отзывов клиентов о магазине, что позволит увеличить количество заказов   \n",
       "3           Изменить структура категорий, что увеличит конверсию, т.к. пользователи быстрее найдут нужный товар   \n",
       "4                              Изменить цвет фона главной страницы, чтобы увеличить вовлеченность пользователей   \n",
       "\n",
       "   reach  impact  confidence  efforts        ice  \n",
       "8      1       9           9        5  16.200000  \n",
       "0      3      10           8        6  13.333333  \n",
       "7     10       7           8        5  11.200000  \n",
       "6      5       3           8        3   8.000000  \n",
       "2      8       3           7        3   7.000000  \n",
       "1      2       5           4       10   2.000000  \n",
       "5      3       2           2        3   1.333333  \n",
       "3      8       3           3        8   1.125000  \n",
       "4      3       1           1        1   1.000000  "
      ]
     },
     "execution_count": 17,
     "metadata": {},
     "output_type": "execute_result"
    }
   ],
   "source": [
    "hypothesis.sort_values(by='ice', ascending=False)"
   ]
  },
  {
   "cell_type": "markdown",
   "metadata": {},
   "source": [
    "### Применим фреймворк RICE для приоритизации гипотиз"
   ]
  },
  {
   "cell_type": "code",
   "execution_count": 18,
   "metadata": {},
   "outputs": [],
   "source": [
    "hypothesis['rice']= (hypothesis['reach']*hypothesis['impact']*hypothesis['confidence'])/hypothesis['efforts']"
   ]
  },
  {
   "cell_type": "code",
   "execution_count": 19,
   "metadata": {},
   "outputs": [
    {
     "data": {
      "text/html": [
       "<div>\n",
       "<style scoped>\n",
       "    .dataframe tbody tr th:only-of-type {\n",
       "        vertical-align: middle;\n",
       "    }\n",
       "\n",
       "    .dataframe tbody tr th {\n",
       "        vertical-align: top;\n",
       "    }\n",
       "\n",
       "    .dataframe thead th {\n",
       "        text-align: right;\n",
       "    }\n",
       "</style>\n",
       "<table border=\"1\" class=\"dataframe\">\n",
       "  <thead>\n",
       "    <tr style=\"text-align: right;\">\n",
       "      <th></th>\n",
       "      <th>hypothesis</th>\n",
       "      <th>reach</th>\n",
       "      <th>impact</th>\n",
       "      <th>confidence</th>\n",
       "      <th>efforts</th>\n",
       "      <th>ice</th>\n",
       "      <th>rice</th>\n",
       "    </tr>\n",
       "  </thead>\n",
       "  <tbody>\n",
       "    <tr>\n",
       "      <th>7</th>\n",
       "      <td>Добавить форму подписки на все основные страницы, чтобы собрать базу клиентов для email-рассылок</td>\n",
       "      <td>10</td>\n",
       "      <td>7</td>\n",
       "      <td>8</td>\n",
       "      <td>5</td>\n",
       "      <td>11.200000</td>\n",
       "      <td>112.0</td>\n",
       "    </tr>\n",
       "    <tr>\n",
       "      <th>2</th>\n",
       "      <td>Добавить блоки рекомендаций товаров на сайт интернет магазина, чтобы повысить конверсию и средний чек заказа</td>\n",
       "      <td>8</td>\n",
       "      <td>3</td>\n",
       "      <td>7</td>\n",
       "      <td>3</td>\n",
       "      <td>7.000000</td>\n",
       "      <td>56.0</td>\n",
       "    </tr>\n",
       "    <tr>\n",
       "      <th>0</th>\n",
       "      <td>Добавить два новых канала привлечения трафика, что позволит привлекать на 30% больше пользователей</td>\n",
       "      <td>3</td>\n",
       "      <td>10</td>\n",
       "      <td>8</td>\n",
       "      <td>6</td>\n",
       "      <td>13.333333</td>\n",
       "      <td>40.0</td>\n",
       "    </tr>\n",
       "    <tr>\n",
       "      <th>6</th>\n",
       "      <td>Показать на главной странице баннеры с актуальными акциями и распродажами, чтобы увеличить конверсию</td>\n",
       "      <td>5</td>\n",
       "      <td>3</td>\n",
       "      <td>8</td>\n",
       "      <td>3</td>\n",
       "      <td>8.000000</td>\n",
       "      <td>40.0</td>\n",
       "    </tr>\n",
       "    <tr>\n",
       "      <th>8</th>\n",
       "      <td>Запустить акцию, дающую скидку на товар в день рождения</td>\n",
       "      <td>1</td>\n",
       "      <td>9</td>\n",
       "      <td>9</td>\n",
       "      <td>5</td>\n",
       "      <td>16.200000</td>\n",
       "      <td>16.2</td>\n",
       "    </tr>\n",
       "    <tr>\n",
       "      <th>3</th>\n",
       "      <td>Изменить структура категорий, что увеличит конверсию, т.к. пользователи быстрее найдут нужный товар</td>\n",
       "      <td>8</td>\n",
       "      <td>3</td>\n",
       "      <td>3</td>\n",
       "      <td>8</td>\n",
       "      <td>1.125000</td>\n",
       "      <td>9.0</td>\n",
       "    </tr>\n",
       "    <tr>\n",
       "      <th>1</th>\n",
       "      <td>Запустить собственную службу доставки, что сократит срок доставки заказов</td>\n",
       "      <td>2</td>\n",
       "      <td>5</td>\n",
       "      <td>4</td>\n",
       "      <td>10</td>\n",
       "      <td>2.000000</td>\n",
       "      <td>4.0</td>\n",
       "    </tr>\n",
       "    <tr>\n",
       "      <th>5</th>\n",
       "      <td>Добавить страницу отзывов клиентов о магазине, что позволит увеличить количество заказов</td>\n",
       "      <td>3</td>\n",
       "      <td>2</td>\n",
       "      <td>2</td>\n",
       "      <td>3</td>\n",
       "      <td>1.333333</td>\n",
       "      <td>4.0</td>\n",
       "    </tr>\n",
       "    <tr>\n",
       "      <th>4</th>\n",
       "      <td>Изменить цвет фона главной страницы, чтобы увеличить вовлеченность пользователей</td>\n",
       "      <td>3</td>\n",
       "      <td>1</td>\n",
       "      <td>1</td>\n",
       "      <td>1</td>\n",
       "      <td>1.000000</td>\n",
       "      <td>3.0</td>\n",
       "    </tr>\n",
       "  </tbody>\n",
       "</table>\n",
       "</div>"
      ],
      "text/plain": [
       "                                                                                                     hypothesis  \\\n",
       "7              Добавить форму подписки на все основные страницы, чтобы собрать базу клиентов для email-рассылок   \n",
       "2  Добавить блоки рекомендаций товаров на сайт интернет магазина, чтобы повысить конверсию и средний чек заказа   \n",
       "0            Добавить два новых канала привлечения трафика, что позволит привлекать на 30% больше пользователей   \n",
       "6          Показать на главной странице баннеры с актуальными акциями и распродажами, чтобы увеличить конверсию   \n",
       "8                                                       Запустить акцию, дающую скидку на товар в день рождения   \n",
       "3           Изменить структура категорий, что увеличит конверсию, т.к. пользователи быстрее найдут нужный товар   \n",
       "1                                     Запустить собственную службу доставки, что сократит срок доставки заказов   \n",
       "5                      Добавить страницу отзывов клиентов о магазине, что позволит увеличить количество заказов   \n",
       "4                              Изменить цвет фона главной страницы, чтобы увеличить вовлеченность пользователей   \n",
       "\n",
       "   reach  impact  confidence  efforts        ice   rice  \n",
       "7     10       7           8        5  11.200000  112.0  \n",
       "2      8       3           7        3   7.000000   56.0  \n",
       "0      3      10           8        6  13.333333   40.0  \n",
       "6      5       3           8        3   8.000000   40.0  \n",
       "8      1       9           9        5  16.200000   16.2  \n",
       "3      8       3           3        8   1.125000    9.0  \n",
       "1      2       5           4       10   2.000000    4.0  \n",
       "5      3       2           2        3   1.333333    4.0  \n",
       "4      3       1           1        1   1.000000    3.0  "
      ]
     },
     "execution_count": 19,
     "metadata": {},
     "output_type": "execute_result"
    }
   ],
   "source": [
    "hypothesis.sort_values(by='rice', ascending=False)"
   ]
  },
  {
   "cell_type": "markdown",
   "metadata": {},
   "source": [
    "### Вывод"
   ]
  },
  {
   "cell_type": "code",
   "execution_count": 20,
   "metadata": {},
   "outputs": [
    {
     "data": {
      "image/png": "[encoded data removed]",
      "text/plain": [
       "<Figure size 720x720 with 1 Axes>"
      ]
     },
     "metadata": {
      "needs_background": "light"
     },
     "output_type": "display_data"
    }
   ],
   "source": [
    "y = hypothesis['ice'] \n",
    "z = hypothesis['rice'] \n",
    "n = hypothesis.index \n",
    "\n",
    "fig, ax = plt.subplots()\n",
    "ax.scatter(z, y)\n",
    "\n",
    "for i, txt in enumerate(n):\n",
    "    ax.annotate(txt, (z[i], y[i]), size=30)\n",
    "\n",
    "plt.title(\"ice и rice гипотезы\") \n",
    "plt.xlabel(\"RICE\") \n",
    "plt.ylabel(\"ICE\")\n",
    "plt.grid()    \n",
    "\n",
    "fig.set_figheight(10)\n",
    "fig.set_figwidth(10) \n",
    "plt.show()    "
   ]
  },
  {
   "cell_type": "markdown",
   "metadata": {},
   "source": [
    "Порядок гипотез изменился после применения фреймворка RICE, в отличии от ICE. Разница приоритизаций заключается в том, что одна учитывает кол-во пользователей, которых затронут изменения, а другая - нет."
   ]
  },
  {
   "cell_type": "markdown",
   "metadata": {},
   "source": [
    "## Анализ A/B-теста"
   ]
  },
  {
   "cell_type": "markdown",
   "metadata": {},
   "source": [
    "### Построим график кумулятивной выручки по группам"
   ]
  },
  {
   "cell_type": "markdown",
   "metadata": {},
   "source": [
    "Для того, чтобы построит график кумулятивной выручки по группам, потребуется собрать датафрейм содержащий информацию о группе (А или В), дате, кумулятивных количестве заказов и пользователей их оформивших, среднем чеке и, о кумулятивном количестве посетителей магазина."
   ]
  },
  {
   "cell_type": "code",
   "execution_count": 21,
   "metadata": {},
   "outputs": [],
   "source": [
    "# создаем массив уникальных пар значений дат и групп теста\n",
    "datesGroups = orders[['date','group']].drop_duplicates() "
   ]
  },
  {
   "cell_type": "code",
   "execution_count": 22,
   "metadata": {},
   "outputs": [
    {
     "data": {
      "text/html": [
       "<div>\n",
       "<style scoped>\n",
       "    .dataframe tbody tr th:only-of-type {\n",
       "        vertical-align: middle;\n",
       "    }\n",
       "\n",
       "    .dataframe tbody tr th {\n",
       "        vertical-align: top;\n",
       "    }\n",
       "\n",
       "    .dataframe thead th {\n",
       "        text-align: right;\n",
       "    }\n",
       "</style>\n",
       "<table border=\"1\" class=\"dataframe\">\n",
       "  <thead>\n",
       "    <tr style=\"text-align: right;\">\n",
       "      <th></th>\n",
       "      <th>date</th>\n",
       "      <th>group</th>\n",
       "      <th>transaction_id</th>\n",
       "      <th>visitor_id</th>\n",
       "      <th>revenue</th>\n",
       "    </tr>\n",
       "  </thead>\n",
       "  <tbody>\n",
       "    <tr>\n",
       "      <th>55</th>\n",
       "      <td>2019-08-01</td>\n",
       "      <td>A</td>\n",
       "      <td>24</td>\n",
       "      <td>20</td>\n",
       "      <td>148579</td>\n",
       "    </tr>\n",
       "    <tr>\n",
       "      <th>66</th>\n",
       "      <td>2019-08-01</td>\n",
       "      <td>B</td>\n",
       "      <td>21</td>\n",
       "      <td>20</td>\n",
       "      <td>101217</td>\n",
       "    </tr>\n",
       "    <tr>\n",
       "      <th>175</th>\n",
       "      <td>2019-08-02</td>\n",
       "      <td>A</td>\n",
       "      <td>44</td>\n",
       "      <td>38</td>\n",
       "      <td>242401</td>\n",
       "    </tr>\n",
       "    <tr>\n",
       "      <th>173</th>\n",
       "      <td>2019-08-02</td>\n",
       "      <td>B</td>\n",
       "      <td>45</td>\n",
       "      <td>43</td>\n",
       "      <td>266748</td>\n",
       "    </tr>\n",
       "    <tr>\n",
       "      <th>291</th>\n",
       "      <td>2019-08-03</td>\n",
       "      <td>A</td>\n",
       "      <td>68</td>\n",
       "      <td>62</td>\n",
       "      <td>354874</td>\n",
       "    </tr>\n",
       "  </tbody>\n",
       "</table>\n",
       "</div>"
      ],
      "text/plain": [
       "          date group  transaction_id  visitor_id  revenue\n",
       "55  2019-08-01     A              24          20   148579\n",
       "66  2019-08-01     B              21          20   101217\n",
       "175 2019-08-02     A              44          38   242401\n",
       "173 2019-08-02     B              45          43   266748\n",
       "291 2019-08-03     A              68          62   354874"
      ]
     },
     "execution_count": 22,
     "metadata": {},
     "output_type": "execute_result"
    }
   ],
   "source": [
    "# получаем агрегированные кумулятивные по дням данные о заказах \n",
    "ordersAggregated = datesGroups.apply(\n",
    "    lambda x: orders[np.logical_and(orders['date'] <= x['date'], orders['group'] == x['group'])]\n",
    "    .agg({\n",
    "        'date' : 'max',\n",
    "        'group' : 'max',\n",
    "        'transaction_id' : 'nunique',\n",
    "        'visitor_id' : 'nunique',\n",
    "        'revenue' : 'sum'}),\n",
    "    axis=1).sort_values(by=['date','group'])\n",
    "\n",
    "ordersAggregated.head(5)"
   ]
  },
  {
   "cell_type": "code",
   "execution_count": 23,
   "metadata": {},
   "outputs": [
    {
     "data": {
      "text/html": [
       "<div>\n",
       "<style scoped>\n",
       "    .dataframe tbody tr th:only-of-type {\n",
       "        vertical-align: middle;\n",
       "    }\n",
       "\n",
       "    .dataframe tbody tr th {\n",
       "        vertical-align: top;\n",
       "    }\n",
       "\n",
       "    .dataframe thead th {\n",
       "        text-align: right;\n",
       "    }\n",
       "</style>\n",
       "<table border=\"1\" class=\"dataframe\">\n",
       "  <thead>\n",
       "    <tr style=\"text-align: right;\">\n",
       "      <th></th>\n",
       "      <th>date</th>\n",
       "      <th>group</th>\n",
       "      <th>visitors</th>\n",
       "    </tr>\n",
       "  </thead>\n",
       "  <tbody>\n",
       "    <tr>\n",
       "      <th>55</th>\n",
       "      <td>2019-08-01</td>\n",
       "      <td>A</td>\n",
       "      <td>719</td>\n",
       "    </tr>\n",
       "    <tr>\n",
       "      <th>66</th>\n",
       "      <td>2019-08-01</td>\n",
       "      <td>B</td>\n",
       "      <td>713</td>\n",
       "    </tr>\n",
       "    <tr>\n",
       "      <th>175</th>\n",
       "      <td>2019-08-02</td>\n",
       "      <td>A</td>\n",
       "      <td>1338</td>\n",
       "    </tr>\n",
       "    <tr>\n",
       "      <th>173</th>\n",
       "      <td>2019-08-02</td>\n",
       "      <td>B</td>\n",
       "      <td>1294</td>\n",
       "    </tr>\n",
       "    <tr>\n",
       "      <th>291</th>\n",
       "      <td>2019-08-03</td>\n",
       "      <td>A</td>\n",
       "      <td>1845</td>\n",
       "    </tr>\n",
       "  </tbody>\n",
       "</table>\n",
       "</div>"
      ],
      "text/plain": [
       "          date group  visitors\n",
       "55  2019-08-01     A       719\n",
       "66  2019-08-01     B       713\n",
       "175 2019-08-02     A      1338\n",
       "173 2019-08-02     B      1294\n",
       "291 2019-08-03     A      1845"
      ]
     },
     "execution_count": 23,
     "metadata": {},
     "output_type": "execute_result"
    }
   ],
   "source": [
    "# получаем агрегированные кумулятивные по дням данные о посетителях интернет-магазина \n",
    "visitorsAggregated = datesGroups.apply(\n",
    "    lambda x: visitors[np.logical_and(visitors['date'] <= x['date'], visitors['group'] == x['group'])]\n",
    "    .agg({\n",
    "        'date' : 'max',\n",
    "        'group' : 'max',\n",
    "        'visitors' : 'sum'}), \n",
    "    axis=1).sort_values(by=['date','group'])\n",
    "visitorsAggregated.head(5)"
   ]
  },
  {
   "cell_type": "code",
   "execution_count": 24,
   "metadata": {},
   "outputs": [
    {
     "data": {
      "text/html": [
       "<div>\n",
       "<style scoped>\n",
       "    .dataframe tbody tr th:only-of-type {\n",
       "        vertical-align: middle;\n",
       "    }\n",
       "\n",
       "    .dataframe tbody tr th {\n",
       "        vertical-align: top;\n",
       "    }\n",
       "\n",
       "    .dataframe thead th {\n",
       "        text-align: right;\n",
       "    }\n",
       "</style>\n",
       "<table border=\"1\" class=\"dataframe\">\n",
       "  <thead>\n",
       "    <tr style=\"text-align: right;\">\n",
       "      <th></th>\n",
       "      <th>date</th>\n",
       "      <th>group</th>\n",
       "      <th>orders</th>\n",
       "      <th>buyers</th>\n",
       "      <th>revenue</th>\n",
       "      <th>visitors</th>\n",
       "    </tr>\n",
       "  </thead>\n",
       "  <tbody>\n",
       "    <tr>\n",
       "      <th>0</th>\n",
       "      <td>2019-08-01</td>\n",
       "      <td>A</td>\n",
       "      <td>24</td>\n",
       "      <td>20</td>\n",
       "      <td>148579</td>\n",
       "      <td>719</td>\n",
       "    </tr>\n",
       "    <tr>\n",
       "      <th>1</th>\n",
       "      <td>2019-08-01</td>\n",
       "      <td>B</td>\n",
       "      <td>21</td>\n",
       "      <td>20</td>\n",
       "      <td>101217</td>\n",
       "      <td>713</td>\n",
       "    </tr>\n",
       "    <tr>\n",
       "      <th>2</th>\n",
       "      <td>2019-08-02</td>\n",
       "      <td>A</td>\n",
       "      <td>44</td>\n",
       "      <td>38</td>\n",
       "      <td>242401</td>\n",
       "      <td>1338</td>\n",
       "    </tr>\n",
       "    <tr>\n",
       "      <th>3</th>\n",
       "      <td>2019-08-02</td>\n",
       "      <td>B</td>\n",
       "      <td>45</td>\n",
       "      <td>43</td>\n",
       "      <td>266748</td>\n",
       "      <td>1294</td>\n",
       "    </tr>\n",
       "    <tr>\n",
       "      <th>4</th>\n",
       "      <td>2019-08-03</td>\n",
       "      <td>A</td>\n",
       "      <td>68</td>\n",
       "      <td>62</td>\n",
       "      <td>354874</td>\n",
       "      <td>1845</td>\n",
       "    </tr>\n",
       "  </tbody>\n",
       "</table>\n",
       "</div>"
      ],
      "text/plain": [
       "        date group  orders  buyers  revenue  visitors\n",
       "0 2019-08-01     A      24      20   148579       719\n",
       "1 2019-08-01     B      21      20   101217       713\n",
       "2 2019-08-02     A      44      38   242401      1338\n",
       "3 2019-08-02     B      45      43   266748      1294\n",
       "4 2019-08-03     A      68      62   354874      1845"
      ]
     },
     "execution_count": 24,
     "metadata": {},
     "output_type": "execute_result"
    }
   ],
   "source": [
    "# объединяем кумулятивные данные в одной таблице и присваиваем ее столбцам понятные названия\n",
    "cumulativeData = (\n",
    "    ordersAggregated\n",
    "    .merge(visitorsAggregated, left_on=['date', 'group'], right_on=['date', 'group'])\n",
    ")\n",
    "cumulativeData.columns = ['date', 'group', 'orders', 'buyers', 'revenue', 'visitors']\n",
    "\n",
    "cumulativeData.head(5)"
   ]
  },
  {
   "cell_type": "code",
   "execution_count": 25,
   "metadata": {},
   "outputs": [
    {
     "data": {
      "image/png": "[encoded data removed]",
      "text/plain": [
       "<Figure size 648x360 with 1 Axes>"
      ]
     },
     "metadata": {
      "needs_background": "light"
     },
     "output_type": "display_data"
    }
   ],
   "source": [
    "# датафрейм с кумулятивным количеством заказов и кумулятивной выручкой по дням в группе А\n",
    "cumulativeRevenueA = cumulativeData[cumulativeData['group']=='A'][['date','revenue', 'orders']]\n",
    "\n",
    "# датафрейм с кумулятивным количеством заказов и кумулятивной выручкой по дням в группе B\n",
    "cumulativeRevenueB = cumulativeData[cumulativeData['group']=='B'][['date','revenue', 'orders']]\n",
    "\n",
    "plt.figure(figsize=(9, 5))\n",
    "plt.grid(True)\n",
    "plt.plot(cumulativeRevenueA['date'], cumulativeRevenueA['revenue'], label='A')\n",
    "plt.plot(cumulativeRevenueB['date'], cumulativeRevenueB['revenue'], label='B')\n",
    "plt.title('график кумулятивной выручки по группам А и В')\n",
    "plt.ylabel(\"Выручка\")\n",
    "plt.xticks(rotation=30)\n",
    "plt.legend()\n",
    "plt.show()"
   ]
  },
  {
   "cell_type": "markdown",
   "metadata": {},
   "source": [
    "**Вывод:** Кумулятивная выручка группы А растет линейно и она меньше чем у группы В. У группы В есть резкий всплеск в районе 18 августа 2017г., возможно это всплеск числа заказов или появление очень дорогих заказов."
   ]
  },
  {
   "cell_type": "markdown",
   "metadata": {},
   "source": [
    "### Построим график кумулятивного среднего чека по группам"
   ]
  },
  {
   "cell_type": "code",
   "execution_count": 26,
   "metadata": {},
   "outputs": [
    {
     "data": {
      "image/png": "[encoded data removed]",
      "text/plain": [
       "<Figure size 648x360 with 1 Axes>"
      ]
     },
     "metadata": {
      "needs_background": "light"
     },
     "output_type": "display_data"
    }
   ],
   "source": [
    "plt.figure(figsize=(9, 5))\n",
    "plt.grid(True)\n",
    "plt.plot(cumulativeRevenueA['date'],\n",
    "         cumulativeRevenueA['revenue']/cumulativeRevenueA['orders'], label='A')\n",
    "plt.plot(cumulativeRevenueB['date'],\n",
    "         cumulativeRevenueB['revenue']/cumulativeRevenueB['orders'], label='B')\n",
    "plt.title('график кумулятивного среднего чека по группам А и В')\n",
    "plt.ylabel(\"Выручка\")\n",
    "plt.xticks(rotation=30)\n",
    "plt.legend()\n",
    "plt.show()"
   ]
  },
  {
   "cell_type": "markdown",
   "metadata": {},
   "source": [
    "**Вывод:** После определенного накопления данных, средний чек группа А стабилизировалась. Группа В показала резкий всплеск 18 августа, что подтверждает версию дорогой покупки."
   ]
  },
  {
   "cell_type": "markdown",
   "metadata": {},
   "source": [
    "### Построим график относительного изменения кумулятивного среднего чека группы B к группе A."
   ]
  },
  {
   "cell_type": "code",
   "execution_count": 27,
   "metadata": {},
   "outputs": [
    {
     "data": {
      "image/png": "[encoded data removed]",
      "text/plain": [
       "<Figure size 648x360 with 1 Axes>"
      ]
     },
     "metadata": {
      "needs_background": "light"
     },
     "output_type": "display_data"
    }
   ],
   "source": [
    "# собираем данные в одном датафрейме\n",
    "mergedCumulativeRevenue = (cumulativeRevenueA.merge(cumulativeRevenueB,\n",
    "                        left_on='date', right_on='date', how='left', suffixes=['A', 'B']))\n",
    "# cтроим отношение средних чеков\n",
    "plt.figure(figsize=(9, 5))\n",
    "plt.grid(True)\n",
    "plt.plot(\n",
    "    mergedCumulativeRevenue['date'],\n",
    "         (mergedCumulativeRevenue['revenueB']\n",
    "          /mergedCumulativeRevenue['ordersB'])\n",
    "         /(mergedCumulativeRevenue['revenueA']\n",
    "           /mergedCumulativeRevenue['ordersA'])-1\n",
    "    )\n",
    "\n",
    "# добавляем ось X\n",
    "plt.title('График относительного изменения кумулятивного среднего чека группы B к группе A')\n",
    "plt.ylabel(\"Конверсия\")\n",
    "plt.axhline(y=0, color='black', linestyle='--') \n",
    "plt.xticks(rotation=30)\n",
    "plt.show()"
   ]
  },
  {
   "cell_type": "markdown",
   "metadata": {},
   "source": [
    "**Вывод:** На графики видны всплески, это указывает на крупные суммы в одном чеке."
   ]
  },
  {
   "cell_type": "markdown",
   "metadata": {},
   "source": [
    "### Построим график кумулятивного среднего количества заказов по группам."
   ]
  },
  {
   "cell_type": "code",
   "execution_count": 28,
   "metadata": {},
   "outputs": [
    {
     "data": {
      "image/png": "[encoded data removed]",
      "text/plain": [
       "<Figure size 648x360 with 1 Axes>"
      ]
     },
     "metadata": {
      "needs_background": "light"
     },
     "output_type": "display_data"
    }
   ],
   "source": [
    "# считаем кумулятивную конверсию\n",
    "cumulativeData['conversion'] = cumulativeData['orders']/cumulativeData['visitors']\n",
    "\n",
    "cumulativeDataA = cumulativeData[cumulativeData['group']=='A']\n",
    "cumulativeDataB = cumulativeData[cumulativeData['group']=='B']\n",
    "\n",
    "# строим графики\n",
    "plt.figure(figsize=(9, 5))\n",
    "plt.grid(True)\n",
    "plt.plot(cumulativeDataA['date'], cumulativeDataA['conversion'], label='A')\n",
    "plt.plot(cumulativeDataB['date'], cumulativeDataB['conversion'], label='B')\n",
    "plt.legend()\n",
    "plt.title('График кумулятивного среднего количества заказов по группам')\n",
    "plt.ylabel(\"Конверсия\")\n",
    "plt.xticks(rotation=30)\n",
    "plt.show()"
   ]
  },
  {
   "cell_type": "markdown",
   "metadata": {},
   "source": [
    "**Вывод:** Конверсия группы В на графики выглядит более привлекательной."
   ]
  },
  {
   "cell_type": "markdown",
   "metadata": {},
   "source": [
    "### Построим график относительного изменения кумулятивного среднего количества заказов группы B к группе A."
   ]
  },
  {
   "cell_type": "code",
   "execution_count": 29,
   "metadata": {},
   "outputs": [
    {
     "data": {
      "image/png": "[encoded data removed]",
      "text/plain": [
       "<Figure size 648x360 with 1 Axes>"
      ]
     },
     "metadata": {
      "needs_background": "light"
     },
     "output_type": "display_data"
    }
   ],
   "source": [
    "mergedCumulativeConversions = (cumulativeDataA[['date','conversion']]\n",
    "                               .merge(cumulativeDataB[['date','conversion']], \n",
    "                                      left_on='date', right_on='date', how='left', suffixes=['A', 'B']))\n",
    "plt.figure(figsize=(9, 5))\n",
    "plt.grid(True)\n",
    "plt.plot(mergedCumulativeConversions['date'],\n",
    "         mergedCumulativeConversions['conversionB']/mergedCumulativeConversions['conversionA']-1,\n",
    "         label=\"Относительный прирост конверсии группы B относительно группы A\")\n",
    "plt.legend()\n",
    "plt.title('График относительного изменения кумулятивного среднего количества заказов группы B к группе A')\n",
    "plt.ylabel(\"Конверсия\")\n",
    "plt.axhline(y=0, color='black', linestyle='--')\n",
    "plt.axhline(y=-0.1, color='grey', linestyle='--')\n",
    "plt.xticks(rotation=30)\n",
    "plt.show()"
   ]
  },
  {
   "cell_type": "markdown",
   "metadata": {},
   "source": [
    "**Вывод:** В начале теста группа А лидировала, но затем вторая группа стремительно начала рост. После стремительного подъема Группа В скорректировалась и вновь продолжила рост. Потребуются более детальный анализ данных после чистки от выбросов, т.к. по предыдущим графикам видно то, что были крупные заказы во второй группе, которые искажают статистику."
   ]
  },
  {
   "cell_type": "markdown",
   "metadata": {},
   "source": [
    "### Построим точечный график количества заказов по пользователям."
   ]
  },
  {
   "cell_type": "code",
   "execution_count": 30,
   "metadata": {},
   "outputs": [
    {
     "data": {
      "image/png": "[encoded data removed]",
      "text/plain": [
       "<Figure size 720x432 with 1 Axes>"
      ]
     },
     "metadata": {
      "needs_background": "light"
     },
     "output_type": "display_data"
    }
   ],
   "source": [
    "orders_by_users = (\n",
    "    orders.groupby('visitor_id', as_index=False)\n",
    "    .agg({'transaction_id': 'nunique'})\n",
    ")\n",
    "orders_by_users.columns =  ['visitor_id', 'orders']\n",
    "\n",
    "plt.figure(figsize=(10, 6))\n",
    "plt.grid(True)\n",
    "plt.hist(orders_by_users['orders']) \n",
    "plt.title('график количества заказов по пользователям')\n",
    "plt.xlabel('Количество заказов')\n",
    "plt.ylabel('Количество пользователей')\n",
    "plt.show()"
   ]
  },
  {
   "cell_type": "code",
   "execution_count": 31,
   "metadata": {},
   "outputs": [
    {
     "data": {
      "image/png": "[encoded data removed]",
      "text/plain": [
       "<Figure size 720x432 with 1 Axes>"
      ]
     },
     "metadata": {
      "needs_background": "light"
     },
     "output_type": "display_data"
    }
   ],
   "source": [
    "x_values = pd.Series(range(0,len(orders_by_users)))\n",
    "plt.figure(figsize=(10, 6))\n",
    "plt.grid(True)\n",
    "plt.ylabel('Количество заказов')\n",
    "plt.xlabel('Количество пользователей')\n",
    "plt.scatter(x_values, orders_by_users['orders'])\n",
    "plt.title('Распределение количества заказов по пользователям')\n",
    "plt.show()"
   ]
  },
  {
   "cell_type": "markdown",
   "metadata": {},
   "source": [
    "**Вывод:** Все, как и предполагалось: есть немного пользователей, которые заказали больше двух раз. По графику можно выбрать границу аномальных значений между 2 и 4 заказов. Однако принято отсеивать от 1% до 5% наблюдений с крайними значениями."
   ]
  },
  {
   "cell_type": "markdown",
   "metadata": {},
   "source": [
    "### Посчитаем 95-й и 99-й перцентили количества заказов на пользователя."
   ]
  },
  {
   "cell_type": "markdown",
   "metadata": {},
   "source": [
    "Для подсчёта перцентилей применяют метод percentile() библиотеки Numpy"
   ]
  },
  {
   "cell_type": "code",
   "execution_count": 32,
   "metadata": {},
   "outputs": [
    {
     "data": {
      "text/plain": [
       "array([2., 4.])"
      ]
     },
     "execution_count": 32,
     "metadata": {},
     "output_type": "execute_result"
    }
   ],
   "source": [
    "np.percentile(orders_by_users['orders'], [95, 99])"
   ]
  },
  {
   "cell_type": "markdown",
   "metadata": {},
   "source": [
    "**Вывод:** Мы видим, что не более 5% процентов пользователей совершали больше двух покупок в течении тестирования. И только 1% совершали четыре и больше покупки.\n",
    "\n",
    "**Возьмем за верхнюю границу четыре заказа на одного пользователя.**"
   ]
  },
  {
   "cell_type": "markdown",
   "metadata": {},
   "source": [
    "### Построим точечный график стоимостей заказов."
   ]
  },
  {
   "cell_type": "code",
   "execution_count": 33,
   "metadata": {},
   "outputs": [
    {
     "data": {
      "image/png": "[encoded data removed]",
      "text/plain": [
       "<Figure size 720x432 with 1 Axes>"
      ]
     },
     "metadata": {
      "needs_background": "light"
     },
     "output_type": "display_data"
    }
   ],
   "source": [
    "plt.figure(figsize=(10, 6))\n",
    "plt.grid(True)\n",
    "plt.hist(orders['revenue']) \n",
    "plt.title(' график стоимостей заказов по пользователям')\n",
    "plt.xlabel('Стоимость заказов')\n",
    "plt.ylabel('Количество пользователей')\n",
    "plt.show()"
   ]
  },
  {
   "cell_type": "code",
   "execution_count": 34,
   "metadata": {},
   "outputs": [
    {
     "data": {
      "image/png": "[encoded data removed]",
      "text/plain": [
       "<Figure size 720x432 with 1 Axes>"
      ]
     },
     "metadata": {
      "needs_background": "light"
     },
     "output_type": "display_data"
    }
   ],
   "source": [
    "x_values = pd.Series(range(0,len(orders['revenue'])))\n",
    "plt.figure(figsize=(10, 6))\n",
    "plt.grid(True)\n",
    "plt.ylabel('Стоимость заказов')\n",
    "plt.xlabel('Количество пользователей')\n",
    "plt.scatter(x_values, orders['revenue'])\n",
    "plt.title('График распределение стоимости заказов по пользователям')\n",
    "plt.show()"
   ]
  },
  {
   "cell_type": "markdown",
   "metadata": {},
   "source": [
    "**Вывод:** На точечном графике мы видим огромный заказ, который исказил графики по кумулятивные выручки. Есть еще несколько заказов которые могут исказить результат исследования"
   ]
  },
  {
   "cell_type": "markdown",
   "metadata": {},
   "source": [
    "### Построим 95-й и 99-й перцентили стоимости заказов."
   ]
  },
  {
   "cell_type": "markdown",
   "metadata": {},
   "source": [
    "Для подсчёта перцентилей применяют метод percentile() библиотеки Numpy"
   ]
  },
  {
   "cell_type": "code",
   "execution_count": 35,
   "metadata": {},
   "outputs": [
    {
     "data": {
      "text/plain": [
       "array([28000. , 58233.2])"
      ]
     },
     "execution_count": 35,
     "metadata": {},
     "output_type": "execute_result"
    }
   ],
   "source": [
    "np.percentile(orders['revenue'], [95, 99])"
   ]
  },
  {
   "cell_type": "markdown",
   "metadata": {},
   "source": [
    "**Вывод:** Менее 5% пользователей совершали покупка дороже 28000, и только 1% совершили покупки дороже 58233\n",
    "\n",
    "**Возьмем за верхнюю границу 58233 стоимости одного заказа.**"
   ]
  },
  {
   "cell_type": "markdown",
   "metadata": {},
   "source": [
    "### Посчитаем статистическую значимость различий в среднем количестве заказов между группами по «сырым» данным."
   ]
  },
  {
   "cell_type": "markdown",
   "metadata": {},
   "source": [
    "В начале анализа мы оценили результаты A/B-теста визуально и выяснили, что в данных, скорее всего, есть выбросы. Нашли выбросы и границу для их определения.\n",
    "\n",
    "**Сформулируем гипотезы:**\n",
    "\n",
    "**Нулевоя:** различий в среднем количестве заказов между группами нет.\n",
    "\n",
    "**Альтернативаня:**  различия в среднем количестве заказов между группами есть.\n",
    "\n",
    "**Уровень значимости:** установим стандартный уровень статистической значимости, равный 0.05"
   ]
  },
  {
   "cell_type": "markdown",
   "metadata": {},
   "source": [
    "#### Начнём с подготовки данных:"
   ]
  },
  {
   "cell_type": "code",
   "execution_count": 36,
   "metadata": {},
   "outputs": [
    {
     "data": {
      "text/html": [
       "<div>\n",
       "<style scoped>\n",
       "    .dataframe tbody tr th:only-of-type {\n",
       "        vertical-align: middle;\n",
       "    }\n",
       "\n",
       "    .dataframe tbody tr th {\n",
       "        vertical-align: top;\n",
       "    }\n",
       "\n",
       "    .dataframe thead th {\n",
       "        text-align: right;\n",
       "    }\n",
       "</style>\n",
       "<table border=\"1\" class=\"dataframe\">\n",
       "  <thead>\n",
       "    <tr style=\"text-align: right;\">\n",
       "      <th></th>\n",
       "      <th>date</th>\n",
       "      <th>orders_daily_a</th>\n",
       "      <th>revenue_sum_date_a</th>\n",
       "      <th>orders_daily_b</th>\n",
       "      <th>revenue_sum_date_b</th>\n",
       "      <th>orders_cummulative_a</th>\n",
       "      <th>revenue_cummulative_a</th>\n",
       "      <th>orders_cummulative_b</th>\n",
       "      <th>revenue_cummulative_b</th>\n",
       "      <th>visitors_per_date_a</th>\n",
       "      <th>visitors_per_date_b</th>\n",
       "      <th>visitors_cummulative_a</th>\n",
       "      <th>visitors_cummulative_b</th>\n",
       "    </tr>\n",
       "  </thead>\n",
       "  <tbody>\n",
       "    <tr>\n",
       "      <th>0</th>\n",
       "      <td>2019-08-01</td>\n",
       "      <td>24</td>\n",
       "      <td>148579</td>\n",
       "      <td>21</td>\n",
       "      <td>101217</td>\n",
       "      <td>24</td>\n",
       "      <td>148579</td>\n",
       "      <td>21</td>\n",
       "      <td>101217</td>\n",
       "      <td>719</td>\n",
       "      <td>713</td>\n",
       "      <td>719</td>\n",
       "      <td>713</td>\n",
       "    </tr>\n",
       "    <tr>\n",
       "      <th>1</th>\n",
       "      <td>2019-08-02</td>\n",
       "      <td>20</td>\n",
       "      <td>93822</td>\n",
       "      <td>24</td>\n",
       "      <td>165531</td>\n",
       "      <td>44</td>\n",
       "      <td>242401</td>\n",
       "      <td>45</td>\n",
       "      <td>266748</td>\n",
       "      <td>619</td>\n",
       "      <td>581</td>\n",
       "      <td>1338</td>\n",
       "      <td>1294</td>\n",
       "    </tr>\n",
       "    <tr>\n",
       "      <th>2</th>\n",
       "      <td>2019-08-03</td>\n",
       "      <td>24</td>\n",
       "      <td>112473</td>\n",
       "      <td>16</td>\n",
       "      <td>114248</td>\n",
       "      <td>68</td>\n",
       "      <td>354874</td>\n",
       "      <td>61</td>\n",
       "      <td>380996</td>\n",
       "      <td>507</td>\n",
       "      <td>509</td>\n",
       "      <td>1845</td>\n",
       "      <td>1803</td>\n",
       "    </tr>\n",
       "    <tr>\n",
       "      <th>3</th>\n",
       "      <td>2019-08-04</td>\n",
       "      <td>16</td>\n",
       "      <td>70825</td>\n",
       "      <td>17</td>\n",
       "      <td>108571</td>\n",
       "      <td>84</td>\n",
       "      <td>425699</td>\n",
       "      <td>78</td>\n",
       "      <td>489567</td>\n",
       "      <td>717</td>\n",
       "      <td>770</td>\n",
       "      <td>2562</td>\n",
       "      <td>2573</td>\n",
       "    </tr>\n",
       "    <tr>\n",
       "      <th>4</th>\n",
       "      <td>2019-08-05</td>\n",
       "      <td>25</td>\n",
       "      <td>124218</td>\n",
       "      <td>23</td>\n",
       "      <td>92428</td>\n",
       "      <td>109</td>\n",
       "      <td>549917</td>\n",
       "      <td>101</td>\n",
       "      <td>581995</td>\n",
       "      <td>756</td>\n",
       "      <td>707</td>\n",
       "      <td>3318</td>\n",
       "      <td>3280</td>\n",
       "    </tr>\n",
       "  </tbody>\n",
       "</table>\n",
       "</div>"
      ],
      "text/plain": [
       "        date  orders_daily_a  revenue_sum_date_a  orders_daily_b  \\\n",
       "0 2019-08-01              24              148579              21   \n",
       "1 2019-08-02              20               93822              24   \n",
       "2 2019-08-03              24              112473              16   \n",
       "3 2019-08-04              16               70825              17   \n",
       "4 2019-08-05              25              124218              23   \n",
       "\n",
       "   revenue_sum_date_b  orders_cummulative_a  revenue_cummulative_a  \\\n",
       "0              101217                    24                 148579   \n",
       "1              165531                    44                 242401   \n",
       "2              114248                    68                 354874   \n",
       "3              108571                    84                 425699   \n",
       "4               92428                   109                 549917   \n",
       "\n",
       "   orders_cummulative_b  revenue_cummulative_b  visitors_per_date_a  \\\n",
       "0                    21                 101217                  719   \n",
       "1                    45                 266748                  619   \n",
       "2                    61                 380996                  507   \n",
       "3                    78                 489567                  717   \n",
       "4                   101                 581995                  756   \n",
       "\n",
       "   visitors_per_date_b  visitors_cummulative_a  visitors_cummulative_b  \n",
       "0                  713                     719                     713  \n",
       "1                  581                    1338                    1294  \n",
       "2                  509                    1845                    1803  \n",
       "3                  770                    2562                    2573  \n",
       "4                  707                    3318                    3280  "
      ]
     },
     "execution_count": 36,
     "metadata": {},
     "output_type": "execute_result"
    }
   ],
   "source": [
    "visitors_daily_a = visitors[visitors['group'] == 'A'][['date', 'visitors']]\n",
    "visitors_daily_a.columns = ['date', 'visitors_per_date_a']\n",
    "\n",
    "visitors_cummulative_a = visitors_daily_a.apply(\n",
    "    lambda x: visitors_daily_a[visitors_daily_a['date'] <= x['date']].agg(\n",
    "        {'date': 'max', 'visitors_per_date_a': 'sum'}\n",
    "    ),\n",
    "    axis=1,\n",
    ")\n",
    "visitors_cummulative_a.columns = ['date', 'visitors_cummulative_a']\n",
    "\n",
    "visitors_daily_b = visitors[visitors['group'] == 'B'][['date', 'visitors']]\n",
    "visitors_daily_b.columns = ['date', 'visitors_per_date_b']\n",
    "\n",
    "visitors_cummulative_b = visitors_daily_b.apply(\n",
    "    lambda x: visitors_daily_b[visitors_daily_b['date'] <= x['date']].agg(\n",
    "        {'date': 'max', 'visitors_per_date_b': 'sum'}\n",
    "    ),\n",
    "    axis=1,\n",
    ")\n",
    "visitors_cummulative_b.columns = ['date', 'visitors_cummulative_b']\n",
    "\n",
    "orders_daily_a = (\n",
    "    orders[orders['group'] == 'A'][['date', 'transaction_id', 'visitor_id', 'revenue']]\n",
    "    .groupby('date', as_index=False)\n",
    "    .agg({'transaction_id': pd.Series.nunique, 'revenue': 'sum'})\n",
    ")\n",
    "orders_daily_a.columns = ['date', 'orders_daily_a', 'revenue_sum_date_a']\n",
    "\n",
    "orders_cummulative_a = orders_daily_a.apply(\n",
    "    lambda x: orders_daily_a[orders_daily_a['date'] <= x['date']].agg(\n",
    "        {'date': 'max', 'orders_daily_a': 'sum', 'revenue_sum_date_a': 'sum'}\n",
    "    ),\n",
    "    axis=1,\n",
    ").sort_values(by=['date'])\n",
    "\n",
    "orders_cummulative_a.columns = ['date','orders_cummulative_a','revenue_cummulative_a']\n",
    "\n",
    "orders_daily_b = (\n",
    "    orders[orders['group'] == 'B'][['date', 'transaction_id', 'visitor_id', 'revenue']]\n",
    "    .groupby('date', as_index=False)\n",
    "    .agg({'transaction_id': pd.Series.nunique, 'revenue': 'sum'})\n",
    ")\n",
    "orders_daily_b.columns = ['date', 'orders_daily_b', 'revenue_sum_date_b']\n",
    "\n",
    "orders_cummulative_b = orders_daily_b.apply(\n",
    "    lambda x: orders_daily_b[orders_daily_b['date'] <= x['date']].agg(\n",
    "        {'date': 'max', 'orders_daily_b': 'sum', 'revenue_sum_date_b': 'sum'}\n",
    "    ),\n",
    "    axis=1,\n",
    ").sort_values(by=['date'])\n",
    "\n",
    "orders_cummulative_b.columns = ['date','orders_cummulative_b','revenue_cummulative_b']\n",
    "\n",
    "\n",
    "data = (\n",
    "    orders_daily_a.merge(\n",
    "        orders_daily_b, left_on='date', right_on='date', how='left'\n",
    "    )\n",
    "    .merge(orders_cummulative_a, left_on='date', right_on='date', how='left')\n",
    "    .merge(orders_cummulative_b, left_on='date', right_on='date', how='left')\n",
    "    .merge(visitors_daily_a, left_on='date', right_on='date', how='left')\n",
    "    .merge(visitors_daily_b, left_on='date', right_on='date', how='left')\n",
    "    .merge(visitors_cummulative_a, left_on='date', right_on='date', how='left')\n",
    "    .merge(visitors_cummulative_b, left_on='date', right_on='date', how='left')\n",
    ")\n",
    "\n",
    "data.head(5)"
   ]
  },
  {
   "cell_type": "markdown",
   "metadata": {},
   "source": [
    "**Названия столбцов данных:**\n",
    "\n",
    "date — дата;\n",
    "\n",
    "orders_daily_a — количество заказов в выбранную дату в группе A;\n",
    "\n",
    "revenue_sum_date_a — суммарная выручка в выбранную дату в группе A;\n",
    "\n",
    "orders_daily_a — количество заказов в выбранную дату в группе B;\n",
    "\n",
    "revenue_sum_date_b — суммарная выручка в выбранную дату в группе B;\n",
    "\n",
    "orders_cummulative_a — суммарное число заказов до выбранной даты включительно в группе A;\n",
    "\n",
    "revenue_cummulative_a — суммарная выручка до выбранной даты включительно в группе A;\n",
    "\n",
    "orders_cummulative_b — суммарное количество заказов до выбранной даты включительно в группе B;\n",
    "\n",
    "revenue_cummulative_b — суммарная выручка до выбранной даты включительно в группе B;\n",
    "\n",
    "visitors_per_date_a — количество пользователей в выбранную дату в группе A;\n",
    "\n",
    "visitors_per_date_b — количество пользователей в выбранную дату в группе B;\n",
    "\n",
    "visitors_cummulative_a — количество пользователей до выбранной даты включительно в группе A;\n",
    "\n",
    "visitors_cummulative_b — количество пользователей до выбранной даты включительно в группе B."
   ]
  },
  {
   "cell_type": "markdown",
   "metadata": {},
   "source": [
    "#### Создадим переменные orders_by_users_a и orders_by_users_b"
   ]
  },
  {
   "cell_type": "markdown",
   "metadata": {},
   "source": [
    "со столбцами 'visitor_id', 'orders'. В них для пользователей, которые заказывали хотя бы 1 раз, укажем число совершённых заказов."
   ]
  },
  {
   "cell_type": "code",
   "execution_count": 37,
   "metadata": {},
   "outputs": [],
   "source": [
    "orders_by_users_a = (\n",
    "    orders[orders['group'] == 'A']\n",
    "    .groupby('visitor_id', as_index=False)\n",
    "    .agg({'transaction_id': pd.Series.nunique})\n",
    ")\n",
    "orders_by_users_a.columns = ['visitor_id', 'orders']\n",
    "\n",
    "orders_by_users_b = (\n",
    "    orders[orders['group'] == 'B']\n",
    "    .groupby('visitor_id', as_index=False)\n",
    "    .agg({'transaction_id': pd.Series.nunique})\n",
    ")\n",
    "orders_by_users_b.columns = ['visitor_id', 'orders']"
   ]
  },
  {
   "cell_type": "markdown",
   "metadata": {},
   "source": [
    "#### Объявим переменные sample_a и sample_b"
   ]
  },
  {
   "cell_type": "markdown",
   "metadata": {},
   "source": [
    "в которых пользователям из разных групп будет соответствовать количество заказов. Тем, кто ничего не заказал, будут соответствовать нули. Это нужно, чтобы подготовить выборки к проверке критерием Манна-Уитни."
   ]
  },
  {
   "cell_type": "code",
   "execution_count": 38,
   "metadata": {},
   "outputs": [],
   "source": [
    "sample_a = pd.concat([orders_by_users_a['orders'],\n",
    "                      pd.Series(\n",
    "                          0, \n",
    "                          index=np.arange(data['visitors_per_date_a'].sum() - \n",
    "                                          len(orders_by_users_a['orders'])), \n",
    "                          name='orders')],axis=0\n",
    "                    )\n",
    "\n",
    "sample_b = pd.concat([orders_by_users_b['orders'],\n",
    "                      pd.Series(\n",
    "                          0, \n",
    "                          index=np.arange(data['visitors_per_date_b'].sum() - \n",
    "                                          len(orders_by_users_b['orders'])), \n",
    "                          name='orders')],axis=0\n",
    "                    )"
   ]
  },
  {
   "cell_type": "markdown",
   "metadata": {},
   "source": [
    "#### Применим критерий Манна-Уитни"
   ]
  },
  {
   "cell_type": "markdown",
   "metadata": {},
   "source": [
    "**Для удобства и дальнейшего использования создадим функцию Критерия Манна-Уитни**"
   ]
  },
  {
   "cell_type": "code",
   "execution_count": 39,
   "metadata": {},
   "outputs": [],
   "source": [
    "# Функция для проверки гипотезы\n",
    "def Hypothesis_test(dt_a, dt_b):\n",
    "    alpha = 0.05\n",
    "    p_value = stats.mannwhitneyu(dt_a, dt_b)[1]\n",
    "    print(\"P-value: {0:.3f}\".format(p_value))\n",
    "\n",
    "    if (p_value < alpha):\n",
    "        print(\"Отвергаем нулевую гипотезу: между группами есть разница\")\n",
    "    else:\n",
    "        print(\"Не получилось отвергнуть нулевую гипотезу, нет оснований считать группы разными\")\n",
    "    \n",
    "    print(\"Относительный прирост В к А: {0:.3%}\".format(dt_b.mean() / dt_a.mean()-1))"
   ]
  },
  {
   "cell_type": "markdown",
   "metadata": {},
   "source": [
    "Выведем относительный прирост конверсии группы B: конверсия группы B / конверсия группы A - 1, округлив до трёх знаков после запятой."
   ]
  },
  {
   "cell_type": "code",
   "execution_count": 40,
   "metadata": {},
   "outputs": [
    {
     "name": "stdout",
     "output_type": "stream",
     "text": [
      "P-value: 0.017\n",
      "Отвергаем нулевую гипотезу: между группами есть разница\n",
      "Относительный прирост В к А: 13.808%\n"
     ]
    }
   ],
   "source": [
    "Hypothesis_test(sample_a, sample_b)"
   ]
  },
  {
   "cell_type": "markdown",
   "metadata": {},
   "source": [
    "**Вывод:** По «сырым» данным между группами есть различие. P-value = 0.017 меньше стандартного значения (0,05), по этому нулевую гипотезу мы отвергаем. Относительный прирост группы B равен 13,81%."
   ]
  },
  {
   "cell_type": "markdown",
   "metadata": {},
   "source": [
    "### Посчитаем статистическую значимость различий в среднем чеке заказа между группами по «сырым» данным."
   ]
  },
  {
   "cell_type": "markdown",
   "metadata": {},
   "source": [
    "**Сформулируем гипотезы:**\n",
    "\n",
    "**Нулевоя:** различий в среднем чеке между группами нет.\n",
    "\n",
    "**Альтернативаня:**  различия в среднем чеке между группами есть.\n",
    "\n",
    "**Уровень значимости:** установим стандартный уровень статистической значимости, равный 0.05"
   ]
  },
  {
   "cell_type": "markdown",
   "metadata": {},
   "source": [
    "Чтобы рассчитать статистическую значимость различий в среднем чеке, передадим критерию mannwhitneyu() данные о выручке с заказов. И найдём относительные различия в среднем чеке между группами."
   ]
  },
  {
   "cell_type": "code",
   "execution_count": 41,
   "metadata": {},
   "outputs": [
    {
     "name": "stdout",
     "output_type": "stream",
     "text": [
      "P-value: 0.729\n",
      "Не получилось отвергнуть нулевую гипотезу, нет оснований считать группы разными\n",
      "Относительный прирост В к А: 25.871%\n"
     ]
    }
   ],
   "source": [
    "Hypothesis_test(orders[orders['group']=='A']['revenue'], orders[orders['group']=='B']['revenue'])"
   ]
  },
  {
   "cell_type": "markdown",
   "metadata": {},
   "source": [
    "**Вывод:** По «сырым» данным, P-value значительно больше 0.05. Значит, причин отвергать нулевую гипотезу и считать, что в среднем чеке есть различия, нет. Впрочем, средний чек группы B значительно выше среднего чека группы A. разница в 26% не является статистически значимой"
   ]
  },
  {
   "cell_type": "markdown",
   "metadata": {},
   "source": [
    "### Посчитаем статистическую значимость различий в среднем количестве заказов между группами по «очищенным» данным."
   ]
  },
  {
   "cell_type": "markdown",
   "metadata": {},
   "source": [
    "Примем за аномальных пользователей тех, кто совершил от 5 заказов или совершил заказ дороже 58233 рублей. Так мы уберём 1% пользователей с наибольшим числом заказов и 1% пользователей с дорогими заказами. Сделаем срезы пользователей с числом заказов больше 4 — users_with_many_orders и пользователей, совершивших заказы дороже 58233 — users_with_expensive_orders. Объединим их в таблице abnormal_users"
   ]
  },
  {
   "cell_type": "code",
   "execution_count": 42,
   "metadata": {},
   "outputs": [
    {
     "name": "stdout",
     "output_type": "stream",
     "text": [
      "1099     148427295\n",
      "949      887908475\n",
      "744      888512513\n",
      "1103    1164614297\n",
      "1136    1307669133\n",
      "858     1316129916\n",
      "425     1920142716\n",
      "227     2038680547\n",
      "1196    2108080724\n",
      "326     2378935119\n",
      "278     2458001652\n",
      "940     4003628586\n",
      "743     4133034833\n",
      "499     4256040402\n",
      "662     4266935830\n",
      "Name: visitor_id, dtype: int64\n"
     ]
    },
    {
     "data": {
      "text/plain": [
       "15"
      ]
     },
     "execution_count": 42,
     "metadata": {},
     "output_type": "execute_result"
    }
   ],
   "source": [
    "many_orders = np.percentile(orders_by_users['orders'], 99)\n",
    "expensive_orders = np.percentile(orders['revenue'], 99)\n",
    "\n",
    "\n",
    "users_with_many_orders = pd.concat(\n",
    "    [\n",
    "        orders_by_users_a[orders_by_users_a['orders'] > many_orders]['visitor_id'],\n",
    "        orders_by_users_b[orders_by_users_b['orders'] > many_orders]['visitor_id'],\n",
    "    ],\n",
    "    axis=0,\n",
    ")\n",
    "\n",
    "\n",
    "users_with_expensive_orders = orders[orders['revenue'] > expensive_orders]['visitor_id']\n",
    "\n",
    "\n",
    "abnormal_users = (\n",
    "    pd.concat([users_with_many_orders, users_with_expensive_orders], axis=0)\n",
    "    .drop_duplicates()\n",
    "    .sort_values()\n",
    ")\n",
    "print (abnormal_users)\n",
    "abnormal_users.shape[0]"
   ]
  },
  {
   "cell_type": "markdown",
   "metadata": {},
   "source": [
    "Всего 15 аномальных пользователей. Узнаем, как их действия повлияли на результаты теста."
   ]
  },
  {
   "cell_type": "markdown",
   "metadata": {},
   "source": [
    "#### Посчитаем статистическую значимость различий в среднем количестве заказов между группами."
   ]
  },
  {
   "cell_type": "markdown",
   "metadata": {},
   "source": [
    "**Сформулируем гипотезы:**\n",
    "\n",
    "**Нулевоя:** различий в среднем количестве заказов между группами нет.\n",
    "\n",
    "**Альтернативаня:**  различия в среднем количестве заказов между группами есть.\n",
    "\n",
    "**Уровень значимости:** установим стандартный уровень статистической значимости, равный 0.05"
   ]
  },
  {
   "cell_type": "code",
   "execution_count": 43,
   "metadata": {},
   "outputs": [],
   "source": [
    "sample_a_filtered = pd.concat(\n",
    "    [\n",
    "        orders_by_users_a[\n",
    "            np.logical_not(orders_by_users_a['visitor_id'].isin(abnormal_users))\n",
    "        ]['orders'],\n",
    "        pd.Series(\n",
    "            0,\n",
    "            index=np.arange(\n",
    "                data['visitors_per_date_a'].sum() - len(orders_by_users_a['orders'])\n",
    "            ),\n",
    "            name='orders',\n",
    "        ),\n",
    "    ],\n",
    "    axis=0,\n",
    ")\n",
    "\n",
    "sample_b_filtered = pd.concat(\n",
    "    [\n",
    "        orders_by_users_b[\n",
    "            np.logical_not(orders_by_users_b['visitor_id'].isin(abnormal_users))\n",
    "        ]['orders'],\n",
    "        pd.Series(\n",
    "            0,\n",
    "            index=np.arange(\n",
    "                data['visitors_per_date_b'].sum() - len(orders_by_users_b['orders'])\n",
    "            ),\n",
    "            name='orders',\n",
    "        ),\n",
    "    ],\n",
    "    axis=0,\n",
    ")"
   ]
  },
  {
   "cell_type": "code",
   "execution_count": 44,
   "metadata": {},
   "outputs": [
    {
     "name": "stdout",
     "output_type": "stream",
     "text": [
      "P-value: 0.014\n",
      "Отвергаем нулевую гипотезу: между группами есть разница\n",
      "Относительный прирост В к А: 15.331%\n"
     ]
    }
   ],
   "source": [
    "Hypothesis_test(sample_a_filtered, sample_b_filtered)"
   ]
  },
  {
   "cell_type": "markdown",
   "metadata": {},
   "source": [
    "**Вывод:** По очищенным данным между группами есть различие. P-value = 0.014 меньше стандартного значения (0,05), по этому нулевую гипотезу мы отвергаем. Относительный прирост группы B равен 15,331%. Результаты по среднему количеству заказов практически не изменились"
   ]
  },
  {
   "cell_type": "markdown",
   "metadata": {},
   "source": [
    "### Посчитаем статистическую значимость различий в среднем чеке заказа между группами по «очищенным» данным."
   ]
  },
  {
   "cell_type": "markdown",
   "metadata": {},
   "source": [
    "**Сформулируем гипотезы:**\n",
    "\n",
    "**Нулевоя:** различий в среднем чеке между группами нет.\n",
    "\n",
    "**Альтернативаня:**  различия в среднем чеке между группами есть.\n",
    "\n",
    "**Уровень значимости:** установим стандартный уровень статистической значимости, равный 0.05"
   ]
  },
  {
   "cell_type": "code",
   "execution_count": 45,
   "metadata": {},
   "outputs": [
    {
     "name": "stdout",
     "output_type": "stream",
     "text": [
      "P-value: 0.851\n",
      "Не получилось отвергнуть нулевую гипотезу, нет оснований считать группы разными\n",
      "Относительный прирост В к А: -0.575%\n"
     ]
    }
   ],
   "source": [
    "Hypothesis_test(\n",
    "    orders[(orders['group']=='A') & np.logical_not(orders['visitor_id'].isin(abnormal_users))]['revenue'], \n",
    "    orders[(orders['group']=='B') & np.logical_not(orders['visitor_id'].isin(abnormal_users))]['revenue']\n",
    "                  )"
   ]
  },
  {
   "cell_type": "markdown",
   "metadata": {},
   "source": [
    "**Вывод:** P-value увеличился, но причин отвергать нулевую гипотезу нет. Разница между сегментами фактически сравнялась (По «сырым» данным была более 25%)\n"
   ]
  },
  {
   "cell_type": "markdown",
   "metadata": {},
   "source": [
    "## Примем решение по результатам теста"
   ]
  },
  {
   "cell_type": "markdown",
   "metadata": {},
   "source": [
    "На основании входных данных, предоставленных интернет-магазином был проведено исследование и вынесены рекомендации, изложенные ниже.\n",
    "\n",
    "**В первой части исследования «Приоритизации гипотез» мы применили два Фреймворка ICE и RICE на список гипотез предоставленный отделам маркетинга.**\n",
    "\n",
    "В первую очередь нужно обратить внимание на гипотезы:\n",
    "1.\tЗапустить акцию, дающую скидку на товар в день рождения.\n",
    "2.\tДобавить два новых канала привлечения трафика, что позволит привлекать на 30% больше пользователей.\n",
    "3.\tДобавить форму подписки на все основные страницы, чтобы собрать базу клиентов для email-рассылок.\n",
    "\n",
    "Если, же ранжирование гипотиз должно включать в себя охват пользователей, то приоритеты немого изменятся:\n",
    "\n",
    "1.\tДобавить форму подписки на все основные страницы, чтобы собрать базу клиентов для email-рассылок.\n",
    "2.\tДобавить блоки рекомендаций товаров на сайт интернет магазина, чтобы повысить конверсию и средний чек заказа.\n",
    "3.\tДобавить два новых канала привлечения трафика, что позволит привлекать на 30% больше пользователей.\n",
    "\n",
    "**Во второй части исследования «Анализ А/В теста», мы применили критерий Манна-Уитни к «сырым» и «очищенным данным»**\n",
    "\n",
    "1.\tМежду группами есть статистически значимое различие по конверсии. Конверсия группы B на ~14% выше чем в A, как по «сырым» так, и по отфильтрованным от аномалий данным.\n",
    "2.\tПо среднему чеку в группах статистически значимого различия нет, в группе B был разрыв при использовании «сырых» данных за счет аномальных значений.\n",
    "3.\tГрафик относительного изменения кумулятивного среднего количества заказов группы B к группе A показывает, что результаты группы B стабильно лучше группы А.\n",
    "\n",
    "# Вывод:\n",
    "**На основании проведенного исследования группа B победила, у нее конверсия выше, стабильно выше группы А. Рекомендуем завершить тест.**\n"
   ]
  }
 ],
 "metadata": {
  "ExecuteTimeLog": [
   {
    "duration": 3,
    "start_time": "2022-12-05T04:27:12.381Z"
   },
   {
    "duration": 2,
    "start_time": "2022-12-05T04:29:37.251Z"
   },
   {
    "duration": 1348,
    "start_time": "2022-12-05T04:35:46.491Z"
   },
   {
    "duration": 3,
    "start_time": "2022-12-05T04:35:55.097Z"
   },
   {
    "duration": 73,
    "start_time": "2022-12-05T04:37:34.833Z"
   },
   {
    "duration": 180,
    "start_time": "2022-12-05T04:38:17.408Z"
   },
   {
    "duration": 13,
    "start_time": "2022-12-05T04:38:35.241Z"
   },
   {
    "duration": 13,
    "start_time": "2022-12-05T04:38:54.849Z"
   },
   {
    "duration": 10,
    "start_time": "2022-12-05T04:46:12.642Z"
   },
   {
    "duration": 3,
    "start_time": "2022-12-05T04:46:39.474Z"
   },
   {
    "duration": 80,
    "start_time": "2022-12-05T04:46:40.850Z"
   },
   {
    "duration": 10,
    "start_time": "2022-12-05T04:46:41.330Z"
   },
   {
    "duration": 9,
    "start_time": "2022-12-05T04:46:42.192Z"
   },
   {
    "duration": 3,
    "start_time": "2022-12-05T04:47:11.570Z"
   },
   {
    "duration": 3,
    "start_time": "2022-12-05T04:47:17.082Z"
   },
   {
    "duration": 15,
    "start_time": "2022-12-05T04:48:00.290Z"
   },
   {
    "duration": 21,
    "start_time": "2022-12-05T04:48:26.561Z"
   },
   {
    "duration": 17,
    "start_time": "2022-12-05T04:48:41.033Z"
   },
   {
    "duration": 3,
    "start_time": "2022-12-05T04:58:22.606Z"
   },
   {
    "duration": 48,
    "start_time": "2022-12-05T14:01:11.357Z"
   },
   {
    "duration": 456,
    "start_time": "2022-12-05T14:01:20.075Z"
   },
   {
    "duration": 4,
    "start_time": "2022-12-05T14:01:20.533Z"
   },
   {
    "duration": 253,
    "start_time": "2022-12-05T14:01:20.540Z"
   },
   {
    "duration": 25,
    "start_time": "2022-12-05T14:01:20.794Z"
   },
   {
    "duration": 41,
    "start_time": "2022-12-05T14:01:20.821Z"
   },
   {
    "duration": 25,
    "start_time": "2022-12-05T14:01:20.864Z"
   },
   {
    "duration": 24,
    "start_time": "2022-12-05T14:01:20.891Z"
   },
   {
    "duration": 10,
    "start_time": "2022-12-05T14:01:29.873Z"
   },
   {
    "duration": 4,
    "start_time": "2022-12-05T15:32:41.529Z"
   },
   {
    "duration": 4,
    "start_time": "2022-12-05T15:33:42.592Z"
   },
   {
    "duration": 11,
    "start_time": "2022-12-05T15:33:50.244Z"
   },
   {
    "duration": 6,
    "start_time": "2022-12-05T15:36:27.768Z"
   },
   {
    "duration": 2,
    "start_time": "2022-12-05T15:38:12.479Z"
   },
   {
    "duration": 4,
    "start_time": "2022-12-05T15:38:48.811Z"
   },
   {
    "duration": 4,
    "start_time": "2022-12-05T15:39:01.403Z"
   },
   {
    "duration": 4,
    "start_time": "2022-12-05T15:39:04.750Z"
   },
   {
    "duration": 4,
    "start_time": "2022-12-05T15:39:26.146Z"
   },
   {
    "duration": 5,
    "start_time": "2022-12-05T15:39:26.852Z"
   },
   {
    "duration": 4,
    "start_time": "2022-12-05T15:39:27.446Z"
   },
   {
    "duration": 62,
    "start_time": "2022-12-05T15:39:42.949Z"
   },
   {
    "duration": 70,
    "start_time": "2022-12-05T15:51:49.887Z"
   },
   {
    "duration": 71,
    "start_time": "2022-12-05T15:52:07.466Z"
   },
   {
    "duration": 70,
    "start_time": "2022-12-05T15:52:34.823Z"
   },
   {
    "duration": 6,
    "start_time": "2022-12-05T15:52:40.856Z"
   },
   {
    "duration": 10,
    "start_time": "2022-12-05T15:52:46.042Z"
   },
   {
    "duration": 10,
    "start_time": "2022-12-05T15:54:11.662Z"
   },
   {
    "duration": 12,
    "start_time": "2022-12-05T16:00:03.844Z"
   },
   {
    "duration": 9,
    "start_time": "2022-12-05T16:00:20.230Z"
   },
   {
    "duration": 4,
    "start_time": "2022-12-05T16:00:49.962Z"
   },
   {
    "duration": 3,
    "start_time": "2022-12-05T16:03:11.639Z"
   },
   {
    "duration": 11,
    "start_time": "2022-12-05T16:03:12.166Z"
   },
   {
    "duration": 74,
    "start_time": "2022-12-05T16:10:54.681Z"
   },
   {
    "duration": 4,
    "start_time": "2022-12-05T16:12:00.369Z"
   },
   {
    "duration": 10,
    "start_time": "2022-12-05T16:12:05.774Z"
   },
   {
    "duration": 12,
    "start_time": "2022-12-05T16:12:25.294Z"
   },
   {
    "duration": 11,
    "start_time": "2022-12-05T16:12:39.465Z"
   },
   {
    "duration": 2,
    "start_time": "2022-12-05T17:07:20.112Z"
   },
   {
    "duration": 50,
    "start_time": "2022-12-06T04:07:55.507Z"
   },
   {
    "duration": 372,
    "start_time": "2022-12-06T04:08:12.043Z"
   },
   {
    "duration": 2,
    "start_time": "2022-12-06T04:08:12.417Z"
   },
   {
    "duration": 222,
    "start_time": "2022-12-06T04:08:12.421Z"
   },
   {
    "duration": 23,
    "start_time": "2022-12-06T04:08:12.645Z"
   },
   {
    "duration": 19,
    "start_time": "2022-12-06T04:08:12.670Z"
   },
   {
    "duration": 17,
    "start_time": "2022-12-06T04:08:12.691Z"
   },
   {
    "duration": 3,
    "start_time": "2022-12-06T04:08:12.721Z"
   },
   {
    "duration": 12,
    "start_time": "2022-12-06T04:08:12.726Z"
   },
   {
    "duration": 6,
    "start_time": "2022-12-06T04:08:12.739Z"
   },
   {
    "duration": 13,
    "start_time": "2022-12-06T04:08:12.747Z"
   },
   {
    "duration": 9,
    "start_time": "2022-12-06T04:08:12.762Z"
   },
   {
    "duration": 26,
    "start_time": "2022-12-06T04:08:12.772Z"
   },
   {
    "duration": 14,
    "start_time": "2022-12-06T04:08:12.799Z"
   },
   {
    "duration": 10,
    "start_time": "2022-12-06T04:08:12.814Z"
   },
   {
    "duration": 19,
    "start_time": "2022-12-06T04:08:12.826Z"
   },
   {
    "duration": 9,
    "start_time": "2022-12-06T04:08:12.847Z"
   },
   {
    "duration": 5,
    "start_time": "2022-12-06T04:08:17.303Z"
   },
   {
    "duration": 70,
    "start_time": "2022-12-06T04:10:52.308Z"
   },
   {
    "duration": 14,
    "start_time": "2022-12-06T04:13:08.204Z"
   },
   {
    "duration": 14,
    "start_time": "2022-12-06T04:13:29.595Z"
   },
   {
    "duration": 15,
    "start_time": "2022-12-06T04:13:59.474Z"
   },
   {
    "duration": 6,
    "start_time": "2022-12-06T04:14:40.785Z"
   },
   {
    "duration": 14,
    "start_time": "2022-12-06T04:14:42.505Z"
   },
   {
    "duration": 14,
    "start_time": "2022-12-06T04:15:25.760Z"
   },
   {
    "duration": 8,
    "start_time": "2022-12-06T04:15:46.570Z"
   },
   {
    "duration": 15,
    "start_time": "2022-12-06T04:16:07.087Z"
   },
   {
    "duration": 2,
    "start_time": "2022-12-06T04:16:53.304Z"
   },
   {
    "duration": 395,
    "start_time": "2022-12-06T04:17:05.198Z"
   },
   {
    "duration": 2,
    "start_time": "2022-12-06T04:17:05.595Z"
   },
   {
    "duration": 81,
    "start_time": "2022-12-06T04:17:05.599Z"
   },
   {
    "duration": 20,
    "start_time": "2022-12-06T04:17:05.682Z"
   },
   {
    "duration": 18,
    "start_time": "2022-12-06T04:17:05.704Z"
   },
   {
    "duration": 16,
    "start_time": "2022-12-06T04:17:05.723Z"
   },
   {
    "duration": 6,
    "start_time": "2022-12-06T04:17:05.740Z"
   },
   {
    "duration": 13,
    "start_time": "2022-12-06T04:17:05.748Z"
   },
   {
    "duration": 9,
    "start_time": "2022-12-06T04:17:05.762Z"
   },
   {
    "duration": 19,
    "start_time": "2022-12-06T04:17:05.772Z"
   },
   {
    "duration": 10,
    "start_time": "2022-12-06T04:17:05.793Z"
   },
   {
    "duration": 16,
    "start_time": "2022-12-06T04:17:05.805Z"
   },
   {
    "duration": 14,
    "start_time": "2022-12-06T04:17:05.823Z"
   },
   {
    "duration": 11,
    "start_time": "2022-12-06T04:17:05.840Z"
   },
   {
    "duration": 16,
    "start_time": "2022-12-06T04:17:05.852Z"
   },
   {
    "duration": 18,
    "start_time": "2022-12-06T04:17:05.870Z"
   },
   {
    "duration": 161,
    "start_time": "2022-12-06T04:17:05.890Z"
   },
   {
    "duration": 144,
    "start_time": "2022-12-06T04:17:25.958Z"
   },
   {
    "duration": 147,
    "start_time": "2022-12-06T04:18:50.565Z"
   },
   {
    "duration": 166,
    "start_time": "2022-12-06T04:18:59.373Z"
   },
   {
    "duration": 10,
    "start_time": "2022-12-06T04:19:07.277Z"
   },
   {
    "duration": 794,
    "start_time": "2022-12-06T04:20:18.390Z"
   },
   {
    "duration": 3,
    "start_time": "2022-12-06T04:20:19.186Z"
   },
   {
    "duration": 87,
    "start_time": "2022-12-06T04:20:19.190Z"
   },
   {
    "duration": 19,
    "start_time": "2022-12-06T04:20:19.279Z"
   },
   {
    "duration": 34,
    "start_time": "2022-12-06T04:20:19.299Z"
   },
   {
    "duration": 17,
    "start_time": "2022-12-06T04:20:19.334Z"
   },
   {
    "duration": 20,
    "start_time": "2022-12-06T04:20:19.352Z"
   },
   {
    "duration": 23,
    "start_time": "2022-12-06T04:20:19.373Z"
   },
   {
    "duration": 21,
    "start_time": "2022-12-06T04:20:19.398Z"
   },
   {
    "duration": 28,
    "start_time": "2022-12-06T04:20:19.422Z"
   },
   {
    "duration": 24,
    "start_time": "2022-12-06T04:20:19.451Z"
   },
   {
    "duration": 21,
    "start_time": "2022-12-06T04:20:19.476Z"
   },
   {
    "duration": 23,
    "start_time": "2022-12-06T04:20:19.499Z"
   },
   {
    "duration": 24,
    "start_time": "2022-12-06T04:20:19.524Z"
   },
   {
    "duration": 36,
    "start_time": "2022-12-06T04:20:19.550Z"
   },
   {
    "duration": 11,
    "start_time": "2022-12-06T04:20:19.588Z"
   },
   {
    "duration": 184,
    "start_time": "2022-12-06T04:20:19.601Z"
   },
   {
    "duration": 10,
    "start_time": "2022-12-06T04:20:19.787Z"
   },
   {
    "duration": 93,
    "start_time": "2022-12-06T04:20:19.798Z"
   },
   {
    "duration": 260,
    "start_time": "2022-12-06T04:21:58.523Z"
   },
   {
    "duration": 154,
    "start_time": "2022-12-06T04:25:09.441Z"
   },
   {
    "duration": 114,
    "start_time": "2022-12-06T04:26:49.583Z"
   },
   {
    "duration": 160,
    "start_time": "2022-12-06T04:27:18.775Z"
   },
   {
    "duration": 148,
    "start_time": "2022-12-06T04:27:23.367Z"
   },
   {
    "duration": 115,
    "start_time": "2022-12-06T04:27:37.776Z"
   },
   {
    "duration": 10,
    "start_time": "2022-12-06T04:28:45.502Z"
   },
   {
    "duration": 12,
    "start_time": "2022-12-06T04:28:49.126Z"
   },
   {
    "duration": 237,
    "start_time": "2022-12-06T04:30:20.133Z"
   },
   {
    "duration": 156,
    "start_time": "2022-12-06T04:32:10.099Z"
   },
   {
    "duration": 203,
    "start_time": "2022-12-06T04:32:14.746Z"
   },
   {
    "duration": 162,
    "start_time": "2022-12-06T04:32:24.664Z"
   },
   {
    "duration": 180,
    "start_time": "2022-12-06T04:32:51.644Z"
   },
   {
    "duration": 168,
    "start_time": "2022-12-06T04:33:25.659Z"
   },
   {
    "duration": 167,
    "start_time": "2022-12-06T04:33:42.875Z"
   },
   {
    "duration": 164,
    "start_time": "2022-12-06T04:33:48.027Z"
   },
   {
    "duration": 198,
    "start_time": "2022-12-06T04:33:53.947Z"
   },
   {
    "duration": 176,
    "start_time": "2022-12-06T04:33:59.402Z"
   },
   {
    "duration": 166,
    "start_time": "2022-12-06T04:35:08.650Z"
   },
   {
    "duration": 172,
    "start_time": "2022-12-06T04:35:29.881Z"
   },
   {
    "duration": 169,
    "start_time": "2022-12-06T04:35:37.841Z"
   },
   {
    "duration": 162,
    "start_time": "2022-12-06T04:35:48.815Z"
   },
   {
    "duration": 230,
    "start_time": "2022-12-06T04:36:01.842Z"
   },
   {
    "duration": 227,
    "start_time": "2022-12-06T04:37:29.846Z"
   },
   {
    "duration": 174,
    "start_time": "2022-12-06T04:38:40.431Z"
   },
   {
    "duration": 189,
    "start_time": "2022-12-06T04:39:05.335Z"
   },
   {
    "duration": 182,
    "start_time": "2022-12-06T04:40:25.718Z"
   },
   {
    "duration": 236,
    "start_time": "2022-12-06T04:41:16.253Z"
   },
   {
    "duration": 175,
    "start_time": "2022-12-06T04:41:48.141Z"
   },
   {
    "duration": 175,
    "start_time": "2022-12-06T04:41:54.533Z"
   },
   {
    "duration": 180,
    "start_time": "2022-12-06T04:41:57.983Z"
   },
   {
    "duration": 312,
    "start_time": "2022-12-06T04:42:08.276Z"
   },
   {
    "duration": 318,
    "start_time": "2022-12-06T04:42:21.061Z"
   },
   {
    "duration": 250,
    "start_time": "2022-12-06T04:42:34.988Z"
   },
   {
    "duration": 309,
    "start_time": "2022-12-06T04:42:53.532Z"
   },
   {
    "duration": 16,
    "start_time": "2022-12-06T04:43:23.020Z"
   },
   {
    "duration": 15,
    "start_time": "2022-12-06T04:43:27.676Z"
   },
   {
    "duration": 178,
    "start_time": "2022-12-06T04:44:41.947Z"
   },
   {
    "duration": 208,
    "start_time": "2022-12-06T04:44:57.138Z"
   },
   {
    "duration": 187,
    "start_time": "2022-12-06T04:45:01.026Z"
   },
   {
    "duration": 187,
    "start_time": "2022-12-06T04:45:05.562Z"
   },
   {
    "duration": 681,
    "start_time": "2022-12-06T04:45:36.126Z"
   },
   {
    "duration": 0,
    "start_time": "2022-12-06T04:45:36.809Z"
   },
   {
    "duration": 0,
    "start_time": "2022-12-06T04:45:36.811Z"
   },
   {
    "duration": 0,
    "start_time": "2022-12-06T04:45:36.812Z"
   },
   {
    "duration": 0,
    "start_time": "2022-12-06T04:45:36.813Z"
   },
   {
    "duration": 0,
    "start_time": "2022-12-06T04:45:36.815Z"
   },
   {
    "duration": 0,
    "start_time": "2022-12-06T04:45:36.822Z"
   },
   {
    "duration": 0,
    "start_time": "2022-12-06T04:45:36.824Z"
   },
   {
    "duration": 0,
    "start_time": "2022-12-06T04:45:36.825Z"
   },
   {
    "duration": 0,
    "start_time": "2022-12-06T04:45:36.827Z"
   },
   {
    "duration": 0,
    "start_time": "2022-12-06T04:45:36.828Z"
   },
   {
    "duration": 0,
    "start_time": "2022-12-06T04:45:36.829Z"
   },
   {
    "duration": 0,
    "start_time": "2022-12-06T04:45:36.831Z"
   },
   {
    "duration": 0,
    "start_time": "2022-12-06T04:45:36.832Z"
   },
   {
    "duration": 0,
    "start_time": "2022-12-06T04:45:36.834Z"
   },
   {
    "duration": 0,
    "start_time": "2022-12-06T04:45:36.835Z"
   },
   {
    "duration": 0,
    "start_time": "2022-12-06T04:45:36.837Z"
   },
   {
    "duration": 0,
    "start_time": "2022-12-06T04:45:36.838Z"
   },
   {
    "duration": 0,
    "start_time": "2022-12-06T04:45:36.839Z"
   },
   {
    "duration": 0,
    "start_time": "2022-12-06T04:45:36.841Z"
   },
   {
    "duration": 9,
    "start_time": "2022-12-06T04:45:43.075Z"
   },
   {
    "duration": 627,
    "start_time": "2022-12-06T04:45:54.576Z"
   },
   {
    "duration": 0,
    "start_time": "2022-12-06T04:45:55.205Z"
   },
   {
    "duration": 0,
    "start_time": "2022-12-06T04:45:55.206Z"
   },
   {
    "duration": 0,
    "start_time": "2022-12-06T04:45:55.207Z"
   },
   {
    "duration": 0,
    "start_time": "2022-12-06T04:45:55.208Z"
   },
   {
    "duration": 0,
    "start_time": "2022-12-06T04:45:55.209Z"
   },
   {
    "duration": 0,
    "start_time": "2022-12-06T04:45:55.210Z"
   },
   {
    "duration": 0,
    "start_time": "2022-12-06T04:45:55.211Z"
   },
   {
    "duration": 0,
    "start_time": "2022-12-06T04:45:55.222Z"
   },
   {
    "duration": 0,
    "start_time": "2022-12-06T04:45:55.224Z"
   },
   {
    "duration": 0,
    "start_time": "2022-12-06T04:45:55.225Z"
   },
   {
    "duration": 0,
    "start_time": "2022-12-06T04:45:55.226Z"
   },
   {
    "duration": 0,
    "start_time": "2022-12-06T04:45:55.227Z"
   },
   {
    "duration": 0,
    "start_time": "2022-12-06T04:45:55.228Z"
   },
   {
    "duration": 0,
    "start_time": "2022-12-06T04:45:55.229Z"
   },
   {
    "duration": 0,
    "start_time": "2022-12-06T04:45:55.230Z"
   },
   {
    "duration": 0,
    "start_time": "2022-12-06T04:45:55.231Z"
   },
   {
    "duration": 0,
    "start_time": "2022-12-06T04:45:55.233Z"
   },
   {
    "duration": 0,
    "start_time": "2022-12-06T04:45:55.234Z"
   },
   {
    "duration": 0,
    "start_time": "2022-12-06T04:45:55.235Z"
   },
   {
    "duration": 625,
    "start_time": "2022-12-06T04:46:08.814Z"
   },
   {
    "duration": 2,
    "start_time": "2022-12-06T04:46:09.441Z"
   },
   {
    "duration": 77,
    "start_time": "2022-12-06T04:46:09.444Z"
   },
   {
    "duration": 19,
    "start_time": "2022-12-06T04:46:09.523Z"
   },
   {
    "duration": 18,
    "start_time": "2022-12-06T04:46:09.544Z"
   },
   {
    "duration": 18,
    "start_time": "2022-12-06T04:46:09.563Z"
   },
   {
    "duration": 3,
    "start_time": "2022-12-06T04:46:09.583Z"
   },
   {
    "duration": 36,
    "start_time": "2022-12-06T04:46:09.588Z"
   },
   {
    "duration": 9,
    "start_time": "2022-12-06T04:46:09.626Z"
   },
   {
    "duration": 13,
    "start_time": "2022-12-06T04:46:09.636Z"
   },
   {
    "duration": 15,
    "start_time": "2022-12-06T04:46:09.650Z"
   },
   {
    "duration": 9,
    "start_time": "2022-12-06T04:46:09.667Z"
   },
   {
    "duration": 12,
    "start_time": "2022-12-06T04:46:09.677Z"
   },
   {
    "duration": 15,
    "start_time": "2022-12-06T04:46:09.692Z"
   },
   {
    "duration": 21,
    "start_time": "2022-12-06T04:46:09.708Z"
   },
   {
    "duration": 12,
    "start_time": "2022-12-06T04:46:09.730Z"
   },
   {
    "duration": 181,
    "start_time": "2022-12-06T04:46:09.744Z"
   },
   {
    "duration": 140,
    "start_time": "2022-12-06T04:46:09.927Z"
   },
   {
    "duration": 13,
    "start_time": "2022-12-06T04:46:10.069Z"
   },
   {
    "duration": 273,
    "start_time": "2022-12-06T04:46:10.084Z"
   },
   {
    "duration": 163,
    "start_time": "2022-12-06T04:47:47.232Z"
   },
   {
    "duration": 183,
    "start_time": "2022-12-06T04:48:11.450Z"
   },
   {
    "duration": 241,
    "start_time": "2022-12-06T04:48:21.833Z"
   },
   {
    "duration": 182,
    "start_time": "2022-12-06T04:49:12.497Z"
   },
   {
    "duration": 178,
    "start_time": "2022-12-06T04:49:23.297Z"
   },
   {
    "duration": 192,
    "start_time": "2022-12-06T04:49:44.976Z"
   },
   {
    "duration": 182,
    "start_time": "2022-12-06T04:49:50.800Z"
   },
   {
    "duration": 180,
    "start_time": "2022-12-06T04:49:55.520Z"
   },
   {
    "duration": 262,
    "start_time": "2022-12-06T04:51:54.936Z"
   },
   {
    "duration": 258,
    "start_time": "2022-12-06T04:52:16.679Z"
   },
   {
    "duration": 283,
    "start_time": "2022-12-06T04:53:07.094Z"
   },
   {
    "duration": 293,
    "start_time": "2022-12-06T04:53:23.509Z"
   },
   {
    "duration": 264,
    "start_time": "2022-12-06T04:58:25.060Z"
   },
   {
    "duration": 247,
    "start_time": "2022-12-06T04:59:18.226Z"
   },
   {
    "duration": 187,
    "start_time": "2022-12-06T05:00:00.242Z"
   },
   {
    "duration": 233,
    "start_time": "2022-12-06T05:00:23.977Z"
   },
   {
    "duration": 266,
    "start_time": "2022-12-06T05:04:46.807Z"
   },
   {
    "duration": 306,
    "start_time": "2022-12-06T05:04:54.223Z"
   },
   {
    "duration": 289,
    "start_time": "2022-12-06T05:05:09.035Z"
   },
   {
    "duration": 817,
    "start_time": "2022-12-06T11:40:04.013Z"
   },
   {
    "duration": 614,
    "start_time": "2022-12-06T11:40:08.225Z"
   },
   {
    "duration": 3,
    "start_time": "2022-12-06T11:40:08.841Z"
   },
   {
    "duration": 223,
    "start_time": "2022-12-06T11:40:08.845Z"
   },
   {
    "duration": 21,
    "start_time": "2022-12-06T11:40:09.070Z"
   },
   {
    "duration": 21,
    "start_time": "2022-12-06T11:40:09.093Z"
   },
   {
    "duration": 17,
    "start_time": "2022-12-06T11:40:09.117Z"
   },
   {
    "duration": 3,
    "start_time": "2022-12-06T11:40:09.136Z"
   },
   {
    "duration": 16,
    "start_time": "2022-12-06T11:40:09.141Z"
   },
   {
    "duration": 6,
    "start_time": "2022-12-06T11:40:09.159Z"
   },
   {
    "duration": 15,
    "start_time": "2022-12-06T11:40:09.168Z"
   },
   {
    "duration": 10,
    "start_time": "2022-12-06T11:40:09.185Z"
   },
   {
    "duration": 24,
    "start_time": "2022-12-06T11:40:09.197Z"
   },
   {
    "duration": 10,
    "start_time": "2022-12-06T11:40:09.223Z"
   },
   {
    "duration": 14,
    "start_time": "2022-12-06T11:40:09.235Z"
   },
   {
    "duration": 18,
    "start_time": "2022-12-06T11:40:09.251Z"
   },
   {
    "duration": 8,
    "start_time": "2022-12-06T11:40:09.271Z"
   },
   {
    "duration": 178,
    "start_time": "2022-12-06T11:40:09.282Z"
   },
   {
    "duration": 131,
    "start_time": "2022-12-06T11:40:09.461Z"
   },
   {
    "duration": 25,
    "start_time": "2022-12-06T11:40:09.594Z"
   },
   {
    "duration": 289,
    "start_time": "2022-12-06T11:40:09.620Z"
   },
   {
    "duration": 208,
    "start_time": "2022-12-06T11:40:09.911Z"
   },
   {
    "duration": 324,
    "start_time": "2022-12-06T11:40:10.121Z"
   },
   {
    "duration": 264,
    "start_time": "2022-12-06T11:40:10.446Z"
   },
   {
    "duration": 333,
    "start_time": "2022-12-06T11:40:10.715Z"
   },
   {
    "duration": 136,
    "start_time": "2022-12-06T11:41:27.083Z"
   },
   {
    "duration": 134,
    "start_time": "2022-12-06T11:42:06.692Z"
   },
   {
    "duration": 127,
    "start_time": "2022-12-06T11:44:10.083Z"
   },
   {
    "duration": 69,
    "start_time": "2022-12-06T11:44:24.808Z"
   },
   {
    "duration": 128,
    "start_time": "2022-12-06T11:44:51.202Z"
   },
   {
    "duration": 117,
    "start_time": "2022-12-06T11:45:23.674Z"
   },
   {
    "duration": 115,
    "start_time": "2022-12-06T11:45:30.233Z"
   },
   {
    "duration": 120,
    "start_time": "2022-12-06T11:45:53.673Z"
   },
   {
    "duration": 146,
    "start_time": "2022-12-06T11:46:00.256Z"
   },
   {
    "duration": 142,
    "start_time": "2022-12-06T11:48:49.742Z"
   },
   {
    "duration": 210,
    "start_time": "2022-12-06T11:48:58.758Z"
   },
   {
    "duration": 300,
    "start_time": "2022-12-06T11:49:04.623Z"
   },
   {
    "duration": 203,
    "start_time": "2022-12-06T11:49:10.294Z"
   },
   {
    "duration": 294,
    "start_time": "2022-12-06T11:49:15.950Z"
   },
   {
    "duration": 194,
    "start_time": "2022-12-06T11:49:20.334Z"
   },
   {
    "duration": 204,
    "start_time": "2022-12-06T11:50:11.389Z"
   },
   {
    "duration": 159,
    "start_time": "2022-12-06T11:59:07.567Z"
   },
   {
    "duration": 49,
    "start_time": "2022-12-07T03:31:51.539Z"
   },
   {
    "duration": 756,
    "start_time": "2022-12-07T03:31:56.396Z"
   },
   {
    "duration": 3,
    "start_time": "2022-12-07T03:31:57.154Z"
   },
   {
    "duration": 250,
    "start_time": "2022-12-07T03:31:57.158Z"
   },
   {
    "duration": 22,
    "start_time": "2022-12-07T03:31:57.410Z"
   },
   {
    "duration": 22,
    "start_time": "2022-12-07T03:31:57.434Z"
   },
   {
    "duration": 21,
    "start_time": "2022-12-07T03:31:57.458Z"
   },
   {
    "duration": 6,
    "start_time": "2022-12-07T03:31:57.481Z"
   },
   {
    "duration": 13,
    "start_time": "2022-12-07T03:31:57.489Z"
   },
   {
    "duration": 5,
    "start_time": "2022-12-07T03:31:57.504Z"
   },
   {
    "duration": 11,
    "start_time": "2022-12-07T03:31:57.511Z"
   },
   {
    "duration": 7,
    "start_time": "2022-12-07T03:31:57.523Z"
   },
   {
    "duration": 8,
    "start_time": "2022-12-07T03:31:57.532Z"
   },
   {
    "duration": 37,
    "start_time": "2022-12-07T03:31:57.541Z"
   },
   {
    "duration": 4,
    "start_time": "2022-12-07T03:31:57.581Z"
   },
   {
    "duration": 13,
    "start_time": "2022-12-07T03:31:57.587Z"
   },
   {
    "duration": 7,
    "start_time": "2022-12-07T03:31:57.601Z"
   },
   {
    "duration": 183,
    "start_time": "2022-12-07T03:31:57.610Z"
   },
   {
    "duration": 134,
    "start_time": "2022-12-07T03:31:57.795Z"
   },
   {
    "duration": 14,
    "start_time": "2022-12-07T03:31:57.931Z"
   },
   {
    "duration": 311,
    "start_time": "2022-12-07T03:31:57.947Z"
   },
   {
    "duration": 210,
    "start_time": "2022-12-07T03:31:58.260Z"
   },
   {
    "duration": 325,
    "start_time": "2022-12-07T03:31:58.478Z"
   },
   {
    "duration": 270,
    "start_time": "2022-12-07T03:31:58.805Z"
   },
   {
    "duration": 313,
    "start_time": "2022-12-07T03:31:59.076Z"
   },
   {
    "duration": 155,
    "start_time": "2022-12-07T03:31:59.391Z"
   },
   {
    "duration": 213,
    "start_time": "2022-12-07T03:31:59.548Z"
   },
   {
    "duration": 0,
    "start_time": "2022-12-07T03:31:59.763Z"
   },
   {
    "duration": 5,
    "start_time": "2022-12-07T03:32:35.762Z"
   },
   {
    "duration": 176,
    "start_time": "2022-12-07T03:38:23.926Z"
   },
   {
    "duration": 132,
    "start_time": "2022-12-07T03:38:53.205Z"
   },
   {
    "duration": 137,
    "start_time": "2022-12-07T03:39:03.694Z"
   },
   {
    "duration": 658,
    "start_time": "2022-12-07T03:39:13.556Z"
   },
   {
    "duration": 3,
    "start_time": "2022-12-07T03:39:14.216Z"
   },
   {
    "duration": 86,
    "start_time": "2022-12-07T03:39:14.220Z"
   },
   {
    "duration": 18,
    "start_time": "2022-12-07T03:39:14.308Z"
   },
   {
    "duration": 18,
    "start_time": "2022-12-07T03:39:14.328Z"
   },
   {
    "duration": 16,
    "start_time": "2022-12-07T03:39:14.347Z"
   },
   {
    "duration": 5,
    "start_time": "2022-12-07T03:39:14.364Z"
   },
   {
    "duration": 14,
    "start_time": "2022-12-07T03:39:14.370Z"
   },
   {
    "duration": 6,
    "start_time": "2022-12-07T03:39:14.385Z"
   },
   {
    "duration": 11,
    "start_time": "2022-12-07T03:39:14.393Z"
   },
   {
    "duration": 10,
    "start_time": "2022-12-07T03:39:14.406Z"
   },
   {
    "duration": 12,
    "start_time": "2022-12-07T03:39:14.418Z"
   },
   {
    "duration": 15,
    "start_time": "2022-12-07T03:39:14.432Z"
   },
   {
    "duration": 10,
    "start_time": "2022-12-07T03:39:14.450Z"
   },
   {
    "duration": 20,
    "start_time": "2022-12-07T03:39:14.461Z"
   },
   {
    "duration": 12,
    "start_time": "2022-12-07T03:39:14.482Z"
   },
   {
    "duration": 164,
    "start_time": "2022-12-07T03:39:14.495Z"
   },
   {
    "duration": 124,
    "start_time": "2022-12-07T03:39:14.661Z"
   },
   {
    "duration": 11,
    "start_time": "2022-12-07T03:39:14.787Z"
   },
   {
    "duration": 283,
    "start_time": "2022-12-07T03:39:14.799Z"
   },
   {
    "duration": 202,
    "start_time": "2022-12-07T03:39:15.084Z"
   },
   {
    "duration": 282,
    "start_time": "2022-12-07T03:39:15.287Z"
   },
   {
    "duration": 273,
    "start_time": "2022-12-07T03:39:15.571Z"
   },
   {
    "duration": 322,
    "start_time": "2022-12-07T03:39:15.845Z"
   },
   {
    "duration": 158,
    "start_time": "2022-12-07T03:39:16.169Z"
   },
   {
    "duration": 223,
    "start_time": "2022-12-07T03:39:16.328Z"
   },
   {
    "duration": 0,
    "start_time": "2022-12-07T03:39:16.552Z"
   },
   {
    "duration": 0,
    "start_time": "2022-12-07T03:39:16.554Z"
   },
   {
    "duration": 171,
    "start_time": "2022-12-07T03:39:47.797Z"
   },
   {
    "duration": 135,
    "start_time": "2022-12-07T03:40:03.533Z"
   },
   {
    "duration": 9,
    "start_time": "2022-12-07T03:41:23.276Z"
   },
   {
    "duration": 156,
    "start_time": "2022-12-07T03:41:34.892Z"
   },
   {
    "duration": 162,
    "start_time": "2022-12-07T03:41:43.453Z"
   },
   {
    "duration": 146,
    "start_time": "2022-12-07T03:41:57.180Z"
   },
   {
    "duration": 143,
    "start_time": "2022-12-07T03:42:07.532Z"
   },
   {
    "duration": 149,
    "start_time": "2022-12-07T03:42:12.364Z"
   },
   {
    "duration": 184,
    "start_time": "2022-12-07T03:42:23.084Z"
   },
   {
    "duration": 137,
    "start_time": "2022-12-07T03:42:32.468Z"
   },
   {
    "duration": 166,
    "start_time": "2022-12-07T03:43:15.019Z"
   },
   {
    "duration": 177,
    "start_time": "2022-12-07T03:43:37.939Z"
   },
   {
    "duration": 9,
    "start_time": "2022-12-07T03:47:26.744Z"
   },
   {
    "duration": 10,
    "start_time": "2022-12-07T03:47:29.193Z"
   },
   {
    "duration": 9,
    "start_time": "2022-12-07T03:47:31.161Z"
   },
   {
    "duration": 10,
    "start_time": "2022-12-07T03:47:38.705Z"
   },
   {
    "duration": 128,
    "start_time": "2022-12-07T03:47:52.384Z"
   },
   {
    "duration": 125,
    "start_time": "2022-12-07T03:47:57.176Z"
   },
   {
    "duration": 142,
    "start_time": "2022-12-07T03:48:05.168Z"
   },
   {
    "duration": 157,
    "start_time": "2022-12-07T03:48:25.816Z"
   },
   {
    "duration": 138,
    "start_time": "2022-12-07T03:48:31.336Z"
   },
   {
    "duration": 147,
    "start_time": "2022-12-07T03:48:51.255Z"
   },
   {
    "duration": 157,
    "start_time": "2022-12-07T03:49:13.072Z"
   },
   {
    "duration": 213,
    "start_time": "2022-12-07T03:49:31.384Z"
   },
   {
    "duration": 5,
    "start_time": "2022-12-07T03:50:46.774Z"
   },
   {
    "duration": 5,
    "start_time": "2022-12-07T03:51:14.398Z"
   },
   {
    "duration": 5,
    "start_time": "2022-12-07T03:51:21.822Z"
   },
   {
    "duration": 5,
    "start_time": "2022-12-07T03:51:24.366Z"
   },
   {
    "duration": 5,
    "start_time": "2022-12-07T03:51:39.622Z"
   },
   {
    "duration": 1125,
    "start_time": "2022-12-07T04:01:18.505Z"
   },
   {
    "duration": 2,
    "start_time": "2022-12-07T04:01:19.632Z"
   },
   {
    "duration": 92,
    "start_time": "2022-12-07T04:01:19.636Z"
   },
   {
    "duration": 19,
    "start_time": "2022-12-07T04:01:19.729Z"
   },
   {
    "duration": 22,
    "start_time": "2022-12-07T04:01:19.750Z"
   },
   {
    "duration": 20,
    "start_time": "2022-12-07T04:01:19.774Z"
   },
   {
    "duration": 3,
    "start_time": "2022-12-07T04:01:19.796Z"
   },
   {
    "duration": 12,
    "start_time": "2022-12-07T04:01:19.801Z"
   },
   {
    "duration": 8,
    "start_time": "2022-12-07T04:01:19.815Z"
   },
   {
    "duration": 14,
    "start_time": "2022-12-07T04:01:19.825Z"
   },
   {
    "duration": 11,
    "start_time": "2022-12-07T04:01:19.841Z"
   },
   {
    "duration": 27,
    "start_time": "2022-12-07T04:01:19.853Z"
   },
   {
    "duration": 22,
    "start_time": "2022-12-07T04:01:19.882Z"
   },
   {
    "duration": 15,
    "start_time": "2022-12-07T04:01:19.906Z"
   },
   {
    "duration": 24,
    "start_time": "2022-12-07T04:01:19.923Z"
   },
   {
    "duration": 26,
    "start_time": "2022-12-07T04:01:19.948Z"
   },
   {
    "duration": 195,
    "start_time": "2022-12-07T04:01:19.976Z"
   },
   {
    "duration": 136,
    "start_time": "2022-12-07T04:01:20.173Z"
   },
   {
    "duration": 16,
    "start_time": "2022-12-07T04:01:20.311Z"
   },
   {
    "duration": 342,
    "start_time": "2022-12-07T04:01:20.328Z"
   },
   {
    "duration": 227,
    "start_time": "2022-12-07T04:01:20.678Z"
   },
   {
    "duration": 305,
    "start_time": "2022-12-07T04:01:20.907Z"
   },
   {
    "duration": 225,
    "start_time": "2022-12-07T04:01:21.214Z"
   },
   {
    "duration": 307,
    "start_time": "2022-12-07T04:01:21.440Z"
   },
   {
    "duration": 142,
    "start_time": "2022-12-07T04:01:21.749Z"
   },
   {
    "duration": 141,
    "start_time": "2022-12-07T04:01:21.893Z"
   },
   {
    "duration": 6,
    "start_time": "2022-12-07T04:01:22.036Z"
   },
   {
    "duration": 184,
    "start_time": "2022-12-07T04:01:22.044Z"
   },
   {
    "duration": 226,
    "start_time": "2022-12-07T04:01:22.230Z"
   },
   {
    "duration": 5,
    "start_time": "2022-12-07T04:01:22.458Z"
   },
   {
    "duration": 191,
    "start_time": "2022-12-07T04:04:48.996Z"
   },
   {
    "duration": 95,
    "start_time": "2022-12-07T04:05:52.644Z"
   },
   {
    "duration": 257,
    "start_time": "2022-12-07T04:06:20.843Z"
   },
   {
    "duration": 214,
    "start_time": "2022-12-07T04:09:49.983Z"
   },
   {
    "duration": 130,
    "start_time": "2022-12-07T04:14:08.685Z"
   },
   {
    "duration": 97,
    "start_time": "2022-12-07T04:14:53.652Z"
   },
   {
    "duration": 6,
    "start_time": "2022-12-07T04:35:35.496Z"
   },
   {
    "duration": 73,
    "start_time": "2022-12-07T04:52:41.244Z"
   },
   {
    "duration": 29,
    "start_time": "2022-12-07T04:53:11.043Z"
   },
   {
    "duration": 24,
    "start_time": "2022-12-07T04:53:24.043Z"
   },
   {
    "duration": 87,
    "start_time": "2022-12-07T05:15:32.210Z"
   },
   {
    "duration": 9,
    "start_time": "2022-12-07T05:21:02.646Z"
   },
   {
    "duration": 22,
    "start_time": "2022-12-07T05:21:50.901Z"
   },
   {
    "duration": 78,
    "start_time": "2022-12-07T05:23:12.180Z"
   },
   {
    "duration": 4,
    "start_time": "2022-12-07T05:25:58.171Z"
   },
   {
    "duration": 4,
    "start_time": "2022-12-07T05:26:31.706Z"
   },
   {
    "duration": 20,
    "start_time": "2022-12-07T05:26:41.586Z"
   },
   {
    "duration": 9,
    "start_time": "2022-12-07T05:27:18.242Z"
   },
   {
    "duration": 10,
    "start_time": "2022-12-07T05:41:01.297Z"
   },
   {
    "duration": 12,
    "start_time": "2022-12-07T05:41:09.417Z"
   },
   {
    "duration": 12,
    "start_time": "2022-12-07T05:41:28.065Z"
   },
   {
    "duration": 15,
    "start_time": "2022-12-07T05:45:41.280Z"
   },
   {
    "duration": 9,
    "start_time": "2022-12-07T05:45:43.430Z"
   },
   {
    "duration": 21,
    "start_time": "2022-12-07T05:46:10.992Z"
   },
   {
    "duration": 10,
    "start_time": "2022-12-07T05:49:05.755Z"
   },
   {
    "duration": 73,
    "start_time": "2022-12-07T05:52:28.145Z"
   },
   {
    "duration": 2,
    "start_time": "2022-12-07T05:57:02.406Z"
   },
   {
    "duration": 2,
    "start_time": "2022-12-07T05:57:07.896Z"
   },
   {
    "duration": 1367,
    "start_time": "2022-12-08T03:43:22.071Z"
   },
   {
    "duration": 3,
    "start_time": "2022-12-08T03:43:23.444Z"
   },
   {
    "duration": 327,
    "start_time": "2022-12-08T03:43:23.449Z"
   },
   {
    "duration": 30,
    "start_time": "2022-12-08T03:43:23.779Z"
   },
   {
    "duration": 31,
    "start_time": "2022-12-08T03:43:23.811Z"
   },
   {
    "duration": 45,
    "start_time": "2022-12-08T03:43:23.844Z"
   },
   {
    "duration": 53,
    "start_time": "2022-12-08T03:43:23.891Z"
   },
   {
    "duration": 33,
    "start_time": "2022-12-08T03:43:23.946Z"
   },
   {
    "duration": 15,
    "start_time": "2022-12-08T03:43:23.981Z"
   },
   {
    "duration": 17,
    "start_time": "2022-12-08T03:43:23.999Z"
   },
   {
    "duration": 50,
    "start_time": "2022-12-08T03:43:24.018Z"
   },
   {
    "duration": 42,
    "start_time": "2022-12-08T03:43:24.071Z"
   },
   {
    "duration": 78,
    "start_time": "2022-12-08T03:43:24.115Z"
   },
   {
    "duration": 19,
    "start_time": "2022-12-08T03:43:24.195Z"
   },
   {
    "duration": 100,
    "start_time": "2022-12-08T03:43:24.217Z"
   },
   {
    "duration": 62,
    "start_time": "2022-12-08T03:43:24.320Z"
   },
   {
    "duration": 258,
    "start_time": "2022-12-08T03:43:24.384Z"
   },
   {
    "duration": 180,
    "start_time": "2022-12-08T03:43:24.643Z"
   },
   {
    "duration": 17,
    "start_time": "2022-12-08T03:43:24.825Z"
   },
   {
    "duration": 411,
    "start_time": "2022-12-08T03:43:24.844Z"
   },
   {
    "duration": 228,
    "start_time": "2022-12-08T03:43:25.256Z"
   },
   {
    "duration": 351,
    "start_time": "2022-12-08T03:43:25.485Z"
   },
   {
    "duration": 220,
    "start_time": "2022-12-08T03:43:25.838Z"
   },
   {
    "duration": 301,
    "start_time": "2022-12-08T03:43:26.059Z"
   },
   {
    "duration": 146,
    "start_time": "2022-12-08T03:43:26.362Z"
   },
   {
    "duration": 148,
    "start_time": "2022-12-08T03:43:26.510Z"
   },
   {
    "duration": 5,
    "start_time": "2022-12-08T03:43:26.660Z"
   },
   {
    "duration": 175,
    "start_time": "2022-12-08T03:43:26.668Z"
   },
   {
    "duration": 242,
    "start_time": "2022-12-08T03:43:26.845Z"
   },
   {
    "duration": 5,
    "start_time": "2022-12-08T03:43:27.088Z"
   },
   {
    "duration": 237,
    "start_time": "2022-12-08T03:43:27.094Z"
   },
   {
    "duration": 168,
    "start_time": "2022-12-08T03:43:27.332Z"
   },
   {
    "duration": 8,
    "start_time": "2022-12-08T03:43:27.502Z"
   },
   {
    "duration": 24,
    "start_time": "2022-12-08T03:43:27.512Z"
   },
   {
    "duration": 23,
    "start_time": "2022-12-08T03:43:27.543Z"
   },
   {
    "duration": 10,
    "start_time": "2022-12-08T03:43:27.568Z"
   },
   {
    "duration": 12,
    "start_time": "2022-12-08T03:43:27.580Z"
   },
   {
    "duration": 10,
    "start_time": "2022-12-08T03:43:27.594Z"
   },
   {
    "duration": 26,
    "start_time": "2022-12-08T03:43:27.630Z"
   },
   {
    "duration": 10,
    "start_time": "2022-12-08T03:43:27.657Z"
   },
   {
    "duration": 317,
    "start_time": "2022-12-08T04:20:23.949Z"
   },
   {
    "duration": 1131,
    "start_time": "2022-12-08T06:47:25.064Z"
   },
   {
    "duration": 3,
    "start_time": "2022-12-08T06:47:26.197Z"
   },
   {
    "duration": 233,
    "start_time": "2022-12-08T06:47:26.201Z"
   },
   {
    "duration": 21,
    "start_time": "2022-12-08T06:47:26.436Z"
   },
   {
    "duration": 29,
    "start_time": "2022-12-08T06:47:26.458Z"
   },
   {
    "duration": 18,
    "start_time": "2022-12-08T06:47:26.490Z"
   },
   {
    "duration": 11,
    "start_time": "2022-12-08T06:47:26.510Z"
   },
   {
    "duration": 23,
    "start_time": "2022-12-08T06:47:26.523Z"
   },
   {
    "duration": 14,
    "start_time": "2022-12-08T06:47:26.548Z"
   },
   {
    "duration": 25,
    "start_time": "2022-12-08T06:47:26.565Z"
   },
   {
    "duration": 20,
    "start_time": "2022-12-08T06:47:26.592Z"
   },
   {
    "duration": 12,
    "start_time": "2022-12-08T06:47:26.614Z"
   },
   {
    "duration": 15,
    "start_time": "2022-12-08T06:47:26.627Z"
   },
   {
    "duration": 11,
    "start_time": "2022-12-08T06:47:26.644Z"
   },
   {
    "duration": 37,
    "start_time": "2022-12-08T06:47:26.657Z"
   },
   {
    "duration": 12,
    "start_time": "2022-12-08T06:47:26.696Z"
   },
   {
    "duration": 191,
    "start_time": "2022-12-08T06:47:26.710Z"
   },
   {
    "duration": 134,
    "start_time": "2022-12-08T06:47:26.903Z"
   },
   {
    "duration": 12,
    "start_time": "2022-12-08T06:47:27.039Z"
   },
   {
    "duration": 321,
    "start_time": "2022-12-08T06:47:27.053Z"
   },
   {
    "duration": 214,
    "start_time": "2022-12-08T06:47:27.376Z"
   },
   {
    "duration": 302,
    "start_time": "2022-12-08T06:47:27.592Z"
   },
   {
    "duration": 294,
    "start_time": "2022-12-08T06:47:27.896Z"
   },
   {
    "duration": 366,
    "start_time": "2022-12-08T06:47:28.192Z"
   },
   {
    "duration": 163,
    "start_time": "2022-12-08T06:47:28.560Z"
   },
   {
    "duration": 164,
    "start_time": "2022-12-08T06:47:28.725Z"
   },
   {
    "duration": 7,
    "start_time": "2022-12-08T06:47:28.891Z"
   },
   {
    "duration": 181,
    "start_time": "2022-12-08T06:47:28.902Z"
   },
   {
    "duration": 293,
    "start_time": "2022-12-08T06:47:29.085Z"
   },
   {
    "duration": 6,
    "start_time": "2022-12-08T06:47:29.381Z"
   },
   {
    "duration": 252,
    "start_time": "2022-12-08T06:47:29.389Z"
   },
   {
    "duration": 158,
    "start_time": "2022-12-08T06:47:29.643Z"
   },
   {
    "duration": 7,
    "start_time": "2022-12-08T06:47:29.802Z"
   },
   {
    "duration": 7,
    "start_time": "2022-12-08T06:47:29.811Z"
   },
   {
    "duration": 41,
    "start_time": "2022-12-08T06:47:29.819Z"
   },
   {
    "duration": 10,
    "start_time": "2022-12-08T06:47:29.862Z"
   },
   {
    "duration": 12,
    "start_time": "2022-12-08T06:47:29.873Z"
   },
   {
    "duration": 8,
    "start_time": "2022-12-08T06:47:29.887Z"
   },
   {
    "duration": 44,
    "start_time": "2022-12-08T06:47:29.898Z"
   },
   {
    "duration": 10,
    "start_time": "2022-12-08T06:47:29.944Z"
   },
   {
    "duration": 94,
    "start_time": "2022-12-09T03:45:53.691Z"
   },
   {
    "duration": 1438,
    "start_time": "2022-12-09T03:46:45.796Z"
   },
   {
    "duration": 2,
    "start_time": "2022-12-09T03:46:47.236Z"
   },
   {
    "duration": 274,
    "start_time": "2022-12-09T03:46:47.240Z"
   },
   {
    "duration": 23,
    "start_time": "2022-12-09T03:46:47.519Z"
   },
   {
    "duration": 26,
    "start_time": "2022-12-09T03:46:47.545Z"
   },
   {
    "duration": 17,
    "start_time": "2022-12-09T03:46:47.572Z"
   },
   {
    "duration": 6,
    "start_time": "2022-12-09T03:46:47.590Z"
   },
   {
    "duration": 14,
    "start_time": "2022-12-09T03:46:47.617Z"
   },
   {
    "duration": 24,
    "start_time": "2022-12-09T03:46:47.634Z"
   },
   {
    "duration": 13,
    "start_time": "2022-12-09T03:46:47.662Z"
   },
   {
    "duration": 8,
    "start_time": "2022-12-09T03:46:47.677Z"
   },
   {
    "duration": 11,
    "start_time": "2022-12-09T03:46:47.687Z"
   },
   {
    "duration": 12,
    "start_time": "2022-12-09T03:46:47.700Z"
   },
   {
    "duration": 38,
    "start_time": "2022-12-09T03:46:47.714Z"
   },
   {
    "duration": 16,
    "start_time": "2022-12-09T03:46:47.753Z"
   },
   {
    "duration": 7,
    "start_time": "2022-12-09T03:46:47.771Z"
   },
   {
    "duration": 192,
    "start_time": "2022-12-09T03:46:47.780Z"
   },
   {
    "duration": 141,
    "start_time": "2022-12-09T03:46:47.974Z"
   },
   {
    "duration": 17,
    "start_time": "2022-12-09T03:46:48.121Z"
   },
   {
    "duration": 332,
    "start_time": "2022-12-09T03:46:48.139Z"
   },
   {
    "duration": 231,
    "start_time": "2022-12-09T03:46:48.472Z"
   },
   {
    "duration": 356,
    "start_time": "2022-12-09T03:46:48.705Z"
   },
   {
    "duration": 265,
    "start_time": "2022-12-09T03:46:49.063Z"
   },
   {
    "duration": 345,
    "start_time": "2022-12-09T03:46:49.334Z"
   },
   {
    "duration": 168,
    "start_time": "2022-12-09T03:46:49.681Z"
   },
   {
    "duration": 152,
    "start_time": "2022-12-09T03:46:49.850Z"
   },
   {
    "duration": 5,
    "start_time": "2022-12-09T03:46:50.003Z"
   },
   {
    "duration": 206,
    "start_time": "2022-12-09T03:46:50.019Z"
   },
   {
    "duration": 236,
    "start_time": "2022-12-09T03:46:50.232Z"
   },
   {
    "duration": 4,
    "start_time": "2022-12-09T03:46:50.470Z"
   },
   {
    "duration": 263,
    "start_time": "2022-12-09T03:46:50.476Z"
   },
   {
    "duration": 167,
    "start_time": "2022-12-09T03:46:50.743Z"
   },
   {
    "duration": 19,
    "start_time": "2022-12-09T03:46:50.912Z"
   },
   {
    "duration": 34,
    "start_time": "2022-12-09T03:46:50.933Z"
   },
   {
    "duration": 36,
    "start_time": "2022-12-09T03:46:50.969Z"
   },
   {
    "duration": 9,
    "start_time": "2022-12-09T03:46:51.006Z"
   },
   {
    "duration": 35,
    "start_time": "2022-12-09T03:46:51.023Z"
   },
   {
    "duration": 27,
    "start_time": "2022-12-09T03:46:51.060Z"
   },
   {
    "duration": 32,
    "start_time": "2022-12-09T03:46:51.089Z"
   },
   {
    "duration": 17,
    "start_time": "2022-12-09T03:46:51.124Z"
   },
   {
    "duration": 54,
    "start_time": "2022-12-09T03:48:50.299Z"
   },
   {
    "duration": 3,
    "start_time": "2022-12-09T03:49:21.587Z"
   },
   {
    "duration": 8,
    "start_time": "2022-12-09T03:50:29.243Z"
   },
   {
    "duration": 56,
    "start_time": "2022-12-09T03:50:41.795Z"
   },
   {
    "duration": 7,
    "start_time": "2022-12-09T03:50:45.603Z"
   },
   {
    "duration": 15,
    "start_time": "2022-12-09T03:51:11.074Z"
   },
   {
    "duration": 5,
    "start_time": "2022-12-09T03:51:39.778Z"
   },
   {
    "duration": 6,
    "start_time": "2022-12-09T03:51:41.130Z"
   },
   {
    "duration": 8,
    "start_time": "2022-12-09T03:54:53.552Z"
   },
   {
    "duration": 100,
    "start_time": "2022-12-09T03:56:52.967Z"
   },
   {
    "duration": 12,
    "start_time": "2022-12-09T03:57:48.142Z"
   },
   {
    "duration": 15,
    "start_time": "2022-12-09T03:57:49.333Z"
   },
   {
    "duration": 10,
    "start_time": "2022-12-09T03:57:57.181Z"
   },
   {
    "duration": 13,
    "start_time": "2022-12-09T03:58:17.798Z"
   },
   {
    "duration": 7,
    "start_time": "2022-12-09T03:58:51.853Z"
   },
   {
    "duration": 14,
    "start_time": "2022-12-09T03:59:03.789Z"
   },
   {
    "duration": 11,
    "start_time": "2022-12-09T03:59:24.365Z"
   },
   {
    "duration": 18,
    "start_time": "2022-12-09T04:00:10.957Z"
   },
   {
    "duration": 10,
    "start_time": "2022-12-09T04:00:37.063Z"
   },
   {
    "duration": 13,
    "start_time": "2022-12-09T04:00:44.533Z"
   },
   {
    "duration": 11,
    "start_time": "2022-12-09T04:01:36.883Z"
   },
   {
    "duration": 28,
    "start_time": "2022-12-09T04:01:42.011Z"
   },
   {
    "duration": 19,
    "start_time": "2022-12-09T04:02:04.035Z"
   },
   {
    "duration": 45,
    "start_time": "2022-12-09T04:02:30.291Z"
   },
   {
    "duration": 23,
    "start_time": "2022-12-09T04:02:38.749Z"
   },
   {
    "duration": 12,
    "start_time": "2022-12-09T04:02:48.443Z"
   },
   {
    "duration": 11,
    "start_time": "2022-12-09T04:03:32.681Z"
   },
   {
    "duration": 71,
    "start_time": "2022-12-09T04:12:16.887Z"
   },
   {
    "duration": 15,
    "start_time": "2022-12-09T04:12:30.654Z"
   },
   {
    "duration": 9,
    "start_time": "2022-12-09T04:12:37.148Z"
   },
   {
    "duration": 43,
    "start_time": "2022-12-09T04:12:38.744Z"
   },
   {
    "duration": 930,
    "start_time": "2022-12-09T04:12:55.739Z"
   },
   {
    "duration": 13,
    "start_time": "2022-12-09T04:13:09.653Z"
   },
   {
    "duration": 14,
    "start_time": "2022-12-09T04:13:22.439Z"
   },
   {
    "duration": 7,
    "start_time": "2022-12-09T04:14:50.941Z"
   },
   {
    "duration": 910,
    "start_time": "2022-12-09T04:15:06.901Z"
   },
   {
    "duration": 20,
    "start_time": "2022-12-09T04:15:16.843Z"
   },
   {
    "duration": 11,
    "start_time": "2022-12-09T04:15:28.145Z"
   },
   {
    "duration": 17,
    "start_time": "2022-12-09T04:16:00.812Z"
   },
   {
    "duration": 12,
    "start_time": "2022-12-09T04:16:11.750Z"
   },
   {
    "duration": 869,
    "start_time": "2022-12-09T04:16:37.173Z"
   },
   {
    "duration": 22,
    "start_time": "2022-12-09T04:17:32.957Z"
   },
   {
    "duration": 848,
    "start_time": "2022-12-09T04:17:46.364Z"
   },
   {
    "duration": 12,
    "start_time": "2022-12-09T04:17:55.357Z"
   },
   {
    "duration": 11,
    "start_time": "2022-12-09T04:17:59.948Z"
   },
   {
    "duration": 960,
    "start_time": "2022-12-09T04:18:20.742Z"
   },
   {
    "duration": 834,
    "start_time": "2022-12-09T04:18:37.070Z"
   },
   {
    "duration": 12,
    "start_time": "2022-12-09T04:18:51.499Z"
   },
   {
    "duration": 12,
    "start_time": "2022-12-09T04:19:57.539Z"
   },
   {
    "duration": 11,
    "start_time": "2022-12-09T04:20:04.851Z"
   },
   {
    "duration": 9,
    "start_time": "2022-12-09T04:20:06.804Z"
   },
   {
    "duration": 60,
    "start_time": "2022-12-09T05:03:56.833Z"
   },
   {
    "duration": 73,
    "start_time": "2022-12-09T05:04:04.416Z"
   },
   {
    "duration": 43,
    "start_time": "2022-12-09T05:04:14.442Z"
   },
   {
    "duration": 20,
    "start_time": "2022-12-09T05:04:25.712Z"
   },
   {
    "duration": 17,
    "start_time": "2022-12-09T05:04:35.751Z"
   },
   {
    "duration": 13,
    "start_time": "2022-12-09T05:04:51.152Z"
   },
   {
    "duration": 1011,
    "start_time": "2022-12-09T05:09:56.164Z"
   },
   {
    "duration": 213,
    "start_time": "2022-12-09T05:10:29.564Z"
   },
   {
    "duration": 197,
    "start_time": "2022-12-09T05:11:14.842Z"
   },
   {
    "duration": 212,
    "start_time": "2022-12-09T05:11:51.939Z"
   },
   {
    "duration": 88,
    "start_time": "2022-12-09T05:12:44.985Z"
   },
   {
    "duration": 316,
    "start_time": "2022-12-09T05:14:05.785Z"
   },
   {
    "duration": 359,
    "start_time": "2022-12-09T05:14:29.905Z"
   },
   {
    "duration": 311,
    "start_time": "2022-12-09T05:14:35.273Z"
   },
   {
    "duration": 305,
    "start_time": "2022-12-09T05:15:03.978Z"
   },
   {
    "duration": 246,
    "start_time": "2022-12-09T05:23:22.240Z"
   },
   {
    "duration": 230,
    "start_time": "2022-12-09T05:23:35.851Z"
   },
   {
    "duration": 390,
    "start_time": "2022-12-09T05:24:16.587Z"
   },
   {
    "duration": 323,
    "start_time": "2022-12-09T05:24:28.667Z"
   },
   {
    "duration": 343,
    "start_time": "2022-12-09T05:26:43.933Z"
   },
   {
    "duration": 352,
    "start_time": "2022-12-09T05:27:01.941Z"
   },
   {
    "duration": 66,
    "start_time": "2022-12-09T05:27:09.533Z"
   },
   {
    "duration": 44,
    "start_time": "2022-12-09T05:27:28.257Z"
   },
   {
    "duration": 156,
    "start_time": "2022-12-09T05:29:26.810Z"
   },
   {
    "duration": 8,
    "start_time": "2022-12-09T05:31:21.069Z"
   },
   {
    "duration": 10,
    "start_time": "2022-12-09T05:31:44.448Z"
   },
   {
    "duration": 83,
    "start_time": "2022-12-09T05:36:07.398Z"
   },
   {
    "duration": 83,
    "start_time": "2022-12-09T05:38:36.693Z"
   },
   {
    "duration": 8,
    "start_time": "2022-12-09T05:50:26.215Z"
   },
   {
    "duration": 14,
    "start_time": "2022-12-09T05:50:44.443Z"
   },
   {
    "duration": 55,
    "start_time": "2022-12-09T05:51:37.209Z"
   },
   {
    "duration": 11,
    "start_time": "2022-12-09T05:51:41.593Z"
   },
   {
    "duration": 9,
    "start_time": "2022-12-09T05:51:46.688Z"
   },
   {
    "duration": 13,
    "start_time": "2022-12-09T05:51:59.608Z"
   },
   {
    "duration": 6,
    "start_time": "2022-12-09T05:52:01.000Z"
   },
   {
    "duration": 10,
    "start_time": "2022-12-09T05:52:02.256Z"
   },
   {
    "duration": 1023,
    "start_time": "2022-12-09T05:52:08.428Z"
   },
   {
    "duration": 3,
    "start_time": "2022-12-09T05:52:09.453Z"
   },
   {
    "duration": 87,
    "start_time": "2022-12-09T05:52:09.457Z"
   },
   {
    "duration": 19,
    "start_time": "2022-12-09T05:52:09.545Z"
   },
   {
    "duration": 14,
    "start_time": "2022-12-09T05:52:09.566Z"
   },
   {
    "duration": 21,
    "start_time": "2022-12-09T05:52:09.582Z"
   },
   {
    "duration": 7,
    "start_time": "2022-12-09T05:52:09.605Z"
   },
   {
    "duration": 24,
    "start_time": "2022-12-09T05:52:09.613Z"
   },
   {
    "duration": 9,
    "start_time": "2022-12-09T05:52:09.639Z"
   },
   {
    "duration": 13,
    "start_time": "2022-12-09T05:52:09.649Z"
   },
   {
    "duration": 7,
    "start_time": "2022-12-09T05:52:09.663Z"
   },
   {
    "duration": 8,
    "start_time": "2022-12-09T05:52:09.672Z"
   },
   {
    "duration": 7,
    "start_time": "2022-12-09T05:52:09.682Z"
   },
   {
    "duration": 12,
    "start_time": "2022-12-09T05:52:09.692Z"
   },
   {
    "duration": 5,
    "start_time": "2022-12-09T05:52:09.705Z"
   },
   {
    "duration": 17,
    "start_time": "2022-12-09T05:52:09.711Z"
   },
   {
    "duration": 6,
    "start_time": "2022-12-09T05:52:09.729Z"
   },
   {
    "duration": 14,
    "start_time": "2022-12-09T05:52:09.736Z"
   },
   {
    "duration": 6,
    "start_time": "2022-12-09T05:52:09.751Z"
   },
   {
    "duration": 12,
    "start_time": "2022-12-09T05:52:09.758Z"
   },
   {
    "duration": 214,
    "start_time": "2022-12-09T05:52:09.772Z"
   },
   {
    "duration": 5,
    "start_time": "2022-12-09T05:52:09.987Z"
   },
   {
    "duration": 173,
    "start_time": "2022-12-09T05:52:09.994Z"
   },
   {
    "duration": 125,
    "start_time": "2022-12-09T05:52:10.169Z"
   },
   {
    "duration": 22,
    "start_time": "2022-12-09T05:52:10.296Z"
   },
   {
    "duration": 270,
    "start_time": "2022-12-09T05:52:10.328Z"
   },
   {
    "duration": 202,
    "start_time": "2022-12-09T05:52:10.601Z"
   },
   {
    "duration": 298,
    "start_time": "2022-12-09T05:52:10.805Z"
   },
   {
    "duration": 205,
    "start_time": "2022-12-09T05:52:11.105Z"
   },
   {
    "duration": 330,
    "start_time": "2022-12-09T05:52:11.316Z"
   },
   {
    "duration": 159,
    "start_time": "2022-12-09T05:52:11.647Z"
   },
   {
    "duration": 161,
    "start_time": "2022-12-09T05:52:11.808Z"
   },
   {
    "duration": 5,
    "start_time": "2022-12-09T05:52:11.970Z"
   },
   {
    "duration": 256,
    "start_time": "2022-12-09T05:52:11.976Z"
   },
   {
    "duration": 145,
    "start_time": "2022-12-09T05:52:12.234Z"
   },
   {
    "duration": 5,
    "start_time": "2022-12-09T05:52:12.381Z"
   },
   {
    "duration": 241,
    "start_time": "2022-12-09T05:52:12.388Z"
   },
   {
    "duration": 144,
    "start_time": "2022-12-09T05:52:12.631Z"
   },
   {
    "duration": 6,
    "start_time": "2022-12-09T05:52:12.777Z"
   },
   {
    "duration": 9,
    "start_time": "2022-12-09T05:52:12.784Z"
   },
   {
    "duration": 43,
    "start_time": "2022-12-09T05:52:12.796Z"
   },
   {
    "duration": 8,
    "start_time": "2022-12-09T05:52:12.841Z"
   },
   {
    "duration": 12,
    "start_time": "2022-12-09T05:52:12.850Z"
   },
   {
    "duration": 7,
    "start_time": "2022-12-09T05:52:12.864Z"
   },
   {
    "duration": 60,
    "start_time": "2022-12-09T05:52:12.872Z"
   },
   {
    "duration": 11,
    "start_time": "2022-12-09T05:52:12.934Z"
   },
   {
    "duration": 8,
    "start_time": "2022-12-09T05:53:39.344Z"
   },
   {
    "duration": 109,
    "start_time": "2022-12-09T05:53:47.471Z"
   },
   {
    "duration": 9,
    "start_time": "2022-12-09T05:53:54.367Z"
   },
   {
    "duration": 10,
    "start_time": "2022-12-09T05:54:01.750Z"
   },
   {
    "duration": 6,
    "start_time": "2022-12-09T05:54:05.405Z"
   },
   {
    "duration": 14,
    "start_time": "2022-12-09T05:54:06.070Z"
   },
   {
    "duration": 13,
    "start_time": "2022-12-09T05:55:33.884Z"
   },
   {
    "duration": 1123,
    "start_time": "2022-12-09T05:56:11.334Z"
   },
   {
    "duration": 3,
    "start_time": "2022-12-09T05:56:12.459Z"
   },
   {
    "duration": 107,
    "start_time": "2022-12-09T05:56:12.464Z"
   },
   {
    "duration": 21,
    "start_time": "2022-12-09T05:56:12.573Z"
   },
   {
    "duration": 32,
    "start_time": "2022-12-09T05:56:12.596Z"
   },
   {
    "duration": 48,
    "start_time": "2022-12-09T05:56:12.633Z"
   },
   {
    "duration": 15,
    "start_time": "2022-12-09T05:56:12.683Z"
   },
   {
    "duration": 17,
    "start_time": "2022-12-09T05:56:12.700Z"
   },
   {
    "duration": 46,
    "start_time": "2022-12-09T05:56:12.721Z"
   },
   {
    "duration": 13,
    "start_time": "2022-12-09T05:56:12.771Z"
   },
   {
    "duration": 12,
    "start_time": "2022-12-09T05:56:12.786Z"
   },
   {
    "duration": 14,
    "start_time": "2022-12-09T05:56:12.800Z"
   },
   {
    "duration": 60,
    "start_time": "2022-12-09T05:56:12.816Z"
   },
   {
    "duration": 23,
    "start_time": "2022-12-09T05:56:12.878Z"
   },
   {
    "duration": 14,
    "start_time": "2022-12-09T05:56:12.903Z"
   },
   {
    "duration": 53,
    "start_time": "2022-12-09T05:56:12.923Z"
   },
   {
    "duration": 15,
    "start_time": "2022-12-09T05:56:12.978Z"
   },
   {
    "duration": 12,
    "start_time": "2022-12-09T05:56:12.995Z"
   },
   {
    "duration": 18,
    "start_time": "2022-12-09T05:56:13.008Z"
   },
   {
    "duration": 259,
    "start_time": "2022-12-09T05:56:13.028Z"
   },
   {
    "duration": 8,
    "start_time": "2022-12-09T05:56:13.288Z"
   },
   {
    "duration": 207,
    "start_time": "2022-12-09T05:56:13.298Z"
   },
   {
    "duration": 143,
    "start_time": "2022-12-09T05:56:13.507Z"
   },
   {
    "duration": 12,
    "start_time": "2022-12-09T05:56:13.654Z"
   },
   {
    "duration": 321,
    "start_time": "2022-12-09T05:56:13.668Z"
   },
   {
    "duration": 244,
    "start_time": "2022-12-09T05:56:13.992Z"
   },
   {
    "duration": 319,
    "start_time": "2022-12-09T05:56:14.237Z"
   },
   {
    "duration": 267,
    "start_time": "2022-12-09T05:56:14.561Z"
   },
   {
    "duration": 362,
    "start_time": "2022-12-09T05:56:14.829Z"
   },
   {
    "duration": 178,
    "start_time": "2022-12-09T05:56:15.193Z"
   },
   {
    "duration": 166,
    "start_time": "2022-12-09T05:56:15.372Z"
   },
   {
    "duration": 6,
    "start_time": "2022-12-09T05:56:15.539Z"
   },
   {
    "duration": 270,
    "start_time": "2022-12-09T05:56:15.552Z"
   },
   {
    "duration": 170,
    "start_time": "2022-12-09T05:56:15.823Z"
   },
   {
    "duration": 6,
    "start_time": "2022-12-09T05:56:15.995Z"
   },
   {
    "duration": 357,
    "start_time": "2022-12-09T05:56:16.003Z"
   },
   {
    "duration": 214,
    "start_time": "2022-12-09T05:56:16.366Z"
   },
   {
    "duration": 7,
    "start_time": "2022-12-09T05:56:16.582Z"
   },
   {
    "duration": 26,
    "start_time": "2022-12-09T05:56:16.592Z"
   },
   {
    "duration": 87,
    "start_time": "2022-12-09T05:56:16.619Z"
   },
   {
    "duration": 9,
    "start_time": "2022-12-09T05:56:16.708Z"
   },
   {
    "duration": 50,
    "start_time": "2022-12-09T05:56:16.719Z"
   },
   {
    "duration": 9,
    "start_time": "2022-12-09T05:56:16.771Z"
   },
   {
    "duration": 23,
    "start_time": "2022-12-09T05:56:16.781Z"
   },
   {
    "duration": 18,
    "start_time": "2022-12-09T05:56:16.806Z"
   },
   {
    "duration": 2,
    "start_time": "2022-12-09T05:58:28.294Z"
   },
   {
    "duration": 3,
    "start_time": "2022-12-09T06:00:10.435Z"
   },
   {
    "duration": 50,
    "start_time": "2022-12-09T06:04:48.135Z"
   }
  ],
  "kernelspec": {
   "display_name": "Python 3 (ipykernel)",
   "language": "python",
   "name": "python3"
  },
  "language_info": {
   "codemirror_mode": {
    "name": "ipython",
    "version": 3
   },
   "file_extension": ".py",
   "mimetype": "text/x-python",
   "name": "python",
   "nbconvert_exporter": "python",
   "pygments_lexer": "ipython3",
   "version": "3.9.12"
  },
  "toc": {
   "base_numbering": 1,
   "nav_menu": {},
   "number_sections": true,
   "sideBar": true,
   "skip_h1_title": true,
   "title_cell": "Table of Contents",
   "title_sidebar": "Contents",
   "toc_cell": false,
   "toc_position": {},
   "toc_section_display": true,
   "toc_window_display": false
  }
 },
 "nbformat": 4,
 "nbformat_minor": 2
}
